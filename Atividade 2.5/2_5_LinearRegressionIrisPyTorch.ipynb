{
  "cells": [
    {
      "cell_type": "markdown",
      "metadata": {
        "id": "4PHBzchPHif1"
      },
      "source": [
        "# Regressão Linear com PyTorch"
      ]
    },
    {
      "cell_type": "markdown",
      "metadata": {
        "id": "GujG54RVHif3"
      },
      "source": [
        "## Objetivo"
      ]
    },
    {
      "cell_type": "markdown",
      "metadata": {
        "id": "GGxcJJDOHif4"
      },
      "source": [
        "Este exemplo utiliza regressão linear para estimar o comprimento das sépalas da íris a partir do seu comprimento das pétalas.\n",
        "Utiliza-se\n",
        "- o cálculo do gradiente automático do PyTorch, porém\n",
        "- a função de perda e\n",
        "- atualização dos parâmetros é feita de forma explícita.\n",
        "- A rede é criada com uma camada nn.Linear()"
      ]
    },
    {
      "cell_type": "markdown",
      "metadata": {
        "id": "6Q1aL4eOHif5"
      },
      "source": [
        "![alt text](https://raw.githubusercontent.com/vcasadei/images/master/RegressaoLinear_Otimizacao.png)"
      ]
    },
    {
      "cell_type": "markdown",
      "metadata": {
        "id": "D-OH95H9Hif6"
      },
      "source": [
        "## Importação dos pacotes"
      ]
    },
    {
      "cell_type": "code",
      "execution_count": 1,
      "metadata": {
        "ExecuteTime": {
          "end_time": "2017-11-23T23:50:37.321471Z",
          "start_time": "2017-11-23T23:50:35.620908Z"
        },
        "colab": {
          "base_uri": "https://localhost:8080/"
        },
        "id": "Rwd6UgfSHif8",
        "outputId": "6f84183d-0a28-4238-b0ff-83a8701ad816"
      },
      "outputs": [
        {
          "output_type": "execute_result",
          "data": {
            "text/plain": [
              "<torch._C.Generator at 0x77fda3b7a6b0>"
            ]
          },
          "metadata": {},
          "execution_count": 1
        }
      ],
      "source": [
        "%matplotlib inline\n",
        "import matplotlib.pyplot as plt\n",
        "\n",
        "import numpy as np\n",
        "from sklearn.datasets import load_iris\n",
        "\n",
        "import torch\n",
        "from torch import nn, optim\n",
        "from torch.autograd import Variable\n",
        "\n",
        "torch.manual_seed(1234)"
      ]
    },
    {
      "cell_type": "markdown",
      "metadata": {
        "id": "tM6s6TDZHigH"
      },
      "source": [
        "## Leitura dos dados"
      ]
    },
    {
      "cell_type": "code",
      "execution_count": 2,
      "metadata": {
        "ExecuteTime": {
          "end_time": "2017-11-23T23:50:37.352459Z",
          "start_time": "2017-11-23T23:50:37.324344Z"
        },
        "colab": {
          "base_uri": "https://localhost:8080/"
        },
        "id": "e4YFUL0MHigI",
        "outputId": "15f9c263-5b1d-444a-e0c1-4fab6752dc31"
      },
      "outputs": [
        {
          "output_type": "stream",
          "name": "stdout",
          "text": [
            "x_train.shape: (50, 1) float32\n",
            "y_train.shape: (50, 1) float32\n",
            "x_train[:5]:\n",
            " [[7. ]\n",
            " [6.4]\n",
            " [6.9]\n",
            " [5.5]\n",
            " [6.5]]\n",
            "y_train[:5]:\n",
            " [[4.7]\n",
            " [4.5]\n",
            " [4.9]\n",
            " [4. ]\n",
            " [4.6]]\n"
          ]
        }
      ],
      "source": [
        "iris = load_iris()\n",
        "data = iris.data[iris.target==1,::2]  # comprimento das sépalas e pétalas, indices 0 e 2\n",
        "\n",
        "x_train = data[:,0:1].astype(np.float32)\n",
        "y_train = data[:,1:2].astype(np.float32)\n",
        "\n",
        "n_samples = x_train.shape[0]\n",
        "print('x_train.shape:',x_train.shape, x_train.dtype)\n",
        "print('y_train.shape:',y_train.shape, y_train.dtype)\n",
        "\n",
        "print('x_train[:5]:\\n', x_train[:5])\n",
        "print('y_train[:5]:\\n', y_train[:5])"
      ]
    },
    {
      "cell_type": "markdown",
      "metadata": {
        "id": "KiBZegbaHigL"
      },
      "source": [
        "### Normalização dos dados"
      ]
    },
    {
      "cell_type": "code",
      "execution_count": 3,
      "metadata": {
        "ExecuteTime": {
          "end_time": "2017-11-23T23:50:37.369738Z",
          "start_time": "2017-11-23T23:50:37.355827Z"
        },
        "id": "LXJmFubQHigN"
      },
      "outputs": [],
      "source": [
        "x_train -= x_train.min()\n",
        "x_train /= x_train.max()\n",
        "y_train -= y_train.min()\n",
        "y_train /= y_train.max()\n"
      ]
    },
    {
      "cell_type": "code",
      "execution_count": 4,
      "metadata": {
        "colab": {
          "base_uri": "https://localhost:8080/"
        },
        "id": "nYq87NbdHxZF",
        "outputId": "60c9544f-b852-461b-9576-c50d345ffc2d"
      },
      "outputs": [
        {
          "output_type": "stream",
          "name": "stdout",
          "text": [
            "x_train[:5]:\n",
            " [[1.        ]\n",
            " [0.71428573]\n",
            " [0.952381  ]\n",
            " [0.28571424]\n",
            " [0.7619048 ]]\n",
            "y_train[:5]:\n",
            " [[0.80952376]\n",
            " [0.71428573]\n",
            " [0.90476197]\n",
            " [0.4761905 ]\n",
            " [0.7619048 ]]\n"
          ]
        }
      ],
      "source": [
        "print('x_train[:5]:\\n', x_train[:5])\n",
        "print('y_train[:5]:\\n', y_train[:5])"
      ]
    },
    {
      "cell_type": "code",
      "execution_count": 5,
      "metadata": {
        "ExecuteTime": {
          "end_time": "2017-11-23T23:50:37.381683Z",
          "start_time": "2017-11-23T23:50:37.375245Z"
        },
        "id": "epxtUveAHigP"
      },
      "outputs": [],
      "source": [
        "x_train_bias = np.hstack([np.ones(shape=(n_samples,1)), x_train])"
      ]
    },
    {
      "cell_type": "code",
      "execution_count": 6,
      "metadata": {
        "colab": {
          "base_uri": "https://localhost:8080/"
        },
        "id": "AgObmWFjH5x7",
        "outputId": "355d0a84-f65f-44b9-aa38-d1ce68dc5383"
      },
      "outputs": [
        {
          "output_type": "execute_result",
          "data": {
            "text/plain": [
              "array([[1.        , 1.        ],\n",
              "       [1.        , 0.71428573],\n",
              "       [1.        , 0.95238101],\n",
              "       [1.        , 0.28571424],\n",
              "       [1.        , 0.76190478],\n",
              "       [1.        , 0.38095227],\n",
              "       [1.        , 0.66666675],\n",
              "       [1.        , 0.        ],\n",
              "       [1.        , 0.80952376],\n",
              "       [1.        , 0.14285702],\n",
              "       [1.        , 0.047619  ],\n",
              "       [1.        , 0.47619051],\n",
              "       [1.        , 0.52380949],\n",
              "       [1.        , 0.57142848],\n",
              "       [1.        , 0.33333325],\n",
              "       [1.        , 0.85714275],\n",
              "       [1.        , 0.33333325],\n",
              "       [1.        , 0.42857149],\n",
              "       [1.        , 0.61904752],\n",
              "       [1.        , 0.33333325],\n",
              "       [1.        , 0.47619051],\n",
              "       [1.        , 0.57142848],\n",
              "       [1.        , 0.66666675],\n",
              "       [1.        , 0.57142848],\n",
              "       [1.        , 0.71428573],\n",
              "       [1.        , 0.80952376],\n",
              "       [1.        , 0.90476197],\n",
              "       [1.        , 0.85714275],\n",
              "       [1.        , 0.52380949],\n",
              "       [1.        , 0.38095227],\n",
              "       [1.        , 0.28571424],\n",
              "       [1.        , 0.28571424],\n",
              "       [1.        , 0.42857149],\n",
              "       [1.        , 0.52380949],\n",
              "       [1.        , 0.23809525],\n",
              "       [1.        , 0.52380949],\n",
              "       [1.        , 0.85714275],\n",
              "       [1.        , 0.66666675],\n",
              "       [1.        , 0.33333325],\n",
              "       [1.        , 0.28571424],\n",
              "       [1.        , 0.28571424],\n",
              "       [1.        , 0.57142848],\n",
              "       [1.        , 0.42857149],\n",
              "       [1.        , 0.047619  ],\n",
              "       [1.        , 0.33333325],\n",
              "       [1.        , 0.38095227],\n",
              "       [1.        , 0.38095227],\n",
              "       [1.        , 0.61904752],\n",
              "       [1.        , 0.09523801],\n",
              "       [1.        , 0.38095227]])"
            ]
          },
          "metadata": {},
          "execution_count": 6
        }
      ],
      "source": [
        "x_train_bias"
      ]
    },
    {
      "cell_type": "code",
      "execution_count": 7,
      "metadata": {
        "colab": {
          "base_uri": "https://localhost:8080/"
        },
        "id": "7seVsEbJIHb3",
        "outputId": "7bb425df-9ec6-438b-81f6-2d13149665d1"
      },
      "outputs": [
        {
          "output_type": "stream",
          "name": "stdout",
          "text": [
            "x_train_bias.shape: (50, 2) float64\n"
          ]
        }
      ],
      "source": [
        "print('x_train_bias.shape:',x_train_bias.shape, x_train_bias.dtype)"
      ]
    },
    {
      "cell_type": "code",
      "execution_count": 8,
      "metadata": {
        "ExecuteTime": {
          "end_time": "2017-11-23T23:50:37.396626Z",
          "start_time": "2017-11-23T23:50:37.389139Z"
        },
        "colab": {
          "base_uri": "https://localhost:8080/"
        },
        "id": "3Enuu3LxHigR",
        "outputId": "d52ae1fd-247d-4613-d0c1-9df096a0582d"
      },
      "outputs": [
        {
          "output_type": "stream",
          "name": "stdout",
          "text": [
            "tensor([[0.8095],\n",
            "        [0.7143],\n",
            "        [0.9048],\n",
            "        [0.4762],\n",
            "        [0.7619],\n",
            "        [0.7143],\n",
            "        [0.8095],\n",
            "        [0.1429],\n",
            "        [0.7619],\n",
            "        [0.4286],\n",
            "        [0.2381],\n",
            "        [0.5714],\n",
            "        [0.4762],\n",
            "        [0.8095],\n",
            "        [0.2857],\n",
            "        [0.6667],\n",
            "        [0.7143],\n",
            "        [0.5238],\n",
            "        [0.7143],\n",
            "        [0.4286],\n",
            "        [0.8571],\n",
            "        [0.4762],\n",
            "        [0.9048],\n",
            "        [0.8095],\n",
            "        [0.6190],\n",
            "        [0.6667],\n",
            "        [0.8571],\n",
            "        [0.9524],\n",
            "        [0.7143],\n",
            "        [0.2381],\n",
            "        [0.3810],\n",
            "        [0.3333],\n",
            "        [0.4286],\n",
            "        [1.0000],\n",
            "        [0.7143],\n",
            "        [0.7143],\n",
            "        [0.8095],\n",
            "        [0.6667],\n",
            "        [0.5238],\n",
            "        [0.4762],\n",
            "        [0.6667],\n",
            "        [0.7619],\n",
            "        [0.4762],\n",
            "        [0.1429],\n",
            "        [0.5714],\n",
            "        [0.5714],\n",
            "        [0.5714],\n",
            "        [0.6190],\n",
            "        [0.0000],\n",
            "        [0.5238]])\n"
          ]
        }
      ],
      "source": [
        "x_train_bias = torch.FloatTensor(x_train_bias)\n",
        "y_train      = torch.FloatTensor(y_train)\n",
        "print(y_train)"
      ]
    },
    {
      "cell_type": "markdown",
      "metadata": {
        "id": "35kUVzdrHigU"
      },
      "source": [
        "## Model"
      ]
    },
    {
      "cell_type": "markdown",
      "metadata": {
        "id": "8nv8uX7uHigU"
      },
      "source": [
        "![alt text](https://raw.githubusercontent.com/vcasadei/images/master/RegressaoLinearNeuronio.png)"
      ]
    },
    {
      "cell_type": "code",
      "execution_count": 9,
      "metadata": {
        "ExecuteTime": {
          "end_time": "2017-11-23T23:50:37.403510Z",
          "start_time": "2017-11-23T23:50:37.399234Z"
        },
        "id": "Ngq9EEi8HigV"
      },
      "outputs": [],
      "source": [
        "#Inicialização usando toch.nn.Linear\n",
        "\n",
        "model = torch.nn.Linear(in_features=2, out_features=1, bias=False)"
      ]
    },
    {
      "cell_type": "markdown",
      "metadata": {
        "id": "fz0E6uU2HigY"
      },
      "source": [
        "### Verificando a inicialização dos parâmetros"
      ]
    },
    {
      "cell_type": "code",
      "execution_count": 10,
      "metadata": {
        "ExecuteTime": {
          "end_time": "2017-11-23T23:50:37.418969Z",
          "start_time": "2017-11-23T23:50:37.409713Z"
        },
        "colab": {
          "base_uri": "https://localhost:8080/"
        },
        "id": "aKnVpTrnHigZ",
        "outputId": "e21e28ec-89aa-401b-ae79-4fa5fb939b51"
      },
      "outputs": [
        {
          "output_type": "stream",
          "name": "stderr",
          "text": [
            "<ipython-input-10-4472ed23bcd1>:2: FutureWarning: `nn.init.uniform` is now deprecated in favor of `nn.init.uniform_`.\n",
            "  torch.nn.init.uniform(model.weight.data, -0.1, 0.1)\n"
          ]
        },
        {
          "output_type": "execute_result",
          "data": {
            "text/plain": [
              "Parameter containing:\n",
              "tensor([[-0.0480, -0.0267]], requires_grad=True)"
            ]
          },
          "metadata": {},
          "execution_count": 10
        }
      ],
      "source": [
        "model.weight.data = torch.zeros(1,2)\n",
        "torch.nn.init.uniform(model.weight.data, -0.1, 0.1)\n",
        "model.weight"
      ]
    },
    {
      "cell_type": "markdown",
      "metadata": {
        "id": "mq22EwyFHigc"
      },
      "source": [
        "### Testando o predict da rede"
      ]
    },
    {
      "cell_type": "code",
      "execution_count": 11,
      "metadata": {
        "ExecuteTime": {
          "end_time": "2017-11-23T23:50:37.497945Z",
          "start_time": "2017-11-23T23:50:37.422209Z"
        },
        "colab": {
          "base_uri": "https://localhost:8080/"
        },
        "id": "dyCO8PL_Hige",
        "outputId": "62569d6f-a6a0-4820-e9eb-a4ee4d973ba7"
      },
      "outputs": [
        {
          "output_type": "execute_result",
          "data": {
            "text/plain": [
              "tensor([[1., 1.],\n",
              "        [1., 1.],\n",
              "        [1., 1.],\n",
              "        [1., 1.],\n",
              "        [1., 1.]])"
            ]
          },
          "metadata": {},
          "execution_count": 11
        }
      ],
      "source": [
        "xx = torch.ones((5,2))\n",
        "xx"
      ]
    },
    {
      "cell_type": "code",
      "execution_count": 12,
      "metadata": {
        "colab": {
          "base_uri": "https://localhost:8080/"
        },
        "id": "kpxZmYMsJF7F",
        "outputId": "0ded5516-f997-446d-d816-52303f42f3e9"
      },
      "outputs": [
        {
          "output_type": "execute_result",
          "data": {
            "text/plain": [
              "tensor([[-0.0747],\n",
              "        [-0.0747],\n",
              "        [-0.0747],\n",
              "        [-0.0747],\n",
              "        [-0.0747]], grad_fn=<MmBackward0>)"
            ]
          },
          "metadata": {},
          "execution_count": 12
        }
      ],
      "source": [
        "model(Variable(xx))"
      ]
    },
    {
      "cell_type": "markdown",
      "metadata": {
        "id": "llozQQShHigg"
      },
      "source": [
        "## Treinamento"
      ]
    },
    {
      "cell_type": "code",
      "execution_count": 13,
      "metadata": {
        "ExecuteTime": {
          "end_time": "2017-11-23T23:50:37.534983Z",
          "start_time": "2017-11-23T23:50:37.501215Z"
        },
        "colab": {
          "base_uri": "https://localhost:8080/"
        },
        "id": "GEY2W_eaHigh",
        "outputId": "efbac81f-8555-4a12-a452-d252bd3da432",
        "scrolled": false
      },
      "outputs": [
        {
          "output_type": "stream",
          "name": "stdout",
          "text": [
            "Epoch[20/100], loss: 0.022983\n",
            "Epoch[40/100], loss: 0.021432\n",
            "Epoch[60/100], loss: 0.021207\n",
            "Epoch[80/100], loss: 0.021175\n",
            "Epoch[100/100], loss: 0.021170\n"
          ]
        }
      ],
      "source": [
        "num_epochs = 100\n",
        "learning_rate = 0.5\n",
        "for epoch in range(num_epochs):\n",
        "    inputs = Variable(x_train_bias)\n",
        "    target = Variable(y_train)\n",
        "\n",
        "    # forward - predict\n",
        "    y_pred = model(x_train_bias)\n",
        "\n",
        "    #loss cálculo da função de perda\n",
        "    loss = torch.mean((y_pred - y_train)**2)\n",
        "\n",
        "    # backward propagation - cálculo gradient\n",
        "    loss.backward()\n",
        "\n",
        "    # gradiente descendente\n",
        "    model.weight.data = model.weight.data - learning_rate * model.weight.grad.data\n",
        "\n",
        "    # zeragem parâmetros próximo cálculo do gradiente\n",
        "    model.weight.grad.data.zero_()\n",
        "\n",
        "    # verbose\n",
        "    if (epoch+1) % 20 == 0:\n",
        "        print('Epoch[{}/{}], loss: {:.6f}'\n",
        "              .format(epoch+1, num_epochs, loss.data))"
      ]
    },
    {
      "cell_type": "markdown",
      "metadata": {
        "heading_collapsed": true,
        "id": "OyUB8WAmHigk"
      },
      "source": [
        "## Avaliação"
      ]
    },
    {
      "cell_type": "code",
      "execution_count": 14,
      "metadata": {
        "ExecuteTime": {
          "end_time": "2017-11-23T23:50:37.785652Z",
          "start_time": "2017-11-23T23:50:37.538639Z"
        },
        "hidden": true,
        "id": "9ire-2nCHigl",
        "outputId": "e2bffc80-40ad-485a-a9e2-0212d0905251",
        "colab": {
          "base_uri": "https://localhost:8080/",
          "height": 430
        }
      },
      "outputs": [
        {
          "output_type": "display_data",
          "data": {
            "text/plain": [
              "<Figure size 640x480 with 1 Axes>"
            ],
            "image/png": "[encoded data removed]"
          },
          "metadata": {}
        }
      ],
      "source": [
        "y_pred = model(Variable(x_train_bias))\n",
        "plt.plot(x_train, y_train.numpy(), 'ro', label='Original data')\n",
        "plt.plot(x_train, y_pred.data.numpy(), 'kx-', label='Fitting Line')\n",
        "plt.show()"
      ]
    },
    {
      "cell_type": "markdown",
      "metadata": {
        "hidden": true,
        "id": "-jQncN7PHigp"
      },
      "source": [
        "### Acessando os parâmetros"
      ]
    },
    {
      "cell_type": "code",
      "execution_count": 15,
      "metadata": {
        "ExecuteTime": {
          "end_time": "2017-11-23T23:50:37.797767Z",
          "start_time": "2017-11-23T23:50:37.787839Z"
        },
        "hidden": true,
        "id": "byxPWYlFHigq",
        "outputId": "8848739f-0352-452a-dfa7-b62b8a55a4a6",
        "colab": {
          "base_uri": "https://localhost:8080/"
        }
      },
      "outputs": [
        {
          "output_type": "execute_result",
          "data": {
            "text/plain": [
              "OrderedDict([('weight', tensor([[0.2631, 0.6830]]))])"
            ]
          },
          "metadata": {},
          "execution_count": 15
        }
      ],
      "source": [
        "w_dic = model.state_dict()\n",
        "w_dic"
      ]
    },
    {
      "cell_type": "markdown",
      "metadata": {
        "hidden": true,
        "id": "mGK_1QtNHigw"
      },
      "source": [
        "### Parâmetros ótimos, solução analítica"
      ]
    },
    {
      "cell_type": "code",
      "execution_count": 16,
      "metadata": {
        "ExecuteTime": {
          "end_time": "2017-11-23T23:50:37.809980Z",
          "start_time": "2017-11-23T23:50:37.800833Z"
        },
        "hidden": true,
        "id": "5jrFm0pXHigx",
        "outputId": "1049c5a2-d5ea-43c0-e236-cb446ac1ae4c",
        "colab": {
          "base_uri": "https://localhost:8080/"
        }
      },
      "outputs": [
        {
          "output_type": "stream",
          "name": "stdout",
          "text": [
            "tensor([[0.2613, 0.6865]])\n"
          ]
        }
      ],
      "source": [
        "x_bias = x_train_bias\n",
        "y = y_train\n",
        "x_bias_t = torch.t(x_bias)\n",
        "w_opt = (torch.inverse(x_bias_t.mm(x_bias)).mm(x_bias_t)).mm(y)\n",
        "print(torch.t(w_opt))"
      ]
    },
    {
      "cell_type": "markdown",
      "metadata": {
        "collapsed": true,
        "heading_collapsed": true,
        "id": "AmTLHbBcHig3"
      },
      "source": [
        "# Exercícios"
      ]
    },
    {
      "cell_type": "markdown",
      "metadata": {
        "hidden": true,
        "id": "0826M7y0Hig5"
      },
      "source": [
        "- 1) Por que no final da varredura do laço de treinamento, a perda é impressa utilizando\n",
        "   `loss.data`? Por que precisa do `data`?\n",
        "   "
      ]
    },
    {
      "cell_type": "markdown",
      "source": [
        "  **R:** `loss` é uma variável do tipo Tensor criado pela biblioteca Torch. Para acessar o seu conteúdo utiliza-se o atributo `data`."
      ],
      "metadata": {
        "id": "piEw5fZ65_hn"
      }
    },
    {
      "cell_type": "markdown",
      "metadata": {
        "hidden": true,
        "id": "cUhiv-56Hig5"
      },
      "source": [
        "- 2) Calcule e imprima o valor da perda (MSE) fazendo o predict da rede com os pesos já\n",
        "   treinados."
      ]
    },
    {
      "cell_type": "code",
      "source": [
        "y_pred = model(x_train_bias)\n",
        "loss = torch.mean((y_pred - y_train) ** 2)\n",
        "print(f'Perda após o treinamento: {loss.data:.6f}')"
      ],
      "metadata": {
        "colab": {
          "base_uri": "https://localhost:8080/"
        },
        "id": "Hs2wD7g36SfB",
        "outputId": "bae51b96-f21f-4dc9-d150-846757840e97"
      },
      "execution_count": 17,
      "outputs": [
        {
          "output_type": "stream",
          "name": "stdout",
          "text": [
            "Perda após o treinamento: 0.021170\n"
          ]
        }
      ]
    },
    {
      "cell_type": "markdown",
      "metadata": {
        "hidden": true,
        "id": "pwrS4OGkHig7"
      },
      "source": [
        "- 3) Crie duas listas `w0_list` e `w1_list` para guardar a evolução dos valores dos\n",
        "   parâmetros durante o laço de treinamento.\n",
        "   Modifique o exemplo do gráfico tipo **scatter plot** para visualizar a variação\n",
        "   dos parâmetros do modelo duas dimensões.\n",
        "   Marque neste gráfico o valor ótimo do parâmetro dado pela solução\n",
        "   analítica."
      ]
    },
    {
      "cell_type": "code",
      "source": [
        "model.weight.data = torch.zeros(1,2)\n",
        "torch.nn.init.uniform(model.weight.data, -0.1, 0.1)\n",
        "\n",
        "num_epochs = 100\n",
        "learning_rate = 0.5\n",
        "\n",
        "w0_list = []\n",
        "w1_list = []\n",
        "# Pesos iniciais\n",
        "w0_list.append(model.weight.data[0][0])\n",
        "w1_list.append(model.weight.data[0][1])\n",
        "\n",
        "inputs = Variable(x_train_bias)\n",
        "target = Variable(y_train)\n",
        "\n",
        "for epoch in range(num_epochs):\n",
        "    # forward - predict\n",
        "    y_pred = model(x_train_bias)\n",
        "\n",
        "    #loss cálculo da função de perda\n",
        "    loss = torch.mean((y_pred - y_train)**2)\n",
        "\n",
        "    # backward propagation - cálculo gradient\n",
        "    loss.backward()\n",
        "\n",
        "    # gradiente descendente\n",
        "    model.weight.data = model.weight.data - learning_rate * model.weight.grad.data\n",
        "    w0_list.append(model.weight.data[0][0])\n",
        "    w1_list.append(model.weight.data[0][1])\n",
        "\n",
        "    # zeragem parâmetros próximo cálculo do gradiente\n",
        "    model.weight.grad.data.zero_()\n",
        "\n",
        "    # verbose\n",
        "    if (epoch+1) % 20 == 0:\n",
        "        print('Epoch[{}/{}], loss: {:.6f}'\n",
        "              .format(epoch+1, num_epochs, loss.data))"
      ],
      "metadata": {
        "colab": {
          "base_uri": "https://localhost:8080/"
        },
        "id": "gbu0BM_nQYmu",
        "outputId": "6d0f44c5-5239-4278-d469-b4f3a294172d"
      },
      "execution_count": 18,
      "outputs": [
        {
          "output_type": "stream",
          "name": "stdout",
          "text": [
            "Epoch[20/100], loss: 0.022454\n",
            "Epoch[40/100], loss: 0.021355\n",
            "Epoch[60/100], loss: 0.021196\n",
            "Epoch[80/100], loss: 0.021173\n",
            "Epoch[100/100], loss: 0.021170\n"
          ]
        },
        {
          "output_type": "stream",
          "name": "stderr",
          "text": [
            "<ipython-input-18-bfab401583a5>:2: FutureWarning: `nn.init.uniform` is now deprecated in favor of `nn.init.uniform_`.\n",
            "  torch.nn.init.uniform(model.weight.data, -0.1, 0.1)\n"
          ]
        }
      ]
    },
    {
      "cell_type": "markdown",
      "metadata": {
        "hidden": true,
        "id": "9zKM4-2UHig7"
      },
      "source": [
        "## Ploting vectors"
      ]
    },
    {
      "cell_type": "code",
      "execution_count": 22,
      "metadata": {
        "ExecuteTime": {
          "end_time": "2017-11-23T23:57:26.723894Z",
          "start_time": "2017-11-23T23:57:26.517830Z"
        },
        "hidden": true,
        "id": "hXA1HhnsHig8",
        "outputId": "ac25c21d-695f-4b81-eee8-dc05dc1d1234",
        "colab": {
          "base_uri": "https://localhost:8080/",
          "height": 451
        }
      },
      "outputs": [
        {
          "output_type": "display_data",
          "data": {
            "text/plain": [
              "<Figure size 800x500 with 1 Axes>"
            ],
            "image/svg+xml": "<?xml version=\"1.0\" encoding=\"utf-8\" standalone=\"no\"?>\n<!DOCTYPE svg PUBLIC \"-//W3C//DTD SVG 1.1//EN\"\n  \"http://www.w3.org/Graphics/SVG/1.1/DTD/svg11.dtd\">\n<svg xmlns:xlink=\"http://www.w3.org/1999/xlink\" width=\"497.38125pt\" height=\"321.95625pt\" viewBox=\"0 0 497.38125 321.95625\" xmlns=\"http://www.w3.org/2000/svg\" version=\"1.1\">\n <metadata>\n  <rdf:RDF xmlns:dc=\"http://purl.org/dc/elements/1.1/\" xmlns:cc=\"http://creativecommons.org/ns#\" xmlns:rdf=\"http://www.w3.org/1999/02/22-rdf-syntax-ns#\">\n   <cc:Work>\n    <dc:type rdf:resource=\"http://purl.org/dc/dcmitype/StillImage\"/>\n    <dc:date>2024-11-23T13:51:26.316607</dc:date>\n    <dc:format>image/svg+xml</dc:format>\n    <dc:creator>\n     <cc:Agent>\n      <dc:title>Matplotlib v3.8.0, https://matplotlib.org/</dc:title>\n     </cc:Agent>\n    </dc:creator>\n   </cc:Work>\n  </rdf:RDF>\n </metadata>\n <defs>\n  <style type=\"text/css\">*{stroke-linejoin: round; stroke-linecap: butt}</style>\n </defs>\n <g id=\"figure_1\">\n  <g id=\"patch_1\">\n   <path d=\"M 0 321.95625 \nL 497.38125 321.95625 \nL 497.38125 0 \nL 0 0 \nz\n\" style=\"fill: #ffffff\"/>\n  </g>\n  <g id=\"axes_1\">\n   <g id=\"patch_2\">\n    <path d=\"M 43.78125 284.4 \nL 490.18125 284.4 \nL 490.18125 7.2 \nL 43.78125 7.2 \nz\n\" style=\"fill: #ffffff\"/>\n   </g>\n   <g id=\"PathCollection_1\">\n    <defs>\n     <path id=\"m792156dd3e\" d=\"M 0 3 \nC 0.795609 3 1.55874 2.683901 2.12132 2.12132 \nC 2.683901 1.55874 3 0.795609 3 0 \nC 3 -0.795609 2.683901 -1.55874 2.12132 -2.12132 \nC 1.55874 -2.683901 0.795609 -3 0 -3 \nC -0.795609 -3 -1.55874 -2.683901 -2.12132 -2.12132 \nC -2.683901 -1.55874 -3 -0.795609 -3 0 \nC -3 0.795609 -2.683901 1.55874 -2.12132 2.12132 \nC -1.55874 2.683901 -0.795609 3 0 3 \nz\n\" style=\"stroke: #1f77b4\"/>\n    </defs>\n    <g clip-path=\"url(#p1ac60193f4)\">\n     <use xlink:href=\"#m792156dd3e\" x=\"64.218441\" y=\"271.629341\" style=\"fill: #1f77b4; stroke: #1f77b4\"/>\n     <use xlink:href=\"#m792156dd3e\" x=\"469.777058\" y=\"128.215995\" style=\"fill: #1f77b4; stroke: #1f77b4\"/>\n     <use xlink:href=\"#m792156dd3e\" x=\"359.620614\" y=\"156.700595\" style=\"fill: #1f77b4; stroke: #1f77b4\"/>\n     <use xlink:href=\"#m792156dd3e\" x=\"381.499768\" y=\"141.662583\" style=\"fill: #1f77b4; stroke: #1f77b4\"/>\n     <use xlink:href=\"#m792156dd3e\" x=\"369.949004\" y=\"138.107358\" style=\"fill: #1f77b4; stroke: #1f77b4\"/>\n     <use xlink:href=\"#m792156dd3e\" x=\"367.218207\" y=\"131.96798\" style=\"fill: #1f77b4; stroke: #1f77b4\"/>\n     <use xlink:href=\"#m792156dd3e\" x=\"362.502534\" y=\"126.821016\" style=\"fill: #1f77b4; stroke: #1f77b4\"/>\n     <use xlink:href=\"#m792156dd3e\" x=\"358.549126\" y=\"121.737267\" style=\"fill: #1f77b4; stroke: #1f77b4\"/>\n     <use xlink:href=\"#m792156dd3e\" x=\"354.644279\" y=\"116.939129\" style=\"fill: #1f77b4; stroke: #1f77b4\"/>\n     <use xlink:href=\"#m792156dd3e\" x=\"350.958802\" y=\"112.355563\" style=\"fill: #1f77b4; stroke: #1f77b4\"/>\n     <use xlink:href=\"#m792156dd3e\" x=\"347.438151\" y=\"107.991145\" style=\"fill: #1f77b4; stroke: #1f77b4\"/>\n     <use xlink:href=\"#m792156dd3e\" x=\"344.085816\" y=\"103.8318\" style=\"fill: #1f77b4; stroke: #1f77b4\"/>\n     <use xlink:href=\"#m792156dd3e\" x=\"340.891003\" y=\"99.868808\" style=\"fill: #1f77b4; stroke: #1f77b4\"/>\n     <use xlink:href=\"#m792156dd3e\" x=\"337.847006\" y=\"96.092671\" style=\"fill: #1f77b4; stroke: #1f77b4\"/>\n     <use xlink:href=\"#m792156dd3e\" x=\"334.946555\" y=\"92.494623\" style=\"fill: #1f77b4; stroke: #1f77b4\"/>\n     <use xlink:href=\"#m792156dd3e\" x=\"332.182872\" y=\"89.066278\" style=\"fill: #1f77b4; stroke: #1f77b4\"/>\n     <use xlink:href=\"#m792156dd3e\" x=\"329.549539\" y=\"85.799615\" style=\"fill: #1f77b4; stroke: #1f77b4\"/>\n     <use xlink:href=\"#m792156dd3e\" x=\"327.040391\" y=\"82.687015\" style=\"fill: #1f77b4; stroke: #1f77b4\"/>\n     <use xlink:href=\"#m792156dd3e\" x=\"324.649605\" y=\"79.721187\" style=\"fill: #1f77b4; stroke: #1f77b4\"/>\n     <use xlink:href=\"#m792156dd3e\" x=\"322.371525\" y=\"76.895256\" style=\"fill: #1f77b4; stroke: #1f77b4\"/>\n     <use xlink:href=\"#m792156dd3e\" x=\"320.200924\" y=\"74.20258\" style=\"fill: #1f77b4; stroke: #1f77b4\"/>\n     <use xlink:href=\"#m792156dd3e\" x=\"318.132668\" y=\"71.63689\" style=\"fill: #1f77b4; stroke: #1f77b4\"/>\n     <use xlink:href=\"#m792156dd3e\" x=\"316.161948\" y=\"69.192216\" style=\"fill: #1f77b4; stroke: #1f77b4\"/>\n     <use xlink:href=\"#m792156dd3e\" x=\"314.28419\" y=\"66.862823\" style=\"fill: #1f77b4; stroke: #1f77b4\"/>\n     <use xlink:href=\"#m792156dd3e\" x=\"312.494966\" y=\"64.6433\" style=\"fill: #1f77b4; stroke: #1f77b4\"/>\n     <use xlink:href=\"#m792156dd3e\" x=\"310.790134\" y=\"62.528444\" style=\"fill: #1f77b4; stroke: #1f77b4\"/>\n     <use xlink:href=\"#m792156dd3e\" x=\"309.1657\" y=\"60.513332\" style=\"fill: #1f77b4; stroke: #1f77b4\"/>\n     <use xlink:href=\"#m792156dd3e\" x=\"307.617884\" y=\"58.593251\" style=\"fill: #1f77b4; stroke: #1f77b4\"/>\n     <use xlink:href=\"#m792156dd3e\" x=\"306.143071\" y=\"56.763717\" style=\"fill: #1f77b4; stroke: #1f77b4\"/>\n     <use xlink:href=\"#m792156dd3e\" x=\"304.73779\" y=\"55.02048\" style=\"fill: #1f77b4; stroke: #1f77b4\"/>\n     <use xlink:href=\"#m792156dd3e\" x=\"303.398805\" y=\"53.359455\" style=\"fill: #1f77b4; stroke: #1f77b4\"/>\n     <use xlink:href=\"#m792156dd3e\" x=\"302.12297\" y=\"51.776762\" style=\"fill: #1f77b4; stroke: #1f77b4\"/>\n     <use xlink:href=\"#m792156dd3e\" x=\"300.907284\" y=\"50.268708\" style=\"fill: #1f77b4; stroke: #1f77b4\"/>\n     <use xlink:href=\"#m792156dd3e\" x=\"299.748944\" y=\"48.831765\" style=\"fill: #1f77b4; stroke: #1f77b4\"/>\n     <use xlink:href=\"#m792156dd3e\" x=\"298.645221\" y=\"47.46261\" style=\"fill: #1f77b4; stroke: #1f77b4\"/>\n     <use xlink:href=\"#m792156dd3e\" x=\"297.593566\" y=\"46.158016\" style=\"fill: #1f77b4; stroke: #1f77b4\"/>\n     <use xlink:href=\"#m792156dd3e\" x=\"296.591501\" y=\"44.914941\" style=\"fill: #1f77b4; stroke: #1f77b4\"/>\n     <use xlink:href=\"#m792156dd3e\" x=\"295.636694\" y=\"43.730505\" style=\"fill: #1f77b4; stroke: #1f77b4\"/>\n     <use xlink:href=\"#m792156dd3e\" x=\"294.726923\" y=\"42.60192\" style=\"fill: #1f77b4; stroke: #1f77b4\"/>\n     <use xlink:href=\"#m792156dd3e\" x=\"293.860053\" y=\"41.526564\" style=\"fill: #1f77b4; stroke: #1f77b4\"/>\n     <use xlink:href=\"#m792156dd3e\" x=\"293.034059\" y=\"40.501927\" style=\"fill: #1f77b4; stroke: #1f77b4\"/>\n     <use xlink:href=\"#m792156dd3e\" x=\"292.247026\" y=\"39.525595\" style=\"fill: #1f77b4; stroke: #1f77b4\"/>\n     <use xlink:href=\"#m792156dd3e\" x=\"291.497109\" y=\"38.595315\" style=\"fill: #1f77b4; stroke: #1f77b4\"/>\n     <use xlink:href=\"#m792156dd3e\" x=\"290.782555\" y=\"37.708904\" style=\"fill: #1f77b4; stroke: #1f77b4\"/>\n     <use xlink:href=\"#m792156dd3e\" x=\"290.101699\" y=\"36.864318\" style=\"fill: #1f77b4; stroke: #1f77b4\"/>\n     <use xlink:href=\"#m792156dd3e\" x=\"289.452971\" y=\"36.05956\" style=\"fill: #1f77b4; stroke: #1f77b4\"/>\n     <use xlink:href=\"#m792156dd3e\" x=\"288.834831\" y=\"35.292749\" style=\"fill: #1f77b4; stroke: #1f77b4\"/>\n     <use xlink:href=\"#m792156dd3e\" x=\"288.245836\" y=\"34.562096\" style=\"fill: #1f77b4; stroke: #1f77b4\"/>\n     <use xlink:href=\"#m792156dd3e\" x=\"287.684627\" y=\"33.865907\" style=\"fill: #1f77b4; stroke: #1f77b4\"/>\n     <use xlink:href=\"#m792156dd3e\" x=\"287.149887\" y=\"33.202556\" style=\"fill: #1f77b4; stroke: #1f77b4\"/>\n     <use xlink:href=\"#m792156dd3e\" x=\"286.640348\" y=\"32.570486\" style=\"fill: #1f77b4; stroke: #1f77b4\"/>\n     <use xlink:href=\"#m792156dd3e\" x=\"286.154854\" y=\"31.968213\" style=\"fill: #1f77b4; stroke: #1f77b4\"/>\n     <use xlink:href=\"#m792156dd3e\" x=\"285.692249\" y=\"31.394364\" style=\"fill: #1f77b4; stroke: #1f77b4\"/>\n     <use xlink:href=\"#m792156dd3e\" x=\"285.251465\" y=\"30.847571\" style=\"fill: #1f77b4; stroke: #1f77b4\"/>\n     <use xlink:href=\"#m792156dd3e\" x=\"284.83149\" y=\"30.326555\" style=\"fill: #1f77b4; stroke: #1f77b4\"/>\n     <use xlink:href=\"#m792156dd3e\" x=\"284.431293\" y=\"29.830133\" style=\"fill: #1f77b4; stroke: #1f77b4\"/>\n     <use xlink:href=\"#m792156dd3e\" x=\"284.049989\" y=\"29.357097\" style=\"fill: #1f77b4; stroke: #1f77b4\"/>\n     <use xlink:href=\"#m792156dd3e\" x=\"283.686637\" y=\"28.906379\" style=\"fill: #1f77b4; stroke: #1f77b4\"/>\n     <use xlink:href=\"#m792156dd3e\" x=\"283.340442\" y=\"28.47691\" style=\"fill: #1f77b4; stroke: #1f77b4\"/>\n     <use xlink:href=\"#m792156dd3e\" x=\"283.010572\" y=\"28.067715\" style=\"fill: #1f77b4; stroke: #1f77b4\"/>\n     <use xlink:href=\"#m792156dd3e\" x=\"282.696269\" y=\"27.677818\" style=\"fill: #1f77b4; stroke: #1f77b4\"/>\n     <use xlink:href=\"#m792156dd3e\" x=\"282.396772\" y=\"27.306291\" style=\"fill: #1f77b4; stroke: #1f77b4\"/>\n     <use xlink:href=\"#m792156dd3e\" x=\"282.111413\" y=\"26.952298\" style=\"fill: #1f77b4; stroke: #1f77b4\"/>\n     <use xlink:href=\"#m792156dd3e\" x=\"281.839505\" y=\"26.615003\" style=\"fill: #1f77b4; stroke: #1f77b4\"/>\n     <use xlink:href=\"#m792156dd3e\" x=\"281.580415\" y=\"26.293615\" style=\"fill: #1f77b4; stroke: #1f77b4\"/>\n     <use xlink:href=\"#m792156dd3e\" x=\"281.333564\" y=\"25.987369\" style=\"fill: #1f77b4; stroke: #1f77b4\"/>\n     <use xlink:href=\"#m792156dd3e\" x=\"281.098338\" y=\"25.695568\" style=\"fill: #1f77b4; stroke: #1f77b4\"/>\n     <use xlink:href=\"#m792156dd3e\" x=\"280.874195\" y=\"25.417538\" style=\"fill: #1f77b4; stroke: #1f77b4\"/>\n     <use xlink:href=\"#m792156dd3e\" x=\"280.660646\" y=\"25.152606\" style=\"fill: #1f77b4; stroke: #1f77b4\"/>\n     <use xlink:href=\"#m792156dd3e\" x=\"280.457148\" y=\"24.900192\" style=\"fill: #1f77b4; stroke: #1f77b4\"/>\n     <use xlink:href=\"#m792156dd3e\" x=\"280.263269\" y=\"24.659668\" style=\"fill: #1f77b4; stroke: #1f77b4\"/>\n     <use xlink:href=\"#m792156dd3e\" x=\"280.07852\" y=\"24.4305\" style=\"fill: #1f77b4; stroke: #1f77b4\"/>\n     <use xlink:href=\"#m792156dd3e\" x=\"279.902503\" y=\"24.212131\" style=\"fill: #1f77b4; stroke: #1f77b4\"/>\n     <use xlink:href=\"#m792156dd3e\" x=\"279.734766\" y=\"24.00405\" style=\"fill: #1f77b4; stroke: #1f77b4\"/>\n     <use xlink:href=\"#m792156dd3e\" x=\"279.574947\" y=\"23.805792\" style=\"fill: #1f77b4; stroke: #1f77b4\"/>\n     <use xlink:href=\"#m792156dd3e\" x=\"279.422668\" y=\"23.616894\" style=\"fill: #1f77b4; stroke: #1f77b4\"/>\n     <use xlink:href=\"#m792156dd3e\" x=\"279.277566\" y=\"23.43689\" style=\"fill: #1f77b4; stroke: #1f77b4\"/>\n     <use xlink:href=\"#m792156dd3e\" x=\"279.139298\" y=\"23.265385\" style=\"fill: #1f77b4; stroke: #1f77b4\"/>\n     <use xlink:href=\"#m792156dd3e\" x=\"279.007574\" y=\"23.101963\" style=\"fill: #1f77b4; stroke: #1f77b4\"/>\n     <use xlink:href=\"#m792156dd3e\" x=\"278.882052\" y=\"22.94625\" style=\"fill: #1f77b4; stroke: #1f77b4\"/>\n     <use xlink:href=\"#m792156dd3e\" x=\"278.762441\" y=\"22.797877\" style=\"fill: #1f77b4; stroke: #1f77b4\"/>\n     <use xlink:href=\"#m792156dd3e\" x=\"278.648471\" y=\"22.656493\" style=\"fill: #1f77b4; stroke: #1f77b4\"/>\n     <use xlink:href=\"#m792156dd3e\" x=\"278.53987\" y=\"22.521798\" style=\"fill: #1f77b4; stroke: #1f77b4\"/>\n     <use xlink:href=\"#m792156dd3e\" x=\"278.436422\" y=\"22.393442\" style=\"fill: #1f77b4; stroke: #1f77b4\"/>\n     <use xlink:href=\"#m792156dd3e\" x=\"278.337837\" y=\"22.271148\" style=\"fill: #1f77b4; stroke: #1f77b4\"/>\n     <use xlink:href=\"#m792156dd3e\" x=\"278.243899\" y=\"22.154614\" style=\"fill: #1f77b4; stroke: #1f77b4\"/>\n     <use xlink:href=\"#m792156dd3e\" x=\"278.154372\" y=\"22.043583\" style=\"fill: #1f77b4; stroke: #1f77b4\"/>\n     <use xlink:href=\"#m792156dd3e\" x=\"278.069111\" y=\"21.937777\" style=\"fill: #1f77b4; stroke: #1f77b4\"/>\n     <use xlink:href=\"#m792156dd3e\" x=\"277.987828\" y=\"21.836965\" style=\"fill: #1f77b4; stroke: #1f77b4\"/>\n     <use xlink:href=\"#m792156dd3e\" x=\"277.910396\" y=\"21.740913\" style=\"fill: #1f77b4; stroke: #1f77b4\"/>\n     <use xlink:href=\"#m792156dd3e\" x=\"277.836615\" y=\"21.64939\" style=\"fill: #1f77b4; stroke: #1f77b4\"/>\n     <use xlink:href=\"#m792156dd3e\" x=\"277.766324\" y=\"21.562186\" style=\"fill: #1f77b4; stroke: #1f77b4\"/>\n     <use xlink:href=\"#m792156dd3e\" x=\"277.699341\" y=\"21.479093\" style=\"fill: #1f77b4; stroke: #1f77b4\"/>\n     <use xlink:href=\"#m792156dd3e\" x=\"277.635504\" y=\"21.399925\" style=\"fill: #1f77b4; stroke: #1f77b4\"/>\n     <use xlink:href=\"#m792156dd3e\" x=\"277.574705\" y=\"21.324472\" style=\"fill: #1f77b4; stroke: #1f77b4\"/>\n     <use xlink:href=\"#m792156dd3e\" x=\"277.516743\" y=\"21.252596\" style=\"fill: #1f77b4; stroke: #1f77b4\"/>\n     <use xlink:href=\"#m792156dd3e\" x=\"277.46153\" y=\"21.184087\" style=\"fill: #1f77b4; stroke: #1f77b4\"/>\n     <use xlink:href=\"#m792156dd3e\" x=\"277.40892\" y=\"21.11883\" style=\"fill: #1f77b4; stroke: #1f77b4\"/>\n     <use xlink:href=\"#m792156dd3e\" x=\"277.358787\" y=\"21.056638\" style=\"fill: #1f77b4; stroke: #1f77b4\"/>\n     <use xlink:href=\"#m792156dd3e\" x=\"277.311022\" y=\"20.997372\" style=\"fill: #1f77b4; stroke: #1f77b4\"/>\n     <use xlink:href=\"#m792156dd3e\" x=\"277.2655\" y=\"20.940916\" style=\"fill: #1f77b4; stroke: #1f77b4\"/>\n    </g>\n   </g>\n   <g id=\"patch_3\">\n    <path d=\"M 469.777058 128.215995 \nL 465.925858 131.80172 \nL 464.609244 130.265821 \nL 64.36474 271.8 \nL 64.072159 271.458689 \nL 464.316663 129.92451 \nL 463.000048 128.388611 \nz\n\" clip-path=\"url(#p1ac60193f4)\" style=\"fill: #1f77b4; stroke: #000000; stroke-linejoin: miter\"/>\n   </g>\n   <g id=\"patch_4\">\n    <path d=\"M 359.620614 156.700595 \nL 364.115165 153.438306 \nL 365.134687 155.064741 \nL 469.66378 128.035279 \nL 469.890341 128.39671 \nL 365.361248 155.426171 \nL 366.380771 157.052607 \nz\n\" clip-path=\"url(#p1ac60193f4)\" style=\"fill: #1f77b4; stroke: #000000; stroke-linejoin: miter\"/>\n   </g>\n   <g id=\"patch_5\">\n    <path d=\"M 381.499768 141.662583 \nL 379.57411 145.839432 \nL 377.579567 144.642351 \nL 359.84223 156.833604 \nL 359.398998 156.567587 \nL 377.136336 144.376333 \nL 375.141793 143.179253 \nz\n\" clip-path=\"url(#p1ac60193f4)\" style=\"fill: #1f77b4; stroke: #000000; stroke-linejoin: miter\"/>\n   </g>\n   <g id=\"patch_6\">\n    <path d=\"M 369.949004 138.107358 \nL 376.730388 138.03435 \nL 375.55066 139.615473 \nL 381.630849 141.486902 \nL 381.368688 141.838263 \nL 375.288499 139.966834 \nL 374.108771 141.547957 \nz\n\" clip-path=\"url(#p1ac60193f4)\" style=\"fill: #1f77b4; stroke: #000000; stroke-linejoin: miter\"/>\n   </g>\n   <g id=\"patch_7\">\n    <path d=\"M 367.218207 131.96798 \nL 371.801056 135.179193 \nL 369.17623 135.660814 \nL 370.240651 138.053844 \nL 369.657356 138.160871 \nL 368.592936 135.767841 \nL 365.96811 136.249462 \nz\n\" clip-path=\"url(#p1ac60193f4)\" style=\"fill: #1f77b4; stroke: #000000; stroke-linejoin: miter\"/>\n   </g>\n   <g id=\"patch_8\">\n    <path d=\"M 362.502534 126.821016 \nL 368.193252 129.190982 \nL 365.840536 130.080187 \nL 367.479619 131.869179 \nL 366.956794 132.066781 \nL 365.31771 130.277788 \nL 362.964995 131.166994 \nz\n\" clip-path=\"url(#p1ac60193f4)\" style=\"fill: #1f77b4; stroke: #000000; stroke-linejoin: miter\"/>\n   </g>\n   <g id=\"patch_9\">\n    <path d=\"M 358.549126 121.737267 \nL 363.973262 124.35242 \nL 361.531101 125.135853 \nL 362.773885 126.733968 \nL 362.231183 126.908065 \nL 360.988399 125.309949 \nL 358.546238 126.093382 \nz\n\" clip-path=\"url(#p1ac60193f4)\" style=\"fill: #1f77b4; stroke: #000000; stroke-linejoin: miter\"/>\n   </g>\n   <g id=\"patch_10\">\n    <path d=\"M 354.644279 116.939129 \nL 360.142489 119.489673 \nL 357.723209 120.301863 \nL 358.817935 121.647023 \nL 358.280317 121.82751 \nL 357.185591 120.48235 \nL 354.766311 121.29454 \nz\n\" clip-path=\"url(#p1ac60193f4)\" style=\"fill: #1f77b4; stroke: #000000; stroke-linejoin: miter\"/>\n   </g>\n   <g id=\"patch_11\">\n    <path d=\"M 350.958802 112.355563 \nL 356.437339 114.923511 \nL 354.011845 115.72802 \nL 354.913778 116.849739 \nL 354.374779 117.028519 \nL 353.472846 115.906799 \nL 351.047352 116.711308 \nz\n\" clip-path=\"url(#p1ac60193f4)\" style=\"fill: #1f77b4; stroke: #000000; stroke-linejoin: miter\"/>\n   </g>\n   <g id=\"patch_12\">\n    <path d=\"M 347.438151 107.991145 \nL 352.921967 110.554441 \nL 350.49813 111.361007 \nL 351.228117 112.265945 \nL 350.689487 112.445182 \nL 349.959499 111.540244 \nL 347.535663 112.34681 \nz\n\" clip-path=\"url(#p1ac60193f4)\" style=\"fill: #1f77b4; stroke: #000000; stroke-linejoin: miter\"/>\n   </g>\n   <g id=\"patch_13\">\n    <path d=\"M 344.085816 103.8318 \nL 349.568227 106.396335 \nL 347.143949 107.202353 \nL 347.707515 107.901587 \nL 347.168787 108.080703 \nL 346.605221 107.381468 \nL 344.180942 108.187487 \nz\n\" clip-path=\"url(#p1ac60193f4)\" style=\"fill: #1f77b4; stroke: #000000; stroke-linejoin: miter\"/>\n   </g>\n   <g id=\"patch_14\">\n    <path d=\"M 340.891003 99.868808 \nL 346.373789 102.433013 \nL 343.949629 103.239177 \nL 344.355167 103.742226 \nL 343.816465 103.921374 \nL 343.410926 103.418325 \nL 340.986766 104.22449 \nz\n\" clip-path=\"url(#p1ac60193f4)\" style=\"fill: #1f77b4; stroke: #000000; stroke-linejoin: miter\"/>\n   </g>\n   <g id=\"patch_15\">\n    <path d=\"M 337.847006 96.092671 \nL 343.329696 98.656961 \nL 340.905505 99.463088 \nL 341.160358 99.779238 \nL 340.621649 99.958378 \nL 340.366796 99.642227 \nL 337.942605 100.448354 \nz\n\" clip-path=\"url(#p1ac60193f4)\" style=\"fill: #1f77b4; stroke: #000000; stroke-linejoin: miter\"/>\n   </g>\n   <g id=\"patch_16\">\n    <path d=\"M 334.946555 92.494623 \nL 340.429252 95.058906 \nL 338.005063 95.865036 \nL 338.11636 96.003101 \nL 337.577651 96.182241 \nL 337.466354 96.044176 \nL 335.042166 96.850306 \nz\n\" clip-path=\"url(#p1ac60193f4)\" style=\"fill: #1f77b4; stroke: #000000; stroke-linejoin: miter\"/>\n   </g>\n   <g id=\"patch_17\">\n    <path d=\"M 332.182872 89.066278 \nL 337.665589 91.630544 \nL 335.241407 92.436682 \nL 335.215909 92.405052 \nL 334.677202 92.584193 \nL 334.7027 92.615823 \nL 332.278517 93.421961 \nz\n\" clip-path=\"url(#p1ac60193f4)\" style=\"fill: #1f77b4; stroke: #000000; stroke-linejoin: miter\"/>\n   </g>\n   <g id=\"patch_18\">\n    <path d=\"M 329.549539 85.799615 \nL 335.032247 88.363888 \nL 332.608062 89.170023 \nL 332.452226 88.976708 \nL 331.913519 89.155849 \nL 332.069354 89.349163 \nL 329.645169 90.155298 \nz\n\" clip-path=\"url(#p1ac60193f4)\" style=\"fill: #1f77b4; stroke: #000000; stroke-linejoin: miter\"/>\n   </g>\n   <g id=\"patch_19\">\n    <path d=\"M 327.040391 82.687015 \nL 332.523105 85.251283 \nL 330.098922 86.05742 \nL 329.818893 85.710044 \nL 329.280186 85.889186 \nL 329.560214 86.236561 \nL 327.136031 87.042698 \nz\n\" clip-path=\"url(#p1ac60193f4)\" style=\"fill: #1f77b4; stroke: #000000; stroke-linejoin: miter\"/>\n   </g>\n   <g id=\"patch_20\">\n    <path d=\"M 324.649605 79.721187 \nL 330.132288 82.285483 \nL 327.708094 83.091607 \nL 327.309746 82.597446 \nL 326.771036 82.776585 \nL 327.169385 83.270746 \nL 324.745191 84.07687 \nz\n\" clip-path=\"url(#p1ac60193f4)\" style=\"fill: #1f77b4; stroke: #000000; stroke-linejoin: miter\"/>\n   </g>\n   <g id=\"patch_21\">\n    <path d=\"M 322.371525 76.895256 \nL 327.854255 79.459509 \nL 325.430077 80.265652 \nL 324.918959 79.631615 \nL 324.380252 79.810758 \nL 324.891371 80.444795 \nL 322.467193 81.250938 \nz\n\" clip-path=\"url(#p1ac60193f4)\" style=\"fill: #1f77b4; stroke: #000000; stroke-linejoin: miter\"/>\n   </g>\n   <g id=\"patch_22\">\n    <path d=\"M 320.200924 74.20258 \nL 325.683611 76.766872 \nL 323.259419 77.572998 \nL 322.640879 76.805686 \nL 322.10217 76.984825 \nL 322.72071 77.752137 \nL 320.296518 78.558263 \nz\n\" clip-path=\"url(#p1ac60193f4)\" style=\"fill: #1f77b4; stroke: #000000; stroke-linejoin: miter\"/>\n   </g>\n   <g id=\"patch_23\">\n    <path d=\"M 318.132668 71.63689 \nL 323.61537 74.201168 \nL 321.191183 75.0073 \nL 320.470278 74.11301 \nL 319.931569 74.29215 \nL 320.652475 75.18644 \nL 318.228288 75.992573 \nz\n\" clip-path=\"url(#p1ac60193f4)\" style=\"fill: #1f77b4; stroke: #000000; stroke-linejoin: miter\"/>\n   </g>\n   <g id=\"patch_24\">\n    <path d=\"M 316.161948 69.192216 \nL 321.644665 71.756481 \nL 319.220483 72.562619 \nL 318.402021 71.547319 \nL 317.863314 71.726461 \nL 318.681776 72.741761 \nL 316.257594 73.547899 \nz\n\" clip-path=\"url(#p1ac60193f4)\" style=\"fill: #1f77b4; stroke: #000000; stroke-linejoin: miter\"/>\n   </g>\n   <g id=\"patch_25\">\n    <path d=\"M 314.28419 66.862823 \nL 319.766881 69.427112 \nL 317.34269 70.23324 \nL 316.431302 69.102646 \nL 315.892593 69.281786 \nL 316.803981 70.412379 \nL 314.37979 71.218506 \nz\n\" clip-path=\"url(#p1ac60193f4)\" style=\"fill: #1f77b4; stroke: #000000; stroke-linejoin: miter\"/>\n   </g>\n   <g id=\"patch_26\">\n    <path d=\"M 312.494966 64.6433 \nL 317.977688 67.207561 \nL 315.553507 68.013701 \nL 314.553544 66.773252 \nL 314.014837 66.952394 \nL 315.0148 68.192843 \nL 312.590619 68.998982 \nz\n\" clip-path=\"url(#p1ac60193f4)\" style=\"fill: #1f77b4; stroke: #000000; stroke-linejoin: miter\"/>\n   </g>\n   <g id=\"patch_27\">\n    <path d=\"M 310.790134 62.528444 \nL 316.272839 65.092719 \nL 313.848653 65.898853 \nL 312.76432 64.553729 \nL 312.225612 64.73287 \nL 313.309945 66.077993 \nL 310.885759 66.884127 \nz\n\" clip-path=\"url(#p1ac60193f4)\" style=\"fill: #1f77b4; stroke: #000000; stroke-linejoin: miter\"/>\n   </g>\n   <g id=\"patch_28\">\n    <path d=\"M 309.1657 60.513332 \nL 314.648413 63.0776 \nL 312.22423 63.883737 \nL 311.059488 62.438873 \nL 310.52078 62.618015 \nL 311.685523 64.062878 \nL 309.26134 64.869015 \nz\n\" clip-path=\"url(#p1ac60193f4)\" style=\"fill: #1f77b4; stroke: #000000; stroke-linejoin: miter\"/>\n   </g>\n   <g id=\"patch_29\">\n    <path d=\"M 307.617884 58.593251 \nL 313.100585 61.15753 \nL 310.676397 61.963662 \nL 309.435054 60.423762 \nL 308.896345 60.602902 \nL 310.137689 62.142802 \nL 307.713501 62.948933 \nz\n\" clip-path=\"url(#p1ac60193f4)\" style=\"fill: #1f77b4; stroke: #000000; stroke-linejoin: miter\"/>\n   </g>\n   <g id=\"patch_30\">\n    <path d=\"M 306.143071 56.763717 \nL 311.62576 59.328007 \nL 309.201569 60.134134 \nL 307.887239 58.503681 \nL 307.348529 58.68282 \nL 308.66286 60.313273 \nL 306.238669 61.1194 \nz\n\" clip-path=\"url(#p1ac60193f4)\" style=\"fill: #1f77b4; stroke: #000000; stroke-linejoin: miter\"/>\n   </g>\n   <g id=\"patch_31\">\n    <path d=\"M 304.73779 55.02048 \nL 310.220519 57.584736 \nL 307.79634 58.390878 \nL 306.412425 56.674145 \nL 305.873718 56.853288 \nL 307.257634 58.570021 \nL 304.833455 59.376163 \nz\n\" clip-path=\"url(#p1ac60193f4)\" style=\"fill: #1f77b4; stroke: #000000; stroke-linejoin: miter\"/>\n   </g>\n   <g id=\"patch_32\">\n    <path d=\"M 303.398805 53.359455 \nL 308.881505 55.923735 \nL 306.457318 56.729866 \nL 305.007145 54.93091 \nL 304.468436 55.110051 \nL 305.91861 56.909006 \nL 303.494422 57.715138 \nz\n\" clip-path=\"url(#p1ac60193f4)\" style=\"fill: #1f77b4; stroke: #000000; stroke-linejoin: miter\"/>\n   </g>\n   <g id=\"patch_33\">\n    <path d=\"M 302.12297 51.776762 \nL 307.605664 54.341047 \nL 305.181475 55.147176 \nL 303.66816 53.269885 \nL 303.129451 53.449025 \nL 304.642766 55.326316 \nL 302.218577 56.132445 \nz\n\" clip-path=\"url(#p1ac60193f4)\" style=\"fill: #1f77b4; stroke: #000000; stroke-linejoin: miter\"/>\n   </g>\n   <g id=\"patch_34\">\n    <path d=\"M 300.907284 50.268708 \nL 306.390004 52.832971 \nL 303.965823 53.63911 \nL 302.392324 51.687191 \nL 301.853617 51.866333 \nL 303.427116 53.818252 \nL 301.002935 54.624391 \nz\n\" clip-path=\"url(#p1ac60193f4)\" style=\"fill: #1f77b4; stroke: #000000; stroke-linejoin: miter\"/>\n   </g>\n   <g id=\"patch_35\">\n    <path d=\"M 299.748944 48.831765 \nL 305.231633 51.396055 \nL 302.807441 52.202182 \nL 301.176638 50.179139 \nL 300.637929 50.358278 \nL 302.268732 52.381321 \nL 299.84454 53.187448 \nz\n\" clip-path=\"url(#p1ac60193f4)\" style=\"fill: #1f77b4; stroke: #000000; stroke-linejoin: miter\"/>\n   </g>\n   <g id=\"patch_36\">\n    <path d=\"M 298.645221 47.46261 \nL 304.127952 50.026863 \nL 301.703774 50.833006 \nL 300.018297 48.742193 \nL 299.479591 48.921336 \nL 301.165068 51.012149 \nL 298.74089 51.818292 \nz\n\" clip-path=\"url(#p1ac60193f4)\" style=\"fill: #1f77b4; stroke: #000000; stroke-linejoin: miter\"/>\n   </g>\n   <g id=\"patch_37\">\n    <path d=\"M 297.593566 46.158016 \nL 303.076261 48.7223 \nL 300.652072 49.52843 \nL 298.914575 47.37304 \nL 298.375867 47.55218 \nL 300.113363 49.707569 \nL 297.689174 50.513699 \nz\n\" clip-path=\"url(#p1ac60193f4)\" style=\"fill: #1f77b4; stroke: #000000; stroke-linejoin: miter\"/>\n   </g>\n   <g id=\"patch_38\">\n    <path d=\"M 296.591501 44.914941 \nL 302.074197 47.479224 \nL 299.650008 48.285354 \nL 297.86292 46.068446 \nL 297.324211 46.247586 \nL 299.1113 48.464494 \nL 296.687111 49.270624 \nz\n\" clip-path=\"url(#p1ac60193f4)\" style=\"fill: #1f77b4; stroke: #000000; stroke-linejoin: miter\"/>\n   </g>\n   <g id=\"patch_39\">\n    <path d=\"M 295.636694 43.730505 \nL 301.11941 46.294771 \nL 298.695227 47.100908 \nL 296.860854 44.82537 \nL 296.322147 45.004512 \nL 298.15652 47.28005 \nL 295.732337 48.086187 \nz\n\" clip-path=\"url(#p1ac60193f4)\" style=\"fill: #1f77b4; stroke: #000000; stroke-linejoin: miter\"/>\n   </g>\n   <g id=\"patch_40\">\n    <path d=\"M 294.726923 42.60192 \nL 300.209619 45.166204 \nL 297.78543 45.972334 \nL 295.906049 43.640935 \nL 295.36734 43.820075 \nL 297.246722 46.151474 \nL 294.822533 46.957603 \nz\n\" clip-path=\"url(#p1ac60193f4)\" style=\"fill: #1f77b4; stroke: #000000; stroke-linejoin: miter\"/>\n   </g>\n   <g id=\"patch_41\">\n    <path d=\"M 293.860053 41.526564 \nL 299.342761 44.090837 \nL 296.918576 44.896971 \nL 294.996277 42.51235 \nL 294.457569 42.691491 \nL 296.379869 45.076112 \nL 293.955683 45.882247 \nz\n\" clip-path=\"url(#p1ac60193f4)\" style=\"fill: #1f77b4; stroke: #000000; stroke-linejoin: miter\"/>\n   </g>\n   <g id=\"patch_42\">\n    <path d=\"M 293.034059 40.501927 \nL 298.516787 43.066183 \nL 296.092608 43.872325 \nL 294.129406 41.436993 \nL 293.5907 41.616135 \nL 295.553902 44.051468 \nL 293.129723 44.85761 \nz\n\" clip-path=\"url(#p1ac60193f4)\" style=\"fill: #1f77b4; stroke: #000000; stroke-linejoin: miter\"/>\n   </g>\n   <g id=\"patch_43\">\n    <path d=\"M 292.247026 39.525595 \nL 297.729712 42.089888 \nL 295.30552 42.896014 \nL 293.303414 40.412358 \nL 292.764705 40.591497 \nL 294.76681 43.075153 \nL 292.342618 43.881279 \nz\n\" clip-path=\"url(#p1ac60193f4)\" style=\"fill: #1f77b4; stroke: #000000; stroke-linejoin: miter\"/>\n   </g>\n   <g id=\"patch_44\">\n    <path d=\"M 291.497109 38.595315 \nL 296.97981 41.159595 \nL 294.555622 41.965727 \nL 292.51638 39.436025 \nL 291.977672 39.615166 \nL 294.016914 42.144867 \nL 291.592726 42.950998 \nz\n\" clip-path=\"url(#p1ac60193f4)\" style=\"fill: #1f77b4; stroke: #000000; stroke-linejoin: miter\"/>\n   </g>\n   <g id=\"patch_45\">\n    <path d=\"M 290.782555 37.708904 \nL 296.265257 40.273182 \nL 293.84107 41.079314 \nL 291.766463 38.505745 \nL 291.227755 38.684885 \nL 293.302362 41.258454 \nL 290.878175 42.064586 \nz\n\" clip-path=\"url(#p1ac60193f4)\" style=\"fill: #1f77b4; stroke: #000000; stroke-linejoin: miter\"/>\n   </g>\n   <g id=\"patch_46\">\n    <path d=\"M 290.101699 36.864318 \nL 295.584442 39.42856 \nL 293.160268 40.234708 \nL 291.051907 37.619332 \nL 290.513202 37.798476 \nL 292.621563 40.413852 \nL 290.197389 41.22 \nz\n\" clip-path=\"url(#p1ac60193f4)\" style=\"fill: #1f77b4; stroke: #000000; stroke-linejoin: miter\"/>\n   </g>\n   <g id=\"patch_47\">\n    <path d=\"M 289.452971 36.05956 \nL 294.935665 38.623845 \nL 292.511475 39.429974 \nL 290.371054 36.774748 \nL 289.832345 36.953888 \nL 291.972767 39.609114 \nL 289.548577 40.415243 \nz\n\" clip-path=\"url(#p1ac60193f4)\" style=\"fill: #1f77b4; stroke: #000000; stroke-linejoin: miter\"/>\n   </g>\n   <g id=\"patch_48\">\n    <path d=\"M 288.834831 35.292749 \nL 294.317526 37.857034 \nL 291.893336 38.663163 \nL 289.722325 35.96999 \nL 289.183616 36.14913 \nL 291.354628 38.842303 \nL 288.930438 39.648432 \nz\n\" clip-path=\"url(#p1ac60193f4)\" style=\"fill: #1f77b4; stroke: #000000; stroke-linejoin: miter\"/>\n   </g>\n   <g id=\"patch_49\">\n    <path d=\"M 288.245836 34.562096 \nL 293.728543 37.12637 \nL 291.304358 37.932504 \nL 289.104185 35.203178 \nL 288.565478 35.382319 \nL 290.76565 38.111645 \nL 288.341465 38.917779 \nz\n\" clip-path=\"url(#p1ac60193f4)\" style=\"fill: #1f77b4; stroke: #000000; stroke-linejoin: miter\"/>\n   </g>\n   <g id=\"patch_50\">\n    <path d=\"M 287.684627 33.865907 \nL 293.167318 36.430195 \nL 290.743128 37.236323 \nL 288.51519 34.472526 \nL 287.976481 34.651666 \nL 290.204419 37.415462 \nL 287.780228 38.22159 \nz\n\" clip-path=\"url(#p1ac60193f4)\" style=\"fill: #1f77b4; stroke: #000000; stroke-linejoin: miter\"/>\n   </g>\n   <g id=\"patch_51\">\n    <path d=\"M 287.149887 33.202556 \nL 292.632588 35.766835 \nL 290.208401 36.572967 \nL 287.953981 33.776337 \nL 287.415273 33.955477 \nL 289.669692 36.752107 \nL 287.245505 37.558239 \nz\n\" clip-path=\"url(#p1ac60193f4)\" style=\"fill: #1f77b4; stroke: #000000; stroke-linejoin: miter\"/>\n   </g>\n   <g id=\"patch_52\">\n    <path d=\"M 286.640348 32.570486 \nL 292.123097 35.134724 \nL 289.698924 35.940874 \nL 287.419239 33.112984 \nL 286.880534 33.292128 \nL 289.160219 36.120018 \nL 286.736047 36.926169 \nz\n\" clip-path=\"url(#p1ac60193f4)\" style=\"fill: #1f77b4; stroke: #000000; stroke-linejoin: miter\"/>\n   </g>\n   <g id=\"patch_53\">\n    <path d=\"M 286.154854 31.968213 \nL 291.637517 34.532526 \nL 289.213318 35.338642 \nL 286.909703 32.480918 \nL 286.370992 32.660055 \nL 288.674607 35.517779 \nL 286.250407 36.323896 \nz\n\" clip-path=\"url(#p1ac60193f4)\" style=\"fill: #1f77b4; stroke: #000000; stroke-linejoin: miter\"/>\n   </g>\n   <g id=\"patch_54\">\n    <path d=\"M 285.692249 31.394364 \nL 291.175002 33.958597 \nL 288.750831 34.764749 \nL 286.424207 31.87864 \nL 285.885502 32.057785 \nL 288.212127 34.943894 \nL 285.787956 35.750046 \nz\n\" clip-path=\"url(#p1ac60193f4)\" style=\"fill: #1f77b4; stroke: #000000; stroke-linejoin: miter\"/>\n   </g>\n   <g id=\"patch_55\">\n    <path d=\"M 285.251465 30.847571 \nL 290.734178 33.41184 \nL 288.309994 34.217976 \nL 285.961603 31.304793 \nL 285.422895 31.483935 \nL 287.771286 34.397117 \nL 285.347103 35.203253 \nz\n\" clip-path=\"url(#p1ac60193f4)\" style=\"fill: #1f77b4; stroke: #000000; stroke-linejoin: miter\"/>\n   </g>\n   <g id=\"patch_56\">\n    <path d=\"M 284.83149 30.326555 \nL 290.314091 32.890923 \nL 287.889872 33.697015 \nL 285.520822 30.758005 \nL 284.982107 30.937137 \nL 287.351157 33.876147 \nL 284.926938 34.68224 \nz\n\" clip-path=\"url(#p1ac60193f4)\" style=\"fill: #1f77b4; stroke: #000000; stroke-linejoin: miter\"/>\n   </g>\n   <g id=\"patch_57\">\n    <path d=\"M 284.431293 29.830133 \nL 289.91408 32.394337 \nL 287.48992 33.200502 \nL 285.100841 30.236981 \nL 284.562138 30.416129 \nL 286.951218 33.37965 \nL 284.527058 34.185815 \nz\n\" clip-path=\"url(#p1ac60193f4)\" style=\"fill: #1f77b4; stroke: #000000; stroke-linejoin: miter\"/>\n   </g>\n   <g id=\"patch_58\">\n    <path d=\"M 284.049989 29.357097 \nL 289.532606 31.92145 \nL 287.108393 32.727549 \nL 284.70065 29.740567 \nL 284.161936 29.9197 \nL 286.569678 32.906682 \nL 284.145465 33.712781 \nz\n\" clip-path=\"url(#p1ac60193f4)\" style=\"fill: #1f77b4; stroke: #000000; stroke-linejoin: miter\"/>\n   </g>\n   <g id=\"patch_59\">\n    <path d=\"M 283.686637 28.906379 \nL 289.169422 31.470584 \nL 286.745261 32.276748 \nL 284.31934 29.267524 \nL 283.780637 29.446671 \nL 286.206558 32.455896 \nL 283.782397 33.26206 \nz\n\" clip-path=\"url(#p1ac60193f4)\" style=\"fill: #1f77b4; stroke: #000000; stroke-linejoin: miter\"/>\n   </g>\n   <g id=\"patch_60\">\n    <path d=\"M 283.340442 28.47691 \nL 288.823102 31.041226 \nL 286.398902 31.847341 \nL 283.955992 28.816811 \nL 283.417281 28.995947 \nL 285.86019 32.026478 \nL 283.43599 32.832594 \nz\n\" clip-path=\"url(#p1ac60193f4)\" style=\"fill: #1f77b4; stroke: #000000; stroke-linejoin: miter\"/>\n   </g>\n   <g id=\"patch_61\">\n    <path d=\"M 283.010572 28.067715 \nL 288.493319 30.631954 \nL 286.069146 31.438104 \nL 283.609795 28.387338 \nL 283.071089 28.566482 \nL 285.530441 31.617248 \nL 283.106268 32.423397 \nz\n\" clip-path=\"url(#p1ac60193f4)\" style=\"fill: #1f77b4; stroke: #000000; stroke-linejoin: miter\"/>\n   </g>\n   <g id=\"patch_62\">\n    <path d=\"M 282.696269 27.677818 \nL 288.178971 30.242097 \nL 285.754784 31.048229 \nL 283.279927 27.978145 \nL 282.741218 28.157285 \nL 285.216076 31.227369 \nL 282.791888 32.033501 \nz\n\" clip-path=\"url(#p1ac60193f4)\" style=\"fill: #1f77b4; stroke: #000000; stroke-linejoin: miter\"/>\n   </g>\n   <g id=\"patch_63\">\n    <path d=\"M 282.396772 27.306291 \nL 287.879482 29.870563 \nL 285.455297 30.676698 \nL 282.965623 27.588248 \nL 282.426915 27.767389 \nL 284.91659 30.855839 \nL 282.492405 31.661974 \nz\n\" clip-path=\"url(#p1ac60193f4)\" style=\"fill: #1f77b4; stroke: #000000; stroke-linejoin: miter\"/>\n   </g>\n   <g id=\"patch_64\">\n    <path d=\"M 282.111413 26.952298 \nL 287.594103 29.516588 \nL 285.169912 30.322715 \nL 282.666127 27.216722 \nL 282.127418 27.395861 \nL 284.631203 30.501854 \nL 282.207012 31.307981 \nz\n\" clip-path=\"url(#p1ac60193f4)\" style=\"fill: #1f77b4; stroke: #000000; stroke-linejoin: miter\"/>\n   </g>\n   <g id=\"patch_65\">\n    <path d=\"M 281.839505 26.615003 \nL 287.322251 29.179242 \nL 284.898077 29.985391 \nL 282.380766 26.862726 \nL 281.842061 27.04187 \nL 284.359372 30.164536 \nL 281.935199 30.970685 \nz\n\" clip-path=\"url(#p1ac60193f4)\" style=\"fill: #1f77b4; stroke: #000000; stroke-linejoin: miter\"/>\n   </g>\n   <g id=\"patch_66\">\n    <path d=\"M 281.580415 26.293615 \nL 287.063199 28.857821 \nL 284.639038 29.663985 \nL 282.108856 26.525429 \nL 281.570154 26.704576 \nL 284.100335 29.843133 \nL 281.676174 30.649297 \nz\n\" clip-path=\"url(#p1ac60193f4)\" style=\"fill: #1f77b4; stroke: #000000; stroke-linejoin: miter\"/>\n   </g>\n   <g id=\"patch_67\">\n    <path d=\"M 281.333564 25.987369 \nL 286.816131 28.551767 \nL 284.391901 29.357846 \nL 281.849774 26.204051 \nL 281.311056 26.383179 \nL 283.853184 29.536974 \nL 281.428954 30.343054 \nz\n\" clip-path=\"url(#p1ac60193f4)\" style=\"fill: #1f77b4; stroke: #000000; stroke-linejoin: miter\"/>\n   </g>\n   <g id=\"patch_68\">\n    <path d=\"M 281.098338 25.695568 \nL 286.581034 28.259852 \nL 284.156845 29.065981 \nL 281.602919 25.897799 \nL 281.06421 26.076939 \nL 283.618136 29.245121 \nL 281.193947 30.051251 \nz\n\" clip-path=\"url(#p1ac60193f4)\" style=\"fill: #1f77b4; stroke: #000000; stroke-linejoin: miter\"/>\n   </g>\n   <g id=\"patch_69\">\n    <path d=\"M 280.874195 25.417538 \nL 286.357028 27.981701 \nL 283.932882 28.787884 \nL 281.367688 25.605992 \nL 280.828989 25.785144 \nL 283.394183 28.967036 \nL 280.970037 29.773219 \nz\n\" clip-path=\"url(#p1ac60193f4)\" style=\"fill: #1f77b4; stroke: #000000; stroke-linejoin: miter\"/>\n   </g>\n   <g id=\"patch_70\">\n    <path d=\"M 280.660646 25.152606 \nL 286.143212 27.717004 \nL 283.718983 28.523083 \nL 281.143554 25.327974 \nL 280.604836 25.507102 \nL 283.180265 28.702212 \nL 280.756036 29.508291 \nz\n\" clip-path=\"url(#p1ac60193f4)\" style=\"fill: #1f77b4; stroke: #000000; stroke-linejoin: miter\"/>\n   </g>\n   <g id=\"patch_71\">\n    <path d=\"M 280.457148 24.900192 \nL 285.940018 27.464323 \nL 283.515883 28.27052 \nL 280.929994 25.063029 \nL 280.391297 25.242184 \nL 282.977187 28.449675 \nL 280.553052 29.255872 \nz\n\" clip-path=\"url(#p1ac60193f4)\" style=\"fill: #1f77b4; stroke: #000000; stroke-linejoin: miter\"/>\n   </g>\n   <g id=\"patch_72\">\n    <path d=\"M 280.263269 24.659668 \nL 285.74587 27.224036 \nL 283.321651 28.030128 \nL 280.726506 24.810626 \nL 280.187791 24.989758 \nL 282.782935 28.20926 \nL 280.358716 29.015352 \nz\n\" clip-path=\"url(#p1ac60193f4)\" style=\"fill: #1f77b4; stroke: #000000; stroke-linejoin: miter\"/>\n   </g>\n   <g id=\"patch_73\">\n    <path d=\"M 280.07852 24.4305 \nL 285.561332 26.994681 \nL 283.137179 27.800856 \nL 280.53262 24.570093 \nL 279.993919 24.749243 \nL 282.598479 27.980006 \nL 280.174327 28.786181 \nz\n\" clip-path=\"url(#p1ac60193f4)\" style=\"fill: #1f77b4; stroke: #000000; stroke-linejoin: miter\"/>\n   </g>\n   <g id=\"patch_74\">\n    <path d=\"M 279.902503 24.212131 \nL 285.38507 26.776528 \nL 282.960841 27.582608 \nL 280.347879 24.340936 \nL 279.809161 24.520064 \nL 282.422123 27.761736 \nL 279.997894 28.567816 \nz\n\" clip-path=\"url(#p1ac60193f4)\" style=\"fill: #1f77b4; stroke: #000000; stroke-linejoin: miter\"/>\n   </g>\n   <g id=\"patch_75\">\n    <path d=\"M 279.734766 24.00405 \nL 285.217455 26.568341 \nL 282.793263 27.374467 \nL 280.171857 24.122561 \nL 279.633148 24.301701 \nL 282.254554 27.553606 \nL 279.830363 28.359733 \nz\n\" clip-path=\"url(#p1ac60193f4)\" style=\"fill: #1f77b4; stroke: #000000; stroke-linejoin: miter\"/>\n   </g>\n   <g id=\"patch_76\">\n    <path d=\"M 279.574947 23.805792 \nL 285.057638 26.370081 \nL 282.633448 27.176208 \nL 280.00412 23.91448 \nL 279.465411 24.09362 \nL 282.094739 27.355348 \nL 279.670548 28.161475 \nz\n\" clip-path=\"url(#p1ac60193f4)\" style=\"fill: #1f77b4; stroke: #000000; stroke-linejoin: miter\"/>\n   </g>\n   <g id=\"patch_77\">\n    <path d=\"M 279.422668 23.616894 \nL 284.905417 26.18113 \nL 282.481245 26.987281 \nL 279.8443 23.71622 \nL 279.305595 23.895365 \nL 281.942541 27.166425 \nL 279.518369 27.972576 \nz\n\" clip-path=\"url(#p1ac60193f4)\" style=\"fill: #1f77b4; stroke: #000000; stroke-linejoin: miter\"/>\n   </g>\n   <g id=\"patch_78\">\n    <path d=\"M 279.277566 23.43689 \nL 284.760236 26.001196 \nL 282.336039 26.807316 \nL 279.692023 23.527325 \nL 279.153313 23.706463 \nL 281.797328 26.986453 \nL 279.373131 27.792573 \nz\n\" clip-path=\"url(#p1ac60193f4)\" style=\"fill: #1f77b4; stroke: #000000; stroke-linejoin: miter\"/>\n   </g>\n   <g id=\"patch_79\">\n    <path d=\"M 279.139298 23.265385 \nL 284.622178 25.829507 \nL 282.198047 26.635708 \nL 279.546914 23.347312 \nL 279.008218 23.526468 \nL 281.659351 26.814864 \nL 279.23522 27.621066 \nz\n\" clip-path=\"url(#p1ac60193f4)\" style=\"fill: #1f77b4; stroke: #000000; stroke-linejoin: miter\"/>\n   </g>\n   <g id=\"patch_80\">\n    <path d=\"M 279.007574 23.101963 \nL 284.490095 25.666401 \nL 282.065851 26.472462 \nL 279.408658 23.175823 \nL 278.869937 23.354948 \nL 281.52713 26.651587 \nL 279.102886 27.457648 \nz\n\" clip-path=\"url(#p1ac60193f4)\" style=\"fill: #1f77b4; stroke: #000000; stroke-linejoin: miter\"/>\n   </g>\n   <g id=\"patch_81\">\n    <path d=\"M 278.882052 22.94625 \nL 284.364748 25.510534 \nL 281.940559 26.316664 \nL 279.276928 23.012393 \nL 278.73822 23.191533 \nL 281.40185 26.495804 \nL 278.977661 27.301933 \nz\n\" clip-path=\"url(#p1ac60193f4)\" style=\"fill: #1f77b4; stroke: #000000; stroke-linejoin: miter\"/>\n   </g>\n   <g id=\"patch_82\">\n    <path d=\"M 278.762441 22.797877 \nL 284.24519 25.362113 \nL 281.821018 26.168264 \nL 279.151404 22.856678 \nL 278.612699 23.035823 \nL 281.282313 26.347408 \nL 278.858141 27.153559 \nz\n\" clip-path=\"url(#p1ac60193f4)\" style=\"fill: #1f77b4; stroke: #000000; stroke-linejoin: miter\"/>\n   </g>\n   <g id=\"patch_83\">\n    <path d=\"M 278.648471 22.656493 \nL 284.131141 25.220799 \nL 281.706944 26.026919 \nL 279.031796 22.708308 \nL 278.493086 22.887445 \nL 281.168234 26.206056 \nL 278.744037 27.012176 \nz\n\" clip-path=\"url(#p1ac60193f4)\" style=\"fill: #1f77b4; stroke: #000000; stroke-linejoin: miter\"/>\n   </g>\n   <g id=\"patch_84\">\n    <path d=\"M 278.53987 22.521798 \nL 284.022871 25.085812 \nL 281.598778 25.892061 \nL 278.917815 22.56691 \nL 278.379127 22.746076 \nL 281.060091 26.071227 \nL 278.635998 26.877476 \nz\n\" clip-path=\"url(#p1ac60193f4)\" style=\"fill: #1f77b4; stroke: #000000; stroke-linejoin: miter\"/>\n   </g>\n   <g id=\"patch_85\">\n    <path d=\"M 278.436422 22.393442 \nL 283.91878 24.958024 \nL 281.494485 25.764022 \nL 278.809236 22.432242 \nL 278.270504 22.611353 \nL 280.955753 25.943132 \nL 278.531458 26.74913 \nz\n\" clip-path=\"url(#p1ac60193f4)\" style=\"fill: #1f77b4; stroke: #000000; stroke-linejoin: miter\"/>\n   </g>\n   <g id=\"patch_86\">\n    <path d=\"M 278.337837 22.271148 \nL 283.820557 24.835411 \nL 281.396376 25.64155 \nL 278.705776 22.303871 \nL 278.167069 22.483013 \nL 280.857669 25.820692 \nL 278.433487 26.626831 \nz\n\" clip-path=\"url(#p1ac60193f4)\" style=\"fill: #1f77b4; stroke: #000000; stroke-linejoin: miter\"/>\n   </g>\n   <g id=\"patch_87\">\n    <path d=\"M 278.243899 22.154614 \nL 283.726558 24.71893 \nL 281.302357 25.525045 \nL 278.607193 22.18158 \nL 278.068482 22.360717 \nL 280.763646 25.704182 \nL 278.339446 26.510297 \nz\n\" clip-path=\"url(#p1ac60193f4)\" style=\"fill: #1f77b4; stroke: #000000; stroke-linejoin: miter\"/>\n   </g>\n   <g id=\"patch_88\">\n    <path d=\"M 278.154372 22.043583 \nL 283.637494 24.60749 \nL 281.213439 25.413786 \nL 278.513238 22.065025 \nL 277.97456 22.244202 \nL 280.67476 25.592963 \nL 278.250705 26.399259 \nz\n\" clip-path=\"url(#p1ac60193f4)\" style=\"fill: #1f77b4; stroke: #000000; stroke-linejoin: miter\"/>\n   </g>\n   <g id=\"patch_89\">\n    <path d=\"M 278.069111 21.937777 \nL 283.551213 24.502585 \nL 281.126837 25.308483 \nL 278.423747 21.954039 \nL 277.884997 22.133127 \nL 280.588087 25.487571 \nL 278.163712 26.293469 \nz\n\" clip-path=\"url(#p1ac60193f4)\" style=\"fill: #1f77b4; stroke: #000000; stroke-linejoin: miter\"/>\n   </g>\n   <g id=\"patch_90\">\n    <path d=\"M 277.987828 21.836965 \nL 283.470855 24.400957 \nL 281.04677 25.207215 \nL 278.338454 21.848193 \nL 277.799768 22.027362 \nL 280.508084 25.386384 \nL 278.084 26.192643 \nz\n\" clip-path=\"url(#p1ac60193f4)\" style=\"fill: #1f77b4; stroke: #000000; stroke-linejoin: miter\"/>\n   </g>\n   <g id=\"patch_91\">\n    <path d=\"M 277.910396 21.740913 \nL 283.393164 24.305133 \nL 280.968997 25.111291 \nL 278.25718 21.747392 \nL 277.718476 21.926538 \nL 280.430294 25.290437 \nL 278.006128 26.096595 \nz\n\" clip-path=\"url(#p1ac60193f4)\" style=\"fill: #1f77b4; stroke: #000000; stroke-linejoin: miter\"/>\n   </g>\n   <g id=\"patch_92\">\n    <path d=\"M 277.836615 21.64939 \nL 283.319356 24.213635 \nL 280.895181 25.019782 \nL 278.179748 21.651341 \nL 277.641043 21.830485 \nL 280.356475 25.198925 \nL 277.9323 26.005072 \nz\n\" clip-path=\"url(#p1ac60193f4)\" style=\"fill: #1f77b4; stroke: #000000; stroke-linejoin: miter\"/>\n   </g>\n   <g id=\"patch_93\">\n    <path d=\"M 277.766324 21.562186 \nL 283.2489 24.126576 \nL 280.824673 24.932659 \nL 278.105974 21.559825 \nL 277.567257 21.738955 \nL 280.285956 25.111789 \nL 277.861729 25.917871 \nz\n\" clip-path=\"url(#p1ac60193f4)\" style=\"fill: #1f77b4; stroke: #000000; stroke-linejoin: miter\"/>\n   </g>\n   <g id=\"patch_94\">\n    <path d=\"M 277.699341 21.479093 \nL 283.182036 24.043379 \nL 280.757846 24.849508 \nL 278.035678 21.472616 \nL 277.49697 21.651756 \nL 280.219137 25.028647 \nL 277.794948 25.834776 \nz\n\" clip-path=\"url(#p1ac60193f4)\" style=\"fill: #1f77b4; stroke: #000000; stroke-linejoin: miter\"/>\n   </g>\n   <g id=\"patch_95\">\n    <path d=\"M 277.635504 21.399925 \nL 283.11866 23.963804 \nL 280.694615 24.770112 \nL 277.96868 21.389503 \nL 277.430003 21.568683 \nL 280.155939 24.949292 \nL 277.731894 25.755601 \nz\n\" clip-path=\"url(#p1ac60193f4)\" style=\"fill: #1f77b4; stroke: #000000; stroke-linejoin: miter\"/>\n   </g>\n   <g id=\"patch_96\">\n    <path d=\"M 277.574705 21.324472 \nL 283.056758 23.889323 \nL 280.632367 24.695202 \nL 277.904881 21.310383 \nL 277.366128 21.489467 \nL 280.093614 24.874286 \nL 277.669223 25.680165 \nz\n\" clip-path=\"url(#p1ac60193f4)\" style=\"fill: #1f77b4; stroke: #000000; stroke-linejoin: miter\"/>\n   </g>\n   <g id=\"patch_97\">\n    <path d=\"M 277.516743 21.252596 \nL 283.000019 23.816368 \nL 280.576013 24.622724 \nL 277.844039 21.234877 \nL 277.305371 21.414067 \nL 280.037345 24.801914 \nL 277.613338 25.60827 \nz\n\" clip-path=\"url(#p1ac60193f4)\" style=\"fill: #1f77b4; stroke: #000000; stroke-linejoin: miter\"/>\n   </g>\n   <g id=\"patch_98\">\n    <path d=\"M 277.46153 21.184087 \nL 282.943846 23.748706 \nL 280.519537 24.554688 \nL 277.786111 21.163043 \nL 277.247376 21.34215 \nL 279.980802 24.733795 \nL 277.556494 25.539776 \nz\n\" clip-path=\"url(#p1ac60193f4)\" style=\"fill: #1f77b4; stroke: #000000; stroke-linejoin: miter\"/>\n   </g>\n   <g id=\"patch_99\">\n    <path d=\"M 277.40892 21.11883 \nL 282.89176 23.682987 \nL 280.467616 24.489172 \nL 277.730879 21.094511 \nL 277.192181 21.273663 \nL 279.928918 24.668325 \nL 277.504774 25.47451 \nz\n\" clip-path=\"url(#p1ac60193f4)\" style=\"fill: #1f77b4; stroke: #000000; stroke-linejoin: miter\"/>\n   </g>\n   <g id=\"patch_100\">\n    <path d=\"M 277.358787 21.056638 \nL 282.841449 23.620951 \nL 280.41725 24.427068 \nL 277.678276 21.029261 \nL 277.139565 21.208398 \nL 279.878539 24.606205 \nL 277.454339 25.412321 \nz\n\" clip-path=\"url(#p1ac60193f4)\" style=\"fill: #1f77b4; stroke: #000000; stroke-linejoin: miter\"/>\n   </g>\n   <g id=\"patch_101\">\n    <path d=\"M 277.311022 20.997372 \nL 282.793358 23.561974 \nL 280.369055 24.367963 \nL 277.628154 20.967083 \nL 277.08942 21.146192 \nL 279.830321 24.547072 \nL 277.406019 25.35306 \nz\n\" clip-path=\"url(#p1ac60193f4)\" style=\"fill: #1f77b4; stroke: #000000; stroke-linejoin: miter\"/>\n   </g>\n   <g id=\"patch_102\">\n    <path d=\"M 277.2655 20.940916 \nL 282.748655 23.504794 \nL 280.324611 24.311103 \nL 277.580361 20.907782 \nL 277.041684 21.086962 \nL 279.785934 24.490283 \nL 277.36189 25.296592 \nz\n\" clip-path=\"url(#p1ac60193f4)\" style=\"fill: #1f77b4; stroke: #000000; stroke-linejoin: miter\"/>\n   </g>\n   <g id=\"PathCollection_2\">\n    <defs>\n     <path id=\"md8ee9e60f3\" d=\"M -3 3 \nL 3 -3 \nM -3 -3 \nL 3 3 \n\" style=\"stroke: #ff0000; stroke-width: 1.5\"/>\n    </defs>\n    <g clip-path=\"url(#p1ac60193f4)\">\n     <use xlink:href=\"#md8ee9e60f3\" x=\"276.345676\" y=\"19.8\" style=\"fill: #ff0000; stroke: #ff0000; stroke-width: 1.5\"/>\n    </g>\n   </g>\n   <g id=\"matplotlib.axis_1\">\n    <g id=\"xtick_1\">\n     <g id=\"line2d_1\">\n      <defs>\n       <path id=\"mcbd0627c2e\" d=\"M 0 0 \nL 0 3.5 \n\" style=\"stroke: #000000; stroke-width: 0.8\"/>\n      </defs>\n      <g>\n       <use xlink:href=\"#mcbd0627c2e\" x=\"57.145042\" y=\"284.4\" style=\"stroke: #000000; stroke-width: 0.8\"/>\n      </g>\n     </g>\n     <g id=\"text_1\">\n      <!-- −0.1 -->\n      <g transform=\"translate(45.003635 298.998438) scale(0.1 -0.1)\">\n       <defs>\n        <path id=\"DejaVuSans-2212\" d=\"M 678 2272 \nL 4684 2272 \nL 4684 1741 \nL 678 1741 \nL 678 2272 \nz\n\" transform=\"scale(0.015625)\"/>\n        <path id=\"DejaVuSans-30\" d=\"M 2034 4250 \nQ 1547 4250 1301 3770 \nQ 1056 3291 1056 2328 \nQ 1056 1369 1301 889 \nQ 1547 409 2034 409 \nQ 2525 409 2770 889 \nQ 3016 1369 3016 2328 \nQ 3016 3291 2770 3770 \nQ 2525 4250 2034 4250 \nz\nM 2034 4750 \nQ 2819 4750 3233 4129 \nQ 3647 3509 3647 2328 \nQ 3647 1150 3233 529 \nQ 2819 -91 2034 -91 \nQ 1250 -91 836 529 \nQ 422 1150 422 2328 \nQ 422 3509 836 4129 \nQ 1250 4750 2034 4750 \nz\n\" transform=\"scale(0.015625)\"/>\n        <path id=\"DejaVuSans-2e\" d=\"M 684 794 \nL 1344 794 \nL 1344 0 \nL 684 0 \nL 684 794 \nz\n\" transform=\"scale(0.015625)\"/>\n        <path id=\"DejaVuSans-31\" d=\"M 794 531 \nL 1825 531 \nL 1825 4091 \nL 703 3866 \nL 703 4441 \nL 1819 4666 \nL 2450 4666 \nL 2450 531 \nL 3481 531 \nL 3481 0 \nL 794 0 \nL 794 531 \nz\n\" transform=\"scale(0.015625)\"/>\n       </defs>\n       <use xlink:href=\"#DejaVuSans-2212\"/>\n       <use xlink:href=\"#DejaVuSans-30\" x=\"83.789062\"/>\n       <use xlink:href=\"#DejaVuSans-2e\" x=\"147.412109\"/>\n       <use xlink:href=\"#DejaVuSans-31\" x=\"179.199219\"/>\n      </g>\n     </g>\n    </g>\n    <g id=\"xtick_2\">\n     <g id=\"line2d_2\">\n      <g>\n       <use xlink:href=\"#mcbd0627c2e\" x=\"117.808106\" y=\"284.4\" style=\"stroke: #000000; stroke-width: 0.8\"/>\n      </g>\n     </g>\n     <g id=\"text_2\">\n      <!-- 0.0 -->\n      <g transform=\"translate(109.856543 298.998438) scale(0.1 -0.1)\">\n       <use xlink:href=\"#DejaVuSans-30\"/>\n       <use xlink:href=\"#DejaVuSans-2e\" x=\"63.623047\"/>\n       <use xlink:href=\"#DejaVuSans-30\" x=\"95.410156\"/>\n      </g>\n     </g>\n    </g>\n    <g id=\"xtick_3\">\n     <g id=\"line2d_3\">\n      <g>\n       <use xlink:href=\"#mcbd0627c2e\" x=\"178.47117\" y=\"284.4\" style=\"stroke: #000000; stroke-width: 0.8\"/>\n      </g>\n     </g>\n     <g id=\"text_3\">\n      <!-- 0.1 -->\n      <g transform=\"translate(170.519607 298.998438) scale(0.1 -0.1)\">\n       <use xlink:href=\"#DejaVuSans-30\"/>\n       <use xlink:href=\"#DejaVuSans-2e\" x=\"63.623047\"/>\n       <use xlink:href=\"#DejaVuSans-31\" x=\"95.410156\"/>\n      </g>\n     </g>\n    </g>\n    <g id=\"xtick_4\">\n     <g id=\"line2d_4\">\n      <g>\n       <use xlink:href=\"#mcbd0627c2e\" x=\"239.134234\" y=\"284.4\" style=\"stroke: #000000; stroke-width: 0.8\"/>\n      </g>\n     </g>\n     <g id=\"text_4\">\n      <!-- 0.2 -->\n      <g transform=\"translate(231.182672 298.998438) scale(0.1 -0.1)\">\n       <defs>\n        <path id=\"DejaVuSans-32\" d=\"M 1228 531 \nL 3431 531 \nL 3431 0 \nL 469 0 \nL 469 531 \nQ 828 903 1448 1529 \nQ 2069 2156 2228 2338 \nQ 2531 2678 2651 2914 \nQ 2772 3150 2772 3378 \nQ 2772 3750 2511 3984 \nQ 2250 4219 1831 4219 \nQ 1534 4219 1204 4116 \nQ 875 4013 500 3803 \nL 500 4441 \nQ 881 4594 1212 4672 \nQ 1544 4750 1819 4750 \nQ 2544 4750 2975 4387 \nQ 3406 4025 3406 3419 \nQ 3406 3131 3298 2873 \nQ 3191 2616 2906 2266 \nQ 2828 2175 2409 1742 \nQ 1991 1309 1228 531 \nz\n\" transform=\"scale(0.015625)\"/>\n       </defs>\n       <use xlink:href=\"#DejaVuSans-30\"/>\n       <use xlink:href=\"#DejaVuSans-2e\" x=\"63.623047\"/>\n       <use xlink:href=\"#DejaVuSans-32\" x=\"95.410156\"/>\n      </g>\n     </g>\n    </g>\n    <g id=\"xtick_5\">\n     <g id=\"line2d_5\">\n      <g>\n       <use xlink:href=\"#mcbd0627c2e\" x=\"299.797298\" y=\"284.4\" style=\"stroke: #000000; stroke-width: 0.8\"/>\n      </g>\n     </g>\n     <g id=\"text_5\">\n      <!-- 0.3 -->\n      <g transform=\"translate(291.845736 298.998438) scale(0.1 -0.1)\">\n       <defs>\n        <path id=\"DejaVuSans-33\" d=\"M 2597 2516 \nQ 3050 2419 3304 2112 \nQ 3559 1806 3559 1356 \nQ 3559 666 3084 287 \nQ 2609 -91 1734 -91 \nQ 1441 -91 1130 -33 \nQ 819 25 488 141 \nL 488 750 \nQ 750 597 1062 519 \nQ 1375 441 1716 441 \nQ 2309 441 2620 675 \nQ 2931 909 2931 1356 \nQ 2931 1769 2642 2001 \nQ 2353 2234 1838 2234 \nL 1294 2234 \nL 1294 2753 \nL 1863 2753 \nQ 2328 2753 2575 2939 \nQ 2822 3125 2822 3475 \nQ 2822 3834 2567 4026 \nQ 2313 4219 1838 4219 \nQ 1578 4219 1281 4162 \nQ 984 4106 628 3988 \nL 628 4550 \nQ 988 4650 1302 4700 \nQ 1616 4750 1894 4750 \nQ 2613 4750 3031 4423 \nQ 3450 4097 3450 3541 \nQ 3450 3153 3228 2886 \nQ 3006 2619 2597 2516 \nz\n\" transform=\"scale(0.015625)\"/>\n       </defs>\n       <use xlink:href=\"#DejaVuSans-30\"/>\n       <use xlink:href=\"#DejaVuSans-2e\" x=\"63.623047\"/>\n       <use xlink:href=\"#DejaVuSans-33\" x=\"95.410156\"/>\n      </g>\n     </g>\n    </g>\n    <g id=\"xtick_6\">\n     <g id=\"line2d_6\">\n      <g>\n       <use xlink:href=\"#mcbd0627c2e\" x=\"360.460362\" y=\"284.4\" style=\"stroke: #000000; stroke-width: 0.8\"/>\n      </g>\n     </g>\n     <g id=\"text_6\">\n      <!-- 0.4 -->\n      <g transform=\"translate(352.5088 298.998438) scale(0.1 -0.1)\">\n       <defs>\n        <path id=\"DejaVuSans-34\" d=\"M 2419 4116 \nL 825 1625 \nL 2419 1625 \nL 2419 4116 \nz\nM 2253 4666 \nL 3047 4666 \nL 3047 1625 \nL 3713 1625 \nL 3713 1100 \nL 3047 1100 \nL 3047 0 \nL 2419 0 \nL 2419 1100 \nL 313 1100 \nL 313 1709 \nL 2253 4666 \nz\n\" transform=\"scale(0.015625)\"/>\n       </defs>\n       <use xlink:href=\"#DejaVuSans-30\"/>\n       <use xlink:href=\"#DejaVuSans-2e\" x=\"63.623047\"/>\n       <use xlink:href=\"#DejaVuSans-34\" x=\"95.410156\"/>\n      </g>\n     </g>\n    </g>\n    <g id=\"xtick_7\">\n     <g id=\"line2d_7\">\n      <g>\n       <use xlink:href=\"#mcbd0627c2e\" x=\"421.123427\" y=\"284.4\" style=\"stroke: #000000; stroke-width: 0.8\"/>\n      </g>\n     </g>\n     <g id=\"text_7\">\n      <!-- 0.5 -->\n      <g transform=\"translate(413.171864 298.998438) scale(0.1 -0.1)\">\n       <defs>\n        <path id=\"DejaVuSans-35\" d=\"M 691 4666 \nL 3169 4666 \nL 3169 4134 \nL 1269 4134 \nL 1269 2991 \nQ 1406 3038 1543 3061 \nQ 1681 3084 1819 3084 \nQ 2600 3084 3056 2656 \nQ 3513 2228 3513 1497 \nQ 3513 744 3044 326 \nQ 2575 -91 1722 -91 \nQ 1428 -91 1123 -41 \nQ 819 9 494 109 \nL 494 744 \nQ 775 591 1075 516 \nQ 1375 441 1709 441 \nQ 2250 441 2565 725 \nQ 2881 1009 2881 1497 \nQ 2881 1984 2565 2268 \nQ 2250 2553 1709 2553 \nQ 1456 2553 1204 2497 \nQ 953 2441 691 2322 \nL 691 4666 \nz\n\" transform=\"scale(0.015625)\"/>\n       </defs>\n       <use xlink:href=\"#DejaVuSans-30\"/>\n       <use xlink:href=\"#DejaVuSans-2e\" x=\"63.623047\"/>\n       <use xlink:href=\"#DejaVuSans-35\" x=\"95.410156\"/>\n      </g>\n     </g>\n    </g>\n    <g id=\"xtick_8\">\n     <g id=\"line2d_8\">\n      <g>\n       <use xlink:href=\"#mcbd0627c2e\" x=\"481.786491\" y=\"284.4\" style=\"stroke: #000000; stroke-width: 0.8\"/>\n      </g>\n     </g>\n     <g id=\"text_8\">\n      <!-- 0.6 -->\n      <g transform=\"translate(473.834928 298.998438) scale(0.1 -0.1)\">\n       <defs>\n        <path id=\"DejaVuSans-36\" d=\"M 2113 2584 \nQ 1688 2584 1439 2293 \nQ 1191 2003 1191 1497 \nQ 1191 994 1439 701 \nQ 1688 409 2113 409 \nQ 2538 409 2786 701 \nQ 3034 994 3034 1497 \nQ 3034 2003 2786 2293 \nQ 2538 2584 2113 2584 \nz\nM 3366 4563 \nL 3366 3988 \nQ 3128 4100 2886 4159 \nQ 2644 4219 2406 4219 \nQ 1781 4219 1451 3797 \nQ 1122 3375 1075 2522 \nQ 1259 2794 1537 2939 \nQ 1816 3084 2150 3084 \nQ 2853 3084 3261 2657 \nQ 3669 2231 3669 1497 \nQ 3669 778 3244 343 \nQ 2819 -91 2113 -91 \nQ 1303 -91 875 529 \nQ 447 1150 447 2328 \nQ 447 3434 972 4092 \nQ 1497 4750 2381 4750 \nQ 2619 4750 2861 4703 \nQ 3103 4656 3366 4563 \nz\n\" transform=\"scale(0.015625)\"/>\n       </defs>\n       <use xlink:href=\"#DejaVuSans-30\"/>\n       <use xlink:href=\"#DejaVuSans-2e\" x=\"63.623047\"/>\n       <use xlink:href=\"#DejaVuSans-36\" x=\"95.410156\"/>\n      </g>\n     </g>\n    </g>\n    <g id=\"text_9\">\n     <!-- w0 -->\n     <g transform=\"translate(259.710938 312.676562) scale(0.1 -0.1)\">\n      <defs>\n       <path id=\"DejaVuSans-77\" d=\"M 269 3500 \nL 844 3500 \nL 1563 769 \nL 2278 3500 \nL 2956 3500 \nL 3675 769 \nL 4391 3500 \nL 4966 3500 \nL 4050 0 \nL 3372 0 \nL 2619 2869 \nL 1863 0 \nL 1184 0 \nL 269 3500 \nz\n\" transform=\"scale(0.015625)\"/>\n      </defs>\n      <use xlink:href=\"#DejaVuSans-77\"/>\n      <use xlink:href=\"#DejaVuSans-30\" x=\"81.787109\"/>\n     </g>\n    </g>\n   </g>\n   <g id=\"matplotlib.axis_2\">\n    <g id=\"ytick_1\">\n     <g id=\"line2d_9\">\n      <defs>\n       <path id=\"m086be07346\" d=\"M 0 0 \nL -3.5 0 \n\" style=\"stroke: #000000; stroke-width: 0.8\"/>\n      </defs>\n      <g>\n       <use xlink:href=\"#m086be07346\" x=\"43.78125\" y=\"248.302211\" style=\"stroke: #000000; stroke-width: 0.8\"/>\n      </g>\n     </g>\n     <g id=\"text_10\">\n      <!-- 0.1 -->\n      <g transform=\"translate(20.878125 252.10143) scale(0.1 -0.1)\">\n       <use xlink:href=\"#DejaVuSans-30\"/>\n       <use xlink:href=\"#DejaVuSans-2e\" x=\"63.623047\"/>\n       <use xlink:href=\"#DejaVuSans-31\" x=\"95.410156\"/>\n      </g>\n     </g>\n    </g>\n    <g id=\"ytick_2\">\n     <g id=\"line2d_10\">\n      <g>\n       <use xlink:href=\"#m086be07346\" x=\"43.78125\" y=\"209.339928\" style=\"stroke: #000000; stroke-width: 0.8\"/>\n      </g>\n     </g>\n     <g id=\"text_11\">\n      <!-- 0.2 -->\n      <g transform=\"translate(20.878125 213.139146) scale(0.1 -0.1)\">\n       <use xlink:href=\"#DejaVuSans-30\"/>\n       <use xlink:href=\"#DejaVuSans-2e\" x=\"63.623047\"/>\n       <use xlink:href=\"#DejaVuSans-32\" x=\"95.410156\"/>\n      </g>\n     </g>\n    </g>\n    <g id=\"ytick_3\">\n     <g id=\"line2d_11\">\n      <g>\n       <use xlink:href=\"#m086be07346\" x=\"43.78125\" y=\"170.377644\" style=\"stroke: #000000; stroke-width: 0.8\"/>\n      </g>\n     </g>\n     <g id=\"text_12\">\n      <!-- 0.3 -->\n      <g transform=\"translate(20.878125 174.176862) scale(0.1 -0.1)\">\n       <use xlink:href=\"#DejaVuSans-30\"/>\n       <use xlink:href=\"#DejaVuSans-2e\" x=\"63.623047\"/>\n       <use xlink:href=\"#DejaVuSans-33\" x=\"95.410156\"/>\n      </g>\n     </g>\n    </g>\n    <g id=\"ytick_4\">\n     <g id=\"line2d_12\">\n      <g>\n       <use xlink:href=\"#m086be07346\" x=\"43.78125\" y=\"131.41536\" style=\"stroke: #000000; stroke-width: 0.8\"/>\n      </g>\n     </g>\n     <g id=\"text_13\">\n      <!-- 0.4 -->\n      <g transform=\"translate(20.878125 135.214579) scale(0.1 -0.1)\">\n       <use xlink:href=\"#DejaVuSans-30\"/>\n       <use xlink:href=\"#DejaVuSans-2e\" x=\"63.623047\"/>\n       <use xlink:href=\"#DejaVuSans-34\" x=\"95.410156\"/>\n      </g>\n     </g>\n    </g>\n    <g id=\"ytick_5\">\n     <g id=\"line2d_13\">\n      <g>\n       <use xlink:href=\"#m086be07346\" x=\"43.78125\" y=\"92.453076\" style=\"stroke: #000000; stroke-width: 0.8\"/>\n      </g>\n     </g>\n     <g id=\"text_14\">\n      <!-- 0.5 -->\n      <g transform=\"translate(20.878125 96.252295) scale(0.1 -0.1)\">\n       <use xlink:href=\"#DejaVuSans-30\"/>\n       <use xlink:href=\"#DejaVuSans-2e\" x=\"63.623047\"/>\n       <use xlink:href=\"#DejaVuSans-35\" x=\"95.410156\"/>\n      </g>\n     </g>\n    </g>\n    <g id=\"ytick_6\">\n     <g id=\"line2d_14\">\n      <g>\n       <use xlink:href=\"#m086be07346\" x=\"43.78125\" y=\"53.490792\" style=\"stroke: #000000; stroke-width: 0.8\"/>\n      </g>\n     </g>\n     <g id=\"text_15\">\n      <!-- 0.6 -->\n      <g transform=\"translate(20.878125 57.290011) scale(0.1 -0.1)\">\n       <use xlink:href=\"#DejaVuSans-30\"/>\n       <use xlink:href=\"#DejaVuSans-2e\" x=\"63.623047\"/>\n       <use xlink:href=\"#DejaVuSans-36\" x=\"95.410156\"/>\n      </g>\n     </g>\n    </g>\n    <g id=\"ytick_7\">\n     <g id=\"line2d_15\">\n      <g>\n       <use xlink:href=\"#m086be07346\" x=\"43.78125\" y=\"14.528508\" style=\"stroke: #000000; stroke-width: 0.8\"/>\n      </g>\n     </g>\n     <g id=\"text_16\">\n      <!-- 0.7 -->\n      <g transform=\"translate(20.878125 18.327727) scale(0.1 -0.1)\">\n       <defs>\n        <path id=\"DejaVuSans-37\" d=\"M 525 4666 \nL 3525 4666 \nL 3525 4397 \nL 1831 0 \nL 1172 0 \nL 2766 4134 \nL 525 4134 \nL 525 4666 \nz\n\" transform=\"scale(0.015625)\"/>\n       </defs>\n       <use xlink:href=\"#DejaVuSans-30\"/>\n       <use xlink:href=\"#DejaVuSans-2e\" x=\"63.623047\"/>\n       <use xlink:href=\"#DejaVuSans-37\" x=\"95.410156\"/>\n      </g>\n     </g>\n    </g>\n    <g id=\"text_17\">\n     <!-- w1 -->\n     <g transform=\"translate(14.798438 153.070312) rotate(-90) scale(0.1 -0.1)\">\n      <use xlink:href=\"#DejaVuSans-77\"/>\n      <use xlink:href=\"#DejaVuSans-31\" x=\"81.787109\"/>\n     </g>\n    </g>\n   </g>\n   <g id=\"patch_103\">\n    <path d=\"M 43.78125 284.4 \nL 43.78125 7.2 \n\" style=\"fill: none; stroke: #000000; stroke-width: 0.8; stroke-linejoin: miter; stroke-linecap: square\"/>\n   </g>\n   <g id=\"patch_104\">\n    <path d=\"M 490.18125 284.4 \nL 490.18125 7.2 \n\" style=\"fill: none; stroke: #000000; stroke-width: 0.8; stroke-linejoin: miter; stroke-linecap: square\"/>\n   </g>\n   <g id=\"patch_105\">\n    <path d=\"M 43.78125 284.4 \nL 490.18125 284.4 \n\" style=\"fill: none; stroke: #000000; stroke-width: 0.8; stroke-linejoin: miter; stroke-linecap: square\"/>\n   </g>\n   <g id=\"patch_106\">\n    <path d=\"M 43.78125 7.2 \nL 490.18125 7.2 \n\" style=\"fill: none; stroke: #000000; stroke-width: 0.8; stroke-linejoin: miter; stroke-linecap: square\"/>\n   </g>\n   <g id=\"patch_107\">\n    <path d=\"M 214.068243 79.694007 \nQ 238.616002 54.966759 263.163762 30.239512 \nL 260.325051 27.421406 \nQ 266.68149 25.276669 273.03793 23.131932 \nQ 270.939557 29.503827 268.841184 35.875723 \nL 266.002473 33.057617 \nQ 241.454713 57.784865 216.906954 82.512113 \nL 214.068243 79.694007 \nz\n\" style=\"fill: #ff0000; stroke: #000000; stroke-linecap: round\"/>\n   </g>\n   <g id=\"text_18\">\n    <!-- Valor ótimo dos  -->\n    <g transform=\"translate(124.688016 94.03196) scale(0.1 -0.1)\">\n     <defs>\n      <path id=\"DejaVuSans-56\" d=\"M 1831 0 \nL 50 4666 \nL 709 4666 \nL 2188 738 \nL 3669 4666 \nL 4325 4666 \nL 2547 0 \nL 1831 0 \nz\n\" transform=\"scale(0.015625)\"/>\n      <path id=\"DejaVuSans-61\" d=\"M 2194 1759 \nQ 1497 1759 1228 1600 \nQ 959 1441 959 1056 \nQ 959 750 1161 570 \nQ 1363 391 1709 391 \nQ 2188 391 2477 730 \nQ 2766 1069 2766 1631 \nL 2766 1759 \nL 2194 1759 \nz\nM 3341 1997 \nL 3341 0 \nL 2766 0 \nL 2766 531 \nQ 2569 213 2275 61 \nQ 1981 -91 1556 -91 \nQ 1019 -91 701 211 \nQ 384 513 384 1019 \nQ 384 1609 779 1909 \nQ 1175 2209 1959 2209 \nL 2766 2209 \nL 2766 2266 \nQ 2766 2663 2505 2880 \nQ 2244 3097 1772 3097 \nQ 1472 3097 1187 3025 \nQ 903 2953 641 2809 \nL 641 3341 \nQ 956 3463 1253 3523 \nQ 1550 3584 1831 3584 \nQ 2591 3584 2966 3190 \nQ 3341 2797 3341 1997 \nz\n\" transform=\"scale(0.015625)\"/>\n      <path id=\"DejaVuSans-6c\" d=\"M 603 4863 \nL 1178 4863 \nL 1178 0 \nL 603 0 \nL 603 4863 \nz\n\" transform=\"scale(0.015625)\"/>\n      <path id=\"DejaVuSans-6f\" d=\"M 1959 3097 \nQ 1497 3097 1228 2736 \nQ 959 2375 959 1747 \nQ 959 1119 1226 758 \nQ 1494 397 1959 397 \nQ 2419 397 2687 759 \nQ 2956 1122 2956 1747 \nQ 2956 2369 2687 2733 \nQ 2419 3097 1959 3097 \nz\nM 1959 3584 \nQ 2709 3584 3137 3096 \nQ 3566 2609 3566 1747 \nQ 3566 888 3137 398 \nQ 2709 -91 1959 -91 \nQ 1206 -91 779 398 \nQ 353 888 353 1747 \nQ 353 2609 779 3096 \nQ 1206 3584 1959 3584 \nz\n\" transform=\"scale(0.015625)\"/>\n      <path id=\"DejaVuSans-72\" d=\"M 2631 2963 \nQ 2534 3019 2420 3045 \nQ 2306 3072 2169 3072 \nQ 1681 3072 1420 2755 \nQ 1159 2438 1159 1844 \nL 1159 0 \nL 581 0 \nL 581 3500 \nL 1159 3500 \nL 1159 2956 \nQ 1341 3275 1631 3429 \nQ 1922 3584 2338 3584 \nQ 2397 3584 2469 3576 \nQ 2541 3569 2628 3553 \nL 2631 2963 \nz\n\" transform=\"scale(0.015625)\"/>\n      <path id=\"DejaVuSans-20\" transform=\"scale(0.015625)\"/>\n      <path id=\"DejaVuSans-f3\" d=\"M 1959 3097 \nQ 1497 3097 1228 2736 \nQ 959 2375 959 1747 \nQ 959 1119 1226 758 \nQ 1494 397 1959 397 \nQ 2419 397 2687 759 \nQ 2956 1122 2956 1747 \nQ 2956 2369 2687 2733 \nQ 2419 3097 1959 3097 \nz\nM 1959 3584 \nQ 2709 3584 3137 3096 \nQ 3566 2609 3566 1747 \nQ 3566 888 3137 398 \nQ 2709 -91 1959 -91 \nQ 1206 -91 779 398 \nQ 353 888 353 1747 \nQ 353 2609 779 3096 \nQ 1206 3584 1959 3584 \nz\nM 2394 5119 \nL 3016 5119 \nL 1998 3944 \nL 1519 3944 \nL 2394 5119 \nz\n\" transform=\"scale(0.015625)\"/>\n      <path id=\"DejaVuSans-74\" d=\"M 1172 4494 \nL 1172 3500 \nL 2356 3500 \nL 2356 3053 \nL 1172 3053 \nL 1172 1153 \nQ 1172 725 1289 603 \nQ 1406 481 1766 481 \nL 2356 481 \nL 2356 0 \nL 1766 0 \nQ 1100 0 847 248 \nQ 594 497 594 1153 \nL 594 3053 \nL 172 3053 \nL 172 3500 \nL 594 3500 \nL 594 4494 \nL 1172 4494 \nz\n\" transform=\"scale(0.015625)\"/>\n      <path id=\"DejaVuSans-69\" d=\"M 603 3500 \nL 1178 3500 \nL 1178 0 \nL 603 0 \nL 603 3500 \nz\nM 603 4863 \nL 1178 4863 \nL 1178 4134 \nL 603 4134 \nL 603 4863 \nz\n\" transform=\"scale(0.015625)\"/>\n      <path id=\"DejaVuSans-6d\" d=\"M 3328 2828 \nQ 3544 3216 3844 3400 \nQ 4144 3584 4550 3584 \nQ 5097 3584 5394 3201 \nQ 5691 2819 5691 2113 \nL 5691 0 \nL 5113 0 \nL 5113 2094 \nQ 5113 2597 4934 2840 \nQ 4756 3084 4391 3084 \nQ 3944 3084 3684 2787 \nQ 3425 2491 3425 1978 \nL 3425 0 \nL 2847 0 \nL 2847 2094 \nQ 2847 2600 2669 2842 \nQ 2491 3084 2119 3084 \nQ 1678 3084 1418 2786 \nQ 1159 2488 1159 1978 \nL 1159 0 \nL 581 0 \nL 581 3500 \nL 1159 3500 \nL 1159 2956 \nQ 1356 3278 1631 3431 \nQ 1906 3584 2284 3584 \nQ 2666 3584 2933 3390 \nQ 3200 3197 3328 2828 \nz\n\" transform=\"scale(0.015625)\"/>\n      <path id=\"DejaVuSans-64\" d=\"M 2906 2969 \nL 2906 4863 \nL 3481 4863 \nL 3481 0 \nL 2906 0 \nL 2906 525 \nQ 2725 213 2448 61 \nQ 2172 -91 1784 -91 \nQ 1150 -91 751 415 \nQ 353 922 353 1747 \nQ 353 2572 751 3078 \nQ 1150 3584 1784 3584 \nQ 2172 3584 2448 3432 \nQ 2725 3281 2906 2969 \nz\nM 947 1747 \nQ 947 1113 1208 752 \nQ 1469 391 1925 391 \nQ 2381 391 2643 752 \nQ 2906 1113 2906 1747 \nQ 2906 2381 2643 2742 \nQ 2381 3103 1925 3103 \nQ 1469 3103 1208 2742 \nQ 947 2381 947 1747 \nz\n\" transform=\"scale(0.015625)\"/>\n      <path id=\"DejaVuSans-73\" d=\"M 2834 3397 \nL 2834 2853 \nQ 2591 2978 2328 3040 \nQ 2066 3103 1784 3103 \nQ 1356 3103 1142 2972 \nQ 928 2841 928 2578 \nQ 928 2378 1081 2264 \nQ 1234 2150 1697 2047 \nL 1894 2003 \nQ 2506 1872 2764 1633 \nQ 3022 1394 3022 966 \nQ 3022 478 2636 193 \nQ 2250 -91 1575 -91 \nQ 1294 -91 989 -36 \nQ 684 19 347 128 \nL 347 722 \nQ 666 556 975 473 \nQ 1284 391 1588 391 \nQ 1994 391 2212 530 \nQ 2431 669 2431 922 \nQ 2431 1156 2273 1281 \nQ 2116 1406 1581 1522 \nL 1381 1569 \nQ 847 1681 609 1914 \nQ 372 2147 372 2553 \nQ 372 3047 722 3315 \nQ 1072 3584 1716 3584 \nQ 2034 3584 2315 3537 \nQ 2597 3491 2834 3397 \nz\n\" transform=\"scale(0.015625)\"/>\n     </defs>\n     <use xlink:href=\"#DejaVuSans-56\"/>\n     <use xlink:href=\"#DejaVuSans-61\" x=\"60.658203\"/>\n     <use xlink:href=\"#DejaVuSans-6c\" x=\"121.9375\"/>\n     <use xlink:href=\"#DejaVuSans-6f\" x=\"149.720703\"/>\n     <use xlink:href=\"#DejaVuSans-72\" x=\"210.902344\"/>\n     <use xlink:href=\"#DejaVuSans-20\" x=\"252.015625\"/>\n     <use xlink:href=\"#DejaVuSans-f3\" x=\"283.802734\"/>\n     <use xlink:href=\"#DejaVuSans-74\" x=\"344.984375\"/>\n     <use xlink:href=\"#DejaVuSans-69\" x=\"384.193359\"/>\n     <use xlink:href=\"#DejaVuSans-6d\" x=\"411.976562\"/>\n     <use xlink:href=\"#DejaVuSans-6f\" x=\"509.388672\"/>\n     <use xlink:href=\"#DejaVuSans-20\" x=\"570.570312\"/>\n     <use xlink:href=\"#DejaVuSans-64\" x=\"602.357422\"/>\n     <use xlink:href=\"#DejaVuSans-6f\" x=\"665.833984\"/>\n     <use xlink:href=\"#DejaVuSans-73\" x=\"727.015625\"/>\n     <use xlink:href=\"#DejaVuSans-20\" x=\"779.115234\"/>\n    </g>\n    <!-- parâmetros pela  -->\n    <g transform=\"translate(124.688016 105.709772) scale(0.1 -0.1)\">\n     <defs>\n      <path id=\"DejaVuSans-70\" d=\"M 1159 525 \nL 1159 -1331 \nL 581 -1331 \nL 581 3500 \nL 1159 3500 \nL 1159 2969 \nQ 1341 3281 1617 3432 \nQ 1894 3584 2278 3584 \nQ 2916 3584 3314 3078 \nQ 3713 2572 3713 1747 \nQ 3713 922 3314 415 \nQ 2916 -91 2278 -91 \nQ 1894 -91 1617 61 \nQ 1341 213 1159 525 \nz\nM 3116 1747 \nQ 3116 2381 2855 2742 \nQ 2594 3103 2138 3103 \nQ 1681 3103 1420 2742 \nQ 1159 2381 1159 1747 \nQ 1159 1113 1420 752 \nQ 1681 391 2138 391 \nQ 2594 391 2855 752 \nQ 3116 1113 3116 1747 \nz\n\" transform=\"scale(0.015625)\"/>\n      <path id=\"DejaVuSans-e2\" d=\"M 2194 1759 \nQ 1497 1759 1228 1600 \nQ 959 1441 959 1056 \nQ 959 750 1161 570 \nQ 1363 391 1709 391 \nQ 2188 391 2477 730 \nQ 2766 1069 2766 1631 \nL 2766 1759 \nL 2194 1759 \nz\nM 3341 1997 \nL 3341 0 \nL 2766 0 \nL 2766 531 \nQ 2569 213 2275 61 \nQ 1981 -91 1556 -91 \nQ 1019 -91 701 211 \nQ 384 513 384 1019 \nQ 384 1609 779 1909 \nQ 1175 2209 1959 2209 \nL 2766 2209 \nL 2766 2266 \nQ 2766 2663 2505 2880 \nQ 2244 3097 1772 3097 \nQ 1472 3097 1187 3025 \nQ 903 2953 641 2809 \nL 641 3341 \nQ 956 3463 1253 3523 \nQ 1550 3584 1831 3584 \nQ 2591 3584 2966 3190 \nQ 3341 2797 3341 1997 \nz\nM 1625 5119 \nL 2087 5119 \nL 2853 3944 \nL 2419 3944 \nL 1856 4709 \nL 1294 3944 \nL 859 3944 \nL 1625 5119 \nz\n\" transform=\"scale(0.015625)\"/>\n      <path id=\"DejaVuSans-65\" d=\"M 3597 1894 \nL 3597 1613 \nL 953 1613 \nQ 991 1019 1311 708 \nQ 1631 397 2203 397 \nQ 2534 397 2845 478 \nQ 3156 559 3463 722 \nL 3463 178 \nQ 3153 47 2828 -22 \nQ 2503 -91 2169 -91 \nQ 1331 -91 842 396 \nQ 353 884 353 1716 \nQ 353 2575 817 3079 \nQ 1281 3584 2069 3584 \nQ 2775 3584 3186 3129 \nQ 3597 2675 3597 1894 \nz\nM 3022 2063 \nQ 3016 2534 2758 2815 \nQ 2500 3097 2075 3097 \nQ 1594 3097 1305 2825 \nQ 1016 2553 972 2059 \nL 3022 2063 \nz\n\" transform=\"scale(0.015625)\"/>\n     </defs>\n     <use xlink:href=\"#DejaVuSans-70\"/>\n     <use xlink:href=\"#DejaVuSans-61\" x=\"63.476562\"/>\n     <use xlink:href=\"#DejaVuSans-72\" x=\"124.755859\"/>\n     <use xlink:href=\"#DejaVuSans-e2\" x=\"165.869141\"/>\n     <use xlink:href=\"#DejaVuSans-6d\" x=\"227.148438\"/>\n     <use xlink:href=\"#DejaVuSans-65\" x=\"324.560547\"/>\n     <use xlink:href=\"#DejaVuSans-74\" x=\"386.083984\"/>\n     <use xlink:href=\"#DejaVuSans-72\" x=\"425.292969\"/>\n     <use xlink:href=\"#DejaVuSans-6f\" x=\"464.15625\"/>\n     <use xlink:href=\"#DejaVuSans-73\" x=\"525.337891\"/>\n     <use xlink:href=\"#DejaVuSans-20\" x=\"577.4375\"/>\n     <use xlink:href=\"#DejaVuSans-70\" x=\"609.224609\"/>\n     <use xlink:href=\"#DejaVuSans-65\" x=\"672.701172\"/>\n     <use xlink:href=\"#DejaVuSans-6c\" x=\"734.224609\"/>\n     <use xlink:href=\"#DejaVuSans-61\" x=\"762.007812\"/>\n     <use xlink:href=\"#DejaVuSans-20\" x=\"823.287109\"/>\n    </g>\n    <!-- solução analítica -->\n    <g transform=\"translate(124.688016 117.20571) scale(0.1 -0.1)\">\n     <defs>\n      <path id=\"DejaVuSans-75\" d=\"M 544 1381 \nL 544 3500 \nL 1119 3500 \nL 1119 1403 \nQ 1119 906 1312 657 \nQ 1506 409 1894 409 \nQ 2359 409 2629 706 \nQ 2900 1003 2900 1516 \nL 2900 3500 \nL 3475 3500 \nL 3475 0 \nL 2900 0 \nL 2900 538 \nQ 2691 219 2414 64 \nQ 2138 -91 1772 -91 \nQ 1169 -91 856 284 \nQ 544 659 544 1381 \nz\nM 1991 3584 \nL 1991 3584 \nz\n\" transform=\"scale(0.015625)\"/>\n      <path id=\"DejaVuSans-e7\" d=\"M 3122 3366 \nL 3122 2828 \nQ 2878 2963 2633 3030 \nQ 2388 3097 2138 3097 \nQ 1578 3097 1268 2742 \nQ 959 2388 959 1747 \nQ 959 1106 1268 751 \nQ 1578 397 2138 397 \nQ 2388 397 2633 464 \nQ 2878 531 3122 666 \nL 3122 134 \nQ 2881 22 2623 -34 \nQ 2366 -91 2075 -91 \nQ 1284 -91 818 406 \nQ 353 903 353 1747 \nQ 353 2603 823 3093 \nQ 1294 3584 2113 3584 \nQ 2378 3584 2631 3529 \nQ 2884 3475 3122 3366 \nz\nM 2311 0 \nQ 2482 -194 2566 -358 \nQ 2651 -522 2651 -672 \nQ 2651 -950 2463 -1092 \nQ 2276 -1234 1907 -1234 \nQ 1764 -1234 1628 -1215 \nQ 1492 -1197 1357 -1159 \nL 1357 -750 \nQ 1464 -803 1579 -826 \nQ 1695 -850 1842 -850 \nQ 2026 -850 2120 -775 \nQ 2214 -700 2214 -556 \nQ 2214 -463 2146 -327 \nQ 2079 -191 1939 0 \nL 2311 0 \nz\n\" transform=\"scale(0.015625)\"/>\n      <path id=\"DejaVuSans-e3\" d=\"M 2194 1759 \nQ 1497 1759 1228 1600 \nQ 959 1441 959 1056 \nQ 959 750 1161 570 \nQ 1363 391 1709 391 \nQ 2188 391 2477 730 \nQ 2766 1069 2766 1631 \nL 2766 1759 \nL 2194 1759 \nz\nM 3341 1997 \nL 3341 0 \nL 2766 0 \nL 2766 531 \nQ 2569 213 2275 61 \nQ 1981 -91 1556 -91 \nQ 1019 -91 701 211 \nQ 384 513 384 1019 \nQ 384 1609 779 1909 \nQ 1175 2209 1959 2209 \nL 2766 2209 \nL 2766 2266 \nQ 2766 2663 2505 2880 \nQ 2244 3097 1772 3097 \nQ 1472 3097 1187 3025 \nQ 903 2953 641 2809 \nL 641 3341 \nQ 956 3463 1253 3523 \nQ 1550 3584 1831 3584 \nQ 2591 3584 2966 3190 \nQ 3341 2797 3341 1997 \nz\nM 1844 4281 \nL 1665 4453 \nQ 1597 4516 1545 4545 \nQ 1494 4575 1453 4575 \nQ 1334 4575 1278 4461 \nQ 1222 4347 1215 4091 \nL 825 4091 \nQ 831 4513 990 4742 \nQ 1150 4972 1434 4972 \nQ 1553 4972 1653 4928 \nQ 1753 4884 1869 4781 \nL 2047 4609 \nQ 2115 4547 2167 4517 \nQ 2219 4488 2259 4488 \nQ 2378 4488 2434 4602 \nQ 2490 4716 2497 4972 \nL 2887 4972 \nQ 2881 4550 2721 4320 \nQ 2562 4091 2278 4091 \nQ 2159 4091 2059 4134 \nQ 1959 4178 1844 4281 \nz\n\" transform=\"scale(0.015625)\"/>\n      <path id=\"DejaVuSans-6e\" d=\"M 3513 2113 \nL 3513 0 \nL 2938 0 \nL 2938 2094 \nQ 2938 2591 2744 2837 \nQ 2550 3084 2163 3084 \nQ 1697 3084 1428 2787 \nQ 1159 2491 1159 1978 \nL 1159 0 \nL 581 0 \nL 581 3500 \nL 1159 3500 \nL 1159 2956 \nQ 1366 3272 1645 3428 \nQ 1925 3584 2291 3584 \nQ 2894 3584 3203 3211 \nQ 3513 2838 3513 2113 \nz\n\" transform=\"scale(0.015625)\"/>\n      <path id=\"DejaVuSans-ed\" d=\"M 1322 5119 \nL 1944 5119 \nL 926 3944 \nL 447 3944 \nL 1322 5119 \nz\nM 603 3500 \nL 1178 3500 \nL 1178 0 \nL 603 0 \nL 603 3500 \nz\nM 891 3584 \nL 891 3584 \nz\n\" transform=\"scale(0.015625)\"/>\n      <path id=\"DejaVuSans-63\" d=\"M 3122 3366 \nL 3122 2828 \nQ 2878 2963 2633 3030 \nQ 2388 3097 2138 3097 \nQ 1578 3097 1268 2742 \nQ 959 2388 959 1747 \nQ 959 1106 1268 751 \nQ 1578 397 2138 397 \nQ 2388 397 2633 464 \nQ 2878 531 3122 666 \nL 3122 134 \nQ 2881 22 2623 -34 \nQ 2366 -91 2075 -91 \nQ 1284 -91 818 406 \nQ 353 903 353 1747 \nQ 353 2603 823 3093 \nQ 1294 3584 2113 3584 \nQ 2378 3584 2631 3529 \nQ 2884 3475 3122 3366 \nz\n\" transform=\"scale(0.015625)\"/>\n     </defs>\n     <use xlink:href=\"#DejaVuSans-73\"/>\n     <use xlink:href=\"#DejaVuSans-6f\" x=\"52.099609\"/>\n     <use xlink:href=\"#DejaVuSans-6c\" x=\"113.28125\"/>\n     <use xlink:href=\"#DejaVuSans-75\" x=\"141.064453\"/>\n     <use xlink:href=\"#DejaVuSans-e7\" x=\"204.443359\"/>\n     <use xlink:href=\"#DejaVuSans-e3\" x=\"259.423828\"/>\n     <use xlink:href=\"#DejaVuSans-6f\" x=\"320.703125\"/>\n     <use xlink:href=\"#DejaVuSans-20\" x=\"381.884766\"/>\n     <use xlink:href=\"#DejaVuSans-61\" x=\"413.671875\"/>\n     <use xlink:href=\"#DejaVuSans-6e\" x=\"474.951172\"/>\n     <use xlink:href=\"#DejaVuSans-61\" x=\"538.330078\"/>\n     <use xlink:href=\"#DejaVuSans-6c\" x=\"599.609375\"/>\n     <use xlink:href=\"#DejaVuSans-ed\" x=\"627.392578\"/>\n     <use xlink:href=\"#DejaVuSans-74\" x=\"655.175781\"/>\n     <use xlink:href=\"#DejaVuSans-69\" x=\"694.384766\"/>\n     <use xlink:href=\"#DejaVuSans-63\" x=\"722.167969\"/>\n     <use xlink:href=\"#DejaVuSans-61\" x=\"777.148438\"/>\n    </g>\n   </g>\n  </g>\n </g>\n <defs>\n  <clipPath id=\"p1ac60193f4\">\n   <rect x=\"43.78125\" y=\"7.2\" width=\"446.4\" height=\"277.2\"/>\n  </clipPath>\n </defs>\n</svg>\n"
          },
          "metadata": {}
        }
      ],
      "source": [
        "%config InlineBackend.figure_format = 'svg'\n",
        "fig, ax = plt.subplots(figsize=(8, 5))\n",
        "ax.scatter(w0_list,w1_list)\n",
        "w0_old = None\n",
        "for (w0,w1) in zip(w0_list,w1_list):\n",
        "    if w0_old:\n",
        "        plt.arrow(w0_old, w1_old, w0-w0_old, w1-w1_old,\n",
        "                  head_length=0.01,head_width=0.01,shape='full',\n",
        "                  length_includes_head=True)\n",
        "    w0_old,w1_old = w0,w1\n",
        "\n",
        "# Ponto ótimo\n",
        "ax.scatter(w_opt[0], w_opt[1], marker='x', color='red')\n",
        "\n",
        "plt.xlabel('w0')\n",
        "plt.ylabel('w1')\n",
        "plt.annotate('Valor ótimo dos \\nparâmetros pela \\nsolução analítica',\n",
        "             xy=(w_opt[0], w_opt[1]),\n",
        "             xytext=(w_opt[0]-0.25, w_opt[1]-0.25),\n",
        "             arrowprops=dict(facecolor='r', shrink=0.05),\n",
        "            )\n",
        "plt.show()"
      ]
    },
    {
      "cell_type": "markdown",
      "metadata": {
        "heading_collapsed": true,
        "id": "ssef368KHihA"
      },
      "source": [
        "# Aprendizados"
      ]
    },
    {
      "cell_type": "code",
      "execution_count": 19,
      "metadata": {
        "hidden": true,
        "id": "CrrRGo2CHihA"
      },
      "outputs": [],
      "source": []
    }
  ],
  "metadata": {
    "accelerator": "TPU",
    "colab": {
      "provenance": [],
      "gpuType": "V28"
    },
    "kernelspec": {
      "display_name": "Python 3.10.2 64-bit",
      "language": "python",
      "name": "python3"
    },
    "language_info": {
      "name": "python",
      "version": "3.10.2"
    },
    "vscode": {
      "interpreter": {
        "hash": "5fe3e6f0cdaab8afdc61c52912fda83f7c0a71baaea1897dd7498e2df01e69ec"
      }
    }
  },
  "nbformat": 4,
  "nbformat_minor": 0
}
{
  "cells": [
    {
      "cell_type": "markdown",
      "metadata": {
        "id": "4PHBzchPHif1"
      },
      "source": [
        "# Regressão Linear com PyTorch"
      ]
    },
    {
      "cell_type": "markdown",
      "metadata": {
        "id": "GujG54RVHif3"
      },
      "source": [
        "## Objetivo"
      ]
    },
    {
      "cell_type": "markdown",
      "metadata": {
        "id": "GGxcJJDOHif4"
      },
      "source": [
        "Este exemplo utiliza regressão linear para estimar o comprimento das sépalas da íris a partir do seu comprimento das pétalas.\n",
        "Utiliza-se\n",
        "- o cálculo do gradiente automático do PyTorch, porém\n",
        "- a função de perda e\n",
        "- atualização dos parâmetros é feita de forma explícita.\n",
        "- A rede é criada com uma camada nn.Linear()"
      ]
    },
    {
      "cell_type": "markdown",
      "metadata": {
        "id": "6Q1aL4eOHif5"
      },
      "source": [
        "![alt text](https://raw.githubusercontent.com/vcasadei/images/master/RegressaoLinear_Otimizacao.png)"
      ]
    },
    {
      "cell_type": "markdown",
      "metadata": {
        "id": "D-OH95H9Hif6"
      },
      "source": [
        "## Importação dos pacotes"
      ]
    },
    {
      "cell_type": "code",
      "execution_count": 65,
      "metadata": {
        "ExecuteTime": {
          "end_time": "2017-11-23T23:50:37.321471Z",
          "start_time": "2017-11-23T23:50:35.620908Z"
        },
        "colab": {
          "base_uri": "https://localhost:8080/"
        },
        "id": "Rwd6UgfSHif8",
        "outputId": "18620841-fc19-4e64-b216-063aad858cca"
      },
      "outputs": [
        {
          "output_type": "execute_result",
          "data": {
            "text/plain": [
              "<torch._C.Generator at 0x782c14b14cd0>"
            ]
          },
          "metadata": {},
          "execution_count": 65
        }
      ],
      "source": [
        "%matplotlib inline\n",
        "import matplotlib.pyplot as plt\n",
        "\n",
        "import numpy as np\n",
        "from sklearn.datasets import load_iris\n",
        "\n",
        "import torch\n",
        "from torch import nn, optim\n",
        "from torch.autograd import Variable\n",
        "\n",
        "torch.manual_seed(1234)"
      ]
    },
    {
      "cell_type": "markdown",
      "metadata": {
        "id": "tM6s6TDZHigH"
      },
      "source": [
        "## Leitura dos dados"
      ]
    },
    {
      "cell_type": "code",
      "execution_count": 66,
      "metadata": {
        "ExecuteTime": {
          "end_time": "2017-11-23T23:50:37.352459Z",
          "start_time": "2017-11-23T23:50:37.324344Z"
        },
        "colab": {
          "base_uri": "https://localhost:8080/"
        },
        "id": "e4YFUL0MHigI",
        "outputId": "f8ccf484-af6e-410e-faf5-280072fa2709"
      },
      "outputs": [
        {
          "output_type": "stream",
          "name": "stdout",
          "text": [
            "x_train.shape: (50, 1) float32\n",
            "y_train.shape: (50, 1) float32\n",
            "x_train[:5]:\n",
            " [[7. ]\n",
            " [6.4]\n",
            " [6.9]\n",
            " [5.5]\n",
            " [6.5]]\n",
            "y_train[:5]:\n",
            " [[4.7]\n",
            " [4.5]\n",
            " [4.9]\n",
            " [4. ]\n",
            " [4.6]]\n"
          ]
        }
      ],
      "source": [
        "iris = load_iris()\n",
        "data = iris.data[iris.target==1,::2]  # comprimento das sépalas e pétalas, indices 0 e 2\n",
        "\n",
        "x_train = data[:,0:1].astype(np.float32)\n",
        "y_train = data[:,1:2].astype(np.float32)\n",
        "\n",
        "n_samples = x_train.shape[0]\n",
        "print('x_train.shape:',x_train.shape, x_train.dtype)\n",
        "print('y_train.shape:',y_train.shape, y_train.dtype)\n",
        "\n",
        "print('x_train[:5]:\\n', x_train[:5])\n",
        "print('y_train[:5]:\\n', y_train[:5])"
      ]
    },
    {
      "cell_type": "markdown",
      "metadata": {
        "id": "KiBZegbaHigL"
      },
      "source": [
        "### Normalização dos dados"
      ]
    },
    {
      "cell_type": "code",
      "execution_count": 67,
      "metadata": {
        "ExecuteTime": {
          "end_time": "2017-11-23T23:50:37.369738Z",
          "start_time": "2017-11-23T23:50:37.355827Z"
        },
        "id": "LXJmFubQHigN"
      },
      "outputs": [],
      "source": [
        "x_train -= x_train.min()\n",
        "x_train /= x_train.max()\n",
        "y_train -= y_train.min()\n",
        "y_train /= y_train.max()\n"
      ]
    },
    {
      "cell_type": "code",
      "execution_count": 68,
      "metadata": {
        "colab": {
          "base_uri": "https://localhost:8080/"
        },
        "id": "nYq87NbdHxZF",
        "outputId": "f859c961-e332-47d4-d5ae-ea22ba7aed8b"
      },
      "outputs": [
        {
          "output_type": "stream",
          "name": "stdout",
          "text": [
            "x_train[:5]:\n",
            " [[1.        ]\n",
            " [0.71428573]\n",
            " [0.952381  ]\n",
            " [0.28571424]\n",
            " [0.7619048 ]]\n",
            "y_train[:5]:\n",
            " [[0.80952376]\n",
            " [0.71428573]\n",
            " [0.90476197]\n",
            " [0.4761905 ]\n",
            " [0.7619048 ]]\n"
          ]
        }
      ],
      "source": [
        "print('x_train[:5]:\\n', x_train[:5])\n",
        "print('y_train[:5]:\\n', y_train[:5])"
      ]
    },
    {
      "cell_type": "code",
      "execution_count": 69,
      "metadata": {
        "ExecuteTime": {
          "end_time": "2017-11-23T23:50:37.381683Z",
          "start_time": "2017-11-23T23:50:37.375245Z"
        },
        "id": "epxtUveAHigP"
      },
      "outputs": [],
      "source": [
        "x_train_bias = np.hstack([np.ones(shape=(n_samples,1)), x_train])"
      ]
    },
    {
      "cell_type": "code",
      "execution_count": 70,
      "metadata": {
        "colab": {
          "base_uri": "https://localhost:8080/"
        },
        "id": "AgObmWFjH5x7",
        "outputId": "86918c2c-4b17-4d36-b836-199b8e7cdc11"
      },
      "outputs": [
        {
          "output_type": "execute_result",
          "data": {
            "text/plain": [
              "array([[1.        , 1.        ],\n",
              "       [1.        , 0.71428573],\n",
              "       [1.        , 0.95238101],\n",
              "       [1.        , 0.28571424],\n",
              "       [1.        , 0.76190478],\n",
              "       [1.        , 0.38095227],\n",
              "       [1.        , 0.66666675],\n",
              "       [1.        , 0.        ],\n",
              "       [1.        , 0.80952376],\n",
              "       [1.        , 0.14285702],\n",
              "       [1.        , 0.047619  ],\n",
              "       [1.        , 0.47619051],\n",
              "       [1.        , 0.52380949],\n",
              "       [1.        , 0.57142848],\n",
              "       [1.        , 0.33333325],\n",
              "       [1.        , 0.85714275],\n",
              "       [1.        , 0.33333325],\n",
              "       [1.        , 0.42857149],\n",
              "       [1.        , 0.61904752],\n",
              "       [1.        , 0.33333325],\n",
              "       [1.        , 0.47619051],\n",
              "       [1.        , 0.57142848],\n",
              "       [1.        , 0.66666675],\n",
              "       [1.        , 0.57142848],\n",
              "       [1.        , 0.71428573],\n",
              "       [1.        , 0.80952376],\n",
              "       [1.        , 0.90476197],\n",
              "       [1.        , 0.85714275],\n",
              "       [1.        , 0.52380949],\n",
              "       [1.        , 0.38095227],\n",
              "       [1.        , 0.28571424],\n",
              "       [1.        , 0.28571424],\n",
              "       [1.        , 0.42857149],\n",
              "       [1.        , 0.52380949],\n",
              "       [1.        , 0.23809525],\n",
              "       [1.        , 0.52380949],\n",
              "       [1.        , 0.85714275],\n",
              "       [1.        , 0.66666675],\n",
              "       [1.        , 0.33333325],\n",
              "       [1.        , 0.28571424],\n",
              "       [1.        , 0.28571424],\n",
              "       [1.        , 0.57142848],\n",
              "       [1.        , 0.42857149],\n",
              "       [1.        , 0.047619  ],\n",
              "       [1.        , 0.33333325],\n",
              "       [1.        , 0.38095227],\n",
              "       [1.        , 0.38095227],\n",
              "       [1.        , 0.61904752],\n",
              "       [1.        , 0.09523801],\n",
              "       [1.        , 0.38095227]])"
            ]
          },
          "metadata": {},
          "execution_count": 70
        }
      ],
      "source": [
        "x_train_bias"
      ]
    },
    {
      "cell_type": "code",
      "execution_count": 71,
      "metadata": {
        "colab": {
          "base_uri": "https://localhost:8080/"
        },
        "id": "7seVsEbJIHb3",
        "outputId": "8ef03fa7-d31e-4cba-82b5-2c44eebcc8bd"
      },
      "outputs": [
        {
          "output_type": "stream",
          "name": "stdout",
          "text": [
            "x_train_bias.shape: (50, 2) float64\n"
          ]
        }
      ],
      "source": [
        "print('x_train_bias.shape:',x_train_bias.shape, x_train_bias.dtype)"
      ]
    },
    {
      "cell_type": "code",
      "execution_count": 72,
      "metadata": {
        "ExecuteTime": {
          "end_time": "2017-11-23T23:50:37.396626Z",
          "start_time": "2017-11-23T23:50:37.389139Z"
        },
        "colab": {
          "base_uri": "https://localhost:8080/"
        },
        "id": "3Enuu3LxHigR",
        "outputId": "3df03dc1-9e65-4cd7-bbc5-a93543df6aad"
      },
      "outputs": [
        {
          "output_type": "stream",
          "name": "stdout",
          "text": [
            "tensor([[0.8095],\n",
            "        [0.7143],\n",
            "        [0.9048],\n",
            "        [0.4762],\n",
            "        [0.7619],\n",
            "        [0.7143],\n",
            "        [0.8095],\n",
            "        [0.1429],\n",
            "        [0.7619],\n",
            "        [0.4286],\n",
            "        [0.2381],\n",
            "        [0.5714],\n",
            "        [0.4762],\n",
            "        [0.8095],\n",
            "        [0.2857],\n",
            "        [0.6667],\n",
            "        [0.7143],\n",
            "        [0.5238],\n",
            "        [0.7143],\n",
            "        [0.4286],\n",
            "        [0.8571],\n",
            "        [0.4762],\n",
            "        [0.9048],\n",
            "        [0.8095],\n",
            "        [0.6190],\n",
            "        [0.6667],\n",
            "        [0.8571],\n",
            "        [0.9524],\n",
            "        [0.7143],\n",
            "        [0.2381],\n",
            "        [0.3810],\n",
            "        [0.3333],\n",
            "        [0.4286],\n",
            "        [1.0000],\n",
            "        [0.7143],\n",
            "        [0.7143],\n",
            "        [0.8095],\n",
            "        [0.6667],\n",
            "        [0.5238],\n",
            "        [0.4762],\n",
            "        [0.6667],\n",
            "        [0.7619],\n",
            "        [0.4762],\n",
            "        [0.1429],\n",
            "        [0.5714],\n",
            "        [0.5714],\n",
            "        [0.5714],\n",
            "        [0.6190],\n",
            "        [0.0000],\n",
            "        [0.5238]])\n"
          ]
        }
      ],
      "source": [
        "x_train_bias = torch.FloatTensor(x_train_bias)\n",
        "y_train      = torch.FloatTensor(y_train)\n",
        "print(y_train)"
      ]
    },
    {
      "cell_type": "markdown",
      "metadata": {
        "id": "35kUVzdrHigU"
      },
      "source": [
        "## Model"
      ]
    },
    {
      "cell_type": "markdown",
      "metadata": {
        "id": "8nv8uX7uHigU"
      },
      "source": [
        "![alt text](https://raw.githubusercontent.com/vcasadei/images/master/RegressaoLinearNeuronio.png)"
      ]
    },
    {
      "cell_type": "code",
      "execution_count": 73,
      "metadata": {
        "ExecuteTime": {
          "end_time": "2017-11-23T23:50:37.403510Z",
          "start_time": "2017-11-23T23:50:37.399234Z"
        },
        "id": "Ngq9EEi8HigV"
      },
      "outputs": [],
      "source": [
        "#Inicialização usando toch.nn.Linear\n",
        "\n",
        "model = torch.nn.Linear(in_features=2, out_features=1, bias=False)"
      ]
    },
    {
      "cell_type": "markdown",
      "metadata": {
        "id": "fz0E6uU2HigY"
      },
      "source": [
        "### Verificando a inicialização dos parâmetros"
      ]
    },
    {
      "cell_type": "code",
      "execution_count": 74,
      "metadata": {
        "ExecuteTime": {
          "end_time": "2017-11-23T23:50:37.418969Z",
          "start_time": "2017-11-23T23:50:37.409713Z"
        },
        "colab": {
          "base_uri": "https://localhost:8080/"
        },
        "id": "aKnVpTrnHigZ",
        "outputId": "0b231928-3639-407e-d953-20aaebeebef5"
      },
      "outputs": [
        {
          "output_type": "stream",
          "name": "stderr",
          "text": [
            "<ipython-input-74-4472ed23bcd1>:2: FutureWarning: `nn.init.uniform` is now deprecated in favor of `nn.init.uniform_`.\n",
            "  torch.nn.init.uniform(model.weight.data, -0.1, 0.1)\n"
          ]
        },
        {
          "output_type": "execute_result",
          "data": {
            "text/plain": [
              "Parameter containing:\n",
              "tensor([[-0.0480, -0.0267]], requires_grad=True)"
            ]
          },
          "metadata": {},
          "execution_count": 74
        }
      ],
      "source": [
        "model.weight.data = torch.zeros(1,2)\n",
        "torch.nn.init.uniform(model.weight.data, -0.1, 0.1)\n",
        "model.weight"
      ]
    },
    {
      "cell_type": "markdown",
      "metadata": {
        "id": "mq22EwyFHigc"
      },
      "source": [
        "### Testando o predict da rede"
      ]
    },
    {
      "cell_type": "code",
      "execution_count": 75,
      "metadata": {
        "ExecuteTime": {
          "end_time": "2017-11-23T23:50:37.497945Z",
          "start_time": "2017-11-23T23:50:37.422209Z"
        },
        "colab": {
          "base_uri": "https://localhost:8080/"
        },
        "id": "dyCO8PL_Hige",
        "outputId": "5adb5251-c38d-4e2e-ee13-a50f317554e1"
      },
      "outputs": [
        {
          "output_type": "execute_result",
          "data": {
            "text/plain": [
              "tensor([[1., 1.],\n",
              "        [1., 1.],\n",
              "        [1., 1.],\n",
              "        [1., 1.],\n",
              "        [1., 1.]])"
            ]
          },
          "metadata": {},
          "execution_count": 75
        }
      ],
      "source": [
        "xx = torch.ones((5,2))\n",
        "xx"
      ]
    },
    {
      "cell_type": "code",
      "execution_count": 76,
      "metadata": {
        "colab": {
          "base_uri": "https://localhost:8080/"
        },
        "id": "kpxZmYMsJF7F",
        "outputId": "bce241e1-7420-4c43-cbc8-03af5c18e747"
      },
      "outputs": [
        {
          "output_type": "execute_result",
          "data": {
            "text/plain": [
              "tensor([[-0.0747],\n",
              "        [-0.0747],\n",
              "        [-0.0747],\n",
              "        [-0.0747],\n",
              "        [-0.0747]], grad_fn=<MmBackward0>)"
            ]
          },
          "metadata": {},
          "execution_count": 76
        }
      ],
      "source": [
        "model(Variable(xx))"
      ]
    },
    {
      "cell_type": "markdown",
      "metadata": {
        "id": "llozQQShHigg"
      },
      "source": [
        "## Treinamento"
      ]
    },
    {
      "cell_type": "code",
      "execution_count": 77,
      "metadata": {
        "ExecuteTime": {
          "end_time": "2017-11-23T23:50:37.534983Z",
          "start_time": "2017-11-23T23:50:37.501215Z"
        },
        "colab": {
          "base_uri": "https://localhost:8080/"
        },
        "id": "GEY2W_eaHigh",
        "outputId": "782cc2fe-b693-4d41-f02f-1afe46263e24",
        "scrolled": false
      },
      "outputs": [
        {
          "output_type": "stream",
          "name": "stdout",
          "text": [
            "Epoch[20/100], loss: 0.022983\n",
            "Epoch[40/100], loss: 0.021432\n",
            "Epoch[60/100], loss: 0.021207\n",
            "Epoch[80/100], loss: 0.021175\n",
            "Epoch[100/100], loss: 0.021170\n"
          ]
        }
      ],
      "source": [
        "num_epochs = 100\n",
        "learning_rate = 0.5\n",
        "\n",
        "w0_list = []\n",
        "w1_list = []\n",
        "# Pesos iniciais\n",
        "w0_list.append(model.weight.data[0][0])\n",
        "w1_list.append(model.weight.data[0][1])\n",
        "\n",
        "inputs = Variable(x_train_bias)\n",
        "target = Variable(y_train)\n",
        "\n",
        "for epoch in range(num_epochs):\n",
        "    # forward - predict\n",
        "    y_pred = model(x_train_bias)\n",
        "\n",
        "    #loss cálculo da função de perda\n",
        "    loss = torch.mean((y_pred - y_train)**2)\n",
        "\n",
        "    # backward propagation - cálculo gradient\n",
        "    loss.backward()\n",
        "\n",
        "    # gradiente descendente\n",
        "    model.weight.data = model.weight.data - learning_rate * model.weight.grad.data\n",
        "    w0_list.append(model.weight.data[0][0])\n",
        "    w1_list.append(model.weight.data[0][1])\n",
        "\n",
        "    # zeragem parâmetros próximo cálculo do gradiente\n",
        "    model.weight.grad.data.zero_()\n",
        "\n",
        "    # verbose\n",
        "    if (epoch+1) % 20 == 0:\n",
        "        print('Epoch[{}/{}], loss: {:.6f}'\n",
        "              .format(epoch+1, num_epochs, loss.data))"
      ]
    },
    {
      "cell_type": "markdown",
      "metadata": {
        "heading_collapsed": true,
        "id": "OyUB8WAmHigk"
      },
      "source": [
        "## Avaliação"
      ]
    },
    {
      "cell_type": "code",
      "execution_count": 78,
      "metadata": {
        "ExecuteTime": {
          "end_time": "2017-11-23T23:50:37.785652Z",
          "start_time": "2017-11-23T23:50:37.538639Z"
        },
        "hidden": true,
        "id": "9ire-2nCHigl",
        "outputId": "0e6fd776-715e-4a85-a833-f86c472f7f01",
        "colab": {
          "base_uri": "https://localhost:8080/",
          "height": 418
        }
      },
      "outputs": [
        {
          "output_type": "display_data",
          "data": {
            "text/plain": [
              "<Figure size 640x480 with 1 Axes>"
            ],
            "image/svg+xml": "<?xml version=\"1.0\" encoding=\"utf-8\" standalone=\"no\"?>\n<!DOCTYPE svg PUBLIC \"-//W3C//DTD SVG 1.1//EN\"\n  \"http://www.w3.org/Graphics/SVG/1.1/DTD/svg11.dtd\">\n<svg xmlns:xlink=\"http://www.w3.org/1999/xlink\" width=\"394.423125pt\" height=\"297.190125pt\" viewBox=\"0 0 394.423125 297.190125\" xmlns=\"http://www.w3.org/2000/svg\" version=\"1.1\">\n <metadata>\n  <rdf:RDF xmlns:dc=\"http://purl.org/dc/elements/1.1/\" xmlns:cc=\"http://creativecommons.org/ns#\" xmlns:rdf=\"http://www.w3.org/1999/02/22-rdf-syntax-ns#\">\n   <cc:Work>\n    <dc:type rdf:resource=\"http://purl.org/dc/dcmitype/StillImage\"/>\n    <dc:date>2024-11-09T17:15:45.332750</dc:date>\n    <dc:format>image/svg+xml</dc:format>\n    <dc:creator>\n     <cc:Agent>\n      <dc:title>Matplotlib v3.8.0, https://matplotlib.org/</dc:title>\n     </cc:Agent>\n    </dc:creator>\n   </cc:Work>\n  </rdf:RDF>\n </metadata>\n <defs>\n  <style type=\"text/css\">*{stroke-linejoin: round; stroke-linecap: butt}</style>\n </defs>\n <g id=\"figure_1\">\n  <g id=\"patch_1\">\n   <path d=\"M 0 297.190125 \nL 394.423125 297.190125 \nL 394.423125 0 \nL 0 0 \nz\n\" style=\"fill: #ffffff\"/>\n  </g>\n  <g id=\"axes_1\">\n   <g id=\"patch_2\">\n    <path d=\"M 30.103125 273.312 \nL 387.223125 273.312 \nL 387.223125 7.2 \nL 30.103125 7.2 \nz\n\" style=\"fill: #ffffff\"/>\n   </g>\n   <g id=\"matplotlib.axis_1\">\n    <g id=\"xtick_1\">\n     <g id=\"line2d_1\">\n      <defs>\n       <path id=\"m4fbe45c052\" d=\"M 0 0 \nL 0 3.5 \n\" style=\"stroke: #000000; stroke-width: 0.8\"/>\n      </defs>\n      <g>\n       <use xlink:href=\"#m4fbe45c052\" x=\"46.335852\" y=\"273.312\" style=\"stroke: #000000; stroke-width: 0.8\"/>\n      </g>\n     </g>\n     <g id=\"text_1\">\n      <!-- 0.0 -->\n      <g transform=\"translate(38.38429 287.910437) scale(0.1 -0.1)\">\n       <defs>\n        <path id=\"DejaVuSans-30\" d=\"M 2034 4250 \nQ 1547 4250 1301 3770 \nQ 1056 3291 1056 2328 \nQ 1056 1369 1301 889 \nQ 1547 409 2034 409 \nQ 2525 409 2770 889 \nQ 3016 1369 3016 2328 \nQ 3016 3291 2770 3770 \nQ 2525 4250 2034 4250 \nz\nM 2034 4750 \nQ 2819 4750 3233 4129 \nQ 3647 3509 3647 2328 \nQ 3647 1150 3233 529 \nQ 2819 -91 2034 -91 \nQ 1250 -91 836 529 \nQ 422 1150 422 2328 \nQ 422 3509 836 4129 \nQ 1250 4750 2034 4750 \nz\n\" transform=\"scale(0.015625)\"/>\n        <path id=\"DejaVuSans-2e\" d=\"M 684 794 \nL 1344 794 \nL 1344 0 \nL 684 0 \nL 684 794 \nz\n\" transform=\"scale(0.015625)\"/>\n       </defs>\n       <use xlink:href=\"#DejaVuSans-30\"/>\n       <use xlink:href=\"#DejaVuSans-2e\" x=\"63.623047\"/>\n       <use xlink:href=\"#DejaVuSans-30\" x=\"95.410156\"/>\n      </g>\n     </g>\n    </g>\n    <g id=\"xtick_2\">\n     <g id=\"line2d_2\">\n      <g>\n       <use xlink:href=\"#m4fbe45c052\" x=\"111.266761\" y=\"273.312\" style=\"stroke: #000000; stroke-width: 0.8\"/>\n      </g>\n     </g>\n     <g id=\"text_2\">\n      <!-- 0.2 -->\n      <g transform=\"translate(103.315199 287.910437) scale(0.1 -0.1)\">\n       <defs>\n        <path id=\"DejaVuSans-32\" d=\"M 1228 531 \nL 3431 531 \nL 3431 0 \nL 469 0 \nL 469 531 \nQ 828 903 1448 1529 \nQ 2069 2156 2228 2338 \nQ 2531 2678 2651 2914 \nQ 2772 3150 2772 3378 \nQ 2772 3750 2511 3984 \nQ 2250 4219 1831 4219 \nQ 1534 4219 1204 4116 \nQ 875 4013 500 3803 \nL 500 4441 \nQ 881 4594 1212 4672 \nQ 1544 4750 1819 4750 \nQ 2544 4750 2975 4387 \nQ 3406 4025 3406 3419 \nQ 3406 3131 3298 2873 \nQ 3191 2616 2906 2266 \nQ 2828 2175 2409 1742 \nQ 1991 1309 1228 531 \nz\n\" transform=\"scale(0.015625)\"/>\n       </defs>\n       <use xlink:href=\"#DejaVuSans-30\"/>\n       <use xlink:href=\"#DejaVuSans-2e\" x=\"63.623047\"/>\n       <use xlink:href=\"#DejaVuSans-32\" x=\"95.410156\"/>\n      </g>\n     </g>\n    </g>\n    <g id=\"xtick_3\">\n     <g id=\"line2d_3\">\n      <g>\n       <use xlink:href=\"#m4fbe45c052\" x=\"176.19767\" y=\"273.312\" style=\"stroke: #000000; stroke-width: 0.8\"/>\n      </g>\n     </g>\n     <g id=\"text_3\">\n      <!-- 0.4 -->\n      <g transform=\"translate(168.246108 287.910437) scale(0.1 -0.1)\">\n       <defs>\n        <path id=\"DejaVuSans-34\" d=\"M 2419 4116 \nL 825 1625 \nL 2419 1625 \nL 2419 4116 \nz\nM 2253 4666 \nL 3047 4666 \nL 3047 1625 \nL 3713 1625 \nL 3713 1100 \nL 3047 1100 \nL 3047 0 \nL 2419 0 \nL 2419 1100 \nL 313 1100 \nL 313 1709 \nL 2253 4666 \nz\n\" transform=\"scale(0.015625)\"/>\n       </defs>\n       <use xlink:href=\"#DejaVuSans-30\"/>\n       <use xlink:href=\"#DejaVuSans-2e\" x=\"63.623047\"/>\n       <use xlink:href=\"#DejaVuSans-34\" x=\"95.410156\"/>\n      </g>\n     </g>\n    </g>\n    <g id=\"xtick_4\">\n     <g id=\"line2d_4\">\n      <g>\n       <use xlink:href=\"#m4fbe45c052\" x=\"241.12858\" y=\"273.312\" style=\"stroke: #000000; stroke-width: 0.8\"/>\n      </g>\n     </g>\n     <g id=\"text_4\">\n      <!-- 0.6 -->\n      <g transform=\"translate(233.177017 287.910437) scale(0.1 -0.1)\">\n       <defs>\n        <path id=\"DejaVuSans-36\" d=\"M 2113 2584 \nQ 1688 2584 1439 2293 \nQ 1191 2003 1191 1497 \nQ 1191 994 1439 701 \nQ 1688 409 2113 409 \nQ 2538 409 2786 701 \nQ 3034 994 3034 1497 \nQ 3034 2003 2786 2293 \nQ 2538 2584 2113 2584 \nz\nM 3366 4563 \nL 3366 3988 \nQ 3128 4100 2886 4159 \nQ 2644 4219 2406 4219 \nQ 1781 4219 1451 3797 \nQ 1122 3375 1075 2522 \nQ 1259 2794 1537 2939 \nQ 1816 3084 2150 3084 \nQ 2853 3084 3261 2657 \nQ 3669 2231 3669 1497 \nQ 3669 778 3244 343 \nQ 2819 -91 2113 -91 \nQ 1303 -91 875 529 \nQ 447 1150 447 2328 \nQ 447 3434 972 4092 \nQ 1497 4750 2381 4750 \nQ 2619 4750 2861 4703 \nQ 3103 4656 3366 4563 \nz\n\" transform=\"scale(0.015625)\"/>\n       </defs>\n       <use xlink:href=\"#DejaVuSans-30\"/>\n       <use xlink:href=\"#DejaVuSans-2e\" x=\"63.623047\"/>\n       <use xlink:href=\"#DejaVuSans-36\" x=\"95.410156\"/>\n      </g>\n     </g>\n    </g>\n    <g id=\"xtick_5\">\n     <g id=\"line2d_5\">\n      <g>\n       <use xlink:href=\"#m4fbe45c052\" x=\"306.059489\" y=\"273.312\" style=\"stroke: #000000; stroke-width: 0.8\"/>\n      </g>\n     </g>\n     <g id=\"text_5\">\n      <!-- 0.8 -->\n      <g transform=\"translate(298.107926 287.910437) scale(0.1 -0.1)\">\n       <defs>\n        <path id=\"DejaVuSans-38\" d=\"M 2034 2216 \nQ 1584 2216 1326 1975 \nQ 1069 1734 1069 1313 \nQ 1069 891 1326 650 \nQ 1584 409 2034 409 \nQ 2484 409 2743 651 \nQ 3003 894 3003 1313 \nQ 3003 1734 2745 1975 \nQ 2488 2216 2034 2216 \nz\nM 1403 2484 \nQ 997 2584 770 2862 \nQ 544 3141 544 3541 \nQ 544 4100 942 4425 \nQ 1341 4750 2034 4750 \nQ 2731 4750 3128 4425 \nQ 3525 4100 3525 3541 \nQ 3525 3141 3298 2862 \nQ 3072 2584 2669 2484 \nQ 3125 2378 3379 2068 \nQ 3634 1759 3634 1313 \nQ 3634 634 3220 271 \nQ 2806 -91 2034 -91 \nQ 1263 -91 848 271 \nQ 434 634 434 1313 \nQ 434 1759 690 2068 \nQ 947 2378 1403 2484 \nz\nM 1172 3481 \nQ 1172 3119 1398 2916 \nQ 1625 2713 2034 2713 \nQ 2441 2713 2670 2916 \nQ 2900 3119 2900 3481 \nQ 2900 3844 2670 4047 \nQ 2441 4250 2034 4250 \nQ 1625 4250 1398 4047 \nQ 1172 3844 1172 3481 \nz\n\" transform=\"scale(0.015625)\"/>\n       </defs>\n       <use xlink:href=\"#DejaVuSans-30\"/>\n       <use xlink:href=\"#DejaVuSans-2e\" x=\"63.623047\"/>\n       <use xlink:href=\"#DejaVuSans-38\" x=\"95.410156\"/>\n      </g>\n     </g>\n    </g>\n    <g id=\"xtick_6\">\n     <g id=\"line2d_6\">\n      <g>\n       <use xlink:href=\"#m4fbe45c052\" x=\"370.990398\" y=\"273.312\" style=\"stroke: #000000; stroke-width: 0.8\"/>\n      </g>\n     </g>\n     <g id=\"text_6\">\n      <!-- 1.0 -->\n      <g transform=\"translate(363.038835 287.910437) scale(0.1 -0.1)\">\n       <defs>\n        <path id=\"DejaVuSans-31\" d=\"M 794 531 \nL 1825 531 \nL 1825 4091 \nL 703 3866 \nL 703 4441 \nL 1819 4666 \nL 2450 4666 \nL 2450 531 \nL 3481 531 \nL 3481 0 \nL 794 0 \nL 794 531 \nz\n\" transform=\"scale(0.015625)\"/>\n       </defs>\n       <use xlink:href=\"#DejaVuSans-31\"/>\n       <use xlink:href=\"#DejaVuSans-2e\" x=\"63.623047\"/>\n       <use xlink:href=\"#DejaVuSans-30\" x=\"95.410156\"/>\n      </g>\n     </g>\n    </g>\n   </g>\n   <g id=\"matplotlib.axis_2\">\n    <g id=\"ytick_1\">\n     <g id=\"line2d_7\">\n      <defs>\n       <path id=\"m526afe6e56\" d=\"M 0 0 \nL -3.5 0 \n\" style=\"stroke: #000000; stroke-width: 0.8\"/>\n      </defs>\n      <g>\n       <use xlink:href=\"#m526afe6e56\" x=\"30.103125\" y=\"261.216\" style=\"stroke: #000000; stroke-width: 0.8\"/>\n      </g>\n     </g>\n     <g id=\"text_7\">\n      <!-- 0.0 -->\n      <g transform=\"translate(7.2 265.015219) scale(0.1 -0.1)\">\n       <use xlink:href=\"#DejaVuSans-30\"/>\n       <use xlink:href=\"#DejaVuSans-2e\" x=\"63.623047\"/>\n       <use xlink:href=\"#DejaVuSans-30\" x=\"95.410156\"/>\n      </g>\n     </g>\n    </g>\n    <g id=\"ytick_2\">\n     <g id=\"line2d_8\">\n      <g>\n       <use xlink:href=\"#m526afe6e56\" x=\"30.103125\" y=\"212.832\" style=\"stroke: #000000; stroke-width: 0.8\"/>\n      </g>\n     </g>\n     <g id=\"text_8\">\n      <!-- 0.2 -->\n      <g transform=\"translate(7.2 216.631219) scale(0.1 -0.1)\">\n       <use xlink:href=\"#DejaVuSans-30\"/>\n       <use xlink:href=\"#DejaVuSans-2e\" x=\"63.623047\"/>\n       <use xlink:href=\"#DejaVuSans-32\" x=\"95.410156\"/>\n      </g>\n     </g>\n    </g>\n    <g id=\"ytick_3\">\n     <g id=\"line2d_9\">\n      <g>\n       <use xlink:href=\"#m526afe6e56\" x=\"30.103125\" y=\"164.448\" style=\"stroke: #000000; stroke-width: 0.8\"/>\n      </g>\n     </g>\n     <g id=\"text_9\">\n      <!-- 0.4 -->\n      <g transform=\"translate(7.2 168.247219) scale(0.1 -0.1)\">\n       <use xlink:href=\"#DejaVuSans-30\"/>\n       <use xlink:href=\"#DejaVuSans-2e\" x=\"63.623047\"/>\n       <use xlink:href=\"#DejaVuSans-34\" x=\"95.410156\"/>\n      </g>\n     </g>\n    </g>\n    <g id=\"ytick_4\">\n     <g id=\"line2d_10\">\n      <g>\n       <use xlink:href=\"#m526afe6e56\" x=\"30.103125\" y=\"116.064\" style=\"stroke: #000000; stroke-width: 0.8\"/>\n      </g>\n     </g>\n     <g id=\"text_10\">\n      <!-- 0.6 -->\n      <g transform=\"translate(7.2 119.863219) scale(0.1 -0.1)\">\n       <use xlink:href=\"#DejaVuSans-30\"/>\n       <use xlink:href=\"#DejaVuSans-2e\" x=\"63.623047\"/>\n       <use xlink:href=\"#DejaVuSans-36\" x=\"95.410156\"/>\n      </g>\n     </g>\n    </g>\n    <g id=\"ytick_5\">\n     <g id=\"line2d_11\">\n      <g>\n       <use xlink:href=\"#m526afe6e56\" x=\"30.103125\" y=\"67.68\" style=\"stroke: #000000; stroke-width: 0.8\"/>\n      </g>\n     </g>\n     <g id=\"text_11\">\n      <!-- 0.8 -->\n      <g transform=\"translate(7.2 71.479219) scale(0.1 -0.1)\">\n       <use xlink:href=\"#DejaVuSans-30\"/>\n       <use xlink:href=\"#DejaVuSans-2e\" x=\"63.623047\"/>\n       <use xlink:href=\"#DejaVuSans-38\" x=\"95.410156\"/>\n      </g>\n     </g>\n    </g>\n    <g id=\"ytick_6\">\n     <g id=\"line2d_12\">\n      <g>\n       <use xlink:href=\"#m526afe6e56\" x=\"30.103125\" y=\"19.296\" style=\"stroke: #000000; stroke-width: 0.8\"/>\n      </g>\n     </g>\n     <g id=\"text_12\">\n      <!-- 1.0 -->\n      <g transform=\"translate(7.2 23.095219) scale(0.1 -0.1)\">\n       <use xlink:href=\"#DejaVuSans-31\"/>\n       <use xlink:href=\"#DejaVuSans-2e\" x=\"63.623047\"/>\n       <use xlink:href=\"#DejaVuSans-30\" x=\"95.410156\"/>\n      </g>\n     </g>\n    </g>\n   </g>\n   <g id=\"line2d_13\">\n    <defs>\n     <path id=\"mbb747f395e\" d=\"M 0 3 \nC 0.795609 3 1.55874 2.683901 2.12132 2.12132 \nC 2.683901 1.55874 3 0.795609 3 0 \nC 3 -0.795609 2.683901 -1.55874 2.12132 -2.12132 \nC 1.55874 -2.683901 0.795609 -3 0 -3 \nC -0.795609 -3 -1.55874 -2.683901 -2.12132 -2.12132 \nC -2.683901 -1.55874 -3 -0.795609 -3 0 \nC -3 0.795609 -2.683901 1.55874 -2.12132 2.12132 \nC -1.55874 2.683901 -0.795609 3 0 3 \nz\n\" style=\"stroke: #ff0000\"/>\n    </defs>\n    <g clip-path=\"url(#p0129304c59)\">\n     <use xlink:href=\"#mbb747f395e\" x=\"370.990398\" y=\"65.376012\" style=\"fill: #ff0000; stroke: #ff0000\"/>\n     <use xlink:href=\"#mbb747f395e\" x=\"278.231962\" y=\"88.415996\" style=\"fill: #ff0000; stroke: #ff0000\"/>\n     <use xlink:href=\"#mbb747f395e\" x=\"355.530678\" y=\"42.335984\" style=\"fill: #ff0000; stroke: #ff0000\"/>\n     <use xlink:href=\"#mbb747f395e\" x=\"139.094279\" y=\"146.015992\" style=\"fill: #ff0000; stroke: #ff0000\"/>\n     <use xlink:href=\"#mbb747f395e\" x=\"293.691701\" y=\"76.895997\" style=\"fill: #ff0000; stroke: #ff0000\"/>\n     <use xlink:href=\"#mbb747f395e\" x=\"170.013738\" y=\"88.415996\" style=\"fill: #ff0000; stroke: #ff0000\"/>\n     <use xlink:href=\"#mbb747f395e\" x=\"262.772242\" y=\"65.376012\" style=\"fill: #ff0000; stroke: #ff0000\"/>\n     <use xlink:href=\"#mbb747f395e\" x=\"46.335852\" y=\"226.656006\" style=\"fill: #ff0000; stroke: #ff0000\"/>\n     <use xlink:href=\"#mbb747f395e\" x=\"309.151421\" y=\"76.895997\" style=\"fill: #ff0000; stroke: #ff0000\"/>\n     <use xlink:href=\"#mbb747f395e\" x=\"92.715032\" y=\"157.535985\" style=\"fill: #ff0000; stroke: #ff0000\"/>\n     <use xlink:href=\"#mbb747f395e\" x=\"61.795578\" y=\"203.615996\" style=\"fill: #ff0000; stroke: #ff0000\"/>\n     <use xlink:href=\"#mbb747f395e\" x=\"200.933265\" y=\"122.976023\" style=\"fill: #ff0000; stroke: #ff0000\"/>\n     <use xlink:href=\"#mbb747f395e\" x=\"216.392985\" y=\"146.015992\" style=\"fill: #ff0000; stroke: #ff0000\"/>\n     <use xlink:href=\"#mbb747f395e\" x=\"231.852705\" y=\"65.376012\" style=\"fill: #ff0000; stroke: #ff0000\"/>\n     <use xlink:href=\"#mbb747f395e\" x=\"154.554008\" y=\"192.096011\" style=\"fill: #ff0000; stroke: #ff0000\"/>\n     <use xlink:href=\"#mbb747f395e\" x=\"324.611141\" y=\"99.935981\" style=\"fill: #ff0000; stroke: #ff0000\"/>\n     <use xlink:href=\"#mbb747f395e\" x=\"154.554008\" y=\"88.415996\" style=\"fill: #ff0000; stroke: #ff0000\"/>\n     <use xlink:href=\"#mbb747f395e\" x=\"185.473535\" y=\"134.496008\" style=\"fill: #ff0000; stroke: #ff0000\"/>\n     <use xlink:href=\"#mbb747f395e\" x=\"247.312444\" y=\"88.415996\" style=\"fill: #ff0000; stroke: #ff0000\"/>\n     <use xlink:href=\"#mbb747f395e\" x=\"154.554008\" y=\"157.535985\" style=\"fill: #ff0000; stroke: #ff0000\"/>\n     <use xlink:href=\"#mbb747f395e\" x=\"200.933265\" y=\"53.855969\" style=\"fill: #ff0000; stroke: #ff0000\"/>\n     <use xlink:href=\"#mbb747f395e\" x=\"231.852705\" y=\"146.015992\" style=\"fill: #ff0000; stroke: #ff0000\"/>\n     <use xlink:href=\"#mbb747f395e\" x=\"262.772242\" y=\"42.335984\" style=\"fill: #ff0000; stroke: #ff0000\"/>\n     <use xlink:href=\"#mbb747f395e\" x=\"231.852705\" y=\"65.376012\" style=\"fill: #ff0000; stroke: #ff0000\"/>\n     <use xlink:href=\"#mbb747f395e\" x=\"278.231962\" y=\"111.455966\" style=\"fill: #ff0000; stroke: #ff0000\"/>\n     <use xlink:href=\"#mbb747f395e\" x=\"309.151421\" y=\"99.935981\" style=\"fill: #ff0000; stroke: #ff0000\"/>\n     <use xlink:href=\"#mbb747f395e\" x=\"340.070938\" y=\"53.855969\" style=\"fill: #ff0000; stroke: #ff0000\"/>\n     <use xlink:href=\"#mbb747f395e\" x=\"324.611141\" y=\"30.815985\" style=\"fill: #ff0000; stroke: #ff0000\"/>\n     <use xlink:href=\"#mbb747f395e\" x=\"216.392985\" y=\"88.415996\" style=\"fill: #ff0000; stroke: #ff0000\"/>\n     <use xlink:href=\"#mbb747f395e\" x=\"170.013738\" y=\"203.615996\" style=\"fill: #ff0000; stroke: #ff0000\"/>\n     <use xlink:href=\"#mbb747f395e\" x=\"139.094279\" y=\"169.055998\" style=\"fill: #ff0000; stroke: #ff0000\"/>\n     <use xlink:href=\"#mbb747f395e\" x=\"139.094279\" y=\"180.57599\" style=\"fill: #ff0000; stroke: #ff0000\"/>\n     <use xlink:href=\"#mbb747f395e\" x=\"185.473535\" y=\"157.535985\" style=\"fill: #ff0000; stroke: #ff0000\"/>\n     <use xlink:href=\"#mbb747f395e\" x=\"216.392985\" y=\"19.296\" style=\"fill: #ff0000; stroke: #ff0000\"/>\n     <use xlink:href=\"#mbb747f395e\" x=\"123.634559\" y=\"88.415996\" style=\"fill: #ff0000; stroke: #ff0000\"/>\n     <use xlink:href=\"#mbb747f395e\" x=\"216.392985\" y=\"88.415996\" style=\"fill: #ff0000; stroke: #ff0000\"/>\n     <use xlink:href=\"#mbb747f395e\" x=\"324.611141\" y=\"65.376012\" style=\"fill: #ff0000; stroke: #ff0000\"/>\n     <use xlink:href=\"#mbb747f395e\" x=\"262.772242\" y=\"99.935981\" style=\"fill: #ff0000; stroke: #ff0000\"/>\n     <use xlink:href=\"#mbb747f395e\" x=\"154.554008\" y=\"134.496008\" style=\"fill: #ff0000; stroke: #ff0000\"/>\n     <use xlink:href=\"#mbb747f395e\" x=\"139.094279\" y=\"146.015992\" style=\"fill: #ff0000; stroke: #ff0000\"/>\n     <use xlink:href=\"#mbb747f395e\" x=\"139.094279\" y=\"99.935981\" style=\"fill: #ff0000; stroke: #ff0000\"/>\n     <use xlink:href=\"#mbb747f395e\" x=\"231.852705\" y=\"76.895997\" style=\"fill: #ff0000; stroke: #ff0000\"/>\n     <use xlink:href=\"#mbb747f395e\" x=\"185.473535\" y=\"146.015992\" style=\"fill: #ff0000; stroke: #ff0000\"/>\n     <use xlink:href=\"#mbb747f395e\" x=\"61.795578\" y=\"226.656006\" style=\"fill: #ff0000; stroke: #ff0000\"/>\n     <use xlink:href=\"#mbb747f395e\" x=\"154.554008\" y=\"122.976023\" style=\"fill: #ff0000; stroke: #ff0000\"/>\n     <use xlink:href=\"#mbb747f395e\" x=\"170.013738\" y=\"122.976023\" style=\"fill: #ff0000; stroke: #ff0000\"/>\n     <use xlink:href=\"#mbb747f395e\" x=\"170.013738\" y=\"122.976023\" style=\"fill: #ff0000; stroke: #ff0000\"/>\n     <use xlink:href=\"#mbb747f395e\" x=\"247.312444\" y=\"111.455966\" style=\"fill: #ff0000; stroke: #ff0000\"/>\n     <use xlink:href=\"#mbb747f395e\" x=\"77.255304\" y=\"261.216\" style=\"fill: #ff0000; stroke: #ff0000\"/>\n     <use xlink:href=\"#mbb747f395e\" x=\"170.013738\" y=\"134.496008\" style=\"fill: #ff0000; stroke: #ff0000\"/>\n    </g>\n   </g>\n   <g id=\"line2d_14\">\n    <path d=\"M 370.990398 32.327385 \nL 278.231962 79.535684 \nL 355.530678 40.19543 \nL 139.094279 150.348139 \nL 293.691701 71.667639 \nL 170.013738 134.612056 \nL 262.772242 87.403714 \nL 46.335852 197.55643 \nL 309.151421 63.799594 \nL 92.715032 173.952303 \nL 61.795578 189.688385 \nL 200.933265 118.875923 \nL 216.392985 111.007892 \nL 231.852705 103.139847 \nL 154.554008 142.480094 \nL 324.611141 55.931549 \nL 154.554008 142.480094 \nL 185.473535 126.743968 \nL 247.312444 95.271802 \nL 154.554008 142.480094 \nL 200.933265 118.875923 \nL 231.852705 103.139847 \nL 262.772242 87.403714 \nL 231.852705 103.139847 \nL 278.231962 79.535684 \nL 309.151421 63.799594 \nL 340.070938 48.063475 \nL 324.611141 55.931549 \nL 216.392985 111.007892 \nL 170.013738 134.612056 \nL 139.094279 150.348139 \nL 139.094279 150.348139 \nL 185.473535 126.743968 \nL 216.392985 111.007892 \nL 123.634559 158.216177 \nL 216.392985 111.007892 \nL 324.611141 55.931549 \nL 262.772242 87.403714 \nL 154.554008 142.480094 \nL 139.094279 150.348139 \nL 139.094279 150.348139 \nL 231.852705 103.139847 \nL 185.473535 126.743968 \nL 61.795578 189.688385 \nL 154.554008 142.480094 \nL 170.013738 134.612056 \nL 170.013738 134.612056 \nL 247.312444 95.271802 \nL 77.255304 181.820348 \nL 170.013738 134.612042 \n\" clip-path=\"url(#p0129304c59)\" style=\"fill: none; stroke: #000000; stroke-width: 1.5; stroke-linecap: square\"/>\n    <defs>\n     <path id=\"m4318deda74\" d=\"M -3 3 \nL 3 -3 \nM -3 -3 \nL 3 3 \n\" style=\"stroke: #000000\"/>\n    </defs>\n    <g clip-path=\"url(#p0129304c59)\">\n     <use xlink:href=\"#m4318deda74\" x=\"370.990398\" y=\"32.327385\" style=\"stroke: #000000\"/>\n     <use xlink:href=\"#m4318deda74\" x=\"278.231962\" y=\"79.535684\" style=\"stroke: #000000\"/>\n     <use xlink:href=\"#m4318deda74\" x=\"355.530678\" y=\"40.19543\" style=\"stroke: #000000\"/>\n     <use xlink:href=\"#m4318deda74\" x=\"139.094279\" y=\"150.348139\" style=\"stroke: #000000\"/>\n     <use xlink:href=\"#m4318deda74\" x=\"293.691701\" y=\"71.667639\" style=\"stroke: #000000\"/>\n     <use xlink:href=\"#m4318deda74\" x=\"170.013738\" y=\"134.612056\" style=\"stroke: #000000\"/>\n     <use xlink:href=\"#m4318deda74\" x=\"262.772242\" y=\"87.403714\" style=\"stroke: #000000\"/>\n     <use xlink:href=\"#m4318deda74\" x=\"46.335852\" y=\"197.55643\" style=\"stroke: #000000\"/>\n     <use xlink:href=\"#m4318deda74\" x=\"309.151421\" y=\"63.799594\" style=\"stroke: #000000\"/>\n     <use xlink:href=\"#m4318deda74\" x=\"92.715032\" y=\"173.952303\" style=\"stroke: #000000\"/>\n     <use xlink:href=\"#m4318deda74\" x=\"61.795578\" y=\"189.688385\" style=\"stroke: #000000\"/>\n     <use xlink:href=\"#m4318deda74\" x=\"200.933265\" y=\"118.875923\" style=\"stroke: #000000\"/>\n     <use xlink:href=\"#m4318deda74\" x=\"216.392985\" y=\"111.007892\" style=\"stroke: #000000\"/>\n     <use xlink:href=\"#m4318deda74\" x=\"231.852705\" y=\"103.139847\" style=\"stroke: #000000\"/>\n     <use xlink:href=\"#m4318deda74\" x=\"154.554008\" y=\"142.480094\" style=\"stroke: #000000\"/>\n     <use xlink:href=\"#m4318deda74\" x=\"324.611141\" y=\"55.931549\" style=\"stroke: #000000\"/>\n     <use xlink:href=\"#m4318deda74\" x=\"154.554008\" y=\"142.480094\" style=\"stroke: #000000\"/>\n     <use xlink:href=\"#m4318deda74\" x=\"185.473535\" y=\"126.743968\" style=\"stroke: #000000\"/>\n     <use xlink:href=\"#m4318deda74\" x=\"247.312444\" y=\"95.271802\" style=\"stroke: #000000\"/>\n     <use xlink:href=\"#m4318deda74\" x=\"154.554008\" y=\"142.480094\" style=\"stroke: #000000\"/>\n     <use xlink:href=\"#m4318deda74\" x=\"200.933265\" y=\"118.875923\" style=\"stroke: #000000\"/>\n     <use xlink:href=\"#m4318deda74\" x=\"231.852705\" y=\"103.139847\" style=\"stroke: #000000\"/>\n     <use xlink:href=\"#m4318deda74\" x=\"262.772242\" y=\"87.403714\" style=\"stroke: #000000\"/>\n     <use xlink:href=\"#m4318deda74\" x=\"231.852705\" y=\"103.139847\" style=\"stroke: #000000\"/>\n     <use xlink:href=\"#m4318deda74\" x=\"278.231962\" y=\"79.535684\" style=\"stroke: #000000\"/>\n     <use xlink:href=\"#m4318deda74\" x=\"309.151421\" y=\"63.799594\" style=\"stroke: #000000\"/>\n     <use xlink:href=\"#m4318deda74\" x=\"340.070938\" y=\"48.063475\" style=\"stroke: #000000\"/>\n     <use xlink:href=\"#m4318deda74\" x=\"324.611141\" y=\"55.931549\" style=\"stroke: #000000\"/>\n     <use xlink:href=\"#m4318deda74\" x=\"216.392985\" y=\"111.007892\" style=\"stroke: #000000\"/>\n     <use xlink:href=\"#m4318deda74\" x=\"170.013738\" y=\"134.612056\" style=\"stroke: #000000\"/>\n     <use xlink:href=\"#m4318deda74\" x=\"139.094279\" y=\"150.348139\" style=\"stroke: #000000\"/>\n     <use xlink:href=\"#m4318deda74\" x=\"139.094279\" y=\"150.348139\" style=\"stroke: #000000\"/>\n     <use xlink:href=\"#m4318deda74\" x=\"185.473535\" y=\"126.743968\" style=\"stroke: #000000\"/>\n     <use xlink:href=\"#m4318deda74\" x=\"216.392985\" y=\"111.007892\" style=\"stroke: #000000\"/>\n     <use xlink:href=\"#m4318deda74\" x=\"123.634559\" y=\"158.216177\" style=\"stroke: #000000\"/>\n     <use xlink:href=\"#m4318deda74\" x=\"216.392985\" y=\"111.007892\" style=\"stroke: #000000\"/>\n     <use xlink:href=\"#m4318deda74\" x=\"324.611141\" y=\"55.931549\" style=\"stroke: #000000\"/>\n     <use xlink:href=\"#m4318deda74\" x=\"262.772242\" y=\"87.403714\" style=\"stroke: #000000\"/>\n     <use xlink:href=\"#m4318deda74\" x=\"154.554008\" y=\"142.480094\" style=\"stroke: #000000\"/>\n     <use xlink:href=\"#m4318deda74\" x=\"139.094279\" y=\"150.348139\" style=\"stroke: #000000\"/>\n     <use xlink:href=\"#m4318deda74\" x=\"139.094279\" y=\"150.348139\" style=\"stroke: #000000\"/>\n     <use xlink:href=\"#m4318deda74\" x=\"231.852705\" y=\"103.139847\" style=\"stroke: #000000\"/>\n     <use xlink:href=\"#m4318deda74\" x=\"185.473535\" y=\"126.743968\" style=\"stroke: #000000\"/>\n     <use xlink:href=\"#m4318deda74\" x=\"61.795578\" y=\"189.688385\" style=\"stroke: #000000\"/>\n     <use xlink:href=\"#m4318deda74\" x=\"154.554008\" y=\"142.480094\" style=\"stroke: #000000\"/>\n     <use xlink:href=\"#m4318deda74\" x=\"170.013738\" y=\"134.612056\" style=\"stroke: #000000\"/>\n     <use xlink:href=\"#m4318deda74\" x=\"170.013738\" y=\"134.612056\" style=\"stroke: #000000\"/>\n     <use xlink:href=\"#m4318deda74\" x=\"247.312444\" y=\"95.271802\" style=\"stroke: #000000\"/>\n     <use xlink:href=\"#m4318deda74\" x=\"77.255304\" y=\"181.820348\" style=\"stroke: #000000\"/>\n     <use xlink:href=\"#m4318deda74\" x=\"170.013738\" y=\"134.612042\" style=\"stroke: #000000\"/>\n    </g>\n   </g>\n   <g id=\"patch_3\">\n    <path d=\"M 30.103125 273.312 \nL 30.103125 7.2 \n\" style=\"fill: none; stroke: #000000; stroke-width: 0.8; stroke-linejoin: miter; stroke-linecap: square\"/>\n   </g>\n   <g id=\"patch_4\">\n    <path d=\"M 387.223125 273.312 \nL 387.223125 7.2 \n\" style=\"fill: none; stroke: #000000; stroke-width: 0.8; stroke-linejoin: miter; stroke-linecap: square\"/>\n   </g>\n   <g id=\"patch_5\">\n    <path d=\"M 30.103125 273.312 \nL 387.223125 273.312 \n\" style=\"fill: none; stroke: #000000; stroke-width: 0.8; stroke-linejoin: miter; stroke-linecap: square\"/>\n   </g>\n   <g id=\"patch_6\">\n    <path d=\"M 30.103125 7.2 \nL 387.223125 7.2 \n\" style=\"fill: none; stroke: #000000; stroke-width: 0.8; stroke-linejoin: miter; stroke-linecap: square\"/>\n   </g>\n  </g>\n </g>\n <defs>\n  <clipPath id=\"p0129304c59\">\n   <rect x=\"30.103125\" y=\"7.2\" width=\"357.12\" height=\"266.112\"/>\n  </clipPath>\n </defs>\n</svg>\n"
          },
          "metadata": {}
        }
      ],
      "source": [
        "y_pred = model(Variable(x_train_bias))\n",
        "plt.plot(x_train, y_train.numpy(), 'ro', label='Original data')\n",
        "plt.plot(x_train, y_pred.data.numpy(), 'kx-', label='Fitting Line')\n",
        "plt.show()"
      ]
    },
    {
      "cell_type": "markdown",
      "metadata": {
        "hidden": true,
        "id": "-jQncN7PHigp"
      },
      "source": [
        "### Acessando os parâmetros"
      ]
    },
    {
      "cell_type": "code",
      "execution_count": 79,
      "metadata": {
        "ExecuteTime": {
          "end_time": "2017-11-23T23:50:37.797767Z",
          "start_time": "2017-11-23T23:50:37.787839Z"
        },
        "hidden": true,
        "id": "byxPWYlFHigq",
        "outputId": "d607def5-0395-4691-b438-600c28c17d9e",
        "colab": {
          "base_uri": "https://localhost:8080/"
        }
      },
      "outputs": [
        {
          "output_type": "execute_result",
          "data": {
            "text/plain": [
              "OrderedDict([('weight', tensor([[0.2631, 0.6830]]))])"
            ]
          },
          "metadata": {},
          "execution_count": 79
        }
      ],
      "source": [
        "w_dic = model.state_dict()\n",
        "w_dic"
      ]
    },
    {
      "cell_type": "markdown",
      "metadata": {
        "hidden": true,
        "id": "mGK_1QtNHigw"
      },
      "source": [
        "### Parâmetros ótimos, solução analítica"
      ]
    },
    {
      "cell_type": "code",
      "execution_count": 80,
      "metadata": {
        "ExecuteTime": {
          "end_time": "2017-11-23T23:50:37.809980Z",
          "start_time": "2017-11-23T23:50:37.800833Z"
        },
        "hidden": true,
        "id": "5jrFm0pXHigx",
        "outputId": "85b121ae-5e05-4ced-8cff-ae18e3df4f71",
        "colab": {
          "base_uri": "https://localhost:8080/"
        }
      },
      "outputs": [
        {
          "output_type": "stream",
          "name": "stdout",
          "text": [
            "tensor([[0.2613, 0.6865]])\n"
          ]
        }
      ],
      "source": [
        "x_bias = x_train_bias\n",
        "y = y_train\n",
        "x_bias_t = torch.t(x_bias)\n",
        "w_opt = (torch.inverse(x_bias_t.mm(x_bias)).mm(x_bias_t)).mm(y)\n",
        "print(torch.t(w_opt))"
      ]
    },
    {
      "cell_type": "markdown",
      "metadata": {
        "collapsed": true,
        "heading_collapsed": true,
        "id": "AmTLHbBcHig3"
      },
      "source": [
        "# Exercícios"
      ]
    },
    {
      "cell_type": "markdown",
      "metadata": {
        "hidden": true,
        "id": "0826M7y0Hig5"
      },
      "source": [
        "- 1) Por que no final da varredura do laço de treinamento, a perda é impressa utilizando\n",
        "   `loss.data`? Por que precisa do `data`?\n",
        "   "
      ]
    },
    {
      "cell_type": "markdown",
      "source": [
        "**R:** `loss` é uma variável do tipo Tensor criado pela biblioteca Torch. Para acessar o seu conteúdo utiliza-se o atributo `data`."
      ],
      "metadata": {
        "id": "piEw5fZ65_hn"
      }
    },
    {
      "cell_type": "markdown",
      "metadata": {
        "hidden": true,
        "id": "cUhiv-56Hig5"
      },
      "source": [
        "- 2) Calcule e imprima o valor da perda (MSE) fazendo o predict da rede com os pesos já\n",
        "   treinados."
      ]
    },
    {
      "cell_type": "code",
      "source": [
        "y_pred = model(x_train_bias)\n",
        "loss = torch.mean((y_pred - y_train) ** 2)\n",
        "print(f'Perda após o treinamento: {loss.data}')"
      ],
      "metadata": {
        "colab": {
          "base_uri": "https://localhost:8080/"
        },
        "id": "Hs2wD7g36SfB",
        "outputId": "c630402e-c877-4f74-dc47-063d90bc4df2"
      },
      "execution_count": 86,
      "outputs": [
        {
          "output_type": "stream",
          "name": "stdout",
          "text": [
            "Perda após o treinamento: 0.021170146763324738\n"
          ]
        }
      ]
    },
    {
      "cell_type": "markdown",
      "metadata": {
        "hidden": true,
        "id": "pwrS4OGkHig7"
      },
      "source": [
        "- 3) Crie duas listas `w0_list` e `w1_list` para guardar a evolução dos valores dos\n",
        "   parâmetros durante o laço de treinamento.\n",
        "   Modifique o exemplo do gráfico tipo **scatter plot** para visualizar a variação\n",
        "   dos parâmetros do modelo duas dimensões.\n",
        "   Marque neste gráfico o valor ótimo do parâmetro dado pela solução\n",
        "   analítica."
      ]
    },
    {
      "cell_type": "markdown",
      "metadata": {
        "hidden": true,
        "id": "9zKM4-2UHig7"
      },
      "source": [
        "## Ploting vectors"
      ]
    },
    {
      "cell_type": "code",
      "execution_count": 96,
      "metadata": {
        "ExecuteTime": {
          "end_time": "2017-11-23T23:57:26.723894Z",
          "start_time": "2017-11-23T23:57:26.517830Z"
        },
        "hidden": true,
        "id": "hXA1HhnsHig8",
        "outputId": "db708b42-14eb-4f87-88fc-7ab3e58aea7b",
        "colab": {
          "base_uri": "https://localhost:8080/",
          "height": 436
        }
      },
      "outputs": [
        {
          "output_type": "display_data",
          "data": {
            "text/plain": [
              "<Figure size 640x480 with 1 Axes>"
            ],
            "image/svg+xml": "<?xml version=\"1.0\" encoding=\"utf-8\" standalone=\"no\"?>\n<!DOCTYPE svg PUBLIC \"-//W3C//DTD SVG 1.1//EN\"\n  \"http://www.w3.org/Graphics/SVG/1.1/DTD/svg11.dtd\">\n<svg xmlns:xlink=\"http://www.w3.org/1999/xlink\" width=\"408.10125pt\" height=\"310.86825pt\" viewBox=\"0 0 408.10125 310.86825\" xmlns=\"http://www.w3.org/2000/svg\" version=\"1.1\">\n <metadata>\n  <rdf:RDF xmlns:dc=\"http://purl.org/dc/elements/1.1/\" xmlns:cc=\"http://creativecommons.org/ns#\" xmlns:rdf=\"http://www.w3.org/1999/02/22-rdf-syntax-ns#\">\n   <cc:Work>\n    <dc:type rdf:resource=\"http://purl.org/dc/dcmitype/StillImage\"/>\n    <dc:date>2024-11-09T17:22:20.195844</dc:date>\n    <dc:format>image/svg+xml</dc:format>\n    <dc:creator>\n     <cc:Agent>\n      <dc:title>Matplotlib v3.8.0, https://matplotlib.org/</dc:title>\n     </cc:Agent>\n    </dc:creator>\n   </cc:Work>\n  </rdf:RDF>\n </metadata>\n <defs>\n  <style type=\"text/css\">*{stroke-linejoin: round; stroke-linecap: butt}</style>\n </defs>\n <g id=\"figure_1\">\n  <g id=\"patch_1\">\n   <path d=\"M 0 310.86825 \nL 408.10125 310.86825 \nL 408.10125 0 \nL 0 0 \nz\n\" style=\"fill: #ffffff\"/>\n  </g>\n  <g id=\"axes_1\">\n   <g id=\"patch_2\">\n    <path d=\"M 43.78125 273.312 \nL 400.90125 273.312 \nL 400.90125 7.2 \nL 43.78125 7.2 \nz\n\" style=\"fill: #ffffff\"/>\n   </g>\n   <g id=\"PathCollection_1\">\n    <defs>\n     <path id=\"mbd69737a5e\" d=\"M 0 3 \nC 0.795609 3 1.55874 2.683901 2.12132 2.12132 \nC 2.683901 1.55874 3 0.795609 3 0 \nC 3 -0.795609 2.683901 -1.55874 2.12132 -2.12132 \nC 1.55874 -2.683901 0.795609 -3 0 -3 \nC -0.795609 -3 -1.55874 -2.683901 -2.12132 -2.12132 \nC -2.683901 -1.55874 -3 -0.795609 -3 0 \nC -3 0.795609 -2.683901 1.55874 -2.12132 2.12132 \nC -1.55874 2.683901 -0.795609 3 0 3 \nz\n\" style=\"stroke: #1f77b4\"/>\n    </defs>\n    <g clip-path=\"url(#pbac0282a1f)\">\n     <use xlink:href=\"#mbd69737a5e\" x=\"60.133385\" y=\"261.067204\" style=\"fill: #1f77b4; stroke: #1f77b4\"/>\n     <use xlink:href=\"#mbd69737a5e\" x=\"384.581165\" y=\"135.565732\" style=\"fill: #1f77b4; stroke: #1f77b4\"/>\n     <use xlink:href=\"#mbd69737a5e\" x=\"295.39644\" y=\"159.156963\" style=\"fill: #1f77b4; stroke: #1f77b4\"/>\n     <use xlink:href=\"#mbd69737a5e\" x=\"312.160982\" y=\"145.065595\" style=\"fill: #1f77b4; stroke: #1f77b4\"/>\n     <use xlink:href=\"#mbd69737a5e\" x=\"302.147276\" y=\"140.979629\" style=\"fill: #1f77b4; stroke: #1f77b4\"/>\n     <use xlink:href=\"#mbd69737a5e\" x=\"299.243675\" y=\"134.700495\" style=\"fill: #1f77b4; stroke: #1f77b4\"/>\n     <use xlink:href=\"#mbd69737a5e\" x=\"294.781555\" y=\"129.326903\" style=\"fill: #1f77b4; stroke: #1f77b4\"/>\n     <use xlink:href=\"#mbd69737a5e\" x=\"290.962939\" y=\"124.051078\" style=\"fill: #1f77b4; stroke: #1f77b4\"/>\n     <use xlink:href=\"#mbd69737a5e\" x=\"287.213788\" y=\"119.063824\" style=\"fill: #1f77b4; stroke: #1f77b4\"/>\n     <use xlink:href=\"#mbd69737a5e\" x=\"283.66971\" y=\"114.301618\" style=\"fill: #1f77b4; stroke: #1f77b4\"/>\n     <use xlink:href=\"#mbd69737a5e\" x=\"280.285562\" y=\"109.766602\" style=\"fill: #1f77b4; stroke: #1f77b4\"/>\n     <use xlink:href=\"#mbd69737a5e\" x=\"277.062849\" y=\"105.444796\" style=\"fill: #1f77b4; stroke: #1f77b4\"/>\n     <use xlink:href=\"#mbd69737a5e\" x=\"273.991656\" y=\"101.326981\" style=\"fill: #1f77b4; stroke: #1f77b4\"/>\n     <use xlink:href=\"#mbd69737a5e\" x=\"271.065432\" y=\"97.403321\" style=\"fill: #1f77b4; stroke: #1f77b4\"/>\n     <use xlink:href=\"#mbd69737a5e\" x=\"268.277172\" y=\"93.664718\" style=\"fill: #1f77b4; stroke: #1f77b4\"/>\n     <use xlink:href=\"#mbd69737a5e\" x=\"265.620412\" y=\"90.102432\" style=\"fill: #1f77b4; stroke: #1f77b4\"/>\n     <use xlink:href=\"#mbd69737a5e\" x=\"263.088951\" y=\"86.708147\" style=\"fill: #1f77b4; stroke: #1f77b4\"/>\n     <use xlink:href=\"#mbd69737a5e\" x=\"260.676881\" y=\"83.473935\" style=\"fill: #1f77b4; stroke: #1f77b4\"/>\n     <use xlink:href=\"#mbd69737a5e\" x=\"258.378557\" y=\"80.392262\" style=\"fill: #1f77b4; stroke: #1f77b4\"/>\n     <use xlink:href=\"#mbd69737a5e\" x=\"256.188642\" y=\"77.45591\" style=\"fill: #1f77b4; stroke: #1f77b4\"/>\n     <use xlink:href=\"#mbd69737a5e\" x=\"254.101988\" y=\"74.658057\" style=\"fill: #1f77b4; stroke: #1f77b4\"/>\n     <use xlink:href=\"#mbd69737a5e\" x=\"252.113768\" y=\"71.992144\" style=\"fill: #1f77b4; stroke: #1f77b4\"/>\n     <use xlink:href=\"#mbd69737a5e\" x=\"250.219289\" y=\"69.451959\" style=\"fill: #1f77b4; stroke: #1f77b4\"/>\n     <use xlink:href=\"#mbd69737a5e\" x=\"248.414163\" y=\"67.031571\" style=\"fill: #1f77b4; stroke: #1f77b4\"/>\n     <use xlink:href=\"#mbd69737a5e\" x=\"246.694179\" y=\"64.725337\" style=\"fill: #1f77b4; stroke: #1f77b4\"/>\n     <use xlink:href=\"#mbd69737a5e\" x=\"245.0553\" y=\"62.527855\" style=\"fill: #1f77b4; stroke: #1f77b4\"/>\n     <use xlink:href=\"#mbd69737a5e\" x=\"243.493709\" y=\"60.434028\" style=\"fill: #1f77b4; stroke: #1f77b4\"/>\n     <use xlink:href=\"#mbd69737a5e\" x=\"242.00578\" y=\"58.438944\" style=\"fill: #1f77b4; stroke: #1f77b4\"/>\n     <use xlink:href=\"#mbd69737a5e\" x=\"240.588017\" y=\"56.537952\" style=\"fill: #1f77b4; stroke: #1f77b4\"/>\n     <use xlink:href=\"#mbd69737a5e\" x=\"239.237116\" y=\"54.726605\" style=\"fill: #1f77b4; stroke: #1f77b4\"/>\n     <use xlink:href=\"#mbd69737a5e\" x=\"237.949932\" y=\"53.000681\" style=\"fill: #1f77b4; stroke: #1f77b4\"/>\n     <use xlink:href=\"#mbd69737a5e\" x=\"236.723438\" y=\"51.356158\" style=\"fill: #1f77b4; stroke: #1f77b4\"/>\n     <use xlink:href=\"#mbd69737a5e\" x=\"235.554797\" y=\"49.7892\" style=\"fill: #1f77b4; stroke: #1f77b4\"/>\n     <use xlink:href=\"#mbd69737a5e\" x=\"234.441274\" y=\"48.29613\" style=\"fill: #1f77b4; stroke: #1f77b4\"/>\n     <use xlink:href=\"#mbd69737a5e\" x=\"233.380266\" y=\"46.873478\" style=\"fill: #1f77b4; stroke: #1f77b4\"/>\n     <use xlink:href=\"#mbd69737a5e\" x=\"232.369288\" y=\"45.517912\" style=\"fill: #1f77b4; stroke: #1f77b4\"/>\n     <use xlink:href=\"#mbd69737a5e\" x=\"231.405984\" y=\"44.226286\" style=\"fill: #1f77b4; stroke: #1f77b4\"/>\n     <use xlink:href=\"#mbd69737a5e\" x=\"230.488117\" y=\"42.995574\" style=\"fill: #1f77b4; stroke: #1f77b4\"/>\n     <use xlink:href=\"#mbd69737a5e\" x=\"229.613537\" y=\"41.822893\" style=\"fill: #1f77b4; stroke: #1f77b4\"/>\n     <use xlink:href=\"#mbd69737a5e\" x=\"228.780197\" y=\"40.705523\" style=\"fill: #1f77b4; stroke: #1f77b4\"/>\n     <use xlink:href=\"#mbd69737a5e\" x=\"227.986167\" y=\"39.640843\" style=\"fill: #1f77b4; stroke: #1f77b4\"/>\n     <use xlink:href=\"#mbd69737a5e\" x=\"227.229575\" y=\"38.626397\" style=\"fill: #1f77b4; stroke: #1f77b4\"/>\n     <use xlink:href=\"#mbd69737a5e\" x=\"226.50868\" y=\"37.659769\" style=\"fill: #1f77b4; stroke: #1f77b4\"/>\n     <use xlink:href=\"#mbd69737a5e\" x=\"225.821771\" y=\"36.738745\" style=\"fill: #1f77b4; stroke: #1f77b4\"/>\n     <use xlink:href=\"#mbd69737a5e\" x=\"225.167269\" y=\"35.861154\" style=\"fill: #1f77b4; stroke: #1f77b4\"/>\n     <use xlink:href=\"#mbd69737a5e\" x=\"224.543625\" y=\"35.024943\" style=\"fill: #1f77b4; stroke: #1f77b4\"/>\n     <use xlink:href=\"#mbd69737a5e\" x=\"223.949389\" y=\"34.228184\" style=\"fill: #1f77b4; stroke: #1f77b4\"/>\n     <use xlink:href=\"#mbd69737a5e\" x=\"223.383188\" y=\"33.468989\" style=\"fill: #1f77b4; stroke: #1f77b4\"/>\n     <use xlink:href=\"#mbd69737a5e\" x=\"222.84369\" y=\"32.745592\" style=\"fill: #1f77b4; stroke: #1f77b4\"/>\n     <use xlink:href=\"#mbd69737a5e\" x=\"222.329623\" y=\"32.056327\" style=\"fill: #1f77b4; stroke: #1f77b4\"/>\n     <use xlink:href=\"#mbd69737a5e\" x=\"221.839819\" y=\"31.399569\" style=\"fill: #1f77b4; stroke: #1f77b4\"/>\n     <use xlink:href=\"#mbd69737a5e\" x=\"221.373105\" y=\"30.773777\" style=\"fill: #1f77b4; stroke: #1f77b4\"/>\n     <use xlink:href=\"#mbd69737a5e\" x=\"220.928401\" y=\"30.177508\" style=\"fill: #1f77b4; stroke: #1f77b4\"/>\n     <use xlink:href=\"#mbd69737a5e\" x=\"220.504682\" y=\"29.60934\" style=\"fill: #1f77b4; stroke: #1f77b4\"/>\n     <use xlink:href=\"#mbd69737a5e\" x=\"220.100925\" y=\"29.067975\" style=\"fill: #1f77b4; stroke: #1f77b4\"/>\n     <use xlink:href=\"#mbd69737a5e\" x=\"219.716209\" y=\"28.552153\" style=\"fill: #1f77b4; stroke: #1f77b4\"/>\n     <use xlink:href=\"#mbd69737a5e\" x=\"219.349656\" y=\"28.060656\" style=\"fill: #1f77b4; stroke: #1f77b4\"/>\n     <use xlink:href=\"#mbd69737a5e\" x=\"219.000374\" y=\"27.592327\" style=\"fill: #1f77b4; stroke: #1f77b4\"/>\n     <use xlink:href=\"#mbd69737a5e\" x=\"218.667573\" y=\"27.146089\" style=\"fill: #1f77b4; stroke: #1f77b4\"/>\n     <use xlink:href=\"#mbd69737a5e\" x=\"218.350464\" y=\"26.720907\" style=\"fill: #1f77b4; stroke: #1f77b4\"/>\n     <use xlink:href=\"#mbd69737a5e\" x=\"218.048316\" y=\"26.315767\" style=\"fill: #1f77b4; stroke: #1f77b4\"/>\n     <use xlink:href=\"#mbd69737a5e\" x=\"217.760411\" y=\"25.929733\" style=\"fill: #1f77b4; stroke: #1f77b4\"/>\n     <use xlink:href=\"#mbd69737a5e\" x=\"217.486092\" y=\"25.561912\" style=\"fill: #1f77b4; stroke: #1f77b4\"/>\n     <use xlink:href=\"#mbd69737a5e\" x=\"217.224701\" y=\"25.211432\" style=\"fill: #1f77b4; stroke: #1f77b4\"/>\n     <use xlink:href=\"#mbd69737a5e\" x=\"216.975638\" y=\"24.877479\" style=\"fill: #1f77b4; stroke: #1f77b4\"/>\n     <use xlink:href=\"#mbd69737a5e\" x=\"216.738333\" y=\"24.559284\" style=\"fill: #1f77b4; stroke: #1f77b4\"/>\n     <use xlink:href=\"#mbd69737a5e\" x=\"216.512215\" y=\"24.256093\" style=\"fill: #1f77b4; stroke: #1f77b4\"/>\n     <use xlink:href=\"#mbd69737a5e\" x=\"216.296758\" y=\"23.967197\" style=\"fill: #1f77b4; stroke: #1f77b4\"/>\n     <use xlink:href=\"#mbd69737a5e\" x=\"216.091465\" y=\"23.691925\" style=\"fill: #1f77b4; stroke: #1f77b4\"/>\n     <use xlink:href=\"#mbd69737a5e\" x=\"215.895838\" y=\"23.429649\" style=\"fill: #1f77b4; stroke: #1f77b4\"/>\n     <use xlink:href=\"#mbd69737a5e\" x=\"215.709454\" y=\"23.179718\" style=\"fill: #1f77b4; stroke: #1f77b4\"/>\n     <use xlink:href=\"#mbd69737a5e\" x=\"215.531859\" y=\"22.941583\" style=\"fill: #1f77b4; stroke: #1f77b4\"/>\n     <use xlink:href=\"#mbd69737a5e\" x=\"215.362629\" y=\"22.714678\" style=\"fill: #1f77b4; stroke: #1f77b4\"/>\n     <use xlink:href=\"#mbd69737a5e\" x=\"215.201384\" y=\"22.498473\" style=\"fill: #1f77b4; stroke: #1f77b4\"/>\n     <use xlink:href=\"#mbd69737a5e\" x=\"215.047743\" y=\"22.292481\" style=\"fill: #1f77b4; stroke: #1f77b4\"/>\n     <use xlink:href=\"#mbd69737a5e\" x=\"214.901356\" y=\"22.096195\" style=\"fill: #1f77b4; stroke: #1f77b4\"/>\n     <use xlink:href=\"#mbd69737a5e\" x=\"214.761871\" y=\"21.909168\" style=\"fill: #1f77b4; stroke: #1f77b4\"/>\n     <use xlink:href=\"#mbd69737a5e\" x=\"214.628967\" y=\"21.730953\" style=\"fill: #1f77b4; stroke: #1f77b4\"/>\n     <use xlink:href=\"#mbd69737a5e\" x=\"214.502322\" y=\"21.561144\" style=\"fill: #1f77b4; stroke: #1f77b4\"/>\n     <use xlink:href=\"#mbd69737a5e\" x=\"214.381644\" y=\"21.399336\" style=\"fill: #1f77b4; stroke: #1f77b4\"/>\n     <use xlink:href=\"#mbd69737a5e\" x=\"214.26667\" y=\"21.245162\" style=\"fill: #1f77b4; stroke: #1f77b4\"/>\n     <use xlink:href=\"#mbd69737a5e\" x=\"214.157106\" y=\"21.098277\" style=\"fill: #1f77b4; stroke: #1f77b4\"/>\n     <use xlink:href=\"#mbd69737a5e\" x=\"214.052719\" y=\"20.958296\" style=\"fill: #1f77b4; stroke: #1f77b4\"/>\n     <use xlink:href=\"#mbd69737a5e\" x=\"213.953261\" y=\"20.824935\" style=\"fill: #1f77b4; stroke: #1f77b4\"/>\n     <use xlink:href=\"#mbd69737a5e\" x=\"213.858482\" y=\"20.697847\" style=\"fill: #1f77b4; stroke: #1f77b4\"/>\n     <use xlink:href=\"#mbd69737a5e\" x=\"213.768163\" y=\"20.57677\" style=\"fill: #1f77b4; stroke: #1f77b4\"/>\n     <use xlink:href=\"#mbd69737a5e\" x=\"213.68213\" y=\"20.461398\" style=\"fill: #1f77b4; stroke: #1f77b4\"/>\n     <use xlink:href=\"#mbd69737a5e\" x=\"213.600147\" y=\"20.351468\" style=\"fill: #1f77b4; stroke: #1f77b4\"/>\n     <use xlink:href=\"#mbd69737a5e\" x=\"213.522025\" y=\"20.246716\" style=\"fill: #1f77b4; stroke: #1f77b4\"/>\n     <use xlink:href=\"#mbd69737a5e\" x=\"213.447588\" y=\"20.146918\" style=\"fill: #1f77b4; stroke: #1f77b4\"/>\n     <use xlink:href=\"#mbd69737a5e\" x=\"213.376662\" y=\"20.051811\" style=\"fill: #1f77b4; stroke: #1f77b4\"/>\n     <use xlink:href=\"#mbd69737a5e\" x=\"213.309069\" y=\"19.961191\" style=\"fill: #1f77b4; stroke: #1f77b4\"/>\n     <use xlink:href=\"#mbd69737a5e\" x=\"213.244679\" y=\"19.874835\" style=\"fill: #1f77b4; stroke: #1f77b4\"/>\n     <use xlink:href=\"#mbd69737a5e\" x=\"213.183316\" y=\"19.79256\" style=\"fill: #1f77b4; stroke: #1f77b4\"/>\n     <use xlink:href=\"#mbd69737a5e\" x=\"213.124849\" y=\"19.714163\" style=\"fill: #1f77b4; stroke: #1f77b4\"/>\n     <use xlink:href=\"#mbd69737a5e\" x=\"213.069146\" y=\"19.639462\" style=\"fill: #1f77b4; stroke: #1f77b4\"/>\n     <use xlink:href=\"#mbd69737a5e\" x=\"213.01606\" y=\"19.568294\" style=\"fill: #1f77b4; stroke: #1f77b4\"/>\n     <use xlink:href=\"#mbd69737a5e\" x=\"212.965476\" y=\"19.500476\" style=\"fill: #1f77b4; stroke: #1f77b4\"/>\n     <use xlink:href=\"#mbd69737a5e\" x=\"212.917289\" y=\"19.435866\" style=\"fill: #1f77b4; stroke: #1f77b4\"/>\n     <use xlink:href=\"#mbd69737a5e\" x=\"212.87137\" y=\"19.374302\" style=\"fill: #1f77b4; stroke: #1f77b4\"/>\n     <use xlink:href=\"#mbd69737a5e\" x=\"212.827629\" y=\"19.315642\" style=\"fill: #1f77b4; stroke: #1f77b4\"/>\n    </g>\n   </g>\n   <g id=\"patch_3\">\n    <path d=\"M 384.581165 135.565732 \nL 381.488842 138.711736 \nL 380.41405 137.372622 \nL 60.25282 261.216 \nL 60.013977 260.918419 \nL 380.175207 137.075041 \nL 379.100415 135.735926 \nz\n\" clip-path=\"url(#pbac0282a1f)\" style=\"fill: #1f77b4; stroke: #000000; stroke-linejoin: miter\"/>\n   </g>\n   <g id=\"patch_4\">\n    <path d=\"M 295.39644 159.156963 \nL 299.108281 156.352359 \nL 299.894521 157.784852 \nL 384.493803 135.406565 \nL 384.668523 135.724897 \nL 300.069241 158.103183 \nL 300.855482 159.535675 \nz\n\" clip-path=\"url(#pbac0282a1f)\" style=\"fill: #1f77b4; stroke: #000000; stroke-linejoin: miter\"/>\n   </g>\n   <g id=\"patch_5\">\n    <path d=\"M 312.160982 145.065595 \nL 310.927887 148.776809 \nL 309.225335 147.800616 \nL 295.585613 159.265429 \nL 295.207268 159.048497 \nL 308.84699 147.583684 \nL 307.144438 146.60749 \nz\n\" clip-path=\"url(#pbac0282a1f)\" style=\"fill: #1f77b4; stroke: #000000; stroke-linejoin: miter\"/>\n   </g>\n   <g id=\"patch_6\">\n    <path d=\"M 302.147276 140.979629 \nL 307.620929 141.237372 \nL 306.502015 142.558954 \nL 312.285306 144.918753 \nL 312.036658 145.212438 \nL 306.253367 142.852639 \nL 305.134453 144.174221 \nz\n\" clip-path=\"url(#pbac0282a1f)\" style=\"fill: #1f77b4; stroke: #000000; stroke-linejoin: miter\"/>\n   </g>\n   <g id=\"patch_7\">\n    <path d=\"M 299.243675 134.700495 \nL 303.079648 137.423408 \nL 300.977163 137.89197 \nL 302.380885 140.927566 \nL 301.913666 141.031691 \nL 300.509944 137.996095 \nL 298.40746 138.464657 \nz\n\" clip-path=\"url(#pbac0282a1f)\" style=\"fill: #1f77b4; stroke: #000000; stroke-linejoin: miter\"/>\n   </g>\n   <g id=\"patch_8\">\n    <path d=\"M 294.781555 129.326903 \nL 299.357878 131.427542 \nL 297.44482 132.193142 \nL 299.456237 134.615429 \nL 299.031113 134.785562 \nL 297.019696 132.363275 \nL 295.106638 133.128875 \nz\n\" clip-path=\"url(#pbac0282a1f)\" style=\"fill: #1f77b4; stroke: #000000; stroke-linejoin: miter\"/>\n   </g>\n   <g id=\"patch_9\">\n    <path d=\"M 290.962939 124.051078 \nL 295.358426 126.330246 \nL 293.38534 127.018516 \nL 295.000787 129.250428 \nL 294.562323 129.403377 \nL 292.946876 127.171464 \nL 290.97379 127.859734 \nz\n\" clip-path=\"url(#pbac0282a1f)\" style=\"fill: #1f77b4; stroke: #000000; stroke-linejoin: miter\"/>\n   </g>\n   <g id=\"patch_10\">\n    <path d=\"M 287.213788 119.063824 \nL 291.65922 121.295817 \nL 289.701607 122.005061 \nL 291.180452 123.972273 \nL 290.745427 124.129883 \nL 289.266582 122.162671 \nL 287.308969 122.871915 \nz\n\" clip-path=\"url(#pbac0282a1f)\" style=\"fill: #1f77b4; stroke: #000000; stroke-linejoin: miter\"/>\n   </g>\n   <g id=\"patch_11\">\n    <path d=\"M 283.66971 114.301618 \nL 288.101854 116.546311 \nL 286.140047 117.249948 \nL 287.431767 118.985642 \nL 286.995809 119.142006 \nL 285.70409 117.406312 \nL 283.742283 118.109949 \nz\n\" clip-path=\"url(#pbac0282a1f)\" style=\"fill: #1f77b4; stroke: #000000; stroke-linejoin: miter\"/>\n   </g>\n   <g id=\"patch_12\">\n    <path d=\"M 280.285562 109.766602 \nL 284.721275 112.007895 \nL 282.760589 112.713036 \nL 283.887564 114.223269 \nL 283.451856 114.379967 \nL 282.32488 112.869734 \nL 280.364194 113.574875 \nz\n\" clip-path=\"url(#pbac0282a1f)\" style=\"fill: #1f77b4; stroke: #000000; stroke-linejoin: miter\"/>\n   </g>\n   <g id=\"patch_13\">\n    <path d=\"M 277.062849 105.444796 \nL 281.497608 107.686999 \nL 279.536622 108.391737 \nL 280.503449 109.688298 \nL 280.067674 109.844906 \nL 279.100847 108.548346 \nL 277.13986 109.253085 \nz\n\" clip-path=\"url(#pbac0282a1f)\" style=\"fill: #1f77b4; stroke: #000000; stroke-linejoin: miter\"/>\n   </g>\n   <g id=\"patch_14\">\n    <path d=\"M 273.991656 101.326981 \nL 278.42667 103.568941 \nL 276.465764 104.273787 \nL 277.280727 105.36648 \nL 276.84497 105.523112 \nL 276.030007 104.43042 \nL 274.069101 105.135266 \nz\n\" clip-path=\"url(#pbac0282a1f)\" style=\"fill: #1f77b4; stroke: #000000; stroke-linejoin: miter\"/>\n   </g>\n   <g id=\"patch_15\">\n    <path d=\"M 271.065432 97.403321 \nL 275.500373 99.645351 \nL 273.539444 100.350166 \nL 274.209537 101.248669 \nL 273.773775 101.405294 \nL 273.103682 100.506792 \nL 271.142752 101.211607 \nz\n\" clip-path=\"url(#pbac0282a1f)\" style=\"fill: #1f77b4; stroke: #000000; stroke-linejoin: miter\"/>\n   </g>\n   <g id=\"patch_16\">\n    <path d=\"M 268.277172 93.664718 \nL 272.712136 95.906725 \nL 270.751215 96.611551 \nL 271.283313 97.325007 \nL 270.847552 97.481635 \nL 270.315454 96.768178 \nL 268.354532 97.473004 \nz\n\" clip-path=\"url(#pbac0282a1f)\" style=\"fill: #1f77b4; stroke: #000000; stroke-linejoin: miter\"/>\n   </g>\n   <g id=\"patch_17\">\n    <path d=\"M 265.620412 90.102432 \nL 270.055375 92.34444 \nL 268.094452 93.049265 \nL 268.495052 93.586404 \nL 268.059292 93.743032 \nL 267.658692 93.205893 \nL 265.69777 93.910717 \nz\n\" clip-path=\"url(#pbac0282a1f)\" style=\"fill: #1f77b4; stroke: #000000; stroke-linejoin: miter\"/>\n   </g>\n   <g id=\"patch_18\">\n    <path d=\"M 263.088951 86.708147 \nL 267.523912 88.950157 \nL 265.562989 89.654981 \nL 265.838292 90.024118 \nL 265.402531 90.180746 \nL 265.127229 89.811609 \nL 263.166306 90.516432 \nz\n\" clip-path=\"url(#pbac0282a1f)\" style=\"fill: #1f77b4; stroke: #000000; stroke-linejoin: miter\"/>\n   </g>\n   <g id=\"patch_19\">\n    <path d=\"M 260.676881 83.473935 \nL 265.111837 85.715949 \nL 263.150913 86.420771 \nL 263.306831 86.629834 \nL 262.87107 86.786461 \nL 262.715152 86.577398 \nL 260.754228 87.28222 \nz\n\" clip-path=\"url(#pbac0282a1f)\" style=\"fill: #1f77b4; stroke: #000000; stroke-linejoin: miter\"/>\n   </g>\n   <g id=\"patch_20\">\n    <path d=\"M 258.378557 80.392262 \nL 262.813524 82.634267 \nL 260.852603 83.339093 \nL 260.894761 83.395621 \nL 260.459001 83.552249 \nL 260.416842 83.495721 \nL 258.455921 84.200547 \nz\n\" clip-path=\"url(#pbac0282a1f)\" style=\"fill: #1f77b4; stroke: #000000; stroke-linejoin: miter\"/>\n   </g>\n   <g id=\"patch_21\">\n    <path d=\"M 256.188642 77.45591 \nL 260.623592 79.697931 \nL 258.662665 80.40275 \nL 258.596438 80.313949 \nL 258.160677 80.470575 \nL 258.226904 80.559376 \nL 256.265978 81.264195 \nz\n\" clip-path=\"url(#pbac0282a1f)\" style=\"fill: #1f77b4; stroke: #000000; stroke-linejoin: miter\"/>\n   </g>\n   <g id=\"patch_22\">\n    <path d=\"M 254.101988 74.658057 \nL 258.536957 76.900059 \nL 256.576037 77.604887 \nL 256.406522 77.377596 \nL 255.970762 77.534224 \nL 256.140277 77.761515 \nL 254.179356 78.466342 \nz\n\" clip-path=\"url(#pbac0282a1f)\" style=\"fill: #1f77b4; stroke: #000000; stroke-linejoin: miter\"/>\n   </g>\n   <g id=\"patch_23\">\n    <path d=\"M 252.113768 71.992144 \nL 256.548716 74.234167 \nL 254.587788 74.938985 \nL 254.319869 74.579744 \nL 253.884107 74.73637 \nL 254.152027 75.095612 \nL 252.1911 75.80043 \nz\n\" clip-path=\"url(#pbac0282a1f)\" style=\"fill: #1f77b4; stroke: #000000; stroke-linejoin: miter\"/>\n   </g>\n   <g id=\"patch_24\">\n    <path d=\"M 250.219289 69.451959 \nL 254.654255 71.693965 \nL 252.693333 72.39879 \nL 252.331648 71.91383 \nL 251.895888 72.070458 \nL 252.257573 72.555418 \nL 250.296651 73.260244 \nz\n\" clip-path=\"url(#pbac0282a1f)\" style=\"fill: #1f77b4; stroke: #000000; stroke-linejoin: miter\"/>\n   </g>\n   <g id=\"patch_25\">\n    <path d=\"M 248.414163 67.031571 \nL 252.849123 69.273582 \nL 250.8882 69.978405 \nL 250.437169 69.373645 \nL 250.001409 69.530272 \nL 250.452439 70.135033 \nL 248.491516 70.839856 \nz\n\" clip-path=\"url(#pbac0282a1f)\" style=\"fill: #1f77b4; stroke: #000000; stroke-linejoin: miter\"/>\n   </g>\n   <g id=\"patch_26\">\n    <path d=\"M 246.694179 64.725337 \nL 251.129134 66.967352 \nL 249.16821 67.672173 \nL 248.632044 66.953257 \nL 248.196283 67.109884 \nL 248.732449 67.8288 \nL 246.771524 68.533622 \nz\n\" clip-path=\"url(#pbac0282a1f)\" style=\"fill: #1f77b4; stroke: #000000; stroke-linejoin: miter\"/>\n   </g>\n   <g id=\"patch_27\">\n    <path d=\"M 245.0553 62.527855 \nL 249.490257 64.769869 \nL 247.529333 65.474691 \nL 246.912059 64.647023 \nL 246.476299 64.80365 \nL 247.093572 65.631318 \nL 245.132648 66.33614 \nz\n\" clip-path=\"url(#pbac0282a1f)\" style=\"fill: #1f77b4; stroke: #000000; stroke-linejoin: miter\"/>\n   </g>\n   <g id=\"patch_28\">\n    <path d=\"M 243.493709 60.434028 \nL 247.928681 62.676028 \nL 245.967762 63.380856 \nL 245.27318 62.44954 \nL 244.83742 62.606169 \nL 245.532002 63.537485 \nL 243.571083 64.242313 \nz\n\" clip-path=\"url(#pbac0282a1f)\" style=\"fill: #1f77b4; stroke: #000000; stroke-linejoin: miter\"/>\n   </g>\n   <g id=\"patch_29\">\n    <path d=\"M 242.00578 58.438944 \nL 246.440735 60.68096 \nL 244.479811 61.385781 \nL 243.71159 60.355715 \nL 243.275829 60.512342 \nL 244.04405 61.542408 \nL 242.083125 62.247229 \nz\n\" clip-path=\"url(#pbac0282a1f)\" style=\"fill: #1f77b4; stroke: #000000; stroke-linejoin: miter\"/>\n   </g>\n   <g id=\"patch_30\">\n    <path d=\"M 240.588017 56.537952 \nL 245.022979 58.779961 \nL 243.062057 59.484785 \nL 242.22366 58.36063 \nL 241.7879 58.517258 \nL 242.626296 59.641413 \nL 240.665374 60.346237 \nz\n\" clip-path=\"url(#pbac0282a1f)\" style=\"fill: #1f77b4; stroke: #000000; stroke-linejoin: miter\"/>\n   </g>\n   <g id=\"patch_31\">\n    <path d=\"M 239.237116 54.726605 \nL 243.672074 56.968618 \nL 241.711151 57.673441 \nL 240.805898 56.459638 \nL 240.370137 56.616266 \nL 241.27539 57.830068 \nL 239.314467 58.534891 \nz\n\" clip-path=\"url(#pbac0282a1f)\" style=\"fill: #1f77b4; stroke: #000000; stroke-linejoin: miter\"/>\n   </g>\n   <g id=\"patch_32\">\n    <path d=\"M 237.949932 53.000681 \nL 242.384881 55.242703 \nL 240.423954 55.947521 \nL 239.454997 54.648292 \nL 239.019235 54.804919 \nL 239.988193 56.104148 \nL 238.027266 56.808966 \nz\n\" clip-path=\"url(#pbac0282a1f)\" style=\"fill: #1f77b4; stroke: #000000; stroke-linejoin: miter\"/>\n   </g>\n   <g id=\"patch_33\">\n    <path d=\"M 236.723438 51.356158 \nL 241.158407 53.598161 \nL 239.197487 54.302988 \nL 238.167812 52.922367 \nL 237.732052 53.078995 \nL 238.761727 54.459616 \nL 236.800807 55.164444 \nz\n\" clip-path=\"url(#pbac0282a1f)\" style=\"fill: #1f77b4; stroke: #000000; stroke-linejoin: miter\"/>\n   </g>\n   <g id=\"patch_34\">\n    <path d=\"M 235.554797 49.7892 \nL 239.98976 52.031208 \nL 238.028838 52.736032 \nL 236.941318 51.277844 \nL 236.505558 51.434472 \nL 237.593078 52.89266 \nL 235.632156 53.597485 \nz\n\" clip-path=\"url(#pbac0282a1f)\" style=\"fill: #1f77b4; stroke: #000000; stroke-linejoin: miter\"/>\n   </g>\n   <g id=\"patch_35\">\n    <path d=\"M 234.441274 48.29613 \nL 238.876224 50.538151 \nL 236.915297 51.24297 \nL 235.772678 49.710887 \nL 235.336916 49.867513 \nL 236.479536 51.399597 \nL 234.518609 52.104416 \nz\n\" clip-path=\"url(#pbac0282a1f)\" style=\"fill: #1f77b4; stroke: #000000; stroke-linejoin: miter\"/>\n   </g>\n   <g id=\"patch_36\">\n    <path d=\"M 233.380266 46.873478 \nL 237.815218 49.115497 \nL 235.854292 49.820317 \nL 234.659155 48.217817 \nL 234.223393 48.374444 \nL 235.41853 49.976943 \nL 233.457605 50.681763 \nz\n\" clip-path=\"url(#pbac0282a1f)\" style=\"fill: #1f77b4; stroke: #000000; stroke-linejoin: miter\"/>\n   </g>\n   <g id=\"patch_37\">\n    <path d=\"M 232.369288 45.517912 \nL 236.804244 47.759926 \nL 234.84332 48.464748 \nL 233.598147 46.795164 \nL 233.162386 46.951791 \nL 234.407559 48.621375 \nL 232.446635 49.326197 \nz\n\" clip-path=\"url(#pbac0282a1f)\" style=\"fill: #1f77b4; stroke: #000000; stroke-linejoin: miter\"/>\n   </g>\n   <g id=\"patch_38\">\n    <path d=\"M 231.405984 44.226286 \nL 235.840956 46.468285 \nL 233.880037 47.173114 \nL 232.587168 45.439598 \nL 232.151408 45.596226 \nL 233.444277 47.329742 \nL 231.483358 48.034571 \nz\n\" clip-path=\"url(#pbac0282a1f)\" style=\"fill: #1f77b4; stroke: #000000; stroke-linejoin: miter\"/>\n   </g>\n   <g id=\"patch_39\">\n    <path d=\"M 230.488117 42.995574 \nL 234.923079 45.237583 \nL 232.962157 45.942407 \nL 231.623864 44.147972 \nL 231.188103 44.3046 \nL 232.526396 46.099035 \nL 230.565474 46.803859 \nz\n\" clip-path=\"url(#pbac0282a1f)\" style=\"fill: #1f77b4; stroke: #000000; stroke-linejoin: miter\"/>\n   </g>\n   <g id=\"patch_40\">\n    <path d=\"M 229.613537 41.822893 \nL 234.048488 44.064913 \nL 232.087562 44.769732 \nL 230.705997 42.917261 \nL 230.270236 43.073887 \nL 231.6518 44.926359 \nL 229.690875 45.631179 \nz\n\" clip-path=\"url(#pbac0282a1f)\" style=\"fill: #1f77b4; stroke: #000000; stroke-linejoin: miter\"/>\n   </g>\n   <g id=\"patch_41\">\n    <path d=\"M 228.780197 40.705523 \nL 233.215164 42.947527 \nL 231.254243 43.652354 \nL 229.831417 41.744579 \nL 229.395657 41.901207 \nL 230.818483 43.808982 \nL 228.857562 44.513808 \nz\n\" clip-path=\"url(#pbac0282a1f)\" style=\"fill: #1f77b4; stroke: #000000; stroke-linejoin: miter\"/>\n   </g>\n   <g id=\"patch_42\">\n    <path d=\"M 227.986167 39.640843 \nL 232.421113 41.882867 \nL 230.460186 42.587685 \nL 228.998078 40.62721 \nL 228.562316 40.783836 \nL 230.024424 42.744311 \nL 228.063496 43.449129 \nz\n\" clip-path=\"url(#pbac0282a1f)\" style=\"fill: #1f77b4; stroke: #000000; stroke-linejoin: miter\"/>\n   </g>\n   <g id=\"patch_43\">\n    <path d=\"M 227.229575 38.626397 \nL 231.664567 40.868378 \nL 229.703654 41.573215 \nL 228.204046 39.562528 \nL 227.768288 39.719158 \nL 229.267895 41.729845 \nL 227.306982 42.434682 \nz\n\" clip-path=\"url(#pbac0282a1f)\" style=\"fill: #1f77b4; stroke: #000000; stroke-linejoin: miter\"/>\n   </g>\n   <g id=\"patch_44\">\n    <path d=\"M 226.50868 37.659769 \nL 230.943609 39.901809 \nL 228.982676 40.606619 \nL 227.447456 38.548085 \nL 227.011693 38.704709 \nL 228.546914 40.763244 \nL 226.585981 41.468055 \nz\n\" clip-path=\"url(#pbac0282a1f)\" style=\"fill: #1f77b4; stroke: #000000; stroke-linejoin: miter\"/>\n   </g>\n   <g id=\"patch_45\">\n    <path d=\"M 225.821771 36.738745 \nL 230.256748 38.98074 \nL 228.29583 39.685571 \nL 226.726559 37.581454 \nL 226.2908 37.738083 \nL 227.860071 39.8422 \nL 225.899153 40.54703 \nz\n\" clip-path=\"url(#pbac0282a1f)\" style=\"fill: #1f77b4; stroke: #000000; stroke-linejoin: miter\"/>\n   </g>\n   <g id=\"patch_46\">\n    <path d=\"M 225.167269 35.861154 \nL 229.602216 38.103177 \nL 227.641289 38.807995 \nL 226.039652 36.660432 \nL 225.60389 36.817058 \nL 227.205527 38.964621 \nL 225.2446 39.669439 \nz\n\" clip-path=\"url(#pbac0282a1f)\" style=\"fill: #1f77b4; stroke: #000000; stroke-linejoin: miter\"/>\n   </g>\n   <g id=\"patch_47\">\n    <path d=\"M 224.543625 35.024943 \nL 228.978582 37.266957 \nL 227.017657 37.971779 \nL 225.38515 35.78284 \nL 224.949389 35.939467 \nL 226.581896 38.128406 \nL 224.620972 38.833228 \nz\n\" clip-path=\"url(#pbac0282a1f)\" style=\"fill: #1f77b4; stroke: #000000; stroke-linejoin: miter\"/>\n   </g>\n   <g id=\"patch_48\">\n    <path d=\"M 223.949389 34.228184 \nL 228.384378 36.470168 \nL 226.423463 37.175003 \nL 224.761504 34.946628 \nL 224.325745 35.103258 \nL 225.987705 37.331634 \nL 224.026791 38.036469 \nz\n\" clip-path=\"url(#pbac0282a1f)\" style=\"fill: #1f77b4; stroke: #000000; stroke-linejoin: miter\"/>\n   </g>\n   <g id=\"patch_49\">\n    <path d=\"M 223.383188 33.468989 \nL 227.818133 35.711015 \nL 225.857205 36.415832 \nL 224.16727 34.149871 \nL 223.731508 34.306497 \nL 225.421443 36.572458 \nL 223.460515 37.277275 \nz\n\" clip-path=\"url(#pbac0282a1f)\" style=\"fill: #1f77b4; stroke: #000000; stroke-linejoin: miter\"/>\n   </g>\n   <g id=\"patch_50\">\n    <path d=\"M 222.84369 32.745592 \nL 227.278619 34.987632 \nL 225.317687 35.692442 \nL 223.601069 33.390677 \nL 223.165306 33.547302 \nL 224.881924 35.849067 \nL 222.920991 36.553878 \nz\n\" clip-path=\"url(#pbac0282a1f)\" style=\"fill: #1f77b4; stroke: #000000; stroke-linejoin: miter\"/>\n   </g>\n   <g id=\"patch_51\">\n    <path d=\"M 222.329623 32.056327 \nL 226.764614 34.298308 \nL 224.803701 35.003144 \nL 223.061569 32.667277 \nL 222.625811 32.823907 \nL 224.367943 35.159775 \nL 222.407029 35.864611 \nz\n\" clip-path=\"url(#pbac0282a1f)\" style=\"fill: #1f77b4; stroke: #000000; stroke-linejoin: miter\"/>\n   </g>\n   <g id=\"patch_52\">\n    <path d=\"M 221.839819 31.399569 \nL 226.274765 33.641593 \nL 224.313838 34.346411 \nL 222.547504 31.978014 \nL 222.111743 32.13464 \nL 223.878077 34.503037 \nL 221.917149 35.207855 \nz\n\" clip-path=\"url(#pbac0282a1f)\" style=\"fill: #1f77b4; stroke: #000000; stroke-linejoin: miter\"/>\n   </g>\n   <g id=\"patch_53\">\n    <path d=\"M 221.373105 30.773777 \nL 225.808057 33.015795 \nL 223.847132 33.720615 \nL 222.057699 31.321256 \nL 221.621938 31.477883 \nL 223.41137 33.877242 \nL 221.450445 34.582062 \nz\n\" clip-path=\"url(#pbac0282a1f)\" style=\"fill: #1f77b4; stroke: #000000; stroke-linejoin: miter\"/>\n   </g>\n   <g id=\"patch_54\">\n    <path d=\"M 220.928401 30.177508 \nL 225.363379 32.419501 \nL 223.402462 33.124332 \nL 221.590985 30.695462 \nL 221.155225 30.852092 \nL 222.966703 33.280961 \nL 221.005786 33.985792 \nz\n\" clip-path=\"url(#pbac0282a1f)\" style=\"fill: #1f77b4; stroke: #000000; stroke-linejoin: miter\"/>\n   </g>\n   <g id=\"patch_55\">\n    <path d=\"M 220.504682 29.60934 \nL 224.939577 31.851413 \nL 222.978633 32.556209 \nL 221.146283 30.099197 \nL 220.710518 30.255818 \nL 222.542868 32.71283 \nL 220.581924 33.417626 \nz\n\" clip-path=\"url(#pbac0282a1f)\" style=\"fill: #1f77b4; stroke: #000000; stroke-linejoin: miter\"/>\n   </g>\n   <g id=\"patch_56\">\n    <path d=\"M 220.100925 29.067975 \nL 224.535906 31.309966 \nL 222.574989 32.014798 \nL 220.722562 29.531025 \nL 220.286802 29.687655 \nL 222.13923 32.171427 \nL 220.178313 32.876259 \nz\n\" clip-path=\"url(#pbac0282a1f)\" style=\"fill: #1f77b4; stroke: #000000; stroke-linejoin: miter\"/>\n   </g>\n   <g id=\"patch_57\">\n    <path d=\"M 219.716209 28.552153 \nL 224.151224 30.794111 \nL 222.190318 31.498958 \nL 220.318804 28.989658 \nL 219.883047 29.146291 \nL 221.754561 31.65559 \nL 219.793655 32.360437 \nz\n\" clip-path=\"url(#pbac0282a1f)\" style=\"fill: #1f77b4; stroke: #000000; stroke-linejoin: miter\"/>\n   </g>\n   <g id=\"patch_58\">\n    <path d=\"M 219.349656 28.060656 \nL 223.784596 30.302685 \nL 221.823667 31.007501 \nL 219.93409 28.47384 \nL 219.498328 28.630465 \nL 221.387905 31.164126 \nL 219.426976 31.868941 \nz\n\" clip-path=\"url(#pbac0282a1f)\" style=\"fill: #1f77b4; stroke: #000000; stroke-linejoin: miter\"/>\n   </g>\n   <g id=\"patch_59\">\n    <path d=\"M 219.000374 27.592327 \nL 223.435341 29.834331 \nL 221.474421 30.539157 \nL 219.567536 27.982342 \nL 219.131776 28.13897 \nL 221.03866 30.695785 \nL 219.07774 31.400612 \nz\n\" clip-path=\"url(#pbac0282a1f)\" style=\"fill: #1f77b4; stroke: #000000; stroke-linejoin: miter\"/>\n   </g>\n   <g id=\"patch_60\">\n    <path d=\"M 218.667573 27.146089 \nL 223.102519 29.388113 \nL 221.141592 30.092931 \nL 219.218255 27.514013 \nL 218.782493 27.67064 \nL 220.70583 30.249557 \nL 218.744903 30.954374 \nz\n\" clip-path=\"url(#pbac0282a1f)\" style=\"fill: #1f77b4; stroke: #000000; stroke-linejoin: miter\"/>\n   </g>\n   <g id=\"patch_61\">\n    <path d=\"M 218.350464 26.720907 \nL 222.78546 28.962885 \nL 220.824547 29.667723 \nL 218.885452 27.067774 \nL 218.449694 27.224404 \nL 220.388789 29.824354 \nL 218.427877 30.529192 \nz\n\" clip-path=\"url(#pbac0282a1f)\" style=\"fill: #1f77b4; stroke: #000000; stroke-linejoin: miter\"/>\n   </g>\n   <g id=\"patch_62\">\n    <path d=\"M 218.048316 26.315767 \nL 222.483251 28.557801 \nL 220.522321 29.262614 \nL 218.568345 26.642595 \nL 218.132583 26.79922 \nL 220.086558 29.419239 \nL 218.125627 30.124052 \nz\n\" clip-path=\"url(#pbac0282a1f)\" style=\"fill: #1f77b4; stroke: #000000; stroke-linejoin: miter\"/>\n   </g>\n   <g id=\"patch_63\">\n    <path d=\"M 217.760411 25.929733 \nL 222.195373 28.171742 \nL 220.23445 28.876566 \nL 218.266196 26.237453 \nL 217.830435 26.39408 \nL 219.79869 29.033194 \nL 217.837767 29.738018 \nz\n\" clip-path=\"url(#pbac0282a1f)\" style=\"fill: #1f77b4; stroke: #000000; stroke-linejoin: miter\"/>\n   </g>\n   <g id=\"patch_64\">\n    <path d=\"M 217.486092 25.561912 \nL 221.921043 27.803931 \nL 219.960117 28.508751 \nL 217.978292 25.851419 \nL 217.54253 26.008046 \nL 219.524356 28.665378 \nL 217.56343 29.370197 \nz\n\" clip-path=\"url(#pbac0282a1f)\" style=\"fill: #1f77b4; stroke: #000000; stroke-linejoin: miter\"/>\n   </g>\n   <g id=\"patch_65\">\n    <path d=\"M 217.224701 25.211432 \nL 221.659675 27.453429 \nL 219.698756 28.158259 \nL 217.703972 25.483598 \nL 217.268212 25.640226 \nL 219.262997 28.314887 \nL 217.302078 29.019717 \nz\n\" clip-path=\"url(#pbac0282a1f)\" style=\"fill: #1f77b4; stroke: #000000; stroke-linejoin: miter\"/>\n   </g>\n   <g id=\"patch_66\">\n    <path d=\"M 216.975638 24.877479 \nL 221.410605 27.119484 \nL 219.449684 27.82431 \nL 217.442581 25.133118 \nL 217.006821 25.289746 \nL 219.013924 27.980938 \nL 217.053003 28.685765 \nz\n\" clip-path=\"url(#pbac0282a1f)\" style=\"fill: #1f77b4; stroke: #000000; stroke-linejoin: miter\"/>\n   </g>\n   <g id=\"patch_67\">\n    <path d=\"M 216.738333 24.559284 \nL 221.173264 26.801323 \nL 219.212331 27.506134 \nL 217.193519 24.799167 \nL 216.757757 24.955792 \nL 218.776568 27.662758 \nL 216.815636 28.367569 \nz\n\" clip-path=\"url(#pbac0282a1f)\" style=\"fill: #1f77b4; stroke: #000000; stroke-linejoin: miter\"/>\n   </g>\n   <g id=\"patch_68\">\n    <path d=\"M 216.512215 24.256093 \nL 220.947164 26.498114 \nL 218.986238 27.202933 \nL 216.956213 24.48097 \nL 216.520452 24.637597 \nL 218.550476 27.359559 \nL 216.58955 28.064378 \nz\n\" clip-path=\"url(#pbac0282a1f)\" style=\"fill: #1f77b4; stroke: #000000; stroke-linejoin: miter\"/>\n   </g>\n   <g id=\"patch_69\">\n    <path d=\"M 216.296758 23.967197 \nL 220.731706 26.209219 \nL 218.77078 26.914037 \nL 216.730096 24.17778 \nL 216.294334 24.334406 \nL 218.335018 27.070664 \nL 216.374091 27.775482 \nz\n\" clip-path=\"url(#pbac0282a1f)\" style=\"fill: #1f77b4; stroke: #000000; stroke-linejoin: miter\"/>\n   </g>\n   <g id=\"patch_70\">\n    <path d=\"M 216.091465 23.691925 \nL 220.526396 25.933964 \nL 218.565464 26.638775 \nL 216.514639 23.888885 \nL 216.078877 24.045509 \nL 218.129701 26.7954 \nL 216.168769 27.500211 \nz\n\" clip-path=\"url(#pbac0282a1f)\" style=\"fill: #1f77b4; stroke: #000000; stroke-linejoin: miter\"/>\n   </g>\n   <g id=\"patch_71\">\n    <path d=\"M 215.895838 23.429649 \nL 220.330938 25.671527 \nL 218.370058 26.376409 \nL 216.30934 23.613605 \nL 215.873589 23.770246 \nL 217.934307 26.53305 \nL 215.973428 27.237932 \nz\n\" clip-path=\"url(#pbac0282a1f)\" style=\"fill: #1f77b4; stroke: #000000; stroke-linejoin: miter\"/>\n   </g>\n   <g id=\"patch_72\">\n    <path d=\"M 215.709454 23.179718 \nL 220.144311 25.421827 \nL 218.183355 26.126607 \nL 216.113722 23.35134 \nL 215.677954 23.507958 \nL 217.747587 26.283225 \nL 215.786631 26.988005 \nz\n\" clip-path=\"url(#pbac0282a1f)\" style=\"fill: #1f77b4; stroke: #000000; stroke-linejoin: miter\"/>\n   </g>\n   <g id=\"patch_73\">\n    <path d=\"M 215.531859 22.941583 \nL 219.966779 25.183633 \nL 218.005843 25.888439 \nL 215.927336 23.101406 \nL 215.491572 23.258029 \nL 217.570079 26.045063 \nL 215.609143 26.749869 \nz\n\" clip-path=\"url(#pbac0282a1f)\" style=\"fill: #1f77b4; stroke: #000000; stroke-linejoin: miter\"/>\n   </g>\n   <g id=\"patch_74\">\n    <path d=\"M 215.362629 22.714678 \nL 219.797618 24.956661 \nL 217.836705 25.661496 \nL 215.749738 22.863268 \nL 215.31398 23.019899 \nL 217.400946 25.818127 \nL 215.440032 26.522962 \nz\n\" clip-path=\"url(#pbac0282a1f)\" style=\"fill: #1f77b4; stroke: #000000; stroke-linejoin: miter\"/>\n   </g>\n   <g id=\"patch_75\">\n    <path d=\"M 215.201384 22.498473 \nL 219.63634 24.740487 \nL 217.675416 25.445309 \nL 215.580509 22.636364 \nL 215.144749 22.792991 \nL 217.239655 25.601936 \nL 215.27873 26.306758 \nz\n\" clip-path=\"url(#pbac0282a1f)\" style=\"fill: #1f77b4; stroke: #000000; stroke-linejoin: miter\"/>\n   </g>\n   <g id=\"patch_76\">\n    <path d=\"M 215.047743 22.292481 \nL 219.482807 24.534393 \nL 217.521916 25.23926 \nL 215.41926 22.420154 \nL 214.983507 22.576791 \nL 217.086163 25.395898 \nL 215.125272 26.100765 \nz\n\" clip-path=\"url(#pbac0282a1f)\" style=\"fill: #1f77b4; stroke: #000000; stroke-linejoin: miter\"/>\n   </g>\n   <g id=\"patch_77\">\n    <path d=\"M 214.901356 22.096195 \nL 219.336289 24.338231 \nL 217.375357 25.043044 \nL 215.265624 22.214169 \nL 214.829862 22.370793 \nL 216.939595 25.199669 \nL 214.978663 25.904481 \nz\n\" clip-path=\"url(#pbac0282a1f)\" style=\"fill: #1f77b4; stroke: #000000; stroke-linejoin: miter\"/>\n   </g>\n   <g id=\"patch_78\">\n    <path d=\"M 214.761871 21.909168 \nL 219.196829 24.151181 \nL 217.235905 24.856003 \nL 215.119236 22.017881 \nL 214.683475 22.174509 \nL 216.800145 25.012631 \nL 214.839221 25.717453 \nz\n\" clip-path=\"url(#pbac0282a1f)\" style=\"fill: #1f77b4; stroke: #000000; stroke-linejoin: miter\"/>\n   </g>\n   <g id=\"patch_79\">\n    <path d=\"M 214.628967 21.730953 \nL 219.063839 23.973048 \nL 217.102888 24.677834 \nL 214.979754 21.830858 \nL 214.543988 21.987477 \nL 216.667122 24.834453 \nL 214.706171 25.53924 \nz\n\" clip-path=\"url(#pbac0282a1f)\" style=\"fill: #1f77b4; stroke: #000000; stroke-linejoin: miter\"/>\n   </g>\n   <g id=\"patch_80\">\n    <path d=\"M 214.502322 21.561144 \nL 218.937297 23.803142 \nL 216.976378 24.507971 \nL 214.846847 21.652639 \nL 214.411087 21.809267 \nL 216.540618 24.6646 \nL 214.579699 25.36943 \nz\n\" clip-path=\"url(#pbac0282a1f)\" style=\"fill: #1f77b4; stroke: #000000; stroke-linejoin: miter\"/>\n   </g>\n   <g id=\"patch_81\">\n    <path d=\"M 214.381644 21.399336 \nL 218.816617 23.641334 \nL 216.855698 24.346163 \nL 214.720202 21.48283 \nL 214.284443 21.639459 \nL 216.419938 24.502792 \nL 214.459019 25.207621 \nz\n\" clip-path=\"url(#pbac0282a1f)\" style=\"fill: #1f77b4; stroke: #000000; stroke-linejoin: miter\"/>\n   </g>\n   <g id=\"patch_82\">\n    <path d=\"M 214.26667 21.245162 \nL 218.701534 23.487264 \nL 216.740581 24.192047 \nL 214.599528 21.321027 \nL 214.163761 21.477645 \nL 216.304813 24.348666 \nL 214.34386 25.053449 \nz\n\" clip-path=\"url(#pbac0282a1f)\" style=\"fill: #1f77b4; stroke: #000000; stroke-linejoin: miter\"/>\n   </g>\n   <g id=\"patch_83\">\n    <path d=\"M 214.157106 21.098277 \nL 218.592273 23.340091 \nL 216.631415 24.045002 \nL 214.484543 21.166838 \nL 214.048797 21.323485 \nL 216.195668 24.201648 \nL 214.23481 24.906559 \nz\n\" clip-path=\"url(#pbac0282a1f)\" style=\"fill: #1f77b4; stroke: #000000; stroke-linejoin: miter\"/>\n   </g>\n   <g id=\"patch_84\">\n    <path d=\"M 214.052719 20.958296 \nL 218.48754 23.20044 \nL 216.526573 23.905205 \nL 214.374991 21.01997 \nL 213.939221 21.176584 \nL 216.090802 24.061819 \nL 214.129835 24.766584 \nz\n\" clip-path=\"url(#pbac0282a1f)\" style=\"fill: #1f77b4; stroke: #000000; stroke-linejoin: miter\"/>\n   </g>\n   <g id=\"patch_85\">\n    <path d=\"M 213.953261 20.824935 \nL 218.388186 23.066979 \nL 216.427251 23.771788 \nL 214.270601 20.879984 \nL 213.834837 21.036608 \nL 215.991488 23.928412 \nL 214.030554 24.63322 \nz\n\" clip-path=\"url(#pbac0282a1f)\" style=\"fill: #1f77b4; stroke: #000000; stroke-linejoin: miter\"/>\n   </g>\n   <g id=\"patch_86\">\n    <path d=\"M 213.858482 20.697847 \nL 218.293399 22.939899 \nL 216.332462 23.644704 \nL 214.171142 20.746623 \nL 213.735379 20.903246 \nL 215.896699 23.801328 \nL 213.935762 24.506133 \nz\n\" clip-path=\"url(#pbac0282a1f)\" style=\"fill: #1f77b4; stroke: #000000; stroke-linejoin: miter\"/>\n   </g>\n   <g id=\"patch_87\">\n    <path d=\"M 213.768163 20.57677 \nL 218.203401 22.818517 \nL 216.242565 23.523457 \nL 214.076352 20.61952 \nL 213.640611 20.776174 \nL 215.806823 23.68011 \nL 213.845987 24.385051 \nz\n\" clip-path=\"url(#pbac0282a1f)\" style=\"fill: #1f77b4; stroke: #000000; stroke-linejoin: miter\"/>\n   </g>\n   <g id=\"patch_88\">\n    <path d=\"M 213.68213 20.461398 \nL 218.116927 22.703564 \nL 216.155953 23.408319 \nL 213.986049 20.498464 \nL 213.550277 20.655076 \nL 215.720181 23.564931 \nL 213.759207 24.269686 \nz\n\" clip-path=\"url(#pbac0282a1f)\" style=\"fill: #1f77b4; stroke: #000000; stroke-linejoin: miter\"/>\n   </g>\n   <g id=\"patch_89\">\n    <path d=\"M 213.600147 20.351468 \nL 218.035057 22.593526 \nL 216.074119 23.298329 \nL 213.900012 20.383087 \nL 213.464248 20.53971 \nL 215.638355 23.454952 \nL 213.677416 24.159754 \nz\n\" clip-path=\"url(#pbac0282a1f)\" style=\"fill: #1f77b4; stroke: #000000; stroke-linejoin: miter\"/>\n   </g>\n   <g id=\"patch_90\">\n    <path d=\"M 213.522025 20.246716 \nL 217.956946 22.488764 \nL 215.996011 23.193571 \nL 213.818029 20.273156 \nL 213.382265 20.42978 \nL 215.560247 23.350195 \nL 213.599312 24.055002 \nz\n\" clip-path=\"url(#pbac0282a1f)\" style=\"fill: #1f77b4; stroke: #000000; stroke-linejoin: miter\"/>\n   </g>\n   <g id=\"patch_91\">\n    <path d=\"M 213.447588 20.146918 \nL 217.882679 22.388804 \nL 215.921797 23.093683 \nL 213.739901 20.168396 \nL 213.304149 20.325036 \nL 215.486046 23.250323 \nL 213.525164 23.955201 \nz\n\" clip-path=\"url(#pbac0282a1f)\" style=\"fill: #1f77b4; stroke: #000000; stroke-linejoin: miter\"/>\n   </g>\n   <g id=\"patch_92\">\n    <path d=\"M 213.376662 20.051811 \nL 217.811542 22.293898 \nL 215.850594 22.998688 \nL 213.665472 20.068608 \nL 213.229705 20.225228 \nL 215.414827 23.155308 \nL 213.453879 23.860097 \nz\n\" clip-path=\"url(#pbac0282a1f)\" style=\"fill: #1f77b4; stroke: #000000; stroke-linejoin: miter\"/>\n   </g>\n   <g id=\"patch_93\">\n    <path d=\"M 213.309069 19.961191 \nL 217.744187 22.203051 \nL 215.783313 22.907941 \nL 213.594536 19.97349 \nL 213.158787 20.130132 \nL 215.347563 23.064583 \nL 213.38669 23.769473 \nz\n\" clip-path=\"url(#pbac0282a1f)\" style=\"fill: #1f77b4; stroke: #000000; stroke-linejoin: miter\"/>\n   </g>\n   <g id=\"patch_94\">\n    <path d=\"M 213.244679 19.874835 \nL 217.679342 22.117129 \nL 215.718325 22.821827 \nL 213.52696 19.882891 \nL 213.091178 20.03949 \nL 215.282544 22.978427 \nL 213.321527 23.683125 \nz\n\" clip-path=\"url(#pbac0282a1f)\" style=\"fill: #1f77b4; stroke: #000000; stroke-linejoin: miter\"/>\n   </g>\n   <g id=\"patch_95\">\n    <path d=\"M 213.183316 19.79256 \nL 217.618321 22.034528 \nL 215.657413 22.73937 \nL 213.462558 19.796519 \nL 213.0268 19.95315 \nL 215.221655 22.896002 \nL 213.260746 23.600844 \nz\n\" clip-path=\"url(#pbac0282a1f)\" style=\"fill: #1f77b4; stroke: #000000; stroke-linejoin: miter\"/>\n   </g>\n   <g id=\"patch_96\">\n    <path d=\"M 213.124849 19.714163 \nL 217.559785 21.956198 \nL 215.598854 22.661011 \nL 213.401198 19.714247 \nL 212.965435 19.870872 \nL 215.163091 22.817636 \nL 213.20216 23.522449 \nz\n\" clip-path=\"url(#pbac0282a1f)\" style=\"fill: #1f77b4; stroke: #000000; stroke-linejoin: miter\"/>\n   </g>\n   <g id=\"patch_97\">\n    <path d=\"M 213.069146 19.639462 \nL 217.503893 21.881675 \nL 215.542903 22.586409 \nL 213.342737 19.635859 \nL 212.906961 19.792467 \nL 215.107128 22.743017 \nL 213.146138 23.44775 \nz\n\" clip-path=\"url(#pbac0282a1f)\" style=\"fill: #1f77b4; stroke: #000000; stroke-linejoin: miter\"/>\n   </g>\n   <g id=\"patch_98\">\n    <path d=\"M 213.01606 19.568294 \nL 217.451225 21.810109 \nL 215.490366 22.515019 \nL 213.287019 19.561138 \nL 212.851273 19.717785 \nL 215.05462 22.671666 \nL 213.093761 23.376575 \nz\n\" clip-path=\"url(#pbac0282a1f)\" style=\"fill: #1f77b4; stroke: #000000; stroke-linejoin: miter\"/>\n   </g>\n   <g id=\"patch_99\">\n    <path d=\"M 212.965476 19.500476 \nL 217.400596 21.742333 \nL 215.439724 22.447225 \nL 213.233935 19.489972 \nL 212.798186 19.646615 \nL 215.003974 22.603867 \nL 213.043102 23.308758 \nz\n\" clip-path=\"url(#pbac0282a1f)\" style=\"fill: #1f77b4; stroke: #000000; stroke-linejoin: miter\"/>\n   </g>\n   <g id=\"patch_100\">\n    <path d=\"M 212.917289 19.435866 \nL 217.352262 21.677865 \nL 215.391343 22.382694 \nL 213.183356 19.422161 \nL 212.747596 19.57879 \nL 214.955583 22.539323 \nL 212.994663 23.244151 \nz\n\" clip-path=\"url(#pbac0282a1f)\" style=\"fill: #1f77b4; stroke: #000000; stroke-linejoin: miter\"/>\n   </g>\n   <g id=\"patch_101\">\n    <path d=\"M 212.87137 19.374302 \nL 217.306479 21.61617 \nL 215.345603 22.321057 \nL 213.135164 19.357545 \nL 212.699414 19.514187 \nL 214.909853 22.477698 \nL 212.948977 23.182585 \nz\n\" clip-path=\"url(#pbac0282a1f)\" style=\"fill: #1f77b4; stroke: #000000; stroke-linejoin: miter\"/>\n   </g>\n   <g id=\"patch_102\">\n    <path d=\"M 212.827629 19.315642 \nL 217.262339 21.557891 \nL 215.301337 22.262609 \nL 213.089259 19.296 \nL 212.653481 19.452604 \nL 214.865559 22.419213 \nL 212.904558 23.123931 \nz\n\" clip-path=\"url(#pbac0282a1f)\" style=\"fill: #1f77b4; stroke: #000000; stroke-linejoin: miter\"/>\n   </g>\n   <g id=\"matplotlib.axis_1\">\n    <g id=\"xtick_1\">\n     <g id=\"line2d_1\">\n      <defs>\n       <path id=\"mad47af1124\" d=\"M 0 0 \nL 0 3.5 \n\" style=\"stroke: #000000; stroke-width: 0.8\"/>\n      </defs>\n      <g>\n       <use xlink:href=\"#mad47af1124\" x=\"83.702439\" y=\"273.312\" style=\"stroke: #000000; stroke-width: 0.8\"/>\n      </g>\n     </g>\n     <g id=\"text_1\">\n      <!-- 0.0 -->\n      <g transform=\"translate(75.750876 287.910437) scale(0.1 -0.1)\">\n       <defs>\n        <path id=\"DejaVuSans-30\" d=\"M 2034 4250 \nQ 1547 4250 1301 3770 \nQ 1056 3291 1056 2328 \nQ 1056 1369 1301 889 \nQ 1547 409 2034 409 \nQ 2525 409 2770 889 \nQ 3016 1369 3016 2328 \nQ 3016 3291 2770 3770 \nQ 2525 4250 2034 4250 \nz\nM 2034 4750 \nQ 2819 4750 3233 4129 \nQ 3647 3509 3647 2328 \nQ 3647 1150 3233 529 \nQ 2819 -91 2034 -91 \nQ 1250 -91 836 529 \nQ 422 1150 422 2328 \nQ 422 3509 836 4129 \nQ 1250 4750 2034 4750 \nz\n\" transform=\"scale(0.015625)\"/>\n        <path id=\"DejaVuSans-2e\" d=\"M 684 794 \nL 1344 794 \nL 1344 0 \nL 684 0 \nL 684 794 \nz\n\" transform=\"scale(0.015625)\"/>\n       </defs>\n       <use xlink:href=\"#DejaVuSans-30\"/>\n       <use xlink:href=\"#DejaVuSans-2e\" x=\"63.623047\"/>\n       <use xlink:href=\"#DejaVuSans-30\" x=\"95.410156\"/>\n      </g>\n     </g>\n    </g>\n    <g id=\"xtick_2\">\n     <g id=\"line2d_2\">\n      <g>\n       <use xlink:href=\"#mad47af1124\" x=\"132.772777\" y=\"273.312\" style=\"stroke: #000000; stroke-width: 0.8\"/>\n      </g>\n     </g>\n     <g id=\"text_2\">\n      <!-- 0.1 -->\n      <g transform=\"translate(124.821214 287.910437) scale(0.1 -0.1)\">\n       <defs>\n        <path id=\"DejaVuSans-31\" d=\"M 794 531 \nL 1825 531 \nL 1825 4091 \nL 703 3866 \nL 703 4441 \nL 1819 4666 \nL 2450 4666 \nL 2450 531 \nL 3481 531 \nL 3481 0 \nL 794 0 \nL 794 531 \nz\n\" transform=\"scale(0.015625)\"/>\n       </defs>\n       <use xlink:href=\"#DejaVuSans-30\"/>\n       <use xlink:href=\"#DejaVuSans-2e\" x=\"63.623047\"/>\n       <use xlink:href=\"#DejaVuSans-31\" x=\"95.410156\"/>\n      </g>\n     </g>\n    </g>\n    <g id=\"xtick_3\">\n     <g id=\"line2d_3\">\n      <g>\n       <use xlink:href=\"#mad47af1124\" x=\"181.843115\" y=\"273.312\" style=\"stroke: #000000; stroke-width: 0.8\"/>\n      </g>\n     </g>\n     <g id=\"text_3\">\n      <!-- 0.2 -->\n      <g transform=\"translate(173.891552 287.910437) scale(0.1 -0.1)\">\n       <defs>\n        <path id=\"DejaVuSans-32\" d=\"M 1228 531 \nL 3431 531 \nL 3431 0 \nL 469 0 \nL 469 531 \nQ 828 903 1448 1529 \nQ 2069 2156 2228 2338 \nQ 2531 2678 2651 2914 \nQ 2772 3150 2772 3378 \nQ 2772 3750 2511 3984 \nQ 2250 4219 1831 4219 \nQ 1534 4219 1204 4116 \nQ 875 4013 500 3803 \nL 500 4441 \nQ 881 4594 1212 4672 \nQ 1544 4750 1819 4750 \nQ 2544 4750 2975 4387 \nQ 3406 4025 3406 3419 \nQ 3406 3131 3298 2873 \nQ 3191 2616 2906 2266 \nQ 2828 2175 2409 1742 \nQ 1991 1309 1228 531 \nz\n\" transform=\"scale(0.015625)\"/>\n       </defs>\n       <use xlink:href=\"#DejaVuSans-30\"/>\n       <use xlink:href=\"#DejaVuSans-2e\" x=\"63.623047\"/>\n       <use xlink:href=\"#DejaVuSans-32\" x=\"95.410156\"/>\n      </g>\n     </g>\n    </g>\n    <g id=\"xtick_4\">\n     <g id=\"line2d_4\">\n      <g>\n       <use xlink:href=\"#mad47af1124\" x=\"230.913453\" y=\"273.312\" style=\"stroke: #000000; stroke-width: 0.8\"/>\n      </g>\n     </g>\n     <g id=\"text_4\">\n      <!-- 0.3 -->\n      <g transform=\"translate(222.96189 287.910437) scale(0.1 -0.1)\">\n       <defs>\n        <path id=\"DejaVuSans-33\" d=\"M 2597 2516 \nQ 3050 2419 3304 2112 \nQ 3559 1806 3559 1356 \nQ 3559 666 3084 287 \nQ 2609 -91 1734 -91 \nQ 1441 -91 1130 -33 \nQ 819 25 488 141 \nL 488 750 \nQ 750 597 1062 519 \nQ 1375 441 1716 441 \nQ 2309 441 2620 675 \nQ 2931 909 2931 1356 \nQ 2931 1769 2642 2001 \nQ 2353 2234 1838 2234 \nL 1294 2234 \nL 1294 2753 \nL 1863 2753 \nQ 2328 2753 2575 2939 \nQ 2822 3125 2822 3475 \nQ 2822 3834 2567 4026 \nQ 2313 4219 1838 4219 \nQ 1578 4219 1281 4162 \nQ 984 4106 628 3988 \nL 628 4550 \nQ 988 4650 1302 4700 \nQ 1616 4750 1894 4750 \nQ 2613 4750 3031 4423 \nQ 3450 4097 3450 3541 \nQ 3450 3153 3228 2886 \nQ 3006 2619 2597 2516 \nz\n\" transform=\"scale(0.015625)\"/>\n       </defs>\n       <use xlink:href=\"#DejaVuSans-30\"/>\n       <use xlink:href=\"#DejaVuSans-2e\" x=\"63.623047\"/>\n       <use xlink:href=\"#DejaVuSans-33\" x=\"95.410156\"/>\n      </g>\n     </g>\n    </g>\n    <g id=\"xtick_5\">\n     <g id=\"line2d_5\">\n      <g>\n       <use xlink:href=\"#mad47af1124\" x=\"279.983791\" y=\"273.312\" style=\"stroke: #000000; stroke-width: 0.8\"/>\n      </g>\n     </g>\n     <g id=\"text_5\">\n      <!-- 0.4 -->\n      <g transform=\"translate(272.032228 287.910437) scale(0.1 -0.1)\">\n       <defs>\n        <path id=\"DejaVuSans-34\" d=\"M 2419 4116 \nL 825 1625 \nL 2419 1625 \nL 2419 4116 \nz\nM 2253 4666 \nL 3047 4666 \nL 3047 1625 \nL 3713 1625 \nL 3713 1100 \nL 3047 1100 \nL 3047 0 \nL 2419 0 \nL 2419 1100 \nL 313 1100 \nL 313 1709 \nL 2253 4666 \nz\n\" transform=\"scale(0.015625)\"/>\n       </defs>\n       <use xlink:href=\"#DejaVuSans-30\"/>\n       <use xlink:href=\"#DejaVuSans-2e\" x=\"63.623047\"/>\n       <use xlink:href=\"#DejaVuSans-34\" x=\"95.410156\"/>\n      </g>\n     </g>\n    </g>\n    <g id=\"xtick_6\">\n     <g id=\"line2d_6\">\n      <g>\n       <use xlink:href=\"#mad47af1124\" x=\"329.054129\" y=\"273.312\" style=\"stroke: #000000; stroke-width: 0.8\"/>\n      </g>\n     </g>\n     <g id=\"text_6\">\n      <!-- 0.5 -->\n      <g transform=\"translate(321.102566 287.910437) scale(0.1 -0.1)\">\n       <defs>\n        <path id=\"DejaVuSans-35\" d=\"M 691 4666 \nL 3169 4666 \nL 3169 4134 \nL 1269 4134 \nL 1269 2991 \nQ 1406 3038 1543 3061 \nQ 1681 3084 1819 3084 \nQ 2600 3084 3056 2656 \nQ 3513 2228 3513 1497 \nQ 3513 744 3044 326 \nQ 2575 -91 1722 -91 \nQ 1428 -91 1123 -41 \nQ 819 9 494 109 \nL 494 744 \nQ 775 591 1075 516 \nQ 1375 441 1709 441 \nQ 2250 441 2565 725 \nQ 2881 1009 2881 1497 \nQ 2881 1984 2565 2268 \nQ 2250 2553 1709 2553 \nQ 1456 2553 1204 2497 \nQ 953 2441 691 2322 \nL 691 4666 \nz\n\" transform=\"scale(0.015625)\"/>\n       </defs>\n       <use xlink:href=\"#DejaVuSans-30\"/>\n       <use xlink:href=\"#DejaVuSans-2e\" x=\"63.623047\"/>\n       <use xlink:href=\"#DejaVuSans-35\" x=\"95.410156\"/>\n      </g>\n     </g>\n    </g>\n    <g id=\"xtick_7\">\n     <g id=\"line2d_7\">\n      <g>\n       <use xlink:href=\"#mad47af1124\" x=\"378.124467\" y=\"273.312\" style=\"stroke: #000000; stroke-width: 0.8\"/>\n      </g>\n     </g>\n     <g id=\"text_7\">\n      <!-- 0.6 -->\n      <g transform=\"translate(370.172904 287.910437) scale(0.1 -0.1)\">\n       <defs>\n        <path id=\"DejaVuSans-36\" d=\"M 2113 2584 \nQ 1688 2584 1439 2293 \nQ 1191 2003 1191 1497 \nQ 1191 994 1439 701 \nQ 1688 409 2113 409 \nQ 2538 409 2786 701 \nQ 3034 994 3034 1497 \nQ 3034 2003 2786 2293 \nQ 2538 2584 2113 2584 \nz\nM 3366 4563 \nL 3366 3988 \nQ 3128 4100 2886 4159 \nQ 2644 4219 2406 4219 \nQ 1781 4219 1451 3797 \nQ 1122 3375 1075 2522 \nQ 1259 2794 1537 2939 \nQ 1816 3084 2150 3084 \nQ 2853 3084 3261 2657 \nQ 3669 2231 3669 1497 \nQ 3669 778 3244 343 \nQ 2819 -91 2113 -91 \nQ 1303 -91 875 529 \nQ 447 1150 447 2328 \nQ 447 3434 972 4092 \nQ 1497 4750 2381 4750 \nQ 2619 4750 2861 4703 \nQ 3103 4656 3366 4563 \nz\n\" transform=\"scale(0.015625)\"/>\n       </defs>\n       <use xlink:href=\"#DejaVuSans-30\"/>\n       <use xlink:href=\"#DejaVuSans-2e\" x=\"63.623047\"/>\n       <use xlink:href=\"#DejaVuSans-36\" x=\"95.410156\"/>\n      </g>\n     </g>\n    </g>\n    <g id=\"text_8\">\n     <!-- w0 -->\n     <g transform=\"translate(215.070938 301.588562) scale(0.1 -0.1)\">\n      <defs>\n       <path id=\"DejaVuSans-77\" d=\"M 269 3500 \nL 844 3500 \nL 1563 769 \nL 2278 3500 \nL 2956 3500 \nL 3675 769 \nL 4391 3500 \nL 4966 3500 \nL 4050 0 \nL 3372 0 \nL 2619 2869 \nL 1863 0 \nL 1184 0 \nL 269 3500 \nz\n\" transform=\"scale(0.015625)\"/>\n      </defs>\n      <use xlink:href=\"#DejaVuSans-77\"/>\n      <use xlink:href=\"#DejaVuSans-30\" x=\"81.787109\"/>\n     </g>\n    </g>\n   </g>\n   <g id=\"matplotlib.axis_2\">\n    <g id=\"ytick_1\">\n     <g id=\"line2d_8\">\n      <defs>\n       <path id=\"m95d3572a77\" d=\"M 0 0 \nL -3.5 0 \n\" style=\"stroke: #000000; stroke-width: 0.8\"/>\n      </defs>\n      <g>\n       <use xlink:href=\"#m95d3572a77\" x=\"43.78125\" y=\"251.981285\" style=\"stroke: #000000; stroke-width: 0.8\"/>\n      </g>\n     </g>\n     <g id=\"text_9\">\n      <!-- 0.0 -->\n      <g transform=\"translate(20.878125 255.780504) scale(0.1 -0.1)\">\n       <use xlink:href=\"#DejaVuSans-30\"/>\n       <use xlink:href=\"#DejaVuSans-2e\" x=\"63.623047\"/>\n       <use xlink:href=\"#DejaVuSans-30\" x=\"95.410156\"/>\n      </g>\n     </g>\n    </g>\n    <g id=\"ytick_2\">\n     <g id=\"line2d_9\">\n      <g>\n       <use xlink:href=\"#m95d3572a77\" x=\"43.78125\" y=\"217.91556\" style=\"stroke: #000000; stroke-width: 0.8\"/>\n      </g>\n     </g>\n     <g id=\"text_10\">\n      <!-- 0.1 -->\n      <g transform=\"translate(20.878125 221.714779) scale(0.1 -0.1)\">\n       <use xlink:href=\"#DejaVuSans-30\"/>\n       <use xlink:href=\"#DejaVuSans-2e\" x=\"63.623047\"/>\n       <use xlink:href=\"#DejaVuSans-31\" x=\"95.410156\"/>\n      </g>\n     </g>\n    </g>\n    <g id=\"ytick_3\">\n     <g id=\"line2d_10\">\n      <g>\n       <use xlink:href=\"#m95d3572a77\" x=\"43.78125\" y=\"183.849835\" style=\"stroke: #000000; stroke-width: 0.8\"/>\n      </g>\n     </g>\n     <g id=\"text_11\">\n      <!-- 0.2 -->\n      <g transform=\"translate(20.878125 187.649053) scale(0.1 -0.1)\">\n       <use xlink:href=\"#DejaVuSans-30\"/>\n       <use xlink:href=\"#DejaVuSans-2e\" x=\"63.623047\"/>\n       <use xlink:href=\"#DejaVuSans-32\" x=\"95.410156\"/>\n      </g>\n     </g>\n    </g>\n    <g id=\"ytick_4\">\n     <g id=\"line2d_11\">\n      <g>\n       <use xlink:href=\"#m95d3572a77\" x=\"43.78125\" y=\"149.784109\" style=\"stroke: #000000; stroke-width: 0.8\"/>\n      </g>\n     </g>\n     <g id=\"text_12\">\n      <!-- 0.3 -->\n      <g transform=\"translate(20.878125 153.583328) scale(0.1 -0.1)\">\n       <use xlink:href=\"#DejaVuSans-30\"/>\n       <use xlink:href=\"#DejaVuSans-2e\" x=\"63.623047\"/>\n       <use xlink:href=\"#DejaVuSans-33\" x=\"95.410156\"/>\n      </g>\n     </g>\n    </g>\n    <g id=\"ytick_5\">\n     <g id=\"line2d_12\">\n      <g>\n       <use xlink:href=\"#m95d3572a77\" x=\"43.78125\" y=\"115.718384\" style=\"stroke: #000000; stroke-width: 0.8\"/>\n      </g>\n     </g>\n     <g id=\"text_13\">\n      <!-- 0.4 -->\n      <g transform=\"translate(20.878125 119.517603) scale(0.1 -0.1)\">\n       <use xlink:href=\"#DejaVuSans-30\"/>\n       <use xlink:href=\"#DejaVuSans-2e\" x=\"63.623047\"/>\n       <use xlink:href=\"#DejaVuSans-34\" x=\"95.410156\"/>\n      </g>\n     </g>\n    </g>\n    <g id=\"ytick_6\">\n     <g id=\"line2d_13\">\n      <g>\n       <use xlink:href=\"#m95d3572a77\" x=\"43.78125\" y=\"81.652659\" style=\"stroke: #000000; stroke-width: 0.8\"/>\n      </g>\n     </g>\n     <g id=\"text_14\">\n      <!-- 0.5 -->\n      <g transform=\"translate(20.878125 85.451878) scale(0.1 -0.1)\">\n       <use xlink:href=\"#DejaVuSans-30\"/>\n       <use xlink:href=\"#DejaVuSans-2e\" x=\"63.623047\"/>\n       <use xlink:href=\"#DejaVuSans-35\" x=\"95.410156\"/>\n      </g>\n     </g>\n    </g>\n    <g id=\"ytick_7\">\n     <g id=\"line2d_14\">\n      <g>\n       <use xlink:href=\"#m95d3572a77\" x=\"43.78125\" y=\"47.586934\" style=\"stroke: #000000; stroke-width: 0.8\"/>\n      </g>\n     </g>\n     <g id=\"text_15\">\n      <!-- 0.6 -->\n      <g transform=\"translate(20.878125 51.386153) scale(0.1 -0.1)\">\n       <use xlink:href=\"#DejaVuSans-30\"/>\n       <use xlink:href=\"#DejaVuSans-2e\" x=\"63.623047\"/>\n       <use xlink:href=\"#DejaVuSans-36\" x=\"95.410156\"/>\n      </g>\n     </g>\n    </g>\n    <g id=\"ytick_8\">\n     <g id=\"line2d_15\">\n      <g>\n       <use xlink:href=\"#m95d3572a77\" x=\"43.78125\" y=\"13.521209\" style=\"stroke: #000000; stroke-width: 0.8\"/>\n      </g>\n     </g>\n     <g id=\"text_16\">\n      <!-- 0.7 -->\n      <g transform=\"translate(20.878125 17.320428) scale(0.1 -0.1)\">\n       <defs>\n        <path id=\"DejaVuSans-37\" d=\"M 525 4666 \nL 3525 4666 \nL 3525 4397 \nL 1831 0 \nL 1172 0 \nL 2766 4134 \nL 525 4134 \nL 525 4666 \nz\n\" transform=\"scale(0.015625)\"/>\n       </defs>\n       <use xlink:href=\"#DejaVuSans-30\"/>\n       <use xlink:href=\"#DejaVuSans-2e\" x=\"63.623047\"/>\n       <use xlink:href=\"#DejaVuSans-37\" x=\"95.410156\"/>\n      </g>\n     </g>\n    </g>\n    <g id=\"text_17\">\n     <!-- w1 -->\n     <g transform=\"translate(14.798438 147.526312) rotate(-90) scale(0.1 -0.1)\">\n      <use xlink:href=\"#DejaVuSans-77\"/>\n      <use xlink:href=\"#DejaVuSans-31\" x=\"81.787109\"/>\n     </g>\n    </g>\n   </g>\n   <g id=\"patch_103\">\n    <path d=\"M 43.78125 273.312 \nL 43.78125 7.2 \n\" style=\"fill: none; stroke: #000000; stroke-width: 0.8; stroke-linejoin: miter; stroke-linecap: square\"/>\n   </g>\n   <g id=\"patch_104\">\n    <path d=\"M 400.90125 273.312 \nL 400.90125 7.2 \n\" style=\"fill: none; stroke: #000000; stroke-width: 0.8; stroke-linejoin: miter; stroke-linecap: square\"/>\n   </g>\n   <g id=\"patch_105\">\n    <path d=\"M 43.78125 273.312 \nL 400.90125 273.312 \n\" style=\"fill: none; stroke: #000000; stroke-width: 0.8; stroke-linejoin: miter; stroke-linecap: square\"/>\n   </g>\n   <g id=\"patch_106\">\n    <path d=\"M 43.78125 7.2 \nL 400.90125 7.2 \n\" style=\"fill: none; stroke: #000000; stroke-width: 0.8; stroke-linejoin: miter; stroke-linecap: square\"/>\n   </g>\n   <g id=\"patch_107\">\n    <path d=\"M 176.35155 66.670895 \nQ 189.008082 48.14918 201.664614 29.627466 \nL 198.362038 27.370701 \nQ 204.22364 24.110109 210.085243 20.849518 \nQ 209.177505 27.495257 208.269767 34.140997 \nL 204.967191 31.884231 \nQ 192.310658 50.405946 179.654126 68.92766 \nL 176.35155 66.670895 \nz\n\" style=\"fill: #ff0000; stroke: #000000; stroke-linecap: round\"/>\n   </g>\n   <g id=\"text_18\">\n    <!-- Valor ótimo dos  -->\n    <g transform=\"translate(89.267596 80.120772) scale(0.1 -0.1)\">\n     <defs>\n      <path id=\"DejaVuSans-56\" d=\"M 1831 0 \nL 50 4666 \nL 709 4666 \nL 2188 738 \nL 3669 4666 \nL 4325 4666 \nL 2547 0 \nL 1831 0 \nz\n\" transform=\"scale(0.015625)\"/>\n      <path id=\"DejaVuSans-61\" d=\"M 2194 1759 \nQ 1497 1759 1228 1600 \nQ 959 1441 959 1056 \nQ 959 750 1161 570 \nQ 1363 391 1709 391 \nQ 2188 391 2477 730 \nQ 2766 1069 2766 1631 \nL 2766 1759 \nL 2194 1759 \nz\nM 3341 1997 \nL 3341 0 \nL 2766 0 \nL 2766 531 \nQ 2569 213 2275 61 \nQ 1981 -91 1556 -91 \nQ 1019 -91 701 211 \nQ 384 513 384 1019 \nQ 384 1609 779 1909 \nQ 1175 2209 1959 2209 \nL 2766 2209 \nL 2766 2266 \nQ 2766 2663 2505 2880 \nQ 2244 3097 1772 3097 \nQ 1472 3097 1187 3025 \nQ 903 2953 641 2809 \nL 641 3341 \nQ 956 3463 1253 3523 \nQ 1550 3584 1831 3584 \nQ 2591 3584 2966 3190 \nQ 3341 2797 3341 1997 \nz\n\" transform=\"scale(0.015625)\"/>\n      <path id=\"DejaVuSans-6c\" d=\"M 603 4863 \nL 1178 4863 \nL 1178 0 \nL 603 0 \nL 603 4863 \nz\n\" transform=\"scale(0.015625)\"/>\n      <path id=\"DejaVuSans-6f\" d=\"M 1959 3097 \nQ 1497 3097 1228 2736 \nQ 959 2375 959 1747 \nQ 959 1119 1226 758 \nQ 1494 397 1959 397 \nQ 2419 397 2687 759 \nQ 2956 1122 2956 1747 \nQ 2956 2369 2687 2733 \nQ 2419 3097 1959 3097 \nz\nM 1959 3584 \nQ 2709 3584 3137 3096 \nQ 3566 2609 3566 1747 \nQ 3566 888 3137 398 \nQ 2709 -91 1959 -91 \nQ 1206 -91 779 398 \nQ 353 888 353 1747 \nQ 353 2609 779 3096 \nQ 1206 3584 1959 3584 \nz\n\" transform=\"scale(0.015625)\"/>\n      <path id=\"DejaVuSans-72\" d=\"M 2631 2963 \nQ 2534 3019 2420 3045 \nQ 2306 3072 2169 3072 \nQ 1681 3072 1420 2755 \nQ 1159 2438 1159 1844 \nL 1159 0 \nL 581 0 \nL 581 3500 \nL 1159 3500 \nL 1159 2956 \nQ 1341 3275 1631 3429 \nQ 1922 3584 2338 3584 \nQ 2397 3584 2469 3576 \nQ 2541 3569 2628 3553 \nL 2631 2963 \nz\n\" transform=\"scale(0.015625)\"/>\n      <path id=\"DejaVuSans-20\" transform=\"scale(0.015625)\"/>\n      <path id=\"DejaVuSans-f3\" d=\"M 1959 3097 \nQ 1497 3097 1228 2736 \nQ 959 2375 959 1747 \nQ 959 1119 1226 758 \nQ 1494 397 1959 397 \nQ 2419 397 2687 759 \nQ 2956 1122 2956 1747 \nQ 2956 2369 2687 2733 \nQ 2419 3097 1959 3097 \nz\nM 1959 3584 \nQ 2709 3584 3137 3096 \nQ 3566 2609 3566 1747 \nQ 3566 888 3137 398 \nQ 2709 -91 1959 -91 \nQ 1206 -91 779 398 \nQ 353 888 353 1747 \nQ 353 2609 779 3096 \nQ 1206 3584 1959 3584 \nz\nM 2394 5119 \nL 3016 5119 \nL 1998 3944 \nL 1519 3944 \nL 2394 5119 \nz\n\" transform=\"scale(0.015625)\"/>\n      <path id=\"DejaVuSans-74\" d=\"M 1172 4494 \nL 1172 3500 \nL 2356 3500 \nL 2356 3053 \nL 1172 3053 \nL 1172 1153 \nQ 1172 725 1289 603 \nQ 1406 481 1766 481 \nL 2356 481 \nL 2356 0 \nL 1766 0 \nQ 1100 0 847 248 \nQ 594 497 594 1153 \nL 594 3053 \nL 172 3053 \nL 172 3500 \nL 594 3500 \nL 594 4494 \nL 1172 4494 \nz\n\" transform=\"scale(0.015625)\"/>\n      <path id=\"DejaVuSans-69\" d=\"M 603 3500 \nL 1178 3500 \nL 1178 0 \nL 603 0 \nL 603 3500 \nz\nM 603 4863 \nL 1178 4863 \nL 1178 4134 \nL 603 4134 \nL 603 4863 \nz\n\" transform=\"scale(0.015625)\"/>\n      <path id=\"DejaVuSans-6d\" d=\"M 3328 2828 \nQ 3544 3216 3844 3400 \nQ 4144 3584 4550 3584 \nQ 5097 3584 5394 3201 \nQ 5691 2819 5691 2113 \nL 5691 0 \nL 5113 0 \nL 5113 2094 \nQ 5113 2597 4934 2840 \nQ 4756 3084 4391 3084 \nQ 3944 3084 3684 2787 \nQ 3425 2491 3425 1978 \nL 3425 0 \nL 2847 0 \nL 2847 2094 \nQ 2847 2600 2669 2842 \nQ 2491 3084 2119 3084 \nQ 1678 3084 1418 2786 \nQ 1159 2488 1159 1978 \nL 1159 0 \nL 581 0 \nL 581 3500 \nL 1159 3500 \nL 1159 2956 \nQ 1356 3278 1631 3431 \nQ 1906 3584 2284 3584 \nQ 2666 3584 2933 3390 \nQ 3200 3197 3328 2828 \nz\n\" transform=\"scale(0.015625)\"/>\n      <path id=\"DejaVuSans-64\" d=\"M 2906 2969 \nL 2906 4863 \nL 3481 4863 \nL 3481 0 \nL 2906 0 \nL 2906 525 \nQ 2725 213 2448 61 \nQ 2172 -91 1784 -91 \nQ 1150 -91 751 415 \nQ 353 922 353 1747 \nQ 353 2572 751 3078 \nQ 1150 3584 1784 3584 \nQ 2172 3584 2448 3432 \nQ 2725 3281 2906 2969 \nz\nM 947 1747 \nQ 947 1113 1208 752 \nQ 1469 391 1925 391 \nQ 2381 391 2643 752 \nQ 2906 1113 2906 1747 \nQ 2906 2381 2643 2742 \nQ 2381 3103 1925 3103 \nQ 1469 3103 1208 2742 \nQ 947 2381 947 1747 \nz\n\" transform=\"scale(0.015625)\"/>\n      <path id=\"DejaVuSans-73\" d=\"M 2834 3397 \nL 2834 2853 \nQ 2591 2978 2328 3040 \nQ 2066 3103 1784 3103 \nQ 1356 3103 1142 2972 \nQ 928 2841 928 2578 \nQ 928 2378 1081 2264 \nQ 1234 2150 1697 2047 \nL 1894 2003 \nQ 2506 1872 2764 1633 \nQ 3022 1394 3022 966 \nQ 3022 478 2636 193 \nQ 2250 -91 1575 -91 \nQ 1294 -91 989 -36 \nQ 684 19 347 128 \nL 347 722 \nQ 666 556 975 473 \nQ 1284 391 1588 391 \nQ 1994 391 2212 530 \nQ 2431 669 2431 922 \nQ 2431 1156 2273 1281 \nQ 2116 1406 1581 1522 \nL 1381 1569 \nQ 847 1681 609 1914 \nQ 372 2147 372 2553 \nQ 372 3047 722 3315 \nQ 1072 3584 1716 3584 \nQ 2034 3584 2315 3537 \nQ 2597 3491 2834 3397 \nz\n\" transform=\"scale(0.015625)\"/>\n     </defs>\n     <use xlink:href=\"#DejaVuSans-56\"/>\n     <use xlink:href=\"#DejaVuSans-61\" x=\"60.658203\"/>\n     <use xlink:href=\"#DejaVuSans-6c\" x=\"121.9375\"/>\n     <use xlink:href=\"#DejaVuSans-6f\" x=\"149.720703\"/>\n     <use xlink:href=\"#DejaVuSans-72\" x=\"210.902344\"/>\n     <use xlink:href=\"#DejaVuSans-20\" x=\"252.015625\"/>\n     <use xlink:href=\"#DejaVuSans-f3\" x=\"283.802734\"/>\n     <use xlink:href=\"#DejaVuSans-74\" x=\"344.984375\"/>\n     <use xlink:href=\"#DejaVuSans-69\" x=\"384.193359\"/>\n     <use xlink:href=\"#DejaVuSans-6d\" x=\"411.976562\"/>\n     <use xlink:href=\"#DejaVuSans-6f\" x=\"509.388672\"/>\n     <use xlink:href=\"#DejaVuSans-20\" x=\"570.570312\"/>\n     <use xlink:href=\"#DejaVuSans-64\" x=\"602.357422\"/>\n     <use xlink:href=\"#DejaVuSans-6f\" x=\"665.833984\"/>\n     <use xlink:href=\"#DejaVuSans-73\" x=\"727.015625\"/>\n     <use xlink:href=\"#DejaVuSans-20\" x=\"779.115234\"/>\n    </g>\n    <!-- parâmetros pela  -->\n    <g transform=\"translate(89.267596 91.798585) scale(0.1 -0.1)\">\n     <defs>\n      <path id=\"DejaVuSans-70\" d=\"M 1159 525 \nL 1159 -1331 \nL 581 -1331 \nL 581 3500 \nL 1159 3500 \nL 1159 2969 \nQ 1341 3281 1617 3432 \nQ 1894 3584 2278 3584 \nQ 2916 3584 3314 3078 \nQ 3713 2572 3713 1747 \nQ 3713 922 3314 415 \nQ 2916 -91 2278 -91 \nQ 1894 -91 1617 61 \nQ 1341 213 1159 525 \nz\nM 3116 1747 \nQ 3116 2381 2855 2742 \nQ 2594 3103 2138 3103 \nQ 1681 3103 1420 2742 \nQ 1159 2381 1159 1747 \nQ 1159 1113 1420 752 \nQ 1681 391 2138 391 \nQ 2594 391 2855 752 \nQ 3116 1113 3116 1747 \nz\n\" transform=\"scale(0.015625)\"/>\n      <path id=\"DejaVuSans-e2\" d=\"M 2194 1759 \nQ 1497 1759 1228 1600 \nQ 959 1441 959 1056 \nQ 959 750 1161 570 \nQ 1363 391 1709 391 \nQ 2188 391 2477 730 \nQ 2766 1069 2766 1631 \nL 2766 1759 \nL 2194 1759 \nz\nM 3341 1997 \nL 3341 0 \nL 2766 0 \nL 2766 531 \nQ 2569 213 2275 61 \nQ 1981 -91 1556 -91 \nQ 1019 -91 701 211 \nQ 384 513 384 1019 \nQ 384 1609 779 1909 \nQ 1175 2209 1959 2209 \nL 2766 2209 \nL 2766 2266 \nQ 2766 2663 2505 2880 \nQ 2244 3097 1772 3097 \nQ 1472 3097 1187 3025 \nQ 903 2953 641 2809 \nL 641 3341 \nQ 956 3463 1253 3523 \nQ 1550 3584 1831 3584 \nQ 2591 3584 2966 3190 \nQ 3341 2797 3341 1997 \nz\nM 1625 5119 \nL 2087 5119 \nL 2853 3944 \nL 2419 3944 \nL 1856 4709 \nL 1294 3944 \nL 859 3944 \nL 1625 5119 \nz\n\" transform=\"scale(0.015625)\"/>\n      <path id=\"DejaVuSans-65\" d=\"M 3597 1894 \nL 3597 1613 \nL 953 1613 \nQ 991 1019 1311 708 \nQ 1631 397 2203 397 \nQ 2534 397 2845 478 \nQ 3156 559 3463 722 \nL 3463 178 \nQ 3153 47 2828 -22 \nQ 2503 -91 2169 -91 \nQ 1331 -91 842 396 \nQ 353 884 353 1716 \nQ 353 2575 817 3079 \nQ 1281 3584 2069 3584 \nQ 2775 3584 3186 3129 \nQ 3597 2675 3597 1894 \nz\nM 3022 2063 \nQ 3016 2534 2758 2815 \nQ 2500 3097 2075 3097 \nQ 1594 3097 1305 2825 \nQ 1016 2553 972 2059 \nL 3022 2063 \nz\n\" transform=\"scale(0.015625)\"/>\n     </defs>\n     <use xlink:href=\"#DejaVuSans-70\"/>\n     <use xlink:href=\"#DejaVuSans-61\" x=\"63.476562\"/>\n     <use xlink:href=\"#DejaVuSans-72\" x=\"124.755859\"/>\n     <use xlink:href=\"#DejaVuSans-e2\" x=\"165.869141\"/>\n     <use xlink:href=\"#DejaVuSans-6d\" x=\"227.148438\"/>\n     <use xlink:href=\"#DejaVuSans-65\" x=\"324.560547\"/>\n     <use xlink:href=\"#DejaVuSans-74\" x=\"386.083984\"/>\n     <use xlink:href=\"#DejaVuSans-72\" x=\"425.292969\"/>\n     <use xlink:href=\"#DejaVuSans-6f\" x=\"464.15625\"/>\n     <use xlink:href=\"#DejaVuSans-73\" x=\"525.337891\"/>\n     <use xlink:href=\"#DejaVuSans-20\" x=\"577.4375\"/>\n     <use xlink:href=\"#DejaVuSans-70\" x=\"609.224609\"/>\n     <use xlink:href=\"#DejaVuSans-65\" x=\"672.701172\"/>\n     <use xlink:href=\"#DejaVuSans-6c\" x=\"734.224609\"/>\n     <use xlink:href=\"#DejaVuSans-61\" x=\"762.007812\"/>\n     <use xlink:href=\"#DejaVuSans-20\" x=\"823.287109\"/>\n    </g>\n    <!-- solução analítica -->\n    <g transform=\"translate(89.267596 103.294522) scale(0.1 -0.1)\">\n     <defs>\n      <path id=\"DejaVuSans-75\" d=\"M 544 1381 \nL 544 3500 \nL 1119 3500 \nL 1119 1403 \nQ 1119 906 1312 657 \nQ 1506 409 1894 409 \nQ 2359 409 2629 706 \nQ 2900 1003 2900 1516 \nL 2900 3500 \nL 3475 3500 \nL 3475 0 \nL 2900 0 \nL 2900 538 \nQ 2691 219 2414 64 \nQ 2138 -91 1772 -91 \nQ 1169 -91 856 284 \nQ 544 659 544 1381 \nz\nM 1991 3584 \nL 1991 3584 \nz\n\" transform=\"scale(0.015625)\"/>\n      <path id=\"DejaVuSans-e7\" d=\"M 3122 3366 \nL 3122 2828 \nQ 2878 2963 2633 3030 \nQ 2388 3097 2138 3097 \nQ 1578 3097 1268 2742 \nQ 959 2388 959 1747 \nQ 959 1106 1268 751 \nQ 1578 397 2138 397 \nQ 2388 397 2633 464 \nQ 2878 531 3122 666 \nL 3122 134 \nQ 2881 22 2623 -34 \nQ 2366 -91 2075 -91 \nQ 1284 -91 818 406 \nQ 353 903 353 1747 \nQ 353 2603 823 3093 \nQ 1294 3584 2113 3584 \nQ 2378 3584 2631 3529 \nQ 2884 3475 3122 3366 \nz\nM 2311 0 \nQ 2482 -194 2566 -358 \nQ 2651 -522 2651 -672 \nQ 2651 -950 2463 -1092 \nQ 2276 -1234 1907 -1234 \nQ 1764 -1234 1628 -1215 \nQ 1492 -1197 1357 -1159 \nL 1357 -750 \nQ 1464 -803 1579 -826 \nQ 1695 -850 1842 -850 \nQ 2026 -850 2120 -775 \nQ 2214 -700 2214 -556 \nQ 2214 -463 2146 -327 \nQ 2079 -191 1939 0 \nL 2311 0 \nz\n\" transform=\"scale(0.015625)\"/>\n      <path id=\"DejaVuSans-e3\" d=\"M 2194 1759 \nQ 1497 1759 1228 1600 \nQ 959 1441 959 1056 \nQ 959 750 1161 570 \nQ 1363 391 1709 391 \nQ 2188 391 2477 730 \nQ 2766 1069 2766 1631 \nL 2766 1759 \nL 2194 1759 \nz\nM 3341 1997 \nL 3341 0 \nL 2766 0 \nL 2766 531 \nQ 2569 213 2275 61 \nQ 1981 -91 1556 -91 \nQ 1019 -91 701 211 \nQ 384 513 384 1019 \nQ 384 1609 779 1909 \nQ 1175 2209 1959 2209 \nL 2766 2209 \nL 2766 2266 \nQ 2766 2663 2505 2880 \nQ 2244 3097 1772 3097 \nQ 1472 3097 1187 3025 \nQ 903 2953 641 2809 \nL 641 3341 \nQ 956 3463 1253 3523 \nQ 1550 3584 1831 3584 \nQ 2591 3584 2966 3190 \nQ 3341 2797 3341 1997 \nz\nM 1844 4281 \nL 1665 4453 \nQ 1597 4516 1545 4545 \nQ 1494 4575 1453 4575 \nQ 1334 4575 1278 4461 \nQ 1222 4347 1215 4091 \nL 825 4091 \nQ 831 4513 990 4742 \nQ 1150 4972 1434 4972 \nQ 1553 4972 1653 4928 \nQ 1753 4884 1869 4781 \nL 2047 4609 \nQ 2115 4547 2167 4517 \nQ 2219 4488 2259 4488 \nQ 2378 4488 2434 4602 \nQ 2490 4716 2497 4972 \nL 2887 4972 \nQ 2881 4550 2721 4320 \nQ 2562 4091 2278 4091 \nQ 2159 4091 2059 4134 \nQ 1959 4178 1844 4281 \nz\n\" transform=\"scale(0.015625)\"/>\n      <path id=\"DejaVuSans-6e\" d=\"M 3513 2113 \nL 3513 0 \nL 2938 0 \nL 2938 2094 \nQ 2938 2591 2744 2837 \nQ 2550 3084 2163 3084 \nQ 1697 3084 1428 2787 \nQ 1159 2491 1159 1978 \nL 1159 0 \nL 581 0 \nL 581 3500 \nL 1159 3500 \nL 1159 2956 \nQ 1366 3272 1645 3428 \nQ 1925 3584 2291 3584 \nQ 2894 3584 3203 3211 \nQ 3513 2838 3513 2113 \nz\n\" transform=\"scale(0.015625)\"/>\n      <path id=\"DejaVuSans-ed\" d=\"M 1322 5119 \nL 1944 5119 \nL 926 3944 \nL 447 3944 \nL 1322 5119 \nz\nM 603 3500 \nL 1178 3500 \nL 1178 0 \nL 603 0 \nL 603 3500 \nz\nM 891 3584 \nL 891 3584 \nz\n\" transform=\"scale(0.015625)\"/>\n      <path id=\"DejaVuSans-63\" d=\"M 3122 3366 \nL 3122 2828 \nQ 2878 2963 2633 3030 \nQ 2388 3097 2138 3097 \nQ 1578 3097 1268 2742 \nQ 959 2388 959 1747 \nQ 959 1106 1268 751 \nQ 1578 397 2138 397 \nQ 2388 397 2633 464 \nQ 2878 531 3122 666 \nL 3122 134 \nQ 2881 22 2623 -34 \nQ 2366 -91 2075 -91 \nQ 1284 -91 818 406 \nQ 353 903 353 1747 \nQ 353 2603 823 3093 \nQ 1294 3584 2113 3584 \nQ 2378 3584 2631 3529 \nQ 2884 3475 3122 3366 \nz\n\" transform=\"scale(0.015625)\"/>\n     </defs>\n     <use xlink:href=\"#DejaVuSans-73\"/>\n     <use xlink:href=\"#DejaVuSans-6f\" x=\"52.099609\"/>\n     <use xlink:href=\"#DejaVuSans-6c\" x=\"113.28125\"/>\n     <use xlink:href=\"#DejaVuSans-75\" x=\"141.064453\"/>\n     <use xlink:href=\"#DejaVuSans-e7\" x=\"204.443359\"/>\n     <use xlink:href=\"#DejaVuSans-e3\" x=\"259.423828\"/>\n     <use xlink:href=\"#DejaVuSans-6f\" x=\"320.703125\"/>\n     <use xlink:href=\"#DejaVuSans-20\" x=\"381.884766\"/>\n     <use xlink:href=\"#DejaVuSans-61\" x=\"413.671875\"/>\n     <use xlink:href=\"#DejaVuSans-6e\" x=\"474.951172\"/>\n     <use xlink:href=\"#DejaVuSans-61\" x=\"538.330078\"/>\n     <use xlink:href=\"#DejaVuSans-6c\" x=\"599.609375\"/>\n     <use xlink:href=\"#DejaVuSans-ed\" x=\"627.392578\"/>\n     <use xlink:href=\"#DejaVuSans-74\" x=\"655.175781\"/>\n     <use xlink:href=\"#DejaVuSans-69\" x=\"694.384766\"/>\n     <use xlink:href=\"#DejaVuSans-63\" x=\"722.167969\"/>\n     <use xlink:href=\"#DejaVuSans-61\" x=\"777.148438\"/>\n    </g>\n   </g>\n  </g>\n </g>\n <defs>\n  <clipPath id=\"pbac0282a1f\">\n   <rect x=\"43.78125\" y=\"7.2\" width=\"357.12\" height=\"266.112\"/>\n  </clipPath>\n </defs>\n</svg>\n"
          },
          "metadata": {}
        }
      ],
      "source": [
        "# Exemplo\n",
        "# Valore atualizados no laço de treinamento\n",
        "#w0_list = [0.1, 0.15, 0.2, 0.3]\n",
        "#w1_list = [0.1, 0.2, 0.18, 0.3]\n",
        "%config InlineBackend.figure_format = 'svg'\n",
        "plt.scatter(w0_list,w1_list)\n",
        "w0_old = None\n",
        "for (w0,w1) in zip(w0_list,w1_list):\n",
        "    if w0_old:\n",
        "        plt.arrow(w0_old, w1_old, w0-w0_old, w1-w1_old,\n",
        "                  head_length=0.01,head_width=0.01,shape='full',\n",
        "                  length_includes_head=True)\n",
        "    w0_old,w1_old = w0,w1\n",
        "\n",
        "plt.xlabel('w0')\n",
        "plt.ylabel('w1')\n",
        "plt.annotate('Valor ótimo dos \\nparâmetros pela \\nsolução analítica',\n",
        "             xy=(w_opt[0], w_opt[1]),\n",
        "             xytext=(w_opt[0]-0.25, w_opt[1]-0.25),\n",
        "             arrowprops=dict(facecolor='r', shrink=0.05),\n",
        "            )\n",
        "plt.show()"
      ]
    },
    {
      "cell_type": "markdown",
      "metadata": {
        "heading_collapsed": true,
        "id": "ssef368KHihA"
      },
      "source": [
        "# Aprendizados"
      ]
    },
    {
      "cell_type": "code",
      "execution_count": 82,
      "metadata": {
        "hidden": true,
        "id": "CrrRGo2CHihA"
      },
      "outputs": [],
      "source": []
    }
  ],
  "metadata": {
    "accelerator": "TPU",
    "colab": {
      "provenance": [],
      "gpuType": "V28"
    },
    "kernelspec": {
      "display_name": "Python 3.10.2 64-bit",
      "language": "python",
      "name": "python3"
    },
    "language_info": {
      "name": "python",
      "version": "3.10.2"
    },
    "vscode": {
      "interpreter": {
        "hash": "5fe3e6f0cdaab8afdc61c52912fda83f7c0a71baaea1897dd7498e2df01e69ec"
      }
    }
  },
  "nbformat": 4,
  "nbformat_minor": 0
}
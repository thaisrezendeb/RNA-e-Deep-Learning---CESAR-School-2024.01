{
  "cells": [
    {
      "cell_type": "markdown",
      "metadata": {
        "id": "oybr0ygpH3at"
      },
      "source": [
        "# Regressão Linear com PyTorch"
      ]
    },
    {
      "cell_type": "markdown",
      "metadata": {
        "id": "4AZBwvGWH3au"
      },
      "source": [
        "## Objetivos"
      ]
    },
    {
      "cell_type": "markdown",
      "metadata": {
        "id": "PesKBcQYH3av"
      },
      "source": [
        "Este exemplo utiliza regressão linear para estimar o comprimento das sépalas da íris a partir do seu comprimento das pétalas.\n",
        "Utiliza-se:\n",
        "- a função de perda MSE do PyTorch,\n",
        "- treinamento dos parâmetros via gradiente descendente usando o otimizador.\n",
        "- A rede é criada com uma camada nn.Linear()"
      ]
    },
    {
      "cell_type": "markdown",
      "metadata": {
        "id": "rPwFmfTpH3ax"
      },
      "source": [
        "## Importação dos pacotes"
      ]
    },
    {
      "cell_type": "code",
      "execution_count": 1,
      "metadata": {
        "ExecuteTime": {
          "end_time": "2017-10-08T11:23:37.927166Z",
          "start_time": "2017-10-08T11:23:36.900382Z"
        },
        "colab": {
          "base_uri": "https://localhost:8080/"
        },
        "id": "EJa19XZsH3ax",
        "outputId": "f465de3e-0b0d-4dd9-a85c-ffb51fe6e896"
      },
      "outputs": [
        {
          "output_type": "execute_result",
          "data": {
            "text/plain": [
              "<torch._C.Generator at 0x7b9dddb1f190>"
            ]
          },
          "metadata": {},
          "execution_count": 1
        }
      ],
      "source": [
        "%matplotlib inline\n",
        "import torch\n",
        "from torch import nn, optim\n",
        "from torch.autograd import Variable\n",
        "import numpy as np\n",
        "import matplotlib.pyplot as plt\n",
        "from sklearn.datasets import load_iris\n",
        "\n",
        "torch.manual_seed(1234)"
      ]
    },
    {
      "cell_type": "markdown",
      "metadata": {
        "id": "zkVqshBgH3a3"
      },
      "source": [
        "## Leitura dos dados"
      ]
    },
    {
      "cell_type": "code",
      "execution_count": 2,
      "metadata": {
        "ExecuteTime": {
          "end_time": "2017-10-08T11:23:37.946805Z",
          "start_time": "2017-10-08T11:23:37.929142Z"
        },
        "colab": {
          "base_uri": "https://localhost:8080/"
        },
        "id": "FNRdrYnrH3a4",
        "outputId": "41981a98-d329-4e6f-d598-2ee5afaaf611"
      },
      "outputs": [
        {
          "output_type": "stream",
          "name": "stdout",
          "text": [
            "x_train.shape: (50, 1) float32\n",
            "y_train.shape: (50, 1) float32\n",
            "x_train[:5]:\n",
            " [[7. ]\n",
            " [6.4]\n",
            " [6.9]\n",
            " [5.5]\n",
            " [6.5]]\n",
            "y_train[:5]:\n",
            " [[4.7]\n",
            " [4.5]\n",
            " [4.9]\n",
            " [4. ]\n",
            " [4.6]]\n"
          ]
        }
      ],
      "source": [
        "iris = load_iris()\n",
        "data = iris.data[iris.target==1,::2]  # comprimento das sépalas e pétalas, indices 0 e 2\n",
        "\n",
        "x_train = data[:,0:1].astype(np.float32)\n",
        "y_train = data[:,1:2].astype(np.float32)\n",
        "\n",
        "n_samples = x_train.shape[0]\n",
        "print('x_train.shape:',x_train.shape, x_train.dtype)\n",
        "print('y_train.shape:',y_train.shape, y_train.dtype)\n",
        "\n",
        "print('x_train[:5]:\\n', x_train[:5])\n",
        "print('y_train[:5]:\\n', y_train[:5])"
      ]
    },
    {
      "cell_type": "markdown",
      "metadata": {
        "id": "CI2oB--zH3a7"
      },
      "source": [
        "### Normalização dos dados"
      ]
    },
    {
      "cell_type": "code",
      "execution_count": 3,
      "metadata": {
        "ExecuteTime": {
          "end_time": "2017-10-08T11:23:37.956211Z",
          "start_time": "2017-10-08T11:23:37.949927Z"
        },
        "id": "VwvLO3hIH3a9"
      },
      "outputs": [],
      "source": [
        "x_train -= x_train.min()\n",
        "x_train /= x_train.max()\n",
        "y_train -= y_train.min()\n",
        "y_train /= y_train.max()\n"
      ]
    },
    {
      "cell_type": "code",
      "execution_count": 4,
      "metadata": {
        "ExecuteTime": {
          "end_time": "2017-10-08T11:23:37.963170Z",
          "start_time": "2017-10-08T11:23:37.958475Z"
        },
        "id": "lKjd3VQNH3a-"
      },
      "outputs": [],
      "source": [
        "x_train_bias = np.hstack([np.ones(shape=(n_samples,1)), x_train])"
      ]
    },
    {
      "cell_type": "code",
      "execution_count": 5,
      "metadata": {
        "ExecuteTime": {
          "end_time": "2017-10-08T11:23:37.970031Z",
          "start_time": "2017-10-08T11:23:37.965786Z"
        },
        "id": "R2gg3Z8zH3bB"
      },
      "outputs": [],
      "source": [
        "x_train_bias = torch.FloatTensor(x_train_bias)\n",
        "y_train      = torch.FloatTensor(y_train)"
      ]
    },
    {
      "cell_type": "markdown",
      "metadata": {
        "id": "Zj_4-yzuH3bE"
      },
      "source": [
        "## Criação do modelo da rede"
      ]
    },
    {
      "cell_type": "code",
      "execution_count": 6,
      "metadata": {
        "ExecuteTime": {
          "end_time": "2017-10-08T11:23:37.978113Z",
          "start_time": "2017-10-08T11:23:37.972879Z"
        },
        "id": "AxkP2_ojH3bE"
      },
      "outputs": [],
      "source": [
        "model = torch.nn.Linear(2, 1, bias=False)"
      ]
    },
    {
      "cell_type": "markdown",
      "metadata": {
        "id": "G4azDkxbH3bI"
      },
      "source": [
        "### Verificando a inicialização dos parâmetros"
      ]
    },
    {
      "cell_type": "code",
      "execution_count": 7,
      "metadata": {
        "ExecuteTime": {
          "end_time": "2017-10-08T11:23:37.989441Z",
          "start_time": "2017-10-08T11:23:37.980969Z"
        },
        "colab": {
          "base_uri": "https://localhost:8080/"
        },
        "id": "hihjBHEFH3bJ",
        "outputId": "7106dfc0-691f-4bdf-a9be-a0f0d4cd3fb0"
      },
      "outputs": [
        {
          "output_type": "stream",
          "name": "stderr",
          "text": [
            "<ipython-input-7-e458ff4bc28e>:2: FutureWarning: `nn.init.uniform` is now deprecated in favor of `nn.init.uniform_`.\n",
            "  torch.nn.init.uniform(model.weight.data, -0.1, 0.1)\n"
          ]
        },
        {
          "output_type": "execute_result",
          "data": {
            "text/plain": [
              "tensor([[-0.0480, -0.0267]])"
            ]
          },
          "metadata": {},
          "execution_count": 7
        }
      ],
      "source": [
        "model.weight.data = torch.zeros(1,2)\n",
        "torch.nn.init.uniform(model.weight.data, -0.1, 0.1)\n",
        "model.weight.data"
      ]
    },
    {
      "cell_type": "markdown",
      "metadata": {
        "id": "plBKu2guH3bM"
      },
      "source": [
        "### Testando o predict da rede"
      ]
    },
    {
      "cell_type": "code",
      "execution_count": 8,
      "metadata": {
        "ExecuteTime": {
          "end_time": "2017-10-08T11:23:38.041043Z",
          "start_time": "2017-10-08T11:23:37.992008Z"
        },
        "colab": {
          "base_uri": "https://localhost:8080/"
        },
        "id": "o9X_PZ8jH3bM",
        "outputId": "2bbaf8ef-cc8e-4745-dae9-2e3b91d20311"
      },
      "outputs": [
        {
          "output_type": "execute_result",
          "data": {
            "text/plain": [
              "tensor([[-0.0747],\n",
              "        [-0.0747],\n",
              "        [-0.0747],\n",
              "        [-0.0747],\n",
              "        [-0.0747]], grad_fn=<MmBackward0>)"
            ]
          },
          "metadata": {},
          "execution_count": 8
        }
      ],
      "source": [
        "model(Variable(torch.ones((5,2))))"
      ]
    },
    {
      "cell_type": "markdown",
      "metadata": {
        "id": "NDVeAyDCH3bQ"
      },
      "source": [
        "## Treinamento"
      ]
    },
    {
      "cell_type": "markdown",
      "metadata": {
        "id": "8p4jG3kqH3bR"
      },
      "source": [
        "### Definindo função de perda e otimizador"
      ]
    },
    {
      "cell_type": "code",
      "execution_count": 9,
      "metadata": {
        "ExecuteTime": {
          "end_time": "2017-10-08T11:23:38.049936Z",
          "start_time": "2017-10-08T11:23:38.043559Z"
        },
        "id": "yzC5JAvtH3bR"
      },
      "outputs": [],
      "source": [
        "criterion = nn.MSELoss()\n",
        "optimizer = optim.SGD(model.parameters(), lr=0.3)"
      ]
    },
    {
      "cell_type": "markdown",
      "metadata": {
        "id": "JJe4KvCdH3bV"
      },
      "source": [
        "### Laço de treinamento"
      ]
    },
    {
      "cell_type": "code",
      "execution_count": 10,
      "metadata": {
        "ExecuteTime": {
          "end_time": "2017-10-08T11:23:38.128839Z",
          "start_time": "2017-10-08T11:23:38.053061Z"
        },
        "colab": {
          "base_uri": "https://localhost:8080/"
        },
        "id": "P_icCuI9H3bW",
        "outputId": "3be66948-fe11-4a00-c983-109b53aac6ca",
        "scrolled": false
      },
      "outputs": [
        {
          "output_type": "stream",
          "name": "stdout",
          "text": [
            "Epoch[20/120], loss: 0.024990\n",
            "Epoch[40/120], loss: 0.022381\n",
            "Epoch[60/120], loss: 0.021554\n",
            "Epoch[80/120], loss: 0.021291\n",
            "Epoch[100/120], loss: 0.021208\n",
            "Epoch[120/120], loss: 0.021182\n"
          ]
        }
      ],
      "source": [
        "num_epochs = 120\n",
        "w0_list = []\n",
        "w1_list = []\n",
        "\n",
        "inputs = Variable(x_train_bias)\n",
        "target = Variable(y_train)\n",
        "\n",
        "for epoch in range(num_epochs):\n",
        "    # forward - predict\n",
        "    out = model(inputs)\n",
        "\n",
        "    w0_list.append(model.weight.data[0][0].item())\n",
        "    w1_list.append(model.weight.data[0][1].item())\n",
        "\n",
        "    #loss cálculo da função de perda\n",
        "    loss = criterion(out, target)\n",
        "\n",
        "    # backward e otimizador\n",
        "    optimizer.zero_grad()\n",
        "    loss.backward()\n",
        "    optimizer.step()\n",
        "\n",
        "    # verbose\n",
        "    if (epoch+1) % 20 == 0:\n",
        "        print('Epoch[{}/{}], loss: {:.6f}'\n",
        "              .format(epoch+1, num_epochs, loss.data))"
      ]
    },
    {
      "cell_type": "markdown",
      "metadata": {
        "id": "krvBJhZIH3bd"
      },
      "source": [
        "## Avaliação"
      ]
    },
    {
      "cell_type": "code",
      "execution_count": 11,
      "metadata": {
        "ExecuteTime": {
          "end_time": "2017-10-08T11:23:38.343311Z",
          "start_time": "2017-10-08T11:23:38.131051Z"
        },
        "colab": {
          "base_uri": "https://localhost:8080/",
          "height": 430
        },
        "id": "ImMHVPKMH3bf",
        "outputId": "e0f0848b-4190-4565-dca5-06054542ce71"
      },
      "outputs": [
        {
          "output_type": "display_data",
          "data": {
            "text/plain": [
              "<Figure size 640x480 with 1 Axes>"
            ],
            "image/png": "[encoded data removed]"
          },
          "metadata": {}
        }
      ],
      "source": [
        "y_pred = model(Variable(x_train_bias))\n",
        "plt.plot(x_train, y_train.numpy(), 'ro', label='Original data')\n",
        "plt.plot(x_train, y_pred.data.numpy(), 'kx-', label='Fitting Line')\n",
        "plt.show()"
      ]
    },
    {
      "cell_type": "markdown",
      "metadata": {
        "collapsed": true,
        "id": "bStL-pkSH3bt"
      },
      "source": [
        "# Exercícios"
      ]
    },
    {
      "cell_type": "markdown",
      "metadata": {
        "id": "_nMQjjzmH3bt"
      },
      "source": [
        "- 1) Calcule o valor da função de custo (MSE) depois da rede treinada, utilizando a\n",
        "   função `criterion` utilizada no laço de treinamento."
      ]
    },
    {
      "cell_type": "code",
      "execution_count": 12,
      "metadata": {
        "id": "5AbEW9ifDYpW",
        "colab": {
          "base_uri": "https://localhost:8080/"
        },
        "outputId": "9a919419-47c0-4ebf-c830-b02c3d763822"
      },
      "outputs": [
        {
          "output_type": "stream",
          "name": "stdout",
          "text": [
            "Loss com a rede treinada: 0.021181009709835052\n"
          ]
        }
      ],
      "source": [
        "loss = criterion(y_pred, target)\n",
        "print(f'Loss com a rede treinada: {loss}')"
      ]
    },
    {
      "cell_type": "markdown",
      "metadata": {
        "id": "DiOnFTWaDYpW"
      },
      "source": [
        "<details>\n",
        "<summary>Mostrar Resultado</summary>\n",
        "\n",
        "```python\n",
        "y_pred = model(Variable(x_train_bias))\n",
        "loss = criterion(y_pred, Variable(y_train))\n",
        "print(loss)\n",
        "```\n",
        "\n",
        "</details>"
      ]
    },
    {
      "cell_type": "markdown",
      "metadata": {
        "id": "xovYuu6-H3bu"
      },
      "source": [
        "- 2) Faça igual o exercício do notebook anterior, de plotar um gráfico scatterplot para\n",
        "   mostrar a evolução dos parâmetros durante o treinamento pelo gradiente descendente."
      ]
    },
    {
      "cell_type": "code",
      "execution_count": 13,
      "metadata": {
        "id": "tpXoJNmWCthR",
        "colab": {
          "base_uri": "https://localhost:8080/",
          "height": 438
        },
        "outputId": "55224759-4d83-42a8-d1f3-d7a27a8b4249"
      },
      "outputs": [
        {
          "output_type": "display_data",
          "data": {
            "text/plain": [
              "<Figure size 640x480 with 1 Axes>"
            ],
            "image/svg+xml": "<?xml version=\"1.0\" encoding=\"utf-8\" standalone=\"no\"?>\n<!DOCTYPE svg PUBLIC \"-//W3C//DTD SVG 1.1//EN\"\n  \"http://www.w3.org/Graphics/SVG/1.1/DTD/svg11.dtd\">\n<svg xmlns:xlink=\"http://www.w3.org/1999/xlink\" width=\"408.10125pt\" height=\"312.208087pt\" viewBox=\"0 0 408.10125 312.208087\" xmlns=\"http://www.w3.org/2000/svg\" version=\"1.1\">\n <metadata>\n  <rdf:RDF xmlns:dc=\"http://purl.org/dc/elements/1.1/\" xmlns:cc=\"http://creativecommons.org/ns#\" xmlns:rdf=\"http://www.w3.org/1999/02/22-rdf-syntax-ns#\">\n   <cc:Work>\n    <dc:type rdf:resource=\"http://purl.org/dc/dcmitype/StillImage\"/>\n    <dc:date>2024-11-12T03:20:48.785042</dc:date>\n    <dc:format>image/svg+xml</dc:format>\n    <dc:creator>\n     <cc:Agent>\n      <dc:title>Matplotlib v3.8.0, https://matplotlib.org/</dc:title>\n     </cc:Agent>\n    </dc:creator>\n   </cc:Work>\n  </rdf:RDF>\n </metadata>\n <defs>\n  <style type=\"text/css\">*{stroke-linejoin: round; stroke-linecap: butt}</style>\n </defs>\n <g id=\"figure_1\">\n  <g id=\"patch_1\">\n   <path d=\"M 0 312.208087 \nL 408.10125 312.208087 \nL 408.10125 0 \nL 0 0 \nz\n\" style=\"fill: #ffffff\"/>\n  </g>\n  <g id=\"axes_1\">\n   <g id=\"patch_2\">\n    <path d=\"M 43.78125 274.651837 \nL 400.90125 274.651837 \nL 400.90125 8.539837 \nL 43.78125 8.539837 \nz\n\" style=\"fill: #ffffff\"/>\n   </g>\n   <g id=\"PathCollection_1\">\n    <defs>\n     <path id=\"mcbc56c0567\" d=\"M 0 3 \nC 0.795609 3 1.55874 2.683901 2.12132 2.12132 \nC 2.683901 1.55874 3 0.795609 3 0 \nC 3 -0.795609 2.683901 -1.55874 2.12132 -2.12132 \nC 1.55874 -2.683901 0.795609 -3 0 -3 \nC -0.795609 -3 -1.55874 -2.683901 -2.12132 -2.12132 \nC -2.683901 -1.55874 -3 -0.795609 -3 0 \nC -3 0.795609 -2.683901 1.55874 -2.12132 2.12132 \nC -1.55874 2.683901 -0.795609 3 0 3 \nz\n\" style=\"stroke: #1f77b4\"/>\n    </defs>\n    <g clip-path=\"url(#p926b9e40c4)\">\n     <use xlink:href=\"#mcbc56c0567\" x=\"60.167759\" y=\"262.404727\" style=\"fill: #1f77b4; stroke: #1f77b4\"/>\n     <use xlink:href=\"#mcbc56c0567\" x=\"310.847634\" y=\"185.929818\" style=\"fill: #1f77b4; stroke: #1f77b4\"/>\n     <use xlink:href=\"#mcbc56c0567\" x=\"369.775203\" y=\"163.965119\" style=\"fill: #1f77b4; stroke: #1f77b4\"/>\n     <use xlink:href=\"#mcbc56c0567\" x=\"381.471521\" y=\"155.538152\" style=\"fill: #1f77b4; stroke: #1f77b4\"/>\n     <use xlink:href=\"#mcbc56c0567\" x=\"381.594211\" y=\"150.536655\" style=\"fill: #1f77b4; stroke: #1f77b4\"/>\n     <use xlink:href=\"#mcbc56c0567\" x=\"378.939337\" y=\"146.463066\" style=\"fill: #1f77b4; stroke: #1f77b4\"/>\n     <use xlink:href=\"#mcbc56c0567\" x=\"375.675084\" y=\"142.698787\" style=\"fill: #1f77b4; stroke: #1f77b4\"/>\n     <use xlink:href=\"#mcbc56c0567\" x=\"372.334317\" y=\"139.0889\" style=\"fill: #1f77b4; stroke: #1f77b4\"/>\n     <use xlink:href=\"#mcbc56c0567\" x=\"369.046411\" y=\"135.592966\" style=\"fill: #1f77b4; stroke: #1f77b4\"/>\n     <use xlink:href=\"#mcbc56c0567\" x=\"365.841252\" y=\"132.198871\" style=\"fill: #1f77b4; stroke: #1f77b4\"/>\n     <use xlink:href=\"#mcbc56c0567\" x=\"362.724245\" y=\"128.901541\" style=\"fill: #1f77b4; stroke: #1f77b4\"/>\n     <use xlink:href=\"#mcbc56c0567\" x=\"359.694825\" y=\"125.697688\" style=\"fill: #1f77b4; stroke: #1f77b4\"/>\n     <use xlink:href=\"#mcbc56c0567\" x=\"356.750976\" y=\"122.584548\" style=\"fill: #1f77b4; stroke: #1f77b4\"/>\n     <use xlink:href=\"#mcbc56c0567\" x=\"353.890384\" y=\"119.559502\" style=\"fill: #1f77b4; stroke: #1f77b4\"/>\n     <use xlink:href=\"#mcbc56c0567\" x=\"351.11073\" y=\"116.620066\" style=\"fill: #1f77b4; stroke: #1f77b4\"/>\n     <use xlink:href=\"#mcbc56c0567\" x=\"348.409718\" y=\"113.763806\" style=\"fill: #1f77b4; stroke: #1f77b4\"/>\n     <use xlink:href=\"#mcbc56c0567\" x=\"345.785144\" y=\"110.988361\" style=\"fill: #1f77b4; stroke: #1f77b4\"/>\n     <use xlink:href=\"#mcbc56c0567\" x=\"343.234844\" y=\"108.291452\" style=\"fill: #1f77b4; stroke: #1f77b4\"/>\n     <use xlink:href=\"#mcbc56c0567\" x=\"340.756688\" y=\"105.670863\" style=\"fill: #1f77b4; stroke: #1f77b4\"/>\n     <use xlink:href=\"#mcbc56c0567\" x=\"338.34868\" y=\"103.124428\" style=\"fill: #1f77b4; stroke: #1f77b4\"/>\n     <use xlink:href=\"#mcbc56c0567\" x=\"336.008806\" y=\"100.650044\" style=\"fill: #1f77b4; stroke: #1f77b4\"/>\n     <use xlink:href=\"#mcbc56c0567\" x=\"333.735126\" y=\"98.245679\" style=\"fill: #1f77b4; stroke: #1f77b4\"/>\n     <use xlink:href=\"#mcbc56c0567\" x=\"331.525795\" y=\"95.909355\" style=\"fill: #1f77b4; stroke: #1f77b4\"/>\n     <use xlink:href=\"#mcbc56c0567\" x=\"329.378985\" y=\"93.639132\" style=\"fill: #1f77b4; stroke: #1f77b4\"/>\n     <use xlink:href=\"#mcbc56c0567\" x=\"327.292907\" y=\"91.433156\" style=\"fill: #1f77b4; stroke: #1f77b4\"/>\n     <use xlink:href=\"#mcbc56c0567\" x=\"325.265868\" y=\"89.289599\" style=\"fill: #1f77b4; stroke: #1f77b4\"/>\n     <use xlink:href=\"#mcbc56c0567\" x=\"323.29619\" y=\"87.206691\" style=\"fill: #1f77b4; stroke: #1f77b4\"/>\n     <use xlink:href=\"#mcbc56c0567\" x=\"321.382236\" y=\"85.182728\" style=\"fill: #1f77b4; stroke: #1f77b4\"/>\n     <use xlink:href=\"#mcbc56c0567\" x=\"319.522461\" y=\"83.216031\" style=\"fill: #1f77b4; stroke: #1f77b4\"/>\n     <use xlink:href=\"#mcbc56c0567\" x=\"317.715302\" y=\"81.30499\" style=\"fill: #1f77b4; stroke: #1f77b4\"/>\n     <use xlink:href=\"#mcbc56c0567\" x=\"315.959271\" y=\"79.448029\" style=\"fill: #1f77b4; stroke: #1f77b4\"/>\n     <use xlink:href=\"#mcbc56c0567\" x=\"314.252938\" y=\"77.643601\" style=\"fill: #1f77b4; stroke: #1f77b4\"/>\n     <use xlink:href=\"#mcbc56c0567\" x=\"312.59487\" y=\"75.890252\" style=\"fill: #1f77b4; stroke: #1f77b4\"/>\n     <use xlink:href=\"#mcbc56c0567\" x=\"310.98375\" y=\"74.186498\" style=\"fill: #1f77b4; stroke: #1f77b4\"/>\n     <use xlink:href=\"#mcbc56c0567\" x=\"309.418204\" y=\"72.530956\" style=\"fill: #1f77b4; stroke: #1f77b4\"/>\n     <use xlink:href=\"#mcbc56c0567\" x=\"307.89695\" y=\"70.922265\" style=\"fill: #1f77b4; stroke: #1f77b4\"/>\n     <use xlink:href=\"#mcbc56c0567\" x=\"306.418745\" y=\"69.359107\" style=\"fill: #1f77b4; stroke: #1f77b4\"/>\n     <use xlink:href=\"#mcbc56c0567\" x=\"304.982385\" y=\"67.84016\" style=\"fill: #1f77b4; stroke: #1f77b4\"/>\n     <use xlink:href=\"#mcbc56c0567\" x=\"303.586664\" y=\"66.364209\" style=\"fill: #1f77b4; stroke: #1f77b4\"/>\n     <use xlink:href=\"#mcbc56c0567\" x=\"302.230433\" y=\"64.930017\" style=\"fill: #1f77b4; stroke: #1f77b4\"/>\n     <use xlink:href=\"#mcbc56c0567\" x=\"300.912581\" y=\"63.536407\" style=\"fill: #1f77b4; stroke: #1f77b4\"/>\n     <use xlink:href=\"#mcbc56c0567\" x=\"299.632017\" y=\"62.182245\" style=\"fill: #1f77b4; stroke: #1f77b4\"/>\n     <use xlink:href=\"#mcbc56c0567\" x=\"298.387703\" y=\"60.866398\" style=\"fill: #1f77b4; stroke: #1f77b4\"/>\n     <use xlink:href=\"#mcbc56c0567\" x=\"297.178587\" y=\"59.587773\" style=\"fill: #1f77b4; stroke: #1f77b4\"/>\n     <use xlink:href=\"#mcbc56c0567\" x=\"296.003669\" y=\"58.345338\" style=\"fill: #1f77b4; stroke: #1f77b4\"/>\n     <use xlink:href=\"#mcbc56c0567\" x=\"294.862027\" y=\"57.138062\" style=\"fill: #1f77b4; stroke: #1f77b4\"/>\n     <use xlink:href=\"#mcbc56c0567\" x=\"293.752681\" y=\"55.964936\" style=\"fill: #1f77b4; stroke: #1f77b4\"/>\n     <use xlink:href=\"#mcbc56c0567\" x=\"292.674709\" y=\"54.825009\" style=\"fill: #1f77b4; stroke: #1f77b4\"/>\n     <use xlink:href=\"#mcbc56c0567\" x=\"291.627245\" y=\"53.717335\" style=\"fill: #1f77b4; stroke: #1f77b4\"/>\n     <use xlink:href=\"#mcbc56c0567\" x=\"290.609423\" y=\"52.641004\" style=\"fill: #1f77b4; stroke: #1f77b4\"/>\n     <use xlink:href=\"#mcbc56c0567\" x=\"289.620412\" y=\"51.595132\" style=\"fill: #1f77b4; stroke: #1f77b4\"/>\n     <use xlink:href=\"#mcbc56c0567\" x=\"288.659368\" y=\"50.578872\" style=\"fill: #1f77b4; stroke: #1f77b4\"/>\n     <use xlink:href=\"#mcbc56c0567\" x=\"287.725535\" y=\"49.591357\" style=\"fill: #1f77b4; stroke: #1f77b4\"/>\n     <use xlink:href=\"#mcbc56c0567\" x=\"286.818123\" y=\"48.631785\" style=\"fill: #1f77b4; stroke: #1f77b4\"/>\n     <use xlink:href=\"#mcbc56c0567\" x=\"285.936398\" y=\"47.699371\" style=\"fill: #1f77b4; stroke: #1f77b4\"/>\n     <use xlink:href=\"#mcbc56c0567\" x=\"285.079606\" y=\"46.793332\" style=\"fill: #1f77b4; stroke: #1f77b4\"/>\n     <use xlink:href=\"#mcbc56c0567\" x=\"284.247069\" y=\"45.912925\" style=\"fill: #1f77b4; stroke: #1f77b4\"/>\n     <use xlink:href=\"#mcbc56c0567\" x=\"283.438092\" y=\"45.057449\" style=\"fill: #1f77b4; stroke: #1f77b4\"/>\n     <use xlink:href=\"#mcbc56c0567\" x=\"282.651994\" y=\"44.226162\" style=\"fill: #1f77b4; stroke: #1f77b4\"/>\n     <use xlink:href=\"#mcbc56c0567\" x=\"281.888138\" y=\"43.418404\" style=\"fill: #1f77b4; stroke: #1f77b4\"/>\n     <use xlink:href=\"#mcbc56c0567\" x=\"281.1459\" y=\"42.633515\" style=\"fill: #1f77b4; stroke: #1f77b4\"/>\n     <use xlink:href=\"#mcbc56c0567\" x=\"280.424678\" y=\"41.870815\" style=\"fill: #1f77b4; stroke: #1f77b4\"/>\n     <use xlink:href=\"#mcbc56c0567\" x=\"279.723852\" y=\"41.129705\" style=\"fill: #1f77b4; stroke: #1f77b4\"/>\n     <use xlink:href=\"#mcbc56c0567\" x=\"279.042855\" y=\"40.409567\" style=\"fill: #1f77b4; stroke: #1f77b4\"/>\n     <use xlink:href=\"#mcbc56c0567\" x=\"278.381123\" y=\"39.709803\" style=\"fill: #1f77b4; stroke: #1f77b4\"/>\n     <use xlink:href=\"#mcbc56c0567\" x=\"277.738129\" y=\"39.029835\" style=\"fill: #1f77b4; stroke: #1f77b4\"/>\n     <use xlink:href=\"#mcbc56c0567\" x=\"277.113327\" y=\"38.369128\" style=\"fill: #1f77b4; stroke: #1f77b4\"/>\n     <use xlink:href=\"#mcbc56c0567\" x=\"276.506207\" y=\"37.727103\" style=\"fill: #1f77b4; stroke: #1f77b4\"/>\n     <use xlink:href=\"#mcbc56c0567\" x=\"275.916263\" y=\"37.103246\" style=\"fill: #1f77b4; stroke: #1f77b4\"/>\n     <use xlink:href=\"#mcbc56c0567\" x=\"275.343003\" y=\"36.497041\" style=\"fill: #1f77b4; stroke: #1f77b4\"/>\n     <use xlink:href=\"#mcbc56c0567\" x=\"274.785976\" y=\"35.907993\" style=\"fill: #1f77b4; stroke: #1f77b4\"/>\n     <use xlink:href=\"#mcbc56c0567\" x=\"274.244712\" y=\"35.335607\" style=\"fill: #1f77b4; stroke: #1f77b4\"/>\n     <use xlink:href=\"#mcbc56c0567\" x=\"273.718757\" y=\"34.779429\" style=\"fill: #1f77b4; stroke: #1f77b4\"/>\n     <use xlink:href=\"#mcbc56c0567\" x=\"273.207699\" y=\"34.238985\" style=\"fill: #1f77b4; stroke: #1f77b4\"/>\n     <use xlink:href=\"#mcbc56c0567\" x=\"272.711085\" y=\"33.713842\" style=\"fill: #1f77b4; stroke: #1f77b4\"/>\n     <use xlink:href=\"#mcbc56c0567\" x=\"272.228538\" y=\"33.203547\" style=\"fill: #1f77b4; stroke: #1f77b4\"/>\n     <use xlink:href=\"#mcbc56c0567\" x=\"271.759644\" y=\"32.707687\" style=\"fill: #1f77b4; stroke: #1f77b4\"/>\n     <use xlink:href=\"#mcbc56c0567\" x=\"271.304008\" y=\"32.225869\" style=\"fill: #1f77b4; stroke: #1f77b4\"/>\n     <use xlink:href=\"#mcbc56c0567\" x=\"270.861272\" y=\"31.757683\" style=\"fill: #1f77b4; stroke: #1f77b4\"/>\n     <use xlink:href=\"#mcbc56c0567\" x=\"270.431059\" y=\"31.302735\" style=\"fill: #1f77b4; stroke: #1f77b4\"/>\n     <use xlink:href=\"#mcbc56c0567\" x=\"270.013011\" y=\"30.860675\" style=\"fill: #1f77b4; stroke: #1f77b4\"/>\n     <use xlink:href=\"#mcbc56c0567\" x=\"269.606808\" y=\"30.431113\" style=\"fill: #1f77b4; stroke: #1f77b4\"/>\n     <use xlink:href=\"#mcbc56c0567\" x=\"269.212093\" y=\"30.013716\" style=\"fill: #1f77b4; stroke: #1f77b4\"/>\n     <use xlink:href=\"#mcbc56c0567\" x=\"268.828545\" y=\"29.608136\" style=\"fill: #1f77b4; stroke: #1f77b4\"/>\n     <use xlink:href=\"#mcbc56c0567\" x=\"268.455863\" y=\"29.214021\" style=\"fill: #1f77b4; stroke: #1f77b4\"/>\n     <use xlink:href=\"#mcbc56c0567\" x=\"268.093727\" y=\"28.831062\" style=\"fill: #1f77b4; stroke: #1f77b4\"/>\n     <use xlink:href=\"#mcbc56c0567\" x=\"267.741835\" y=\"28.45893\" style=\"fill: #1f77b4; stroke: #1f77b4\"/>\n     <use xlink:href=\"#mcbc56c0567\" x=\"267.399887\" y=\"28.097335\" style=\"fill: #1f77b4; stroke: #1f77b4\"/>\n     <use xlink:href=\"#mcbc56c0567\" x=\"267.067618\" y=\"27.745968\" style=\"fill: #1f77b4; stroke: #1f77b4\"/>\n     <use xlink:href=\"#mcbc56c0567\" x=\"266.744746\" y=\"27.404541\" style=\"fill: #1f77b4; stroke: #1f77b4\"/>\n     <use xlink:href=\"#mcbc56c0567\" x=\"266.431027\" y=\"27.072785\" style=\"fill: #1f77b4; stroke: #1f77b4\"/>\n     <use xlink:href=\"#mcbc56c0567\" x=\"266.126177\" y=\"26.750412\" style=\"fill: #1f77b4; stroke: #1f77b4\"/>\n     <use xlink:href=\"#mcbc56c0567\" x=\"265.829953\" y=\"26.437153\" style=\"fill: #1f77b4; stroke: #1f77b4\"/>\n     <use xlink:href=\"#mcbc56c0567\" x=\"265.542108\" y=\"26.132762\" style=\"fill: #1f77b4; stroke: #1f77b4\"/>\n     <use xlink:href=\"#mcbc56c0567\" x=\"265.262418\" y=\"25.83699\" style=\"fill: #1f77b4; stroke: #1f77b4\"/>\n     <use xlink:href=\"#mcbc56c0567\" x=\"264.990637\" y=\"25.549591\" style=\"fill: #1f77b4; stroke: #1f77b4\"/>\n     <use xlink:href=\"#mcbc56c0567\" x=\"264.726539\" y=\"25.270316\" style=\"fill: #1f77b4; stroke: #1f77b4\"/>\n     <use xlink:href=\"#mcbc56c0567\" x=\"264.469918\" y=\"24.998939\" style=\"fill: #1f77b4; stroke: #1f77b4\"/>\n     <use xlink:href=\"#mcbc56c0567\" x=\"264.220565\" y=\"24.735254\" style=\"fill: #1f77b4; stroke: #1f77b4\"/>\n     <use xlink:href=\"#mcbc56c0567\" x=\"263.978256\" y=\"24.479034\" style=\"fill: #1f77b4; stroke: #1f77b4\"/>\n     <use xlink:href=\"#mcbc56c0567\" x=\"263.742821\" y=\"24.230052\" style=\"fill: #1f77b4; stroke: #1f77b4\"/>\n     <use xlink:href=\"#mcbc56c0567\" x=\"263.514033\" y=\"23.988123\" style=\"fill: #1f77b4; stroke: #1f77b4\"/>\n     <use xlink:href=\"#mcbc56c0567\" x=\"263.291723\" y=\"23.75304\" style=\"fill: #1f77b4; stroke: #1f77b4\"/>\n     <use xlink:href=\"#mcbc56c0567\" x=\"263.075722\" y=\"23.524597\" style=\"fill: #1f77b4; stroke: #1f77b4\"/>\n     <use xlink:href=\"#mcbc56c0567\" x=\"262.865803\" y=\"23.302629\" style=\"fill: #1f77b4; stroke: #1f77b4\"/>\n     <use xlink:href=\"#mcbc56c0567\" x=\"262.661836\" y=\"23.08693\" style=\"fill: #1f77b4; stroke: #1f77b4\"/>\n     <use xlink:href=\"#mcbc56c0567\" x=\"262.46365\" y=\"22.877335\" style=\"fill: #1f77b4; stroke: #1f77b4\"/>\n     <use xlink:href=\"#mcbc56c0567\" x=\"262.271057\" y=\"22.673678\" style=\"fill: #1f77b4; stroke: #1f77b4\"/>\n     <use xlink:href=\"#mcbc56c0567\" x=\"262.083906\" y=\"22.475796\" style=\"fill: #1f77b4; stroke: #1f77b4\"/>\n     <use xlink:href=\"#mcbc56c0567\" x=\"261.902066\" y=\"22.283502\" style=\"fill: #1f77b4; stroke: #1f77b4\"/>\n     <use xlink:href=\"#mcbc56c0567\" x=\"261.725385\" y=\"22.096652\" style=\"fill: #1f77b4; stroke: #1f77b4\"/>\n     <use xlink:href=\"#mcbc56c0567\" x=\"261.553696\" y=\"21.915082\" style=\"fill: #1f77b4; stroke: #1f77b4\"/>\n     <use xlink:href=\"#mcbc56c0567\" x=\"261.386846\" y=\"21.738666\" style=\"fill: #1f77b4; stroke: #1f77b4\"/>\n     <use xlink:href=\"#mcbc56c0567\" x=\"261.224741\" y=\"21.567241\" style=\"fill: #1f77b4; stroke: #1f77b4\"/>\n     <use xlink:href=\"#mcbc56c0567\" x=\"261.067213\" y=\"21.400662\" style=\"fill: #1f77b4; stroke: #1f77b4\"/>\n     <use xlink:href=\"#mcbc56c0567\" x=\"260.914148\" y=\"21.238784\" style=\"fill: #1f77b4; stroke: #1f77b4\"/>\n     <use xlink:href=\"#mcbc56c0567\" x=\"260.765414\" y=\"21.081506\" style=\"fill: #1f77b4; stroke: #1f77b4\"/>\n     <use xlink:href=\"#mcbc56c0567\" x=\"260.62088\" y=\"20.92866\" style=\"fill: #1f77b4; stroke: #1f77b4\"/>\n     <use xlink:href=\"#mcbc56c0567\" x=\"260.480451\" y=\"20.780146\" style=\"fill: #1f77b4; stroke: #1f77b4\"/>\n     <use xlink:href=\"#mcbc56c0567\" x=\"260.343976\" y=\"20.635837\" style=\"fill: #1f77b4; stroke: #1f77b4\"/>\n    </g>\n   </g>\n   <g id=\"patch_3\">\n    <path d=\"M 310.847634 185.929818 \nL 306.86557 189.124872 \nL 305.481532 187.764879 \nL 60.321541 262.555837 \nL 60.013977 262.253617 \nL 305.173968 187.462659 \nL 303.78993 186.102666 \nz\n\" clip-path=\"url(#p926b9e40c4)\" style=\"fill: #1f77b4; stroke: #000000; stroke-linejoin: miter\"/>\n   </g>\n   <g id=\"patch_4\">\n    <path d=\"M 369.775203 163.965119 \nL 366.329846 167.342005 \nL 364.729643 166.05507 \nL 311.025434 186.072811 \nL 310.669834 185.786825 \nL 364.374043 165.769085 \nL 362.773839 164.48215 \nz\n\" clip-path=\"url(#p926b9e40c4)\" style=\"fill: #1f77b4; stroke: #000000; stroke-linejoin: miter\"/>\n   </g>\n   <g id=\"patch_5\">\n    <path d=\"M 381.471521 155.538152 \nL 380.163813 159.339353 \nL 377.899838 158.397382 \nL 370.026756 164.069783 \nL 369.52365 163.860456 \nL 377.396732 158.188055 \nL 375.132756 157.246083 \nz\n\" clip-path=\"url(#p926b9e40c4)\" style=\"fill: #1f77b4; stroke: #000000; stroke-linejoin: miter\"/>\n   </g>\n   <g id=\"patch_6\">\n    <path d=\"M 381.594211 150.536655 \nL 384.668523 154.019258 \nL 381.825268 153.998351 \nL 381.787439 155.540475 \nL 381.155604 155.535828 \nL 381.193433 153.993704 \nL 378.350178 153.972796 \nz\n\" clip-path=\"url(#p926b9e40c4)\" style=\"fill: #1f77b4; stroke: #000000; stroke-linejoin: miter\"/>\n   </g>\n   <g id=\"patch_7\">\n    <path d=\"M 378.939337 146.463066 \nL 384.038652 149.140163 \nL 381.360533 149.663384 \nL 381.89178 150.478519 \nL 381.296642 150.59479 \nL 380.765395 149.779655 \nL 378.087276 150.302876 \nz\n\" clip-path=\"url(#p926b9e40c4)\" style=\"fill: #1f77b4; stroke: #000000; stroke-linejoin: miter\"/>\n   </g>\n   <g id=\"patch_8\">\n    <path d=\"M 375.675084 142.698787 \nL 381.239356 145.082179 \nL 378.670662 145.749911 \nL 379.224747 146.388874 \nL 378.653926 146.537259 \nL 378.09984 145.898296 \nL 375.531146 146.566029 \nz\n\" clip-path=\"url(#p926b9e40c4)\" style=\"fill: #1f77b4; stroke: #000000; stroke-linejoin: miter\"/>\n   </g>\n   <g id=\"patch_9\">\n    <path d=\"M 372.334317 139.0889 \nL 378.008687 141.393164 \nL 375.472202 142.096841 \nL 375.956915 142.620601 \nL 375.393252 142.776973 \nL 374.908539 142.253213 \nL 372.372054 142.95689 \nz\n\" clip-path=\"url(#p926b9e40c4)\" style=\"fill: #1f77b4; stroke: #000000; stroke-linejoin: miter\"/>\n   </g>\n   <g id=\"patch_10\">\n    <path d=\"M 369.046411 135.592966 \nL 374.748154 137.876886 \nL 372.220119 138.589619 \nL 372.61521 139.009707 \nL 372.053424 139.168092 \nL 371.658334 138.748005 \nL 369.130299 139.460739 \nz\n\" clip-path=\"url(#p926b9e40c4)\" style=\"fill: #1f77b4; stroke: #000000; stroke-linejoin: miter\"/>\n   </g>\n   <g id=\"patch_11\">\n    <path d=\"M 365.841252 132.198871 \nL 371.549913 134.477605 \nL 369.024042 135.192635 \nL 369.327063 135.513518 \nL 368.765759 135.672414 \nL 368.462738 135.351531 \nL 365.936868 136.066562 \nz\n\" clip-path=\"url(#p926b9e40c4)\" style=\"fill: #1f77b4; stroke: #000000; stroke-linejoin: miter\"/>\n   </g>\n   <g id=\"patch_12\">\n    <path d=\"M 362.724245 128.901541 \nL 368.434664 131.178953 \nL 365.909347 131.894569 \nL 366.121843 132.119358 \nL 365.560661 132.278384 \nL 365.348165 132.053594 \nL 362.822847 132.769209 \nz\n\" clip-path=\"url(#p926b9e40c4)\" style=\"fill: #1f77b4; stroke: #000000; stroke-linejoin: miter\"/>\n   </g>\n   <g id=\"patch_13\">\n    <path d=\"M 359.694825 125.697688 \nL 365.40568 127.974772 \nL 362.880499 128.690533 \nL 363.004821 128.822012 \nL 362.443669 128.98107 \nL 362.319348 128.84959 \nL 359.794167 129.565351 \nz\n\" clip-path=\"url(#p926b9e40c4)\" style=\"fill: #1f77b4; stroke: #000000; stroke-linejoin: miter\"/>\n   </g>\n   <g id=\"patch_14\">\n    <path d=\"M 356.750976 122.584548 \nL 362.461949 124.861545 \nL 359.936805 125.577344 \nL 359.975396 125.618155 \nL 359.414253 125.777221 \nL 359.375661 125.73641 \nL 356.850517 126.452209 \nz\n\" clip-path=\"url(#p926b9e40c4)\" style=\"fill: #1f77b4; stroke: #000000; stroke-linejoin: miter\"/>\n   </g>\n   <g id=\"patch_15\">\n    <path d=\"M 353.890384 119.559502 \nL 359.601384 121.836477 \nL 357.076249 122.552286 \nL 357.031547 122.505014 \nL 356.470406 122.664082 \nL 356.515108 122.711354 \nL 353.989973 123.427163 \nz\n\" clip-path=\"url(#p926b9e40c4)\" style=\"fill: #1f77b4; stroke: #000000; stroke-linejoin: miter\"/>\n   </g>\n   <g id=\"patch_16\">\n    <path d=\"M 351.11073 116.620066 \nL 356.821741 118.897034 \nL 354.296609 119.612846 \nL 354.170954 119.479968 \nL 353.609813 119.639037 \nL 353.735468 119.771915 \nL 351.210336 120.487727 \nz\n\" clip-path=\"url(#p926b9e40c4)\" style=\"fill: #1f77b4; stroke: #000000; stroke-linejoin: miter\"/>\n   </g>\n   <g id=\"patch_17\">\n    <path d=\"M 348.409718 113.763806 \nL 354.120737 116.040767 \nL 351.595608 116.756582 \nL 351.3913 116.540531 \nL 350.83016 116.699601 \nL 351.034468 116.915652 \nL 348.509338 117.631466 \nz\n\" clip-path=\"url(#p926b9e40c4)\" style=\"fill: #1f77b4; stroke: #000000; stroke-linejoin: miter\"/>\n   </g>\n   <g id=\"patch_18\">\n    <path d=\"M 345.785144 110.988361 \nL 351.496153 113.26533 \nL 348.97102 113.981141 \nL 348.690288 113.684271 \nL 348.129148 113.84334 \nL 348.40988 114.14021 \nL 345.884747 114.856021 \nz\n\" clip-path=\"url(#p926b9e40c4)\" style=\"fill: #1f77b4; stroke: #000000; stroke-linejoin: miter\"/>\n   </g>\n   <g id=\"patch_19\">\n    <path d=\"M 343.234844 108.291452 \nL 348.945848 110.568424 \nL 346.420715 111.284234 \nL 346.065715 110.908826 \nL 345.504574 111.067895 \nL 345.859574 111.443303 \nL 343.33444 112.159113 \nz\n\" clip-path=\"url(#p926b9e40c4)\" style=\"fill: #1f77b4; stroke: #000000; stroke-linejoin: miter\"/>\n   </g>\n   <g id=\"patch_20\">\n    <path d=\"M 340.756688 105.670863 \nL 346.46771 107.947821 \nL 343.942582 108.663637 \nL 343.515413 108.211917 \nL 342.954274 108.370987 \nL 343.381442 108.822707 \nL 340.856314 109.538523 \nz\n\" clip-path=\"url(#p926b9e40c4)\" style=\"fill: #1f77b4; stroke: #000000; stroke-linejoin: miter\"/>\n   </g>\n   <g id=\"patch_21\">\n    <path d=\"M 338.34868 103.124428 \nL 344.059685 105.4014 \nL 341.534552 106.11721 \nL 341.037258 105.591328 \nL 340.476117 105.750397 \nL 340.973411 106.276278 \nL 338.448277 106.992088 \nz\n\" clip-path=\"url(#p926b9e40c4)\" style=\"fill: #1f77b4; stroke: #000000; stroke-linejoin: miter\"/>\n   </g>\n   <g id=\"patch_22\">\n    <path d=\"M 336.008806 100.650044 \nL 341.719812 102.927015 \nL 339.194678 103.642825 \nL 338.629251 103.044893 \nL 338.06811 103.203962 \nL 338.633538 103.801894 \nL 336.108404 104.517704 \nz\n\" clip-path=\"url(#p926b9e40c4)\" style=\"fill: #1f77b4; stroke: #000000; stroke-linejoin: miter\"/>\n   </g>\n   <g id=\"patch_23\">\n    <path d=\"M 333.735126 98.245679 \nL 339.446146 100.52264 \nL 336.921018 101.238455 \nL 336.289376 100.570509 \nL 335.728236 100.729579 \nL 336.359878 101.397525 \nL 333.834749 102.11334 \nz\n\" clip-path=\"url(#p926b9e40c4)\" style=\"fill: #1f77b4; stroke: #000000; stroke-linejoin: miter\"/>\n   </g>\n   <g id=\"patch_24\">\n    <path d=\"M 331.525795 95.909355 \nL 337.23681 98.186319 \nL 334.711679 98.902133 \nL 334.015696 98.166144 \nL 333.454556 98.325214 \nL 334.150539 99.061202 \nL 331.625409 99.777016 \nz\n\" clip-path=\"url(#p926b9e40c4)\" style=\"fill: #1f77b4; stroke: #000000; stroke-linejoin: miter\"/>\n   </g>\n   <g id=\"patch_25\">\n    <path d=\"M 329.378985 93.639132 \nL 335.08999 95.916104 \nL 332.564856 96.631914 \nL 331.806365 95.829821 \nL 331.245224 95.988889 \nL 332.003715 96.790983 \nL 329.478581 97.506793 \nz\n\" clip-path=\"url(#p926b9e40c4)\" style=\"fill: #1f77b4; stroke: #000000; stroke-linejoin: miter\"/>\n   </g>\n   <g id=\"patch_26\">\n    <path d=\"M 327.292907 91.433156 \nL 333.003929 93.710115 \nL 330.478801 94.42593 \nL 329.659555 93.559597 \nL 329.098415 93.718667 \nL 329.917661 94.585001 \nL 327.392532 95.300816 \nz\n\" clip-path=\"url(#p926b9e40c4)\" style=\"fill: #1f77b4; stroke: #000000; stroke-linejoin: miter\"/>\n   </g>\n   <g id=\"patch_27\">\n    <path d=\"M 325.265868 89.289599 \nL 330.976881 91.566565 \nL 328.45175 92.282378 \nL 327.573478 91.353621 \nL 327.012337 91.51269 \nL 327.89061 92.441447 \nL 325.365479 93.15726 \nz\n\" clip-path=\"url(#p926b9e40c4)\" style=\"fill: #1f77b4; stroke: #000000; stroke-linejoin: miter\"/>\n   </g>\n   <g id=\"patch_28\">\n    <path d=\"M 323.29619 87.206691 \nL 329.007194 89.483663 \nL 326.48206 90.199473 \nL 325.546438 89.210065 \nL 324.985297 89.369134 \nL 325.920919 90.358542 \nL 323.395785 91.074351 \nz\n\" clip-path=\"url(#p926b9e40c4)\" style=\"fill: #1f77b4; stroke: #000000; stroke-linejoin: miter\"/>\n   </g>\n   <g id=\"patch_29\">\n    <path d=\"M 321.382236 85.182728 \nL 327.093256 87.459689 \nL 324.568127 88.175504 \nL 323.57676 87.127156 \nL 323.01562 87.286226 \nL 324.006987 88.334573 \nL 321.481858 89.050388 \nz\n\" clip-path=\"url(#p926b9e40c4)\" style=\"fill: #1f77b4; stroke: #000000; stroke-linejoin: miter\"/>\n   </g>\n   <g id=\"patch_30\">\n    <path d=\"M 319.522461 83.216031 \nL 325.233457 85.493009 \nL 322.70832 86.208816 \nL 321.662807 85.103194 \nL 321.101665 85.262262 \nL 322.147179 86.367885 \nL 319.622042 87.083691 \nz\n\" clip-path=\"url(#p926b9e40c4)\" style=\"fill: #1f77b4; stroke: #000000; stroke-linejoin: miter\"/>\n   </g>\n   <g id=\"patch_31\">\n    <path d=\"M 317.715302 81.30499 \nL 323.426312 83.581958 \nL 320.90118 84.29777 \nL 319.803031 83.136496 \nL 319.24189 83.295565 \nL 320.340039 84.456839 \nL 317.814907 85.172651 \nz\n\" clip-path=\"url(#p926b9e40c4)\" style=\"fill: #1f77b4; stroke: #000000; stroke-linejoin: miter\"/>\n   </g>\n   <g id=\"patch_32\">\n    <path d=\"M 315.959271 79.448029 \nL 321.670292 81.724989 \nL 319.145164 82.440805 \nL 317.995871 81.225455 \nL 317.434732 81.384525 \nL 318.584024 82.599875 \nL 316.058895 83.31569 \nz\n\" clip-path=\"url(#p926b9e40c4)\" style=\"fill: #1f77b4; stroke: #000000; stroke-linejoin: miter\"/>\n   </g>\n   <g id=\"patch_33\">\n    <path d=\"M 314.252938 77.643601 \nL 319.963939 79.920576 \nL 317.438804 80.636385 \nL 316.239841 79.368495 \nL 315.6787 79.527564 \nL 316.877663 80.795453 \nL 314.352529 81.511262 \nz\n\" clip-path=\"url(#p926b9e40c4)\" style=\"fill: #1f77b4; stroke: #000000; stroke-linejoin: miter\"/>\n   </g>\n   <g id=\"patch_34\">\n    <path d=\"M 312.59487 75.890252 \nL 318.305909 78.167199 \nL 315.780786 78.88302 \nL 314.533507 77.564066 \nL 313.972368 77.723137 \nL 315.219647 79.042092 \nL 312.694524 79.757913 \nz\n\" clip-path=\"url(#p926b9e40c4)\" style=\"fill: #1f77b4; stroke: #000000; stroke-linejoin: miter\"/>\n   </g>\n   <g id=\"patch_35\">\n    <path d=\"M 310.98375 74.186498 \nL 316.694738 76.463483 \nL 314.169599 77.179287 \nL 312.875441 75.810719 \nL 312.314299 75.969786 \nL 313.608457 77.338354 \nL 311.083318 78.054159 \nz\n\" clip-path=\"url(#p926b9e40c4)\" style=\"fill: #1f77b4; stroke: #000000; stroke-linejoin: miter\"/>\n   </g>\n   <g id=\"patch_36\">\n    <path d=\"M 309.418204 72.530956 \nL 315.129211 74.807926 \nL 312.604078 75.523737 \nL 311.264321 74.106963 \nL 310.70318 74.266032 \nL 312.042938 75.682806 \nL 309.517805 76.398616 \nz\n\" clip-path=\"url(#p926b9e40c4)\" style=\"fill: #1f77b4; stroke: #000000; stroke-linejoin: miter\"/>\n   </g>\n   <g id=\"patch_37\">\n    <path d=\"M 307.89695 70.922265 \nL 313.607971 73.199225 \nL 311.082842 73.91504 \nL 309.698774 72.451421 \nL 309.137634 72.610491 \nL 310.521702 74.07411 \nL 307.996574 74.789926 \nz\n\" clip-path=\"url(#p926b9e40c4)\" style=\"fill: #1f77b4; stroke: #000000; stroke-linejoin: miter\"/>\n   </g>\n   <g id=\"patch_38\">\n    <path d=\"M 306.418745 69.359107 \nL 312.129775 71.63606 \nL 309.604649 72.351878 \nL 308.177519 70.84273 \nL 307.61638 71.001801 \nL 309.04351 72.510949 \nL 306.518384 73.226767 \nz\n\" clip-path=\"url(#p926b9e40c4)\" style=\"fill: #1f77b4; stroke: #000000; stroke-linejoin: miter\"/>\n   </g>\n   <g id=\"patch_39\">\n    <path d=\"M 304.982385 67.84016 \nL 310.693373 70.117145 \nL 308.168234 70.832949 \nL 306.699316 69.279573 \nL 306.138174 69.43864 \nL 307.607092 70.992017 \nL 305.081953 71.707821 \nz\n\" clip-path=\"url(#p926b9e40c4)\" style=\"fill: #1f77b4; stroke: #000000; stroke-linejoin: miter\"/>\n   </g>\n   <g id=\"patch_40\">\n    <path d=\"M 303.586664 66.364209 \nL 309.297675 68.641177 \nL 306.772543 69.356989 \nL 305.262955 67.760626 \nL 304.701815 67.919695 \nL 306.211403 69.516058 \nL 303.686271 70.23187 \nz\n\" clip-path=\"url(#p926b9e40c4)\" style=\"fill: #1f77b4; stroke: #000000; stroke-linejoin: miter\"/>\n   </g>\n   <g id=\"patch_41\">\n    <path d=\"M 302.230433 64.930017 \nL 307.941441 67.206986 \nL 305.416309 67.922797 \nL 303.867234 66.284675 \nL 303.306093 66.443744 \nL 304.855168 68.081866 \nL 302.330036 68.797677 \nz\n\" clip-path=\"url(#p926b9e40c4)\" style=\"fill: #1f77b4; stroke: #000000; stroke-linejoin: miter\"/>\n   </g>\n   <g id=\"patch_42\">\n    <path d=\"M 300.912581 63.536407 \nL 306.623586 65.813378 \nL 304.098453 66.529188 \nL 302.511003 64.850482 \nL 301.949862 65.009551 \nL 303.537312 66.688257 \nL 301.012178 67.404067 \nz\n\" clip-path=\"url(#p926b9e40c4)\" style=\"fill: #1f77b4; stroke: #000000; stroke-linejoin: miter\"/>\n   </g>\n   <g id=\"patch_43\">\n    <path d=\"M 299.632017 62.182245 \nL 305.343045 64.4592 \nL 302.817918 65.175018 \nL 301.193151 63.456871 \nL 300.632012 63.615942 \nL 302.256779 65.334088 \nL 299.731652 66.049906 \nz\n\" clip-path=\"url(#p926b9e40c4)\" style=\"fill: #1f77b4; stroke: #000000; stroke-linejoin: miter\"/>\n   </g>\n   <g id=\"patch_44\">\n    <path d=\"M 298.387703 60.866398 \nL 304.098705 63.143373 \nL 301.57357 63.859182 \nL 299.912587 62.102711 \nL 299.351446 62.26178 \nL 301.012429 64.01825 \nL 298.487295 64.734059 \nz\n\" clip-path=\"url(#p926b9e40c4)\" style=\"fill: #1f77b4; stroke: #000000; stroke-linejoin: miter\"/>\n   </g>\n   <g id=\"patch_45\">\n    <path d=\"M 297.178587 59.587773 \nL 302.88959 61.864746 \nL 300.364456 62.580555 \nL 298.668274 60.786864 \nL 298.107133 60.945933 \nL 299.803315 62.739624 \nL 297.278181 63.455434 \nz\n\" clip-path=\"url(#p926b9e40c4)\" style=\"fill: #1f77b4; stroke: #000000; stroke-linejoin: miter\"/>\n   </g>\n   <g id=\"patch_46\">\n    <path d=\"M 296.003669 58.345338 \nL 301.714708 60.622284 \nL 299.189585 61.338106 \nL 297.459156 59.508237 \nL 296.898018 59.667309 \nL 298.628446 61.497177 \nL 296.103323 62.212998 \nz\n\" clip-path=\"url(#p926b9e40c4)\" style=\"fill: #1f77b4; stroke: #000000; stroke-linejoin: miter\"/>\n   </g>\n   <g id=\"patch_47\">\n    <path d=\"M 294.862027 57.138062 \nL 300.573025 59.415039 \nL 298.04789 60.130847 \nL 296.284239 58.265804 \nL 295.723098 58.424872 \nL 297.486748 60.289915 \nL 294.961613 61.005723 \nz\n\" clip-path=\"url(#p926b9e40c4)\" style=\"fill: #1f77b4; stroke: #000000; stroke-linejoin: miter\"/>\n   </g>\n   <g id=\"patch_48\">\n    <path d=\"M 293.752681 55.964936 \nL 299.463673 58.241917 \nL 296.938536 58.957723 \nL 295.142598 57.058528 \nL 294.581456 57.217596 \nL 296.377394 59.116791 \nL 293.852256 59.832596 \nz\n\" clip-path=\"url(#p926b9e40c4)\" style=\"fill: #1f77b4; stroke: #000000; stroke-linejoin: miter\"/>\n   </g>\n   <g id=\"patch_49\">\n    <path d=\"M 292.674709 54.825009 \nL 298.385735 57.101965 \nL 295.860608 57.817782 \nL 294.033251 55.8854 \nL 293.472111 56.044471 \nL 295.299469 57.976853 \nL 292.774342 58.69267 \nz\n\" clip-path=\"url(#p926b9e40c4)\" style=\"fill: #1f77b4; stroke: #000000; stroke-linejoin: miter\"/>\n   </g>\n   <g id=\"patch_50\">\n    <path d=\"M 291.627245 53.717335 \nL 297.338257 55.994301 \nL 294.813126 56.710114 \nL 292.95528 54.745475 \nL 292.394139 54.904544 \nL 294.251985 56.869183 \nL 291.726854 57.584995 \nz\n\" clip-path=\"url(#p926b9e40c4)\" style=\"fill: #1f77b4; stroke: #000000; stroke-linejoin: miter\"/>\n   </g>\n   <g id=\"patch_51\">\n    <path d=\"M 290.609423 52.641004 \nL 296.320433 54.917972 \nL 293.795301 55.633784 \nL 291.907816 53.6378 \nL 291.346675 53.796869 \nL 293.234161 55.792853 \nL 290.709029 56.508665 \nz\n\" clip-path=\"url(#p926b9e40c4)\" style=\"fill: #1f77b4; stroke: #000000; stroke-linejoin: miter\"/>\n   </g>\n   <g id=\"patch_52\">\n    <path d=\"M 289.620412 51.595132 \nL 295.331405 53.872113 \nL 292.806267 54.587919 \nL 290.889993 52.56147 \nL 290.328852 52.720538 \nL 292.245126 54.746987 \nL 289.719988 55.462793 \nz\n\" clip-path=\"url(#p926b9e40c4)\" style=\"fill: #1f77b4; stroke: #000000; stroke-linejoin: miter\"/>\n   </g>\n   <g id=\"patch_53\">\n    <path d=\"M 288.659368 50.578872 \nL 294.370425 52.855804 \nL 291.845308 53.571631 \nL 289.900981 51.515595 \nL 289.339844 51.674668 \nL 291.284171 53.730704 \nL 288.759054 54.446532 \nz\n\" clip-path=\"url(#p926b9e40c4)\" style=\"fill: #1f77b4; stroke: #000000; stroke-linejoin: miter\"/>\n   </g>\n   <g id=\"patch_54\">\n    <path d=\"M 287.725535 49.591357 \nL 293.436542 51.868328 \nL 290.911409 52.584138 \nL 288.939938 50.499337 \nL 288.378797 50.658406 \nL 290.350269 52.743207 \nL 287.825136 53.459018 \nz\n\" clip-path=\"url(#p926b9e40c4)\" style=\"fill: #1f77b4; stroke: #000000; stroke-linejoin: miter\"/>\n   </g>\n   <g id=\"patch_55\">\n    <path d=\"M 286.818123 48.631785 \nL 292.529134 50.908753 \nL 290.004002 51.624565 \nL 288.006105 49.511823 \nL 287.444964 49.670892 \nL 289.442862 51.783634 \nL 286.91773 52.499446 \nz\n\" clip-path=\"url(#p926b9e40c4)\" style=\"fill: #1f77b4; stroke: #000000; stroke-linejoin: miter\"/>\n   </g>\n   <g id=\"patch_56\">\n    <path d=\"M 285.936398 47.699371 \nL 291.6474 49.976345 \nL 289.122265 50.692154 \nL 287.098693 48.552251 \nL 286.537552 48.71132 \nL 288.561124 50.851223 \nL 286.03599 51.567032 \nz\n\" clip-path=\"url(#p926b9e40c4)\" style=\"fill: #1f77b4; stroke: #000000; stroke-linejoin: miter\"/>\n   </g>\n   <g id=\"patch_57\">\n    <path d=\"M 285.079606 46.793332 \nL 290.790623 49.070295 \nL 288.265493 49.786109 \nL 286.216968 47.619836 \nL 285.655828 47.778906 \nL 287.704353 49.945179 \nL 285.179223 50.660993 \nz\n\" clip-path=\"url(#p926b9e40c4)\" style=\"fill: #1f77b4; stroke: #000000; stroke-linejoin: miter\"/>\n   </g>\n   <g id=\"patch_58\">\n    <path d=\"M 284.247069 45.912925 \nL 289.958053 48.189913 \nL 287.432913 48.905716 \nL 285.360177 46.713798 \nL 284.799035 46.872866 \nL 286.871771 49.064783 \nL 284.34663 49.780586 \nz\n\" clip-path=\"url(#p926b9e40c4)\" style=\"fill: #1f77b4; stroke: #000000; stroke-linejoin: miter\"/>\n   </g>\n   <g id=\"patch_59\">\n    <path d=\"M 283.438092 45.057449 \nL 289.149111 47.33441 \nL 286.623982 48.050225 \nL 284.527639 45.83339 \nL 283.9665 45.99246 \nL 286.062842 48.209295 \nL 283.537713 48.92511 \nz\n\" clip-path=\"url(#p926b9e40c4)\" style=\"fill: #1f77b4; stroke: #000000; stroke-linejoin: miter\"/>\n   </g>\n   <g id=\"patch_60\">\n    <path d=\"M 282.651994 44.226162 \nL 288.363 46.503134 \nL 285.837866 47.218944 \nL 283.718662 44.977915 \nL 283.157521 45.136984 \nL 285.276725 47.378013 \nL 282.751592 48.093823 \nz\n\" clip-path=\"url(#p926b9e40c4)\" style=\"fill: #1f77b4; stroke: #000000; stroke-linejoin: miter\"/>\n   </g>\n   <g id=\"patch_61\">\n    <path d=\"M 281.888138 43.418404 \nL 287.599164 45.69536 \nL 285.074037 46.411177 \nL 282.932564 44.146627 \nL 282.371425 44.305697 \nL 284.512898 46.570248 \nL 281.987771 47.286065 \nz\n\" clip-path=\"url(#p926b9e40c4)\" style=\"fill: #1f77b4; stroke: #000000; stroke-linejoin: miter\"/>\n   </g>\n   <g id=\"patch_62\">\n    <path d=\"M 281.1459 42.633515 \nL 286.856943 44.910459 \nL 284.331821 45.626281 \nL 282.168707 43.338868 \nL 281.607569 43.49794 \nL 283.770683 45.785353 \nL 281.245561 46.501175 \nz\n\" clip-path=\"url(#p926b9e40c4)\" style=\"fill: #1f77b4; stroke: #000000; stroke-linejoin: miter\"/>\n   </g>\n   <g id=\"patch_63\">\n    <path d=\"M 280.424678 41.870815 \nL 286.135642 44.147818 \nL 283.610496 44.863614 \nL 281.426472 42.553982 \nL 280.865328 42.713048 \nL 283.049352 45.02268 \nL 280.524205 45.738476 \nz\n\" clip-path=\"url(#p926b9e40c4)\" style=\"fill: #1f77b4; stroke: #000000; stroke-linejoin: miter\"/>\n   </g>\n   <g id=\"patch_64\">\n    <path d=\"M 279.723852 41.129705 \nL 285.434868 43.406669 \nL 282.909737 44.122482 \nL 280.705248 41.79128 \nL 280.144108 41.95035 \nL 282.348597 44.281552 \nL 279.823467 44.997365 \nz\n\" clip-path=\"url(#p926b9e40c4)\" style=\"fill: #1f77b4; stroke: #000000; stroke-linejoin: miter\"/>\n   </g>\n   <g id=\"patch_65\">\n    <path d=\"M 279.042855 40.409567 \nL 284.753876 42.686527 \nL 282.228747 43.402342 \nL 280.004422 41.05017 \nL 279.443282 41.20924 \nL 281.667608 43.561412 \nL 279.142479 44.277227 \nz\n\" clip-path=\"url(#p926b9e40c4)\" style=\"fill: #1f77b4; stroke: #000000; stroke-linejoin: miter\"/>\n   </g>\n   <g id=\"patch_66\">\n    <path d=\"M 278.381123 39.709803 \nL 284.092148 41.98676 \nL 281.567021 42.702576 \nL 279.323425 40.330032 \nL 278.762285 40.489102 \nL 281.005881 42.861647 \nL 278.480754 43.577463 \nz\n\" clip-path=\"url(#p926b9e40c4)\" style=\"fill: #1f77b4; stroke: #000000; stroke-linejoin: miter\"/>\n   </g>\n   <g id=\"patch_67\">\n    <path d=\"M 277.738129 39.029835 \nL 283.449109 41.306826 \nL 280.923967 42.022628 \nL 278.661695 39.630269 \nL 278.100552 39.789336 \nL 280.362825 42.181695 \nL 277.837683 42.897496 \nz\n\" clip-path=\"url(#p926b9e40c4)\" style=\"fill: #1f77b4; stroke: #000000; stroke-linejoin: miter\"/>\n   </g>\n   <g id=\"patch_68\">\n    <path d=\"M 277.113327 38.369128 \nL 282.824365 40.646075 \nL 280.299242 41.361896 \nL 278.018699 38.950299 \nL 277.45756 39.109371 \nL 279.738103 41.520967 \nL 277.21298 42.236788 \nz\n\" clip-path=\"url(#p926b9e40c4)\" style=\"fill: #1f77b4; stroke: #000000; stroke-linejoin: miter\"/>\n   </g>\n   <g id=\"patch_69\">\n    <path d=\"M 276.506207 37.727103 \nL 282.217202 40.004083 \nL 279.692065 40.71989 \nL 277.393898 38.289594 \nL 276.832756 38.448662 \nL 279.130924 40.878958 \nL 276.605787 41.594764 \nz\n\" clip-path=\"url(#p926b9e40c4)\" style=\"fill: #1f77b4; stroke: #000000; stroke-linejoin: miter\"/>\n   </g>\n   <g id=\"patch_70\">\n    <path d=\"M 275.916263 37.103246 \nL 281.627272 39.380215 \nL 279.10214 40.096026 \nL 276.786778 37.647569 \nL 276.225637 37.806638 \nL 278.540999 40.255096 \nL 276.015867 40.970907 \nz\n\" clip-path=\"url(#p926b9e40c4)\" style=\"fill: #1f77b4; stroke: #000000; stroke-linejoin: miter\"/>\n   </g>\n   <g id=\"patch_71\">\n    <path d=\"M 275.343003 36.497041 \nL 281.054034 38.773994 \nL 278.528908 39.489812 \nL 276.196832 37.023711 \nL 275.635693 37.182782 \nL 277.967769 39.648883 \nL 275.442644 40.364701 \nz\n\" clip-path=\"url(#p926b9e40c4)\" style=\"fill: #1f77b4; stroke: #000000; stroke-linejoin: miter\"/>\n   </g>\n   <g id=\"patch_72\">\n    <path d=\"M 274.785976 35.907993 \nL 280.496981 38.184965 \nL 277.971847 38.900775 \nL 275.623573 36.417507 \nL 275.062432 36.576576 \nL 277.410707 39.059844 \nL 274.885573 39.775654 \nz\n\" clip-path=\"url(#p926b9e40c4)\" style=\"fill: #1f77b4; stroke: #000000; stroke-linejoin: miter\"/>\n   </g>\n   <g id=\"patch_73\">\n    <path d=\"M 274.244712 35.335607 \nL 279.955698 37.612593 \nL 277.430558 38.328396 \nL 275.066547 35.828459 \nL 274.505405 35.987527 \nL 276.869416 38.487464 \nL 274.344277 39.203268 \nz\n\" clip-path=\"url(#p926b9e40c4)\" style=\"fill: #1f77b4; stroke: #000000; stroke-linejoin: miter\"/>\n   </g>\n   <g id=\"patch_74\">\n    <path d=\"M 273.718757 34.779429 \nL 279.429798 37.056374 \nL 276.904675 37.772196 \nL 274.525281 35.256071 \nL 273.964142 35.415142 \nL 276.343537 37.931267 \nL 273.818415 38.647089 \nz\n\" clip-path=\"url(#p926b9e40c4)\" style=\"fill: #1f77b4; stroke: #000000; stroke-linejoin: miter\"/>\n   </g>\n   <g id=\"patch_75\">\n    <path d=\"M 273.207699 34.238985 \nL 278.918683 36.515973 \nL 276.393543 37.231776 \nL 273.999329 34.699895 \nL 273.438186 34.858963 \nL 275.832401 37.390843 \nL 273.307261 38.106646 \nz\n\" clip-path=\"url(#p926b9e40c4)\" style=\"fill: #1f77b4; stroke: #000000; stroke-linejoin: miter\"/>\n   </g>\n   <g id=\"patch_76\">\n    <path d=\"M 272.711085 33.713842 \nL 278.422155 35.990766 \nL 275.897042 36.706597 \nL 273.488267 34.159448 \nL 272.927131 34.318522 \nL 275.335905 36.865671 \nL 272.810792 37.581502 \nz\n\" clip-path=\"url(#p926b9e40c4)\" style=\"fill: #1f77b4; stroke: #000000; stroke-linejoin: miter\"/>\n   </g>\n   <g id=\"patch_77\">\n    <path d=\"M 272.228538 33.203547 \nL 277.939514 35.480541 \nL 275.414372 36.196341 \nL 272.991656 33.634309 \nL 272.430514 33.793376 \nL 274.853229 36.355408 \nL 272.328086 37.071208 \nz\n\" clip-path=\"url(#p926b9e40c4)\" style=\"fill: #1f77b4; stroke: #000000; stroke-linejoin: miter\"/>\n   </g>\n   <g id=\"patch_78\">\n    <path d=\"M 271.759644 32.707687 \nL 277.470609 34.984688 \nL 274.945463 35.700485 \nL 272.50911 33.124014 \nL 271.947966 33.28308 \nL 274.38432 35.859551 \nL 271.859173 36.575348 \nz\n\" clip-path=\"url(#p926b9e40c4)\" style=\"fill: #1f77b4; stroke: #000000; stroke-linejoin: miter\"/>\n   </g>\n   <g id=\"patch_79\">\n    <path d=\"M 271.304008 32.225869 \nL 277.015055 34.50281 \nL 274.489934 35.218634 \nL 272.040213 32.628151 \nL 271.479075 32.787222 \nL 273.928796 35.377706 \nL 271.403675 36.093529 \nz\n\" clip-path=\"url(#p926b9e40c4)\" style=\"fill: #1f77b4; stroke: #000000; stroke-linejoin: miter\"/>\n   </g>\n   <g id=\"patch_80\">\n    <path d=\"M 270.861272 31.757683 \nL 276.572281 34.034652 \nL 274.047148 34.750463 \nL 271.584578 32.146335 \nL 271.023438 32.305404 \nL 273.486008 34.909532 \nL 270.960875 35.625343 \nz\n\" clip-path=\"url(#p926b9e40c4)\" style=\"fill: #1f77b4; stroke: #000000; stroke-linejoin: miter\"/>\n   </g>\n   <g id=\"patch_81\">\n    <path d=\"M 270.431059 31.302735 \nL 276.142052 33.579716 \nL 273.616915 34.295522 \nL 271.141843 31.678149 \nL 270.580701 31.837217 \nL 273.055773 34.45459 \nL 270.530636 35.170396 \nz\n\" clip-path=\"url(#p926b9e40c4)\" style=\"fill: #1f77b4; stroke: #000000; stroke-linejoin: miter\"/>\n   </g>\n   <g id=\"patch_82\">\n    <path d=\"M 270.013011 30.860675 \nL 275.724095 33.137588 \nL 273.198986 33.853424 \nL 270.711626 31.223197 \nL 270.150491 31.382272 \nL 272.63785 34.012499 \nL 270.112741 34.728335 \nz\n\" clip-path=\"url(#p926b9e40c4)\" style=\"fill: #1f77b4; stroke: #000000; stroke-linejoin: miter\"/>\n   </g>\n   <g id=\"patch_83\">\n    <path d=\"M 269.606808 30.431113 \nL 275.317777 32.708112 \nL 272.792632 33.42391 \nL 270.293582 30.781142 \nL 269.732439 30.940209 \nL 272.231489 33.582976 \nL 269.706344 34.298774 \nz\n\" clip-path=\"url(#p926b9e40c4)\" style=\"fill: #1f77b4; stroke: #000000; stroke-linejoin: miter\"/>\n   </g>\n   <g id=\"patch_84\">\n    <path d=\"M 269.212093 30.013716 \nL 274.923137 32.290659 \nL 272.398016 33.006482 \nL 269.887377 30.351577 \nL 269.326239 30.510648 \nL 271.836878 33.165553 \nL 269.311757 33.881376 \nz\n\" clip-path=\"url(#p926b9e40c4)\" style=\"fill: #1f77b4; stroke: #000000; stroke-linejoin: miter\"/>\n   </g>\n   <g id=\"patch_85\">\n    <path d=\"M 268.828545 29.608136 \nL 274.539619 31.885056 \nL 272.014507 32.600889 \nL 269.492661 29.934179 \nL 268.931525 30.093253 \nL 271.453371 32.759963 \nL 268.928259 33.475796 \nz\n\" clip-path=\"url(#p926b9e40c4)\" style=\"fill: #1f77b4; stroke: #000000; stroke-linejoin: miter\"/>\n   </g>\n   <g id=\"patch_86\">\n    <path d=\"M 268.455863 29.214021 \nL 274.166831 31.491021 \nL 271.641685 32.206819 \nL 269.109117 29.528603 \nL 268.547973 29.687669 \nL 271.080542 32.365885 \nL 268.555396 33.081682 \nz\n\" clip-path=\"url(#p926b9e40c4)\" style=\"fill: #1f77b4; stroke: #000000; stroke-linejoin: miter\"/>\n   </g>\n   <g id=\"patch_87\">\n    <path d=\"M 268.093727 28.831062 \nL 273.804711 31.10805 \nL 271.279571 31.823853 \nL 268.736434 29.134487 \nL 268.175292 29.293555 \nL 270.718429 31.98292 \nL 268.193289 32.698723 \nz\n\" clip-path=\"url(#p926b9e40c4)\" style=\"fill: #1f77b4; stroke: #000000; stroke-linejoin: miter\"/>\n   </g>\n   <g id=\"patch_88\">\n    <path d=\"M 267.741835 28.45893 \nL 273.452786 30.735943 \nL 270.927636 31.451735 \nL 268.374299 28.75153 \nL 267.813155 28.910595 \nL 270.366491 31.6108 \nL 267.84134 32.326591 \nz\n\" clip-path=\"url(#p926b9e40c4)\" style=\"fill: #1f77b4; stroke: #000000; stroke-linejoin: miter\"/>\n   </g>\n   <g id=\"patch_89\">\n    <path d=\"M 267.399887 28.097335 \nL 273.110943 30.374269 \nL 270.585825 31.090096 \nL 268.022404 28.379394 \nL 267.461267 28.538466 \nL 270.024688 31.249168 \nL 267.49957 31.964995 \nz\n\" clip-path=\"url(#p926b9e40c4)\" style=\"fill: #1f77b4; stroke: #000000; stroke-linejoin: miter\"/>\n   </g>\n   <g id=\"patch_90\">\n    <path d=\"M 267.067618 27.745968 \nL 272.778638 30.022929 \nL 270.253509 30.738744 \nL 267.680457 28.0178 \nL 267.119317 28.17687 \nL 269.692369 30.897814 \nL 267.16724 31.613629 \nz\n\" clip-path=\"url(#p926b9e40c4)\" style=\"fill: #1f77b4; stroke: #000000; stroke-linejoin: miter\"/>\n   </g>\n   <g id=\"patch_91\">\n    <path d=\"M 266.744746 27.404541 \nL 272.455777 29.681494 \nL 269.930652 30.397312 \nL 267.348188 27.666433 \nL 266.787049 27.825504 \nL 269.369513 30.556383 \nL 266.844387 31.272201 \nz\n\" clip-path=\"url(#p926b9e40c4)\" style=\"fill: #1f77b4; stroke: #000000; stroke-linejoin: miter\"/>\n   </g>\n   <g id=\"patch_92\">\n    <path d=\"M 266.431027 27.072785 \nL 272.142023 29.349764 \nL 269.616886 30.065571 \nL 267.025317 27.325007 \nL 266.464176 27.484075 \nL 269.055745 30.224639 \nL 266.530608 30.940446 \nz\n\" clip-path=\"url(#p926b9e40c4)\" style=\"fill: #1f77b4; stroke: #000000; stroke-linejoin: miter\"/>\n   </g>\n   <g id=\"patch_93\">\n    <path d=\"M 266.126177 26.750412 \nL 271.837189 29.027379 \nL 269.312057 29.743191 \nL 266.711597 26.99325 \nL 266.150457 27.15232 \nL 268.750917 29.90226 \nL 266.225785 30.618072 \nz\n\" clip-path=\"url(#p926b9e40c4)\" style=\"fill: #1f77b4; stroke: #000000; stroke-linejoin: miter\"/>\n   </g>\n   <g id=\"patch_94\">\n    <path d=\"M 265.829953 26.437153 \nL 271.540931 28.714145 \nL 269.015788 29.429946 \nL 266.406749 26.670878 \nL 265.845606 26.829945 \nL 268.454646 29.589013 \nL 265.929504 30.304814 \nz\n\" clip-path=\"url(#p926b9e40c4)\" style=\"fill: #1f77b4; stroke: #000000; stroke-linejoin: miter\"/>\n   </g>\n   <g id=\"patch_95\">\n    <path d=\"M 265.542108 26.132762 \nL 271.253115 28.409733 \nL 268.727981 29.125543 \nL 266.110523 26.357619 \nL 265.549382 26.516688 \nL 268.166841 29.284612 \nL 265.641708 30.000422 \nz\n\" clip-path=\"url(#p926b9e40c4)\" style=\"fill: #1f77b4; stroke: #000000; stroke-linejoin: miter\"/>\n   </g>\n   <g id=\"patch_96\">\n    <path d=\"M 265.262418 25.83699 \nL 270.973406 28.113975 \nL 268.448267 28.829779 \nL 265.822679 26.053228 \nL 265.261537 26.212296 \nL 267.887125 28.988847 \nL 265.361986 29.704651 \nz\n\" clip-path=\"url(#p926b9e40c4)\" style=\"fill: #1f77b4; stroke: #000000; stroke-linejoin: miter\"/>\n   </g>\n   <g id=\"patch_97\">\n    <path d=\"M 264.990637 25.549591 \nL 270.701673 27.826539 \nL 268.176549 28.542359 \nL 265.542987 25.757454 \nL 264.981848 25.916526 \nL 267.61541 28.701431 \nL 265.090286 29.417251 \nz\n\" clip-path=\"url(#p926b9e40c4)\" style=\"fill: #1f77b4; stroke: #000000; stroke-linejoin: miter\"/>\n   </g>\n   <g id=\"patch_98\">\n    <path d=\"M 264.726539 25.270316 \nL 270.437574 27.547265 \nL 267.91245 28.263085 \nL 265.271206 25.470055 \nL 264.710067 25.629126 \nL 267.351312 28.422156 \nL 264.826188 29.137976 \nz\n\" clip-path=\"url(#p926b9e40c4)\" style=\"fill: #1f77b4; stroke: #000000; stroke-linejoin: miter\"/>\n   </g>\n   <g id=\"patch_99\">\n    <path d=\"M 264.469918 24.998939 \nL 270.180904 27.275926 \nL 267.655764 27.991729 \nL 265.00711 25.190782 \nL 264.445968 25.34985 \nL 267.094622 28.150797 \nL 264.569482 28.8666 \nz\n\" clip-path=\"url(#p926b9e40c4)\" style=\"fill: #1f77b4; stroke: #000000; stroke-linejoin: miter\"/>\n   </g>\n   <g id=\"patch_100\">\n    <path d=\"M 264.220565 24.735254 \nL 269.931582 27.012218 \nL 267.406451 27.728032 \nL 264.750488 24.919404 \nL 264.189348 25.078474 \nL 266.845311 27.887101 \nL 264.320181 28.602915 \nz\n\" clip-path=\"url(#p926b9e40c4)\" style=\"fill: #1f77b4; stroke: #000000; stroke-linejoin: miter\"/>\n   </g>\n   <g id=\"patch_101\">\n    <path d=\"M 263.978256 24.479034 \nL 269.689385 26.755913 \nL 267.16429 27.471764 \nL 264.501132 24.655715 \nL 263.939999 24.814793 \nL 266.603158 27.630842 \nL 264.078063 28.346693 \nz\n\" clip-path=\"url(#p926b9e40c4)\" style=\"fill: #1f77b4; stroke: #000000; stroke-linejoin: miter\"/>\n   </g>\n   <g id=\"patch_102\">\n    <path d=\"M 263.742821 24.230052 \nL 269.453744 26.507086 \nL 266.928584 27.222869 \nL 264.25883 24.399503 \nL 263.697683 24.558566 \nL 266.367438 27.381931 \nL 263.842279 28.097714 \nz\n\" clip-path=\"url(#p926b9e40c4)\" style=\"fill: #1f77b4; stroke: #000000; stroke-linejoin: miter\"/>\n   </g>\n   <g id=\"patch_103\">\n    <path d=\"M 263.514033 23.988123 \nL 269.225113 26.265039 \nL 266.700003 26.980873 \nL 264.023388 24.150515 \nL 263.462253 24.30959 \nL 266.138867 27.139948 \nL 263.613757 27.855783 \nz\n\" clip-path=\"url(#p926b9e40c4)\" style=\"fill: #1f77b4; stroke: #000000; stroke-linejoin: miter\"/>\n   </g>\n   <g id=\"patch_104\">\n    <path d=\"M 263.291723 23.75304 \nL 269.002774 26.029977 \nL 266.477655 26.745802 \nL 263.794602 23.908587 \nL 263.233464 24.067659 \nL 265.916518 26.904875 \nL 263.391399 27.6207 \nz\n\" clip-path=\"url(#p926b9e40c4)\" style=\"fill: #1f77b4; stroke: #000000; stroke-linejoin: miter\"/>\n   </g>\n   <g id=\"patch_105\">\n    <path d=\"M 263.075722 23.524597 \nL 268.786542 25.801708 \nL 266.261351 26.517456 \nL 263.5723 23.673512 \nL 263.011146 23.832567 \nL 265.700197 26.676511 \nL 263.175005 27.39226 \nz\n\" clip-path=\"url(#p926b9e40c4)\" style=\"fill: #1f77b4; stroke: #000000; stroke-linejoin: miter\"/>\n   </g>\n   <g id=\"patch_106\">\n    <path d=\"M 262.865803 23.302629 \nL 268.576946 25.579498 \nL 266.051855 26.295353 \nL 263.356288 23.445057 \nL 262.795156 23.604136 \nL 265.490724 26.454432 \nL 262.965633 27.170288 \nz\n\" clip-path=\"url(#p926b9e40c4)\" style=\"fill: #1f77b4; stroke: #000000; stroke-linejoin: miter\"/>\n   </g>\n   <g id=\"patch_107\">\n    <path d=\"M 262.661836 23.08693 \nL 268.372793 25.363938 \nL 265.847644 26.079732 \nL 263.146376 23.223096 \nL 262.585231 23.382161 \nL 265.286499 26.238797 \nL 262.761351 26.954591 \nz\n\" clip-path=\"url(#p926b9e40c4)\" style=\"fill: #1f77b4; stroke: #000000; stroke-linejoin: miter\"/>\n   </g>\n   <g id=\"patch_108\">\n    <path d=\"M 262.46365 22.877335 \nL 268.174525 25.154404 \nL 265.649351 25.870171 \nL 262.942411 23.0074 \nL 262.381261 23.166459 \nL 265.088201 26.02923 \nL 262.563027 26.744997 \nz\n\" clip-path=\"url(#p926b9e40c4)\" style=\"fill: #1f77b4; stroke: #000000; stroke-linejoin: miter\"/>\n   </g>\n   <g id=\"patch_109\">\n    <path d=\"M 262.271057 22.673678 \nL 267.982132 24.950598 \nL 265.45702 25.666431 \nL 262.744218 22.797798 \nL 262.183082 22.956872 \nL 264.895884 25.825505 \nL 262.370772 26.541338 \nz\n\" clip-path=\"url(#p926b9e40c4)\" style=\"fill: #1f77b4; stroke: #000000; stroke-linejoin: miter\"/>\n   </g>\n   <g id=\"patch_110\">\n    <path d=\"M 262.083906 22.475796 \nL 267.795143 24.752593 \nL 265.270083 25.46848 \nL 262.551619 22.594135 \nL 261.990494 22.753221 \nL 264.708958 25.627566 \nL 262.183898 26.343454 \nz\n\" clip-path=\"url(#p926b9e40c4)\" style=\"fill: #1f77b4; stroke: #000000; stroke-linejoin: miter\"/>\n   </g>\n   <g id=\"patch_111\">\n    <path d=\"M 261.902066 22.283502 \nL 267.613067 24.560477 \nL 265.087933 25.276285 \nL 262.364476 22.396262 \nL 261.803335 22.55533 \nL 264.526792 25.435354 \nL 262.001657 26.151163 \nz\n\" clip-path=\"url(#p926b9e40c4)\" style=\"fill: #1f77b4; stroke: #000000; stroke-linejoin: miter\"/>\n   </g>\n   <g id=\"patch_112\">\n    <path d=\"M 261.725385 22.096652 \nL 267.436273 24.373712 \nL 264.911103 25.089483 \nL 262.18264 22.203972 \nL 261.621491 22.363032 \nL 264.349954 25.248544 \nL 261.824783 25.964315 \nz\n\" clip-path=\"url(#p926b9e40c4)\" style=\"fill: #1f77b4; stroke: #000000; stroke-linejoin: miter\"/>\n   </g>\n   <g id=\"patch_113\">\n    <path d=\"M 261.553696 21.915082 \nL 267.264596 24.192132 \nL 264.73943 24.907907 \nL 262.005959 22.017122 \nL 261.444811 22.176183 \nL 264.178282 25.066968 \nL 261.653115 25.782744 \nz\n\" clip-path=\"url(#p926b9e40c4)\" style=\"fill: #1f77b4; stroke: #000000; stroke-linejoin: miter\"/>\n   </g>\n   <g id=\"patch_114\">\n    <path d=\"M 261.386846 21.738666 \nL 267.098103 24.015449 \nL 264.573048 24.731342 \nL 261.834257 21.835538 \nL 261.273134 21.994625 \nL 264.011925 24.89043 \nL 261.48687 25.606323 \nz\n\" clip-path=\"url(#p926b9e40c4)\" style=\"fill: #1f77b4; stroke: #000000; stroke-linejoin: miter\"/>\n   </g>\n   <g id=\"patch_115\">\n    <path d=\"M 261.224741 21.567241 \nL 266.935728 23.844227 \nL 264.410588 24.560031 \nL 261.667417 21.659132 \nL 261.106275 21.8182 \nL 263.849446 24.719098 \nL 261.324306 25.434902 \nz\n\" clip-path=\"url(#p926b9e40c4)\" style=\"fill: #1f77b4; stroke: #000000; stroke-linejoin: miter\"/>\n   </g>\n   <g id=\"patch_116\">\n    <path d=\"M 261.067213 21.400662 \nL 266.778268 23.677596 \nL 264.25315 24.393423 \nL 261.50531 21.487705 \nL 260.944173 21.646777 \nL 263.692013 24.552495 \nL 261.166895 25.268322 \nz\n\" clip-path=\"url(#p926b9e40c4)\" style=\"fill: #1f77b4; stroke: #000000; stroke-linejoin: miter\"/>\n   </g>\n   <g id=\"patch_117\">\n    <path d=\"M 260.914148 21.238784 \nL 266.625015 23.51586 \nL 264.099838 24.231624 \nL 261.347788 21.321133 \nL 260.786638 21.480191 \nL 263.538688 24.390683 \nL 261.013511 25.106447 \nz\n\" clip-path=\"url(#p926b9e40c4)\" style=\"fill: #1f77b4; stroke: #000000; stroke-linejoin: miter\"/>\n   </g>\n   <g id=\"patch_118\">\n    <path d=\"M 260.765414 21.081506 \nL 266.476474 23.358436 \nL 263.951358 24.074264 \nL 261.194716 21.159248 \nL 260.633579 21.318321 \nL 263.390221 24.233337 \nL 260.865105 24.949166 \nz\n\" clip-path=\"url(#p926b9e40c4)\" style=\"fill: #1f77b4; stroke: #000000; stroke-linejoin: miter\"/>\n   </g>\n   <g id=\"patch_119\">\n    <path d=\"M 260.62088 20.92866 \nL 266.33186 23.205651 \nL 263.806719 23.921453 \nL 261.045985 21.001972 \nL 260.484843 21.161039 \nL 263.245576 24.08052 \nL 260.720435 24.796321 \nz\n\" clip-path=\"url(#p926b9e40c4)\" style=\"fill: #1f77b4; stroke: #000000; stroke-linejoin: miter\"/>\n   </g>\n   <g id=\"patch_120\">\n    <path d=\"M 260.480451 20.780146 \nL 266.191306 23.05723 \nL 263.666126 23.77299 \nL 260.901455 20.849131 \nL 260.340304 21.008189 \nL 263.104974 23.932048 \nL 260.579794 24.647808 \nz\n\" clip-path=\"url(#p926b9e40c4)\" style=\"fill: #1f77b4; stroke: #000000; stroke-linejoin: miter\"/>\n   </g>\n   <g id=\"patch_121\">\n    <path d=\"M 260.343976 20.635837 \nL 266.055119 22.912706 \nL 263.530028 23.628562 \nL 260.761016 20.700606 \nL 260.199885 20.859685 \nL 262.968897 23.787641 \nL 260.443806 24.503496 \nz\n\" clip-path=\"url(#p926b9e40c4)\" style=\"fill: #1f77b4; stroke: #000000; stroke-linejoin: miter\"/>\n   </g>\n   <g id=\"matplotlib.axis_1\">\n    <g id=\"xtick_1\">\n     <g id=\"line2d_1\">\n      <defs>\n       <path id=\"mfd618df08d\" d=\"M 0 0 \nL 0 3.5 \n\" style=\"stroke: #000000; stroke-width: 0.8\"/>\n      </defs>\n      <g>\n       <use xlink:href=\"#mfd618df08d\" x=\"90.518238\" y=\"274.651837\" style=\"stroke: #000000; stroke-width: 0.8\"/>\n      </g>\n     </g>\n     <g id=\"text_1\">\n      <!-- 0.0 -->\n      <g transform=\"translate(82.566676 289.250275) scale(0.1 -0.1)\">\n       <defs>\n        <path id=\"DejaVuSans-30\" d=\"M 2034 4250 \nQ 1547 4250 1301 3770 \nQ 1056 3291 1056 2328 \nQ 1056 1369 1301 889 \nQ 1547 409 2034 409 \nQ 2525 409 2770 889 \nQ 3016 1369 3016 2328 \nQ 3016 3291 2770 3770 \nQ 2525 4250 2034 4250 \nz\nM 2034 4750 \nQ 2819 4750 3233 4129 \nQ 3647 3509 3647 2328 \nQ 3647 1150 3233 529 \nQ 2819 -91 2034 -91 \nQ 1250 -91 836 529 \nQ 422 1150 422 2328 \nQ 422 3509 836 4129 \nQ 1250 4750 2034 4750 \nz\n\" transform=\"scale(0.015625)\"/>\n        <path id=\"DejaVuSans-2e\" d=\"M 684 794 \nL 1344 794 \nL 1344 0 \nL 684 0 \nL 684 794 \nz\n\" transform=\"scale(0.015625)\"/>\n       </defs>\n       <use xlink:href=\"#DejaVuSans-30\"/>\n       <use xlink:href=\"#DejaVuSans-2e\" x=\"63.623047\"/>\n       <use xlink:href=\"#DejaVuSans-30\" x=\"95.410156\"/>\n      </g>\n     </g>\n    </g>\n    <g id=\"xtick_2\">\n     <g id=\"line2d_2\">\n      <g>\n       <use xlink:href=\"#mfd618df08d\" x=\"153.707379\" y=\"274.651837\" style=\"stroke: #000000; stroke-width: 0.8\"/>\n      </g>\n     </g>\n     <g id=\"text_2\">\n      <!-- 0.1 -->\n      <g transform=\"translate(145.755816 289.250275) scale(0.1 -0.1)\">\n       <defs>\n        <path id=\"DejaVuSans-31\" d=\"M 794 531 \nL 1825 531 \nL 1825 4091 \nL 703 3866 \nL 703 4441 \nL 1819 4666 \nL 2450 4666 \nL 2450 531 \nL 3481 531 \nL 3481 0 \nL 794 0 \nL 794 531 \nz\n\" transform=\"scale(0.015625)\"/>\n       </defs>\n       <use xlink:href=\"#DejaVuSans-30\"/>\n       <use xlink:href=\"#DejaVuSans-2e\" x=\"63.623047\"/>\n       <use xlink:href=\"#DejaVuSans-31\" x=\"95.410156\"/>\n      </g>\n     </g>\n    </g>\n    <g id=\"xtick_3\">\n     <g id=\"line2d_3\">\n      <g>\n       <use xlink:href=\"#mfd618df08d\" x=\"216.89652\" y=\"274.651837\" style=\"stroke: #000000; stroke-width: 0.8\"/>\n      </g>\n     </g>\n     <g id=\"text_3\">\n      <!-- 0.2 -->\n      <g transform=\"translate(208.944957 289.250275) scale(0.1 -0.1)\">\n       <defs>\n        <path id=\"DejaVuSans-32\" d=\"M 1228 531 \nL 3431 531 \nL 3431 0 \nL 469 0 \nL 469 531 \nQ 828 903 1448 1529 \nQ 2069 2156 2228 2338 \nQ 2531 2678 2651 2914 \nQ 2772 3150 2772 3378 \nQ 2772 3750 2511 3984 \nQ 2250 4219 1831 4219 \nQ 1534 4219 1204 4116 \nQ 875 4013 500 3803 \nL 500 4441 \nQ 881 4594 1212 4672 \nQ 1544 4750 1819 4750 \nQ 2544 4750 2975 4387 \nQ 3406 4025 3406 3419 \nQ 3406 3131 3298 2873 \nQ 3191 2616 2906 2266 \nQ 2828 2175 2409 1742 \nQ 1991 1309 1228 531 \nz\n\" transform=\"scale(0.015625)\"/>\n       </defs>\n       <use xlink:href=\"#DejaVuSans-30\"/>\n       <use xlink:href=\"#DejaVuSans-2e\" x=\"63.623047\"/>\n       <use xlink:href=\"#DejaVuSans-32\" x=\"95.410156\"/>\n      </g>\n     </g>\n    </g>\n    <g id=\"xtick_4\">\n     <g id=\"line2d_4\">\n      <g>\n       <use xlink:href=\"#mfd618df08d\" x=\"280.08566\" y=\"274.651837\" style=\"stroke: #000000; stroke-width: 0.8\"/>\n      </g>\n     </g>\n     <g id=\"text_4\">\n      <!-- 0.3 -->\n      <g transform=\"translate(272.134098 289.250275) scale(0.1 -0.1)\">\n       <defs>\n        <path id=\"DejaVuSans-33\" d=\"M 2597 2516 \nQ 3050 2419 3304 2112 \nQ 3559 1806 3559 1356 \nQ 3559 666 3084 287 \nQ 2609 -91 1734 -91 \nQ 1441 -91 1130 -33 \nQ 819 25 488 141 \nL 488 750 \nQ 750 597 1062 519 \nQ 1375 441 1716 441 \nQ 2309 441 2620 675 \nQ 2931 909 2931 1356 \nQ 2931 1769 2642 2001 \nQ 2353 2234 1838 2234 \nL 1294 2234 \nL 1294 2753 \nL 1863 2753 \nQ 2328 2753 2575 2939 \nQ 2822 3125 2822 3475 \nQ 2822 3834 2567 4026 \nQ 2313 4219 1838 4219 \nQ 1578 4219 1281 4162 \nQ 984 4106 628 3988 \nL 628 4550 \nQ 988 4650 1302 4700 \nQ 1616 4750 1894 4750 \nQ 2613 4750 3031 4423 \nQ 3450 4097 3450 3541 \nQ 3450 3153 3228 2886 \nQ 3006 2619 2597 2516 \nz\n\" transform=\"scale(0.015625)\"/>\n       </defs>\n       <use xlink:href=\"#DejaVuSans-30\"/>\n       <use xlink:href=\"#DejaVuSans-2e\" x=\"63.623047\"/>\n       <use xlink:href=\"#DejaVuSans-33\" x=\"95.410156\"/>\n      </g>\n     </g>\n    </g>\n    <g id=\"xtick_5\">\n     <g id=\"line2d_5\">\n      <g>\n       <use xlink:href=\"#mfd618df08d\" x=\"343.274801\" y=\"274.651837\" style=\"stroke: #000000; stroke-width: 0.8\"/>\n      </g>\n     </g>\n     <g id=\"text_5\">\n      <!-- 0.4 -->\n      <g transform=\"translate(335.323239 289.250275) scale(0.1 -0.1)\">\n       <defs>\n        <path id=\"DejaVuSans-34\" d=\"M 2419 4116 \nL 825 1625 \nL 2419 1625 \nL 2419 4116 \nz\nM 2253 4666 \nL 3047 4666 \nL 3047 1625 \nL 3713 1625 \nL 3713 1100 \nL 3047 1100 \nL 3047 0 \nL 2419 0 \nL 2419 1100 \nL 313 1100 \nL 313 1709 \nL 2253 4666 \nz\n\" transform=\"scale(0.015625)\"/>\n       </defs>\n       <use xlink:href=\"#DejaVuSans-30\"/>\n       <use xlink:href=\"#DejaVuSans-2e\" x=\"63.623047\"/>\n       <use xlink:href=\"#DejaVuSans-34\" x=\"95.410156\"/>\n      </g>\n     </g>\n    </g>\n    <g id=\"text_6\">\n     <!-- w0 -->\n     <g transform=\"translate(215.070938 302.9284) scale(0.1 -0.1)\">\n      <defs>\n       <path id=\"DejaVuSans-77\" d=\"M 269 3500 \nL 844 3500 \nL 1563 769 \nL 2278 3500 \nL 2956 3500 \nL 3675 769 \nL 4391 3500 \nL 4966 3500 \nL 4050 0 \nL 3372 0 \nL 2619 2869 \nL 1863 0 \nL 1184 0 \nL 269 3500 \nz\n\" transform=\"scale(0.015625)\"/>\n      </defs>\n      <use xlink:href=\"#DejaVuSans-77\"/>\n      <use xlink:href=\"#DejaVuSans-30\" x=\"81.787109\"/>\n     </g>\n    </g>\n   </g>\n   <g id=\"matplotlib.axis_2\">\n    <g id=\"ytick_1\">\n     <g id=\"line2d_6\">\n      <defs>\n       <path id=\"mf93340c784\" d=\"M 0 0 \nL -3.5 0 \n\" style=\"stroke: #000000; stroke-width: 0.8\"/>\n      </defs>\n      <g>\n       <use xlink:href=\"#mf93340c784\" x=\"43.78125\" y=\"253.177149\" style=\"stroke: #000000; stroke-width: 0.8\"/>\n      </g>\n     </g>\n     <g id=\"text_7\">\n      <!-- 0.0 -->\n      <g transform=\"translate(20.878125 256.976368) scale(0.1 -0.1)\">\n       <use xlink:href=\"#DejaVuSans-30\"/>\n       <use xlink:href=\"#DejaVuSans-2e\" x=\"63.623047\"/>\n       <use xlink:href=\"#DejaVuSans-30\" x=\"95.410156\"/>\n      </g>\n     </g>\n    </g>\n    <g id=\"ytick_2\">\n     <g id=\"line2d_7\">\n      <g>\n       <use xlink:href=\"#mf93340c784\" x=\"43.78125\" y=\"218.580302\" style=\"stroke: #000000; stroke-width: 0.8\"/>\n      </g>\n     </g>\n     <g id=\"text_8\">\n      <!-- 0.1 -->\n      <g transform=\"translate(20.878125 222.37952) scale(0.1 -0.1)\">\n       <use xlink:href=\"#DejaVuSans-30\"/>\n       <use xlink:href=\"#DejaVuSans-2e\" x=\"63.623047\"/>\n       <use xlink:href=\"#DejaVuSans-31\" x=\"95.410156\"/>\n      </g>\n     </g>\n    </g>\n    <g id=\"ytick_3\">\n     <g id=\"line2d_8\">\n      <g>\n       <use xlink:href=\"#mf93340c784\" x=\"43.78125\" y=\"183.983455\" style=\"stroke: #000000; stroke-width: 0.8\"/>\n      </g>\n     </g>\n     <g id=\"text_9\">\n      <!-- 0.2 -->\n      <g transform=\"translate(20.878125 187.782673) scale(0.1 -0.1)\">\n       <use xlink:href=\"#DejaVuSans-30\"/>\n       <use xlink:href=\"#DejaVuSans-2e\" x=\"63.623047\"/>\n       <use xlink:href=\"#DejaVuSans-32\" x=\"95.410156\"/>\n      </g>\n     </g>\n    </g>\n    <g id=\"ytick_4\">\n     <g id=\"line2d_9\">\n      <g>\n       <use xlink:href=\"#mf93340c784\" x=\"43.78125\" y=\"149.386607\" style=\"stroke: #000000; stroke-width: 0.8\"/>\n      </g>\n     </g>\n     <g id=\"text_10\">\n      <!-- 0.3 -->\n      <g transform=\"translate(20.878125 153.185826) scale(0.1 -0.1)\">\n       <use xlink:href=\"#DejaVuSans-30\"/>\n       <use xlink:href=\"#DejaVuSans-2e\" x=\"63.623047\"/>\n       <use xlink:href=\"#DejaVuSans-33\" x=\"95.410156\"/>\n      </g>\n     </g>\n    </g>\n    <g id=\"ytick_5\">\n     <g id=\"line2d_10\">\n      <g>\n       <use xlink:href=\"#mf93340c784\" x=\"43.78125\" y=\"114.78976\" style=\"stroke: #000000; stroke-width: 0.8\"/>\n      </g>\n     </g>\n     <g id=\"text_11\">\n      <!-- 0.4 -->\n      <g transform=\"translate(20.878125 118.588979) scale(0.1 -0.1)\">\n       <use xlink:href=\"#DejaVuSans-30\"/>\n       <use xlink:href=\"#DejaVuSans-2e\" x=\"63.623047\"/>\n       <use xlink:href=\"#DejaVuSans-34\" x=\"95.410156\"/>\n      </g>\n     </g>\n    </g>\n    <g id=\"ytick_6\">\n     <g id=\"line2d_11\">\n      <g>\n       <use xlink:href=\"#mf93340c784\" x=\"43.78125\" y=\"80.192913\" style=\"stroke: #000000; stroke-width: 0.8\"/>\n      </g>\n     </g>\n     <g id=\"text_12\">\n      <!-- 0.5 -->\n      <g transform=\"translate(20.878125 83.992132) scale(0.1 -0.1)\">\n       <defs>\n        <path id=\"DejaVuSans-35\" d=\"M 691 4666 \nL 3169 4666 \nL 3169 4134 \nL 1269 4134 \nL 1269 2991 \nQ 1406 3038 1543 3061 \nQ 1681 3084 1819 3084 \nQ 2600 3084 3056 2656 \nQ 3513 2228 3513 1497 \nQ 3513 744 3044 326 \nQ 2575 -91 1722 -91 \nQ 1428 -91 1123 -41 \nQ 819 9 494 109 \nL 494 744 \nQ 775 591 1075 516 \nQ 1375 441 1709 441 \nQ 2250 441 2565 725 \nQ 2881 1009 2881 1497 \nQ 2881 1984 2565 2268 \nQ 2250 2553 1709 2553 \nQ 1456 2553 1204 2497 \nQ 953 2441 691 2322 \nL 691 4666 \nz\n\" transform=\"scale(0.015625)\"/>\n       </defs>\n       <use xlink:href=\"#DejaVuSans-30\"/>\n       <use xlink:href=\"#DejaVuSans-2e\" x=\"63.623047\"/>\n       <use xlink:href=\"#DejaVuSans-35\" x=\"95.410156\"/>\n      </g>\n     </g>\n    </g>\n    <g id=\"ytick_7\">\n     <g id=\"line2d_12\">\n      <g>\n       <use xlink:href=\"#mf93340c784\" x=\"43.78125\" y=\"45.596066\" style=\"stroke: #000000; stroke-width: 0.8\"/>\n      </g>\n     </g>\n     <g id=\"text_13\">\n      <!-- 0.6 -->\n      <g transform=\"translate(20.878125 49.395285) scale(0.1 -0.1)\">\n       <defs>\n        <path id=\"DejaVuSans-36\" d=\"M 2113 2584 \nQ 1688 2584 1439 2293 \nQ 1191 2003 1191 1497 \nQ 1191 994 1439 701 \nQ 1688 409 2113 409 \nQ 2538 409 2786 701 \nQ 3034 994 3034 1497 \nQ 3034 2003 2786 2293 \nQ 2538 2584 2113 2584 \nz\nM 3366 4563 \nL 3366 3988 \nQ 3128 4100 2886 4159 \nQ 2644 4219 2406 4219 \nQ 1781 4219 1451 3797 \nQ 1122 3375 1075 2522 \nQ 1259 2794 1537 2939 \nQ 1816 3084 2150 3084 \nQ 2853 3084 3261 2657 \nQ 3669 2231 3669 1497 \nQ 3669 778 3244 343 \nQ 2819 -91 2113 -91 \nQ 1303 -91 875 529 \nQ 447 1150 447 2328 \nQ 447 3434 972 4092 \nQ 1497 4750 2381 4750 \nQ 2619 4750 2861 4703 \nQ 3103 4656 3366 4563 \nz\n\" transform=\"scale(0.015625)\"/>\n       </defs>\n       <use xlink:href=\"#DejaVuSans-30\"/>\n       <use xlink:href=\"#DejaVuSans-2e\" x=\"63.623047\"/>\n       <use xlink:href=\"#DejaVuSans-36\" x=\"95.410156\"/>\n      </g>\n     </g>\n    </g>\n    <g id=\"ytick_8\">\n     <g id=\"line2d_13\">\n      <g>\n       <use xlink:href=\"#mf93340c784\" x=\"43.78125\" y=\"10.999219\" style=\"stroke: #000000; stroke-width: 0.8\"/>\n      </g>\n     </g>\n     <g id=\"text_14\">\n      <!-- 0.7 -->\n      <g transform=\"translate(20.878125 14.798438) scale(0.1 -0.1)\">\n       <defs>\n        <path id=\"DejaVuSans-37\" d=\"M 525 4666 \nL 3525 4666 \nL 3525 4397 \nL 1831 0 \nL 1172 0 \nL 2766 4134 \nL 525 4134 \nL 525 4666 \nz\n\" transform=\"scale(0.015625)\"/>\n       </defs>\n       <use xlink:href=\"#DejaVuSans-30\"/>\n       <use xlink:href=\"#DejaVuSans-2e\" x=\"63.623047\"/>\n       <use xlink:href=\"#DejaVuSans-37\" x=\"95.410156\"/>\n      </g>\n     </g>\n    </g>\n    <g id=\"text_15\">\n     <!-- w1 -->\n     <g transform=\"translate(14.798438 148.86615) rotate(-90) scale(0.1 -0.1)\">\n      <use xlink:href=\"#DejaVuSans-77\"/>\n      <use xlink:href=\"#DejaVuSans-31\" x=\"81.787109\"/>\n     </g>\n    </g>\n   </g>\n   <g id=\"patch_122\">\n    <path d=\"M 43.78125 274.651837 \nL 43.78125 8.539837 \n\" style=\"fill: none; stroke: #000000; stroke-width: 0.8; stroke-linejoin: miter; stroke-linecap: square\"/>\n   </g>\n   <g id=\"patch_123\">\n    <path d=\"M 400.90125 274.651837 \nL 400.90125 8.539837 \n\" style=\"fill: none; stroke: #000000; stroke-width: 0.8; stroke-linejoin: miter; stroke-linecap: square\"/>\n   </g>\n   <g id=\"patch_124\">\n    <path d=\"M 43.78125 274.651837 \nL 400.90125 274.651837 \n\" style=\"fill: none; stroke: #000000; stroke-width: 0.8; stroke-linejoin: miter; stroke-linecap: square\"/>\n   </g>\n   <g id=\"patch_125\">\n    <path d=\"M 43.78125 8.539837 \nL 400.90125 8.539837 \n\" style=\"fill: none; stroke: #000000; stroke-width: 0.8; stroke-linejoin: miter; stroke-linecap: square\"/>\n   </g>\n  </g>\n </g>\n <defs>\n  <clipPath id=\"p926b9e40c4\">\n   <rect x=\"43.78125\" y=\"8.539837\" width=\"357.12\" height=\"266.112\"/>\n  </clipPath>\n </defs>\n</svg>\n"
          },
          "metadata": {}
        }
      ],
      "source": [
        "%config InlineBackend.figure_format = 'svg'\n",
        "plt.scatter(w0_list,w1_list)\n",
        "w0_old = None\n",
        "for (w0,w1) in zip(w0_list,w1_list):\n",
        "    if w0_old:\n",
        "        plt.arrow(w0_old, w1_old, w0-w0_old, w1-w1_old,\n",
        "                  head_length=0.01,head_width=0.01,shape='full',\n",
        "                  length_includes_head=True)\n",
        "    w0_old,w1_old = w0,w1\n",
        "\n",
        "plt.xlabel('w0')\n",
        "plt.ylabel('w1')\n",
        "plt.show()"
      ]
    },
    {
      "cell_type": "markdown",
      "metadata": {
        "id": "aCpMAKMnDYpW"
      },
      "source": [
        "<details>\n",
        "<summary>Mostrar Resultado</summary>\n",
        "\n",
        "```python\n",
        "plt.scatter(w0_list,w1_list)\n",
        "w0_old = None\n",
        "for (w0,w1) in zip(w0_list,w1_list):\n",
        "    if w0_old:\n",
        "        plt.arrow(w0_old, w1_old, w0-w0_old, w1-w1_old,\n",
        "                  head_length=0.01,head_width=0.01,shape='full',\n",
        "                  length_includes_head=True)\n",
        "    w0_old,w1_old = w0,w1\n",
        "```\n",
        "\n",
        "</details>"
      ]
    },
    {
      "cell_type": "markdown",
      "metadata": {
        "id": "P_si86jRH3bw"
      },
      "source": [
        "# Aprendizados"
      ]
    },
    {
      "cell_type": "markdown",
      "metadata": {
        "collapsed": true,
        "id": "rrRR4zs3H3bx"
      },
      "source": []
    }
  ],
  "metadata": {
    "colab": {
      "provenance": []
    },
    "kernelspec": {
      "display_name": "Python 3.10.2 64-bit",
      "language": "python",
      "name": "python3"
    },
    "language_info": {
      "name": "python",
      "version": "3.10.2"
    },
    "vscode": {
      "interpreter": {
        "hash": "5fe3e6f0cdaab8afdc61c52912fda83f7c0a71baaea1897dd7498e2df01e69ec"
      }
    }
  },
  "nbformat": 4,
  "nbformat_minor": 0
}
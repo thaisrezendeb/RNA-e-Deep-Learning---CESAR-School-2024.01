{
 "cells": [
  {
   "cell_type": "markdown",
   "metadata": {
    "id": "5yQgzdjbf9RT"
   },
   "source": [
    "# Regressão Linear com NumPy"
   ]
  },
  {
   "cell_type": "markdown",
   "metadata": {
    "heading_collapsed": true,
    "id": "p5HfrYM3f9RU"
   },
   "source": [
    "## Objetivos deste experimento"
   ]
  },
  {
   "cell_type": "markdown",
   "metadata": {
    "hidden": true,
    "id": "IIYC2db7f9RW"
   },
   "source": [
    "Este exemplo utiliza regressão linear para estimar o comprimento das sépalas da íris a partir do seu comprimento das pétalas.\n",
    "Utiliza-se programação totalmente NumPy com:\n",
    "- o **cálculo do gradiente**,\n",
    "- a **função de perda** e\n",
    "- a atualização dos parâmetros são feitos de forma explícita.\n",
    "- A rede é criada com uma camada como uma classe"
   ]
  },
  {
   "cell_type": "markdown",
   "metadata": {
    "hidden": true,
    "id": "ImJOZIiNf9RW"
   },
   "source": [
    "![alt text](https://raw.githubusercontent.com/vcasadei/images/master/RegressaoLinear_Otimizacao.png)"
   ]
  },
  {
   "cell_type": "markdown",
   "metadata": {
    "heading_collapsed": true,
    "id": "EeTHWCuMf9RX"
   },
   "source": [
    "## Importação dos pacotes"
   ]
  },
  {
   "cell_type": "code",
   "execution_count": 1,
   "metadata": {
    "ExecuteTime": {
     "end_time": "2017-10-08T11:19:38.728936Z",
     "start_time": "2017-10-08T11:19:36.888541Z"
    },
    "hidden": true,
    "id": "5yPytaCLf9RY"
   },
   "outputs": [],
   "source": [
    "%matplotlib inline\n",
    "import matplotlib.pyplot as plt   # para plotting\n",
    "\n",
    "from sklearn.datasets import load_iris  # para carregar dataset\n",
    "\n",
    "import numpy as np  # processamento matricial\n",
    "\n",
    "np.random.seed(1234)"
   ]
  },
  {
   "cell_type": "markdown",
   "metadata": {
    "heading_collapsed": true,
    "id": "wDkSLSnmf9Rc"
   },
   "source": [
    "## Dataset"
   ]
  },
  {
   "cell_type": "markdown",
   "metadata": {
    "heading_collapsed": true,
    "hidden": true,
    "id": "ldcOnrBvf9Rd"
   },
   "source": [
    "### Leitura dos dados"
   ]
  },
  {
   "cell_type": "code",
   "execution_count": 2,
   "metadata": {
    "ExecuteTime": {
     "end_time": "2017-10-08T11:19:38.747769Z",
     "start_time": "2017-10-08T11:19:38.730907Z"
    },
    "colab": {
     "base_uri": "https://localhost:8080/"
    },
    "hidden": true,
    "id": "l3t1qaa0f9Re",
    "outputId": "764cab7f-4f3f-4ef2-8f76-8c659bdac4f0"
   },
   "outputs": [
    {
     "name": "stdout",
     "output_type": "stream",
     "text": [
      "x_train.shape: (50, 1) float64\n",
      "y_train.shape: (50, 1) float64\n",
      "x_train[:5]:\n",
      " [[7. ]\n",
      " [6.4]\n",
      " [6.9]\n",
      " [5.5]\n",
      " [6.5]]\n",
      "y_train[:5]:\n",
      " [[4.7]\n",
      " [4.5]\n",
      " [4.9]\n",
      " [4. ]\n",
      " [4.6]]\n"
     ]
    }
   ],
   "source": [
    "iris = load_iris()\n",
    "data = iris.data[iris.target==1,::2]  # comprimento das sépalas e pétalas, indices 0 e 2\n",
    "\n",
    "x_train = data[:,0:1]\n",
    "y_train = data[:,1:2]\n",
    "\n",
    "n_samples = x_train.shape[0]\n",
    "print('x_train.shape:',x_train.shape, x_train.dtype)\n",
    "print('y_train.shape:',y_train.shape, y_train.dtype)\n",
    "\n",
    "print('x_train[:5]:\\n', x_train[:5])\n",
    "print('y_train[:5]:\\n', y_train[:5])"
   ]
  },
  {
   "cell_type": "markdown",
   "metadata": {
    "hidden": true,
    "id": "aPQ-L6FVf9Rk"
   },
   "source": [
    "### Normalização dos dados"
   ]
  },
  {
   "cell_type": "code",
   "execution_count": 3,
   "metadata": {
    "ExecuteTime": {
     "end_time": "2017-10-08T11:19:38.756343Z",
     "start_time": "2017-10-08T11:19:38.750395Z"
    },
    "hidden": true,
    "id": "POM323GEf9Rl"
   },
   "outputs": [],
   "source": [
    "x_train -= x_train.min()\n",
    "x_train /= x_train.max()\n",
    "y_train -= y_train.min()\n",
    "y_train /= y_train.max()"
   ]
  },
  {
   "cell_type": "code",
   "execution_count": 4,
   "metadata": {
    "ExecuteTime": {
     "end_time": "2017-10-08T11:19:39.127199Z",
     "start_time": "2017-10-08T11:19:38.759104Z"
    },
    "colab": {
     "base_uri": "https://localhost:8080/",
     "height": 466
    },
    "hidden": true,
    "id": "dx5AO9Qxf9Rn",
    "outputId": "f1274b8c-f15e-4475-9405-16aafcd958cb"
   },
   "outputs": [
    {
     "data": {
      "text/plain": [
       "Text(0, 0.5, 'Comprimento petalas')"
      ]
     },
     "execution_count": 4,
     "metadata": {},
     "output_type": "execute_result"
    },
    {
     "data": {
      "image/png": "[encoded data removed]",
      "text/plain": [
       "<Figure size 640x480 with 1 Axes>"
      ]
     },
     "metadata": {},
     "output_type": "display_data"
    }
   ],
   "source": [
    "plt.scatter(x_train,y_train)\n",
    "plt.xlabel('Comprimento sepalas')\n",
    "plt.ylabel('Comprimento petalas')"
   ]
  },
  {
   "cell_type": "markdown",
   "metadata": {
    "heading_collapsed": true,
    "id": "poW81teqf9Rr"
   },
   "source": [
    "## Modelo da rede"
   ]
  },
  {
   "cell_type": "markdown",
   "metadata": {
    "hidden": true,
    "id": "QXFLlJ0_f9Rt"
   },
   "source": [
    "### Reta de ajuste"
   ]
  },
  {
   "cell_type": "markdown",
   "metadata": {
    "hidden": true,
    "id": "s7JuPXysf9Rt"
   },
   "source": [
    "A equação da reta no plano necessita de dois parâmetros, aqui denominados $w_0$ (*bias*) e inclinação $w_1$. Veja figura:\n",
    "\n",
    "![alt text](https://raw.githubusercontent.com/vcasadei/images/master/linhareta.png)\n",
    "\n",
    "A reta de ajuste será dada por:\n",
    "\n",
    "$$ \\hat{y} = w_0 + w_1 x $$\n",
    "\n",
    "onde\n",
    "* $w_1$ é o coeficiente angular da reta e\n",
    "* $w_0$ é a interseção do eixo vertical quando x é igual a zero, também denominado de *bias*.\n",
    "* $x$ é a variável de entrada (comprimento das sépalas) e\n",
    "* $\\hat{y}$ é a predição (comprimento estimado das pétalas)."
   ]
  },
  {
   "cell_type": "markdown",
   "metadata": {
    "hidden": true,
    "id": "hwin_xPff9Ru"
   },
   "source": [
    "### Linear Regression Model"
   ]
  },
  {
   "cell_type": "markdown",
   "metadata": {
    "hidden": true,
    "id": "c7ilOLnkf9Rw"
   },
   "source": [
    "![alt text](https://raw.githubusercontent.com/vcasadei/images/master/RegressaoLinearNeuronio.png)"
   ]
  },
  {
   "cell_type": "markdown",
   "metadata": {
    "hidden": true,
    "id": "H0CzMB91f9Rx"
   },
   "source": [
    "### Formulação matricial do neurônio"
   ]
  },
  {
   "cell_type": "markdown",
   "metadata": {
    "hidden": true,
    "id": "-wWz_wpYf9Ry"
   },
   "source": [
    "* $\\mathbf{w} = [w_0 \\ w_1]$ é vetor linha de parâmetros e\n",
    "* $\\mathbf{x} = [1 \\ x_0] $ é vetor linha de uma amostra (com *bias*).\n",
    "\n",
    "$$ \\hat{y} = 1 w_0 + x_0 w_1 $$\n",
    "\n",
    "$$ [\\hat{y}] = [1 \\ x_0] \\begin{bmatrix} w_0 \\\\ w_1 \\end{bmatrix} $$\n",
    "\n",
    "$$ \\mathbf{\\hat{y}} = \\mathbf{x} \\mathbf{w^T} $$"
   ]
  },
  {
   "cell_type": "markdown",
   "metadata": {
    "hidden": true,
    "id": "rQ1lc-dYf9Rz"
   },
   "source": [
    "### Fazendo o predict de várias amostras"
   ]
  },
  {
   "cell_type": "markdown",
   "metadata": {
    "hidden": true,
    "id": "fh068Clrf9R0"
   },
   "source": [
    "$$ \\begin{matrix}\n",
    "\\begin{bmatrix}\n",
    "\\hat{y}_0\\\\\n",
    "\\hat{y}_1\\\\\n",
    "\\\\\n",
    "\\hat{y}_{M-1}\n",
    "\\end{bmatrix} &=& \\begin{bmatrix}\n",
    "1 & x_0 \\\\\n",
    "1 & x_1\\\\\n",
    "\\\\\n",
    "1 & x_{M-1} \\\\\n",
    "\\end{bmatrix}\n",
    "&\n",
    "\\begin{bmatrix}\n",
    "w_0\\\\\n",
    "w_1\n",
    "\\end{bmatrix} \\\\\n",
    "(M,1) & & (M,2) & (2,1) \\\\\n",
    "\\end{matrix} $$"
   ]
  },
  {
   "cell_type": "markdown",
   "metadata": {
    "hidden": true,
    "id": "jjSchAsZf9R2"
   },
   "source": [
    "### Preenchendo x com coluna de 1's para bias"
   ]
  },
  {
   "cell_type": "code",
   "execution_count": 5,
   "metadata": {
    "ExecuteTime": {
     "end_time": "2017-10-08T11:19:39.135089Z",
     "start_time": "2017-10-08T11:19:39.129385Z"
    },
    "hidden": true,
    "id": "plZEY5-tf9R2"
   },
   "outputs": [],
   "source": [
    "x_train_bias = np.hstack([np.ones(shape=(n_samples,1)), x_train])"
   ]
  },
  {
   "cell_type": "code",
   "execution_count": 6,
   "metadata": {
    "colab": {
     "base_uri": "https://localhost:8080/"
    },
    "id": "tXYx3JdMf9R6",
    "outputId": "e5d92889-afcd-4258-b6f8-94fb38a5e1f8"
   },
   "outputs": [
    {
     "data": {
      "text/plain": [
       "array([[1.        , 1.        ],\n",
       "       [1.        , 0.71428571],\n",
       "       [1.        , 0.95238095],\n",
       "       [1.        , 0.28571429],\n",
       "       [1.        , 0.76190476],\n",
       "       [1.        , 0.38095238],\n",
       "       [1.        , 0.66666667],\n",
       "       [1.        , 0.        ],\n",
       "       [1.        , 0.80952381],\n",
       "       [1.        , 0.14285714],\n",
       "       [1.        , 0.04761905],\n",
       "       [1.        , 0.47619048],\n",
       "       [1.        , 0.52380952],\n",
       "       [1.        , 0.57142857],\n",
       "       [1.        , 0.33333333],\n",
       "       [1.        , 0.85714286],\n",
       "       [1.        , 0.33333333],\n",
       "       [1.        , 0.42857143],\n",
       "       [1.        , 0.61904762],\n",
       "       [1.        , 0.33333333],\n",
       "       [1.        , 0.47619048],\n",
       "       [1.        , 0.57142857],\n",
       "       [1.        , 0.66666667],\n",
       "       [1.        , 0.57142857],\n",
       "       [1.        , 0.71428571],\n",
       "       [1.        , 0.80952381],\n",
       "       [1.        , 0.9047619 ],\n",
       "       [1.        , 0.85714286],\n",
       "       [1.        , 0.52380952],\n",
       "       [1.        , 0.38095238],\n",
       "       [1.        , 0.28571429],\n",
       "       [1.        , 0.28571429],\n",
       "       [1.        , 0.42857143],\n",
       "       [1.        , 0.52380952],\n",
       "       [1.        , 0.23809524],\n",
       "       [1.        , 0.52380952],\n",
       "       [1.        , 0.85714286],\n",
       "       [1.        , 0.66666667],\n",
       "       [1.        , 0.33333333],\n",
       "       [1.        , 0.28571429],\n",
       "       [1.        , 0.28571429],\n",
       "       [1.        , 0.57142857],\n",
       "       [1.        , 0.42857143],\n",
       "       [1.        , 0.04761905],\n",
       "       [1.        , 0.33333333],\n",
       "       [1.        , 0.38095238],\n",
       "       [1.        , 0.38095238],\n",
       "       [1.        , 0.61904762],\n",
       "       [1.        , 0.0952381 ],\n",
       "       [1.        , 0.38095238]])"
      ]
     },
     "execution_count": 6,
     "metadata": {},
     "output_type": "execute_result"
    }
   ],
   "source": [
    "x_train_bias"
   ]
  },
  {
   "cell_type": "markdown",
   "metadata": {
    "hidden": true,
    "id": "GOtS_8OSf9SC"
   },
   "source": [
    "### Classe com o modelo da rede"
   ]
  },
  {
   "cell_type": "code",
   "execution_count": 7,
   "metadata": {
    "ExecuteTime": {
     "end_time": "2017-10-08T11:19:39.143879Z",
     "start_time": "2017-10-08T11:19:39.137134Z"
    },
    "hidden": true,
    "id": "aKLVIQUtf9SD"
   },
   "outputs": [],
   "source": [
    "class Net():\n",
    "    def __init__(self, n_in, n_out):\n",
    "        self.w = np.random.uniform(-0.1,0.1,(n_out,n_in)) #inicialização dos parâmetros\n",
    "\n",
    "    def forward(self, x_bias):\n",
    "        return x_bias.dot(self.w.T)"
   ]
  },
  {
   "cell_type": "markdown",
   "metadata": {
    "hidden": true,
    "id": "0j0hN9l_f9SH"
   },
   "source": [
    "### Criando a rede, instanciando o objeto model"
   ]
  },
  {
   "cell_type": "code",
   "execution_count": 8,
   "metadata": {
    "ExecuteTime": {
     "end_time": "2017-10-08T11:19:39.151717Z",
     "start_time": "2017-10-08T11:19:39.146858Z"
    },
    "hidden": true,
    "id": "5o5Zkqn5f9SI"
   },
   "outputs": [],
   "source": [
    "model = Net(2,1) # duas entradas (1 + x0) e uma saída y_pred"
   ]
  },
  {
   "cell_type": "markdown",
   "metadata": {
    "hidden": true,
    "id": "F3yolUOGf9SL"
   },
   "source": [
    "### Testando o predict da rede (mesmo sem treiná-la)"
   ]
  },
  {
   "cell_type": "code",
   "execution_count": 9,
   "metadata": {
    "ExecuteTime": {
     "end_time": "2017-10-08T11:19:39.162189Z",
     "start_time": "2017-10-08T11:19:39.156018Z"
    },
    "colab": {
     "base_uri": "https://localhost:8080/"
    },
    "hidden": true,
    "id": "BzkEurfof9SN",
    "outputId": "083a3efd-2a95-4d05-d519-4adb0b59d639"
   },
   "outputs": [
    {
     "data": {
      "text/plain": [
       "array([[-0.09602795],\n",
       "       [ 0.0661236 ],\n",
       "       [-0.06857828],\n",
       "       [-0.05573871]])"
      ]
     },
     "execution_count": 9,
     "metadata": {},
     "output_type": "execute_result"
    }
   ],
   "source": [
    "xin = np.random.randn(4,2) # 4 amostras, 2 entradas (1 + x0)\n",
    "ypred = model.forward(xin)\n",
    "ypred"
   ]
  },
  {
   "cell_type": "markdown",
   "metadata": {
    "heading_collapsed": true,
    "id": "edoSiy--f9SS"
   },
   "source": [
    "## Treinamento via gradiente descendente"
   ]
  },
  {
   "cell_type": "markdown",
   "metadata": {
    "hidden": true,
    "id": "SnkXXFref9ST"
   },
   "source": [
    "Função de perda:\n",
    "$$ J(\\hat{y_i},y_i) = \\frac{1}{M} \\sum_{i=0}^{M-1} (\\hat{y_i} - y_i)^2 $$"
   ]
  },
  {
   "cell_type": "markdown",
   "metadata": {
    "ExecuteTime": {
     "end_time": "2017-10-05T14:05:06.244776",
     "start_time": "2017-10-05T14:05:06.240743"
    },
    "hidden": true,
    "id": "6W5QcPwUf9SU"
   },
   "source": [
    "Gradiente:\n",
    "$$  \\mathbf{\\nabla{J_w}} = \\frac{2}{M}\\mathbf{x^T}(\\mathbf{x w^T} - \\mathbf{y}) $$"
   ]
  },
  {
   "cell_type": "markdown",
   "metadata": {
    "ExecuteTime": {
     "end_time": "2017-10-05T14:06:17.929718",
     "start_time": "2017-10-05T14:06:17.925519"
    },
    "hidden": true,
    "id": "6OoQuuvAf9SU"
   },
   "source": [
    "Atualização dos parâmetros pelo gradiente descendente:\n",
    "$$ \\mathbf{w} = \\mathbf{w} − \\eta (\\mathbf{\\nabla J_w})^T $$"
   ]
  },
  {
   "cell_type": "markdown",
   "metadata": {
    "hidden": true,
    "id": "YM0fEnAdf9SW"
   },
   "source": [
    "### Laço de treinamento"
   ]
  },
  {
   "cell_type": "code",
   "execution_count": 10,
   "metadata": {
    "ExecuteTime": {
     "end_time": "2017-10-08T11:19:39.183784Z",
     "start_time": "2017-10-08T11:19:39.165347Z"
    },
    "colab": {
     "base_uri": "https://localhost:8080/"
    },
    "hidden": true,
    "id": "BiCGgqp6f9SX",
    "outputId": "f5b7bb73-9768-4ed4-aa75-13affa73d422",
    "scrolled": false
   },
   "outputs": [
    {
     "name": "stdout",
     "output_type": "stream",
     "text": [
      "Epoch[1/100], loss: 0.469163\n",
      "Epoch[2/100], loss: 0.058070\n",
      "Epoch[3/100], loss: 0.030543\n",
      "Epoch[4/100], loss: 0.028105\n",
      "Epoch[5/100], loss: 0.027364\n",
      "Epoch[6/100], loss: 0.026787\n",
      "Epoch[7/100], loss: 0.026269\n",
      "Epoch[8/100], loss: 0.025799\n",
      "Epoch[9/100], loss: 0.025373\n",
      "Epoch[10/100], loss: 0.024986\n",
      "Epoch[11/100], loss: 0.024634\n",
      "Epoch[12/100], loss: 0.024315\n",
      "Epoch[13/100], loss: 0.024025\n",
      "Epoch[14/100], loss: 0.023762\n",
      "Epoch[15/100], loss: 0.023524\n",
      "Epoch[16/100], loss: 0.023307\n",
      "Epoch[17/100], loss: 0.023110\n",
      "Epoch[18/100], loss: 0.022931\n",
      "Epoch[19/100], loss: 0.022769\n",
      "Epoch[20/100], loss: 0.022622\n",
      "Epoch[21/100], loss: 0.022488\n",
      "Epoch[22/100], loss: 0.022366\n",
      "Epoch[23/100], loss: 0.022256\n",
      "Epoch[24/100], loss: 0.022156\n",
      "Epoch[25/100], loss: 0.022065\n",
      "Epoch[26/100], loss: 0.021983\n",
      "Epoch[27/100], loss: 0.021908\n",
      "Epoch[28/100], loss: 0.021840\n",
      "Epoch[29/100], loss: 0.021778\n",
      "Epoch[30/100], loss: 0.021722\n",
      "Epoch[31/100], loss: 0.021671\n",
      "Epoch[32/100], loss: 0.021625\n",
      "Epoch[33/100], loss: 0.021583\n",
      "Epoch[34/100], loss: 0.021545\n",
      "Epoch[35/100], loss: 0.021510\n",
      "Epoch[36/100], loss: 0.021479\n",
      "Epoch[37/100], loss: 0.021450\n",
      "Epoch[38/100], loss: 0.021425\n",
      "Epoch[39/100], loss: 0.021401\n",
      "Epoch[40/100], loss: 0.021380\n",
      "Epoch[41/100], loss: 0.021360\n",
      "Epoch[42/100], loss: 0.021343\n",
      "Epoch[43/100], loss: 0.021327\n",
      "Epoch[44/100], loss: 0.021312\n",
      "Epoch[45/100], loss: 0.021299\n",
      "Epoch[46/100], loss: 0.021287\n",
      "Epoch[47/100], loss: 0.021276\n",
      "Epoch[48/100], loss: 0.021267\n",
      "Epoch[49/100], loss: 0.021258\n",
      "Epoch[50/100], loss: 0.021249\n",
      "Epoch[51/100], loss: 0.021242\n",
      "Epoch[52/100], loss: 0.021235\n",
      "Epoch[53/100], loss: 0.021229\n",
      "Epoch[54/100], loss: 0.021224\n",
      "Epoch[55/100], loss: 0.021219\n",
      "Epoch[56/100], loss: 0.021214\n",
      "Epoch[57/100], loss: 0.021210\n",
      "Epoch[58/100], loss: 0.021206\n",
      "Epoch[59/100], loss: 0.021203\n",
      "Epoch[60/100], loss: 0.021200\n",
      "Epoch[61/100], loss: 0.021197\n",
      "Epoch[62/100], loss: 0.021195\n",
      "Epoch[63/100], loss: 0.021192\n",
      "Epoch[64/100], loss: 0.021190\n",
      "Epoch[65/100], loss: 0.021188\n",
      "Epoch[66/100], loss: 0.021186\n",
      "Epoch[67/100], loss: 0.021185\n",
      "Epoch[68/100], loss: 0.021183\n",
      "Epoch[69/100], loss: 0.021182\n",
      "Epoch[70/100], loss: 0.021181\n",
      "Epoch[71/100], loss: 0.021180\n",
      "Epoch[72/100], loss: 0.021179\n",
      "Epoch[73/100], loss: 0.021178\n",
      "Epoch[74/100], loss: 0.021177\n",
      "Epoch[75/100], loss: 0.021177\n",
      "Epoch[76/100], loss: 0.021176\n",
      "Epoch[77/100], loss: 0.021175\n",
      "Epoch[78/100], loss: 0.021175\n",
      "Epoch[79/100], loss: 0.021174\n",
      "Epoch[80/100], loss: 0.021174\n",
      "Epoch[81/100], loss: 0.021173\n",
      "Epoch[82/100], loss: 0.021173\n",
      "Epoch[83/100], loss: 0.021173\n",
      "Epoch[84/100], loss: 0.021172\n",
      "Epoch[85/100], loss: 0.021172\n",
      "Epoch[86/100], loss: 0.021172\n",
      "Epoch[87/100], loss: 0.021172\n",
      "Epoch[88/100], loss: 0.021171\n",
      "Epoch[89/100], loss: 0.021171\n",
      "Epoch[90/100], loss: 0.021171\n",
      "Epoch[91/100], loss: 0.021171\n",
      "Epoch[92/100], loss: 0.021171\n",
      "Epoch[93/100], loss: 0.021171\n",
      "Epoch[94/100], loss: 0.021171\n",
      "Epoch[95/100], loss: 0.021170\n",
      "Epoch[96/100], loss: 0.021170\n",
      "Epoch[97/100], loss: 0.021170\n",
      "Epoch[98/100], loss: 0.021170\n",
      "Epoch[99/100], loss: 0.021170\n",
      "Epoch[100/100], loss: 0.021170\n",
      "[0.46916299392848965, 0.05806978503728478, 0.030542871208658035, 0.028105420739894495, 0.027363927019010567, 0.026786724330353836, 0.026268944171237815, 0.025799259233654476, 0.02537285807398961, 0.024985729416175287, 0.024634254709223077, 0.024315150183763047, 0.024025434598693884, 0.023762401286205326, 0.02352359285803643, 0.023306778246893093, 0.02310993186267746, 0.022931214668414426, 0.02276895699905198, 0.02262164296261862, 0.022487896278005435, 0.022366467417062434, 0.022256221930884158, 0.022156129851222874, 0.02206525606801219, 0.021982751593103016, 0.021907845628593346, 0.02183983836565032, 0.021778094446547536, 0.02172203702883664, 0.02167114239619789, 0.021624935065621367, 0.02158298334520787, 0.021544895301088166, 0.021510315095781572, 0.02147891966378488, 0.021450415693333596, 0.021424536886137276, 0.021401041469488243, 0.021379709937500557, 0.021360343000376657, 0.021342759722542806, 0.021326795832258844, 0.02131230218690975, 0.02129914337964105, 0.021287196474320532, 0.02127634985700767, 0.021266502193200556, 0.02125756148111857, 0.021249444192175858, 0.021242074490615707, 0.021235383525015125, 0.021229308785040542, 0.021223793517445147, 0.02121878619585178, 0.02121424003936786, 0.021210112575534956, 0.021206365243529965, 0.021202963033910657, 0.021199874161540046, 0.021197069768633812, 0.021194523655156495, 0.021192212034047708, 0.02119011330899158, 0.021188207872653204, 0.021186477923497184, 0.021184907299476755, 0.021183481327039975, 0.02118218668404202, 0.021181011275283098, 0.021179944119509107, 0.021178975246819224, 0.02117809560552215, 0.02117729697757074, 0.021176571901784833, 0.021175913604145277, 0.0211753159345076, 0.021174773309144343, 0.021174280658579056, 0.021173833380224768, 0.021173427295384285, 0.021173058610210765, 0.02117272388026364, 0.02117241997832902, 0.021172144065203655, 0.02117189356316969, 0.021171666131912334, 0.0211714596466555, 0.021171272178311055, 0.021171101975456342, 0.021170947447971527, 0.021170807152183856, 0.0211706797773802, 0.0211705641335617, 0.021170459140326194, 0.021170363816774583, 0.02117027727234675, 0.021170198698501553, 0.021170127361162992, 0.021170062593862105]\n"
     ]
    }
   ],
   "source": [
    "list_loss = []\n",
    "num_epochs = 100\n",
    "learning_rate = 0.5\n",
    "for epoch in range(num_epochs):\n",
    "\n",
    "    # forward - predict\n",
    "    y_pred = model.forward(x_train_bias)\n",
    "\n",
    "    #loss cálculo da função de perda\n",
    "    loss = np.square(y_pred - y_train).mean()\n",
    "    list_loss.append(loss)\n",
    "\n",
    "    # cálculo do gradiente pelas derivadas parciais\n",
    "    w_grad = (2.0/n_samples) * (x_train_bias.T).dot(x_train_bias.dot(model.w.T) - y_train)\n",
    "\n",
    "    # gradiente descendente\n",
    "    model.w = model.w - learning_rate * w_grad.T\n",
    "\n",
    "    # verbose\n",
    "    if (epoch+1) % 1 == 0:\n",
    "        print('Epoch[{}/{}], loss: {:.6f}'\n",
    "              .format(epoch+1, num_epochs, loss))\n",
    "\n",
    "print(list_loss)"
   ]
  },
  {
   "cell_type": "markdown",
   "metadata": {
    "heading_collapsed": true,
    "id": "1QGlDZABf9Sd"
   },
   "source": [
    "## Avaliação"
   ]
  },
  {
   "cell_type": "markdown",
   "metadata": {
    "hidden": true,
    "id": "6TIimlCmf9Si"
   },
   "source": [
    "### Predict"
   ]
  },
  {
   "cell_type": "code",
   "execution_count": 11,
   "metadata": {
    "ExecuteTime": {
     "end_time": "2017-10-08T11:19:39.408412Z",
     "start_time": "2017-10-08T11:19:39.186021Z"
    },
    "colab": {
     "base_uri": "https://localhost:8080/",
     "height": 447
    },
    "hidden": true,
    "id": "ToXwbrlsf9Sk",
    "outputId": "6cd02cf7-fa3d-4394-8393-cf2896bbc089"
   },
   "outputs": [
    {
     "data": {
      "text/plain": [
       "[<matplotlib.lines.Line2D at 0x7f5bdef32410>]"
      ]
     },
     "execution_count": 11,
     "metadata": {},
     "output_type": "execute_result"
    },
    {
     "data": {
      "image/png": "[encoded data removed]",
      "text/plain": [
       "<Figure size 640x480 with 1 Axes>"
      ]
     },
     "metadata": {},
     "output_type": "display_data"
    }
   ],
   "source": [
    "y_pred = model.forward(x_train_bias)\n",
    "plt.plot(x_train, y_train, 'ro', label='Original data')\n",
    "plt.plot(x_train, y_pred, 'kx-', label='Fitting Line')"
   ]
  },
  {
   "cell_type": "markdown",
   "metadata": {
    "hidden": true,
    "id": "kQ1hGdItf9So"
   },
   "source": [
    "### Parâmetros treinados"
   ]
  },
  {
   "cell_type": "code",
   "execution_count": 12,
   "metadata": {
    "ExecuteTime": {
     "end_time": "2017-10-08T11:19:39.417569Z",
     "start_time": "2017-10-08T11:19:39.411060Z"
    },
    "colab": {
     "base_uri": "https://localhost:8080/"
    },
    "hidden": true,
    "id": "IcEOxTg9f9Sp",
    "outputId": "ea06563e-859c-4342-deea-4f7eff498c67"
   },
   "outputs": [
    {
     "name": "stdout",
     "output_type": "stream",
     "text": [
      "[[0.26295353 0.68335641]]\n"
     ]
    }
   ],
   "source": [
    "print(model.w)"
   ]
  },
  {
   "cell_type": "markdown",
   "metadata": {
    "hidden": true,
    "id": "73n0qSOMf9Sr"
   },
   "source": [
    "### Avaliação do modelo"
   ]
  },
  {
   "cell_type": "code",
   "execution_count": 13,
   "metadata": {
    "colab": {
     "base_uri": "https://localhost:8080/"
    },
    "hidden": true,
    "id": "dI2TE8W6f9Ss",
    "outputId": "0b15e360-7bf3-445b-b53d-3aa6a874a567"
   },
   "outputs": [
    {
     "data": {
      "text/plain": [
       "0.02117000379151052"
      ]
     },
     "execution_count": 13,
     "metadata": {},
     "output_type": "execute_result"
    }
   ],
   "source": [
    "loss = np.square(y_pred - y_train).mean()\n",
    "loss"
   ]
  },
  {
   "cell_type": "markdown",
   "metadata": {
    "hidden": true,
    "id": "cv6q3ElSf9Sv"
   },
   "source": [
    "### Valor ótimo, solução analítica"
   ]
  },
  {
   "cell_type": "markdown",
   "metadata": {
    "hidden": true,
    "id": "qYgHOaNmf9Sv"
   },
   "source": [
    "$$  \\mathbf{w} =(\\mathbf{x^T} \\mathbf{x})^{−1}\\mathbf{x^T} \\mathbf{y} $$"
   ]
  },
  {
   "cell_type": "code",
   "execution_count": 14,
   "metadata": {
    "ExecuteTime": {
     "end_time": "2017-10-08T11:19:39.432480Z",
     "start_time": "2017-10-08T11:19:39.420006Z"
    },
    "colab": {
     "base_uri": "https://localhost:8080/"
    },
    "hidden": true,
    "id": "OmrggYvmf9Sw",
    "outputId": "9e0ee745-8413-46cf-882a-9832660790e6"
   },
   "outputs": [
    {
     "name": "stdout",
     "output_type": "stream",
     "text": [
      "[[0.26134159 0.68646976]]\n"
     ]
    }
   ],
   "source": [
    "x = x_train_bias\n",
    "y = y_train\n",
    "w_opt = (np.linalg.inv((x.T).dot(x)).dot(x.T)).dot(y)\n",
    "print(w_opt.T)"
   ]
  },
  {
   "cell_type": "markdown",
   "metadata": {
    "heading_collapsed": true,
    "id": "2eMOcW8Ff9Sz"
   },
   "source": [
    "# Exercícios"
   ]
  },
  {
   "cell_type": "markdown",
   "metadata": {
    "hidden": true,
    "id": "tCKeOB1-f9S1"
   },
   "source": [
    "## Questões"
   ]
  },
  {
   "cell_type": "markdown",
   "metadata": {
    "hidden": true,
    "id": "c-KyP13vf9S2"
   },
   "source": [
    "1. Quantos parâmetros são treinados nesse modelo?\n",
    "\n",
    "**R:** 2 parâmetros (w0 e w1)\n",
    "\n",
    "2. Qual é o número de atributos de entrada para a rede?\n",
    "\n",
    "**R:** 2 atributos (x e bias)\n",
    "\n",
    "3. Qual é o número de saídas da rede?\n",
    "\n",
    "**R:** Apenas uma (x)\n",
    "\n",
    "4. Suponha que eu tenha agora 5 mil amostras para fazer a predição. Qual é o shape da matriz de entrada?\n",
    "   Qual é o shape do matriz de saída?\n",
    "\n",
    "**R:** Shape: 5000 x 1\n"
   ]
  },
  {
   "cell_type": "markdown",
   "metadata": {
    "hidden": true,
    "id": "oaj0t2gpf9S3"
   },
   "source": [
    "## Atividades"
   ]
  },
  {
   "cell_type": "markdown",
   "metadata": {
    "hidden": true,
    "id": "pR_fNYurf9S3"
   },
   "source": [
    "1. Modifique o laço do treinamento via gradiente descendente para guardar em uma lista, o valor da perda no final\n",
    "   de cada época. Após o treinamento, plote o valor da perda em função da época.\n",
    "2. Calcule o valor da perda (MSE) da rede com os parâmetros inicializados, sem serem treinados.\n",
    "3. Coloque os valores dos pesos da solução ótima analítica no modelo da rede e calcule o valor da perda (MSE) e\n",
    "   compare com o valor da perda obtida pelo método da otimização via gradiente descendente."
   ]
  },
  {
   "cell_type": "code",
   "execution_count": 15,
   "metadata": {
    "colab": {
     "base_uri": "https://localhost:8080/"
    },
    "id": "gJqu9oK-QuGJ",
    "outputId": "a13a3683-ae14-4f1c-d9a9-0747c3d79652"
   },
   "outputs": [
    {
     "name": "stdout",
     "output_type": "stream",
     "text": [
      "Loss de cada época:\n",
      "[0.46916299392848965, 0.05806978503728478, 0.030542871208658035, 0.028105420739894495, 0.027363927019010567, 0.026786724330353836, 0.026268944171237815, 0.025799259233654476, 0.02537285807398961, 0.024985729416175287, 0.024634254709223077, 0.024315150183763047, 0.024025434598693884, 0.023762401286205326, 0.02352359285803643, 0.023306778246893093, 0.02310993186267746, 0.022931214668414426, 0.02276895699905198, 0.02262164296261862, 0.022487896278005435, 0.022366467417062434, 0.022256221930884158, 0.022156129851222874, 0.02206525606801219, 0.021982751593103016, 0.021907845628593346, 0.02183983836565032, 0.021778094446547536, 0.02172203702883664, 0.02167114239619789, 0.021624935065621367, 0.02158298334520787, 0.021544895301088166, 0.021510315095781572, 0.02147891966378488, 0.021450415693333596, 0.021424536886137276, 0.021401041469488243, 0.021379709937500557, 0.021360343000376657, 0.021342759722542806, 0.021326795832258844, 0.02131230218690975, 0.02129914337964105, 0.021287196474320532, 0.02127634985700767, 0.021266502193200556, 0.02125756148111857, 0.021249444192175858, 0.021242074490615707, 0.021235383525015125, 0.021229308785040542, 0.021223793517445147, 0.02121878619585178, 0.02121424003936786, 0.021210112575534956, 0.021206365243529965, 0.021202963033910657, 0.021199874161540046, 0.021197069768633812, 0.021194523655156495, 0.021192212034047708, 0.02119011330899158, 0.021188207872653204, 0.021186477923497184, 0.021184907299476755, 0.021183481327039975, 0.02118218668404202, 0.021181011275283098, 0.021179944119509107, 0.021178975246819224, 0.02117809560552215, 0.02117729697757074, 0.021176571901784833, 0.021175913604145277, 0.0211753159345076, 0.021174773309144343, 0.021174280658579056, 0.021173833380224768, 0.021173427295384285, 0.021173058610210765, 0.02117272388026364, 0.02117241997832902, 0.021172144065203655, 0.02117189356316969, 0.021171666131912334, 0.0211714596466555, 0.021171272178311055, 0.021171101975456342, 0.021170947447971527, 0.021170807152183856, 0.0211706797773802, 0.0211705641335617, 0.021170459140326194, 0.021170363816774583, 0.02117027727234675, 0.021170198698501553, 0.021170127361162992, 0.021170062593862105]\n"
     ]
    }
   ],
   "source": [
    "# 1\n",
    "print(\"Loss de cada época:\")\n",
    "print(list_loss)"
   ]
  },
  {
   "cell_type": "code",
   "execution_count": 29,
   "metadata": {
    "colab": {
     "base_uri": "https://localhost:8080/",
     "height": 400
    },
    "id": "zhT1Q-YYTx-E",
    "outputId": "5df0aff7-7543-4365-b57e-6216ae8420a8"
   },
   "outputs": [
    {
     "data": {
      "image/svg+xml": [
       "<?xml version=\"1.0\" encoding=\"utf-8\" standalone=\"no\"?>\n",
       "<!DOCTYPE svg PUBLIC \"-//W3C//DTD SVG 1.1//EN\"\n",
       "  \"http://www.w3.org/Graphics/SVG/1.1/DTD/svg11.dtd\">\n",
       "<svg xmlns:xlink=\"http://www.w3.org/1999/xlink\" width=\"608.98125pt\" height=\"283.913906pt\" viewBox=\"0 0 608.98125 283.913906\" xmlns=\"http://www.w3.org/2000/svg\" version=\"1.1\">\n",
       " <metadata>\n",
       "  <rdf:RDF xmlns:dc=\"http://purl.org/dc/elements/1.1/\" xmlns:cc=\"http://creativecommons.org/ns#\" xmlns:rdf=\"http://www.w3.org/1999/02/22-rdf-syntax-ns#\">\n",
       "   <cc:Work>\n",
       "    <dc:type rdf:resource=\"http://purl.org/dc/dcmitype/StillImage\"/>\n",
       "    <dc:date>2024-11-08T01:13:43.962052</dc:date>\n",
       "    <dc:format>image/svg+xml</dc:format>\n",
       "    <dc:creator>\n",
       "     <cc:Agent>\n",
       "      <dc:title>Matplotlib v3.8.0, https://matplotlib.org/</dc:title>\n",
       "     </cc:Agent>\n",
       "    </dc:creator>\n",
       "   </cc:Work>\n",
       "  </rdf:RDF>\n",
       " </metadata>\n",
       " <defs>\n",
       "  <style type=\"text/css\">*{stroke-linejoin: round; stroke-linecap: butt}</style>\n",
       " </defs>\n",
       " <g id=\"figure_1\">\n",
       "  <g id=\"patch_1\">\n",
       "   <path d=\"M 0 283.913906 \n",
       "L 608.98125 283.913906 \n",
       "L 608.98125 0 \n",
       "L 0 0 \n",
       "z\n",
       "\" style=\"fill: #ffffff\"/>\n",
       "  </g>\n",
       "  <g id=\"axes_1\">\n",
       "   <g id=\"patch_2\">\n",
       "    <path d=\"M 43.78125 246.357656 \n",
       "L 601.78125 246.357656 \n",
       "L 601.78125 24.597656 \n",
       "L 43.78125 24.597656 \n",
       "z\n",
       "\" style=\"fill: #ffffff\"/>\n",
       "   </g>\n",
       "   <g id=\"matplotlib.axis_1\">\n",
       "    <g id=\"xtick_1\">\n",
       "     <g id=\"line2d_1\">\n",
       "      <defs>\n",
       "       <path id=\"md317346d55\" d=\"M 0 0 \n",
       "L 0 3.5 \n",
       "\" style=\"stroke: #000000; stroke-width: 0.8\"/>\n",
       "      </defs>\n",
       "      <g>\n",
       "       <use xlink:href=\"#md317346d55\" x=\"69.144886\" y=\"246.357656\" style=\"stroke: #000000; stroke-width: 0.8\"/>\n",
       "      </g>\n",
       "     </g>\n",
       "     <g id=\"text_1\">\n",
       "      <!-- 0 -->\n",
       "      <g transform=\"translate(65.963636 260.956094) scale(0.1 -0.1)\">\n",
       "       <defs>\n",
       "        <path id=\"DejaVuSans-30\" d=\"M 2034 4250 \n",
       "Q 1547 4250 1301 3770 \n",
       "Q 1056 3291 1056 2328 \n",
       "Q 1056 1369 1301 889 \n",
       "Q 1547 409 2034 409 \n",
       "Q 2525 409 2770 889 \n",
       "Q 3016 1369 3016 2328 \n",
       "Q 3016 3291 2770 3770 \n",
       "Q 2525 4250 2034 4250 \n",
       "z\n",
       "M 2034 4750 \n",
       "Q 2819 4750 3233 4129 \n",
       "Q 3647 3509 3647 2328 \n",
       "Q 3647 1150 3233 529 \n",
       "Q 2819 -91 2034 -91 \n",
       "Q 1250 -91 836 529 \n",
       "Q 422 1150 422 2328 \n",
       "Q 422 3509 836 4129 \n",
       "Q 1250 4750 2034 4750 \n",
       "z\n",
       "\" transform=\"scale(0.015625)\"/>\n",
       "       </defs>\n",
       "       <use xlink:href=\"#DejaVuSans-30\"/>\n",
       "      </g>\n",
       "     </g>\n",
       "    </g>\n",
       "    <g id=\"xtick_2\">\n",
       "     <g id=\"line2d_2\">\n",
       "      <g>\n",
       "       <use xlink:href=\"#md317346d55\" x=\"171.624225\" y=\"246.357656\" style=\"stroke: #000000; stroke-width: 0.8\"/>\n",
       "      </g>\n",
       "     </g>\n",
       "     <g id=\"text_2\">\n",
       "      <!-- 20 -->\n",
       "      <g transform=\"translate(165.261725 260.956094) scale(0.1 -0.1)\">\n",
       "       <defs>\n",
       "        <path id=\"DejaVuSans-32\" d=\"M 1228 531 \n",
       "L 3431 531 \n",
       "L 3431 0 \n",
       "L 469 0 \n",
       "L 469 531 \n",
       "Q 828 903 1448 1529 \n",
       "Q 2069 2156 2228 2338 \n",
       "Q 2531 2678 2651 2914 \n",
       "Q 2772 3150 2772 3378 \n",
       "Q 2772 3750 2511 3984 \n",
       "Q 2250 4219 1831 4219 \n",
       "Q 1534 4219 1204 4116 \n",
       "Q 875 4013 500 3803 \n",
       "L 500 4441 \n",
       "Q 881 4594 1212 4672 \n",
       "Q 1544 4750 1819 4750 \n",
       "Q 2544 4750 2975 4387 \n",
       "Q 3406 4025 3406 3419 \n",
       "Q 3406 3131 3298 2873 \n",
       "Q 3191 2616 2906 2266 \n",
       "Q 2828 2175 2409 1742 \n",
       "Q 1991 1309 1228 531 \n",
       "z\n",
       "\" transform=\"scale(0.015625)\"/>\n",
       "       </defs>\n",
       "       <use xlink:href=\"#DejaVuSans-32\"/>\n",
       "       <use xlink:href=\"#DejaVuSans-30\" x=\"63.623047\"/>\n",
       "      </g>\n",
       "     </g>\n",
       "    </g>\n",
       "    <g id=\"xtick_3\">\n",
       "     <g id=\"line2d_3\">\n",
       "      <g>\n",
       "       <use xlink:href=\"#md317346d55\" x=\"274.103564\" y=\"246.357656\" style=\"stroke: #000000; stroke-width: 0.8\"/>\n",
       "      </g>\n",
       "     </g>\n",
       "     <g id=\"text_3\">\n",
       "      <!-- 40 -->\n",
       "      <g transform=\"translate(267.741064 260.956094) scale(0.1 -0.1)\">\n",
       "       <defs>\n",
       "        <path id=\"DejaVuSans-34\" d=\"M 2419 4116 \n",
       "L 825 1625 \n",
       "L 2419 1625 \n",
       "L 2419 4116 \n",
       "z\n",
       "M 2253 4666 \n",
       "L 3047 4666 \n",
       "L 3047 1625 \n",
       "L 3713 1625 \n",
       "L 3713 1100 \n",
       "L 3047 1100 \n",
       "L 3047 0 \n",
       "L 2419 0 \n",
       "L 2419 1100 \n",
       "L 313 1100 \n",
       "L 313 1709 \n",
       "L 2253 4666 \n",
       "z\n",
       "\" transform=\"scale(0.015625)\"/>\n",
       "       </defs>\n",
       "       <use xlink:href=\"#DejaVuSans-34\"/>\n",
       "       <use xlink:href=\"#DejaVuSans-30\" x=\"63.623047\"/>\n",
       "      </g>\n",
       "     </g>\n",
       "    </g>\n",
       "    <g id=\"xtick_4\">\n",
       "     <g id=\"line2d_4\">\n",
       "      <g>\n",
       "       <use xlink:href=\"#md317346d55\" x=\"376.582903\" y=\"246.357656\" style=\"stroke: #000000; stroke-width: 0.8\"/>\n",
       "      </g>\n",
       "     </g>\n",
       "     <g id=\"text_4\">\n",
       "      <!-- 60 -->\n",
       "      <g transform=\"translate(370.220403 260.956094) scale(0.1 -0.1)\">\n",
       "       <defs>\n",
       "        <path id=\"DejaVuSans-36\" d=\"M 2113 2584 \n",
       "Q 1688 2584 1439 2293 \n",
       "Q 1191 2003 1191 1497 \n",
       "Q 1191 994 1439 701 \n",
       "Q 1688 409 2113 409 \n",
       "Q 2538 409 2786 701 \n",
       "Q 3034 994 3034 1497 \n",
       "Q 3034 2003 2786 2293 \n",
       "Q 2538 2584 2113 2584 \n",
       "z\n",
       "M 3366 4563 \n",
       "L 3366 3988 \n",
       "Q 3128 4100 2886 4159 \n",
       "Q 2644 4219 2406 4219 \n",
       "Q 1781 4219 1451 3797 \n",
       "Q 1122 3375 1075 2522 \n",
       "Q 1259 2794 1537 2939 \n",
       "Q 1816 3084 2150 3084 \n",
       "Q 2853 3084 3261 2657 \n",
       "Q 3669 2231 3669 1497 \n",
       "Q 3669 778 3244 343 \n",
       "Q 2819 -91 2113 -91 \n",
       "Q 1303 -91 875 529 \n",
       "Q 447 1150 447 2328 \n",
       "Q 447 3434 972 4092 \n",
       "Q 1497 4750 2381 4750 \n",
       "Q 2619 4750 2861 4703 \n",
       "Q 3103 4656 3366 4563 \n",
       "z\n",
       "\" transform=\"scale(0.015625)\"/>\n",
       "       </defs>\n",
       "       <use xlink:href=\"#DejaVuSans-36\"/>\n",
       "       <use xlink:href=\"#DejaVuSans-30\" x=\"63.623047\"/>\n",
       "      </g>\n",
       "     </g>\n",
       "    </g>\n",
       "    <g id=\"xtick_5\">\n",
       "     <g id=\"line2d_5\">\n",
       "      <g>\n",
       "       <use xlink:href=\"#md317346d55\" x=\"479.062242\" y=\"246.357656\" style=\"stroke: #000000; stroke-width: 0.8\"/>\n",
       "      </g>\n",
       "     </g>\n",
       "     <g id=\"text_5\">\n",
       "      <!-- 80 -->\n",
       "      <g transform=\"translate(472.699742 260.956094) scale(0.1 -0.1)\">\n",
       "       <defs>\n",
       "        <path id=\"DejaVuSans-38\" d=\"M 2034 2216 \n",
       "Q 1584 2216 1326 1975 \n",
       "Q 1069 1734 1069 1313 \n",
       "Q 1069 891 1326 650 \n",
       "Q 1584 409 2034 409 \n",
       "Q 2484 409 2743 651 \n",
       "Q 3003 894 3003 1313 \n",
       "Q 3003 1734 2745 1975 \n",
       "Q 2488 2216 2034 2216 \n",
       "z\n",
       "M 1403 2484 \n",
       "Q 997 2584 770 2862 \n",
       "Q 544 3141 544 3541 \n",
       "Q 544 4100 942 4425 \n",
       "Q 1341 4750 2034 4750 \n",
       "Q 2731 4750 3128 4425 \n",
       "Q 3525 4100 3525 3541 \n",
       "Q 3525 3141 3298 2862 \n",
       "Q 3072 2584 2669 2484 \n",
       "Q 3125 2378 3379 2068 \n",
       "Q 3634 1759 3634 1313 \n",
       "Q 3634 634 3220 271 \n",
       "Q 2806 -91 2034 -91 \n",
       "Q 1263 -91 848 271 \n",
       "Q 434 634 434 1313 \n",
       "Q 434 1759 690 2068 \n",
       "Q 947 2378 1403 2484 \n",
       "z\n",
       "M 1172 3481 \n",
       "Q 1172 3119 1398 2916 \n",
       "Q 1625 2713 2034 2713 \n",
       "Q 2441 2713 2670 2916 \n",
       "Q 2900 3119 2900 3481 \n",
       "Q 2900 3844 2670 4047 \n",
       "Q 2441 4250 2034 4250 \n",
       "Q 1625 4250 1398 4047 \n",
       "Q 1172 3844 1172 3481 \n",
       "z\n",
       "\" transform=\"scale(0.015625)\"/>\n",
       "       </defs>\n",
       "       <use xlink:href=\"#DejaVuSans-38\"/>\n",
       "       <use xlink:href=\"#DejaVuSans-30\" x=\"63.623047\"/>\n",
       "      </g>\n",
       "     </g>\n",
       "    </g>\n",
       "    <g id=\"xtick_6\">\n",
       "     <g id=\"line2d_6\">\n",
       "      <g>\n",
       "       <use xlink:href=\"#md317346d55\" x=\"581.541581\" y=\"246.357656\" style=\"stroke: #000000; stroke-width: 0.8\"/>\n",
       "      </g>\n",
       "     </g>\n",
       "     <g id=\"text_6\">\n",
       "      <!-- 100 -->\n",
       "      <g transform=\"translate(571.997831 260.956094) scale(0.1 -0.1)\">\n",
       "       <defs>\n",
       "        <path id=\"DejaVuSans-31\" d=\"M 794 531 \n",
       "L 1825 531 \n",
       "L 1825 4091 \n",
       "L 703 3866 \n",
       "L 703 4441 \n",
       "L 1819 4666 \n",
       "L 2450 4666 \n",
       "L 2450 531 \n",
       "L 3481 531 \n",
       "L 3481 0 \n",
       "L 794 0 \n",
       "L 794 531 \n",
       "z\n",
       "\" transform=\"scale(0.015625)\"/>\n",
       "       </defs>\n",
       "       <use xlink:href=\"#DejaVuSans-31\"/>\n",
       "       <use xlink:href=\"#DejaVuSans-30\" x=\"63.623047\"/>\n",
       "       <use xlink:href=\"#DejaVuSans-30\" x=\"127.246094\"/>\n",
       "      </g>\n",
       "     </g>\n",
       "    </g>\n",
       "    <g id=\"text_7\">\n",
       "     <!-- epochs -->\n",
       "     <g transform=\"translate(304.948438 274.634219) scale(0.1 -0.1)\">\n",
       "      <defs>\n",
       "       <path id=\"DejaVuSans-65\" d=\"M 3597 1894 \n",
       "L 3597 1613 \n",
       "L 953 1613 \n",
       "Q 991 1019 1311 708 \n",
       "Q 1631 397 2203 397 \n",
       "Q 2534 397 2845 478 \n",
       "Q 3156 559 3463 722 \n",
       "L 3463 178 \n",
       "Q 3153 47 2828 -22 \n",
       "Q 2503 -91 2169 -91 \n",
       "Q 1331 -91 842 396 \n",
       "Q 353 884 353 1716 \n",
       "Q 353 2575 817 3079 \n",
       "Q 1281 3584 2069 3584 \n",
       "Q 2775 3584 3186 3129 \n",
       "Q 3597 2675 3597 1894 \n",
       "z\n",
       "M 3022 2063 \n",
       "Q 3016 2534 2758 2815 \n",
       "Q 2500 3097 2075 3097 \n",
       "Q 1594 3097 1305 2825 \n",
       "Q 1016 2553 972 2059 \n",
       "L 3022 2063 \n",
       "z\n",
       "\" transform=\"scale(0.015625)\"/>\n",
       "       <path id=\"DejaVuSans-70\" d=\"M 1159 525 \n",
       "L 1159 -1331 \n",
       "L 581 -1331 \n",
       "L 581 3500 \n",
       "L 1159 3500 \n",
       "L 1159 2969 \n",
       "Q 1341 3281 1617 3432 \n",
       "Q 1894 3584 2278 3584 \n",
       "Q 2916 3584 3314 3078 \n",
       "Q 3713 2572 3713 1747 \n",
       "Q 3713 922 3314 415 \n",
       "Q 2916 -91 2278 -91 \n",
       "Q 1894 -91 1617 61 \n",
       "Q 1341 213 1159 525 \n",
       "z\n",
       "M 3116 1747 \n",
       "Q 3116 2381 2855 2742 \n",
       "Q 2594 3103 2138 3103 \n",
       "Q 1681 3103 1420 2742 \n",
       "Q 1159 2381 1159 1747 \n",
       "Q 1159 1113 1420 752 \n",
       "Q 1681 391 2138 391 \n",
       "Q 2594 391 2855 752 \n",
       "Q 3116 1113 3116 1747 \n",
       "z\n",
       "\" transform=\"scale(0.015625)\"/>\n",
       "       <path id=\"DejaVuSans-6f\" d=\"M 1959 3097 \n",
       "Q 1497 3097 1228 2736 \n",
       "Q 959 2375 959 1747 \n",
       "Q 959 1119 1226 758 \n",
       "Q 1494 397 1959 397 \n",
       "Q 2419 397 2687 759 \n",
       "Q 2956 1122 2956 1747 \n",
       "Q 2956 2369 2687 2733 \n",
       "Q 2419 3097 1959 3097 \n",
       "z\n",
       "M 1959 3584 \n",
       "Q 2709 3584 3137 3096 \n",
       "Q 3566 2609 3566 1747 \n",
       "Q 3566 888 3137 398 \n",
       "Q 2709 -91 1959 -91 \n",
       "Q 1206 -91 779 398 \n",
       "Q 353 888 353 1747 \n",
       "Q 353 2609 779 3096 \n",
       "Q 1206 3584 1959 3584 \n",
       "z\n",
       "\" transform=\"scale(0.015625)\"/>\n",
       "       <path id=\"DejaVuSans-63\" d=\"M 3122 3366 \n",
       "L 3122 2828 \n",
       "Q 2878 2963 2633 3030 \n",
       "Q 2388 3097 2138 3097 \n",
       "Q 1578 3097 1268 2742 \n",
       "Q 959 2388 959 1747 \n",
       "Q 959 1106 1268 751 \n",
       "Q 1578 397 2138 397 \n",
       "Q 2388 397 2633 464 \n",
       "Q 2878 531 3122 666 \n",
       "L 3122 134 \n",
       "Q 2881 22 2623 -34 \n",
       "Q 2366 -91 2075 -91 \n",
       "Q 1284 -91 818 406 \n",
       "Q 353 903 353 1747 \n",
       "Q 353 2603 823 3093 \n",
       "Q 1294 3584 2113 3584 \n",
       "Q 2378 3584 2631 3529 \n",
       "Q 2884 3475 3122 3366 \n",
       "z\n",
       "\" transform=\"scale(0.015625)\"/>\n",
       "       <path id=\"DejaVuSans-68\" d=\"M 3513 2113 \n",
       "L 3513 0 \n",
       "L 2938 0 \n",
       "L 2938 2094 \n",
       "Q 2938 2591 2744 2837 \n",
       "Q 2550 3084 2163 3084 \n",
       "Q 1697 3084 1428 2787 \n",
       "Q 1159 2491 1159 1978 \n",
       "L 1159 0 \n",
       "L 581 0 \n",
       "L 581 4863 \n",
       "L 1159 4863 \n",
       "L 1159 2956 \n",
       "Q 1366 3272 1645 3428 \n",
       "Q 1925 3584 2291 3584 \n",
       "Q 2894 3584 3203 3211 \n",
       "Q 3513 2838 3513 2113 \n",
       "z\n",
       "\" transform=\"scale(0.015625)\"/>\n",
       "       <path id=\"DejaVuSans-73\" d=\"M 2834 3397 \n",
       "L 2834 2853 \n",
       "Q 2591 2978 2328 3040 \n",
       "Q 2066 3103 1784 3103 \n",
       "Q 1356 3103 1142 2972 \n",
       "Q 928 2841 928 2578 \n",
       "Q 928 2378 1081 2264 \n",
       "Q 1234 2150 1697 2047 \n",
       "L 1894 2003 \n",
       "Q 2506 1872 2764 1633 \n",
       "Q 3022 1394 3022 966 \n",
       "Q 3022 478 2636 193 \n",
       "Q 2250 -91 1575 -91 \n",
       "Q 1294 -91 989 -36 \n",
       "Q 684 19 347 128 \n",
       "L 347 722 \n",
       "Q 666 556 975 473 \n",
       "Q 1284 391 1588 391 \n",
       "Q 1994 391 2212 530 \n",
       "Q 2431 669 2431 922 \n",
       "Q 2431 1156 2273 1281 \n",
       "Q 2116 1406 1581 1522 \n",
       "L 1381 1569 \n",
       "Q 847 1681 609 1914 \n",
       "Q 372 2147 372 2553 \n",
       "Q 372 3047 722 3315 \n",
       "Q 1072 3584 1716 3584 \n",
       "Q 2034 3584 2315 3537 \n",
       "Q 2597 3491 2834 3397 \n",
       "z\n",
       "\" transform=\"scale(0.015625)\"/>\n",
       "      </defs>\n",
       "      <use xlink:href=\"#DejaVuSans-65\"/>\n",
       "      <use xlink:href=\"#DejaVuSans-70\" x=\"61.523438\"/>\n",
       "      <use xlink:href=\"#DejaVuSans-6f\" x=\"125\"/>\n",
       "      <use xlink:href=\"#DejaVuSans-63\" x=\"186.181641\"/>\n",
       "      <use xlink:href=\"#DejaVuSans-68\" x=\"241.162109\"/>\n",
       "      <use xlink:href=\"#DejaVuSans-73\" x=\"304.541016\"/>\n",
       "     </g>\n",
       "    </g>\n",
       "   </g>\n",
       "   <g id=\"matplotlib.axis_2\">\n",
       "    <g id=\"ytick_1\">\n",
       "     <g id=\"line2d_7\">\n",
       "      <defs>\n",
       "       <path id=\"m06dde57e82\" d=\"M 0 0 \n",
       "L -3.5 0 \n",
       "\" style=\"stroke: #000000; stroke-width: 0.8\"/>\n",
       "      </defs>\n",
       "      <g>\n",
       "       <use xlink:href=\"#m06dde57e82\" x=\"43.78125\" y=\"245.804335\" style=\"stroke: #000000; stroke-width: 0.8\"/>\n",
       "      </g>\n",
       "     </g>\n",
       "     <g id=\"text_8\">\n",
       "      <!-- 0.0 -->\n",
       "      <g transform=\"translate(20.878125 249.603553) scale(0.1 -0.1)\">\n",
       "       <defs>\n",
       "        <path id=\"DejaVuSans-2e\" d=\"M 684 794 \n",
       "L 1344 794 \n",
       "L 1344 0 \n",
       "L 684 0 \n",
       "L 684 794 \n",
       "z\n",
       "\" transform=\"scale(0.015625)\"/>\n",
       "       </defs>\n",
       "       <use xlink:href=\"#DejaVuSans-30\"/>\n",
       "       <use xlink:href=\"#DejaVuSans-2e\" x=\"63.623047\"/>\n",
       "       <use xlink:href=\"#DejaVuSans-30\" x=\"95.410156\"/>\n",
       "      </g>\n",
       "     </g>\n",
       "    </g>\n",
       "    <g id=\"ytick_2\">\n",
       "     <g id=\"line2d_8\">\n",
       "      <g>\n",
       "       <use xlink:href=\"#m06dde57e82\" x=\"43.78125\" y=\"200.803625\" style=\"stroke: #000000; stroke-width: 0.8\"/>\n",
       "      </g>\n",
       "     </g>\n",
       "     <g id=\"text_9\">\n",
       "      <!-- 0.1 -->\n",
       "      <g transform=\"translate(20.878125 204.602843) scale(0.1 -0.1)\">\n",
       "       <use xlink:href=\"#DejaVuSans-30\"/>\n",
       "       <use xlink:href=\"#DejaVuSans-2e\" x=\"63.623047\"/>\n",
       "       <use xlink:href=\"#DejaVuSans-31\" x=\"95.410156\"/>\n",
       "      </g>\n",
       "     </g>\n",
       "    </g>\n",
       "    <g id=\"ytick_3\">\n",
       "     <g id=\"line2d_9\">\n",
       "      <g>\n",
       "       <use xlink:href=\"#m06dde57e82\" x=\"43.78125\" y=\"155.802915\" style=\"stroke: #000000; stroke-width: 0.8\"/>\n",
       "      </g>\n",
       "     </g>\n",
       "     <g id=\"text_10\">\n",
       "      <!-- 0.2 -->\n",
       "      <g transform=\"translate(20.878125 159.602133) scale(0.1 -0.1)\">\n",
       "       <use xlink:href=\"#DejaVuSans-30\"/>\n",
       "       <use xlink:href=\"#DejaVuSans-2e\" x=\"63.623047\"/>\n",
       "       <use xlink:href=\"#DejaVuSans-32\" x=\"95.410156\"/>\n",
       "      </g>\n",
       "     </g>\n",
       "    </g>\n",
       "    <g id=\"ytick_4\">\n",
       "     <g id=\"line2d_10\">\n",
       "      <g>\n",
       "       <use xlink:href=\"#m06dde57e82\" x=\"43.78125\" y=\"110.802205\" style=\"stroke: #000000; stroke-width: 0.8\"/>\n",
       "      </g>\n",
       "     </g>\n",
       "     <g id=\"text_11\">\n",
       "      <!-- 0.3 -->\n",
       "      <g transform=\"translate(20.878125 114.601423) scale(0.1 -0.1)\">\n",
       "       <defs>\n",
       "        <path id=\"DejaVuSans-33\" d=\"M 2597 2516 \n",
       "Q 3050 2419 3304 2112 \n",
       "Q 3559 1806 3559 1356 \n",
       "Q 3559 666 3084 287 \n",
       "Q 2609 -91 1734 -91 \n",
       "Q 1441 -91 1130 -33 \n",
       "Q 819 25 488 141 \n",
       "L 488 750 \n",
       "Q 750 597 1062 519 \n",
       "Q 1375 441 1716 441 \n",
       "Q 2309 441 2620 675 \n",
       "Q 2931 909 2931 1356 \n",
       "Q 2931 1769 2642 2001 \n",
       "Q 2353 2234 1838 2234 \n",
       "L 1294 2234 \n",
       "L 1294 2753 \n",
       "L 1863 2753 \n",
       "Q 2328 2753 2575 2939 \n",
       "Q 2822 3125 2822 3475 \n",
       "Q 2822 3834 2567 4026 \n",
       "Q 2313 4219 1838 4219 \n",
       "Q 1578 4219 1281 4162 \n",
       "Q 984 4106 628 3988 \n",
       "L 628 4550 \n",
       "Q 988 4650 1302 4700 \n",
       "Q 1616 4750 1894 4750 \n",
       "Q 2613 4750 3031 4423 \n",
       "Q 3450 4097 3450 3541 \n",
       "Q 3450 3153 3228 2886 \n",
       "Q 3006 2619 2597 2516 \n",
       "z\n",
       "\" transform=\"scale(0.015625)\"/>\n",
       "       </defs>\n",
       "       <use xlink:href=\"#DejaVuSans-30\"/>\n",
       "       <use xlink:href=\"#DejaVuSans-2e\" x=\"63.623047\"/>\n",
       "       <use xlink:href=\"#DejaVuSans-33\" x=\"95.410156\"/>\n",
       "      </g>\n",
       "     </g>\n",
       "    </g>\n",
       "    <g id=\"ytick_5\">\n",
       "     <g id=\"line2d_11\">\n",
       "      <g>\n",
       "       <use xlink:href=\"#m06dde57e82\" x=\"43.78125\" y=\"65.801495\" style=\"stroke: #000000; stroke-width: 0.8\"/>\n",
       "      </g>\n",
       "     </g>\n",
       "     <g id=\"text_12\">\n",
       "      <!-- 0.4 -->\n",
       "      <g transform=\"translate(20.878125 69.600713) scale(0.1 -0.1)\">\n",
       "       <use xlink:href=\"#DejaVuSans-30\"/>\n",
       "       <use xlink:href=\"#DejaVuSans-2e\" x=\"63.623047\"/>\n",
       "       <use xlink:href=\"#DejaVuSans-34\" x=\"95.410156\"/>\n",
       "      </g>\n",
       "     </g>\n",
       "    </g>\n",
       "    <g id=\"text_13\">\n",
       "     <!-- MSE -->\n",
       "     <g transform=\"translate(14.798438 146.125313) rotate(-90) scale(0.1 -0.1)\">\n",
       "      <defs>\n",
       "       <path id=\"DejaVuSans-4d\" d=\"M 628 4666 \n",
       "L 1569 4666 \n",
       "L 2759 1491 \n",
       "L 3956 4666 \n",
       "L 4897 4666 \n",
       "L 4897 0 \n",
       "L 4281 0 \n",
       "L 4281 4097 \n",
       "L 3078 897 \n",
       "L 2444 897 \n",
       "L 1241 4097 \n",
       "L 1241 0 \n",
       "L 628 0 \n",
       "L 628 4666 \n",
       "z\n",
       "\" transform=\"scale(0.015625)\"/>\n",
       "       <path id=\"DejaVuSans-53\" d=\"M 3425 4513 \n",
       "L 3425 3897 \n",
       "Q 3066 4069 2747 4153 \n",
       "Q 2428 4238 2131 4238 \n",
       "Q 1616 4238 1336 4038 \n",
       "Q 1056 3838 1056 3469 \n",
       "Q 1056 3159 1242 3001 \n",
       "Q 1428 2844 1947 2747 \n",
       "L 2328 2669 \n",
       "Q 3034 2534 3370 2195 \n",
       "Q 3706 1856 3706 1288 \n",
       "Q 3706 609 3251 259 \n",
       "Q 2797 -91 1919 -91 \n",
       "Q 1588 -91 1214 -16 \n",
       "Q 841 59 441 206 \n",
       "L 441 856 \n",
       "Q 825 641 1194 531 \n",
       "Q 1563 422 1919 422 \n",
       "Q 2459 422 2753 634 \n",
       "Q 3047 847 3047 1241 \n",
       "Q 3047 1584 2836 1778 \n",
       "Q 2625 1972 2144 2069 \n",
       "L 1759 2144 \n",
       "Q 1053 2284 737 2584 \n",
       "Q 422 2884 422 3419 \n",
       "Q 422 4038 858 4394 \n",
       "Q 1294 4750 2059 4750 \n",
       "Q 2388 4750 2728 4690 \n",
       "Q 3069 4631 3425 4513 \n",
       "z\n",
       "\" transform=\"scale(0.015625)\"/>\n",
       "       <path id=\"DejaVuSans-45\" d=\"M 628 4666 \n",
       "L 3578 4666 \n",
       "L 3578 4134 \n",
       "L 1259 4134 \n",
       "L 1259 2753 \n",
       "L 3481 2753 \n",
       "L 3481 2222 \n",
       "L 1259 2222 \n",
       "L 1259 531 \n",
       "L 3634 531 \n",
       "L 3634 0 \n",
       "L 628 0 \n",
       "L 628 4666 \n",
       "z\n",
       "\" transform=\"scale(0.015625)\"/>\n",
       "      </defs>\n",
       "      <use xlink:href=\"#DejaVuSans-4d\"/>\n",
       "      <use xlink:href=\"#DejaVuSans-53\" x=\"86.279297\"/>\n",
       "      <use xlink:href=\"#DejaVuSans-45\" x=\"149.755859\"/>\n",
       "     </g>\n",
       "    </g>\n",
       "   </g>\n",
       "   <g id=\"line2d_12\">\n",
       "    <path d=\"M 69.144886 34.677656 \n",
       "L 74.268853 219.672519 \n",
       "L 79.39282 232.059826 \n",
       "L 84.516787 233.156696 \n",
       "L 89.640754 233.490373 \n",
       "L 94.764721 233.750119 \n",
       "L 99.888688 233.983123 \n",
       "L 105.012655 234.194485 \n",
       "L 110.136622 234.386368 \n",
       "L 115.260589 234.560579 \n",
       "L 120.384556 234.718745 \n",
       "L 125.508523 234.862345 \n",
       "L 130.63249 234.992719 \n",
       "L 135.756457 235.111085 \n",
       "L 140.880424 235.218551 \n",
       "L 146.00439 235.316119 \n",
       "L 151.128357 235.404701 \n",
       "L 156.252324 235.485125 \n",
       "L 161.376291 235.558142 \n",
       "L 166.500258 235.624435 \n",
       "L 171.624225 235.684622 \n",
       "L 176.748192 235.739266 \n",
       "L 181.872159 235.788877 \n",
       "L 186.996126 235.833919 \n",
       "L 192.120093 235.874813 \n",
       "L 197.24406 235.91194 \n",
       "L 202.368027 235.945649 \n",
       "L 207.491994 235.976252 \n",
       "L 212.615961 236.004038 \n",
       "L 217.739928 236.029264 \n",
       "L 222.863895 236.052167 \n",
       "L 227.987862 236.07296 \n",
       "L 233.111829 236.091839 \n",
       "L 238.235795 236.108979 \n",
       "L 243.359762 236.12454 \n",
       "L 248.483729 236.138668 \n",
       "L 253.607696 236.151495 \n",
       "L 258.731663 236.163141 \n",
       "L 263.85563 236.173714 \n",
       "L 268.979597 236.183313 \n",
       "L 274.103564 236.192029 \n",
       "L 279.227531 236.199941 \n",
       "L 284.351498 236.207125 \n",
       "L 289.475465 236.213647 \n",
       "L 294.599432 236.219569 \n",
       "L 299.723399 236.224945 \n",
       "L 304.847366 236.229826 \n",
       "L 309.971333 236.234258 \n",
       "L 315.0953 236.238281 \n",
       "L 320.219267 236.241934 \n",
       "L 325.343233 236.24525 \n",
       "L 330.4672 236.248261 \n",
       "L 335.591167 236.250995 \n",
       "L 340.715134 236.253477 \n",
       "L 345.839101 236.25573 \n",
       "L 350.963068 236.257776 \n",
       "L 356.087035 236.259633 \n",
       "L 361.211002 236.26132 \n",
       "L 366.334969 236.262851 \n",
       "L 371.458936 236.264241 \n",
       "L 376.582903 236.265503 \n",
       "L 381.70687 236.266649 \n",
       "L 386.830837 236.267689 \n",
       "L 391.954804 236.268633 \n",
       "L 397.078771 236.269491 \n",
       "L 402.202738 236.270269 \n",
       "L 407.326705 236.270976 \n",
       "L 412.450671 236.271618 \n",
       "L 417.574638 236.2722 \n",
       "L 422.698605 236.272729 \n",
       "L 427.822572 236.273209 \n",
       "L 432.946539 236.273645 \n",
       "L 438.070506 236.274041 \n",
       "L 443.194473 236.274401 \n",
       "L 448.31844 236.274727 \n",
       "L 453.442407 236.275023 \n",
       "L 458.566374 236.275292 \n",
       "L 463.690341 236.275536 \n",
       "L 468.814308 236.275758 \n",
       "L 473.938275 236.275959 \n",
       "L 479.062242 236.276142 \n",
       "L 484.186209 236.276308 \n",
       "L 489.310176 236.276459 \n",
       "L 494.434143 236.276595 \n",
       "L 499.55811 236.27672 \n",
       "L 504.682076 236.276832 \n",
       "L 509.806043 236.276935 \n",
       "L 514.93001 236.277028 \n",
       "L 520.053977 236.277112 \n",
       "L 525.177944 236.277189 \n",
       "L 530.301911 236.277258 \n",
       "L 535.425878 236.277321 \n",
       "L 540.549845 236.277379 \n",
       "L 545.673812 236.277431 \n",
       "L 550.797779 236.277478 \n",
       "L 555.921746 236.277521 \n",
       "L 561.045713 236.27756 \n",
       "L 566.16968 236.277595 \n",
       "L 571.293647 236.277627 \n",
       "L 576.417614 236.277656 \n",
       "\" clip-path=\"url(#p5083f3899d)\" style=\"fill: none; stroke: #1f77b4; stroke-width: 1.5; stroke-linecap: square\"/>\n",
       "    <defs>\n",
       "     <path id=\"md5d20b6c36\" d=\"M 0 3 \n",
       "C 0.795609 3 1.55874 2.683901 2.12132 2.12132 \n",
       "C 2.683901 1.55874 3 0.795609 3 0 \n",
       "C 3 -0.795609 2.683901 -1.55874 2.12132 -2.12132 \n",
       "C 1.55874 -2.683901 0.795609 -3 0 -3 \n",
       "C -0.795609 -3 -1.55874 -2.683901 -2.12132 -2.12132 \n",
       "C -2.683901 -1.55874 -3 -0.795609 -3 0 \n",
       "C -3 0.795609 -2.683901 1.55874 -2.12132 2.12132 \n",
       "C -1.55874 2.683901 -0.795609 3 0 3 \n",
       "z\n",
       "\" style=\"stroke: #1f77b4\"/>\n",
       "    </defs>\n",
       "    <g clip-path=\"url(#p5083f3899d)\">\n",
       "     <use xlink:href=\"#md5d20b6c36\" x=\"69.144886\" y=\"34.677656\" style=\"fill: #1f77b4; stroke: #1f77b4\"/>\n",
       "     <use xlink:href=\"#md5d20b6c36\" x=\"74.268853\" y=\"219.672519\" style=\"fill: #1f77b4; stroke: #1f77b4\"/>\n",
       "     <use xlink:href=\"#md5d20b6c36\" x=\"79.39282\" y=\"232.059826\" style=\"fill: #1f77b4; stroke: #1f77b4\"/>\n",
       "     <use xlink:href=\"#md5d20b6c36\" x=\"84.516787\" y=\"233.156696\" style=\"fill: #1f77b4; stroke: #1f77b4\"/>\n",
       "     <use xlink:href=\"#md5d20b6c36\" x=\"89.640754\" y=\"233.490373\" style=\"fill: #1f77b4; stroke: #1f77b4\"/>\n",
       "     <use xlink:href=\"#md5d20b6c36\" x=\"94.764721\" y=\"233.750119\" style=\"fill: #1f77b4; stroke: #1f77b4\"/>\n",
       "     <use xlink:href=\"#md5d20b6c36\" x=\"99.888688\" y=\"233.983123\" style=\"fill: #1f77b4; stroke: #1f77b4\"/>\n",
       "     <use xlink:href=\"#md5d20b6c36\" x=\"105.012655\" y=\"234.194485\" style=\"fill: #1f77b4; stroke: #1f77b4\"/>\n",
       "     <use xlink:href=\"#md5d20b6c36\" x=\"110.136622\" y=\"234.386368\" style=\"fill: #1f77b4; stroke: #1f77b4\"/>\n",
       "     <use xlink:href=\"#md5d20b6c36\" x=\"115.260589\" y=\"234.560579\" style=\"fill: #1f77b4; stroke: #1f77b4\"/>\n",
       "     <use xlink:href=\"#md5d20b6c36\" x=\"120.384556\" y=\"234.718745\" style=\"fill: #1f77b4; stroke: #1f77b4\"/>\n",
       "     <use xlink:href=\"#md5d20b6c36\" x=\"125.508523\" y=\"234.862345\" style=\"fill: #1f77b4; stroke: #1f77b4\"/>\n",
       "     <use xlink:href=\"#md5d20b6c36\" x=\"130.63249\" y=\"234.992719\" style=\"fill: #1f77b4; stroke: #1f77b4\"/>\n",
       "     <use xlink:href=\"#md5d20b6c36\" x=\"135.756457\" y=\"235.111085\" style=\"fill: #1f77b4; stroke: #1f77b4\"/>\n",
       "     <use xlink:href=\"#md5d20b6c36\" x=\"140.880424\" y=\"235.218551\" style=\"fill: #1f77b4; stroke: #1f77b4\"/>\n",
       "     <use xlink:href=\"#md5d20b6c36\" x=\"146.00439\" y=\"235.316119\" style=\"fill: #1f77b4; stroke: #1f77b4\"/>\n",
       "     <use xlink:href=\"#md5d20b6c36\" x=\"151.128357\" y=\"235.404701\" style=\"fill: #1f77b4; stroke: #1f77b4\"/>\n",
       "     <use xlink:href=\"#md5d20b6c36\" x=\"156.252324\" y=\"235.485125\" style=\"fill: #1f77b4; stroke: #1f77b4\"/>\n",
       "     <use xlink:href=\"#md5d20b6c36\" x=\"161.376291\" y=\"235.558142\" style=\"fill: #1f77b4; stroke: #1f77b4\"/>\n",
       "     <use xlink:href=\"#md5d20b6c36\" x=\"166.500258\" y=\"235.624435\" style=\"fill: #1f77b4; stroke: #1f77b4\"/>\n",
       "     <use xlink:href=\"#md5d20b6c36\" x=\"171.624225\" y=\"235.684622\" style=\"fill: #1f77b4; stroke: #1f77b4\"/>\n",
       "     <use xlink:href=\"#md5d20b6c36\" x=\"176.748192\" y=\"235.739266\" style=\"fill: #1f77b4; stroke: #1f77b4\"/>\n",
       "     <use xlink:href=\"#md5d20b6c36\" x=\"181.872159\" y=\"235.788877\" style=\"fill: #1f77b4; stroke: #1f77b4\"/>\n",
       "     <use xlink:href=\"#md5d20b6c36\" x=\"186.996126\" y=\"235.833919\" style=\"fill: #1f77b4; stroke: #1f77b4\"/>\n",
       "     <use xlink:href=\"#md5d20b6c36\" x=\"192.120093\" y=\"235.874813\" style=\"fill: #1f77b4; stroke: #1f77b4\"/>\n",
       "     <use xlink:href=\"#md5d20b6c36\" x=\"197.24406\" y=\"235.91194\" style=\"fill: #1f77b4; stroke: #1f77b4\"/>\n",
       "     <use xlink:href=\"#md5d20b6c36\" x=\"202.368027\" y=\"235.945649\" style=\"fill: #1f77b4; stroke: #1f77b4\"/>\n",
       "     <use xlink:href=\"#md5d20b6c36\" x=\"207.491994\" y=\"235.976252\" style=\"fill: #1f77b4; stroke: #1f77b4\"/>\n",
       "     <use xlink:href=\"#md5d20b6c36\" x=\"212.615961\" y=\"236.004038\" style=\"fill: #1f77b4; stroke: #1f77b4\"/>\n",
       "     <use xlink:href=\"#md5d20b6c36\" x=\"217.739928\" y=\"236.029264\" style=\"fill: #1f77b4; stroke: #1f77b4\"/>\n",
       "     <use xlink:href=\"#md5d20b6c36\" x=\"222.863895\" y=\"236.052167\" style=\"fill: #1f77b4; stroke: #1f77b4\"/>\n",
       "     <use xlink:href=\"#md5d20b6c36\" x=\"227.987862\" y=\"236.07296\" style=\"fill: #1f77b4; stroke: #1f77b4\"/>\n",
       "     <use xlink:href=\"#md5d20b6c36\" x=\"233.111829\" y=\"236.091839\" style=\"fill: #1f77b4; stroke: #1f77b4\"/>\n",
       "     <use xlink:href=\"#md5d20b6c36\" x=\"238.235795\" y=\"236.108979\" style=\"fill: #1f77b4; stroke: #1f77b4\"/>\n",
       "     <use xlink:href=\"#md5d20b6c36\" x=\"243.359762\" y=\"236.12454\" style=\"fill: #1f77b4; stroke: #1f77b4\"/>\n",
       "     <use xlink:href=\"#md5d20b6c36\" x=\"248.483729\" y=\"236.138668\" style=\"fill: #1f77b4; stroke: #1f77b4\"/>\n",
       "     <use xlink:href=\"#md5d20b6c36\" x=\"253.607696\" y=\"236.151495\" style=\"fill: #1f77b4; stroke: #1f77b4\"/>\n",
       "     <use xlink:href=\"#md5d20b6c36\" x=\"258.731663\" y=\"236.163141\" style=\"fill: #1f77b4; stroke: #1f77b4\"/>\n",
       "     <use xlink:href=\"#md5d20b6c36\" x=\"263.85563\" y=\"236.173714\" style=\"fill: #1f77b4; stroke: #1f77b4\"/>\n",
       "     <use xlink:href=\"#md5d20b6c36\" x=\"268.979597\" y=\"236.183313\" style=\"fill: #1f77b4; stroke: #1f77b4\"/>\n",
       "     <use xlink:href=\"#md5d20b6c36\" x=\"274.103564\" y=\"236.192029\" style=\"fill: #1f77b4; stroke: #1f77b4\"/>\n",
       "     <use xlink:href=\"#md5d20b6c36\" x=\"279.227531\" y=\"236.199941\" style=\"fill: #1f77b4; stroke: #1f77b4\"/>\n",
       "     <use xlink:href=\"#md5d20b6c36\" x=\"284.351498\" y=\"236.207125\" style=\"fill: #1f77b4; stroke: #1f77b4\"/>\n",
       "     <use xlink:href=\"#md5d20b6c36\" x=\"289.475465\" y=\"236.213647\" style=\"fill: #1f77b4; stroke: #1f77b4\"/>\n",
       "     <use xlink:href=\"#md5d20b6c36\" x=\"294.599432\" y=\"236.219569\" style=\"fill: #1f77b4; stroke: #1f77b4\"/>\n",
       "     <use xlink:href=\"#md5d20b6c36\" x=\"299.723399\" y=\"236.224945\" style=\"fill: #1f77b4; stroke: #1f77b4\"/>\n",
       "     <use xlink:href=\"#md5d20b6c36\" x=\"304.847366\" y=\"236.229826\" style=\"fill: #1f77b4; stroke: #1f77b4\"/>\n",
       "     <use xlink:href=\"#md5d20b6c36\" x=\"309.971333\" y=\"236.234258\" style=\"fill: #1f77b4; stroke: #1f77b4\"/>\n",
       "     <use xlink:href=\"#md5d20b6c36\" x=\"315.0953\" y=\"236.238281\" style=\"fill: #1f77b4; stroke: #1f77b4\"/>\n",
       "     <use xlink:href=\"#md5d20b6c36\" x=\"320.219267\" y=\"236.241934\" style=\"fill: #1f77b4; stroke: #1f77b4\"/>\n",
       "     <use xlink:href=\"#md5d20b6c36\" x=\"325.343233\" y=\"236.24525\" style=\"fill: #1f77b4; stroke: #1f77b4\"/>\n",
       "     <use xlink:href=\"#md5d20b6c36\" x=\"330.4672\" y=\"236.248261\" style=\"fill: #1f77b4; stroke: #1f77b4\"/>\n",
       "     <use xlink:href=\"#md5d20b6c36\" x=\"335.591167\" y=\"236.250995\" style=\"fill: #1f77b4; stroke: #1f77b4\"/>\n",
       "     <use xlink:href=\"#md5d20b6c36\" x=\"340.715134\" y=\"236.253477\" style=\"fill: #1f77b4; stroke: #1f77b4\"/>\n",
       "     <use xlink:href=\"#md5d20b6c36\" x=\"345.839101\" y=\"236.25573\" style=\"fill: #1f77b4; stroke: #1f77b4\"/>\n",
       "     <use xlink:href=\"#md5d20b6c36\" x=\"350.963068\" y=\"236.257776\" style=\"fill: #1f77b4; stroke: #1f77b4\"/>\n",
       "     <use xlink:href=\"#md5d20b6c36\" x=\"356.087035\" y=\"236.259633\" style=\"fill: #1f77b4; stroke: #1f77b4\"/>\n",
       "     <use xlink:href=\"#md5d20b6c36\" x=\"361.211002\" y=\"236.26132\" style=\"fill: #1f77b4; stroke: #1f77b4\"/>\n",
       "     <use xlink:href=\"#md5d20b6c36\" x=\"366.334969\" y=\"236.262851\" style=\"fill: #1f77b4; stroke: #1f77b4\"/>\n",
       "     <use xlink:href=\"#md5d20b6c36\" x=\"371.458936\" y=\"236.264241\" style=\"fill: #1f77b4; stroke: #1f77b4\"/>\n",
       "     <use xlink:href=\"#md5d20b6c36\" x=\"376.582903\" y=\"236.265503\" style=\"fill: #1f77b4; stroke: #1f77b4\"/>\n",
       "     <use xlink:href=\"#md5d20b6c36\" x=\"381.70687\" y=\"236.266649\" style=\"fill: #1f77b4; stroke: #1f77b4\"/>\n",
       "     <use xlink:href=\"#md5d20b6c36\" x=\"386.830837\" y=\"236.267689\" style=\"fill: #1f77b4; stroke: #1f77b4\"/>\n",
       "     <use xlink:href=\"#md5d20b6c36\" x=\"391.954804\" y=\"236.268633\" style=\"fill: #1f77b4; stroke: #1f77b4\"/>\n",
       "     <use xlink:href=\"#md5d20b6c36\" x=\"397.078771\" y=\"236.269491\" style=\"fill: #1f77b4; stroke: #1f77b4\"/>\n",
       "     <use xlink:href=\"#md5d20b6c36\" x=\"402.202738\" y=\"236.270269\" style=\"fill: #1f77b4; stroke: #1f77b4\"/>\n",
       "     <use xlink:href=\"#md5d20b6c36\" x=\"407.326705\" y=\"236.270976\" style=\"fill: #1f77b4; stroke: #1f77b4\"/>\n",
       "     <use xlink:href=\"#md5d20b6c36\" x=\"412.450671\" y=\"236.271618\" style=\"fill: #1f77b4; stroke: #1f77b4\"/>\n",
       "     <use xlink:href=\"#md5d20b6c36\" x=\"417.574638\" y=\"236.2722\" style=\"fill: #1f77b4; stroke: #1f77b4\"/>\n",
       "     <use xlink:href=\"#md5d20b6c36\" x=\"422.698605\" y=\"236.272729\" style=\"fill: #1f77b4; stroke: #1f77b4\"/>\n",
       "     <use xlink:href=\"#md5d20b6c36\" x=\"427.822572\" y=\"236.273209\" style=\"fill: #1f77b4; stroke: #1f77b4\"/>\n",
       "     <use xlink:href=\"#md5d20b6c36\" x=\"432.946539\" y=\"236.273645\" style=\"fill: #1f77b4; stroke: #1f77b4\"/>\n",
       "     <use xlink:href=\"#md5d20b6c36\" x=\"438.070506\" y=\"236.274041\" style=\"fill: #1f77b4; stroke: #1f77b4\"/>\n",
       "     <use xlink:href=\"#md5d20b6c36\" x=\"443.194473\" y=\"236.274401\" style=\"fill: #1f77b4; stroke: #1f77b4\"/>\n",
       "     <use xlink:href=\"#md5d20b6c36\" x=\"448.31844\" y=\"236.274727\" style=\"fill: #1f77b4; stroke: #1f77b4\"/>\n",
       "     <use xlink:href=\"#md5d20b6c36\" x=\"453.442407\" y=\"236.275023\" style=\"fill: #1f77b4; stroke: #1f77b4\"/>\n",
       "     <use xlink:href=\"#md5d20b6c36\" x=\"458.566374\" y=\"236.275292\" style=\"fill: #1f77b4; stroke: #1f77b4\"/>\n",
       "     <use xlink:href=\"#md5d20b6c36\" x=\"463.690341\" y=\"236.275536\" style=\"fill: #1f77b4; stroke: #1f77b4\"/>\n",
       "     <use xlink:href=\"#md5d20b6c36\" x=\"468.814308\" y=\"236.275758\" style=\"fill: #1f77b4; stroke: #1f77b4\"/>\n",
       "     <use xlink:href=\"#md5d20b6c36\" x=\"473.938275\" y=\"236.275959\" style=\"fill: #1f77b4; stroke: #1f77b4\"/>\n",
       "     <use xlink:href=\"#md5d20b6c36\" x=\"479.062242\" y=\"236.276142\" style=\"fill: #1f77b4; stroke: #1f77b4\"/>\n",
       "     <use xlink:href=\"#md5d20b6c36\" x=\"484.186209\" y=\"236.276308\" style=\"fill: #1f77b4; stroke: #1f77b4\"/>\n",
       "     <use xlink:href=\"#md5d20b6c36\" x=\"489.310176\" y=\"236.276459\" style=\"fill: #1f77b4; stroke: #1f77b4\"/>\n",
       "     <use xlink:href=\"#md5d20b6c36\" x=\"494.434143\" y=\"236.276595\" style=\"fill: #1f77b4; stroke: #1f77b4\"/>\n",
       "     <use xlink:href=\"#md5d20b6c36\" x=\"499.55811\" y=\"236.27672\" style=\"fill: #1f77b4; stroke: #1f77b4\"/>\n",
       "     <use xlink:href=\"#md5d20b6c36\" x=\"504.682076\" y=\"236.276832\" style=\"fill: #1f77b4; stroke: #1f77b4\"/>\n",
       "     <use xlink:href=\"#md5d20b6c36\" x=\"509.806043\" y=\"236.276935\" style=\"fill: #1f77b4; stroke: #1f77b4\"/>\n",
       "     <use xlink:href=\"#md5d20b6c36\" x=\"514.93001\" y=\"236.277028\" style=\"fill: #1f77b4; stroke: #1f77b4\"/>\n",
       "     <use xlink:href=\"#md5d20b6c36\" x=\"520.053977\" y=\"236.277112\" style=\"fill: #1f77b4; stroke: #1f77b4\"/>\n",
       "     <use xlink:href=\"#md5d20b6c36\" x=\"525.177944\" y=\"236.277189\" style=\"fill: #1f77b4; stroke: #1f77b4\"/>\n",
       "     <use xlink:href=\"#md5d20b6c36\" x=\"530.301911\" y=\"236.277258\" style=\"fill: #1f77b4; stroke: #1f77b4\"/>\n",
       "     <use xlink:href=\"#md5d20b6c36\" x=\"535.425878\" y=\"236.277321\" style=\"fill: #1f77b4; stroke: #1f77b4\"/>\n",
       "     <use xlink:href=\"#md5d20b6c36\" x=\"540.549845\" y=\"236.277379\" style=\"fill: #1f77b4; stroke: #1f77b4\"/>\n",
       "     <use xlink:href=\"#md5d20b6c36\" x=\"545.673812\" y=\"236.277431\" style=\"fill: #1f77b4; stroke: #1f77b4\"/>\n",
       "     <use xlink:href=\"#md5d20b6c36\" x=\"550.797779\" y=\"236.277478\" style=\"fill: #1f77b4; stroke: #1f77b4\"/>\n",
       "     <use xlink:href=\"#md5d20b6c36\" x=\"555.921746\" y=\"236.277521\" style=\"fill: #1f77b4; stroke: #1f77b4\"/>\n",
       "     <use xlink:href=\"#md5d20b6c36\" x=\"561.045713\" y=\"236.27756\" style=\"fill: #1f77b4; stroke: #1f77b4\"/>\n",
       "     <use xlink:href=\"#md5d20b6c36\" x=\"566.16968\" y=\"236.277595\" style=\"fill: #1f77b4; stroke: #1f77b4\"/>\n",
       "     <use xlink:href=\"#md5d20b6c36\" x=\"571.293647\" y=\"236.277627\" style=\"fill: #1f77b4; stroke: #1f77b4\"/>\n",
       "     <use xlink:href=\"#md5d20b6c36\" x=\"576.417614\" y=\"236.277656\" style=\"fill: #1f77b4; stroke: #1f77b4\"/>\n",
       "    </g>\n",
       "   </g>\n",
       "   <g id=\"patch_3\">\n",
       "    <path d=\"M 43.78125 246.357656 \n",
       "L 43.78125 24.597656 \n",
       "\" style=\"fill: none; stroke: #000000; stroke-width: 0.8; stroke-linejoin: miter; stroke-linecap: square\"/>\n",
       "   </g>\n",
       "   <g id=\"patch_4\">\n",
       "    <path d=\"M 601.78125 246.357656 \n",
       "L 601.78125 24.597656 \n",
       "\" style=\"fill: none; stroke: #000000; stroke-width: 0.8; stroke-linejoin: miter; stroke-linecap: square\"/>\n",
       "   </g>\n",
       "   <g id=\"patch_5\">\n",
       "    <path d=\"M 43.78125 246.357656 \n",
       "L 601.78125 246.357656 \n",
       "\" style=\"fill: none; stroke: #000000; stroke-width: 0.8; stroke-linejoin: miter; stroke-linecap: square\"/>\n",
       "   </g>\n",
       "   <g id=\"patch_6\">\n",
       "    <path d=\"M 43.78125 24.597656 \n",
       "L 601.78125 24.597656 \n",
       "\" style=\"fill: none; stroke: #000000; stroke-width: 0.8; stroke-linejoin: miter; stroke-linecap: square\"/>\n",
       "   </g>\n",
       "   <g id=\"text_14\">\n",
       "    <!-- Perda -->\n",
       "    <g transform=\"translate(301.606641 18.597656) scale(0.15 -0.15)\">\n",
       "     <defs>\n",
       "      <path id=\"DejaVuSans-50\" d=\"M 1259 4147 \n",
       "L 1259 2394 \n",
       "L 2053 2394 \n",
       "Q 2494 2394 2734 2622 \n",
       "Q 2975 2850 2975 3272 \n",
       "Q 2975 3691 2734 3919 \n",
       "Q 2494 4147 2053 4147 \n",
       "L 1259 4147 \n",
       "z\n",
       "M 628 4666 \n",
       "L 2053 4666 \n",
       "Q 2838 4666 3239 4311 \n",
       "Q 3641 3956 3641 3272 \n",
       "Q 3641 2581 3239 2228 \n",
       "Q 2838 1875 2053 1875 \n",
       "L 1259 1875 \n",
       "L 1259 0 \n",
       "L 628 0 \n",
       "L 628 4666 \n",
       "z\n",
       "\" transform=\"scale(0.015625)\"/>\n",
       "      <path id=\"DejaVuSans-72\" d=\"M 2631 2963 \n",
       "Q 2534 3019 2420 3045 \n",
       "Q 2306 3072 2169 3072 \n",
       "Q 1681 3072 1420 2755 \n",
       "Q 1159 2438 1159 1844 \n",
       "L 1159 0 \n",
       "L 581 0 \n",
       "L 581 3500 \n",
       "L 1159 3500 \n",
       "L 1159 2956 \n",
       "Q 1341 3275 1631 3429 \n",
       "Q 1922 3584 2338 3584 \n",
       "Q 2397 3584 2469 3576 \n",
       "Q 2541 3569 2628 3553 \n",
       "L 2631 2963 \n",
       "z\n",
       "\" transform=\"scale(0.015625)\"/>\n",
       "      <path id=\"DejaVuSans-64\" d=\"M 2906 2969 \n",
       "L 2906 4863 \n",
       "L 3481 4863 \n",
       "L 3481 0 \n",
       "L 2906 0 \n",
       "L 2906 525 \n",
       "Q 2725 213 2448 61 \n",
       "Q 2172 -91 1784 -91 \n",
       "Q 1150 -91 751 415 \n",
       "Q 353 922 353 1747 \n",
       "Q 353 2572 751 3078 \n",
       "Q 1150 3584 1784 3584 \n",
       "Q 2172 3584 2448 3432 \n",
       "Q 2725 3281 2906 2969 \n",
       "z\n",
       "M 947 1747 \n",
       "Q 947 1113 1208 752 \n",
       "Q 1469 391 1925 391 \n",
       "Q 2381 391 2643 752 \n",
       "Q 2906 1113 2906 1747 \n",
       "Q 2906 2381 2643 2742 \n",
       "Q 2381 3103 1925 3103 \n",
       "Q 1469 3103 1208 2742 \n",
       "Q 947 2381 947 1747 \n",
       "z\n",
       "\" transform=\"scale(0.015625)\"/>\n",
       "      <path id=\"DejaVuSans-61\" d=\"M 2194 1759 \n",
       "Q 1497 1759 1228 1600 \n",
       "Q 959 1441 959 1056 \n",
       "Q 959 750 1161 570 \n",
       "Q 1363 391 1709 391 \n",
       "Q 2188 391 2477 730 \n",
       "Q 2766 1069 2766 1631 \n",
       "L 2766 1759 \n",
       "L 2194 1759 \n",
       "z\n",
       "M 3341 1997 \n",
       "L 3341 0 \n",
       "L 2766 0 \n",
       "L 2766 531 \n",
       "Q 2569 213 2275 61 \n",
       "Q 1981 -91 1556 -91 \n",
       "Q 1019 -91 701 211 \n",
       "Q 384 513 384 1019 \n",
       "Q 384 1609 779 1909 \n",
       "Q 1175 2209 1959 2209 \n",
       "L 2766 2209 \n",
       "L 2766 2266 \n",
       "Q 2766 2663 2505 2880 \n",
       "Q 2244 3097 1772 3097 \n",
       "Q 1472 3097 1187 3025 \n",
       "Q 903 2953 641 2809 \n",
       "L 641 3341 \n",
       "Q 956 3463 1253 3523 \n",
       "Q 1550 3584 1831 3584 \n",
       "Q 2591 3584 2966 3190 \n",
       "Q 3341 2797 3341 1997 \n",
       "z\n",
       "\" transform=\"scale(0.015625)\"/>\n",
       "     </defs>\n",
       "     <use xlink:href=\"#DejaVuSans-50\"/>\n",
       "     <use xlink:href=\"#DejaVuSans-65\" x=\"56.677734\"/>\n",
       "     <use xlink:href=\"#DejaVuSans-72\" x=\"118.201172\"/>\n",
       "     <use xlink:href=\"#DejaVuSans-64\" x=\"157.564453\"/>\n",
       "     <use xlink:href=\"#DejaVuSans-61\" x=\"221.041016\"/>\n",
       "    </g>\n",
       "   </g>\n",
       "  </g>\n",
       " </g>\n",
       " <defs>\n",
       "  <clipPath id=\"p5083f3899d\">\n",
       "   <rect x=\"43.78125\" y=\"24.597656\" width=\"558\" height=\"221.76\"/>\n",
       "  </clipPath>\n",
       " </defs>\n",
       "</svg>\n"
      ],
      "text/plain": [
       "<Figure size 1000x400 with 1 Axes>"
      ]
     },
     "metadata": {},
     "output_type": "display_data"
    }
   ],
   "source": [
    "# Gráfico de perda\n",
    "%matplotlib inline\n",
    "%config InlineBackend.figure_format = 'svg'\n",
    "fig = plt.figure(figsize=(10, 4))\n",
    "plt.plot(list_loss, marker='o')\n",
    "plt.title('Perda', fontsize=15)\n",
    "plt.xlabel('epochs', fontsize=10)\n",
    "plt.ylabel('MSE', fontsize=10)\n",
    "plt.show()"
   ]
  },
  {
   "cell_type": "code",
   "execution_count": 16,
   "metadata": {
    "colab": {
     "base_uri": "https://localhost:8080/"
    },
    "id": "BDMpWbleQ9Qp",
    "outputId": "7950fd81-2ea2-424e-9273-bcba05f98143"
   },
   "outputs": [
    {
     "name": "stdout",
     "output_type": "stream",
     "text": [
      "Pesos: [[0.03669259 0.04254041]]\n",
      "Loss sem treinamento: 0.3398312818108879\n"
     ]
    }
   ],
   "source": [
    "# 2\n",
    "model2 = Net(2,1)\n",
    "print(f\"Pesos: {model2.w}\")\n",
    "y_pred2 = model2.forward(x_train_bias)\n",
    "loss2 = np.square(y_pred2 - y_train).mean()\n",
    "print(f\"Loss sem treinamento: {loss2}\")"
   ]
  },
  {
   "cell_type": "code",
   "execution_count": 17,
   "metadata": {
    "colab": {
     "base_uri": "https://localhost:8080/"
    },
    "id": "h78h9qotRn2L",
    "outputId": "621bebbf-9e7a-4bbd-c6c0-fc9c145579dc"
   },
   "outputs": [
    {
     "name": "stdout",
     "output_type": "stream",
     "text": [
      "Pesos: [[0.26134159 0.68646976]]\n",
      "Loss com pesos ótimos: 0.021169424119097165\n"
     ]
    }
   ],
   "source": [
    "# 3\n",
    "model3 = Net(2,1)\n",
    "model3.w = w_opt.T    # Alimentando a rede com os pesos ótimos\n",
    "print(f\"Pesos: {model3.w}\")\n",
    "y_pred3 = model3.forward(x_train_bias)\n",
    "loss3 = np.square(y_pred3 - y_train).mean()\n",
    "print(f\"Loss com pesos ótimos: {loss3}\")"
   ]
  },
  {
   "cell_type": "markdown",
   "metadata": {
    "collapsed": true,
    "id": "tgmMhSm2f9S4"
   },
   "source": [
    "# Aprendizados"
   ]
  }
 ],
 "metadata": {
  "accelerator": "TPU",
  "colab": {
   "gpuType": "V28",
   "provenance": []
  },
  "kernelspec": {
   "display_name": "Python 3.10.2 64-bit",
   "language": "python",
   "name": "python3"
  },
  "language_info": {
   "name": "python",
   "version": "3.10.2"
  },
  "vscode": {
   "interpreter": {
    "hash": "5fe3e6f0cdaab8afdc61c52912fda83f7c0a71baaea1897dd7498e2df01e69ec"
   }
  }
 },
 "nbformat": 4,
 "nbformat_minor": 0
}

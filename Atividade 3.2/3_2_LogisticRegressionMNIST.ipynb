{
  "cells": [
    {
      "cell_type": "markdown",
      "metadata": {
        "id": "Ot79tGiPOl08"
      },
      "source": [
        "# Regressão Softmax com dados do MNIST"
      ]
    },
    {
      "cell_type": "markdown",
      "metadata": {
        "id": "21fecJPyOl0-"
      },
      "source": [
        "## Objetivo"
      ]
    },
    {
      "cell_type": "markdown",
      "metadata": {
        "id": "z8SxRSoLOl1I"
      },
      "source": [
        "O objetivo deste notebook é ilustrar o uso de praticamente a mesma rede desenvolvida para a classificação das flores Íris, porém agora com o problema de classificação de dígitos manuscritos utilizando o dataset MNIST.\n",
        "As principais diferenças são:\n",
        "- tipo do dado, agora imagem com muito atributos: 28 x 28 pixels\n",
        "- número de amostras, muito maior, 60 mil\n",
        "Neste exercício será possível a interpretação do significado dos parâmetros treinados"
      ]
    },
    {
      "cell_type": "markdown",
      "metadata": {
        "id": "RKVT1A6zOl1J"
      },
      "source": [
        "## Importação das bibliotecas"
      ]
    },
    {
      "cell_type": "code",
      "execution_count": 1,
      "metadata": {
        "colab": {
          "base_uri": "https://localhost:8080/"
        },
        "id": "EVN-NfMTNk73",
        "outputId": "61cad79c-1a23-4718-f17b-49f01f310f0d"
      },
      "outputs": [
        {
          "output_type": "stream",
          "name": "stdout",
          "text": [
            "Requirement already satisfied: Pillow in /usr/local/lib/python3.10/dist-packages (11.0.0)\n"
          ]
        }
      ],
      "source": [
        "! pip install Pillow"
      ]
    },
    {
      "cell_type": "code",
      "execution_count": 2,
      "metadata": {
        "ExecuteTime": {
          "end_time": "2017-11-24T15:44:50.097111",
          "start_time": "2017-11-24T15:44:48.915046"
        },
        "id": "2oKVJHVNOl1k"
      },
      "outputs": [],
      "source": [
        "%matplotlib inline\n",
        "%config InlineBackend.figure_format = 'svg'\n",
        "import numpy as np\n",
        "import matplotlib.pyplot as plt\n",
        "import pandas as pd\n",
        "\n",
        "import torch\n",
        "from torch.autograd import Variable\n",
        "\n",
        "import torchvision"
      ]
    },
    {
      "cell_type": "markdown",
      "metadata": {
        "id": "BmeldMPaOl1p"
      },
      "source": [
        "## Carregamento dos dados do MNIST"
      ]
    },
    {
      "cell_type": "code",
      "execution_count": 3,
      "metadata": {
        "colab": {
          "base_uri": "https://localhost:8080/"
        },
        "id": "vzrUS_xbgvry",
        "outputId": "0c918a4f-bf84-49cb-c455-feea169eac2c"
      },
      "outputs": [
        {
          "output_type": "stream",
          "name": "stdout",
          "text": [
            "fatal: destination path 'MNIST' already exists and is not an empty directory.\n"
          ]
        }
      ],
      "source": [
        "! git clone https://github.com/vcasadei/MNIST.git"
      ]
    },
    {
      "cell_type": "code",
      "execution_count": 4,
      "metadata": {
        "colab": {
          "base_uri": "https://localhost:8080/"
        },
        "id": "f6tbsAECg5JB",
        "outputId": "ca9a61c0-c590-4705-cda5-58365412d899"
      },
      "outputs": [
        {
          "output_type": "stream",
          "name": "stdout",
          "text": [
            "processed  raw\n"
          ]
        }
      ],
      "source": [
        "!ls MNIST"
      ]
    },
    {
      "cell_type": "code",
      "execution_count": 5,
      "metadata": {
        "ExecuteTime": {
          "end_time": "2017-11-24T15:44:50.638218",
          "start_time": "2017-11-24T15:44:50.098808"
        },
        "colab": {
          "base_uri": "https://localhost:8080/"
        },
        "id": "q0KuxPGVOl1q",
        "outputId": "c53561cc-480d-47f3-ef99-f33a51fdc0a8"
      },
      "outputs": [
        {
          "output_type": "stream",
          "name": "stderr",
          "text": [
            "<ipython-input-5-6143b94785d1>:3: FutureWarning: You are using `torch.load` with `weights_only=False` (the current default value), which uses the default pickle module implicitly. It is possible to construct malicious pickle data which will execute arbitrary code during unpickling (See https://github.com/pytorch/pytorch/blob/main/SECURITY.md#untrusted-models for more details). In a future release, the default value for `weights_only` will be flipped to `True`. This limits the functions that could be executed during unpickling. Arbitrary objects will no longer be allowed to be loaded via this mode unless they are explicitly allowlisted by the user via `torch.serialization.add_safe_globals`. We recommend you start setting `weights_only=True` for any use case where you don't have full control of the loaded file. Please open an issue on GitHub for any issues related to this experimental feature.\n",
            "  x_train, y_train = torch.load(dataset_dir + 'processed/training.pt')\n"
          ]
        },
        {
          "output_type": "stream",
          "name": "stdout",
          "text": [
            "Amostras de treinamento: 60000\n",
            "\n",
            "Dimensões dos dados das imagens:    torch.Size([60000, 28, 28])\n",
            "Valores mínimo e máximo dos pixels: tensor(0, dtype=torch.uint8) tensor(255, dtype=torch.uint8)\n",
            "Tipo dos dados das imagens:         <class 'torch.Tensor'>\n",
            "Tipo das classes das imagens:       <class 'torch.Tensor'>\n"
          ]
        }
      ],
      "source": [
        "dataset_dir = 'MNIST/'\n",
        "\n",
        "x_train, y_train = torch.load(dataset_dir + 'processed/training.pt')\n",
        "\n",
        "print(\"Amostras de treinamento:\", x_train.size(0))\n",
        "\n",
        "print(\"\\nDimensões dos dados das imagens:   \", x_train.size())\n",
        "print(\"Valores mínimo e máximo dos pixels:\", torch.min(x_train), torch.max(x_train))\n",
        "print(\"Tipo dos dados das imagens:        \", type(x_train))\n",
        "print(\"Tipo das classes das imagens:      \", type(y_train))"
      ]
    },
    {
      "cell_type": "markdown",
      "metadata": {
        "id": "DccnsPRCOl1y"
      },
      "source": [
        "### Carregamento, normalização e seleção dos dados do MNIST\n",
        "\n",
        "Neste exemplo utilizaremos apenas 1000 amostras de treinamento."
      ]
    },
    {
      "cell_type": "code",
      "execution_count": 6,
      "metadata": {
        "ExecuteTime": {
          "end_time": "2017-11-24T15:44:50.895668",
          "start_time": "2017-11-24T15:44:50.640110"
        },
        "colab": {
          "base_uri": "https://localhost:8080/"
        },
        "id": "jRfSlVpnOl10",
        "outputId": "fe1368a8-9a5e-44b8-dd03-6d755fcd9384"
      },
      "outputs": [
        {
          "output_type": "stream",
          "name": "stdout",
          "text": [
            "Amostras de treinamento: 60000\n",
            "\n",
            "Dimensões dos dados das imagens:    torch.Size([60000, 28, 28])\n",
            "Valores mínimo e máximo dos pixels: tensor(0.) tensor(1.)\n",
            "Tipo dos dados das imagens:         <class 'torch.Tensor'>\n",
            "Tipo das classes das imagens:       <class 'torch.Tensor'>\n"
          ]
        }
      ],
      "source": [
        "x_train = x_train.float()\n",
        "\n",
        "x_train = x_train / 255.\n",
        "\n",
        "if False:\n",
        "    n_samples_train = 1000\n",
        "\n",
        "    x_train = x_train[:n_samples_train]\n",
        "    y_train = y_train[:n_samples_train]\n",
        "\n",
        "print(\"Amostras de treinamento:\", x_train.size(0))\n",
        "\n",
        "print(\"\\nDimensões dos dados das imagens:   \", x_train.size())\n",
        "print(\"Valores mínimo e máximo dos pixels:\", torch.min(x_train), torch.max(x_train))\n",
        "print(\"Tipo dos dados das imagens:        \", type(x_train))\n",
        "print(\"Tipo das classes das imagens:      \", type(y_train))"
      ]
    },
    {
      "cell_type": "markdown",
      "metadata": {
        "id": "0tXHwvS_Ol13"
      },
      "source": [
        "### Visualizando os dados"
      ]
    },
    {
      "cell_type": "code",
      "execution_count": 7,
      "metadata": {
        "ExecuteTime": {
          "end_time": "2017-11-24T16:32:19.474568",
          "start_time": "2017-11-24T16:32:19.207270"
        },
        "colab": {
          "base_uri": "https://localhost:8080/",
          "height": 480
        },
        "id": "zV7-8V9UOl15",
        "outputId": "cfaa3f6f-0bad-47c5-c899-be4e54522866"
      },
      "outputs": [
        {
          "output_type": "execute_result",
          "data": {
            "text/plain": [
              "(-0.5, 232.5, 87.5, -0.5)"
            ]
          },
          "metadata": {},
          "execution_count": 7
        },
        {
          "output_type": "display_data",
          "data": {
            "text/plain": [
              "<Figure size 1500x1000 with 1 Axes>"
            ],
            "image/svg+xml": "<?xml version=\"1.0\" encoding=\"utf-8\" standalone=\"no\"?>\n<!DOCTYPE svg PUBLIC \"-//W3C//DTD SVG 1.1//EN\"\n  \"http://www.w3.org/Graphics/SVG/1.1/DTD/svg11.dtd\">\n<svg xmlns:xlink=\"http://www.w3.org/1999/xlink\" width=\"851.4pt\" height=\"330.520172pt\" viewBox=\"0 0 851.4 330.520172\" xmlns=\"http://www.w3.org/2000/svg\" version=\"1.1\">\n <metadata>\n  <rdf:RDF xmlns:dc=\"http://purl.org/dc/elements/1.1/\" xmlns:cc=\"http://creativecommons.org/ns#\" xmlns:rdf=\"http://www.w3.org/1999/02/22-rdf-syntax-ns#\">\n   <cc:Work>\n    <dc:type rdf:resource=\"http://purl.org/dc/dcmitype/StillImage\"/>\n    <dc:date>2024-11-23T14:24:09.312446</dc:date>\n    <dc:format>image/svg+xml</dc:format>\n    <dc:creator>\n     <cc:Agent>\n      <dc:title>Matplotlib v3.8.0, https://matplotlib.org/</dc:title>\n     </cc:Agent>\n    </dc:creator>\n   </cc:Work>\n  </rdf:RDF>\n </metadata>\n <defs>\n  <style type=\"text/css\">*{stroke-linejoin: round; stroke-linecap: butt}</style>\n </defs>\n <g id=\"figure_1\">\n  <g id=\"patch_1\">\n   <path d=\"M 0 330.520172 \nL 851.4 330.520172 \nL 851.4 -0 \nL 0 -0 \nz\n\" style=\"fill: #ffffff\"/>\n  </g>\n  <g id=\"axes_1\">\n   <g clip-path=\"url(#pfc46944925)\">\n    <image xlink:href=\"data:image/png;base64,\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\" id=\"image169c679cd9\" transform=\"scale(1 -1) translate(0 -316.8)\" x=\"7.2\" y=\"-6.520172\" width=\"837.36\" height=\"316.8\"/>\n   </g>\n  </g>\n </g>\n <defs>\n  <clipPath id=\"pfc46944925\">\n   <rect x=\"7.2\" y=\"7.2\" width=\"837\" height=\"316.120172\"/>\n  </clipPath>\n </defs>\n</svg>\n"
          },
          "metadata": {}
        }
      ],
      "source": [
        "n_samples = 24\n",
        "\n",
        "# cria um grid com as imagens\n",
        "grid = torchvision.utils.make_grid(x_train[:n_samples].unsqueeze(dim=1), pad_value=1.0, padding=1)\n",
        "\n",
        "plt.figure(figsize=(15, 10))\n",
        "plt.imshow(grid.numpy().transpose(1, 2, 0))\n",
        "plt.axis('off')"
      ]
    },
    {
      "cell_type": "markdown",
      "metadata": {
        "id": "biPfk_htOl2H"
      },
      "source": [
        "### Visualizando uma imagem com o matplotlib"
      ]
    },
    {
      "cell_type": "code",
      "execution_count": 8,
      "metadata": {
        "ExecuteTime": {
          "end_time": "2017-11-24T15:44:51.413232",
          "start_time": "2017-11-24T15:44:51.251376"
        },
        "colab": {
          "base_uri": "https://localhost:8080/",
          "height": 435
        },
        "id": "tAs2Zy28Ol2I",
        "outputId": "e69a558e-0ff5-4fe2-8085-a57c6f964de6",
        "scrolled": true
      },
      "outputs": [
        {
          "output_type": "stream",
          "name": "stdout",
          "text": [
            "class: tensor(5)\n"
          ]
        },
        {
          "output_type": "display_data",
          "data": {
            "text/plain": [
              "<Figure size 640x480 with 1 Axes>"
            ],
            "image/svg+xml": "<?xml version=\"1.0\" encoding=\"utf-8\" standalone=\"no\"?>\n<!DOCTYPE svg PUBLIC \"-//W3C//DTD SVG 1.1//EN\"\n  \"http://www.w3.org/Graphics/SVG/1.1/DTD/svg11.dtd\">\n<svg xmlns:xlink=\"http://www.w3.org/1999/xlink\" width=\"300.237pt\" height=\"297.190125pt\" viewBox=\"0 0 300.237 297.190125\" xmlns=\"http://www.w3.org/2000/svg\" version=\"1.1\">\n <metadata>\n  <rdf:RDF xmlns:dc=\"http://purl.org/dc/elements/1.1/\" xmlns:cc=\"http://creativecommons.org/ns#\" xmlns:rdf=\"http://www.w3.org/1999/02/22-rdf-syntax-ns#\">\n   <cc:Work>\n    <dc:type rdf:resource=\"http://purl.org/dc/dcmitype/StillImage\"/>\n    <dc:date>2024-11-23T14:24:09.834189</dc:date>\n    <dc:format>image/svg+xml</dc:format>\n    <dc:creator>\n     <cc:Agent>\n      <dc:title>Matplotlib v3.8.0, https://matplotlib.org/</dc:title>\n     </cc:Agent>\n    </dc:creator>\n   </cc:Work>\n  </rdf:RDF>\n </metadata>\n <defs>\n  <style type=\"text/css\">*{stroke-linejoin: round; stroke-linecap: butt}</style>\n </defs>\n <g id=\"figure_1\">\n  <g id=\"patch_1\">\n   <path d=\"M -0 297.190125 \nL 300.237 297.190125 \nL 300.237 0 \nL -0 0 \nz\n\" style=\"fill: #ffffff\"/>\n  </g>\n  <g id=\"axes_1\">\n   <g id=\"patch_2\">\n    <path d=\"M 26.925 273.312 \nL 293.037 273.312 \nL 293.037 7.2 \nL 26.925 7.2 \nz\n\" style=\"fill: #ffffff\"/>\n   </g>\n   <g clip-path=\"url(#p6c170aa8ce)\">\n    <image xlink:href=\"data:image/png;base64,\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\" id=\"imaged2fd4f54e4\" transform=\"scale(1 -1) translate(0 -266.4)\" x=\"26.925\" y=\"-6.912\" width=\"266.4\" height=\"266.4\"/>\n   </g>\n   <g id=\"matplotlib.axis_1\">\n    <g id=\"xtick_1\">\n     <g id=\"line2d_1\">\n      <defs>\n       <path id=\"ma09543e95d\" d=\"M 0 0 \nL 0 3.5 \n\" style=\"stroke: #000000; stroke-width: 0.8\"/>\n      </defs>\n      <g>\n       <use xlink:href=\"#ma09543e95d\" x=\"31.677\" y=\"273.312\" style=\"stroke: #000000; stroke-width: 0.8\"/>\n      </g>\n     </g>\n     <g id=\"text_1\">\n      <!-- 0 -->\n      <g transform=\"translate(28.49575 287.910437) scale(0.1 -0.1)\">\n       <defs>\n        <path id=\"DejaVuSans-30\" d=\"M 2034 4250 \nQ 1547 4250 1301 3770 \nQ 1056 3291 1056 2328 \nQ 1056 1369 1301 889 \nQ 1547 409 2034 409 \nQ 2525 409 2770 889 \nQ 3016 1369 3016 2328 \nQ 3016 3291 2770 3770 \nQ 2525 4250 2034 4250 \nz\nM 2034 4750 \nQ 2819 4750 3233 4129 \nQ 3647 3509 3647 2328 \nQ 3647 1150 3233 529 \nQ 2819 -91 2034 -91 \nQ 1250 -91 836 529 \nQ 422 1150 422 2328 \nQ 422 3509 836 4129 \nQ 1250 4750 2034 4750 \nz\n\" transform=\"scale(0.015625)\"/>\n       </defs>\n       <use xlink:href=\"#DejaVuSans-30\"/>\n      </g>\n     </g>\n    </g>\n    <g id=\"xtick_2\">\n     <g id=\"line2d_2\">\n      <g>\n       <use xlink:href=\"#ma09543e95d\" x=\"79.197\" y=\"273.312\" style=\"stroke: #000000; stroke-width: 0.8\"/>\n      </g>\n     </g>\n     <g id=\"text_2\">\n      <!-- 5 -->\n      <g transform=\"translate(76.01575 287.910437) scale(0.1 -0.1)\">\n       <defs>\n        <path id=\"DejaVuSans-35\" d=\"M 691 4666 \nL 3169 4666 \nL 3169 4134 \nL 1269 4134 \nL 1269 2991 \nQ 1406 3038 1543 3061 \nQ 1681 3084 1819 3084 \nQ 2600 3084 3056 2656 \nQ 3513 2228 3513 1497 \nQ 3513 744 3044 326 \nQ 2575 -91 1722 -91 \nQ 1428 -91 1123 -41 \nQ 819 9 494 109 \nL 494 744 \nQ 775 591 1075 516 \nQ 1375 441 1709 441 \nQ 2250 441 2565 725 \nQ 2881 1009 2881 1497 \nQ 2881 1984 2565 2268 \nQ 2250 2553 1709 2553 \nQ 1456 2553 1204 2497 \nQ 953 2441 691 2322 \nL 691 4666 \nz\n\" transform=\"scale(0.015625)\"/>\n       </defs>\n       <use xlink:href=\"#DejaVuSans-35\"/>\n      </g>\n     </g>\n    </g>\n    <g id=\"xtick_3\">\n     <g id=\"line2d_3\">\n      <g>\n       <use xlink:href=\"#ma09543e95d\" x=\"126.717\" y=\"273.312\" style=\"stroke: #000000; stroke-width: 0.8\"/>\n      </g>\n     </g>\n     <g id=\"text_3\">\n      <!-- 10 -->\n      <g transform=\"translate(120.3545 287.910437) scale(0.1 -0.1)\">\n       <defs>\n        <path id=\"DejaVuSans-31\" d=\"M 794 531 \nL 1825 531 \nL 1825 4091 \nL 703 3866 \nL 703 4441 \nL 1819 4666 \nL 2450 4666 \nL 2450 531 \nL 3481 531 \nL 3481 0 \nL 794 0 \nL 794 531 \nz\n\" transform=\"scale(0.015625)\"/>\n       </defs>\n       <use xlink:href=\"#DejaVuSans-31\"/>\n       <use xlink:href=\"#DejaVuSans-30\" x=\"63.623047\"/>\n      </g>\n     </g>\n    </g>\n    <g id=\"xtick_4\">\n     <g id=\"line2d_4\">\n      <g>\n       <use xlink:href=\"#ma09543e95d\" x=\"174.237\" y=\"273.312\" style=\"stroke: #000000; stroke-width: 0.8\"/>\n      </g>\n     </g>\n     <g id=\"text_4\">\n      <!-- 15 -->\n      <g transform=\"translate(167.8745 287.910437) scale(0.1 -0.1)\">\n       <use xlink:href=\"#DejaVuSans-31\"/>\n       <use xlink:href=\"#DejaVuSans-35\" x=\"63.623047\"/>\n      </g>\n     </g>\n    </g>\n    <g id=\"xtick_5\">\n     <g id=\"line2d_5\">\n      <g>\n       <use xlink:href=\"#ma09543e95d\" x=\"221.757\" y=\"273.312\" style=\"stroke: #000000; stroke-width: 0.8\"/>\n      </g>\n     </g>\n     <g id=\"text_5\">\n      <!-- 20 -->\n      <g transform=\"translate(215.3945 287.910437) scale(0.1 -0.1)\">\n       <defs>\n        <path id=\"DejaVuSans-32\" d=\"M 1228 531 \nL 3431 531 \nL 3431 0 \nL 469 0 \nL 469 531 \nQ 828 903 1448 1529 \nQ 2069 2156 2228 2338 \nQ 2531 2678 2651 2914 \nQ 2772 3150 2772 3378 \nQ 2772 3750 2511 3984 \nQ 2250 4219 1831 4219 \nQ 1534 4219 1204 4116 \nQ 875 4013 500 3803 \nL 500 4441 \nQ 881 4594 1212 4672 \nQ 1544 4750 1819 4750 \nQ 2544 4750 2975 4387 \nQ 3406 4025 3406 3419 \nQ 3406 3131 3298 2873 \nQ 3191 2616 2906 2266 \nQ 2828 2175 2409 1742 \nQ 1991 1309 1228 531 \nz\n\" transform=\"scale(0.015625)\"/>\n       </defs>\n       <use xlink:href=\"#DejaVuSans-32\"/>\n       <use xlink:href=\"#DejaVuSans-30\" x=\"63.623047\"/>\n      </g>\n     </g>\n    </g>\n    <g id=\"xtick_6\">\n     <g id=\"line2d_6\">\n      <g>\n       <use xlink:href=\"#ma09543e95d\" x=\"269.277\" y=\"273.312\" style=\"stroke: #000000; stroke-width: 0.8\"/>\n      </g>\n     </g>\n     <g id=\"text_6\">\n      <!-- 25 -->\n      <g transform=\"translate(262.9145 287.910437) scale(0.1 -0.1)\">\n       <use xlink:href=\"#DejaVuSans-32\"/>\n       <use xlink:href=\"#DejaVuSans-35\" x=\"63.623047\"/>\n      </g>\n     </g>\n    </g>\n   </g>\n   <g id=\"matplotlib.axis_2\">\n    <g id=\"ytick_1\">\n     <g id=\"line2d_7\">\n      <defs>\n       <path id=\"mea5e709e5b\" d=\"M 0 0 \nL -3.5 0 \n\" style=\"stroke: #000000; stroke-width: 0.8\"/>\n      </defs>\n      <g>\n       <use xlink:href=\"#mea5e709e5b\" x=\"26.925\" y=\"11.952\" style=\"stroke: #000000; stroke-width: 0.8\"/>\n      </g>\n     </g>\n     <g id=\"text_7\">\n      <!-- 0 -->\n      <g transform=\"translate(13.5625 15.751219) scale(0.1 -0.1)\">\n       <use xlink:href=\"#DejaVuSans-30\"/>\n      </g>\n     </g>\n    </g>\n    <g id=\"ytick_2\">\n     <g id=\"line2d_8\">\n      <g>\n       <use xlink:href=\"#mea5e709e5b\" x=\"26.925\" y=\"59.472\" style=\"stroke: #000000; stroke-width: 0.8\"/>\n      </g>\n     </g>\n     <g id=\"text_8\">\n      <!-- 5 -->\n      <g transform=\"translate(13.5625 63.271219) scale(0.1 -0.1)\">\n       <use xlink:href=\"#DejaVuSans-35\"/>\n      </g>\n     </g>\n    </g>\n    <g id=\"ytick_3\">\n     <g id=\"line2d_9\">\n      <g>\n       <use xlink:href=\"#mea5e709e5b\" x=\"26.925\" y=\"106.992\" style=\"stroke: #000000; stroke-width: 0.8\"/>\n      </g>\n     </g>\n     <g id=\"text_9\">\n      <!-- 10 -->\n      <g transform=\"translate(7.2 110.791219) scale(0.1 -0.1)\">\n       <use xlink:href=\"#DejaVuSans-31\"/>\n       <use xlink:href=\"#DejaVuSans-30\" x=\"63.623047\"/>\n      </g>\n     </g>\n    </g>\n    <g id=\"ytick_4\">\n     <g id=\"line2d_10\">\n      <g>\n       <use xlink:href=\"#mea5e709e5b\" x=\"26.925\" y=\"154.512\" style=\"stroke: #000000; stroke-width: 0.8\"/>\n      </g>\n     </g>\n     <g id=\"text_10\">\n      <!-- 15 -->\n      <g transform=\"translate(7.2 158.311219) scale(0.1 -0.1)\">\n       <use xlink:href=\"#DejaVuSans-31\"/>\n       <use xlink:href=\"#DejaVuSans-35\" x=\"63.623047\"/>\n      </g>\n     </g>\n    </g>\n    <g id=\"ytick_5\">\n     <g id=\"line2d_11\">\n      <g>\n       <use xlink:href=\"#mea5e709e5b\" x=\"26.925\" y=\"202.032\" style=\"stroke: #000000; stroke-width: 0.8\"/>\n      </g>\n     </g>\n     <g id=\"text_11\">\n      <!-- 20 -->\n      <g transform=\"translate(7.2 205.831219) scale(0.1 -0.1)\">\n       <use xlink:href=\"#DejaVuSans-32\"/>\n       <use xlink:href=\"#DejaVuSans-30\" x=\"63.623047\"/>\n      </g>\n     </g>\n    </g>\n    <g id=\"ytick_6\">\n     <g id=\"line2d_12\">\n      <g>\n       <use xlink:href=\"#mea5e709e5b\" x=\"26.925\" y=\"249.552\" style=\"stroke: #000000; stroke-width: 0.8\"/>\n      </g>\n     </g>\n     <g id=\"text_12\">\n      <!-- 25 -->\n      <g transform=\"translate(7.2 253.351219) scale(0.1 -0.1)\">\n       <use xlink:href=\"#DejaVuSans-32\"/>\n       <use xlink:href=\"#DejaVuSans-35\" x=\"63.623047\"/>\n      </g>\n     </g>\n    </g>\n   </g>\n   <g id=\"patch_3\">\n    <path d=\"M 26.925 273.312 \nL 26.925 7.2 \n\" style=\"fill: none; stroke: #000000; stroke-width: 0.8; stroke-linejoin: miter; stroke-linecap: square\"/>\n   </g>\n   <g id=\"patch_4\">\n    <path d=\"M 293.037 273.312 \nL 293.037 7.2 \n\" style=\"fill: none; stroke: #000000; stroke-width: 0.8; stroke-linejoin: miter; stroke-linecap: square\"/>\n   </g>\n   <g id=\"patch_5\">\n    <path d=\"M 26.925 273.312 \nL 293.037 273.312 \n\" style=\"fill: none; stroke: #000000; stroke-width: 0.8; stroke-linejoin: miter; stroke-linecap: square\"/>\n   </g>\n   <g id=\"patch_6\">\n    <path d=\"M 26.925 7.2 \nL 293.037 7.2 \n\" style=\"fill: none; stroke: #000000; stroke-width: 0.8; stroke-linejoin: miter; stroke-linecap: square\"/>\n   </g>\n  </g>\n </g>\n <defs>\n  <clipPath id=\"p6c170aa8ce\">\n   <rect x=\"26.925\" y=\"7.2\" width=\"266.112\" height=\"266.112\"/>\n  </clipPath>\n </defs>\n</svg>\n"
          },
          "metadata": {}
        }
      ],
      "source": [
        "image  = x_train[0]\n",
        "target = y_train[0]\n",
        "\n",
        "plt.imshow(image.numpy(), cmap='gray')\n",
        "print('class:', target)"
      ]
    },
    {
      "cell_type": "markdown",
      "metadata": {
        "id": "jWlWHjOvOl2R"
      },
      "source": [
        "## Modelo"
      ]
    },
    {
      "cell_type": "code",
      "execution_count": 9,
      "metadata": {
        "ExecuteTime": {
          "end_time": "2017-11-24T15:44:51.419287",
          "start_time": "2017-11-24T15:44:51.415065"
        },
        "id": "8OeUJnUqOl2T"
      },
      "outputs": [],
      "source": [
        "model = torch.nn.Linear(28*28, 10) # 28*28 atributos de entrada e 10 neurônios na sáida"
      ]
    },
    {
      "cell_type": "markdown",
      "metadata": {
        "id": "COKUqRSGOl2d"
      },
      "source": [
        "### Testando um predict com poucas amostras"
      ]
    },
    {
      "cell_type": "code",
      "execution_count": 10,
      "metadata": {
        "colab": {
          "base_uri": "https://localhost:8080/"
        },
        "id": "Rxf7FUZOOl2g",
        "outputId": "d8053474-5e45-4762-ad41-f25cb3aad6f5"
      },
      "outputs": [
        {
          "output_type": "execute_result",
          "data": {
            "text/plain": [
              "tensor([[ 0.0018, -0.2203, -0.0887,  0.1042, -0.0972, -0.1365,  0.2814,  0.0497,\n",
              "         -0.0158, -0.2139],\n",
              "        [-0.0866,  0.2500, -0.0748, -0.3129, -0.1166, -0.0264, -0.1750,  0.3641,\n",
              "          0.3074, -0.3474],\n",
              "        [ 0.0113, -0.0631, -0.0039, -0.2041, -0.1616,  0.2050, -0.2380,  0.2693,\n",
              "          0.1064, -0.1158],\n",
              "        [ 0.1666, -0.1063, -0.1904,  0.0539, -0.1095,  0.2814, -0.1247, -0.1836,\n",
              "          0.1942, -0.0166],\n",
              "        [-0.0047,  0.2054, -0.1994,  0.0917, -0.1607,  0.1253, -0.0664,  0.0830,\n",
              "          0.1885, -0.0938]], grad_fn=<AddmmBackward0>)"
            ]
          },
          "metadata": {},
          "execution_count": 10
        }
      ],
      "source": [
        "xin = x_train[:5].view(-1,28*28)\n",
        "score = model(Variable(xin))\n",
        "score"
      ]
    },
    {
      "cell_type": "markdown",
      "metadata": {
        "id": "JsyINWhBOl2m"
      },
      "source": [
        "## Treinamento"
      ]
    },
    {
      "cell_type": "markdown",
      "metadata": {
        "id": "Cj7WB9NzOl2n"
      },
      "source": [
        "### Inicialização dos parâmetros"
      ]
    },
    {
      "cell_type": "code",
      "execution_count": 11,
      "metadata": {
        "ExecuteTime": {
          "end_time": "2017-11-24T15:44:51.425768",
          "start_time": "2017-11-24T15:44:51.420825"
        },
        "id": "xgTvQXGCOl2o"
      },
      "outputs": [],
      "source": [
        "epochs = 100\n",
        "learningRate = 0.5\n",
        "\n",
        "# Utilizaremos CrossEntropyLoss como função de perda\n",
        "criterion = torch.nn.CrossEntropyLoss()\n",
        "\n",
        "# Gradiente descendente\n",
        "optimizer = torch.optim.SGD(model.parameters(), lr=learningRate)"
      ]
    },
    {
      "cell_type": "markdown",
      "metadata": {
        "id": "fK50bgRzOl2z"
      },
      "source": [
        "### Visualização do grafo computacional da perda (loss)"
      ]
    },
    {
      "cell_type": "code",
      "execution_count": 12,
      "metadata": {
        "colab": {
          "base_uri": "https://localhost:8080/"
        },
        "id": "sLuv_VgNENQf",
        "outputId": "36a96323-5dea-4760-cf40-6cb8a4693336"
      },
      "outputs": [
        {
          "output_type": "stream",
          "name": "stdout",
          "text": [
            "Requirement already satisfied: graphviz in /usr/local/lib/python3.10/dist-packages (0.20.3)\n",
            "Collecting git+https://github.com/szagoruyko/pytorchviz\n",
            "  Cloning https://github.com/szagoruyko/pytorchviz to /tmp/pip-req-build-t3m8roaq\n",
            "  Running command git clone --filter=blob:none --quiet https://github.com/szagoruyko/pytorchviz /tmp/pip-req-build-t3m8roaq\n",
            "  Resolved https://github.com/szagoruyko/pytorchviz to commit 0adcd83af8aa7ab36d6afd139cabbd9df598edb7\n",
            "  Preparing metadata (setup.py) ... \u001b[?25l\u001b[?25hdone\n",
            "Requirement already satisfied: torch in /usr/local/lib/python3.10/dist-packages (from torchviz==0.0.2) (2.5.1+cu121)\n",
            "Requirement already satisfied: graphviz in /usr/local/lib/python3.10/dist-packages (from torchviz==0.0.2) (0.20.3)\n",
            "Requirement already satisfied: filelock in /usr/local/lib/python3.10/dist-packages (from torch->torchviz==0.0.2) (3.16.1)\n",
            "Requirement already satisfied: typing-extensions>=4.8.0 in /usr/local/lib/python3.10/dist-packages (from torch->torchviz==0.0.2) (4.12.2)\n",
            "Requirement already satisfied: networkx in /usr/local/lib/python3.10/dist-packages (from torch->torchviz==0.0.2) (3.4.2)\n",
            "Requirement already satisfied: jinja2 in /usr/local/lib/python3.10/dist-packages (from torch->torchviz==0.0.2) (3.1.4)\n",
            "Requirement already satisfied: fsspec in /usr/local/lib/python3.10/dist-packages (from torch->torchviz==0.0.2) (2024.10.0)\n",
            "Requirement already satisfied: sympy==1.13.1 in /usr/local/lib/python3.10/dist-packages (from torch->torchviz==0.0.2) (1.13.1)\n",
            "Requirement already satisfied: mpmath<1.4,>=1.1.0 in /usr/local/lib/python3.10/dist-packages (from sympy==1.13.1->torch->torchviz==0.0.2) (1.3.0)\n",
            "Requirement already satisfied: MarkupSafe>=2.0 in /usr/local/lib/python3.10/dist-packages (from jinja2->torch->torchviz==0.0.2) (3.0.2)\n"
          ]
        }
      ],
      "source": [
        "!pip install graphviz\n",
        "!pip install git+https://github.com/szagoruyko/pytorchviz"
      ]
    },
    {
      "cell_type": "code",
      "execution_count": 13,
      "metadata": {
        "ExecuteTime": {
          "end_time": "2017-11-24T16:28:18.101867",
          "start_time": "2017-11-24T16:28:18.062312"
        },
        "colab": {
          "base_uri": "https://localhost:8080/"
        },
        "id": "icZLveYLOl20",
        "outputId": "a5dc75a1-4397-4ed7-b388-bc3f5aa6e6ff"
      },
      "outputs": [
        {
          "output_type": "execute_result",
          "data": {
            "text/plain": [
              "tensor(2.3342, grad_fn=<NllLossBackward0>)"
            ]
          },
          "metadata": {},
          "execution_count": 13
        }
      ],
      "source": [
        "from torchviz import make_dot, make_dot_from_trace\n",
        "y_pred = model(Variable(x_train.view(-1,28*28)))\n",
        "loss = criterion(y_pred, Variable(y_train))\n",
        "loss\n"
      ]
    },
    {
      "cell_type": "code",
      "source": [
        "p = make_dot(loss, dict(model.named_parameters()))\n",
        "p"
      ],
      "metadata": {
        "id": "U15ie_7ni0JE",
        "outputId": "a9de7c06-3023-4733-de22-72228d03b1cf",
        "colab": {
          "base_uri": "https://localhost:8080/",
          "height": 543
        }
      },
      "execution_count": 14,
      "outputs": [
        {
          "output_type": "execute_result",
          "data": {
            "image/svg+xml": "<?xml version=\"1.0\" encoding=\"UTF-8\" standalone=\"no\"?>\n<!DOCTYPE svg PUBLIC \"-//W3C//DTD SVG 1.1//EN\"\n \"http://www.w3.org/Graphics/SVG/1.1/DTD/svg11.dtd\">\n<!-- Generated by graphviz version 2.43.0 (0)\n -->\n<!-- Title: %3 Pages: 1 -->\n<svg width=\"216pt\" height=\"391pt\"\n viewBox=\"0.00 0.00 216.00 391.00\" xmlns=\"http://www.w3.org/2000/svg\" xmlns:xlink=\"http://www.w3.org/1999/xlink\">\n<g id=\"graph0\" class=\"graph\" transform=\"scale(1 1) rotate(0) translate(4 387)\">\n<title>%3</title>\n<polygon fill=\"white\" stroke=\"transparent\" points=\"-4,4 -4,-387 212,-387 212,4 -4,4\"/>\n<!-- 137861075679600 -->\n<g id=\"node1\" class=\"node\">\n<title>137861075679600</title>\n<polygon fill=\"#caff70\" stroke=\"black\" points=\"130.5,-31 76.5,-31 76.5,0 130.5,0 130.5,-31\"/>\n<text text-anchor=\"middle\" x=\"103.5\" y=\"-7\" font-family=\"monospace\" font-size=\"10.00\"> ()</text>\n</g>\n<!-- 137861075316656 -->\n<g id=\"node2\" class=\"node\">\n<title>137861075316656</title>\n<polygon fill=\"lightgrey\" stroke=\"black\" points=\"160,-86 47,-86 47,-67 160,-67 160,-86\"/>\n<text text-anchor=\"middle\" x=\"103.5\" y=\"-74\" font-family=\"monospace\" font-size=\"10.00\">NllLossBackward0</text>\n</g>\n<!-- 137861075316656&#45;&gt;137861075679600 -->\n<g id=\"edge8\" class=\"edge\">\n<title>137861075316656&#45;&gt;137861075679600</title>\n<path fill=\"none\" stroke=\"black\" d=\"M103.5,-66.79C103.5,-60.07 103.5,-50.4 103.5,-41.34\"/>\n<polygon fill=\"black\" stroke=\"black\" points=\"107,-41.19 103.5,-31.19 100,-41.19 107,-41.19\"/>\n</g>\n<!-- 137861075319968 -->\n<g id=\"node3\" class=\"node\">\n<title>137861075319968</title>\n<polygon fill=\"lightgrey\" stroke=\"black\" points=\"169,-141 38,-141 38,-122 169,-122 169,-141\"/>\n<text text-anchor=\"middle\" x=\"103.5\" y=\"-129\" font-family=\"monospace\" font-size=\"10.00\">LogSoftmaxBackward0</text>\n</g>\n<!-- 137861075319968&#45;&gt;137861075316656 -->\n<g id=\"edge1\" class=\"edge\">\n<title>137861075319968&#45;&gt;137861075316656</title>\n<path fill=\"none\" stroke=\"black\" d=\"M103.5,-121.75C103.5,-114.8 103.5,-104.85 103.5,-96.13\"/>\n<polygon fill=\"black\" stroke=\"black\" points=\"107,-96.09 103.5,-86.09 100,-96.09 107,-96.09\"/>\n</g>\n<!-- 137861075721024 -->\n<g id=\"node4\" class=\"node\">\n<title>137861075721024</title>\n<polygon fill=\"lightgrey\" stroke=\"black\" points=\"154,-196 53,-196 53,-177 154,-177 154,-196\"/>\n<text text-anchor=\"middle\" x=\"103.5\" y=\"-184\" font-family=\"monospace\" font-size=\"10.00\">AddmmBackward0</text>\n</g>\n<!-- 137861075721024&#45;&gt;137861075319968 -->\n<g id=\"edge2\" class=\"edge\">\n<title>137861075721024&#45;&gt;137861075319968</title>\n<path fill=\"none\" stroke=\"black\" d=\"M103.5,-176.75C103.5,-169.8 103.5,-159.85 103.5,-151.13\"/>\n<polygon fill=\"black\" stroke=\"black\" points=\"107,-151.09 103.5,-141.09 100,-151.09 107,-151.09\"/>\n</g>\n<!-- 137861075720160 -->\n<g id=\"node5\" class=\"node\">\n<title>137861075720160</title>\n<polygon fill=\"lightgrey\" stroke=\"black\" points=\"101,-251 0,-251 0,-232 101,-232 101,-251\"/>\n<text text-anchor=\"middle\" x=\"50.5\" y=\"-239\" font-family=\"monospace\" font-size=\"10.00\">AccumulateGrad</text>\n</g>\n<!-- 137861075720160&#45;&gt;137861075721024 -->\n<g id=\"edge3\" class=\"edge\">\n<title>137861075720160&#45;&gt;137861075721024</title>\n<path fill=\"none\" stroke=\"black\" d=\"M59.25,-231.75C66.97,-224.03 78.4,-212.6 87.72,-203.28\"/>\n<polygon fill=\"black\" stroke=\"black\" points=\"90.31,-205.64 94.91,-196.09 85.36,-200.69 90.31,-205.64\"/>\n</g>\n<!-- 137861075145952 -->\n<g id=\"node6\" class=\"node\">\n<title>137861075145952</title>\n<polygon fill=\"lightblue\" stroke=\"black\" points=\"77.5,-317 23.5,-317 23.5,-287 77.5,-287 77.5,-317\"/>\n<text text-anchor=\"middle\" x=\"50.5\" y=\"-305\" font-family=\"monospace\" font-size=\"10.00\">bias</text>\n<text text-anchor=\"middle\" x=\"50.5\" y=\"-294\" font-family=\"monospace\" font-size=\"10.00\"> (10)</text>\n</g>\n<!-- 137861075145952&#45;&gt;137861075720160 -->\n<g id=\"edge4\" class=\"edge\">\n<title>137861075145952&#45;&gt;137861075720160</title>\n<path fill=\"none\" stroke=\"black\" d=\"M50.5,-286.84C50.5,-279.21 50.5,-269.7 50.5,-261.45\"/>\n<polygon fill=\"black\" stroke=\"black\" points=\"54,-261.27 50.5,-251.27 47,-261.27 54,-261.27\"/>\n</g>\n<!-- 137861075721072 -->\n<g id=\"node7\" class=\"node\">\n<title>137861075721072</title>\n<polygon fill=\"lightgrey\" stroke=\"black\" points=\"196,-251 119,-251 119,-232 196,-232 196,-251\"/>\n<text text-anchor=\"middle\" x=\"157.5\" y=\"-239\" font-family=\"monospace\" font-size=\"10.00\">TBackward0</text>\n</g>\n<!-- 137861075721072&#45;&gt;137861075721024 -->\n<g id=\"edge5\" class=\"edge\">\n<title>137861075721072&#45;&gt;137861075721024</title>\n<path fill=\"none\" stroke=\"black\" d=\"M148.58,-231.75C140.72,-224.03 129.07,-212.6 119.58,-203.28\"/>\n<polygon fill=\"black\" stroke=\"black\" points=\"121.84,-200.6 112.25,-196.09 116.94,-205.59 121.84,-200.6\"/>\n</g>\n<!-- 137861075721120 -->\n<g id=\"node8\" class=\"node\">\n<title>137861075721120</title>\n<polygon fill=\"lightgrey\" stroke=\"black\" points=\"208,-311.5 107,-311.5 107,-292.5 208,-292.5 208,-311.5\"/>\n<text text-anchor=\"middle\" x=\"157.5\" y=\"-299.5\" font-family=\"monospace\" font-size=\"10.00\">AccumulateGrad</text>\n</g>\n<!-- 137861075721120&#45;&gt;137861075721072 -->\n<g id=\"edge6\" class=\"edge\">\n<title>137861075721120&#45;&gt;137861075721072</title>\n<path fill=\"none\" stroke=\"black\" d=\"M157.5,-292.37C157.5,-284.25 157.5,-271.81 157.5,-261.39\"/>\n<polygon fill=\"black\" stroke=\"black\" points=\"161,-261.17 157.5,-251.17 154,-261.17 161,-261.17\"/>\n</g>\n<!-- 137861075156432 -->\n<g id=\"node9\" class=\"node\">\n<title>137861075156432</title>\n<polygon fill=\"lightblue\" stroke=\"black\" points=\"196,-383 119,-383 119,-353 196,-353 196,-383\"/>\n<text text-anchor=\"middle\" x=\"157.5\" y=\"-371\" font-family=\"monospace\" font-size=\"10.00\">weight</text>\n<text text-anchor=\"middle\" x=\"157.5\" y=\"-360\" font-family=\"monospace\" font-size=\"10.00\"> (10, 784)</text>\n</g>\n<!-- 137861075156432&#45;&gt;137861075721120 -->\n<g id=\"edge7\" class=\"edge\">\n<title>137861075156432&#45;&gt;137861075721120</title>\n<path fill=\"none\" stroke=\"black\" d=\"M157.5,-352.8C157.5,-343.7 157.5,-331.79 157.5,-321.9\"/>\n<polygon fill=\"black\" stroke=\"black\" points=\"161,-321.84 157.5,-311.84 154,-321.84 161,-321.84\"/>\n</g>\n</g>\n</svg>\n",
            "text/plain": [
              "<graphviz.graphs.Digraph at 0x7d62486c3940>"
            ]
          },
          "metadata": {},
          "execution_count": 14
        }
      ]
    },
    {
      "cell_type": "markdown",
      "metadata": {
        "id": "jnUCb6j_Ol23"
      },
      "source": [
        "### Laço de treinamento dos pesos"
      ]
    },
    {
      "cell_type": "code",
      "execution_count": 15,
      "metadata": {
        "ExecuteTime": {
          "end_time": "2017-11-24T15:44:51.678678",
          "start_time": "2017-11-24T15:44:51.427695"
        },
        "id": "g5aavLLTOl24"
      },
      "outputs": [],
      "source": [
        "import numpy\n",
        "losses = []\n",
        "zs = []\n",
        "\n",
        "for i in range(epochs):\n",
        "    # Transforma a entrada para uma dimensão\n",
        "    inputs = Variable(x_train.view(-1, 28 * 28))\n",
        "    # Predict da rede\n",
        "    outputs = model(inputs)\n",
        "\n",
        "    # z0 a z9\n",
        "    zs.append(outputs[1].detach().numpy())\n",
        "\n",
        "    # calcula a perda\n",
        "    loss = criterion(outputs, Variable(y_train))\n",
        "\n",
        "    # zero, backpropagation, ajusta parâmetros pelo gradiente descendente\n",
        "    optimizer.zero_grad()\n",
        "    loss.backward()\n",
        "    optimizer.step()\n",
        "\n",
        "    losses.append(loss.item())\n",
        "\n",
        "    _, predicts = torch.max(outputs, 1)\n",
        "\n",
        "    y_pred = predicts.data\n",
        "    accuracy = (y_pred.numpy() == y_train.numpy()).mean()\n"
      ]
    },
    {
      "cell_type": "code",
      "execution_count": 16,
      "metadata": {
        "ExecuteTime": {
          "end_time": "2017-11-24T15:44:51.685301",
          "start_time": "2017-11-24T15:44:51.680419"
        },
        "colab": {
          "base_uri": "https://localhost:8080/"
        },
        "id": "menkKvteOl27",
        "outputId": "6698c2fb-b693-43c5-f20d-333a5480ba97"
      },
      "outputs": [
        {
          "output_type": "stream",
          "name": "stdout",
          "text": [
            "Final loss: 0.3937939703464508\n"
          ]
        }
      ],
      "source": [
        "print('Final loss:', loss.item())"
      ]
    },
    {
      "cell_type": "markdown",
      "metadata": {
        "id": "j1pLKxlqOl3F"
      },
      "source": [
        "### Visualizando gráfico de perda durante o treinamento"
      ]
    },
    {
      "cell_type": "code",
      "execution_count": 17,
      "metadata": {
        "ExecuteTime": {
          "end_time": "2017-11-24T15:44:56.787741",
          "start_time": "2017-11-24T15:44:56.627754"
        },
        "colab": {
          "base_uri": "https://localhost:8080/",
          "height": 436
        },
        "id": "UlivLNgcOl3G",
        "outputId": "f424a04c-4f3a-44da-f096-d5dc1b188965"
      },
      "outputs": [
        {
          "output_type": "display_data",
          "data": {
            "text/plain": [
              "<Figure size 640x480 with 1 Axes>"
            ],
            "image/svg+xml": "<?xml version=\"1.0\" encoding=\"utf-8\" standalone=\"no\"?>\n<!DOCTYPE svg PUBLIC \"-//W3C//DTD SVG 1.1//EN\"\n  \"http://www.w3.org/Graphics/SVG/1.1/DTD/svg11.dtd\">\n<svg xmlns:xlink=\"http://www.w3.org/1999/xlink\" width=\"414.46375pt\" height=\"310.86825pt\" viewBox=\"0 0 414.46375 310.86825\" xmlns=\"http://www.w3.org/2000/svg\" version=\"1.1\">\n <metadata>\n  <rdf:RDF xmlns:dc=\"http://purl.org/dc/elements/1.1/\" xmlns:cc=\"http://creativecommons.org/ns#\" xmlns:rdf=\"http://www.w3.org/1999/02/22-rdf-syntax-ns#\">\n   <cc:Work>\n    <dc:type rdf:resource=\"http://purl.org/dc/dcmitype/StillImage\"/>\n    <dc:date>2024-11-23T14:24:44.887004</dc:date>\n    <dc:format>image/svg+xml</dc:format>\n    <dc:creator>\n     <cc:Agent>\n      <dc:title>Matplotlib v3.8.0, https://matplotlib.org/</dc:title>\n     </cc:Agent>\n    </dc:creator>\n   </cc:Work>\n  </rdf:RDF>\n </metadata>\n <defs>\n  <style type=\"text/css\">*{stroke-linejoin: round; stroke-linecap: butt}</style>\n </defs>\n <g id=\"figure_1\">\n  <g id=\"patch_1\">\n   <path d=\"M 0 310.86825 \nL 414.46375 310.86825 \nL 414.46375 0 \nL 0 0 \nz\n\" style=\"fill: #ffffff\"/>\n  </g>\n  <g id=\"axes_1\">\n   <g id=\"patch_2\">\n    <path d=\"M 50.14375 273.312 \nL 407.26375 273.312 \nL 407.26375 7.2 \nL 50.14375 7.2 \nz\n\" style=\"fill: #ffffff\"/>\n   </g>\n   <g id=\"matplotlib.axis_1\">\n    <g id=\"xtick_1\">\n     <g id=\"line2d_1\">\n      <defs>\n       <path id=\"m8a34806f81\" d=\"M 0 0 \nL 0 3.5 \n\" style=\"stroke: #000000; stroke-width: 0.8\"/>\n      </defs>\n      <g>\n       <use xlink:href=\"#m8a34806f81\" x=\"66.376477\" y=\"273.312\" style=\"stroke: #000000; stroke-width: 0.8\"/>\n      </g>\n     </g>\n     <g id=\"text_1\">\n      <!-- 0 -->\n      <g transform=\"translate(63.195227 287.910437) scale(0.1 -0.1)\">\n       <defs>\n        <path id=\"DejaVuSans-30\" d=\"M 2034 4250 \nQ 1547 4250 1301 3770 \nQ 1056 3291 1056 2328 \nQ 1056 1369 1301 889 \nQ 1547 409 2034 409 \nQ 2525 409 2770 889 \nQ 3016 1369 3016 2328 \nQ 3016 3291 2770 3770 \nQ 2525 4250 2034 4250 \nz\nM 2034 4750 \nQ 2819 4750 3233 4129 \nQ 3647 3509 3647 2328 \nQ 3647 1150 3233 529 \nQ 2819 -91 2034 -91 \nQ 1250 -91 836 529 \nQ 422 1150 422 2328 \nQ 422 3509 836 4129 \nQ 1250 4750 2034 4750 \nz\n\" transform=\"scale(0.015625)\"/>\n       </defs>\n       <use xlink:href=\"#DejaVuSans-30\"/>\n      </g>\n     </g>\n    </g>\n    <g id=\"xtick_2\">\n     <g id=\"line2d_2\">\n      <g>\n       <use xlink:href=\"#m8a34806f81\" x=\"131.963254\" y=\"273.312\" style=\"stroke: #000000; stroke-width: 0.8\"/>\n      </g>\n     </g>\n     <g id=\"text_2\">\n      <!-- 20 -->\n      <g transform=\"translate(125.600754 287.910437) scale(0.1 -0.1)\">\n       <defs>\n        <path id=\"DejaVuSans-32\" d=\"M 1228 531 \nL 3431 531 \nL 3431 0 \nL 469 0 \nL 469 531 \nQ 828 903 1448 1529 \nQ 2069 2156 2228 2338 \nQ 2531 2678 2651 2914 \nQ 2772 3150 2772 3378 \nQ 2772 3750 2511 3984 \nQ 2250 4219 1831 4219 \nQ 1534 4219 1204 4116 \nQ 875 4013 500 3803 \nL 500 4441 \nQ 881 4594 1212 4672 \nQ 1544 4750 1819 4750 \nQ 2544 4750 2975 4387 \nQ 3406 4025 3406 3419 \nQ 3406 3131 3298 2873 \nQ 3191 2616 2906 2266 \nQ 2828 2175 2409 1742 \nQ 1991 1309 1228 531 \nz\n\" transform=\"scale(0.015625)\"/>\n       </defs>\n       <use xlink:href=\"#DejaVuSans-32\"/>\n       <use xlink:href=\"#DejaVuSans-30\" x=\"63.623047\"/>\n      </g>\n     </g>\n    </g>\n    <g id=\"xtick_3\">\n     <g id=\"line2d_3\">\n      <g>\n       <use xlink:href=\"#m8a34806f81\" x=\"197.550031\" y=\"273.312\" style=\"stroke: #000000; stroke-width: 0.8\"/>\n      </g>\n     </g>\n     <g id=\"text_3\">\n      <!-- 40 -->\n      <g transform=\"translate(191.187531 287.910437) scale(0.1 -0.1)\">\n       <defs>\n        <path id=\"DejaVuSans-34\" d=\"M 2419 4116 \nL 825 1625 \nL 2419 1625 \nL 2419 4116 \nz\nM 2253 4666 \nL 3047 4666 \nL 3047 1625 \nL 3713 1625 \nL 3713 1100 \nL 3047 1100 \nL 3047 0 \nL 2419 0 \nL 2419 1100 \nL 313 1100 \nL 313 1709 \nL 2253 4666 \nz\n\" transform=\"scale(0.015625)\"/>\n       </defs>\n       <use xlink:href=\"#DejaVuSans-34\"/>\n       <use xlink:href=\"#DejaVuSans-30\" x=\"63.623047\"/>\n      </g>\n     </g>\n    </g>\n    <g id=\"xtick_4\">\n     <g id=\"line2d_4\">\n      <g>\n       <use xlink:href=\"#m8a34806f81\" x=\"263.136808\" y=\"273.312\" style=\"stroke: #000000; stroke-width: 0.8\"/>\n      </g>\n     </g>\n     <g id=\"text_4\">\n      <!-- 60 -->\n      <g transform=\"translate(256.774308 287.910437) scale(0.1 -0.1)\">\n       <defs>\n        <path id=\"DejaVuSans-36\" d=\"M 2113 2584 \nQ 1688 2584 1439 2293 \nQ 1191 2003 1191 1497 \nQ 1191 994 1439 701 \nQ 1688 409 2113 409 \nQ 2538 409 2786 701 \nQ 3034 994 3034 1497 \nQ 3034 2003 2786 2293 \nQ 2538 2584 2113 2584 \nz\nM 3366 4563 \nL 3366 3988 \nQ 3128 4100 2886 4159 \nQ 2644 4219 2406 4219 \nQ 1781 4219 1451 3797 \nQ 1122 3375 1075 2522 \nQ 1259 2794 1537 2939 \nQ 1816 3084 2150 3084 \nQ 2853 3084 3261 2657 \nQ 3669 2231 3669 1497 \nQ 3669 778 3244 343 \nQ 2819 -91 2113 -91 \nQ 1303 -91 875 529 \nQ 447 1150 447 2328 \nQ 447 3434 972 4092 \nQ 1497 4750 2381 4750 \nQ 2619 4750 2861 4703 \nQ 3103 4656 3366 4563 \nz\n\" transform=\"scale(0.015625)\"/>\n       </defs>\n       <use xlink:href=\"#DejaVuSans-36\"/>\n       <use xlink:href=\"#DejaVuSans-30\" x=\"63.623047\"/>\n      </g>\n     </g>\n    </g>\n    <g id=\"xtick_5\">\n     <g id=\"line2d_5\">\n      <g>\n       <use xlink:href=\"#m8a34806f81\" x=\"328.723585\" y=\"273.312\" style=\"stroke: #000000; stroke-width: 0.8\"/>\n      </g>\n     </g>\n     <g id=\"text_5\">\n      <!-- 80 -->\n      <g transform=\"translate(322.361085 287.910437) scale(0.1 -0.1)\">\n       <defs>\n        <path id=\"DejaVuSans-38\" d=\"M 2034 2216 \nQ 1584 2216 1326 1975 \nQ 1069 1734 1069 1313 \nQ 1069 891 1326 650 \nQ 1584 409 2034 409 \nQ 2484 409 2743 651 \nQ 3003 894 3003 1313 \nQ 3003 1734 2745 1975 \nQ 2488 2216 2034 2216 \nz\nM 1403 2484 \nQ 997 2584 770 2862 \nQ 544 3141 544 3541 \nQ 544 4100 942 4425 \nQ 1341 4750 2034 4750 \nQ 2731 4750 3128 4425 \nQ 3525 4100 3525 3541 \nQ 3525 3141 3298 2862 \nQ 3072 2584 2669 2484 \nQ 3125 2378 3379 2068 \nQ 3634 1759 3634 1313 \nQ 3634 634 3220 271 \nQ 2806 -91 2034 -91 \nQ 1263 -91 848 271 \nQ 434 634 434 1313 \nQ 434 1759 690 2068 \nQ 947 2378 1403 2484 \nz\nM 1172 3481 \nQ 1172 3119 1398 2916 \nQ 1625 2713 2034 2713 \nQ 2441 2713 2670 2916 \nQ 2900 3119 2900 3481 \nQ 2900 3844 2670 4047 \nQ 2441 4250 2034 4250 \nQ 1625 4250 1398 4047 \nQ 1172 3844 1172 3481 \nz\n\" transform=\"scale(0.015625)\"/>\n       </defs>\n       <use xlink:href=\"#DejaVuSans-38\"/>\n       <use xlink:href=\"#DejaVuSans-30\" x=\"63.623047\"/>\n      </g>\n     </g>\n    </g>\n    <g id=\"xtick_6\">\n     <g id=\"line2d_6\">\n      <g>\n       <use xlink:href=\"#m8a34806f81\" x=\"394.310362\" y=\"273.312\" style=\"stroke: #000000; stroke-width: 0.8\"/>\n      </g>\n     </g>\n     <g id=\"text_6\">\n      <!-- 100 -->\n      <g transform=\"translate(384.766612 287.910437) scale(0.1 -0.1)\">\n       <defs>\n        <path id=\"DejaVuSans-31\" d=\"M 794 531 \nL 1825 531 \nL 1825 4091 \nL 703 3866 \nL 703 4441 \nL 1819 4666 \nL 2450 4666 \nL 2450 531 \nL 3481 531 \nL 3481 0 \nL 794 0 \nL 794 531 \nz\n\" transform=\"scale(0.015625)\"/>\n       </defs>\n       <use xlink:href=\"#DejaVuSans-31\"/>\n       <use xlink:href=\"#DejaVuSans-30\" x=\"63.623047\"/>\n       <use xlink:href=\"#DejaVuSans-30\" x=\"127.246094\"/>\n      </g>\n     </g>\n    </g>\n    <g id=\"text_7\">\n     <!-- epoch -->\n     <g transform=\"translate(213.475625 301.588562) scale(0.1 -0.1)\">\n      <defs>\n       <path id=\"DejaVuSans-65\" d=\"M 3597 1894 \nL 3597 1613 \nL 953 1613 \nQ 991 1019 1311 708 \nQ 1631 397 2203 397 \nQ 2534 397 2845 478 \nQ 3156 559 3463 722 \nL 3463 178 \nQ 3153 47 2828 -22 \nQ 2503 -91 2169 -91 \nQ 1331 -91 842 396 \nQ 353 884 353 1716 \nQ 353 2575 817 3079 \nQ 1281 3584 2069 3584 \nQ 2775 3584 3186 3129 \nQ 3597 2675 3597 1894 \nz\nM 3022 2063 \nQ 3016 2534 2758 2815 \nQ 2500 3097 2075 3097 \nQ 1594 3097 1305 2825 \nQ 1016 2553 972 2059 \nL 3022 2063 \nz\n\" transform=\"scale(0.015625)\"/>\n       <path id=\"DejaVuSans-70\" d=\"M 1159 525 \nL 1159 -1331 \nL 581 -1331 \nL 581 3500 \nL 1159 3500 \nL 1159 2969 \nQ 1341 3281 1617 3432 \nQ 1894 3584 2278 3584 \nQ 2916 3584 3314 3078 \nQ 3713 2572 3713 1747 \nQ 3713 922 3314 415 \nQ 2916 -91 2278 -91 \nQ 1894 -91 1617 61 \nQ 1341 213 1159 525 \nz\nM 3116 1747 \nQ 3116 2381 2855 2742 \nQ 2594 3103 2138 3103 \nQ 1681 3103 1420 2742 \nQ 1159 2381 1159 1747 \nQ 1159 1113 1420 752 \nQ 1681 391 2138 391 \nQ 2594 391 2855 752 \nQ 3116 1113 3116 1747 \nz\n\" transform=\"scale(0.015625)\"/>\n       <path id=\"DejaVuSans-6f\" d=\"M 1959 3097 \nQ 1497 3097 1228 2736 \nQ 959 2375 959 1747 \nQ 959 1119 1226 758 \nQ 1494 397 1959 397 \nQ 2419 397 2687 759 \nQ 2956 1122 2956 1747 \nQ 2956 2369 2687 2733 \nQ 2419 3097 1959 3097 \nz\nM 1959 3584 \nQ 2709 3584 3137 3096 \nQ 3566 2609 3566 1747 \nQ 3566 888 3137 398 \nQ 2709 -91 1959 -91 \nQ 1206 -91 779 398 \nQ 353 888 353 1747 \nQ 353 2609 779 3096 \nQ 1206 3584 1959 3584 \nz\n\" transform=\"scale(0.015625)\"/>\n       <path id=\"DejaVuSans-63\" d=\"M 3122 3366 \nL 3122 2828 \nQ 2878 2963 2633 3030 \nQ 2388 3097 2138 3097 \nQ 1578 3097 1268 2742 \nQ 959 2388 959 1747 \nQ 959 1106 1268 751 \nQ 1578 397 2138 397 \nQ 2388 397 2633 464 \nQ 2878 531 3122 666 \nL 3122 134 \nQ 2881 22 2623 -34 \nQ 2366 -91 2075 -91 \nQ 1284 -91 818 406 \nQ 353 903 353 1747 \nQ 353 2603 823 3093 \nQ 1294 3584 2113 3584 \nQ 2378 3584 2631 3529 \nQ 2884 3475 3122 3366 \nz\n\" transform=\"scale(0.015625)\"/>\n       <path id=\"DejaVuSans-68\" d=\"M 3513 2113 \nL 3513 0 \nL 2938 0 \nL 2938 2094 \nQ 2938 2591 2744 2837 \nQ 2550 3084 2163 3084 \nQ 1697 3084 1428 2787 \nQ 1159 2491 1159 1978 \nL 1159 0 \nL 581 0 \nL 581 4863 \nL 1159 4863 \nL 1159 2956 \nQ 1366 3272 1645 3428 \nQ 1925 3584 2291 3584 \nQ 2894 3584 3203 3211 \nQ 3513 2838 3513 2113 \nz\n\" transform=\"scale(0.015625)\"/>\n      </defs>\n      <use xlink:href=\"#DejaVuSans-65\"/>\n      <use xlink:href=\"#DejaVuSans-70\" x=\"61.523438\"/>\n      <use xlink:href=\"#DejaVuSans-6f\" x=\"125\"/>\n      <use xlink:href=\"#DejaVuSans-63\" x=\"186.181641\"/>\n      <use xlink:href=\"#DejaVuSans-68\" x=\"241.162109\"/>\n     </g>\n    </g>\n   </g>\n   <g id=\"matplotlib.axis_2\">\n    <g id=\"ytick_1\">\n     <g id=\"line2d_7\">\n      <defs>\n       <path id=\"mc08b9fb804\" d=\"M 0 0 \nL -3.5 0 \n\" style=\"stroke: #000000; stroke-width: 0.8\"/>\n      </defs>\n      <g>\n       <use xlink:href=\"#mc08b9fb804\" x=\"50.14375\" y=\"247.974563\" style=\"stroke: #000000; stroke-width: 0.8\"/>\n      </g>\n     </g>\n     <g id=\"text_8\">\n      <!-- 0.50 -->\n      <g transform=\"translate(20.878125 251.773781) scale(0.1 -0.1)\">\n       <defs>\n        <path id=\"DejaVuSans-2e\" d=\"M 684 794 \nL 1344 794 \nL 1344 0 \nL 684 0 \nL 684 794 \nz\n\" transform=\"scale(0.015625)\"/>\n        <path id=\"DejaVuSans-35\" d=\"M 691 4666 \nL 3169 4666 \nL 3169 4134 \nL 1269 4134 \nL 1269 2991 \nQ 1406 3038 1543 3061 \nQ 1681 3084 1819 3084 \nQ 2600 3084 3056 2656 \nQ 3513 2228 3513 1497 \nQ 3513 744 3044 326 \nQ 2575 -91 1722 -91 \nQ 1428 -91 1123 -41 \nQ 819 9 494 109 \nL 494 744 \nQ 775 591 1075 516 \nQ 1375 441 1709 441 \nQ 2250 441 2565 725 \nQ 2881 1009 2881 1497 \nQ 2881 1984 2565 2268 \nQ 2250 2553 1709 2553 \nQ 1456 2553 1204 2497 \nQ 953 2441 691 2322 \nL 691 4666 \nz\n\" transform=\"scale(0.015625)\"/>\n       </defs>\n       <use xlink:href=\"#DejaVuSans-30\"/>\n       <use xlink:href=\"#DejaVuSans-2e\" x=\"63.623047\"/>\n       <use xlink:href=\"#DejaVuSans-35\" x=\"95.410156\"/>\n       <use xlink:href=\"#DejaVuSans-30\" x=\"159.033203\"/>\n      </g>\n     </g>\n    </g>\n    <g id=\"ytick_2\">\n     <g id=\"line2d_8\">\n      <g>\n       <use xlink:href=\"#mc08b9fb804\" x=\"50.14375\" y=\"216.80534\" style=\"stroke: #000000; stroke-width: 0.8\"/>\n      </g>\n     </g>\n     <g id=\"text_9\">\n      <!-- 0.75 -->\n      <g transform=\"translate(20.878125 220.604559) scale(0.1 -0.1)\">\n       <defs>\n        <path id=\"DejaVuSans-37\" d=\"M 525 4666 \nL 3525 4666 \nL 3525 4397 \nL 1831 0 \nL 1172 0 \nL 2766 4134 \nL 525 4134 \nL 525 4666 \nz\n\" transform=\"scale(0.015625)\"/>\n       </defs>\n       <use xlink:href=\"#DejaVuSans-30\"/>\n       <use xlink:href=\"#DejaVuSans-2e\" x=\"63.623047\"/>\n       <use xlink:href=\"#DejaVuSans-37\" x=\"95.410156\"/>\n       <use xlink:href=\"#DejaVuSans-35\" x=\"159.033203\"/>\n      </g>\n     </g>\n    </g>\n    <g id=\"ytick_3\">\n     <g id=\"line2d_9\">\n      <g>\n       <use xlink:href=\"#mc08b9fb804\" x=\"50.14375\" y=\"185.636118\" style=\"stroke: #000000; stroke-width: 0.8\"/>\n      </g>\n     </g>\n     <g id=\"text_10\">\n      <!-- 1.00 -->\n      <g transform=\"translate(20.878125 189.435337) scale(0.1 -0.1)\">\n       <use xlink:href=\"#DejaVuSans-31\"/>\n       <use xlink:href=\"#DejaVuSans-2e\" x=\"63.623047\"/>\n       <use xlink:href=\"#DejaVuSans-30\" x=\"95.410156\"/>\n       <use xlink:href=\"#DejaVuSans-30\" x=\"159.033203\"/>\n      </g>\n     </g>\n    </g>\n    <g id=\"ytick_4\">\n     <g id=\"line2d_10\">\n      <g>\n       <use xlink:href=\"#mc08b9fb804\" x=\"50.14375\" y=\"154.466896\" style=\"stroke: #000000; stroke-width: 0.8\"/>\n      </g>\n     </g>\n     <g id=\"text_11\">\n      <!-- 1.25 -->\n      <g transform=\"translate(20.878125 158.266115) scale(0.1 -0.1)\">\n       <use xlink:href=\"#DejaVuSans-31\"/>\n       <use xlink:href=\"#DejaVuSans-2e\" x=\"63.623047\"/>\n       <use xlink:href=\"#DejaVuSans-32\" x=\"95.410156\"/>\n       <use xlink:href=\"#DejaVuSans-35\" x=\"159.033203\"/>\n      </g>\n     </g>\n    </g>\n    <g id=\"ytick_5\">\n     <g id=\"line2d_11\">\n      <g>\n       <use xlink:href=\"#mc08b9fb804\" x=\"50.14375\" y=\"123.297674\" style=\"stroke: #000000; stroke-width: 0.8\"/>\n      </g>\n     </g>\n     <g id=\"text_12\">\n      <!-- 1.50 -->\n      <g transform=\"translate(20.878125 127.096893) scale(0.1 -0.1)\">\n       <use xlink:href=\"#DejaVuSans-31\"/>\n       <use xlink:href=\"#DejaVuSans-2e\" x=\"63.623047\"/>\n       <use xlink:href=\"#DejaVuSans-35\" x=\"95.410156\"/>\n       <use xlink:href=\"#DejaVuSans-30\" x=\"159.033203\"/>\n      </g>\n     </g>\n    </g>\n    <g id=\"ytick_6\">\n     <g id=\"line2d_12\">\n      <g>\n       <use xlink:href=\"#mc08b9fb804\" x=\"50.14375\" y=\"92.128452\" style=\"stroke: #000000; stroke-width: 0.8\"/>\n      </g>\n     </g>\n     <g id=\"text_13\">\n      <!-- 1.75 -->\n      <g transform=\"translate(20.878125 95.92767) scale(0.1 -0.1)\">\n       <use xlink:href=\"#DejaVuSans-31\"/>\n       <use xlink:href=\"#DejaVuSans-2e\" x=\"63.623047\"/>\n       <use xlink:href=\"#DejaVuSans-37\" x=\"95.410156\"/>\n       <use xlink:href=\"#DejaVuSans-35\" x=\"159.033203\"/>\n      </g>\n     </g>\n    </g>\n    <g id=\"ytick_7\">\n     <g id=\"line2d_13\">\n      <g>\n       <use xlink:href=\"#mc08b9fb804\" x=\"50.14375\" y=\"60.959229\" style=\"stroke: #000000; stroke-width: 0.8\"/>\n      </g>\n     </g>\n     <g id=\"text_14\">\n      <!-- 2.00 -->\n      <g transform=\"translate(20.878125 64.758448) scale(0.1 -0.1)\">\n       <use xlink:href=\"#DejaVuSans-32\"/>\n       <use xlink:href=\"#DejaVuSans-2e\" x=\"63.623047\"/>\n       <use xlink:href=\"#DejaVuSans-30\" x=\"95.410156\"/>\n       <use xlink:href=\"#DejaVuSans-30\" x=\"159.033203\"/>\n      </g>\n     </g>\n    </g>\n    <g id=\"ytick_8\">\n     <g id=\"line2d_14\">\n      <g>\n       <use xlink:href=\"#mc08b9fb804\" x=\"50.14375\" y=\"29.790007\" style=\"stroke: #000000; stroke-width: 0.8\"/>\n      </g>\n     </g>\n     <g id=\"text_15\">\n      <!-- 2.25 -->\n      <g transform=\"translate(20.878125 33.589226) scale(0.1 -0.1)\">\n       <use xlink:href=\"#DejaVuSans-32\"/>\n       <use xlink:href=\"#DejaVuSans-2e\" x=\"63.623047\"/>\n       <use xlink:href=\"#DejaVuSans-32\" x=\"95.410156\"/>\n       <use xlink:href=\"#DejaVuSans-35\" x=\"159.033203\"/>\n      </g>\n     </g>\n    </g>\n    <g id=\"text_16\">\n     <!-- loss -->\n     <g transform=\"translate(14.798438 149.913812) rotate(-90) scale(0.1 -0.1)\">\n      <defs>\n       <path id=\"DejaVuSans-6c\" d=\"M 603 4863 \nL 1178 4863 \nL 1178 0 \nL 603 0 \nL 603 4863 \nz\n\" transform=\"scale(0.015625)\"/>\n       <path id=\"DejaVuSans-73\" d=\"M 2834 3397 \nL 2834 2853 \nQ 2591 2978 2328 3040 \nQ 2066 3103 1784 3103 \nQ 1356 3103 1142 2972 \nQ 928 2841 928 2578 \nQ 928 2378 1081 2264 \nQ 1234 2150 1697 2047 \nL 1894 2003 \nQ 2506 1872 2764 1633 \nQ 3022 1394 3022 966 \nQ 3022 478 2636 193 \nQ 2250 -91 1575 -91 \nQ 1294 -91 989 -36 \nQ 684 19 347 128 \nL 347 722 \nQ 666 556 975 473 \nQ 1284 391 1588 391 \nQ 1994 391 2212 530 \nQ 2431 669 2431 922 \nQ 2431 1156 2273 1281 \nQ 2116 1406 1581 1522 \nL 1381 1569 \nQ 847 1681 609 1914 \nQ 372 2147 372 2553 \nQ 372 3047 722 3315 \nQ 1072 3584 1716 3584 \nQ 2034 3584 2315 3537 \nQ 2597 3491 2834 3397 \nz\n\" transform=\"scale(0.015625)\"/>\n      </defs>\n      <use xlink:href=\"#DejaVuSans-6c\"/>\n      <use xlink:href=\"#DejaVuSans-6f\" x=\"27.783203\"/>\n      <use xlink:href=\"#DejaVuSans-73\" x=\"88.964844\"/>\n      <use xlink:href=\"#DejaVuSans-73\" x=\"141.064453\"/>\n     </g>\n    </g>\n   </g>\n   <g id=\"line2d_15\">\n    <path d=\"M 66.376477 19.296 \nL 69.655816 79.247667 \nL 72.935155 119.953668 \nL 76.214494 146.902925 \nL 79.493833 165.482002 \nL 82.773171 178.857133 \nL 86.05251 188.912885 \nL 89.331849 196.75611 \nL 92.611188 203.049845 \nL 95.890527 208.225263 \nL 99.169866 212.561536 \nL 102.449205 216.255222 \nL 105.728543 219.443735 \nL 109.007882 222.228585 \nL 112.287221 224.685187 \nL 115.56656 226.871199 \nL 118.845899 228.831322 \nL 122.125238 230.600749 \nL 125.404576 232.207579 \nL 128.683915 233.674552 \nL 131.963254 235.020253 \nL 135.242593 236.260043 \nL 138.521932 237.40674 \nL 141.801271 238.471151 \nL 145.08061 239.46237 \nL 148.359948 240.388253 \nL 151.639287 241.255481 \nL 154.918626 242.069872 \nL 158.197965 242.836443 \nL 161.477304 243.559622 \nL 164.756643 244.243259 \nL 168.035981 244.890772 \nL 171.31532 245.505164 \nL 174.594659 246.089125 \nL 177.873998 246.64504 \nL 181.153337 247.175056 \nL 184.432676 247.6811 \nL 187.712014 248.164879 \nL 190.991353 248.627973 \nL 194.270692 249.071794 \nL 197.550031 249.497616 \nL 200.82937 249.906632 \nL 204.108709 250.299886 \nL 207.388048 250.678371 \nL 210.667386 251.042974 \nL 213.946725 251.394516 \nL 217.226064 251.733749 \nL 220.505403 252.061385 \nL 223.784742 252.378029 \nL 227.064081 252.68433 \nL 230.343419 252.980795 \nL 233.622758 253.267953 \nL 236.902097 253.546278 \nL 240.181436 253.816206 \nL 243.460775 254.078152 \nL 246.740114 254.332508 \nL 250.019452 254.579629 \nL 253.298791 254.819839 \nL 256.57813 255.053465 \nL 259.857469 255.2808 \nL 263.136808 255.502124 \nL 266.416147 255.717699 \nL 269.695486 255.927764 \nL 272.974824 256.132541 \nL 276.254163 256.332269 \nL 279.533502 256.527141 \nL 282.812841 256.717345 \nL 286.09218 256.903076 \nL 289.371519 257.084497 \nL 292.650857 257.261786 \nL 295.930196 257.4351 \nL 299.209535 257.604549 \nL 302.488874 257.770319 \nL 305.768213 257.93253 \nL 309.047552 258.091293 \nL 312.32689 258.246745 \nL 315.606229 258.398987 \nL 318.885568 258.548144 \nL 322.164907 258.694315 \nL 325.444246 258.837583 \nL 328.723585 258.978069 \nL 332.002924 259.115838 \nL 335.282262 259.250995 \nL 338.561601 259.383618 \nL 341.84094 259.513774 \nL 345.120279 259.641563 \nL 348.399618 259.76703 \nL 351.678957 259.890252 \nL 354.958295 260.011316 \nL 358.237634 260.130262 \nL 361.516973 260.247153 \nL 364.796312 260.362067 \nL 368.075651 260.47503 \nL 371.35499 260.586129 \nL 374.634329 260.695399 \nL 377.913667 260.802885 \nL 381.193006 260.908641 \nL 384.472345 261.01272 \nL 387.751684 261.115157 \nL 391.031023 261.216 \n\" clip-path=\"url(#p369e37cbf8)\" style=\"fill: none; stroke: #1f77b4; stroke-width: 1.5; stroke-linecap: square\"/>\n   </g>\n   <g id=\"patch_3\">\n    <path d=\"M 50.14375 273.312 \nL 50.14375 7.2 \n\" style=\"fill: none; stroke: #000000; stroke-width: 0.8; stroke-linejoin: miter; stroke-linecap: square\"/>\n   </g>\n   <g id=\"patch_4\">\n    <path d=\"M 407.26375 273.312 \nL 407.26375 7.2 \n\" style=\"fill: none; stroke: #000000; stroke-width: 0.8; stroke-linejoin: miter; stroke-linecap: square\"/>\n   </g>\n   <g id=\"patch_5\">\n    <path d=\"M 50.14375 273.312 \nL 407.26375 273.312 \n\" style=\"fill: none; stroke: #000000; stroke-width: 0.8; stroke-linejoin: miter; stroke-linecap: square\"/>\n   </g>\n   <g id=\"patch_6\">\n    <path d=\"M 50.14375 7.2 \nL 407.26375 7.2 \n\" style=\"fill: none; stroke: #000000; stroke-width: 0.8; stroke-linejoin: miter; stroke-linecap: square\"/>\n   </g>\n  </g>\n </g>\n <defs>\n  <clipPath id=\"p369e37cbf8\">\n   <rect x=\"50.14375\" y=\"7.2\" width=\"357.12\" height=\"266.112\"/>\n  </clipPath>\n </defs>\n</svg>\n"
          },
          "metadata": {}
        }
      ],
      "source": [
        "plt.plot(losses)\n",
        "plt.xlabel('epoch')\n",
        "plt.ylabel('loss')\n",
        "plt.show()"
      ]
    },
    {
      "cell_type": "markdown",
      "metadata": {
        "id": "zUTfdh5VOl3N"
      },
      "source": [
        "## Avaliação"
      ]
    },
    {
      "cell_type": "markdown",
      "metadata": {
        "id": "XgFPZ9hNOl3O"
      },
      "source": [
        "### Acurácia tanto no conjunto de treinamento como no conjunto de testes"
      ]
    },
    {
      "cell_type": "code",
      "execution_count": 18,
      "metadata": {
        "ExecuteTime": {
          "end_time": "2017-11-24T15:50:29.922115",
          "start_time": "2017-11-24T15:50:29.914004"
        },
        "colab": {
          "base_uri": "https://localhost:8080/"
        },
        "id": "JMo5hSBhOl3P",
        "outputId": "f274eaba-5f5c-4d8d-b74c-0cdab403ba04"
      },
      "outputs": [
        {
          "output_type": "stream",
          "name": "stdout",
          "text": [
            "Accuracy: 0.8942333333333333\n"
          ]
        }
      ],
      "source": [
        "def predict(model, input_data):\n",
        "    outputs = model(Variable(input_data))\n",
        "    _, predicts = torch.max(outputs, 1)\n",
        "\n",
        "    return predicts.data\n",
        "\n",
        "y_pred = predict(model, x_train.view(-1, 28*28))\n",
        "accuracy = (y_pred.numpy() == y_train.numpy()).mean()\n",
        "print('Accuracy:', accuracy)"
      ]
    },
    {
      "cell_type": "markdown",
      "metadata": {
        "id": "Po0mlGpCOl3W"
      },
      "source": [
        "### Matriz de confusão com dados de treinamento e teste"
      ]
    },
    {
      "cell_type": "code",
      "execution_count": 19,
      "metadata": {
        "ExecuteTime": {
          "end_time": "2017-11-24T15:51:40.706177",
          "start_time": "2017-11-24T15:51:40.679474"
        },
        "colab": {
          "base_uri": "https://localhost:8080/",
          "height": 411
        },
        "id": "PtA3ZAUjOl3X",
        "outputId": "baa33c1c-0486-4487-d7a5-b0889e9cda54"
      },
      "outputs": [
        {
          "output_type": "stream",
          "name": "stdout",
          "text": [
            "Matriz de confusão:\n"
          ]
        },
        {
          "output_type": "execute_result",
          "data": {
            "text/plain": [
              "col_0     0     1     2     3     4     5     6     7     8     9\n",
              "row_0                                                            \n",
              "0      5677     0    54    33    13    98    48    49    34    48\n",
              "1         0  6507    78    41    37    66    29    97   177    37\n",
              "2        23    33  5101   151    43    43    69    99    86    44\n",
              "3        19    31    97  5295     4   243     5    22   186   100\n",
              "4        14     6   136     6  5308    91    47    87    30   227\n",
              "5        49    53    17   260     6  4405    92    10   176    41\n",
              "6        57    10   128    47    71   114  5567     3    47     5\n",
              "7         7    15   125    76    15    33     2  5652    39   204\n",
              "8        69    78   179   143    49   232    57    21  4961    62\n",
              "9         8     9    43    79   296    96     2   225   115  5181"
            ],
            "text/html": [
              "\n",
              "  <div id=\"df-17642b9f-00d7-42f5-935b-67433f880ffc\" class=\"colab-df-container\">\n",
              "    <div>\n",
              "<style scoped>\n",
              "    .dataframe tbody tr th:only-of-type {\n",
              "        vertical-align: middle;\n",
              "    }\n",
              "\n",
              "    .dataframe tbody tr th {\n",
              "        vertical-align: top;\n",
              "    }\n",
              "\n",
              "    .dataframe thead th {\n",
              "        text-align: right;\n",
              "    }\n",
              "</style>\n",
              "<table border=\"1\" class=\"dataframe\">\n",
              "  <thead>\n",
              "    <tr style=\"text-align: right;\">\n",
              "      <th>col_0</th>\n",
              "      <th>0</th>\n",
              "      <th>1</th>\n",
              "      <th>2</th>\n",
              "      <th>3</th>\n",
              "      <th>4</th>\n",
              "      <th>5</th>\n",
              "      <th>6</th>\n",
              "      <th>7</th>\n",
              "      <th>8</th>\n",
              "      <th>9</th>\n",
              "    </tr>\n",
              "    <tr>\n",
              "      <th>row_0</th>\n",
              "      <th></th>\n",
              "      <th></th>\n",
              "      <th></th>\n",
              "      <th></th>\n",
              "      <th></th>\n",
              "      <th></th>\n",
              "      <th></th>\n",
              "      <th></th>\n",
              "      <th></th>\n",
              "      <th></th>\n",
              "    </tr>\n",
              "  </thead>\n",
              "  <tbody>\n",
              "    <tr>\n",
              "      <th>0</th>\n",
              "      <td>5677</td>\n",
              "      <td>0</td>\n",
              "      <td>54</td>\n",
              "      <td>33</td>\n",
              "      <td>13</td>\n",
              "      <td>98</td>\n",
              "      <td>48</td>\n",
              "      <td>49</td>\n",
              "      <td>34</td>\n",
              "      <td>48</td>\n",
              "    </tr>\n",
              "    <tr>\n",
              "      <th>1</th>\n",
              "      <td>0</td>\n",
              "      <td>6507</td>\n",
              "      <td>78</td>\n",
              "      <td>41</td>\n",
              "      <td>37</td>\n",
              "      <td>66</td>\n",
              "      <td>29</td>\n",
              "      <td>97</td>\n",
              "      <td>177</td>\n",
              "      <td>37</td>\n",
              "    </tr>\n",
              "    <tr>\n",
              "      <th>2</th>\n",
              "      <td>23</td>\n",
              "      <td>33</td>\n",
              "      <td>5101</td>\n",
              "      <td>151</td>\n",
              "      <td>43</td>\n",
              "      <td>43</td>\n",
              "      <td>69</td>\n",
              "      <td>99</td>\n",
              "      <td>86</td>\n",
              "      <td>44</td>\n",
              "    </tr>\n",
              "    <tr>\n",
              "      <th>3</th>\n",
              "      <td>19</td>\n",
              "      <td>31</td>\n",
              "      <td>97</td>\n",
              "      <td>5295</td>\n",
              "      <td>4</td>\n",
              "      <td>243</td>\n",
              "      <td>5</td>\n",
              "      <td>22</td>\n",
              "      <td>186</td>\n",
              "      <td>100</td>\n",
              "    </tr>\n",
              "    <tr>\n",
              "      <th>4</th>\n",
              "      <td>14</td>\n",
              "      <td>6</td>\n",
              "      <td>136</td>\n",
              "      <td>6</td>\n",
              "      <td>5308</td>\n",
              "      <td>91</td>\n",
              "      <td>47</td>\n",
              "      <td>87</td>\n",
              "      <td>30</td>\n",
              "      <td>227</td>\n",
              "    </tr>\n",
              "    <tr>\n",
              "      <th>5</th>\n",
              "      <td>49</td>\n",
              "      <td>53</td>\n",
              "      <td>17</td>\n",
              "      <td>260</td>\n",
              "      <td>6</td>\n",
              "      <td>4405</td>\n",
              "      <td>92</td>\n",
              "      <td>10</td>\n",
              "      <td>176</td>\n",
              "      <td>41</td>\n",
              "    </tr>\n",
              "    <tr>\n",
              "      <th>6</th>\n",
              "      <td>57</td>\n",
              "      <td>10</td>\n",
              "      <td>128</td>\n",
              "      <td>47</td>\n",
              "      <td>71</td>\n",
              "      <td>114</td>\n",
              "      <td>5567</td>\n",
              "      <td>3</td>\n",
              "      <td>47</td>\n",
              "      <td>5</td>\n",
              "    </tr>\n",
              "    <tr>\n",
              "      <th>7</th>\n",
              "      <td>7</td>\n",
              "      <td>15</td>\n",
              "      <td>125</td>\n",
              "      <td>76</td>\n",
              "      <td>15</td>\n",
              "      <td>33</td>\n",
              "      <td>2</td>\n",
              "      <td>5652</td>\n",
              "      <td>39</td>\n",
              "      <td>204</td>\n",
              "    </tr>\n",
              "    <tr>\n",
              "      <th>8</th>\n",
              "      <td>69</td>\n",
              "      <td>78</td>\n",
              "      <td>179</td>\n",
              "      <td>143</td>\n",
              "      <td>49</td>\n",
              "      <td>232</td>\n",
              "      <td>57</td>\n",
              "      <td>21</td>\n",
              "      <td>4961</td>\n",
              "      <td>62</td>\n",
              "    </tr>\n",
              "    <tr>\n",
              "      <th>9</th>\n",
              "      <td>8</td>\n",
              "      <td>9</td>\n",
              "      <td>43</td>\n",
              "      <td>79</td>\n",
              "      <td>296</td>\n",
              "      <td>96</td>\n",
              "      <td>2</td>\n",
              "      <td>225</td>\n",
              "      <td>115</td>\n",
              "      <td>5181</td>\n",
              "    </tr>\n",
              "  </tbody>\n",
              "</table>\n",
              "</div>\n",
              "    <div class=\"colab-df-buttons\">\n",
              "\n",
              "  <div class=\"colab-df-container\">\n",
              "    <button class=\"colab-df-convert\" onclick=\"convertToInteractive('df-17642b9f-00d7-42f5-935b-67433f880ffc')\"\n",
              "            title=\"Convert this dataframe to an interactive table.\"\n",
              "            style=\"display:none;\">\n",
              "\n",
              "  <svg xmlns=\"http://www.w3.org/2000/svg\" height=\"24px\" viewBox=\"0 -960 960 960\">\n",
              "    <path d=\"M120-120v-720h720v720H120Zm60-500h600v-160H180v160Zm220 220h160v-160H400v160Zm0 220h160v-160H400v160ZM180-400h160v-160H180v160Zm440 0h160v-160H620v160ZM180-180h160v-160H180v160Zm440 0h160v-160H620v160Z\"/>\n",
              "  </svg>\n",
              "    </button>\n",
              "\n",
              "  <style>\n",
              "    .colab-df-container {\n",
              "      display:flex;\n",
              "      gap: 12px;\n",
              "    }\n",
              "\n",
              "    .colab-df-convert {\n",
              "      background-color: #E8F0FE;\n",
              "      border: none;\n",
              "      border-radius: 50%;\n",
              "      cursor: pointer;\n",
              "      display: none;\n",
              "      fill: #1967D2;\n",
              "      height: 32px;\n",
              "      padding: 0 0 0 0;\n",
              "      width: 32px;\n",
              "    }\n",
              "\n",
              "    .colab-df-convert:hover {\n",
              "      background-color: #E2EBFA;\n",
              "      box-shadow: 0px 1px 2px rgba(60, 64, 67, 0.3), 0px 1px 3px 1px rgba(60, 64, 67, 0.15);\n",
              "      fill: #174EA6;\n",
              "    }\n",
              "\n",
              "    .colab-df-buttons div {\n",
              "      margin-bottom: 4px;\n",
              "    }\n",
              "\n",
              "    [theme=dark] .colab-df-convert {\n",
              "      background-color: #3B4455;\n",
              "      fill: #D2E3FC;\n",
              "    }\n",
              "\n",
              "    [theme=dark] .colab-df-convert:hover {\n",
              "      background-color: #434B5C;\n",
              "      box-shadow: 0px 1px 3px 1px rgba(0, 0, 0, 0.15);\n",
              "      filter: drop-shadow(0px 1px 2px rgba(0, 0, 0, 0.3));\n",
              "      fill: #FFFFFF;\n",
              "    }\n",
              "  </style>\n",
              "\n",
              "    <script>\n",
              "      const buttonEl =\n",
              "        document.querySelector('#df-17642b9f-00d7-42f5-935b-67433f880ffc button.colab-df-convert');\n",
              "      buttonEl.style.display =\n",
              "        google.colab.kernel.accessAllowed ? 'block' : 'none';\n",
              "\n",
              "      async function convertToInteractive(key) {\n",
              "        const element = document.querySelector('#df-17642b9f-00d7-42f5-935b-67433f880ffc');\n",
              "        const dataTable =\n",
              "          await google.colab.kernel.invokeFunction('convertToInteractive',\n",
              "                                                    [key], {});\n",
              "        if (!dataTable) return;\n",
              "\n",
              "        const docLinkHtml = 'Like what you see? Visit the ' +\n",
              "          '<a target=\"_blank\" href=https://colab.research.google.com/notebooks/data_table.ipynb>data table notebook</a>'\n",
              "          + ' to learn more about interactive tables.';\n",
              "        element.innerHTML = '';\n",
              "        dataTable['output_type'] = 'display_data';\n",
              "        await google.colab.output.renderOutput(dataTable, element);\n",
              "        const docLink = document.createElement('div');\n",
              "        docLink.innerHTML = docLinkHtml;\n",
              "        element.appendChild(docLink);\n",
              "      }\n",
              "    </script>\n",
              "  </div>\n",
              "\n",
              "\n",
              "<div id=\"df-70cbe48a-dd86-4ed7-834d-dcb21405fe58\">\n",
              "  <button class=\"colab-df-quickchart\" onclick=\"quickchart('df-70cbe48a-dd86-4ed7-834d-dcb21405fe58')\"\n",
              "            title=\"Suggest charts\"\n",
              "            style=\"display:none;\">\n",
              "\n",
              "<svg xmlns=\"http://www.w3.org/2000/svg\" height=\"24px\"viewBox=\"0 0 24 24\"\n",
              "     width=\"24px\">\n",
              "    <g>\n",
              "        <path d=\"M19 3H5c-1.1 0-2 .9-2 2v14c0 1.1.9 2 2 2h14c1.1 0 2-.9 2-2V5c0-1.1-.9-2-2-2zM9 17H7v-7h2v7zm4 0h-2V7h2v10zm4 0h-2v-4h2v4z\"/>\n",
              "    </g>\n",
              "</svg>\n",
              "  </button>\n",
              "\n",
              "<style>\n",
              "  .colab-df-quickchart {\n",
              "      --bg-color: #E8F0FE;\n",
              "      --fill-color: #1967D2;\n",
              "      --hover-bg-color: #E2EBFA;\n",
              "      --hover-fill-color: #174EA6;\n",
              "      --disabled-fill-color: #AAA;\n",
              "      --disabled-bg-color: #DDD;\n",
              "  }\n",
              "\n",
              "  [theme=dark] .colab-df-quickchart {\n",
              "      --bg-color: #3B4455;\n",
              "      --fill-color: #D2E3FC;\n",
              "      --hover-bg-color: #434B5C;\n",
              "      --hover-fill-color: #FFFFFF;\n",
              "      --disabled-bg-color: #3B4455;\n",
              "      --disabled-fill-color: #666;\n",
              "  }\n",
              "\n",
              "  .colab-df-quickchart {\n",
              "    background-color: var(--bg-color);\n",
              "    border: none;\n",
              "    border-radius: 50%;\n",
              "    cursor: pointer;\n",
              "    display: none;\n",
              "    fill: var(--fill-color);\n",
              "    height: 32px;\n",
              "    padding: 0;\n",
              "    width: 32px;\n",
              "  }\n",
              "\n",
              "  .colab-df-quickchart:hover {\n",
              "    background-color: var(--hover-bg-color);\n",
              "    box-shadow: 0 1px 2px rgba(60, 64, 67, 0.3), 0 1px 3px 1px rgba(60, 64, 67, 0.15);\n",
              "    fill: var(--button-hover-fill-color);\n",
              "  }\n",
              "\n",
              "  .colab-df-quickchart-complete:disabled,\n",
              "  .colab-df-quickchart-complete:disabled:hover {\n",
              "    background-color: var(--disabled-bg-color);\n",
              "    fill: var(--disabled-fill-color);\n",
              "    box-shadow: none;\n",
              "  }\n",
              "\n",
              "  .colab-df-spinner {\n",
              "    border: 2px solid var(--fill-color);\n",
              "    border-color: transparent;\n",
              "    border-bottom-color: var(--fill-color);\n",
              "    animation:\n",
              "      spin 1s steps(1) infinite;\n",
              "  }\n",
              "\n",
              "  @keyframes spin {\n",
              "    0% {\n",
              "      border-color: transparent;\n",
              "      border-bottom-color: var(--fill-color);\n",
              "      border-left-color: var(--fill-color);\n",
              "    }\n",
              "    20% {\n",
              "      border-color: transparent;\n",
              "      border-left-color: var(--fill-color);\n",
              "      border-top-color: var(--fill-color);\n",
              "    }\n",
              "    30% {\n",
              "      border-color: transparent;\n",
              "      border-left-color: var(--fill-color);\n",
              "      border-top-color: var(--fill-color);\n",
              "      border-right-color: var(--fill-color);\n",
              "    }\n",
              "    40% {\n",
              "      border-color: transparent;\n",
              "      border-right-color: var(--fill-color);\n",
              "      border-top-color: var(--fill-color);\n",
              "    }\n",
              "    60% {\n",
              "      border-color: transparent;\n",
              "      border-right-color: var(--fill-color);\n",
              "    }\n",
              "    80% {\n",
              "      border-color: transparent;\n",
              "      border-right-color: var(--fill-color);\n",
              "      border-bottom-color: var(--fill-color);\n",
              "    }\n",
              "    90% {\n",
              "      border-color: transparent;\n",
              "      border-bottom-color: var(--fill-color);\n",
              "    }\n",
              "  }\n",
              "</style>\n",
              "\n",
              "  <script>\n",
              "    async function quickchart(key) {\n",
              "      const quickchartButtonEl =\n",
              "        document.querySelector('#' + key + ' button');\n",
              "      quickchartButtonEl.disabled = true;  // To prevent multiple clicks.\n",
              "      quickchartButtonEl.classList.add('colab-df-spinner');\n",
              "      try {\n",
              "        const charts = await google.colab.kernel.invokeFunction(\n",
              "            'suggestCharts', [key], {});\n",
              "      } catch (error) {\n",
              "        console.error('Error during call to suggestCharts:', error);\n",
              "      }\n",
              "      quickchartButtonEl.classList.remove('colab-df-spinner');\n",
              "      quickchartButtonEl.classList.add('colab-df-quickchart-complete');\n",
              "    }\n",
              "    (() => {\n",
              "      let quickchartButtonEl =\n",
              "        document.querySelector('#df-70cbe48a-dd86-4ed7-834d-dcb21405fe58 button');\n",
              "      quickchartButtonEl.style.display =\n",
              "        google.colab.kernel.accessAllowed ? 'block' : 'none';\n",
              "    })();\n",
              "  </script>\n",
              "</div>\n",
              "\n",
              "    </div>\n",
              "  </div>\n"
            ],
            "application/vnd.google.colaboratory.intrinsic+json": {
              "type": "dataframe",
              "summary": "{\n  \"name\": \"pd\",\n  \"rows\": 10,\n  \"fields\": [\n    {\n      \"column\": \"row_0\",\n      \"properties\": {\n        \"dtype\": \"number\",\n        \"std\": 3,\n        \"min\": 0,\n        \"max\": 9,\n        \"num_unique_values\": 10,\n        \"samples\": [\n          8,\n          1,\n          5\n        ],\n        \"semantic_type\": \"\",\n        \"description\": \"\"\n      }\n    },\n    {\n      \"column\": 0,\n      \"properties\": {\n        \"dtype\": \"number\",\n        \"std\": 1786,\n        \"min\": 0,\n        \"max\": 5677,\n        \"num_unique_values\": 10,\n        \"samples\": [\n          69,\n          0,\n          49\n        ],\n        \"semantic_type\": \"\",\n        \"description\": \"\"\n      }\n    },\n    {\n      \"column\": 1,\n      \"properties\": {\n        \"dtype\": \"number\",\n        \"std\": 2049,\n        \"min\": 0,\n        \"max\": 6507,\n        \"num_unique_values\": 10,\n        \"samples\": [\n          78,\n          6507,\n          53\n        ],\n        \"semantic_type\": \"\",\n        \"description\": \"\"\n      }\n    },\n    {\n      \"column\": 2,\n      \"properties\": {\n        \"dtype\": \"number\",\n        \"std\": 1583,\n        \"min\": 17,\n        \"max\": 5101,\n        \"num_unique_values\": 10,\n        \"samples\": [\n          179,\n          78,\n          17\n        ],\n        \"semantic_type\": \"\",\n        \"description\": \"\"\n      }\n    },\n    {\n      \"column\": 3,\n      \"properties\": {\n        \"dtype\": \"number\",\n        \"std\": 1646,\n        \"min\": 6,\n        \"max\": 5295,\n        \"num_unique_values\": 10,\n        \"samples\": [\n          143,\n          41,\n          260\n        ],\n        \"semantic_type\": \"\",\n        \"description\": \"\"\n      }\n    },\n    {\n      \"column\": 4,\n      \"properties\": {\n        \"dtype\": \"number\",\n        \"std\": 1662,\n        \"min\": 4,\n        \"max\": 5308,\n        \"num_unique_values\": 10,\n        \"samples\": [\n          49,\n          37,\n          6\n        ],\n        \"semantic_type\": \"\",\n        \"description\": \"\"\n      }\n    },\n    {\n      \"column\": 5,\n      \"properties\": {\n        \"dtype\": \"number\",\n        \"std\": 1359,\n        \"min\": 33,\n        \"max\": 4405,\n        \"num_unique_values\": 10,\n        \"samples\": [\n          232,\n          66,\n          4405\n        ],\n        \"semantic_type\": \"\",\n        \"description\": \"\"\n      }\n    },\n    {\n      \"column\": 6,\n      \"properties\": {\n        \"dtype\": \"number\",\n        \"std\": 1748,\n        \"min\": 2,\n        \"max\": 5567,\n        \"num_unique_values\": 9,\n        \"samples\": [\n          2,\n          29,\n          92\n        ],\n        \"semantic_type\": \"\",\n        \"description\": \"\"\n      }\n    },\n    {\n      \"column\": 7,\n      \"properties\": {\n        \"dtype\": \"number\",\n        \"std\": 1767,\n        \"min\": 3,\n        \"max\": 5652,\n        \"num_unique_values\": 10,\n        \"samples\": [\n          21,\n          97,\n          10\n        ],\n        \"semantic_type\": \"\",\n        \"description\": \"\"\n      }\n    },\n    {\n      \"column\": 8,\n      \"properties\": {\n        \"dtype\": \"number\",\n        \"std\": 1538,\n        \"min\": 30,\n        \"max\": 4961,\n        \"num_unique_values\": 10,\n        \"samples\": [\n          4961,\n          177,\n          176\n        ],\n        \"semantic_type\": \"\",\n        \"description\": \"\"\n      }\n    },\n    {\n      \"column\": 9,\n      \"properties\": {\n        \"dtype\": \"number\",\n        \"std\": 1613,\n        \"min\": 5,\n        \"max\": 5181,\n        \"num_unique_values\": 10,\n        \"samples\": [\n          62,\n          37,\n          41\n        ],\n        \"semantic_type\": \"\",\n        \"description\": \"\"\n      }\n    }\n  ]\n}"
            }
          },
          "metadata": {},
          "execution_count": 19
        }
      ],
      "source": [
        "print('Matriz de confusão:')\n",
        "pd.crosstab(y_pred.numpy(), y_train.numpy())"
      ]
    },
    {
      "cell_type": "markdown",
      "metadata": {
        "id": "6Df5Xz6rOl3c"
      },
      "source": [
        "## Visualizando a matriz de pesos treinados"
      ]
    },
    {
      "cell_type": "markdown",
      "metadata": {
        "id": "DLo6HaWGOl3n"
      },
      "source": [
        "Observe que a matriz de peso treinado para cada classe mostra a importância dos pesos associados aos caracteres de cada classe."
      ]
    },
    {
      "cell_type": "code",
      "execution_count": 20,
      "metadata": {
        "ExecuteTime": {
          "end_time": "2017-11-24T16:34:49.367135",
          "start_time": "2017-11-24T16:34:49.204452"
        },
        "colab": {
          "base_uri": "https://localhost:8080/",
          "height": 453
        },
        "id": "uoBSV4EqOl3q",
        "outputId": "6d4fb044-3a94-4287-c9c2-97b31e8f878d"
      },
      "outputs": [
        {
          "output_type": "stream",
          "name": "stdout",
          "text": [
            "weights: torch.Size([10, 784])\n",
            "bias:    torch.Size([10])\n"
          ]
        },
        {
          "output_type": "display_data",
          "data": {
            "text/plain": [
              "<Figure size 640x480 with 1 Axes>"
            ],
            "image/svg+xml": "<?xml version=\"1.0\" encoding=\"utf-8\" standalone=\"no\"?>\n<!DOCTYPE svg PUBLIC \"-//W3C//DTD SVG 1.1//EN\"\n  \"http://www.w3.org/Graphics/SVG/1.1/DTD/svg11.dtd\">\n<svg xmlns:xlink=\"http://www.w3.org/1999/xlink\" width=\"300.237pt\" height=\"297.190125pt\" viewBox=\"0 0 300.237 297.190125\" xmlns=\"http://www.w3.org/2000/svg\" version=\"1.1\">\n <metadata>\n  <rdf:RDF xmlns:dc=\"http://purl.org/dc/elements/1.1/\" xmlns:cc=\"http://creativecommons.org/ns#\" xmlns:rdf=\"http://www.w3.org/1999/02/22-rdf-syntax-ns#\">\n   <cc:Work>\n    <dc:type rdf:resource=\"http://purl.org/dc/dcmitype/StillImage\"/>\n    <dc:date>2024-11-23T14:24:45.261293</dc:date>\n    <dc:format>image/svg+xml</dc:format>\n    <dc:creator>\n     <cc:Agent>\n      <dc:title>Matplotlib v3.8.0, https://matplotlib.org/</dc:title>\n     </cc:Agent>\n    </dc:creator>\n   </cc:Work>\n  </rdf:RDF>\n </metadata>\n <defs>\n  <style type=\"text/css\">*{stroke-linejoin: round; stroke-linecap: butt}</style>\n </defs>\n <g id=\"figure_1\">\n  <g id=\"patch_1\">\n   <path d=\"M -0 297.190125 \nL 300.237 297.190125 \nL 300.237 0 \nL -0 0 \nz\n\" style=\"fill: #ffffff\"/>\n  </g>\n  <g id=\"axes_1\">\n   <g id=\"patch_2\">\n    <path d=\"M 26.925 273.312 \nL 293.037 273.312 \nL 293.037 7.2 \nL 26.925 7.2 \nz\n\" style=\"fill: #ffffff\"/>\n   </g>\n   <g clip-path=\"url(#p44e83386a2)\">\n    <image xlink:href=\"data:image/png;base64,\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\" id=\"imageb73b69125d\" transform=\"scale(1 -1) translate(0 -266.4)\" x=\"26.925\" y=\"-6.912\" width=\"266.4\" height=\"266.4\"/>\n   </g>\n   <g id=\"matplotlib.axis_1\">\n    <g id=\"xtick_1\">\n     <g id=\"line2d_1\">\n      <defs>\n       <path id=\"m2a1dccdc37\" d=\"M 0 0 \nL 0 3.5 \n\" style=\"stroke: #000000; stroke-width: 0.8\"/>\n      </defs>\n      <g>\n       <use xlink:href=\"#m2a1dccdc37\" x=\"31.677\" y=\"273.312\" style=\"stroke: #000000; stroke-width: 0.8\"/>\n      </g>\n     </g>\n     <g id=\"text_1\">\n      <!-- 0 -->\n      <g transform=\"translate(28.49575 287.910437) scale(0.1 -0.1)\">\n       <defs>\n        <path id=\"DejaVuSans-30\" d=\"M 2034 4250 \nQ 1547 4250 1301 3770 \nQ 1056 3291 1056 2328 \nQ 1056 1369 1301 889 \nQ 1547 409 2034 409 \nQ 2525 409 2770 889 \nQ 3016 1369 3016 2328 \nQ 3016 3291 2770 3770 \nQ 2525 4250 2034 4250 \nz\nM 2034 4750 \nQ 2819 4750 3233 4129 \nQ 3647 3509 3647 2328 \nQ 3647 1150 3233 529 \nQ 2819 -91 2034 -91 \nQ 1250 -91 836 529 \nQ 422 1150 422 2328 \nQ 422 3509 836 4129 \nQ 1250 4750 2034 4750 \nz\n\" transform=\"scale(0.015625)\"/>\n       </defs>\n       <use xlink:href=\"#DejaVuSans-30\"/>\n      </g>\n     </g>\n    </g>\n    <g id=\"xtick_2\">\n     <g id=\"line2d_2\">\n      <g>\n       <use xlink:href=\"#m2a1dccdc37\" x=\"79.197\" y=\"273.312\" style=\"stroke: #000000; stroke-width: 0.8\"/>\n      </g>\n     </g>\n     <g id=\"text_2\">\n      <!-- 5 -->\n      <g transform=\"translate(76.01575 287.910437) scale(0.1 -0.1)\">\n       <defs>\n        <path id=\"DejaVuSans-35\" d=\"M 691 4666 \nL 3169 4666 \nL 3169 4134 \nL 1269 4134 \nL 1269 2991 \nQ 1406 3038 1543 3061 \nQ 1681 3084 1819 3084 \nQ 2600 3084 3056 2656 \nQ 3513 2228 3513 1497 \nQ 3513 744 3044 326 \nQ 2575 -91 1722 -91 \nQ 1428 -91 1123 -41 \nQ 819 9 494 109 \nL 494 744 \nQ 775 591 1075 516 \nQ 1375 441 1709 441 \nQ 2250 441 2565 725 \nQ 2881 1009 2881 1497 \nQ 2881 1984 2565 2268 \nQ 2250 2553 1709 2553 \nQ 1456 2553 1204 2497 \nQ 953 2441 691 2322 \nL 691 4666 \nz\n\" transform=\"scale(0.015625)\"/>\n       </defs>\n       <use xlink:href=\"#DejaVuSans-35\"/>\n      </g>\n     </g>\n    </g>\n    <g id=\"xtick_3\">\n     <g id=\"line2d_3\">\n      <g>\n       <use xlink:href=\"#m2a1dccdc37\" x=\"126.717\" y=\"273.312\" style=\"stroke: #000000; stroke-width: 0.8\"/>\n      </g>\n     </g>\n     <g id=\"text_3\">\n      <!-- 10 -->\n      <g transform=\"translate(120.3545 287.910437) scale(0.1 -0.1)\">\n       <defs>\n        <path id=\"DejaVuSans-31\" d=\"M 794 531 \nL 1825 531 \nL 1825 4091 \nL 703 3866 \nL 703 4441 \nL 1819 4666 \nL 2450 4666 \nL 2450 531 \nL 3481 531 \nL 3481 0 \nL 794 0 \nL 794 531 \nz\n\" transform=\"scale(0.015625)\"/>\n       </defs>\n       <use xlink:href=\"#DejaVuSans-31\"/>\n       <use xlink:href=\"#DejaVuSans-30\" x=\"63.623047\"/>\n      </g>\n     </g>\n    </g>\n    <g id=\"xtick_4\">\n     <g id=\"line2d_4\">\n      <g>\n       <use xlink:href=\"#m2a1dccdc37\" x=\"174.237\" y=\"273.312\" style=\"stroke: #000000; stroke-width: 0.8\"/>\n      </g>\n     </g>\n     <g id=\"text_4\">\n      <!-- 15 -->\n      <g transform=\"translate(167.8745 287.910437) scale(0.1 -0.1)\">\n       <use xlink:href=\"#DejaVuSans-31\"/>\n       <use xlink:href=\"#DejaVuSans-35\" x=\"63.623047\"/>\n      </g>\n     </g>\n    </g>\n    <g id=\"xtick_5\">\n     <g id=\"line2d_5\">\n      <g>\n       <use xlink:href=\"#m2a1dccdc37\" x=\"221.757\" y=\"273.312\" style=\"stroke: #000000; stroke-width: 0.8\"/>\n      </g>\n     </g>\n     <g id=\"text_5\">\n      <!-- 20 -->\n      <g transform=\"translate(215.3945 287.910437) scale(0.1 -0.1)\">\n       <defs>\n        <path id=\"DejaVuSans-32\" d=\"M 1228 531 \nL 3431 531 \nL 3431 0 \nL 469 0 \nL 469 531 \nQ 828 903 1448 1529 \nQ 2069 2156 2228 2338 \nQ 2531 2678 2651 2914 \nQ 2772 3150 2772 3378 \nQ 2772 3750 2511 3984 \nQ 2250 4219 1831 4219 \nQ 1534 4219 1204 4116 \nQ 875 4013 500 3803 \nL 500 4441 \nQ 881 4594 1212 4672 \nQ 1544 4750 1819 4750 \nQ 2544 4750 2975 4387 \nQ 3406 4025 3406 3419 \nQ 3406 3131 3298 2873 \nQ 3191 2616 2906 2266 \nQ 2828 2175 2409 1742 \nQ 1991 1309 1228 531 \nz\n\" transform=\"scale(0.015625)\"/>\n       </defs>\n       <use xlink:href=\"#DejaVuSans-32\"/>\n       <use xlink:href=\"#DejaVuSans-30\" x=\"63.623047\"/>\n      </g>\n     </g>\n    </g>\n    <g id=\"xtick_6\">\n     <g id=\"line2d_6\">\n      <g>\n       <use xlink:href=\"#m2a1dccdc37\" x=\"269.277\" y=\"273.312\" style=\"stroke: #000000; stroke-width: 0.8\"/>\n      </g>\n     </g>\n     <g id=\"text_6\">\n      <!-- 25 -->\n      <g transform=\"translate(262.9145 287.910437) scale(0.1 -0.1)\">\n       <use xlink:href=\"#DejaVuSans-32\"/>\n       <use xlink:href=\"#DejaVuSans-35\" x=\"63.623047\"/>\n      </g>\n     </g>\n    </g>\n   </g>\n   <g id=\"matplotlib.axis_2\">\n    <g id=\"ytick_1\">\n     <g id=\"line2d_7\">\n      <defs>\n       <path id=\"m7e2ec13a5a\" d=\"M 0 0 \nL -3.5 0 \n\" style=\"stroke: #000000; stroke-width: 0.8\"/>\n      </defs>\n      <g>\n       <use xlink:href=\"#m7e2ec13a5a\" x=\"26.925\" y=\"11.952\" style=\"stroke: #000000; stroke-width: 0.8\"/>\n      </g>\n     </g>\n     <g id=\"text_7\">\n      <!-- 0 -->\n      <g transform=\"translate(13.5625 15.751219) scale(0.1 -0.1)\">\n       <use xlink:href=\"#DejaVuSans-30\"/>\n      </g>\n     </g>\n    </g>\n    <g id=\"ytick_2\">\n     <g id=\"line2d_8\">\n      <g>\n       <use xlink:href=\"#m7e2ec13a5a\" x=\"26.925\" y=\"59.472\" style=\"stroke: #000000; stroke-width: 0.8\"/>\n      </g>\n     </g>\n     <g id=\"text_8\">\n      <!-- 5 -->\n      <g transform=\"translate(13.5625 63.271219) scale(0.1 -0.1)\">\n       <use xlink:href=\"#DejaVuSans-35\"/>\n      </g>\n     </g>\n    </g>\n    <g id=\"ytick_3\">\n     <g id=\"line2d_9\">\n      <g>\n       <use xlink:href=\"#m7e2ec13a5a\" x=\"26.925\" y=\"106.992\" style=\"stroke: #000000; stroke-width: 0.8\"/>\n      </g>\n     </g>\n     <g id=\"text_9\">\n      <!-- 10 -->\n      <g transform=\"translate(7.2 110.791219) scale(0.1 -0.1)\">\n       <use xlink:href=\"#DejaVuSans-31\"/>\n       <use xlink:href=\"#DejaVuSans-30\" x=\"63.623047\"/>\n      </g>\n     </g>\n    </g>\n    <g id=\"ytick_4\">\n     <g id=\"line2d_10\">\n      <g>\n       <use xlink:href=\"#m7e2ec13a5a\" x=\"26.925\" y=\"154.512\" style=\"stroke: #000000; stroke-width: 0.8\"/>\n      </g>\n     </g>\n     <g id=\"text_10\">\n      <!-- 15 -->\n      <g transform=\"translate(7.2 158.311219) scale(0.1 -0.1)\">\n       <use xlink:href=\"#DejaVuSans-31\"/>\n       <use xlink:href=\"#DejaVuSans-35\" x=\"63.623047\"/>\n      </g>\n     </g>\n    </g>\n    <g id=\"ytick_5\">\n     <g id=\"line2d_11\">\n      <g>\n       <use xlink:href=\"#m7e2ec13a5a\" x=\"26.925\" y=\"202.032\" style=\"stroke: #000000; stroke-width: 0.8\"/>\n      </g>\n     </g>\n     <g id=\"text_11\">\n      <!-- 20 -->\n      <g transform=\"translate(7.2 205.831219) scale(0.1 -0.1)\">\n       <use xlink:href=\"#DejaVuSans-32\"/>\n       <use xlink:href=\"#DejaVuSans-30\" x=\"63.623047\"/>\n      </g>\n     </g>\n    </g>\n    <g id=\"ytick_6\">\n     <g id=\"line2d_12\">\n      <g>\n       <use xlink:href=\"#m7e2ec13a5a\" x=\"26.925\" y=\"249.552\" style=\"stroke: #000000; stroke-width: 0.8\"/>\n      </g>\n     </g>\n     <g id=\"text_12\">\n      <!-- 25 -->\n      <g transform=\"translate(7.2 253.351219) scale(0.1 -0.1)\">\n       <use xlink:href=\"#DejaVuSans-32\"/>\n       <use xlink:href=\"#DejaVuSans-35\" x=\"63.623047\"/>\n      </g>\n     </g>\n    </g>\n   </g>\n   <g id=\"patch_3\">\n    <path d=\"M 26.925 273.312 \nL 26.925 7.2 \n\" style=\"fill: none; stroke: #000000; stroke-width: 0.8; stroke-linejoin: miter; stroke-linecap: square\"/>\n   </g>\n   <g id=\"patch_4\">\n    <path d=\"M 293.037 273.312 \nL 293.037 7.2 \n\" style=\"fill: none; stroke: #000000; stroke-width: 0.8; stroke-linejoin: miter; stroke-linecap: square\"/>\n   </g>\n   <g id=\"patch_5\">\n    <path d=\"M 26.925 273.312 \nL 293.037 273.312 \n\" style=\"fill: none; stroke: #000000; stroke-width: 0.8; stroke-linejoin: miter; stroke-linecap: square\"/>\n   </g>\n   <g id=\"patch_6\">\n    <path d=\"M 26.925 7.2 \nL 293.037 7.2 \n\" style=\"fill: none; stroke: #000000; stroke-width: 0.8; stroke-linejoin: miter; stroke-linecap: square\"/>\n   </g>\n  </g>\n </g>\n <defs>\n  <clipPath id=\"p44e83386a2\">\n   <rect x=\"26.925\" y=\"7.2\" width=\"266.112\" height=\"266.112\"/>\n  </clipPath>\n </defs>\n</svg>\n"
          },
          "metadata": {}
        }
      ],
      "source": [
        "weights = model.state_dict()['weight']\n",
        "print('weights:', weights.shape)\n",
        "\n",
        "bias = model.state_dict()['bias']\n",
        "print('bias:   ', bias.shape)\n",
        "\n",
        "# Visualizando pesos da classe 3\n",
        "plt.imshow(weights[3, :].numpy().reshape((28,28)),cmap = 'gray')\n",
        "plt.show()"
      ]
    },
    {
      "cell_type": "markdown",
      "metadata": {
        "id": "eN6W4vnfOl3w"
      },
      "source": [
        "### Visualizando os pesos de todas as classes"
      ]
    },
    {
      "cell_type": "code",
      "execution_count": 21,
      "metadata": {
        "ExecuteTime": {
          "end_time": "2017-11-24T16:34:50.240218",
          "start_time": "2017-11-24T16:34:50.025515"
        },
        "colab": {
          "base_uri": "https://localhost:8080/",
          "height": 156
        },
        "id": "0Vz_WwiDOl3x",
        "outputId": "1fa1fabe-f1fa-4257-cbea-c1f786afc3cf"
      },
      "outputs": [
        {
          "output_type": "display_data",
          "data": {
            "text/plain": [
              "<Figure size 1500x1000 with 1 Axes>"
            ],
            "image/svg+xml": "<?xml version=\"1.0\" encoding=\"utf-8\" standalone=\"no\"?>\n<!DOCTYPE svg PUBLIC \"-//W3C//DTD SVG 1.1//EN\"\n  \"http://www.w3.org/Graphics/SVG/1.1/DTD/svg11.dtd\">\n<svg xmlns:xlink=\"http://www.w3.org/1999/xlink\" width=\"851.4pt\" height=\"100.68866pt\" viewBox=\"0 0 851.4 100.68866\" xmlns=\"http://www.w3.org/2000/svg\" version=\"1.1\">\n <metadata>\n  <rdf:RDF xmlns:dc=\"http://purl.org/dc/elements/1.1/\" xmlns:cc=\"http://creativecommons.org/ns#\" xmlns:rdf=\"http://www.w3.org/1999/02/22-rdf-syntax-ns#\">\n   <cc:Work>\n    <dc:type rdf:resource=\"http://purl.org/dc/dcmitype/StillImage\"/>\n    <dc:date>2024-11-23T14:24:45.388886</dc:date>\n    <dc:format>image/svg+xml</dc:format>\n    <dc:creator>\n     <cc:Agent>\n      <dc:title>Matplotlib v3.8.0, https://matplotlib.org/</dc:title>\n     </cc:Agent>\n    </dc:creator>\n   </cc:Work>\n  </rdf:RDF>\n </metadata>\n <defs>\n  <style type=\"text/css\">*{stroke-linejoin: round; stroke-linecap: butt}</style>\n </defs>\n <g id=\"figure_1\">\n  <g id=\"patch_1\">\n   <path d=\"M 0 100.68866 \nL 851.4 100.68866 \nL 851.4 0 \nL 0 0 \nz\n\" style=\"fill: #ffffff\"/>\n  </g>\n  <g id=\"axes_1\">\n   <g clip-path=\"url(#pbe3db4f16c)\">\n    <image xlink:href=\"data:image/png;base64,\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\" id=\"image58b1509da7\" transform=\"scale(1 -1) translate(0 -86.4)\" x=\"7.2\" y=\"-7.08866\" width=\"837.36\" height=\"86.4\"/>\n   </g>\n  </g>\n </g>\n <defs>\n  <clipPath id=\"pbe3db4f16c\">\n   <rect x=\"7.2\" y=\"7.2\" width=\"837\" height=\"86.28866\"/>\n  </clipPath>\n </defs>\n</svg>\n"
          },
          "metadata": {}
        }
      ],
      "source": [
        "# cria um grid com as imagens\n",
        "grid = torchvision.utils.make_grid(weights.view(-1, 1, 28, 28), normalize=True, pad_value=1.0, padding=1, nrow=10)\n",
        "\n",
        "plt.figure(figsize=(15, 10))\n",
        "plt.imshow(grid.numpy().transpose(1, 2, 0))\n",
        "plt.axis('off');"
      ]
    },
    {
      "cell_type": "markdown",
      "metadata": {
        "id": "IAwjpjUzOl3z"
      },
      "source": [
        "### Diagrama da regressão softmax com visualização dos pesos W"
      ]
    },
    {
      "cell_type": "markdown",
      "metadata": {
        "id": "Io0kz0bDOl31"
      },
      "source": [
        "![alt text](https://raw.githubusercontent.com/vcasadei/images/master/RegressaoSoftmaxArgmaxNMIST.png)"
      ]
    },
    {
      "cell_type": "markdown",
      "metadata": {
        "id": "KKKZDmIvOl31"
      },
      "source": [
        "# Atividades"
      ]
    },
    {
      "cell_type": "markdown",
      "metadata": {
        "id": "fMcK8rnnOl31"
      },
      "source": [
        "## Exercícios"
      ]
    },
    {
      "cell_type": "markdown",
      "metadata": {
        "id": "bcYvj-5dOl4I"
      },
      "source": [
        "- 1) Insira código no laço do treinamento para que no final de cada época,\n",
        "     seja impresso: o número da época e a perda e a acurácia"
      ]
    },
    {
      "cell_type": "code",
      "source": [
        "import time\n",
        "from IPython import display\n",
        "\n",
        "# Reinicialização da rede\n",
        "model = torch.nn.Linear(28*28, 10)\n",
        "criterion = torch.nn.CrossEntropyLoss()\n",
        "optimizer = torch.optim.SGD(model.parameters(), lr=learningRate)\n",
        "\n",
        "losses = []\n",
        "zs = []\n",
        "\n",
        "start = time.time()\n",
        "\n",
        "for i in range(epochs):\n",
        "    # Transforma a entrada para uma dimensão\n",
        "    inputs = Variable(x_train.view(-1, 28 * 28))\n",
        "    # Predict da rede\n",
        "    outputs = model(inputs)\n",
        "\n",
        "    # z0 a z9\n",
        "    zs.append(outputs[1].detach().numpy())\n",
        "\n",
        "    # calcula a perda\n",
        "    loss = criterion(outputs, Variable(y_train))\n",
        "\n",
        "    # zero, backpropagation, ajusta parâmetros pelo gradiente descendente\n",
        "    optimizer.zero_grad()\n",
        "    loss.backward()\n",
        "    optimizer.step()\n",
        "\n",
        "    losses.append(loss.item())\n",
        "\n",
        "    _, predicts = torch.max(outputs, 1)\n",
        "\n",
        "    y_pred = predicts.data\n",
        "    accuracy = (y_pred.numpy() == y_train.numpy()).mean()\n",
        "\n",
        "    ## Exercício 1\n",
        "    print(f'Época {i+1} de {epochs} => perda: {loss.data:.5f}, acurária: {accuracy:.4f}')\n",
        "\n",
        "stop = time.time()\n",
        "print(f'Tempo de treinamento: {stop - start:.2f} segundos')"
      ],
      "metadata": {
        "id": "r1qFG3pPZ13Z",
        "colab": {
          "base_uri": "https://localhost:8080/"
        },
        "outputId": "f68dec99-be4c-4e50-e732-830d3b6ce0e8"
      },
      "execution_count": 22,
      "outputs": [
        {
          "output_type": "stream",
          "name": "stdout",
          "text": [
            "Época 1 de 100 => perda: 2.33569, acurária: 0.1209\n",
            "Época 2 de 100 => perda: 1.85910, acurária: 0.5584\n",
            "Época 3 de 100 => perda: 1.53700, acurária: 0.7123\n",
            "Época 4 de 100 => perda: 1.31969, acurária: 0.7538\n",
            "Época 5 de 100 => perda: 1.17256, acurária: 0.7773\n",
            "Época 6 de 100 => perda: 1.06316, acurária: 0.7918\n",
            "Época 7 de 100 => perda: 0.98474, acurária: 0.8021\n",
            "Época 8 de 100 => perda: 0.91884, acurária: 0.8135\n",
            "Época 9 de 100 => perda: 0.86931, acurária: 0.8187\n",
            "Época 10 de 100 => perda: 0.82470, acurária: 0.8283\n",
            "Época 11 de 100 => perda: 0.78954, acurária: 0.8324\n",
            "Época 12 de 100 => perda: 0.75799, acurária: 0.8385\n",
            "Época 13 de 100 => perda: 0.73177, acurária: 0.8418\n",
            "Época 14 de 100 => perda: 0.70861, acurária: 0.8457\n",
            "Época 15 de 100 => perda: 0.68855, acurária: 0.8485\n",
            "Época 16 de 100 => perda: 0.67076, acurária: 0.8511\n",
            "Época 17 de 100 => perda: 0.65492, acurária: 0.8531\n",
            "Época 18 de 100 => perda: 0.64066, acurária: 0.8553\n",
            "Época 19 de 100 => perda: 0.62774, acurária: 0.8570\n",
            "Época 20 de 100 => perda: 0.61595, acurária: 0.8588\n",
            "Época 21 de 100 => perda: 0.60514, acurária: 0.8601\n",
            "Época 22 de 100 => perda: 0.59519, acurária: 0.8614\n",
            "Época 23 de 100 => perda: 0.58597, acurária: 0.8624\n",
            "Época 24 de 100 => perda: 0.57742, acurária: 0.8637\n",
            "Época 25 de 100 => perda: 0.56946, acurária: 0.8647\n",
            "Época 26 de 100 => perda: 0.56202, acurária: 0.8658\n",
            "Época 27 de 100 => perda: 0.55504, acurária: 0.8668\n",
            "Época 28 de 100 => perda: 0.54850, acurária: 0.8679\n",
            "Época 29 de 100 => perda: 0.54233, acurária: 0.8689\n",
            "Época 30 de 100 => perda: 0.53652, acurária: 0.8698\n",
            "Época 31 de 100 => perda: 0.53102, acurária: 0.8703\n",
            "Época 32 de 100 => perda: 0.52581, acurária: 0.8710\n",
            "Época 33 de 100 => perda: 0.52087, acurária: 0.8718\n",
            "Época 34 de 100 => perda: 0.51617, acurária: 0.8725\n",
            "Época 35 de 100 => perda: 0.51170, acurária: 0.8731\n",
            "Época 36 de 100 => perda: 0.50744, acurária: 0.8738\n",
            "Época 37 de 100 => perda: 0.50336, acurária: 0.8742\n",
            "Época 38 de 100 => perda: 0.49947, acurária: 0.8749\n",
            "Época 39 de 100 => perda: 0.49574, acurária: 0.8756\n",
            "Época 40 de 100 => perda: 0.49217, acurária: 0.8760\n",
            "Época 41 de 100 => perda: 0.48874, acurária: 0.8766\n",
            "Época 42 de 100 => perda: 0.48545, acurária: 0.8770\n",
            "Época 43 de 100 => perda: 0.48229, acurária: 0.8777\n",
            "Época 44 de 100 => perda: 0.47924, acurária: 0.8782\n",
            "Época 45 de 100 => perda: 0.47631, acurária: 0.8786\n",
            "Época 46 de 100 => perda: 0.47348, acurária: 0.8790\n",
            "Época 47 de 100 => perda: 0.47074, acurária: 0.8795\n",
            "Época 48 de 100 => perda: 0.46811, acurária: 0.8801\n",
            "Época 49 de 100 => perda: 0.46556, acurária: 0.8805\n",
            "Época 50 de 100 => perda: 0.46309, acurária: 0.8810\n",
            "Época 51 de 100 => perda: 0.46070, acurária: 0.8814\n",
            "Época 52 de 100 => perda: 0.45839, acurária: 0.8816\n",
            "Época 53 de 100 => perda: 0.45615, acurária: 0.8820\n",
            "Época 54 de 100 => perda: 0.45398, acurária: 0.8823\n",
            "Época 55 de 100 => perda: 0.45187, acurária: 0.8827\n",
            "Época 56 de 100 => perda: 0.44982, acurária: 0.8830\n",
            "Época 57 de 100 => perda: 0.44783, acurária: 0.8835\n",
            "Época 58 de 100 => perda: 0.44590, acurária: 0.8840\n",
            "Época 59 de 100 => perda: 0.44402, acurária: 0.8843\n",
            "Época 60 de 100 => perda: 0.44219, acurária: 0.8846\n",
            "Época 61 de 100 => perda: 0.44040, acurária: 0.8849\n",
            "Época 62 de 100 => perda: 0.43867, acurária: 0.8852\n",
            "Época 63 de 100 => perda: 0.43698, acurária: 0.8855\n",
            "Época 64 de 100 => perda: 0.43533, acurária: 0.8859\n",
            "Época 65 de 100 => perda: 0.43372, acurária: 0.8863\n",
            "Época 66 de 100 => perda: 0.43215, acurária: 0.8867\n",
            "Época 67 de 100 => perda: 0.43062, acurária: 0.8870\n",
            "Época 68 de 100 => perda: 0.42912, acurária: 0.8872\n",
            "Época 69 de 100 => perda: 0.42766, acurária: 0.8874\n",
            "Época 70 de 100 => perda: 0.42623, acurária: 0.8878\n",
            "Época 71 de 100 => perda: 0.42484, acurária: 0.8879\n",
            "Época 72 de 100 => perda: 0.42347, acurária: 0.8881\n",
            "Época 73 de 100 => perda: 0.42214, acurária: 0.8882\n",
            "Época 74 de 100 => perda: 0.42083, acurária: 0.8885\n",
            "Época 75 de 100 => perda: 0.41955, acurária: 0.8888\n",
            "Época 76 de 100 => perda: 0.41830, acurária: 0.8890\n",
            "Época 77 de 100 => perda: 0.41707, acurária: 0.8893\n",
            "Época 78 de 100 => perda: 0.41587, acurária: 0.8893\n",
            "Época 79 de 100 => perda: 0.41470, acurária: 0.8895\n",
            "Época 80 de 100 => perda: 0.41354, acurária: 0.8897\n",
            "Época 81 de 100 => perda: 0.41241, acurária: 0.8900\n",
            "Época 82 de 100 => perda: 0.41130, acurária: 0.8902\n",
            "Época 83 de 100 => perda: 0.41021, acurária: 0.8906\n",
            "Época 84 de 100 => perda: 0.40915, acurária: 0.8909\n",
            "Época 85 de 100 => perda: 0.40810, acurária: 0.8911\n",
            "Época 86 de 100 => perda: 0.40707, acurária: 0.8913\n",
            "Época 87 de 100 => perda: 0.40606, acurária: 0.8915\n",
            "Época 88 de 100 => perda: 0.40507, acurária: 0.8917\n",
            "Época 89 de 100 => perda: 0.40409, acurária: 0.8918\n",
            "Época 90 de 100 => perda: 0.40313, acurária: 0.8920\n",
            "Época 91 de 100 => perda: 0.40219, acurária: 0.8922\n",
            "Época 92 de 100 => perda: 0.40127, acurária: 0.8924\n",
            "Época 93 de 100 => perda: 0.40036, acurária: 0.8925\n",
            "Época 94 de 100 => perda: 0.39946, acurária: 0.8925\n",
            "Época 95 de 100 => perda: 0.39858, acurária: 0.8928\n",
            "Época 96 de 100 => perda: 0.39772, acurária: 0.8931\n",
            "Época 97 de 100 => perda: 0.39687, acurária: 0.8933\n",
            "Época 98 de 100 => perda: 0.39603, acurária: 0.8935\n",
            "Época 99 de 100 => perda: 0.39520, acurária: 0.8938\n",
            "Época 100 de 100 => perda: 0.39439, acurária: 0.8940\n",
            "Tempo de treinamento: 12.82 segundos\n"
          ]
        }
      ]
    },
    {
      "cell_type": "markdown",
      "metadata": {
        "id": "0xttWrUbOl4J"
      },
      "source": [
        "- 2) Insira código no laço do treinamento para visualização dos valores dos gradientes referentes à classe do dígito 4, no final de cada época."
      ]
    },
    {
      "cell_type": "code",
      "source": [
        "# Reinicialização da rede\n",
        "model = torch.nn.Linear(28*28, 10)\n",
        "criterion = torch.nn.CrossEntropyLoss()\n",
        "optimizer = torch.optim.SGD(model.parameters(), lr=learningRate)\n",
        "\n",
        "losses = []\n",
        "zs = []\n",
        "\n",
        "start = time.time()\n",
        "\n",
        "for i in range(epochs):\n",
        "    # Transforma a entrada para uma dimensão\n",
        "    inputs = Variable(x_train.view(-1, 28 * 28))\n",
        "    # Predict da rede\n",
        "    outputs = model(inputs)\n",
        "\n",
        "    # z0 a z9\n",
        "    zs.append(outputs[1].detach().numpy())\n",
        "\n",
        "    # calcula a perda\n",
        "    loss = criterion(outputs, Variable(y_train))\n",
        "\n",
        "    # zero, backpropagation, ajusta parâmetros pelo gradiente descendente\n",
        "    optimizer.zero_grad()\n",
        "    loss.backward()\n",
        "    optimizer.step()\n",
        "\n",
        "    losses.append(loss.item())\n",
        "\n",
        "    _, predicts = torch.max(outputs, 1)\n",
        "\n",
        "    y_pred = predicts.data\n",
        "    accuracy = (y_pred.numpy() == y_train.numpy()).mean()\n",
        "\n",
        "    ## Exercício 2: Visualizando pesos da classe 4\n",
        "    display.clear_output(wait=True)\n",
        "    weights = model.weight[4].data.numpy().reshape(28,28)\n",
        "    grad = model.weight.grad[4].data.numpy().reshape(28,28)\n",
        "    img = np.concatenate((weights, grad), 1)\n",
        "\n",
        "    plt.imshow(img, cmap = 'gray')\n",
        "    plt.title('Pesos e gradientes da classe 4')\n",
        "    plt.show()\n",
        "\n",
        "stop = time.time()\n",
        "print(f'Perda final: {loss.data:.5f}, acurária final: {accuracy:.4f}')\n",
        "print(f'Tempo de treinamento: {stop - start:.2f} segundos')"
      ],
      "metadata": {
        "id": "hRbpVEsLZ3aI",
        "colab": {
          "base_uri": "https://localhost:8080/",
          "height": 356
        },
        "outputId": "30708ab8-483a-4ff7-f3e6-97ccdce62521"
      },
      "execution_count": 24,
      "outputs": [
        {
          "output_type": "display_data",
          "data": {
            "text/plain": [
              "<Figure size 640x480 with 1 Axes>"
            ],
            "image/svg+xml": "<?xml version=\"1.0\" encoding=\"utf-8\" standalone=\"no\"?>\n<!DOCTYPE svg PUBLIC \"-//W3C//DTD SVG 1.1//EN\"\n  \"http://www.w3.org/Graphics/SVG/1.1/DTD/svg11.dtd\">\n<svg xmlns:xlink=\"http://www.w3.org/1999/xlink\" width=\"391.245pt\" height=\"224.75625pt\" viewBox=\"0 0 391.245 224.75625\" xmlns=\"http://www.w3.org/2000/svg\" version=\"1.1\">\n <metadata>\n  <rdf:RDF xmlns:dc=\"http://purl.org/dc/elements/1.1/\" xmlns:cc=\"http://creativecommons.org/ns#\" xmlns:rdf=\"http://www.w3.org/1999/02/22-rdf-syntax-ns#\">\n   <cc:Work>\n    <dc:type rdf:resource=\"http://purl.org/dc/dcmitype/StillImage\"/>\n    <dc:date>2024-11-23T14:28:25.204876</dc:date>\n    <dc:format>image/svg+xml</dc:format>\n    <dc:creator>\n     <cc:Agent>\n      <dc:title>Matplotlib v3.8.0, https://matplotlib.org/</dc:title>\n     </cc:Agent>\n    </dc:creator>\n   </cc:Work>\n  </rdf:RDF>\n </metadata>\n <defs>\n  <style type=\"text/css\">*{stroke-linejoin: round; stroke-linecap: butt}</style>\n </defs>\n <g id=\"figure_1\">\n  <g id=\"patch_1\">\n   <path d=\"M 0 224.75625 \nL 391.245 224.75625 \nL 391.245 0 \nL 0 0 \nz\n\" style=\"fill: #ffffff\"/>\n  </g>\n  <g id=\"axes_1\">\n   <g id=\"patch_2\">\n    <path d=\"M 26.925 200.878125 \nL 384.045 200.878125 \nL 384.045 22.318125 \nL 26.925 22.318125 \nz\n\" style=\"fill: #ffffff\"/>\n   </g>\n   <g clip-path=\"url(#p8d5326840d)\">\n    <image xlink:href=\"data:image/png;base64,\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\" id=\"imagefad959d3b1\" transform=\"scale(1 -1) translate(0 -178.56)\" x=\"26.925\" y=\"-22.318125\" width=\"357.12\" height=\"178.56\"/>\n   </g>\n   <g id=\"matplotlib.axis_1\">\n    <g id=\"xtick_1\">\n     <g id=\"line2d_1\">\n      <defs>\n       <path id=\"mbd13783cde\" d=\"M 0 0 \nL 0 3.5 \n\" style=\"stroke: #000000; stroke-width: 0.8\"/>\n      </defs>\n      <g>\n       <use xlink:href=\"#mbd13783cde\" x=\"30.113571\" y=\"200.878125\" style=\"stroke: #000000; stroke-width: 0.8\"/>\n      </g>\n     </g>\n     <g id=\"text_1\">\n      <!-- 0 -->\n      <g transform=\"translate(26.932321 215.476562) scale(0.1 -0.1)\">\n       <defs>\n        <path id=\"DejaVuSans-30\" d=\"M 2034 4250 \nQ 1547 4250 1301 3770 \nQ 1056 3291 1056 2328 \nQ 1056 1369 1301 889 \nQ 1547 409 2034 409 \nQ 2525 409 2770 889 \nQ 3016 1369 3016 2328 \nQ 3016 3291 2770 3770 \nQ 2525 4250 2034 4250 \nz\nM 2034 4750 \nQ 2819 4750 3233 4129 \nQ 3647 3509 3647 2328 \nQ 3647 1150 3233 529 \nQ 2819 -91 2034 -91 \nQ 1250 -91 836 529 \nQ 422 1150 422 2328 \nQ 422 3509 836 4129 \nQ 1250 4750 2034 4750 \nz\n\" transform=\"scale(0.015625)\"/>\n       </defs>\n       <use xlink:href=\"#DejaVuSans-30\"/>\n      </g>\n     </g>\n    </g>\n    <g id=\"xtick_2\">\n     <g id=\"line2d_2\">\n      <g>\n       <use xlink:href=\"#mbd13783cde\" x=\"93.885\" y=\"200.878125\" style=\"stroke: #000000; stroke-width: 0.8\"/>\n      </g>\n     </g>\n     <g id=\"text_2\">\n      <!-- 10 -->\n      <g transform=\"translate(87.5225 215.476562) scale(0.1 -0.1)\">\n       <defs>\n        <path id=\"DejaVuSans-31\" d=\"M 794 531 \nL 1825 531 \nL 1825 4091 \nL 703 3866 \nL 703 4441 \nL 1819 4666 \nL 2450 4666 \nL 2450 531 \nL 3481 531 \nL 3481 0 \nL 794 0 \nL 794 531 \nz\n\" transform=\"scale(0.015625)\"/>\n       </defs>\n       <use xlink:href=\"#DejaVuSans-31\"/>\n       <use xlink:href=\"#DejaVuSans-30\" x=\"63.623047\"/>\n      </g>\n     </g>\n    </g>\n    <g id=\"xtick_3\">\n     <g id=\"line2d_3\">\n      <g>\n       <use xlink:href=\"#mbd13783cde\" x=\"157.656429\" y=\"200.878125\" style=\"stroke: #000000; stroke-width: 0.8\"/>\n      </g>\n     </g>\n     <g id=\"text_3\">\n      <!-- 20 -->\n      <g transform=\"translate(151.293929 215.476562) scale(0.1 -0.1)\">\n       <defs>\n        <path id=\"DejaVuSans-32\" d=\"M 1228 531 \nL 3431 531 \nL 3431 0 \nL 469 0 \nL 469 531 \nQ 828 903 1448 1529 \nQ 2069 2156 2228 2338 \nQ 2531 2678 2651 2914 \nQ 2772 3150 2772 3378 \nQ 2772 3750 2511 3984 \nQ 2250 4219 1831 4219 \nQ 1534 4219 1204 4116 \nQ 875 4013 500 3803 \nL 500 4441 \nQ 881 4594 1212 4672 \nQ 1544 4750 1819 4750 \nQ 2544 4750 2975 4387 \nQ 3406 4025 3406 3419 \nQ 3406 3131 3298 2873 \nQ 3191 2616 2906 2266 \nQ 2828 2175 2409 1742 \nQ 1991 1309 1228 531 \nz\n\" transform=\"scale(0.015625)\"/>\n       </defs>\n       <use xlink:href=\"#DejaVuSans-32\"/>\n       <use xlink:href=\"#DejaVuSans-30\" x=\"63.623047\"/>\n      </g>\n     </g>\n    </g>\n    <g id=\"xtick_4\">\n     <g id=\"line2d_4\">\n      <g>\n       <use xlink:href=\"#mbd13783cde\" x=\"221.427857\" y=\"200.878125\" style=\"stroke: #000000; stroke-width: 0.8\"/>\n      </g>\n     </g>\n     <g id=\"text_4\">\n      <!-- 30 -->\n      <g transform=\"translate(215.065357 215.476562) scale(0.1 -0.1)\">\n       <defs>\n        <path id=\"DejaVuSans-33\" d=\"M 2597 2516 \nQ 3050 2419 3304 2112 \nQ 3559 1806 3559 1356 \nQ 3559 666 3084 287 \nQ 2609 -91 1734 -91 \nQ 1441 -91 1130 -33 \nQ 819 25 488 141 \nL 488 750 \nQ 750 597 1062 519 \nQ 1375 441 1716 441 \nQ 2309 441 2620 675 \nQ 2931 909 2931 1356 \nQ 2931 1769 2642 2001 \nQ 2353 2234 1838 2234 \nL 1294 2234 \nL 1294 2753 \nL 1863 2753 \nQ 2328 2753 2575 2939 \nQ 2822 3125 2822 3475 \nQ 2822 3834 2567 4026 \nQ 2313 4219 1838 4219 \nQ 1578 4219 1281 4162 \nQ 984 4106 628 3988 \nL 628 4550 \nQ 988 4650 1302 4700 \nQ 1616 4750 1894 4750 \nQ 2613 4750 3031 4423 \nQ 3450 4097 3450 3541 \nQ 3450 3153 3228 2886 \nQ 3006 2619 2597 2516 \nz\n\" transform=\"scale(0.015625)\"/>\n       </defs>\n       <use xlink:href=\"#DejaVuSans-33\"/>\n       <use xlink:href=\"#DejaVuSans-30\" x=\"63.623047\"/>\n      </g>\n     </g>\n    </g>\n    <g id=\"xtick_5\">\n     <g id=\"line2d_5\">\n      <g>\n       <use xlink:href=\"#mbd13783cde\" x=\"285.199286\" y=\"200.878125\" style=\"stroke: #000000; stroke-width: 0.8\"/>\n      </g>\n     </g>\n     <g id=\"text_5\">\n      <!-- 40 -->\n      <g transform=\"translate(278.836786 215.476562) scale(0.1 -0.1)\">\n       <defs>\n        <path id=\"DejaVuSans-34\" d=\"M 2419 4116 \nL 825 1625 \nL 2419 1625 \nL 2419 4116 \nz\nM 2253 4666 \nL 3047 4666 \nL 3047 1625 \nL 3713 1625 \nL 3713 1100 \nL 3047 1100 \nL 3047 0 \nL 2419 0 \nL 2419 1100 \nL 313 1100 \nL 313 1709 \nL 2253 4666 \nz\n\" transform=\"scale(0.015625)\"/>\n       </defs>\n       <use xlink:href=\"#DejaVuSans-34\"/>\n       <use xlink:href=\"#DejaVuSans-30\" x=\"63.623047\"/>\n      </g>\n     </g>\n    </g>\n    <g id=\"xtick_6\">\n     <g id=\"line2d_6\">\n      <g>\n       <use xlink:href=\"#mbd13783cde\" x=\"348.970714\" y=\"200.878125\" style=\"stroke: #000000; stroke-width: 0.8\"/>\n      </g>\n     </g>\n     <g id=\"text_6\">\n      <!-- 50 -->\n      <g transform=\"translate(342.608214 215.476562) scale(0.1 -0.1)\">\n       <defs>\n        <path id=\"DejaVuSans-35\" d=\"M 691 4666 \nL 3169 4666 \nL 3169 4134 \nL 1269 4134 \nL 1269 2991 \nQ 1406 3038 1543 3061 \nQ 1681 3084 1819 3084 \nQ 2600 3084 3056 2656 \nQ 3513 2228 3513 1497 \nQ 3513 744 3044 326 \nQ 2575 -91 1722 -91 \nQ 1428 -91 1123 -41 \nQ 819 9 494 109 \nL 494 744 \nQ 775 591 1075 516 \nQ 1375 441 1709 441 \nQ 2250 441 2565 725 \nQ 2881 1009 2881 1497 \nQ 2881 1984 2565 2268 \nQ 2250 2553 1709 2553 \nQ 1456 2553 1204 2497 \nQ 953 2441 691 2322 \nL 691 4666 \nz\n\" transform=\"scale(0.015625)\"/>\n       </defs>\n       <use xlink:href=\"#DejaVuSans-35\"/>\n       <use xlink:href=\"#DejaVuSans-30\" x=\"63.623047\"/>\n      </g>\n     </g>\n    </g>\n   </g>\n   <g id=\"matplotlib.axis_2\">\n    <g id=\"ytick_1\">\n     <g id=\"line2d_7\">\n      <defs>\n       <path id=\"mb1021a27e2\" d=\"M 0 0 \nL -3.5 0 \n\" style=\"stroke: #000000; stroke-width: 0.8\"/>\n      </defs>\n      <g>\n       <use xlink:href=\"#mb1021a27e2\" x=\"26.925\" y=\"25.506696\" style=\"stroke: #000000; stroke-width: 0.8\"/>\n      </g>\n     </g>\n     <g id=\"text_7\">\n      <!-- 0 -->\n      <g transform=\"translate(13.5625 29.305915) scale(0.1 -0.1)\">\n       <use xlink:href=\"#DejaVuSans-30\"/>\n      </g>\n     </g>\n    </g>\n    <g id=\"ytick_2\">\n     <g id=\"line2d_8\">\n      <g>\n       <use xlink:href=\"#mb1021a27e2\" x=\"26.925\" y=\"57.392411\" style=\"stroke: #000000; stroke-width: 0.8\"/>\n      </g>\n     </g>\n     <g id=\"text_8\">\n      <!-- 5 -->\n      <g transform=\"translate(13.5625 61.191629) scale(0.1 -0.1)\">\n       <use xlink:href=\"#DejaVuSans-35\"/>\n      </g>\n     </g>\n    </g>\n    <g id=\"ytick_3\">\n     <g id=\"line2d_9\">\n      <g>\n       <use xlink:href=\"#mb1021a27e2\" x=\"26.925\" y=\"89.278125\" style=\"stroke: #000000; stroke-width: 0.8\"/>\n      </g>\n     </g>\n     <g id=\"text_9\">\n      <!-- 10 -->\n      <g transform=\"translate(7.2 93.077344) scale(0.1 -0.1)\">\n       <use xlink:href=\"#DejaVuSans-31\"/>\n       <use xlink:href=\"#DejaVuSans-30\" x=\"63.623047\"/>\n      </g>\n     </g>\n    </g>\n    <g id=\"ytick_4\">\n     <g id=\"line2d_10\">\n      <g>\n       <use xlink:href=\"#mb1021a27e2\" x=\"26.925\" y=\"121.163839\" style=\"stroke: #000000; stroke-width: 0.8\"/>\n      </g>\n     </g>\n     <g id=\"text_10\">\n      <!-- 15 -->\n      <g transform=\"translate(7.2 124.963058) scale(0.1 -0.1)\">\n       <use xlink:href=\"#DejaVuSans-31\"/>\n       <use xlink:href=\"#DejaVuSans-35\" x=\"63.623047\"/>\n      </g>\n     </g>\n    </g>\n    <g id=\"ytick_5\">\n     <g id=\"line2d_11\">\n      <g>\n       <use xlink:href=\"#mb1021a27e2\" x=\"26.925\" y=\"153.049554\" style=\"stroke: #000000; stroke-width: 0.8\"/>\n      </g>\n     </g>\n     <g id=\"text_11\">\n      <!-- 20 -->\n      <g transform=\"translate(7.2 156.848772) scale(0.1 -0.1)\">\n       <use xlink:href=\"#DejaVuSans-32\"/>\n       <use xlink:href=\"#DejaVuSans-30\" x=\"63.623047\"/>\n      </g>\n     </g>\n    </g>\n    <g id=\"ytick_6\">\n     <g id=\"line2d_12\">\n      <g>\n       <use xlink:href=\"#mb1021a27e2\" x=\"26.925\" y=\"184.935268\" style=\"stroke: #000000; stroke-width: 0.8\"/>\n      </g>\n     </g>\n     <g id=\"text_12\">\n      <!-- 25 -->\n      <g transform=\"translate(7.2 188.734487) scale(0.1 -0.1)\">\n       <use xlink:href=\"#DejaVuSans-32\"/>\n       <use xlink:href=\"#DejaVuSans-35\" x=\"63.623047\"/>\n      </g>\n     </g>\n    </g>\n   </g>\n   <g id=\"patch_3\">\n    <path d=\"M 26.925 200.878125 \nL 26.925 22.318125 \n\" style=\"fill: none; stroke: #000000; stroke-width: 0.8; stroke-linejoin: miter; stroke-linecap: square\"/>\n   </g>\n   <g id=\"patch_4\">\n    <path d=\"M 384.045 200.878125 \nL 384.045 22.318125 \n\" style=\"fill: none; stroke: #000000; stroke-width: 0.8; stroke-linejoin: miter; stroke-linecap: square\"/>\n   </g>\n   <g id=\"patch_5\">\n    <path d=\"M 26.925 200.878125 \nL 384.045 200.878125 \n\" style=\"fill: none; stroke: #000000; stroke-width: 0.8; stroke-linejoin: miter; stroke-linecap: square\"/>\n   </g>\n   <g id=\"patch_6\">\n    <path d=\"M 26.925 22.318125 \nL 384.045 22.318125 \n\" style=\"fill: none; stroke: #000000; stroke-width: 0.8; stroke-linejoin: miter; stroke-linecap: square\"/>\n   </g>\n   <g id=\"text_13\">\n    <!-- Pesos e gradientes da classe 4 -->\n    <g transform=\"translate(113.262188 16.318125) scale(0.12 -0.12)\">\n     <defs>\n      <path id=\"DejaVuSans-50\" d=\"M 1259 4147 \nL 1259 2394 \nL 2053 2394 \nQ 2494 2394 2734 2622 \nQ 2975 2850 2975 3272 \nQ 2975 3691 2734 3919 \nQ 2494 4147 2053 4147 \nL 1259 4147 \nz\nM 628 4666 \nL 2053 4666 \nQ 2838 4666 3239 4311 \nQ 3641 3956 3641 3272 \nQ 3641 2581 3239 2228 \nQ 2838 1875 2053 1875 \nL 1259 1875 \nL 1259 0 \nL 628 0 \nL 628 4666 \nz\n\" transform=\"scale(0.015625)\"/>\n      <path id=\"DejaVuSans-65\" d=\"M 3597 1894 \nL 3597 1613 \nL 953 1613 \nQ 991 1019 1311 708 \nQ 1631 397 2203 397 \nQ 2534 397 2845 478 \nQ 3156 559 3463 722 \nL 3463 178 \nQ 3153 47 2828 -22 \nQ 2503 -91 2169 -91 \nQ 1331 -91 842 396 \nQ 353 884 353 1716 \nQ 353 2575 817 3079 \nQ 1281 3584 2069 3584 \nQ 2775 3584 3186 3129 \nQ 3597 2675 3597 1894 \nz\nM 3022 2063 \nQ 3016 2534 2758 2815 \nQ 2500 3097 2075 3097 \nQ 1594 3097 1305 2825 \nQ 1016 2553 972 2059 \nL 3022 2063 \nz\n\" transform=\"scale(0.015625)\"/>\n      <path id=\"DejaVuSans-73\" d=\"M 2834 3397 \nL 2834 2853 \nQ 2591 2978 2328 3040 \nQ 2066 3103 1784 3103 \nQ 1356 3103 1142 2972 \nQ 928 2841 928 2578 \nQ 928 2378 1081 2264 \nQ 1234 2150 1697 2047 \nL 1894 2003 \nQ 2506 1872 2764 1633 \nQ 3022 1394 3022 966 \nQ 3022 478 2636 193 \nQ 2250 -91 1575 -91 \nQ 1294 -91 989 -36 \nQ 684 19 347 128 \nL 347 722 \nQ 666 556 975 473 \nQ 1284 391 1588 391 \nQ 1994 391 2212 530 \nQ 2431 669 2431 922 \nQ 2431 1156 2273 1281 \nQ 2116 1406 1581 1522 \nL 1381 1569 \nQ 847 1681 609 1914 \nQ 372 2147 372 2553 \nQ 372 3047 722 3315 \nQ 1072 3584 1716 3584 \nQ 2034 3584 2315 3537 \nQ 2597 3491 2834 3397 \nz\n\" transform=\"scale(0.015625)\"/>\n      <path id=\"DejaVuSans-6f\" d=\"M 1959 3097 \nQ 1497 3097 1228 2736 \nQ 959 2375 959 1747 \nQ 959 1119 1226 758 \nQ 1494 397 1959 397 \nQ 2419 397 2687 759 \nQ 2956 1122 2956 1747 \nQ 2956 2369 2687 2733 \nQ 2419 3097 1959 3097 \nz\nM 1959 3584 \nQ 2709 3584 3137 3096 \nQ 3566 2609 3566 1747 \nQ 3566 888 3137 398 \nQ 2709 -91 1959 -91 \nQ 1206 -91 779 398 \nQ 353 888 353 1747 \nQ 353 2609 779 3096 \nQ 1206 3584 1959 3584 \nz\n\" transform=\"scale(0.015625)\"/>\n      <path id=\"DejaVuSans-20\" transform=\"scale(0.015625)\"/>\n      <path id=\"DejaVuSans-67\" d=\"M 2906 1791 \nQ 2906 2416 2648 2759 \nQ 2391 3103 1925 3103 \nQ 1463 3103 1205 2759 \nQ 947 2416 947 1791 \nQ 947 1169 1205 825 \nQ 1463 481 1925 481 \nQ 2391 481 2648 825 \nQ 2906 1169 2906 1791 \nz\nM 3481 434 \nQ 3481 -459 3084 -895 \nQ 2688 -1331 1869 -1331 \nQ 1566 -1331 1297 -1286 \nQ 1028 -1241 775 -1147 \nL 775 -588 \nQ 1028 -725 1275 -790 \nQ 1522 -856 1778 -856 \nQ 2344 -856 2625 -561 \nQ 2906 -266 2906 331 \nL 2906 616 \nQ 2728 306 2450 153 \nQ 2172 0 1784 0 \nQ 1141 0 747 490 \nQ 353 981 353 1791 \nQ 353 2603 747 3093 \nQ 1141 3584 1784 3584 \nQ 2172 3584 2450 3431 \nQ 2728 3278 2906 2969 \nL 2906 3500 \nL 3481 3500 \nL 3481 434 \nz\n\" transform=\"scale(0.015625)\"/>\n      <path id=\"DejaVuSans-72\" d=\"M 2631 2963 \nQ 2534 3019 2420 3045 \nQ 2306 3072 2169 3072 \nQ 1681 3072 1420 2755 \nQ 1159 2438 1159 1844 \nL 1159 0 \nL 581 0 \nL 581 3500 \nL 1159 3500 \nL 1159 2956 \nQ 1341 3275 1631 3429 \nQ 1922 3584 2338 3584 \nQ 2397 3584 2469 3576 \nQ 2541 3569 2628 3553 \nL 2631 2963 \nz\n\" transform=\"scale(0.015625)\"/>\n      <path id=\"DejaVuSans-61\" d=\"M 2194 1759 \nQ 1497 1759 1228 1600 \nQ 959 1441 959 1056 \nQ 959 750 1161 570 \nQ 1363 391 1709 391 \nQ 2188 391 2477 730 \nQ 2766 1069 2766 1631 \nL 2766 1759 \nL 2194 1759 \nz\nM 3341 1997 \nL 3341 0 \nL 2766 0 \nL 2766 531 \nQ 2569 213 2275 61 \nQ 1981 -91 1556 -91 \nQ 1019 -91 701 211 \nQ 384 513 384 1019 \nQ 384 1609 779 1909 \nQ 1175 2209 1959 2209 \nL 2766 2209 \nL 2766 2266 \nQ 2766 2663 2505 2880 \nQ 2244 3097 1772 3097 \nQ 1472 3097 1187 3025 \nQ 903 2953 641 2809 \nL 641 3341 \nQ 956 3463 1253 3523 \nQ 1550 3584 1831 3584 \nQ 2591 3584 2966 3190 \nQ 3341 2797 3341 1997 \nz\n\" transform=\"scale(0.015625)\"/>\n      <path id=\"DejaVuSans-64\" d=\"M 2906 2969 \nL 2906 4863 \nL 3481 4863 \nL 3481 0 \nL 2906 0 \nL 2906 525 \nQ 2725 213 2448 61 \nQ 2172 -91 1784 -91 \nQ 1150 -91 751 415 \nQ 353 922 353 1747 \nQ 353 2572 751 3078 \nQ 1150 3584 1784 3584 \nQ 2172 3584 2448 3432 \nQ 2725 3281 2906 2969 \nz\nM 947 1747 \nQ 947 1113 1208 752 \nQ 1469 391 1925 391 \nQ 2381 391 2643 752 \nQ 2906 1113 2906 1747 \nQ 2906 2381 2643 2742 \nQ 2381 3103 1925 3103 \nQ 1469 3103 1208 2742 \nQ 947 2381 947 1747 \nz\n\" transform=\"scale(0.015625)\"/>\n      <path id=\"DejaVuSans-69\" d=\"M 603 3500 \nL 1178 3500 \nL 1178 0 \nL 603 0 \nL 603 3500 \nz\nM 603 4863 \nL 1178 4863 \nL 1178 4134 \nL 603 4134 \nL 603 4863 \nz\n\" transform=\"scale(0.015625)\"/>\n      <path id=\"DejaVuSans-6e\" d=\"M 3513 2113 \nL 3513 0 \nL 2938 0 \nL 2938 2094 \nQ 2938 2591 2744 2837 \nQ 2550 3084 2163 3084 \nQ 1697 3084 1428 2787 \nQ 1159 2491 1159 1978 \nL 1159 0 \nL 581 0 \nL 581 3500 \nL 1159 3500 \nL 1159 2956 \nQ 1366 3272 1645 3428 \nQ 1925 3584 2291 3584 \nQ 2894 3584 3203 3211 \nQ 3513 2838 3513 2113 \nz\n\" transform=\"scale(0.015625)\"/>\n      <path id=\"DejaVuSans-74\" d=\"M 1172 4494 \nL 1172 3500 \nL 2356 3500 \nL 2356 3053 \nL 1172 3053 \nL 1172 1153 \nQ 1172 725 1289 603 \nQ 1406 481 1766 481 \nL 2356 481 \nL 2356 0 \nL 1766 0 \nQ 1100 0 847 248 \nQ 594 497 594 1153 \nL 594 3053 \nL 172 3053 \nL 172 3500 \nL 594 3500 \nL 594 4494 \nL 1172 4494 \nz\n\" transform=\"scale(0.015625)\"/>\n      <path id=\"DejaVuSans-63\" d=\"M 3122 3366 \nL 3122 2828 \nQ 2878 2963 2633 3030 \nQ 2388 3097 2138 3097 \nQ 1578 3097 1268 2742 \nQ 959 2388 959 1747 \nQ 959 1106 1268 751 \nQ 1578 397 2138 397 \nQ 2388 397 2633 464 \nQ 2878 531 3122 666 \nL 3122 134 \nQ 2881 22 2623 -34 \nQ 2366 -91 2075 -91 \nQ 1284 -91 818 406 \nQ 353 903 353 1747 \nQ 353 2603 823 3093 \nQ 1294 3584 2113 3584 \nQ 2378 3584 2631 3529 \nQ 2884 3475 3122 3366 \nz\n\" transform=\"scale(0.015625)\"/>\n      <path id=\"DejaVuSans-6c\" d=\"M 603 4863 \nL 1178 4863 \nL 1178 0 \nL 603 0 \nL 603 4863 \nz\n\" transform=\"scale(0.015625)\"/>\n     </defs>\n     <use xlink:href=\"#DejaVuSans-50\"/>\n     <use xlink:href=\"#DejaVuSans-65\" x=\"56.677734\"/>\n     <use xlink:href=\"#DejaVuSans-73\" x=\"118.201172\"/>\n     <use xlink:href=\"#DejaVuSans-6f\" x=\"170.300781\"/>\n     <use xlink:href=\"#DejaVuSans-73\" x=\"231.482422\"/>\n     <use xlink:href=\"#DejaVuSans-20\" x=\"283.582031\"/>\n     <use xlink:href=\"#DejaVuSans-65\" x=\"315.369141\"/>\n     <use xlink:href=\"#DejaVuSans-20\" x=\"376.892578\"/>\n     <use xlink:href=\"#DejaVuSans-67\" x=\"408.679688\"/>\n     <use xlink:href=\"#DejaVuSans-72\" x=\"472.15625\"/>\n     <use xlink:href=\"#DejaVuSans-61\" x=\"513.269531\"/>\n     <use xlink:href=\"#DejaVuSans-64\" x=\"574.548828\"/>\n     <use xlink:href=\"#DejaVuSans-69\" x=\"638.025391\"/>\n     <use xlink:href=\"#DejaVuSans-65\" x=\"665.808594\"/>\n     <use xlink:href=\"#DejaVuSans-6e\" x=\"727.332031\"/>\n     <use xlink:href=\"#DejaVuSans-74\" x=\"790.710938\"/>\n     <use xlink:href=\"#DejaVuSans-65\" x=\"829.919922\"/>\n     <use xlink:href=\"#DejaVuSans-73\" x=\"891.443359\"/>\n     <use xlink:href=\"#DejaVuSans-20\" x=\"943.542969\"/>\n     <use xlink:href=\"#DejaVuSans-64\" x=\"975.330078\"/>\n     <use xlink:href=\"#DejaVuSans-61\" x=\"1038.806641\"/>\n     <use xlink:href=\"#DejaVuSans-20\" x=\"1100.085938\"/>\n     <use xlink:href=\"#DejaVuSans-63\" x=\"1131.873047\"/>\n     <use xlink:href=\"#DejaVuSans-6c\" x=\"1186.853516\"/>\n     <use xlink:href=\"#DejaVuSans-61\" x=\"1214.636719\"/>\n     <use xlink:href=\"#DejaVuSans-73\" x=\"1275.916016\"/>\n     <use xlink:href=\"#DejaVuSans-73\" x=\"1328.015625\"/>\n     <use xlink:href=\"#DejaVuSans-65\" x=\"1380.115234\"/>\n     <use xlink:href=\"#DejaVuSans-20\" x=\"1441.638672\"/>\n     <use xlink:href=\"#DejaVuSans-34\" x=\"1473.425781\"/>\n    </g>\n   </g>\n  </g>\n </g>\n <defs>\n  <clipPath id=\"p8d5326840d\">\n   <rect x=\"26.925\" y=\"22.318125\" width=\"357.12\" height=\"178.56\"/>\n  </clipPath>\n </defs>\n</svg>\n"
          },
          "metadata": {}
        },
        {
          "output_type": "stream",
          "name": "stdout",
          "text": [
            "Perda final: 0.39359, acurária final: 0.8948\n",
            "Tempo de treinamento: 40.01 segundos\n"
          ]
        }
      ]
    },
    {
      "cell_type": "markdown",
      "source": [
        "<details>\n",
        "<summary>Mostrar Resultado</summary>\n",
        "\n",
        "```python\n",
        "losses = []\n",
        "import numpy\n",
        "\n",
        "import numpy\n",
        "zs = []\n",
        "\n",
        "for i in range(epochs):\n",
        "    # Transforma a entrada para uma dimensão\n",
        "    inputs = Variable(x_train.view(-1, 28 * 28))\n",
        "    # Predict da rede\n",
        "    outputs = model(inputs)\n",
        "    \n",
        "    # z0 a z9\n",
        "    zs.append(outputs[1].detach().numpy())\n",
        "\n",
        "    # calcula a perda\n",
        "    loss = criterion(outputs, Variable(y_train))\n",
        "\n",
        "    # zero, backpropagation, ajusta parâmetros pelo gradiente descendente\n",
        "    optimizer.zero_grad()\n",
        "    loss.backward()\n",
        "    optimizer.step()\n",
        "\n",
        "    losses.append(loss.item())\n",
        "    \n",
        "    _, predicts = torch.max(outputs, 1)\n",
        "    \n",
        "    y_pred = predicts.data\n",
        "    accuracy = (y_pred.numpy() == y_train.numpy()).mean()\n",
        "    \n",
        "    print('Epoch[{}/{}], loss: {:.6f}, acc: {:.6f}'\n",
        "              .format(i+1, epochs, loss.data, accuracy))\n",
        "    \n",
        "    weights = model.state_dict()['weight']\n",
        "    print('weights:', weights.shape)\n",
        "\n",
        "    bias = model.state_dict()['bias']\n",
        "    print('bias:   ', bias.shape)\n",
        "\n",
        "    # Visualizando pesos da classe 3\n",
        "    plt.imshow(weights[4, :].numpy().reshape((28,28)),cmap = 'gray')\n",
        "    plt.show()\n",
        "```\n",
        "\n",
        "</details>"
      ],
      "metadata": {
        "id": "28SnX4gHjeLj"
      }
    },
    {
      "cell_type": "markdown",
      "metadata": {
        "id": "yDhND6p3Ol4J"
      },
      "source": [
        "## Perguntas"
      ]
    },
    {
      "cell_type": "markdown",
      "metadata": {
        "id": "AXg8GBrsOl4L"
      },
      "source": [
        "1. Qual é o shape da matriz de entrada na rede?\n",
        "\n",
        "  **R:** São 60 mil imagens de tamanho 28 x 28 pixels, ou seja: [60000, 28, 28]\n",
        "\n",
        "2. Qual é o shape da saída da rede?\n",
        "\n",
        "  **R:** A saída é composta pelas probabilidades de cada uma das 10 classes possíveis (algarismos de 0 a 9) para cada uma das 60 mil amostras, ou seja: [60000, 10]\n",
        "\n",
        "3. Qual é o número total de parâmetros da rede, incluindo o bias?\n",
        "\n",
        "  **R:** 28 x 28 + 10 = 794"
      ]
    },
    {
      "cell_type": "markdown",
      "metadata": {
        "id": "0aj1pg_ZOl4L"
      },
      "source": [
        "# Aprendizados\n"
      ]
    }
  ],
  "metadata": {
    "accelerator": "TPU",
    "colab": {
      "provenance": [],
      "gpuType": "V28"
    },
    "kernelspec": {
      "display_name": "Python 3.10.2 64-bit",
      "language": "python",
      "name": "python3"
    },
    "language_info": {
      "name": "python",
      "version": "3.10.2"
    },
    "vscode": {
      "interpreter": {
        "hash": "5fe3e6f0cdaab8afdc61c52912fda83f7c0a71baaea1897dd7498e2df01e69ec"
      }
    }
  },
  "nbformat": 4,
  "nbformat_minor": 0
}
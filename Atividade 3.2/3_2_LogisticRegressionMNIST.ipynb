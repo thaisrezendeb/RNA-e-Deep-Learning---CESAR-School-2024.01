{
  "cells": [
    {
      "cell_type": "markdown",
      "metadata": {
        "id": "Ot79tGiPOl08"
      },
      "source": [
        "# Regressão Softmax com dados do MNIST"
      ]
    },
    {
      "cell_type": "markdown",
      "metadata": {
        "id": "21fecJPyOl0-"
      },
      "source": [
        "## Objetivo"
      ]
    },
    {
      "cell_type": "markdown",
      "metadata": {
        "id": "z8SxRSoLOl1I"
      },
      "source": [
        "O objetivo deste notebook é ilustrar o uso de praticamente a mesma rede desenvolvida para a classificação das flores Íris, porém agora com o problema de classificação de dígitos manuscritos utilizando o dataset MNIST.\n",
        "As principais diferenças são:\n",
        "- tipo do dado, agora imagem com muito atributos: 28 x 28 pixels\n",
        "- número de amostras, muito maior, 60 mil\n",
        "Neste exercício será possível a interpretação do significado dos parâmetros treinados"
      ]
    },
    {
      "cell_type": "markdown",
      "metadata": {
        "id": "RKVT1A6zOl1J"
      },
      "source": [
        "## Importação das bibliotecas"
      ]
    },
    {
      "cell_type": "code",
      "execution_count": 1,
      "metadata": {
        "colab": {
          "base_uri": "https://localhost:8080/"
        },
        "id": "EVN-NfMTNk73",
        "outputId": "435fe629-96f8-4857-8045-2261d6c7640a"
      },
      "outputs": [
        {
          "output_type": "stream",
          "name": "stdout",
          "text": [
            "Requirement already satisfied: Pillow in /usr/local/lib/python3.10/dist-packages (11.0.0)\n"
          ]
        }
      ],
      "source": [
        "! pip install Pillow"
      ]
    },
    {
      "cell_type": "code",
      "execution_count": 2,
      "metadata": {
        "ExecuteTime": {
          "end_time": "2017-11-24T15:44:50.097111",
          "start_time": "2017-11-24T15:44:48.915046"
        },
        "id": "2oKVJHVNOl1k"
      },
      "outputs": [],
      "source": [
        "%matplotlib inline\n",
        "%config InlineBackend.figure_format = 'svg'\n",
        "import numpy as np\n",
        "import matplotlib.pyplot as plt\n",
        "import pandas as pd\n",
        "\n",
        "import torch\n",
        "from torch.autograd import Variable\n",
        "\n",
        "import torchvision"
      ]
    },
    {
      "cell_type": "markdown",
      "metadata": {
        "id": "BmeldMPaOl1p"
      },
      "source": [
        "## Carregamento dos dados do MNIST"
      ]
    },
    {
      "cell_type": "code",
      "execution_count": 3,
      "metadata": {
        "colab": {
          "base_uri": "https://localhost:8080/"
        },
        "id": "vzrUS_xbgvry",
        "outputId": "56e04bcb-5290-4c92-b410-8df9277ce6ec"
      },
      "outputs": [
        {
          "output_type": "stream",
          "name": "stdout",
          "text": [
            "Cloning into 'MNIST'...\n",
            "remote: Enumerating objects: 10, done.\u001b[K\n",
            "remote: Total 10 (delta 0), reused 0 (delta 0), pack-reused 10 (from 1)\u001b[K\n",
            "Receiving objects: 100% (10/10), 11.01 MiB | 11.22 MiB/s, done.\n",
            "Resolving deltas: 100% (2/2), done.\n",
            "Updating files: 100% (6/6), done.\n"
          ]
        }
      ],
      "source": [
        "! git clone https://github.com/vcasadei/MNIST.git"
      ]
    },
    {
      "cell_type": "code",
      "execution_count": 4,
      "metadata": {
        "colab": {
          "base_uri": "https://localhost:8080/"
        },
        "id": "f6tbsAECg5JB",
        "outputId": "7a363048-495c-4813-bea7-0420c7d618e7"
      },
      "outputs": [
        {
          "output_type": "stream",
          "name": "stdout",
          "text": [
            "processed  raw\n"
          ]
        }
      ],
      "source": [
        "!ls MNIST"
      ]
    },
    {
      "cell_type": "code",
      "execution_count": 5,
      "metadata": {
        "ExecuteTime": {
          "end_time": "2017-11-24T15:44:50.638218",
          "start_time": "2017-11-24T15:44:50.098808"
        },
        "colab": {
          "base_uri": "https://localhost:8080/"
        },
        "id": "q0KuxPGVOl1q",
        "outputId": "7be4f400-ec96-437e-8f53-fbb1e153fd1a"
      },
      "outputs": [
        {
          "output_type": "stream",
          "name": "stdout",
          "text": [
            "Amostras de treinamento: 60000\n",
            "\n",
            "Dimensões dos dados das imagens:    torch.Size([60000, 28, 28])\n"
          ]
        },
        {
          "output_type": "stream",
          "name": "stderr",
          "text": [
            "<ipython-input-5-6143b94785d1>:3: FutureWarning: You are using `torch.load` with `weights_only=False` (the current default value), which uses the default pickle module implicitly. It is possible to construct malicious pickle data which will execute arbitrary code during unpickling (See https://github.com/pytorch/pytorch/blob/main/SECURITY.md#untrusted-models for more details). In a future release, the default value for `weights_only` will be flipped to `True`. This limits the functions that could be executed during unpickling. Arbitrary objects will no longer be allowed to be loaded via this mode unless they are explicitly allowlisted by the user via `torch.serialization.add_safe_globals`. We recommend you start setting `weights_only=True` for any use case where you don't have full control of the loaded file. Please open an issue on GitHub for any issues related to this experimental feature.\n",
            "  x_train, y_train = torch.load(dataset_dir + 'processed/training.pt')\n"
          ]
        },
        {
          "output_type": "stream",
          "name": "stdout",
          "text": [
            "Valores mínimo e máximo dos pixels: tensor(0, dtype=torch.uint8) tensor(255, dtype=torch.uint8)\n",
            "Tipo dos dados das imagens:         <class 'torch.Tensor'>\n",
            "Tipo das classes das imagens:       <class 'torch.Tensor'>\n"
          ]
        }
      ],
      "source": [
        "dataset_dir = 'MNIST/'\n",
        "\n",
        "x_train, y_train = torch.load(dataset_dir + 'processed/training.pt')\n",
        "\n",
        "print(\"Amostras de treinamento:\", x_train.size(0))\n",
        "\n",
        "print(\"\\nDimensões dos dados das imagens:   \", x_train.size())\n",
        "print(\"Valores mínimo e máximo dos pixels:\", torch.min(x_train), torch.max(x_train))\n",
        "print(\"Tipo dos dados das imagens:        \", type(x_train))\n",
        "print(\"Tipo das classes das imagens:      \", type(y_train))"
      ]
    },
    {
      "cell_type": "markdown",
      "metadata": {
        "id": "DccnsPRCOl1y"
      },
      "source": [
        "### Carregamento, normalização e seleção dos dados do MNIST\n",
        "\n",
        "Neste exemplo utilizaremos apenas 1000 amostras de treinamento."
      ]
    },
    {
      "cell_type": "code",
      "execution_count": 6,
      "metadata": {
        "ExecuteTime": {
          "end_time": "2017-11-24T15:44:50.895668",
          "start_time": "2017-11-24T15:44:50.640110"
        },
        "colab": {
          "base_uri": "https://localhost:8080/"
        },
        "id": "jRfSlVpnOl10",
        "outputId": "db79090b-eefc-4a72-a796-2f315d97ec71"
      },
      "outputs": [
        {
          "output_type": "stream",
          "name": "stdout",
          "text": [
            "Amostras de treinamento: 60000\n",
            "\n",
            "Dimensões dos dados das imagens:    torch.Size([60000, 28, 28])\n",
            "Valores mínimo e máximo dos pixels: tensor(0.) tensor(1.)\n",
            "Tipo dos dados das imagens:         <class 'torch.Tensor'>\n",
            "Tipo das classes das imagens:       <class 'torch.Tensor'>\n"
          ]
        }
      ],
      "source": [
        "x_train = x_train.float()\n",
        "\n",
        "x_train = x_train / 255.\n",
        "\n",
        "if False:\n",
        "    n_samples_train = 1000\n",
        "\n",
        "    x_train = x_train[:n_samples_train]\n",
        "    y_train = y_train[:n_samples_train]\n",
        "\n",
        "print(\"Amostras de treinamento:\", x_train.size(0))\n",
        "\n",
        "print(\"\\nDimensões dos dados das imagens:   \", x_train.size())\n",
        "print(\"Valores mínimo e máximo dos pixels:\", torch.min(x_train), torch.max(x_train))\n",
        "print(\"Tipo dos dados das imagens:        \", type(x_train))\n",
        "print(\"Tipo das classes das imagens:      \", type(y_train))"
      ]
    },
    {
      "cell_type": "markdown",
      "metadata": {
        "id": "0tXHwvS_Ol13"
      },
      "source": [
        "### Visualizando os dados"
      ]
    },
    {
      "cell_type": "code",
      "execution_count": 7,
      "metadata": {
        "ExecuteTime": {
          "end_time": "2017-11-24T16:32:19.474568",
          "start_time": "2017-11-24T16:32:19.207270"
        },
        "colab": {
          "base_uri": "https://localhost:8080/",
          "height": 480
        },
        "id": "zV7-8V9UOl15",
        "outputId": "52ffe2c0-fd41-4de5-a194-a9fefffa0a74"
      },
      "outputs": [
        {
          "output_type": "execute_result",
          "data": {
            "text/plain": [
              "(-0.5, 232.5, 87.5, -0.5)"
            ]
          },
          "metadata": {},
          "execution_count": 7
        },
        {
          "output_type": "display_data",
          "data": {
            "text/plain": [
              "<Figure size 1500x1000 with 1 Axes>"
            ],
            "image/svg+xml": "<?xml version=\"1.0\" encoding=\"utf-8\" standalone=\"no\"?>\n<!DOCTYPE svg PUBLIC \"-//W3C//DTD SVG 1.1//EN\"\n  \"http://www.w3.org/Graphics/SVG/1.1/DTD/svg11.dtd\">\n<svg xmlns:xlink=\"http://www.w3.org/1999/xlink\" width=\"851.4pt\" height=\"330.520172pt\" viewBox=\"0 0 851.4 330.520172\" xmlns=\"http://www.w3.org/2000/svg\" version=\"1.1\">\n <metadata>\n  <rdf:RDF xmlns:dc=\"http://purl.org/dc/elements/1.1/\" xmlns:cc=\"http://creativecommons.org/ns#\" xmlns:rdf=\"http://www.w3.org/1999/02/22-rdf-syntax-ns#\">\n   <cc:Work>\n    <dc:type rdf:resource=\"http://purl.org/dc/dcmitype/StillImage\"/>\n    <dc:date>2024-11-20T21:07:43.348210</dc:date>\n    <dc:format>image/svg+xml</dc:format>\n    <dc:creator>\n     <cc:Agent>\n      <dc:title>Matplotlib v3.8.0, https://matplotlib.org/</dc:title>\n     </cc:Agent>\n    </dc:creator>\n   </cc:Work>\n  </rdf:RDF>\n </metadata>\n <defs>\n  <style type=\"text/css\">*{stroke-linejoin: round; stroke-linecap: butt}</style>\n </defs>\n <g id=\"figure_1\">\n  <g id=\"patch_1\">\n   <path d=\"M 0 330.520172 \nL 851.4 330.520172 \nL 851.4 -0 \nL 0 -0 \nz\n\" style=\"fill: #ffffff\"/>\n  </g>\n  <g id=\"axes_1\">\n   <g clip-path=\"url(#p3851faa437)\">\n    <image xlink:href=\"data:image/png;base64,\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\" id=\"image549c10b140\" transform=\"scale(1 -1) translate(0 -316.8)\" x=\"7.2\" y=\"-6.520172\" width=\"837.36\" height=\"316.8\"/>\n   </g>\n  </g>\n </g>\n <defs>\n  <clipPath id=\"p3851faa437\">\n   <rect x=\"7.2\" y=\"7.2\" width=\"837\" height=\"316.120172\"/>\n  </clipPath>\n </defs>\n</svg>\n"
          },
          "metadata": {}
        }
      ],
      "source": [
        "n_samples = 24\n",
        "\n",
        "# cria um grid com as imagens\n",
        "grid = torchvision.utils.make_grid(x_train[:n_samples].unsqueeze(dim=1), pad_value=1.0, padding=1)\n",
        "\n",
        "plt.figure(figsize=(15, 10))\n",
        "plt.imshow(grid.numpy().transpose(1, 2, 0))\n",
        "plt.axis('off')"
      ]
    },
    {
      "cell_type": "markdown",
      "metadata": {
        "id": "biPfk_htOl2H"
      },
      "source": [
        "### Visualizando uma imagem com o matplotlib"
      ]
    },
    {
      "cell_type": "code",
      "execution_count": 8,
      "metadata": {
        "ExecuteTime": {
          "end_time": "2017-11-24T15:44:51.413232",
          "start_time": "2017-11-24T15:44:51.251376"
        },
        "colab": {
          "base_uri": "https://localhost:8080/",
          "height": 435
        },
        "id": "tAs2Zy28Ol2I",
        "outputId": "089f43f1-70c3-4dce-d841-e31877f5241b",
        "scrolled": true
      },
      "outputs": [
        {
          "output_type": "stream",
          "name": "stdout",
          "text": [
            "class: tensor(5)\n"
          ]
        },
        {
          "output_type": "display_data",
          "data": {
            "text/plain": [
              "<Figure size 640x480 with 1 Axes>"
            ],
            "image/svg+xml": "<?xml version=\"1.0\" encoding=\"utf-8\" standalone=\"no\"?>\n<!DOCTYPE svg PUBLIC \"-//W3C//DTD SVG 1.1//EN\"\n  \"http://www.w3.org/Graphics/SVG/1.1/DTD/svg11.dtd\">\n<svg xmlns:xlink=\"http://www.w3.org/1999/xlink\" width=\"300.237pt\" height=\"297.190125pt\" viewBox=\"0 0 300.237 297.190125\" xmlns=\"http://www.w3.org/2000/svg\" version=\"1.1\">\n <metadata>\n  <rdf:RDF xmlns:dc=\"http://purl.org/dc/elements/1.1/\" xmlns:cc=\"http://creativecommons.org/ns#\" xmlns:rdf=\"http://www.w3.org/1999/02/22-rdf-syntax-ns#\">\n   <cc:Work>\n    <dc:type rdf:resource=\"http://purl.org/dc/dcmitype/StillImage\"/>\n    <dc:date>2024-11-20T21:07:44.336166</dc:date>\n    <dc:format>image/svg+xml</dc:format>\n    <dc:creator>\n     <cc:Agent>\n      <dc:title>Matplotlib v3.8.0, https://matplotlib.org/</dc:title>\n     </cc:Agent>\n    </dc:creator>\n   </cc:Work>\n  </rdf:RDF>\n </metadata>\n <defs>\n  <style type=\"text/css\">*{stroke-linejoin: round; stroke-linecap: butt}</style>\n </defs>\n <g id=\"figure_1\">\n  <g id=\"patch_1\">\n   <path d=\"M -0 297.190125 \nL 300.237 297.190125 \nL 300.237 0 \nL -0 0 \nz\n\" style=\"fill: #ffffff\"/>\n  </g>\n  <g id=\"axes_1\">\n   <g id=\"patch_2\">\n    <path d=\"M 26.925 273.312 \nL 293.037 273.312 \nL 293.037 7.2 \nL 26.925 7.2 \nz\n\" style=\"fill: #ffffff\"/>\n   </g>\n   <g clip-path=\"url(#p351e948542)\">\n    <image xlink:href=\"data:image/png;base64,\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\" id=\"image42999f5cbc\" transform=\"scale(1 -1) translate(0 -266.4)\" x=\"26.925\" y=\"-6.912\" width=\"266.4\" height=\"266.4\"/>\n   </g>\n   <g id=\"matplotlib.axis_1\">\n    <g id=\"xtick_1\">\n     <g id=\"line2d_1\">\n      <defs>\n       <path id=\"m0fda2f57c8\" d=\"M 0 0 \nL 0 3.5 \n\" style=\"stroke: #000000; stroke-width: 0.8\"/>\n      </defs>\n      <g>\n       <use xlink:href=\"#m0fda2f57c8\" x=\"31.677\" y=\"273.312\" style=\"stroke: #000000; stroke-width: 0.8\"/>\n      </g>\n     </g>\n     <g id=\"text_1\">\n      <!-- 0 -->\n      <g transform=\"translate(28.49575 287.910437) scale(0.1 -0.1)\">\n       <defs>\n        <path id=\"DejaVuSans-30\" d=\"M 2034 4250 \nQ 1547 4250 1301 3770 \nQ 1056 3291 1056 2328 \nQ 1056 1369 1301 889 \nQ 1547 409 2034 409 \nQ 2525 409 2770 889 \nQ 3016 1369 3016 2328 \nQ 3016 3291 2770 3770 \nQ 2525 4250 2034 4250 \nz\nM 2034 4750 \nQ 2819 4750 3233 4129 \nQ 3647 3509 3647 2328 \nQ 3647 1150 3233 529 \nQ 2819 -91 2034 -91 \nQ 1250 -91 836 529 \nQ 422 1150 422 2328 \nQ 422 3509 836 4129 \nQ 1250 4750 2034 4750 \nz\n\" transform=\"scale(0.015625)\"/>\n       </defs>\n       <use xlink:href=\"#DejaVuSans-30\"/>\n      </g>\n     </g>\n    </g>\n    <g id=\"xtick_2\">\n     <g id=\"line2d_2\">\n      <g>\n       <use xlink:href=\"#m0fda2f57c8\" x=\"79.197\" y=\"273.312\" style=\"stroke: #000000; stroke-width: 0.8\"/>\n      </g>\n     </g>\n     <g id=\"text_2\">\n      <!-- 5 -->\n      <g transform=\"translate(76.01575 287.910437) scale(0.1 -0.1)\">\n       <defs>\n        <path id=\"DejaVuSans-35\" d=\"M 691 4666 \nL 3169 4666 \nL 3169 4134 \nL 1269 4134 \nL 1269 2991 \nQ 1406 3038 1543 3061 \nQ 1681 3084 1819 3084 \nQ 2600 3084 3056 2656 \nQ 3513 2228 3513 1497 \nQ 3513 744 3044 326 \nQ 2575 -91 1722 -91 \nQ 1428 -91 1123 -41 \nQ 819 9 494 109 \nL 494 744 \nQ 775 591 1075 516 \nQ 1375 441 1709 441 \nQ 2250 441 2565 725 \nQ 2881 1009 2881 1497 \nQ 2881 1984 2565 2268 \nQ 2250 2553 1709 2553 \nQ 1456 2553 1204 2497 \nQ 953 2441 691 2322 \nL 691 4666 \nz\n\" transform=\"scale(0.015625)\"/>\n       </defs>\n       <use xlink:href=\"#DejaVuSans-35\"/>\n      </g>\n     </g>\n    </g>\n    <g id=\"xtick_3\">\n     <g id=\"line2d_3\">\n      <g>\n       <use xlink:href=\"#m0fda2f57c8\" x=\"126.717\" y=\"273.312\" style=\"stroke: #000000; stroke-width: 0.8\"/>\n      </g>\n     </g>\n     <g id=\"text_3\">\n      <!-- 10 -->\n      <g transform=\"translate(120.3545 287.910437) scale(0.1 -0.1)\">\n       <defs>\n        <path id=\"DejaVuSans-31\" d=\"M 794 531 \nL 1825 531 \nL 1825 4091 \nL 703 3866 \nL 703 4441 \nL 1819 4666 \nL 2450 4666 \nL 2450 531 \nL 3481 531 \nL 3481 0 \nL 794 0 \nL 794 531 \nz\n\" transform=\"scale(0.015625)\"/>\n       </defs>\n       <use xlink:href=\"#DejaVuSans-31\"/>\n       <use xlink:href=\"#DejaVuSans-30\" x=\"63.623047\"/>\n      </g>\n     </g>\n    </g>\n    <g id=\"xtick_4\">\n     <g id=\"line2d_4\">\n      <g>\n       <use xlink:href=\"#m0fda2f57c8\" x=\"174.237\" y=\"273.312\" style=\"stroke: #000000; stroke-width: 0.8\"/>\n      </g>\n     </g>\n     <g id=\"text_4\">\n      <!-- 15 -->\n      <g transform=\"translate(167.8745 287.910437) scale(0.1 -0.1)\">\n       <use xlink:href=\"#DejaVuSans-31\"/>\n       <use xlink:href=\"#DejaVuSans-35\" x=\"63.623047\"/>\n      </g>\n     </g>\n    </g>\n    <g id=\"xtick_5\">\n     <g id=\"line2d_5\">\n      <g>\n       <use xlink:href=\"#m0fda2f57c8\" x=\"221.757\" y=\"273.312\" style=\"stroke: #000000; stroke-width: 0.8\"/>\n      </g>\n     </g>\n     <g id=\"text_5\">\n      <!-- 20 -->\n      <g transform=\"translate(215.3945 287.910437) scale(0.1 -0.1)\">\n       <defs>\n        <path id=\"DejaVuSans-32\" d=\"M 1228 531 \nL 3431 531 \nL 3431 0 \nL 469 0 \nL 469 531 \nQ 828 903 1448 1529 \nQ 2069 2156 2228 2338 \nQ 2531 2678 2651 2914 \nQ 2772 3150 2772 3378 \nQ 2772 3750 2511 3984 \nQ 2250 4219 1831 4219 \nQ 1534 4219 1204 4116 \nQ 875 4013 500 3803 \nL 500 4441 \nQ 881 4594 1212 4672 \nQ 1544 4750 1819 4750 \nQ 2544 4750 2975 4387 \nQ 3406 4025 3406 3419 \nQ 3406 3131 3298 2873 \nQ 3191 2616 2906 2266 \nQ 2828 2175 2409 1742 \nQ 1991 1309 1228 531 \nz\n\" transform=\"scale(0.015625)\"/>\n       </defs>\n       <use xlink:href=\"#DejaVuSans-32\"/>\n       <use xlink:href=\"#DejaVuSans-30\" x=\"63.623047\"/>\n      </g>\n     </g>\n    </g>\n    <g id=\"xtick_6\">\n     <g id=\"line2d_6\">\n      <g>\n       <use xlink:href=\"#m0fda2f57c8\" x=\"269.277\" y=\"273.312\" style=\"stroke: #000000; stroke-width: 0.8\"/>\n      </g>\n     </g>\n     <g id=\"text_6\">\n      <!-- 25 -->\n      <g transform=\"translate(262.9145 287.910437) scale(0.1 -0.1)\">\n       <use xlink:href=\"#DejaVuSans-32\"/>\n       <use xlink:href=\"#DejaVuSans-35\" x=\"63.623047\"/>\n      </g>\n     </g>\n    </g>\n   </g>\n   <g id=\"matplotlib.axis_2\">\n    <g id=\"ytick_1\">\n     <g id=\"line2d_7\">\n      <defs>\n       <path id=\"m6c739a4c75\" d=\"M 0 0 \nL -3.5 0 \n\" style=\"stroke: #000000; stroke-width: 0.8\"/>\n      </defs>\n      <g>\n       <use xlink:href=\"#m6c739a4c75\" x=\"26.925\" y=\"11.952\" style=\"stroke: #000000; stroke-width: 0.8\"/>\n      </g>\n     </g>\n     <g id=\"text_7\">\n      <!-- 0 -->\n      <g transform=\"translate(13.5625 15.751219) scale(0.1 -0.1)\">\n       <use xlink:href=\"#DejaVuSans-30\"/>\n      </g>\n     </g>\n    </g>\n    <g id=\"ytick_2\">\n     <g id=\"line2d_8\">\n      <g>\n       <use xlink:href=\"#m6c739a4c75\" x=\"26.925\" y=\"59.472\" style=\"stroke: #000000; stroke-width: 0.8\"/>\n      </g>\n     </g>\n     <g id=\"text_8\">\n      <!-- 5 -->\n      <g transform=\"translate(13.5625 63.271219) scale(0.1 -0.1)\">\n       <use xlink:href=\"#DejaVuSans-35\"/>\n      </g>\n     </g>\n    </g>\n    <g id=\"ytick_3\">\n     <g id=\"line2d_9\">\n      <g>\n       <use xlink:href=\"#m6c739a4c75\" x=\"26.925\" y=\"106.992\" style=\"stroke: #000000; stroke-width: 0.8\"/>\n      </g>\n     </g>\n     <g id=\"text_9\">\n      <!-- 10 -->\n      <g transform=\"translate(7.2 110.791219) scale(0.1 -0.1)\">\n       <use xlink:href=\"#DejaVuSans-31\"/>\n       <use xlink:href=\"#DejaVuSans-30\" x=\"63.623047\"/>\n      </g>\n     </g>\n    </g>\n    <g id=\"ytick_4\">\n     <g id=\"line2d_10\">\n      <g>\n       <use xlink:href=\"#m6c739a4c75\" x=\"26.925\" y=\"154.512\" style=\"stroke: #000000; stroke-width: 0.8\"/>\n      </g>\n     </g>\n     <g id=\"text_10\">\n      <!-- 15 -->\n      <g transform=\"translate(7.2 158.311219) scale(0.1 -0.1)\">\n       <use xlink:href=\"#DejaVuSans-31\"/>\n       <use xlink:href=\"#DejaVuSans-35\" x=\"63.623047\"/>\n      </g>\n     </g>\n    </g>\n    <g id=\"ytick_5\">\n     <g id=\"line2d_11\">\n      <g>\n       <use xlink:href=\"#m6c739a4c75\" x=\"26.925\" y=\"202.032\" style=\"stroke: #000000; stroke-width: 0.8\"/>\n      </g>\n     </g>\n     <g id=\"text_11\">\n      <!-- 20 -->\n      <g transform=\"translate(7.2 205.831219) scale(0.1 -0.1)\">\n       <use xlink:href=\"#DejaVuSans-32\"/>\n       <use xlink:href=\"#DejaVuSans-30\" x=\"63.623047\"/>\n      </g>\n     </g>\n    </g>\n    <g id=\"ytick_6\">\n     <g id=\"line2d_12\">\n      <g>\n       <use xlink:href=\"#m6c739a4c75\" x=\"26.925\" y=\"249.552\" style=\"stroke: #000000; stroke-width: 0.8\"/>\n      </g>\n     </g>\n     <g id=\"text_12\">\n      <!-- 25 -->\n      <g transform=\"translate(7.2 253.351219) scale(0.1 -0.1)\">\n       <use xlink:href=\"#DejaVuSans-32\"/>\n       <use xlink:href=\"#DejaVuSans-35\" x=\"63.623047\"/>\n      </g>\n     </g>\n    </g>\n   </g>\n   <g id=\"patch_3\">\n    <path d=\"M 26.925 273.312 \nL 26.925 7.2 \n\" style=\"fill: none; stroke: #000000; stroke-width: 0.8; stroke-linejoin: miter; stroke-linecap: square\"/>\n   </g>\n   <g id=\"patch_4\">\n    <path d=\"M 293.037 273.312 \nL 293.037 7.2 \n\" style=\"fill: none; stroke: #000000; stroke-width: 0.8; stroke-linejoin: miter; stroke-linecap: square\"/>\n   </g>\n   <g id=\"patch_5\">\n    <path d=\"M 26.925 273.312 \nL 293.037 273.312 \n\" style=\"fill: none; stroke: #000000; stroke-width: 0.8; stroke-linejoin: miter; stroke-linecap: square\"/>\n   </g>\n   <g id=\"patch_6\">\n    <path d=\"M 26.925 7.2 \nL 293.037 7.2 \n\" style=\"fill: none; stroke: #000000; stroke-width: 0.8; stroke-linejoin: miter; stroke-linecap: square\"/>\n   </g>\n  </g>\n </g>\n <defs>\n  <clipPath id=\"p351e948542\">\n   <rect x=\"26.925\" y=\"7.2\" width=\"266.112\" height=\"266.112\"/>\n  </clipPath>\n </defs>\n</svg>\n"
          },
          "metadata": {}
        }
      ],
      "source": [
        "image  = x_train[0]\n",
        "target = y_train[0]\n",
        "\n",
        "plt.imshow(image.numpy(), cmap='gray')\n",
        "print('class:', target)"
      ]
    },
    {
      "cell_type": "markdown",
      "metadata": {
        "id": "jWlWHjOvOl2R"
      },
      "source": [
        "## Modelo"
      ]
    },
    {
      "cell_type": "code",
      "execution_count": 9,
      "metadata": {
        "ExecuteTime": {
          "end_time": "2017-11-24T15:44:51.419287",
          "start_time": "2017-11-24T15:44:51.415065"
        },
        "id": "8OeUJnUqOl2T"
      },
      "outputs": [],
      "source": [
        "model = torch.nn.Linear(28*28, 10) # 28*28 atributos de entrada e 10 neurônios na sáida"
      ]
    },
    {
      "cell_type": "markdown",
      "metadata": {
        "id": "COKUqRSGOl2d"
      },
      "source": [
        "### Testando um predict com poucas amostras"
      ]
    },
    {
      "cell_type": "code",
      "execution_count": 10,
      "metadata": {
        "colab": {
          "base_uri": "https://localhost:8080/"
        },
        "id": "Rxf7FUZOOl2g",
        "outputId": "8bfa352b-566c-48d1-ec78-344f03d88692"
      },
      "outputs": [
        {
          "output_type": "execute_result",
          "data": {
            "text/plain": [
              "tensor([[-0.1390,  0.0611,  0.2767,  0.0687,  0.0448, -0.0027, -0.0512,  0.1312,\n",
              "          0.5447, -0.0592],\n",
              "        [-0.1513,  0.0738,  0.0033,  0.1381,  0.2961,  0.1769, -0.0059, -0.1088,\n",
              "          0.4194, -0.0315],\n",
              "        [ 0.1715,  0.0285,  0.2478, -0.0670,  0.1009, -0.1110,  0.1401, -0.2204,\n",
              "          0.0321,  0.0903],\n",
              "        [ 0.1270, -0.1861, -0.2448,  0.3368,  0.1379,  0.0387, -0.0950,  0.0028,\n",
              "          0.2435, -0.1163],\n",
              "        [-0.1367, -0.2747,  0.0233,  0.2544,  0.1435, -0.2093, -0.1798,  0.3869,\n",
              "          0.3233,  0.0434]], grad_fn=<AddmmBackward0>)"
            ]
          },
          "metadata": {},
          "execution_count": 10
        }
      ],
      "source": [
        "xin = x_train[:5].view(-1,28*28)\n",
        "score = model(Variable(xin))\n",
        "score"
      ]
    },
    {
      "cell_type": "markdown",
      "metadata": {
        "id": "JsyINWhBOl2m"
      },
      "source": [
        "## Treinamento"
      ]
    },
    {
      "cell_type": "markdown",
      "metadata": {
        "id": "Cj7WB9NzOl2n"
      },
      "source": [
        "### Inicialização dos parâmetros"
      ]
    },
    {
      "cell_type": "code",
      "execution_count": 11,
      "metadata": {
        "ExecuteTime": {
          "end_time": "2017-11-24T15:44:51.425768",
          "start_time": "2017-11-24T15:44:51.420825"
        },
        "id": "xgTvQXGCOl2o"
      },
      "outputs": [],
      "source": [
        "epochs = 100\n",
        "learningRate = 0.5\n",
        "\n",
        "# Utilizaremos CrossEntropyLoss como função de perda\n",
        "criterion = torch.nn.CrossEntropyLoss()\n",
        "\n",
        "# Gradiente descendente\n",
        "optimizer = torch.optim.SGD(model.parameters(), lr=learningRate)"
      ]
    },
    {
      "cell_type": "markdown",
      "metadata": {
        "id": "fK50bgRzOl2z"
      },
      "source": [
        "### Visualização do grafo computacional da perda (loss)"
      ]
    },
    {
      "cell_type": "code",
      "execution_count": 12,
      "metadata": {
        "colab": {
          "base_uri": "https://localhost:8080/"
        },
        "id": "sLuv_VgNENQf",
        "outputId": "3a0c5949-5d3e-44d9-a160-891ca3bcc422"
      },
      "outputs": [
        {
          "output_type": "stream",
          "name": "stdout",
          "text": [
            "Requirement already satisfied: graphviz in /usr/local/lib/python3.10/dist-packages (0.20.3)\n",
            "Collecting git+https://github.com/szagoruyko/pytorchviz\n",
            "  Cloning https://github.com/szagoruyko/pytorchviz to /tmp/pip-req-build-6_hm2s6i\n",
            "  Running command git clone --filter=blob:none --quiet https://github.com/szagoruyko/pytorchviz /tmp/pip-req-build-6_hm2s6i\n",
            "  Resolved https://github.com/szagoruyko/pytorchviz to commit 0adcd83af8aa7ab36d6afd139cabbd9df598edb7\n",
            "  Preparing metadata (setup.py) ... \u001b[?25l\u001b[?25hdone\n",
            "Requirement already satisfied: torch in /usr/local/lib/python3.10/dist-packages (from torchviz==0.0.2) (2.5.1+cu121)\n",
            "Requirement already satisfied: graphviz in /usr/local/lib/python3.10/dist-packages (from torchviz==0.0.2) (0.20.3)\n",
            "Requirement already satisfied: filelock in /usr/local/lib/python3.10/dist-packages (from torch->torchviz==0.0.2) (3.16.1)\n",
            "Requirement already satisfied: typing-extensions>=4.8.0 in /usr/local/lib/python3.10/dist-packages (from torch->torchviz==0.0.2) (4.12.2)\n",
            "Requirement already satisfied: networkx in /usr/local/lib/python3.10/dist-packages (from torch->torchviz==0.0.2) (3.4.2)\n",
            "Requirement already satisfied: jinja2 in /usr/local/lib/python3.10/dist-packages (from torch->torchviz==0.0.2) (3.1.4)\n",
            "Requirement already satisfied: fsspec in /usr/local/lib/python3.10/dist-packages (from torch->torchviz==0.0.2) (2024.10.0)\n",
            "Requirement already satisfied: sympy==1.13.1 in /usr/local/lib/python3.10/dist-packages (from torch->torchviz==0.0.2) (1.13.1)\n",
            "Requirement already satisfied: mpmath<1.4,>=1.1.0 in /usr/local/lib/python3.10/dist-packages (from sympy==1.13.1->torch->torchviz==0.0.2) (1.3.0)\n",
            "Requirement already satisfied: MarkupSafe>=2.0 in /usr/local/lib/python3.10/dist-packages (from jinja2->torch->torchviz==0.0.2) (3.0.2)\n",
            "Building wheels for collected packages: torchviz\n",
            "  Building wheel for torchviz (setup.py) ... \u001b[?25l\u001b[?25hdone\n",
            "  Created wheel for torchviz: filename=torchviz-0.0.2-py3-none-any.whl size=4972 sha256=35b64ca06a7c7a4a229f4155ad01d38eb1ffa98b3a27295eb18f81426ef2a473\n",
            "  Stored in directory: /tmp/pip-ephem-wheel-cache-bj_xfjzk/wheels/44/5a/39/48c1209682afcfc7ad8ae7b3cf7aa0ff08a72e3ac4e5931f1d\n",
            "Successfully built torchviz\n",
            "Installing collected packages: torchviz\n",
            "Successfully installed torchviz-0.0.2\n"
          ]
        }
      ],
      "source": [
        "!pip install graphviz\n",
        "!pip install git+https://github.com/szagoruyko/pytorchviz"
      ]
    },
    {
      "cell_type": "code",
      "execution_count": 13,
      "metadata": {
        "ExecuteTime": {
          "end_time": "2017-11-24T16:28:18.101867",
          "start_time": "2017-11-24T16:28:18.062312"
        },
        "colab": {
          "base_uri": "https://localhost:8080/"
        },
        "id": "icZLveYLOl20",
        "outputId": "160885c1-0841-4ac7-b826-4e7eea93c379"
      },
      "outputs": [
        {
          "output_type": "execute_result",
          "data": {
            "text/plain": [
              "tensor(2.3238, grad_fn=<NllLossBackward0>)"
            ]
          },
          "metadata": {},
          "execution_count": 13
        }
      ],
      "source": [
        "from torchviz import make_dot, make_dot_from_trace\n",
        "y_pred = model(Variable(x_train.view(-1,28*28)))\n",
        "loss = criterion(y_pred, Variable(y_train))\n",
        "loss\n"
      ]
    },
    {
      "cell_type": "code",
      "source": [
        "p = make_dot(loss, dict(model.named_parameters()))\n",
        "p"
      ],
      "metadata": {
        "id": "U15ie_7ni0JE",
        "outputId": "89457f19-1ad1-447e-aa3c-51673f12ffee",
        "colab": {
          "base_uri": "https://localhost:8080/",
          "height": 543
        }
      },
      "execution_count": 14,
      "outputs": [
        {
          "output_type": "execute_result",
          "data": {
            "image/svg+xml": "<?xml version=\"1.0\" encoding=\"UTF-8\" standalone=\"no\"?>\n<!DOCTYPE svg PUBLIC \"-//W3C//DTD SVG 1.1//EN\"\n \"http://www.w3.org/Graphics/SVG/1.1/DTD/svg11.dtd\">\n<!-- Generated by graphviz version 2.43.0 (0)\n -->\n<!-- Title: %3 Pages: 1 -->\n<svg width=\"216pt\" height=\"391pt\"\n viewBox=\"0.00 0.00 216.00 391.00\" xmlns=\"http://www.w3.org/2000/svg\" xmlns:xlink=\"http://www.w3.org/1999/xlink\">\n<g id=\"graph0\" class=\"graph\" transform=\"scale(1 1) rotate(0) translate(4 387)\">\n<title>%3</title>\n<polygon fill=\"white\" stroke=\"transparent\" points=\"-4,4 -4,-387 212,-387 212,4 -4,4\"/>\n<!-- 137022069826128 -->\n<g id=\"node1\" class=\"node\">\n<title>137022069826128</title>\n<polygon fill=\"#caff70\" stroke=\"black\" points=\"130.5,-31 76.5,-31 76.5,0 130.5,0 130.5,-31\"/>\n<text text-anchor=\"middle\" x=\"103.5\" y=\"-7\" font-family=\"monospace\" font-size=\"10.00\"> ()</text>\n</g>\n<!-- 137022115491808 -->\n<g id=\"node2\" class=\"node\">\n<title>137022115491808</title>\n<polygon fill=\"lightgrey\" stroke=\"black\" points=\"160,-86 47,-86 47,-67 160,-67 160,-86\"/>\n<text text-anchor=\"middle\" x=\"103.5\" y=\"-74\" font-family=\"monospace\" font-size=\"10.00\">NllLossBackward0</text>\n</g>\n<!-- 137022115491808&#45;&gt;137022069826128 -->\n<g id=\"edge8\" class=\"edge\">\n<title>137022115491808&#45;&gt;137022069826128</title>\n<path fill=\"none\" stroke=\"black\" d=\"M103.5,-66.79C103.5,-60.07 103.5,-50.4 103.5,-41.34\"/>\n<polygon fill=\"black\" stroke=\"black\" points=\"107,-41.19 103.5,-31.19 100,-41.19 107,-41.19\"/>\n</g>\n<!-- 137022115493920 -->\n<g id=\"node3\" class=\"node\">\n<title>137022115493920</title>\n<polygon fill=\"lightgrey\" stroke=\"black\" points=\"169,-141 38,-141 38,-122 169,-122 169,-141\"/>\n<text text-anchor=\"middle\" x=\"103.5\" y=\"-129\" font-family=\"monospace\" font-size=\"10.00\">LogSoftmaxBackward0</text>\n</g>\n<!-- 137022115493920&#45;&gt;137022115491808 -->\n<g id=\"edge1\" class=\"edge\">\n<title>137022115493920&#45;&gt;137022115491808</title>\n<path fill=\"none\" stroke=\"black\" d=\"M103.5,-121.75C103.5,-114.8 103.5,-104.85 103.5,-96.13\"/>\n<polygon fill=\"black\" stroke=\"black\" points=\"107,-96.09 103.5,-86.09 100,-96.09 107,-96.09\"/>\n</g>\n<!-- 137022115493824 -->\n<g id=\"node4\" class=\"node\">\n<title>137022115493824</title>\n<polygon fill=\"lightgrey\" stroke=\"black\" points=\"154,-196 53,-196 53,-177 154,-177 154,-196\"/>\n<text text-anchor=\"middle\" x=\"103.5\" y=\"-184\" font-family=\"monospace\" font-size=\"10.00\">AddmmBackward0</text>\n</g>\n<!-- 137022115493824&#45;&gt;137022115493920 -->\n<g id=\"edge2\" class=\"edge\">\n<title>137022115493824&#45;&gt;137022115493920</title>\n<path fill=\"none\" stroke=\"black\" d=\"M103.5,-176.75C103.5,-169.8 103.5,-159.85 103.5,-151.13\"/>\n<polygon fill=\"black\" stroke=\"black\" points=\"107,-151.09 103.5,-141.09 100,-151.09 107,-151.09\"/>\n</g>\n<!-- 137022115495504 -->\n<g id=\"node5\" class=\"node\">\n<title>137022115495504</title>\n<polygon fill=\"lightgrey\" stroke=\"black\" points=\"101,-251 0,-251 0,-232 101,-232 101,-251\"/>\n<text text-anchor=\"middle\" x=\"50.5\" y=\"-239\" font-family=\"monospace\" font-size=\"10.00\">AccumulateGrad</text>\n</g>\n<!-- 137022115495504&#45;&gt;137022115493824 -->\n<g id=\"edge3\" class=\"edge\">\n<title>137022115495504&#45;&gt;137022115493824</title>\n<path fill=\"none\" stroke=\"black\" d=\"M59.25,-231.75C66.97,-224.03 78.4,-212.6 87.72,-203.28\"/>\n<polygon fill=\"black\" stroke=\"black\" points=\"90.31,-205.64 94.91,-196.09 85.36,-200.69 90.31,-205.64\"/>\n</g>\n<!-- 137022110626768 -->\n<g id=\"node6\" class=\"node\">\n<title>137022110626768</title>\n<polygon fill=\"lightblue\" stroke=\"black\" points=\"77.5,-317 23.5,-317 23.5,-287 77.5,-287 77.5,-317\"/>\n<text text-anchor=\"middle\" x=\"50.5\" y=\"-305\" font-family=\"monospace\" font-size=\"10.00\">bias</text>\n<text text-anchor=\"middle\" x=\"50.5\" y=\"-294\" font-family=\"monospace\" font-size=\"10.00\"> (10)</text>\n</g>\n<!-- 137022110626768&#45;&gt;137022115495504 -->\n<g id=\"edge4\" class=\"edge\">\n<title>137022110626768&#45;&gt;137022115495504</title>\n<path fill=\"none\" stroke=\"black\" d=\"M50.5,-286.84C50.5,-279.21 50.5,-269.7 50.5,-261.45\"/>\n<polygon fill=\"black\" stroke=\"black\" points=\"54,-261.27 50.5,-251.27 47,-261.27 54,-261.27\"/>\n</g>\n<!-- 137022115495168 -->\n<g id=\"node7\" class=\"node\">\n<title>137022115495168</title>\n<polygon fill=\"lightgrey\" stroke=\"black\" points=\"196,-251 119,-251 119,-232 196,-232 196,-251\"/>\n<text text-anchor=\"middle\" x=\"157.5\" y=\"-239\" font-family=\"monospace\" font-size=\"10.00\">TBackward0</text>\n</g>\n<!-- 137022115495168&#45;&gt;137022115493824 -->\n<g id=\"edge5\" class=\"edge\">\n<title>137022115495168&#45;&gt;137022115493824</title>\n<path fill=\"none\" stroke=\"black\" d=\"M148.58,-231.75C140.72,-224.03 129.07,-212.6 119.58,-203.28\"/>\n<polygon fill=\"black\" stroke=\"black\" points=\"121.84,-200.6 112.25,-196.09 116.94,-205.59 121.84,-200.6\"/>\n</g>\n<!-- 137022115482256 -->\n<g id=\"node8\" class=\"node\">\n<title>137022115482256</title>\n<polygon fill=\"lightgrey\" stroke=\"black\" points=\"208,-311.5 107,-311.5 107,-292.5 208,-292.5 208,-311.5\"/>\n<text text-anchor=\"middle\" x=\"157.5\" y=\"-299.5\" font-family=\"monospace\" font-size=\"10.00\">AccumulateGrad</text>\n</g>\n<!-- 137022115482256&#45;&gt;137022115495168 -->\n<g id=\"edge6\" class=\"edge\">\n<title>137022115482256&#45;&gt;137022115495168</title>\n<path fill=\"none\" stroke=\"black\" d=\"M157.5,-292.37C157.5,-284.25 157.5,-271.81 157.5,-261.39\"/>\n<polygon fill=\"black\" stroke=\"black\" points=\"161,-261.17 157.5,-251.17 154,-261.17 161,-261.17\"/>\n</g>\n<!-- 137022110314272 -->\n<g id=\"node9\" class=\"node\">\n<title>137022110314272</title>\n<polygon fill=\"lightblue\" stroke=\"black\" points=\"196,-383 119,-383 119,-353 196,-353 196,-383\"/>\n<text text-anchor=\"middle\" x=\"157.5\" y=\"-371\" font-family=\"monospace\" font-size=\"10.00\">weight</text>\n<text text-anchor=\"middle\" x=\"157.5\" y=\"-360\" font-family=\"monospace\" font-size=\"10.00\"> (10, 784)</text>\n</g>\n<!-- 137022110314272&#45;&gt;137022115482256 -->\n<g id=\"edge7\" class=\"edge\">\n<title>137022110314272&#45;&gt;137022115482256</title>\n<path fill=\"none\" stroke=\"black\" d=\"M157.5,-352.8C157.5,-343.7 157.5,-331.79 157.5,-321.9\"/>\n<polygon fill=\"black\" stroke=\"black\" points=\"161,-321.84 157.5,-311.84 154,-321.84 161,-321.84\"/>\n</g>\n</g>\n</svg>\n",
            "text/plain": [
              "<graphviz.graphs.Digraph at 0x7c9ef2853e80>"
            ]
          },
          "metadata": {},
          "execution_count": 14
        }
      ]
    },
    {
      "cell_type": "markdown",
      "metadata": {
        "id": "jnUCb6j_Ol23"
      },
      "source": [
        "### Laço de treinamento dos pesos"
      ]
    },
    {
      "cell_type": "code",
      "execution_count": 15,
      "metadata": {
        "ExecuteTime": {
          "end_time": "2017-11-24T15:44:51.678678",
          "start_time": "2017-11-24T15:44:51.427695"
        },
        "id": "g5aavLLTOl24",
        "colab": {
          "base_uri": "https://localhost:8080/",
          "height": 356
        },
        "outputId": "0f10cb3a-4b7c-4910-e1f5-7d323ab2c314"
      },
      "outputs": [
        {
          "output_type": "stream",
          "name": "stdout",
          "text": [
            "Época 100 de 100 => perda: 0.39347, acurária: 0.8944\n"
          ]
        },
        {
          "output_type": "display_data",
          "data": {
            "text/plain": [
              "<Figure size 640x480 with 1 Axes>"
            ],
            "image/svg+xml": "<?xml version=\"1.0\" encoding=\"utf-8\" standalone=\"no\"?>\n<!DOCTYPE svg PUBLIC \"-//W3C//DTD SVG 1.1//EN\"\n  \"http://www.w3.org/Graphics/SVG/1.1/DTD/svg11.dtd\">\n<svg xmlns:xlink=\"http://www.w3.org/1999/xlink\" width=\"391.245pt\" height=\"224.75625pt\" viewBox=\"0 0 391.245 224.75625\" xmlns=\"http://www.w3.org/2000/svg\" version=\"1.1\">\n <metadata>\n  <rdf:RDF xmlns:dc=\"http://purl.org/dc/elements/1.1/\" xmlns:cc=\"http://creativecommons.org/ns#\" xmlns:rdf=\"http://www.w3.org/1999/02/22-rdf-syntax-ns#\">\n   <cc:Work>\n    <dc:type rdf:resource=\"http://purl.org/dc/dcmitype/StillImage\"/>\n    <dc:date>2024-11-20T21:08:46.694191</dc:date>\n    <dc:format>image/svg+xml</dc:format>\n    <dc:creator>\n     <cc:Agent>\n      <dc:title>Matplotlib v3.8.0, https://matplotlib.org/</dc:title>\n     </cc:Agent>\n    </dc:creator>\n   </cc:Work>\n  </rdf:RDF>\n </metadata>\n <defs>\n  <style type=\"text/css\">*{stroke-linejoin: round; stroke-linecap: butt}</style>\n </defs>\n <g id=\"figure_1\">\n  <g id=\"patch_1\">\n   <path d=\"M 0 224.75625 \nL 391.245 224.75625 \nL 391.245 0 \nL 0 0 \nz\n\" style=\"fill: #ffffff\"/>\n  </g>\n  <g id=\"axes_1\">\n   <g id=\"patch_2\">\n    <path d=\"M 26.925 200.878125 \nL 384.045 200.878125 \nL 384.045 22.318125 \nL 26.925 22.318125 \nz\n\" style=\"fill: #ffffff\"/>\n   </g>\n   <g clip-path=\"url(#pee1f9103a7)\">\n    <image xlink:href=\"data:image/png;base64,\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\" id=\"image8c9c124ab4\" transform=\"scale(1 -1) translate(0 -178.56)\" x=\"26.925\" y=\"-22.318125\" width=\"357.12\" height=\"178.56\"/>\n   </g>\n   <g id=\"matplotlib.axis_1\">\n    <g id=\"xtick_1\">\n     <g id=\"line2d_1\">\n      <defs>\n       <path id=\"m10ed3073ec\" d=\"M 0 0 \nL 0 3.5 \n\" style=\"stroke: #000000; stroke-width: 0.8\"/>\n      </defs>\n      <g>\n       <use xlink:href=\"#m10ed3073ec\" x=\"30.113571\" y=\"200.878125\" style=\"stroke: #000000; stroke-width: 0.8\"/>\n      </g>\n     </g>\n     <g id=\"text_1\">\n      <!-- 0 -->\n      <g transform=\"translate(26.932321 215.476562) scale(0.1 -0.1)\">\n       <defs>\n        <path id=\"DejaVuSans-30\" d=\"M 2034 4250 \nQ 1547 4250 1301 3770 \nQ 1056 3291 1056 2328 \nQ 1056 1369 1301 889 \nQ 1547 409 2034 409 \nQ 2525 409 2770 889 \nQ 3016 1369 3016 2328 \nQ 3016 3291 2770 3770 \nQ 2525 4250 2034 4250 \nz\nM 2034 4750 \nQ 2819 4750 3233 4129 \nQ 3647 3509 3647 2328 \nQ 3647 1150 3233 529 \nQ 2819 -91 2034 -91 \nQ 1250 -91 836 529 \nQ 422 1150 422 2328 \nQ 422 3509 836 4129 \nQ 1250 4750 2034 4750 \nz\n\" transform=\"scale(0.015625)\"/>\n       </defs>\n       <use xlink:href=\"#DejaVuSans-30\"/>\n      </g>\n     </g>\n    </g>\n    <g id=\"xtick_2\">\n     <g id=\"line2d_2\">\n      <g>\n       <use xlink:href=\"#m10ed3073ec\" x=\"93.885\" y=\"200.878125\" style=\"stroke: #000000; stroke-width: 0.8\"/>\n      </g>\n     </g>\n     <g id=\"text_2\">\n      <!-- 10 -->\n      <g transform=\"translate(87.5225 215.476562) scale(0.1 -0.1)\">\n       <defs>\n        <path id=\"DejaVuSans-31\" d=\"M 794 531 \nL 1825 531 \nL 1825 4091 \nL 703 3866 \nL 703 4441 \nL 1819 4666 \nL 2450 4666 \nL 2450 531 \nL 3481 531 \nL 3481 0 \nL 794 0 \nL 794 531 \nz\n\" transform=\"scale(0.015625)\"/>\n       </defs>\n       <use xlink:href=\"#DejaVuSans-31\"/>\n       <use xlink:href=\"#DejaVuSans-30\" x=\"63.623047\"/>\n      </g>\n     </g>\n    </g>\n    <g id=\"xtick_3\">\n     <g id=\"line2d_3\">\n      <g>\n       <use xlink:href=\"#m10ed3073ec\" x=\"157.656429\" y=\"200.878125\" style=\"stroke: #000000; stroke-width: 0.8\"/>\n      </g>\n     </g>\n     <g id=\"text_3\">\n      <!-- 20 -->\n      <g transform=\"translate(151.293929 215.476562) scale(0.1 -0.1)\">\n       <defs>\n        <path id=\"DejaVuSans-32\" d=\"M 1228 531 \nL 3431 531 \nL 3431 0 \nL 469 0 \nL 469 531 \nQ 828 903 1448 1529 \nQ 2069 2156 2228 2338 \nQ 2531 2678 2651 2914 \nQ 2772 3150 2772 3378 \nQ 2772 3750 2511 3984 \nQ 2250 4219 1831 4219 \nQ 1534 4219 1204 4116 \nQ 875 4013 500 3803 \nL 500 4441 \nQ 881 4594 1212 4672 \nQ 1544 4750 1819 4750 \nQ 2544 4750 2975 4387 \nQ 3406 4025 3406 3419 \nQ 3406 3131 3298 2873 \nQ 3191 2616 2906 2266 \nQ 2828 2175 2409 1742 \nQ 1991 1309 1228 531 \nz\n\" transform=\"scale(0.015625)\"/>\n       </defs>\n       <use xlink:href=\"#DejaVuSans-32\"/>\n       <use xlink:href=\"#DejaVuSans-30\" x=\"63.623047\"/>\n      </g>\n     </g>\n    </g>\n    <g id=\"xtick_4\">\n     <g id=\"line2d_4\">\n      <g>\n       <use xlink:href=\"#m10ed3073ec\" x=\"221.427857\" y=\"200.878125\" style=\"stroke: #000000; stroke-width: 0.8\"/>\n      </g>\n     </g>\n     <g id=\"text_4\">\n      <!-- 30 -->\n      <g transform=\"translate(215.065357 215.476562) scale(0.1 -0.1)\">\n       <defs>\n        <path id=\"DejaVuSans-33\" d=\"M 2597 2516 \nQ 3050 2419 3304 2112 \nQ 3559 1806 3559 1356 \nQ 3559 666 3084 287 \nQ 2609 -91 1734 -91 \nQ 1441 -91 1130 -33 \nQ 819 25 488 141 \nL 488 750 \nQ 750 597 1062 519 \nQ 1375 441 1716 441 \nQ 2309 441 2620 675 \nQ 2931 909 2931 1356 \nQ 2931 1769 2642 2001 \nQ 2353 2234 1838 2234 \nL 1294 2234 \nL 1294 2753 \nL 1863 2753 \nQ 2328 2753 2575 2939 \nQ 2822 3125 2822 3475 \nQ 2822 3834 2567 4026 \nQ 2313 4219 1838 4219 \nQ 1578 4219 1281 4162 \nQ 984 4106 628 3988 \nL 628 4550 \nQ 988 4650 1302 4700 \nQ 1616 4750 1894 4750 \nQ 2613 4750 3031 4423 \nQ 3450 4097 3450 3541 \nQ 3450 3153 3228 2886 \nQ 3006 2619 2597 2516 \nz\n\" transform=\"scale(0.015625)\"/>\n       </defs>\n       <use xlink:href=\"#DejaVuSans-33\"/>\n       <use xlink:href=\"#DejaVuSans-30\" x=\"63.623047\"/>\n      </g>\n     </g>\n    </g>\n    <g id=\"xtick_5\">\n     <g id=\"line2d_5\">\n      <g>\n       <use xlink:href=\"#m10ed3073ec\" x=\"285.199286\" y=\"200.878125\" style=\"stroke: #000000; stroke-width: 0.8\"/>\n      </g>\n     </g>\n     <g id=\"text_5\">\n      <!-- 40 -->\n      <g transform=\"translate(278.836786 215.476562) scale(0.1 -0.1)\">\n       <defs>\n        <path id=\"DejaVuSans-34\" d=\"M 2419 4116 \nL 825 1625 \nL 2419 1625 \nL 2419 4116 \nz\nM 2253 4666 \nL 3047 4666 \nL 3047 1625 \nL 3713 1625 \nL 3713 1100 \nL 3047 1100 \nL 3047 0 \nL 2419 0 \nL 2419 1100 \nL 313 1100 \nL 313 1709 \nL 2253 4666 \nz\n\" transform=\"scale(0.015625)\"/>\n       </defs>\n       <use xlink:href=\"#DejaVuSans-34\"/>\n       <use xlink:href=\"#DejaVuSans-30\" x=\"63.623047\"/>\n      </g>\n     </g>\n    </g>\n    <g id=\"xtick_6\">\n     <g id=\"line2d_6\">\n      <g>\n       <use xlink:href=\"#m10ed3073ec\" x=\"348.970714\" y=\"200.878125\" style=\"stroke: #000000; stroke-width: 0.8\"/>\n      </g>\n     </g>\n     <g id=\"text_6\">\n      <!-- 50 -->\n      <g transform=\"translate(342.608214 215.476562) scale(0.1 -0.1)\">\n       <defs>\n        <path id=\"DejaVuSans-35\" d=\"M 691 4666 \nL 3169 4666 \nL 3169 4134 \nL 1269 4134 \nL 1269 2991 \nQ 1406 3038 1543 3061 \nQ 1681 3084 1819 3084 \nQ 2600 3084 3056 2656 \nQ 3513 2228 3513 1497 \nQ 3513 744 3044 326 \nQ 2575 -91 1722 -91 \nQ 1428 -91 1123 -41 \nQ 819 9 494 109 \nL 494 744 \nQ 775 591 1075 516 \nQ 1375 441 1709 441 \nQ 2250 441 2565 725 \nQ 2881 1009 2881 1497 \nQ 2881 1984 2565 2268 \nQ 2250 2553 1709 2553 \nQ 1456 2553 1204 2497 \nQ 953 2441 691 2322 \nL 691 4666 \nz\n\" transform=\"scale(0.015625)\"/>\n       </defs>\n       <use xlink:href=\"#DejaVuSans-35\"/>\n       <use xlink:href=\"#DejaVuSans-30\" x=\"63.623047\"/>\n      </g>\n     </g>\n    </g>\n   </g>\n   <g id=\"matplotlib.axis_2\">\n    <g id=\"ytick_1\">\n     <g id=\"line2d_7\">\n      <defs>\n       <path id=\"m9cbff240f4\" d=\"M 0 0 \nL -3.5 0 \n\" style=\"stroke: #000000; stroke-width: 0.8\"/>\n      </defs>\n      <g>\n       <use xlink:href=\"#m9cbff240f4\" x=\"26.925\" y=\"25.506696\" style=\"stroke: #000000; stroke-width: 0.8\"/>\n      </g>\n     </g>\n     <g id=\"text_7\">\n      <!-- 0 -->\n      <g transform=\"translate(13.5625 29.305915) scale(0.1 -0.1)\">\n       <use xlink:href=\"#DejaVuSans-30\"/>\n      </g>\n     </g>\n    </g>\n    <g id=\"ytick_2\">\n     <g id=\"line2d_8\">\n      <g>\n       <use xlink:href=\"#m9cbff240f4\" x=\"26.925\" y=\"57.392411\" style=\"stroke: #000000; stroke-width: 0.8\"/>\n      </g>\n     </g>\n     <g id=\"text_8\">\n      <!-- 5 -->\n      <g transform=\"translate(13.5625 61.191629) scale(0.1 -0.1)\">\n       <use xlink:href=\"#DejaVuSans-35\"/>\n      </g>\n     </g>\n    </g>\n    <g id=\"ytick_3\">\n     <g id=\"line2d_9\">\n      <g>\n       <use xlink:href=\"#m9cbff240f4\" x=\"26.925\" y=\"89.278125\" style=\"stroke: #000000; stroke-width: 0.8\"/>\n      </g>\n     </g>\n     <g id=\"text_9\">\n      <!-- 10 -->\n      <g transform=\"translate(7.2 93.077344) scale(0.1 -0.1)\">\n       <use xlink:href=\"#DejaVuSans-31\"/>\n       <use xlink:href=\"#DejaVuSans-30\" x=\"63.623047\"/>\n      </g>\n     </g>\n    </g>\n    <g id=\"ytick_4\">\n     <g id=\"line2d_10\">\n      <g>\n       <use xlink:href=\"#m9cbff240f4\" x=\"26.925\" y=\"121.163839\" style=\"stroke: #000000; stroke-width: 0.8\"/>\n      </g>\n     </g>\n     <g id=\"text_10\">\n      <!-- 15 -->\n      <g transform=\"translate(7.2 124.963058) scale(0.1 -0.1)\">\n       <use xlink:href=\"#DejaVuSans-31\"/>\n       <use xlink:href=\"#DejaVuSans-35\" x=\"63.623047\"/>\n      </g>\n     </g>\n    </g>\n    <g id=\"ytick_5\">\n     <g id=\"line2d_11\">\n      <g>\n       <use xlink:href=\"#m9cbff240f4\" x=\"26.925\" y=\"153.049554\" style=\"stroke: #000000; stroke-width: 0.8\"/>\n      </g>\n     </g>\n     <g id=\"text_11\">\n      <!-- 20 -->\n      <g transform=\"translate(7.2 156.848772) scale(0.1 -0.1)\">\n       <use xlink:href=\"#DejaVuSans-32\"/>\n       <use xlink:href=\"#DejaVuSans-30\" x=\"63.623047\"/>\n      </g>\n     </g>\n    </g>\n    <g id=\"ytick_6\">\n     <g id=\"line2d_12\">\n      <g>\n       <use xlink:href=\"#m9cbff240f4\" x=\"26.925\" y=\"184.935268\" style=\"stroke: #000000; stroke-width: 0.8\"/>\n      </g>\n     </g>\n     <g id=\"text_12\">\n      <!-- 25 -->\n      <g transform=\"translate(7.2 188.734487) scale(0.1 -0.1)\">\n       <use xlink:href=\"#DejaVuSans-32\"/>\n       <use xlink:href=\"#DejaVuSans-35\" x=\"63.623047\"/>\n      </g>\n     </g>\n    </g>\n   </g>\n   <g id=\"patch_3\">\n    <path d=\"M 26.925 200.878125 \nL 26.925 22.318125 \n\" style=\"fill: none; stroke: #000000; stroke-width: 0.8; stroke-linejoin: miter; stroke-linecap: square\"/>\n   </g>\n   <g id=\"patch_4\">\n    <path d=\"M 384.045 200.878125 \nL 384.045 22.318125 \n\" style=\"fill: none; stroke: #000000; stroke-width: 0.8; stroke-linejoin: miter; stroke-linecap: square\"/>\n   </g>\n   <g id=\"patch_5\">\n    <path d=\"M 26.925 200.878125 \nL 384.045 200.878125 \n\" style=\"fill: none; stroke: #000000; stroke-width: 0.8; stroke-linejoin: miter; stroke-linecap: square\"/>\n   </g>\n   <g id=\"patch_6\">\n    <path d=\"M 26.925 22.318125 \nL 384.045 22.318125 \n\" style=\"fill: none; stroke: #000000; stroke-width: 0.8; stroke-linejoin: miter; stroke-linecap: square\"/>\n   </g>\n   <g id=\"text_13\">\n    <!-- Pesos e gradientes da classe 4 -->\n    <g transform=\"translate(113.262188 16.318125) scale(0.12 -0.12)\">\n     <defs>\n      <path id=\"DejaVuSans-50\" d=\"M 1259 4147 \nL 1259 2394 \nL 2053 2394 \nQ 2494 2394 2734 2622 \nQ 2975 2850 2975 3272 \nQ 2975 3691 2734 3919 \nQ 2494 4147 2053 4147 \nL 1259 4147 \nz\nM 628 4666 \nL 2053 4666 \nQ 2838 4666 3239 4311 \nQ 3641 3956 3641 3272 \nQ 3641 2581 3239 2228 \nQ 2838 1875 2053 1875 \nL 1259 1875 \nL 1259 0 \nL 628 0 \nL 628 4666 \nz\n\" transform=\"scale(0.015625)\"/>\n      <path id=\"DejaVuSans-65\" d=\"M 3597 1894 \nL 3597 1613 \nL 953 1613 \nQ 991 1019 1311 708 \nQ 1631 397 2203 397 \nQ 2534 397 2845 478 \nQ 3156 559 3463 722 \nL 3463 178 \nQ 3153 47 2828 -22 \nQ 2503 -91 2169 -91 \nQ 1331 -91 842 396 \nQ 353 884 353 1716 \nQ 353 2575 817 3079 \nQ 1281 3584 2069 3584 \nQ 2775 3584 3186 3129 \nQ 3597 2675 3597 1894 \nz\nM 3022 2063 \nQ 3016 2534 2758 2815 \nQ 2500 3097 2075 3097 \nQ 1594 3097 1305 2825 \nQ 1016 2553 972 2059 \nL 3022 2063 \nz\n\" transform=\"scale(0.015625)\"/>\n      <path id=\"DejaVuSans-73\" d=\"M 2834 3397 \nL 2834 2853 \nQ 2591 2978 2328 3040 \nQ 2066 3103 1784 3103 \nQ 1356 3103 1142 2972 \nQ 928 2841 928 2578 \nQ 928 2378 1081 2264 \nQ 1234 2150 1697 2047 \nL 1894 2003 \nQ 2506 1872 2764 1633 \nQ 3022 1394 3022 966 \nQ 3022 478 2636 193 \nQ 2250 -91 1575 -91 \nQ 1294 -91 989 -36 \nQ 684 19 347 128 \nL 347 722 \nQ 666 556 975 473 \nQ 1284 391 1588 391 \nQ 1994 391 2212 530 \nQ 2431 669 2431 922 \nQ 2431 1156 2273 1281 \nQ 2116 1406 1581 1522 \nL 1381 1569 \nQ 847 1681 609 1914 \nQ 372 2147 372 2553 \nQ 372 3047 722 3315 \nQ 1072 3584 1716 3584 \nQ 2034 3584 2315 3537 \nQ 2597 3491 2834 3397 \nz\n\" transform=\"scale(0.015625)\"/>\n      <path id=\"DejaVuSans-6f\" d=\"M 1959 3097 \nQ 1497 3097 1228 2736 \nQ 959 2375 959 1747 \nQ 959 1119 1226 758 \nQ 1494 397 1959 397 \nQ 2419 397 2687 759 \nQ 2956 1122 2956 1747 \nQ 2956 2369 2687 2733 \nQ 2419 3097 1959 3097 \nz\nM 1959 3584 \nQ 2709 3584 3137 3096 \nQ 3566 2609 3566 1747 \nQ 3566 888 3137 398 \nQ 2709 -91 1959 -91 \nQ 1206 -91 779 398 \nQ 353 888 353 1747 \nQ 353 2609 779 3096 \nQ 1206 3584 1959 3584 \nz\n\" transform=\"scale(0.015625)\"/>\n      <path id=\"DejaVuSans-20\" transform=\"scale(0.015625)\"/>\n      <path id=\"DejaVuSans-67\" d=\"M 2906 1791 \nQ 2906 2416 2648 2759 \nQ 2391 3103 1925 3103 \nQ 1463 3103 1205 2759 \nQ 947 2416 947 1791 \nQ 947 1169 1205 825 \nQ 1463 481 1925 481 \nQ 2391 481 2648 825 \nQ 2906 1169 2906 1791 \nz\nM 3481 434 \nQ 3481 -459 3084 -895 \nQ 2688 -1331 1869 -1331 \nQ 1566 -1331 1297 -1286 \nQ 1028 -1241 775 -1147 \nL 775 -588 \nQ 1028 -725 1275 -790 \nQ 1522 -856 1778 -856 \nQ 2344 -856 2625 -561 \nQ 2906 -266 2906 331 \nL 2906 616 \nQ 2728 306 2450 153 \nQ 2172 0 1784 0 \nQ 1141 0 747 490 \nQ 353 981 353 1791 \nQ 353 2603 747 3093 \nQ 1141 3584 1784 3584 \nQ 2172 3584 2450 3431 \nQ 2728 3278 2906 2969 \nL 2906 3500 \nL 3481 3500 \nL 3481 434 \nz\n\" transform=\"scale(0.015625)\"/>\n      <path id=\"DejaVuSans-72\" d=\"M 2631 2963 \nQ 2534 3019 2420 3045 \nQ 2306 3072 2169 3072 \nQ 1681 3072 1420 2755 \nQ 1159 2438 1159 1844 \nL 1159 0 \nL 581 0 \nL 581 3500 \nL 1159 3500 \nL 1159 2956 \nQ 1341 3275 1631 3429 \nQ 1922 3584 2338 3584 \nQ 2397 3584 2469 3576 \nQ 2541 3569 2628 3553 \nL 2631 2963 \nz\n\" transform=\"scale(0.015625)\"/>\n      <path id=\"DejaVuSans-61\" d=\"M 2194 1759 \nQ 1497 1759 1228 1600 \nQ 959 1441 959 1056 \nQ 959 750 1161 570 \nQ 1363 391 1709 391 \nQ 2188 391 2477 730 \nQ 2766 1069 2766 1631 \nL 2766 1759 \nL 2194 1759 \nz\nM 3341 1997 \nL 3341 0 \nL 2766 0 \nL 2766 531 \nQ 2569 213 2275 61 \nQ 1981 -91 1556 -91 \nQ 1019 -91 701 211 \nQ 384 513 384 1019 \nQ 384 1609 779 1909 \nQ 1175 2209 1959 2209 \nL 2766 2209 \nL 2766 2266 \nQ 2766 2663 2505 2880 \nQ 2244 3097 1772 3097 \nQ 1472 3097 1187 3025 \nQ 903 2953 641 2809 \nL 641 3341 \nQ 956 3463 1253 3523 \nQ 1550 3584 1831 3584 \nQ 2591 3584 2966 3190 \nQ 3341 2797 3341 1997 \nz\n\" transform=\"scale(0.015625)\"/>\n      <path id=\"DejaVuSans-64\" d=\"M 2906 2969 \nL 2906 4863 \nL 3481 4863 \nL 3481 0 \nL 2906 0 \nL 2906 525 \nQ 2725 213 2448 61 \nQ 2172 -91 1784 -91 \nQ 1150 -91 751 415 \nQ 353 922 353 1747 \nQ 353 2572 751 3078 \nQ 1150 3584 1784 3584 \nQ 2172 3584 2448 3432 \nQ 2725 3281 2906 2969 \nz\nM 947 1747 \nQ 947 1113 1208 752 \nQ 1469 391 1925 391 \nQ 2381 391 2643 752 \nQ 2906 1113 2906 1747 \nQ 2906 2381 2643 2742 \nQ 2381 3103 1925 3103 \nQ 1469 3103 1208 2742 \nQ 947 2381 947 1747 \nz\n\" transform=\"scale(0.015625)\"/>\n      <path id=\"DejaVuSans-69\" d=\"M 603 3500 \nL 1178 3500 \nL 1178 0 \nL 603 0 \nL 603 3500 \nz\nM 603 4863 \nL 1178 4863 \nL 1178 4134 \nL 603 4134 \nL 603 4863 \nz\n\" transform=\"scale(0.015625)\"/>\n      <path id=\"DejaVuSans-6e\" d=\"M 3513 2113 \nL 3513 0 \nL 2938 0 \nL 2938 2094 \nQ 2938 2591 2744 2837 \nQ 2550 3084 2163 3084 \nQ 1697 3084 1428 2787 \nQ 1159 2491 1159 1978 \nL 1159 0 \nL 581 0 \nL 581 3500 \nL 1159 3500 \nL 1159 2956 \nQ 1366 3272 1645 3428 \nQ 1925 3584 2291 3584 \nQ 2894 3584 3203 3211 \nQ 3513 2838 3513 2113 \nz\n\" transform=\"scale(0.015625)\"/>\n      <path id=\"DejaVuSans-74\" d=\"M 1172 4494 \nL 1172 3500 \nL 2356 3500 \nL 2356 3053 \nL 1172 3053 \nL 1172 1153 \nQ 1172 725 1289 603 \nQ 1406 481 1766 481 \nL 2356 481 \nL 2356 0 \nL 1766 0 \nQ 1100 0 847 248 \nQ 594 497 594 1153 \nL 594 3053 \nL 172 3053 \nL 172 3500 \nL 594 3500 \nL 594 4494 \nL 1172 4494 \nz\n\" transform=\"scale(0.015625)\"/>\n      <path id=\"DejaVuSans-63\" d=\"M 3122 3366 \nL 3122 2828 \nQ 2878 2963 2633 3030 \nQ 2388 3097 2138 3097 \nQ 1578 3097 1268 2742 \nQ 959 2388 959 1747 \nQ 959 1106 1268 751 \nQ 1578 397 2138 397 \nQ 2388 397 2633 464 \nQ 2878 531 3122 666 \nL 3122 134 \nQ 2881 22 2623 -34 \nQ 2366 -91 2075 -91 \nQ 1284 -91 818 406 \nQ 353 903 353 1747 \nQ 353 2603 823 3093 \nQ 1294 3584 2113 3584 \nQ 2378 3584 2631 3529 \nQ 2884 3475 3122 3366 \nz\n\" transform=\"scale(0.015625)\"/>\n      <path id=\"DejaVuSans-6c\" d=\"M 603 4863 \nL 1178 4863 \nL 1178 0 \nL 603 0 \nL 603 4863 \nz\n\" transform=\"scale(0.015625)\"/>\n     </defs>\n     <use xlink:href=\"#DejaVuSans-50\"/>\n     <use xlink:href=\"#DejaVuSans-65\" x=\"56.677734\"/>\n     <use xlink:href=\"#DejaVuSans-73\" x=\"118.201172\"/>\n     <use xlink:href=\"#DejaVuSans-6f\" x=\"170.300781\"/>\n     <use xlink:href=\"#DejaVuSans-73\" x=\"231.482422\"/>\n     <use xlink:href=\"#DejaVuSans-20\" x=\"283.582031\"/>\n     <use xlink:href=\"#DejaVuSans-65\" x=\"315.369141\"/>\n     <use xlink:href=\"#DejaVuSans-20\" x=\"376.892578\"/>\n     <use xlink:href=\"#DejaVuSans-67\" x=\"408.679688\"/>\n     <use xlink:href=\"#DejaVuSans-72\" x=\"472.15625\"/>\n     <use xlink:href=\"#DejaVuSans-61\" x=\"513.269531\"/>\n     <use xlink:href=\"#DejaVuSans-64\" x=\"574.548828\"/>\n     <use xlink:href=\"#DejaVuSans-69\" x=\"638.025391\"/>\n     <use xlink:href=\"#DejaVuSans-65\" x=\"665.808594\"/>\n     <use xlink:href=\"#DejaVuSans-6e\" x=\"727.332031\"/>\n     <use xlink:href=\"#DejaVuSans-74\" x=\"790.710938\"/>\n     <use xlink:href=\"#DejaVuSans-65\" x=\"829.919922\"/>\n     <use xlink:href=\"#DejaVuSans-73\" x=\"891.443359\"/>\n     <use xlink:href=\"#DejaVuSans-20\" x=\"943.542969\"/>\n     <use xlink:href=\"#DejaVuSans-64\" x=\"975.330078\"/>\n     <use xlink:href=\"#DejaVuSans-61\" x=\"1038.806641\"/>\n     <use xlink:href=\"#DejaVuSans-20\" x=\"1100.085938\"/>\n     <use xlink:href=\"#DejaVuSans-63\" x=\"1131.873047\"/>\n     <use xlink:href=\"#DejaVuSans-6c\" x=\"1186.853516\"/>\n     <use xlink:href=\"#DejaVuSans-61\" x=\"1214.636719\"/>\n     <use xlink:href=\"#DejaVuSans-73\" x=\"1275.916016\"/>\n     <use xlink:href=\"#DejaVuSans-73\" x=\"1328.015625\"/>\n     <use xlink:href=\"#DejaVuSans-65\" x=\"1380.115234\"/>\n     <use xlink:href=\"#DejaVuSans-20\" x=\"1441.638672\"/>\n     <use xlink:href=\"#DejaVuSans-34\" x=\"1473.425781\"/>\n    </g>\n   </g>\n  </g>\n </g>\n <defs>\n  <clipPath id=\"pee1f9103a7\">\n   <rect x=\"26.925\" y=\"22.318125\" width=\"357.12\" height=\"178.56\"/>\n  </clipPath>\n </defs>\n</svg>\n"
          },
          "metadata": {}
        },
        {
          "output_type": "stream",
          "name": "stdout",
          "text": [
            "Tempo de treinamento: 47.58 segundos\n"
          ]
        }
      ],
      "source": [
        "import numpy\n",
        "import time\n",
        "from IPython import display\n",
        "\n",
        "losses = []\n",
        "zs = []\n",
        "\n",
        "start = time.time()\n",
        "\n",
        "for i in range(epochs):\n",
        "    # Transforma a entrada para uma dimensão\n",
        "    inputs = Variable(x_train.view(-1, 28 * 28))\n",
        "    # Predict da rede\n",
        "    outputs = model(inputs)\n",
        "\n",
        "    # z0 a z9\n",
        "    zs.append(outputs[1].detach().numpy())\n",
        "\n",
        "    # calcula a perda\n",
        "    loss = criterion(outputs, Variable(y_train))\n",
        "\n",
        "    # zero, backpropagation, ajusta parâmetros pelo gradiente descendente\n",
        "    optimizer.zero_grad()\n",
        "    loss.backward()\n",
        "    optimizer.step()\n",
        "\n",
        "    losses.append(loss.item())\n",
        "\n",
        "    _, predicts = torch.max(outputs, 1)\n",
        "\n",
        "    y_pred = predicts.data\n",
        "    accuracy = (y_pred.numpy() == y_train.numpy()).mean()\n",
        "\n",
        "    display.clear_output(wait=True)\n",
        "\n",
        "    ## Exercício 1\n",
        "    print(f'Época {i+1} de {epochs} => perda: {loss.data:.5f}, acurária: {accuracy:.4f}')\n",
        "\n",
        "    ## Exercício 2: Visualizando pesos da classe 4\n",
        "    weights = model.weight[4].data.numpy().reshape(28,28)\n",
        "    grad = model.weight.grad[4].data.numpy().reshape(28,28)\n",
        "    img = np.concatenate((weights, grad), 1)\n",
        "\n",
        "    plt.imshow(img, cmap = 'gray')\n",
        "    plt.title('Pesos e gradientes da classe 4')\n",
        "    plt.show()\n",
        "\n",
        "stop = time.time()\n",
        "print(f'Tempo de treinamento: {stop - start:.2f} segundos')"
      ]
    },
    {
      "cell_type": "code",
      "execution_count": 16,
      "metadata": {
        "ExecuteTime": {
          "end_time": "2017-11-24T15:44:51.685301",
          "start_time": "2017-11-24T15:44:51.680419"
        },
        "colab": {
          "base_uri": "https://localhost:8080/"
        },
        "id": "menkKvteOl27",
        "outputId": "e21882c6-6167-456e-989a-0164c7795986"
      },
      "outputs": [
        {
          "output_type": "stream",
          "name": "stdout",
          "text": [
            "Final loss: 0.3934658467769623\n"
          ]
        }
      ],
      "source": [
        "print('Final loss:', loss.item())"
      ]
    },
    {
      "cell_type": "markdown",
      "metadata": {
        "id": "j1pLKxlqOl3F"
      },
      "source": [
        "### Visualizando gráfico de perda durante o treinamento"
      ]
    },
    {
      "cell_type": "code",
      "execution_count": 17,
      "metadata": {
        "ExecuteTime": {
          "end_time": "2017-11-24T15:44:56.787741",
          "start_time": "2017-11-24T15:44:56.627754"
        },
        "colab": {
          "base_uri": "https://localhost:8080/",
          "height": 436
        },
        "id": "UlivLNgcOl3G",
        "outputId": "dbab15c1-45d8-45af-c8a1-e39728e20000"
      },
      "outputs": [
        {
          "output_type": "display_data",
          "data": {
            "text/plain": [
              "<Figure size 640x480 with 1 Axes>"
            ],
            "image/svg+xml": "<?xml version=\"1.0\" encoding=\"utf-8\" standalone=\"no\"?>\n<!DOCTYPE svg PUBLIC \"-//W3C//DTD SVG 1.1//EN\"\n  \"http://www.w3.org/Graphics/SVG/1.1/DTD/svg11.dtd\">\n<svg xmlns:xlink=\"http://www.w3.org/1999/xlink\" width=\"414.46375pt\" height=\"310.86825pt\" viewBox=\"0 0 414.46375 310.86825\" xmlns=\"http://www.w3.org/2000/svg\" version=\"1.1\">\n <metadata>\n  <rdf:RDF xmlns:dc=\"http://purl.org/dc/elements/1.1/\" xmlns:cc=\"http://creativecommons.org/ns#\" xmlns:rdf=\"http://www.w3.org/1999/02/22-rdf-syntax-ns#\">\n   <cc:Work>\n    <dc:type rdf:resource=\"http://purl.org/dc/dcmitype/StillImage\"/>\n    <dc:date>2024-11-20T21:08:46.941337</dc:date>\n    <dc:format>image/svg+xml</dc:format>\n    <dc:creator>\n     <cc:Agent>\n      <dc:title>Matplotlib v3.8.0, https://matplotlib.org/</dc:title>\n     </cc:Agent>\n    </dc:creator>\n   </cc:Work>\n  </rdf:RDF>\n </metadata>\n <defs>\n  <style type=\"text/css\">*{stroke-linejoin: round; stroke-linecap: butt}</style>\n </defs>\n <g id=\"figure_1\">\n  <g id=\"patch_1\">\n   <path d=\"M 0 310.86825 \nL 414.46375 310.86825 \nL 414.46375 0 \nL 0 0 \nz\n\" style=\"fill: #ffffff\"/>\n  </g>\n  <g id=\"axes_1\">\n   <g id=\"patch_2\">\n    <path d=\"M 50.14375 273.312 \nL 407.26375 273.312 \nL 407.26375 7.2 \nL 50.14375 7.2 \nz\n\" style=\"fill: #ffffff\"/>\n   </g>\n   <g id=\"matplotlib.axis_1\">\n    <g id=\"xtick_1\">\n     <g id=\"line2d_1\">\n      <defs>\n       <path id=\"mbf1b6b3499\" d=\"M 0 0 \nL 0 3.5 \n\" style=\"stroke: #000000; stroke-width: 0.8\"/>\n      </defs>\n      <g>\n       <use xlink:href=\"#mbf1b6b3499\" x=\"66.376477\" y=\"273.312\" style=\"stroke: #000000; stroke-width: 0.8\"/>\n      </g>\n     </g>\n     <g id=\"text_1\">\n      <!-- 0 -->\n      <g transform=\"translate(63.195227 287.910437) scale(0.1 -0.1)\">\n       <defs>\n        <path id=\"DejaVuSans-30\" d=\"M 2034 4250 \nQ 1547 4250 1301 3770 \nQ 1056 3291 1056 2328 \nQ 1056 1369 1301 889 \nQ 1547 409 2034 409 \nQ 2525 409 2770 889 \nQ 3016 1369 3016 2328 \nQ 3016 3291 2770 3770 \nQ 2525 4250 2034 4250 \nz\nM 2034 4750 \nQ 2819 4750 3233 4129 \nQ 3647 3509 3647 2328 \nQ 3647 1150 3233 529 \nQ 2819 -91 2034 -91 \nQ 1250 -91 836 529 \nQ 422 1150 422 2328 \nQ 422 3509 836 4129 \nQ 1250 4750 2034 4750 \nz\n\" transform=\"scale(0.015625)\"/>\n       </defs>\n       <use xlink:href=\"#DejaVuSans-30\"/>\n      </g>\n     </g>\n    </g>\n    <g id=\"xtick_2\">\n     <g id=\"line2d_2\">\n      <g>\n       <use xlink:href=\"#mbf1b6b3499\" x=\"131.963254\" y=\"273.312\" style=\"stroke: #000000; stroke-width: 0.8\"/>\n      </g>\n     </g>\n     <g id=\"text_2\">\n      <!-- 20 -->\n      <g transform=\"translate(125.600754 287.910437) scale(0.1 -0.1)\">\n       <defs>\n        <path id=\"DejaVuSans-32\" d=\"M 1228 531 \nL 3431 531 \nL 3431 0 \nL 469 0 \nL 469 531 \nQ 828 903 1448 1529 \nQ 2069 2156 2228 2338 \nQ 2531 2678 2651 2914 \nQ 2772 3150 2772 3378 \nQ 2772 3750 2511 3984 \nQ 2250 4219 1831 4219 \nQ 1534 4219 1204 4116 \nQ 875 4013 500 3803 \nL 500 4441 \nQ 881 4594 1212 4672 \nQ 1544 4750 1819 4750 \nQ 2544 4750 2975 4387 \nQ 3406 4025 3406 3419 \nQ 3406 3131 3298 2873 \nQ 3191 2616 2906 2266 \nQ 2828 2175 2409 1742 \nQ 1991 1309 1228 531 \nz\n\" transform=\"scale(0.015625)\"/>\n       </defs>\n       <use xlink:href=\"#DejaVuSans-32\"/>\n       <use xlink:href=\"#DejaVuSans-30\" x=\"63.623047\"/>\n      </g>\n     </g>\n    </g>\n    <g id=\"xtick_3\">\n     <g id=\"line2d_3\">\n      <g>\n       <use xlink:href=\"#mbf1b6b3499\" x=\"197.550031\" y=\"273.312\" style=\"stroke: #000000; stroke-width: 0.8\"/>\n      </g>\n     </g>\n     <g id=\"text_3\">\n      <!-- 40 -->\n      <g transform=\"translate(191.187531 287.910437) scale(0.1 -0.1)\">\n       <defs>\n        <path id=\"DejaVuSans-34\" d=\"M 2419 4116 \nL 825 1625 \nL 2419 1625 \nL 2419 4116 \nz\nM 2253 4666 \nL 3047 4666 \nL 3047 1625 \nL 3713 1625 \nL 3713 1100 \nL 3047 1100 \nL 3047 0 \nL 2419 0 \nL 2419 1100 \nL 313 1100 \nL 313 1709 \nL 2253 4666 \nz\n\" transform=\"scale(0.015625)\"/>\n       </defs>\n       <use xlink:href=\"#DejaVuSans-34\"/>\n       <use xlink:href=\"#DejaVuSans-30\" x=\"63.623047\"/>\n      </g>\n     </g>\n    </g>\n    <g id=\"xtick_4\">\n     <g id=\"line2d_4\">\n      <g>\n       <use xlink:href=\"#mbf1b6b3499\" x=\"263.136808\" y=\"273.312\" style=\"stroke: #000000; stroke-width: 0.8\"/>\n      </g>\n     </g>\n     <g id=\"text_4\">\n      <!-- 60 -->\n      <g transform=\"translate(256.774308 287.910437) scale(0.1 -0.1)\">\n       <defs>\n        <path id=\"DejaVuSans-36\" d=\"M 2113 2584 \nQ 1688 2584 1439 2293 \nQ 1191 2003 1191 1497 \nQ 1191 994 1439 701 \nQ 1688 409 2113 409 \nQ 2538 409 2786 701 \nQ 3034 994 3034 1497 \nQ 3034 2003 2786 2293 \nQ 2538 2584 2113 2584 \nz\nM 3366 4563 \nL 3366 3988 \nQ 3128 4100 2886 4159 \nQ 2644 4219 2406 4219 \nQ 1781 4219 1451 3797 \nQ 1122 3375 1075 2522 \nQ 1259 2794 1537 2939 \nQ 1816 3084 2150 3084 \nQ 2853 3084 3261 2657 \nQ 3669 2231 3669 1497 \nQ 3669 778 3244 343 \nQ 2819 -91 2113 -91 \nQ 1303 -91 875 529 \nQ 447 1150 447 2328 \nQ 447 3434 972 4092 \nQ 1497 4750 2381 4750 \nQ 2619 4750 2861 4703 \nQ 3103 4656 3366 4563 \nz\n\" transform=\"scale(0.015625)\"/>\n       </defs>\n       <use xlink:href=\"#DejaVuSans-36\"/>\n       <use xlink:href=\"#DejaVuSans-30\" x=\"63.623047\"/>\n      </g>\n     </g>\n    </g>\n    <g id=\"xtick_5\">\n     <g id=\"line2d_5\">\n      <g>\n       <use xlink:href=\"#mbf1b6b3499\" x=\"328.723585\" y=\"273.312\" style=\"stroke: #000000; stroke-width: 0.8\"/>\n      </g>\n     </g>\n     <g id=\"text_5\">\n      <!-- 80 -->\n      <g transform=\"translate(322.361085 287.910437) scale(0.1 -0.1)\">\n       <defs>\n        <path id=\"DejaVuSans-38\" d=\"M 2034 2216 \nQ 1584 2216 1326 1975 \nQ 1069 1734 1069 1313 \nQ 1069 891 1326 650 \nQ 1584 409 2034 409 \nQ 2484 409 2743 651 \nQ 3003 894 3003 1313 \nQ 3003 1734 2745 1975 \nQ 2488 2216 2034 2216 \nz\nM 1403 2484 \nQ 997 2584 770 2862 \nQ 544 3141 544 3541 \nQ 544 4100 942 4425 \nQ 1341 4750 2034 4750 \nQ 2731 4750 3128 4425 \nQ 3525 4100 3525 3541 \nQ 3525 3141 3298 2862 \nQ 3072 2584 2669 2484 \nQ 3125 2378 3379 2068 \nQ 3634 1759 3634 1313 \nQ 3634 634 3220 271 \nQ 2806 -91 2034 -91 \nQ 1263 -91 848 271 \nQ 434 634 434 1313 \nQ 434 1759 690 2068 \nQ 947 2378 1403 2484 \nz\nM 1172 3481 \nQ 1172 3119 1398 2916 \nQ 1625 2713 2034 2713 \nQ 2441 2713 2670 2916 \nQ 2900 3119 2900 3481 \nQ 2900 3844 2670 4047 \nQ 2441 4250 2034 4250 \nQ 1625 4250 1398 4047 \nQ 1172 3844 1172 3481 \nz\n\" transform=\"scale(0.015625)\"/>\n       </defs>\n       <use xlink:href=\"#DejaVuSans-38\"/>\n       <use xlink:href=\"#DejaVuSans-30\" x=\"63.623047\"/>\n      </g>\n     </g>\n    </g>\n    <g id=\"xtick_6\">\n     <g id=\"line2d_6\">\n      <g>\n       <use xlink:href=\"#mbf1b6b3499\" x=\"394.310362\" y=\"273.312\" style=\"stroke: #000000; stroke-width: 0.8\"/>\n      </g>\n     </g>\n     <g id=\"text_6\">\n      <!-- 100 -->\n      <g transform=\"translate(384.766612 287.910437) scale(0.1 -0.1)\">\n       <defs>\n        <path id=\"DejaVuSans-31\" d=\"M 794 531 \nL 1825 531 \nL 1825 4091 \nL 703 3866 \nL 703 4441 \nL 1819 4666 \nL 2450 4666 \nL 2450 531 \nL 3481 531 \nL 3481 0 \nL 794 0 \nL 794 531 \nz\n\" transform=\"scale(0.015625)\"/>\n       </defs>\n       <use xlink:href=\"#DejaVuSans-31\"/>\n       <use xlink:href=\"#DejaVuSans-30\" x=\"63.623047\"/>\n       <use xlink:href=\"#DejaVuSans-30\" x=\"127.246094\"/>\n      </g>\n     </g>\n    </g>\n    <g id=\"text_7\">\n     <!-- epoch -->\n     <g transform=\"translate(213.475625 301.588562) scale(0.1 -0.1)\">\n      <defs>\n       <path id=\"DejaVuSans-65\" d=\"M 3597 1894 \nL 3597 1613 \nL 953 1613 \nQ 991 1019 1311 708 \nQ 1631 397 2203 397 \nQ 2534 397 2845 478 \nQ 3156 559 3463 722 \nL 3463 178 \nQ 3153 47 2828 -22 \nQ 2503 -91 2169 -91 \nQ 1331 -91 842 396 \nQ 353 884 353 1716 \nQ 353 2575 817 3079 \nQ 1281 3584 2069 3584 \nQ 2775 3584 3186 3129 \nQ 3597 2675 3597 1894 \nz\nM 3022 2063 \nQ 3016 2534 2758 2815 \nQ 2500 3097 2075 3097 \nQ 1594 3097 1305 2825 \nQ 1016 2553 972 2059 \nL 3022 2063 \nz\n\" transform=\"scale(0.015625)\"/>\n       <path id=\"DejaVuSans-70\" d=\"M 1159 525 \nL 1159 -1331 \nL 581 -1331 \nL 581 3500 \nL 1159 3500 \nL 1159 2969 \nQ 1341 3281 1617 3432 \nQ 1894 3584 2278 3584 \nQ 2916 3584 3314 3078 \nQ 3713 2572 3713 1747 \nQ 3713 922 3314 415 \nQ 2916 -91 2278 -91 \nQ 1894 -91 1617 61 \nQ 1341 213 1159 525 \nz\nM 3116 1747 \nQ 3116 2381 2855 2742 \nQ 2594 3103 2138 3103 \nQ 1681 3103 1420 2742 \nQ 1159 2381 1159 1747 \nQ 1159 1113 1420 752 \nQ 1681 391 2138 391 \nQ 2594 391 2855 752 \nQ 3116 1113 3116 1747 \nz\n\" transform=\"scale(0.015625)\"/>\n       <path id=\"DejaVuSans-6f\" d=\"M 1959 3097 \nQ 1497 3097 1228 2736 \nQ 959 2375 959 1747 \nQ 959 1119 1226 758 \nQ 1494 397 1959 397 \nQ 2419 397 2687 759 \nQ 2956 1122 2956 1747 \nQ 2956 2369 2687 2733 \nQ 2419 3097 1959 3097 \nz\nM 1959 3584 \nQ 2709 3584 3137 3096 \nQ 3566 2609 3566 1747 \nQ 3566 888 3137 398 \nQ 2709 -91 1959 -91 \nQ 1206 -91 779 398 \nQ 353 888 353 1747 \nQ 353 2609 779 3096 \nQ 1206 3584 1959 3584 \nz\n\" transform=\"scale(0.015625)\"/>\n       <path id=\"DejaVuSans-63\" d=\"M 3122 3366 \nL 3122 2828 \nQ 2878 2963 2633 3030 \nQ 2388 3097 2138 3097 \nQ 1578 3097 1268 2742 \nQ 959 2388 959 1747 \nQ 959 1106 1268 751 \nQ 1578 397 2138 397 \nQ 2388 397 2633 464 \nQ 2878 531 3122 666 \nL 3122 134 \nQ 2881 22 2623 -34 \nQ 2366 -91 2075 -91 \nQ 1284 -91 818 406 \nQ 353 903 353 1747 \nQ 353 2603 823 3093 \nQ 1294 3584 2113 3584 \nQ 2378 3584 2631 3529 \nQ 2884 3475 3122 3366 \nz\n\" transform=\"scale(0.015625)\"/>\n       <path id=\"DejaVuSans-68\" d=\"M 3513 2113 \nL 3513 0 \nL 2938 0 \nL 2938 2094 \nQ 2938 2591 2744 2837 \nQ 2550 3084 2163 3084 \nQ 1697 3084 1428 2787 \nQ 1159 2491 1159 1978 \nL 1159 0 \nL 581 0 \nL 581 4863 \nL 1159 4863 \nL 1159 2956 \nQ 1366 3272 1645 3428 \nQ 1925 3584 2291 3584 \nQ 2894 3584 3203 3211 \nQ 3513 2838 3513 2113 \nz\n\" transform=\"scale(0.015625)\"/>\n      </defs>\n      <use xlink:href=\"#DejaVuSans-65\"/>\n      <use xlink:href=\"#DejaVuSans-70\" x=\"61.523438\"/>\n      <use xlink:href=\"#DejaVuSans-6f\" x=\"125\"/>\n      <use xlink:href=\"#DejaVuSans-63\" x=\"186.181641\"/>\n      <use xlink:href=\"#DejaVuSans-68\" x=\"241.162109\"/>\n     </g>\n    </g>\n   </g>\n   <g id=\"matplotlib.axis_2\">\n    <g id=\"ytick_1\">\n     <g id=\"line2d_7\">\n      <defs>\n       <path id=\"m2c521fb05f\" d=\"M 0 0 \nL -3.5 0 \n\" style=\"stroke: #000000; stroke-width: 0.8\"/>\n      </defs>\n      <g>\n       <use xlink:href=\"#m2c521fb05f\" x=\"50.14375\" y=\"247.864578\" style=\"stroke: #000000; stroke-width: 0.8\"/>\n      </g>\n     </g>\n     <g id=\"text_8\">\n      <!-- 0.50 -->\n      <g transform=\"translate(20.878125 251.663797) scale(0.1 -0.1)\">\n       <defs>\n        <path id=\"DejaVuSans-2e\" d=\"M 684 794 \nL 1344 794 \nL 1344 0 \nL 684 0 \nL 684 794 \nz\n\" transform=\"scale(0.015625)\"/>\n        <path id=\"DejaVuSans-35\" d=\"M 691 4666 \nL 3169 4666 \nL 3169 4134 \nL 1269 4134 \nL 1269 2991 \nQ 1406 3038 1543 3061 \nQ 1681 3084 1819 3084 \nQ 2600 3084 3056 2656 \nQ 3513 2228 3513 1497 \nQ 3513 744 3044 326 \nQ 2575 -91 1722 -91 \nQ 1428 -91 1123 -41 \nQ 819 9 494 109 \nL 494 744 \nQ 775 591 1075 516 \nQ 1375 441 1709 441 \nQ 2250 441 2565 725 \nQ 2881 1009 2881 1497 \nQ 2881 1984 2565 2268 \nQ 2250 2553 1709 2553 \nQ 1456 2553 1204 2497 \nQ 953 2441 691 2322 \nL 691 4666 \nz\n\" transform=\"scale(0.015625)\"/>\n       </defs>\n       <use xlink:href=\"#DejaVuSans-30\"/>\n       <use xlink:href=\"#DejaVuSans-2e\" x=\"63.623047\"/>\n       <use xlink:href=\"#DejaVuSans-35\" x=\"95.410156\"/>\n       <use xlink:href=\"#DejaVuSans-30\" x=\"159.033203\"/>\n      </g>\n     </g>\n    </g>\n    <g id=\"ytick_2\">\n     <g id=\"line2d_8\">\n      <g>\n       <use xlink:href=\"#m2c521fb05f\" x=\"50.14375\" y=\"216.533259\" style=\"stroke: #000000; stroke-width: 0.8\"/>\n      </g>\n     </g>\n     <g id=\"text_9\">\n      <!-- 0.75 -->\n      <g transform=\"translate(20.878125 220.332478) scale(0.1 -0.1)\">\n       <defs>\n        <path id=\"DejaVuSans-37\" d=\"M 525 4666 \nL 3525 4666 \nL 3525 4397 \nL 1831 0 \nL 1172 0 \nL 2766 4134 \nL 525 4134 \nL 525 4666 \nz\n\" transform=\"scale(0.015625)\"/>\n       </defs>\n       <use xlink:href=\"#DejaVuSans-30\"/>\n       <use xlink:href=\"#DejaVuSans-2e\" x=\"63.623047\"/>\n       <use xlink:href=\"#DejaVuSans-37\" x=\"95.410156\"/>\n       <use xlink:href=\"#DejaVuSans-35\" x=\"159.033203\"/>\n      </g>\n     </g>\n    </g>\n    <g id=\"ytick_3\">\n     <g id=\"line2d_9\">\n      <g>\n       <use xlink:href=\"#m2c521fb05f\" x=\"50.14375\" y=\"185.20194\" style=\"stroke: #000000; stroke-width: 0.8\"/>\n      </g>\n     </g>\n     <g id=\"text_10\">\n      <!-- 1.00 -->\n      <g transform=\"translate(20.878125 189.001159) scale(0.1 -0.1)\">\n       <use xlink:href=\"#DejaVuSans-31\"/>\n       <use xlink:href=\"#DejaVuSans-2e\" x=\"63.623047\"/>\n       <use xlink:href=\"#DejaVuSans-30\" x=\"95.410156\"/>\n       <use xlink:href=\"#DejaVuSans-30\" x=\"159.033203\"/>\n      </g>\n     </g>\n    </g>\n    <g id=\"ytick_4\">\n     <g id=\"line2d_10\">\n      <g>\n       <use xlink:href=\"#m2c521fb05f\" x=\"50.14375\" y=\"153.870621\" style=\"stroke: #000000; stroke-width: 0.8\"/>\n      </g>\n     </g>\n     <g id=\"text_11\">\n      <!-- 1.25 -->\n      <g transform=\"translate(20.878125 157.66984) scale(0.1 -0.1)\">\n       <use xlink:href=\"#DejaVuSans-31\"/>\n       <use xlink:href=\"#DejaVuSans-2e\" x=\"63.623047\"/>\n       <use xlink:href=\"#DejaVuSans-32\" x=\"95.410156\"/>\n       <use xlink:href=\"#DejaVuSans-35\" x=\"159.033203\"/>\n      </g>\n     </g>\n    </g>\n    <g id=\"ytick_5\">\n     <g id=\"line2d_11\">\n      <g>\n       <use xlink:href=\"#m2c521fb05f\" x=\"50.14375\" y=\"122.539302\" style=\"stroke: #000000; stroke-width: 0.8\"/>\n      </g>\n     </g>\n     <g id=\"text_12\">\n      <!-- 1.50 -->\n      <g transform=\"translate(20.878125 126.338521) scale(0.1 -0.1)\">\n       <use xlink:href=\"#DejaVuSans-31\"/>\n       <use xlink:href=\"#DejaVuSans-2e\" x=\"63.623047\"/>\n       <use xlink:href=\"#DejaVuSans-35\" x=\"95.410156\"/>\n       <use xlink:href=\"#DejaVuSans-30\" x=\"159.033203\"/>\n      </g>\n     </g>\n    </g>\n    <g id=\"ytick_6\">\n     <g id=\"line2d_12\">\n      <g>\n       <use xlink:href=\"#m2c521fb05f\" x=\"50.14375\" y=\"91.207983\" style=\"stroke: #000000; stroke-width: 0.8\"/>\n      </g>\n     </g>\n     <g id=\"text_13\">\n      <!-- 1.75 -->\n      <g transform=\"translate(20.878125 95.007202) scale(0.1 -0.1)\">\n       <use xlink:href=\"#DejaVuSans-31\"/>\n       <use xlink:href=\"#DejaVuSans-2e\" x=\"63.623047\"/>\n       <use xlink:href=\"#DejaVuSans-37\" x=\"95.410156\"/>\n       <use xlink:href=\"#DejaVuSans-35\" x=\"159.033203\"/>\n      </g>\n     </g>\n    </g>\n    <g id=\"ytick_7\">\n     <g id=\"line2d_13\">\n      <g>\n       <use xlink:href=\"#m2c521fb05f\" x=\"50.14375\" y=\"59.876664\" style=\"stroke: #000000; stroke-width: 0.8\"/>\n      </g>\n     </g>\n     <g id=\"text_14\">\n      <!-- 2.00 -->\n      <g transform=\"translate(20.878125 63.675883) scale(0.1 -0.1)\">\n       <use xlink:href=\"#DejaVuSans-32\"/>\n       <use xlink:href=\"#DejaVuSans-2e\" x=\"63.623047\"/>\n       <use xlink:href=\"#DejaVuSans-30\" x=\"95.410156\"/>\n       <use xlink:href=\"#DejaVuSans-30\" x=\"159.033203\"/>\n      </g>\n     </g>\n    </g>\n    <g id=\"ytick_8\">\n     <g id=\"line2d_14\">\n      <g>\n       <use xlink:href=\"#m2c521fb05f\" x=\"50.14375\" y=\"28.545345\" style=\"stroke: #000000; stroke-width: 0.8\"/>\n      </g>\n     </g>\n     <g id=\"text_15\">\n      <!-- 2.25 -->\n      <g transform=\"translate(20.878125 32.344564) scale(0.1 -0.1)\">\n       <use xlink:href=\"#DejaVuSans-32\"/>\n       <use xlink:href=\"#DejaVuSans-2e\" x=\"63.623047\"/>\n       <use xlink:href=\"#DejaVuSans-32\" x=\"95.410156\"/>\n       <use xlink:href=\"#DejaVuSans-35\" x=\"159.033203\"/>\n      </g>\n     </g>\n    </g>\n    <g id=\"text_16\">\n     <!-- loss -->\n     <g transform=\"translate(14.798438 149.913812) rotate(-90) scale(0.1 -0.1)\">\n      <defs>\n       <path id=\"DejaVuSans-6c\" d=\"M 603 4863 \nL 1178 4863 \nL 1178 0 \nL 603 0 \nL 603 4863 \nz\n\" transform=\"scale(0.015625)\"/>\n       <path id=\"DejaVuSans-73\" d=\"M 2834 3397 \nL 2834 2853 \nQ 2591 2978 2328 3040 \nQ 2066 3103 1784 3103 \nQ 1356 3103 1142 2972 \nQ 928 2841 928 2578 \nQ 928 2378 1081 2264 \nQ 1234 2150 1697 2047 \nL 1894 2003 \nQ 2506 1872 2764 1633 \nQ 3022 1394 3022 966 \nQ 3022 478 2636 193 \nQ 2250 -91 1575 -91 \nQ 1294 -91 989 -36 \nQ 684 19 347 128 \nL 347 722 \nQ 666 556 975 473 \nQ 1284 391 1588 391 \nQ 1994 391 2212 530 \nQ 2431 669 2431 922 \nQ 2431 1156 2273 1281 \nQ 2116 1406 1581 1522 \nL 1381 1569 \nQ 847 1681 609 1914 \nQ 372 2147 372 2553 \nQ 372 3047 722 3315 \nQ 1072 3584 1716 3584 \nQ 2034 3584 2315 3537 \nQ 2597 3491 2834 3397 \nz\n\" transform=\"scale(0.015625)\"/>\n      </defs>\n      <use xlink:href=\"#DejaVuSans-6c\"/>\n      <use xlink:href=\"#DejaVuSans-6f\" x=\"27.783203\"/>\n      <use xlink:href=\"#DejaVuSans-73\" x=\"88.964844\"/>\n      <use xlink:href=\"#DejaVuSans-73\" x=\"141.064453\"/>\n     </g>\n    </g>\n   </g>\n   <g id=\"line2d_15\">\n    <path d=\"M 66.376477 19.296 \nL 69.655816 78.592595 \nL 72.935155 118.771659 \nL 76.214494 145.72211 \nL 79.493833 164.409551 \nL 82.773171 177.998619 \nL 86.05251 188.255215 \nL 89.331849 196.074726 \nL 92.611188 202.49243 \nL 95.890527 207.681003 \nL 99.169866 212.136458 \nL 102.449205 215.883439 \nL 105.728543 219.150482 \nL 109.007882 221.977312 \nL 112.287221 224.469764 \nL 115.56656 226.676154 \nL 118.845899 228.650362 \nL 122.125238 230.429029 \nL 125.404576 232.04299 \nL 128.683915 233.516016 \nL 131.963254 234.867348 \nL 135.242593 236.112584 \nL 138.521932 237.264603 \nL 141.801271 238.334213 \nL 145.08061 239.330542 \nL 148.359948 240.26139 \nL 151.639287 241.133449 \nL 154.918626 241.952524 \nL 158.197965 242.723641 \nL 161.477304 243.451193 \nL 164.756643 244.139058 \nL 168.035981 244.790648 \nL 171.31532 245.40896 \nL 174.594659 245.996705 \nL 177.873998 246.556265 \nL 181.153337 247.089763 \nL 184.432676 247.599162 \nL 187.712014 248.086182 \nL 190.991353 248.552383 \nL 194.270692 248.999184 \nL 197.550031 249.4279 \nL 200.82937 249.839667 \nL 204.108709 250.235587 \nL 207.388048 250.616634 \nL 210.667386 250.983689 \nL 213.946725 251.337598 \nL 217.226064 251.679114 \nL 220.505403 252.008931 \nL 223.784742 252.327701 \nL 227.064081 252.636024 \nL 230.343419 252.934449 \nL 233.622758 253.223503 \nL 236.902097 253.503635 \nL 240.181436 253.775321 \nL 243.460775 254.038963 \nL 246.740114 254.294943 \nL 250.019452 254.543645 \nL 253.298791 254.785366 \nL 256.57813 255.020472 \nL 259.857469 255.249213 \nL 263.136808 255.471915 \nL 266.416147 255.68881 \nL 269.695486 255.90015 \nL 272.974824 256.106164 \nL 276.254163 256.307088 \nL 279.533502 256.503118 \nL 282.812841 256.694436 \nL 286.09218 256.881256 \nL 289.371519 257.063725 \nL 292.650857 257.242025 \nL 295.930196 257.416307 \nL 299.209535 257.586731 \nL 302.488874 257.753423 \nL 305.768213 257.91653 \nL 309.047552 258.076159 \nL 312.32689 258.23245 \nL 315.606229 258.385513 \nL 318.885568 258.535458 \nL 322.164907 258.682385 \nL 325.444246 258.826402 \nL 328.723585 258.96761 \nL 332.002924 259.106089 \nL 335.282262 259.241923 \nL 338.561601 259.375202 \nL 341.84094 259.506008 \nL 345.120279 259.634413 \nL 348.399618 259.760484 \nL 351.678957 259.884314 \nL 354.958295 260.005932 \nL 358.237634 260.125441 \nL 361.516973 260.242876 \nL 364.796312 260.358317 \nL 368.075651 260.471793 \nL 371.35499 260.583391 \nL 374.634329 260.693151 \nL 377.913667 260.801107 \nL 381.193006 260.907326 \nL 384.472345 261.011853 \nL 387.751684 261.114726 \nL 391.031023 261.216 \n\" clip-path=\"url(#p5cf499782b)\" style=\"fill: none; stroke: #1f77b4; stroke-width: 1.5; stroke-linecap: square\"/>\n   </g>\n   <g id=\"patch_3\">\n    <path d=\"M 50.14375 273.312 \nL 50.14375 7.2 \n\" style=\"fill: none; stroke: #000000; stroke-width: 0.8; stroke-linejoin: miter; stroke-linecap: square\"/>\n   </g>\n   <g id=\"patch_4\">\n    <path d=\"M 407.26375 273.312 \nL 407.26375 7.2 \n\" style=\"fill: none; stroke: #000000; stroke-width: 0.8; stroke-linejoin: miter; stroke-linecap: square\"/>\n   </g>\n   <g id=\"patch_5\">\n    <path d=\"M 50.14375 273.312 \nL 407.26375 273.312 \n\" style=\"fill: none; stroke: #000000; stroke-width: 0.8; stroke-linejoin: miter; stroke-linecap: square\"/>\n   </g>\n   <g id=\"patch_6\">\n    <path d=\"M 50.14375 7.2 \nL 407.26375 7.2 \n\" style=\"fill: none; stroke: #000000; stroke-width: 0.8; stroke-linejoin: miter; stroke-linecap: square\"/>\n   </g>\n  </g>\n </g>\n <defs>\n  <clipPath id=\"p5cf499782b\">\n   <rect x=\"50.14375\" y=\"7.2\" width=\"357.12\" height=\"266.112\"/>\n  </clipPath>\n </defs>\n</svg>\n"
          },
          "metadata": {}
        }
      ],
      "source": [
        "plt.plot(losses)\n",
        "plt.xlabel('epoch')\n",
        "plt.ylabel('loss')\n",
        "plt.show()"
      ]
    },
    {
      "cell_type": "markdown",
      "metadata": {
        "id": "zUTfdh5VOl3N"
      },
      "source": [
        "## Avaliação"
      ]
    },
    {
      "cell_type": "markdown",
      "metadata": {
        "id": "XgFPZ9hNOl3O"
      },
      "source": [
        "### Acurácia tanto no conjunto de treinamento como no conjunto de testes"
      ]
    },
    {
      "cell_type": "code",
      "execution_count": 18,
      "metadata": {
        "ExecuteTime": {
          "end_time": "2017-11-24T15:50:29.922115",
          "start_time": "2017-11-24T15:50:29.914004"
        },
        "colab": {
          "base_uri": "https://localhost:8080/"
        },
        "id": "JMo5hSBhOl3P",
        "outputId": "c7baa38a-d5f0-4d9a-d55a-02079aa19d8a"
      },
      "outputs": [
        {
          "output_type": "stream",
          "name": "stdout",
          "text": [
            "Accuracy: 0.8945166666666666\n"
          ]
        }
      ],
      "source": [
        "def predict(model, input_data):\n",
        "    outputs = model(Variable(input_data))\n",
        "    _, predicts = torch.max(outputs, 1)\n",
        "\n",
        "    return predicts.data\n",
        "\n",
        "y_pred = predict(model, x_train.view(-1, 28*28))\n",
        "accuracy = (y_pred.numpy() == y_train.numpy()).mean()\n",
        "print('Accuracy:', accuracy)"
      ]
    },
    {
      "cell_type": "markdown",
      "metadata": {
        "id": "Po0mlGpCOl3W"
      },
      "source": [
        "### Matriz de confusão com dados de treinamento e teste"
      ]
    },
    {
      "cell_type": "code",
      "execution_count": 19,
      "metadata": {
        "ExecuteTime": {
          "end_time": "2017-11-24T15:51:40.706177",
          "start_time": "2017-11-24T15:51:40.679474"
        },
        "colab": {
          "base_uri": "https://localhost:8080/",
          "height": 411
        },
        "id": "PtA3ZAUjOl3X",
        "outputId": "c4012009-eade-482b-edbe-1a1157d15cae"
      },
      "outputs": [
        {
          "output_type": "stream",
          "name": "stdout",
          "text": [
            "Matriz de confusão:\n"
          ]
        },
        {
          "output_type": "execute_result",
          "data": {
            "text/plain": [
              "col_0     0     1     2     3     4     5     6     7     8     9\n",
              "row_0                                                            \n",
              "0      5675     0    55    32    14   103    51    50    33    46\n",
              "1         0  6511    76    42    35    68    29    93   177    38\n",
              "2        27    33  5104   152    41    49    73   101    85    43\n",
              "3        22    29    99  5283     5   239     5    25   180   103\n",
              "4        12     6   127     7  5307    88    48    86    29   229\n",
              "5        46    52    17   264     7  4424    88    12   173    43\n",
              "6        58    10   134    47    71   112  5563     3    47     6\n",
              "7         5    15   127    83    15    32     2  5650    37   203\n",
              "8        70    76   176   143    52   219    57    20  4975    59\n",
              "9         8    10    43    78   295    87     2   225   115  5179"
            ],
            "text/html": [
              "\n",
              "  <div id=\"df-bbf81ed0-3109-4d3c-af61-d0aa9ad23859\" class=\"colab-df-container\">\n",
              "    <div>\n",
              "<style scoped>\n",
              "    .dataframe tbody tr th:only-of-type {\n",
              "        vertical-align: middle;\n",
              "    }\n",
              "\n",
              "    .dataframe tbody tr th {\n",
              "        vertical-align: top;\n",
              "    }\n",
              "\n",
              "    .dataframe thead th {\n",
              "        text-align: right;\n",
              "    }\n",
              "</style>\n",
              "<table border=\"1\" class=\"dataframe\">\n",
              "  <thead>\n",
              "    <tr style=\"text-align: right;\">\n",
              "      <th>col_0</th>\n",
              "      <th>0</th>\n",
              "      <th>1</th>\n",
              "      <th>2</th>\n",
              "      <th>3</th>\n",
              "      <th>4</th>\n",
              "      <th>5</th>\n",
              "      <th>6</th>\n",
              "      <th>7</th>\n",
              "      <th>8</th>\n",
              "      <th>9</th>\n",
              "    </tr>\n",
              "    <tr>\n",
              "      <th>row_0</th>\n",
              "      <th></th>\n",
              "      <th></th>\n",
              "      <th></th>\n",
              "      <th></th>\n",
              "      <th></th>\n",
              "      <th></th>\n",
              "      <th></th>\n",
              "      <th></th>\n",
              "      <th></th>\n",
              "      <th></th>\n",
              "    </tr>\n",
              "  </thead>\n",
              "  <tbody>\n",
              "    <tr>\n",
              "      <th>0</th>\n",
              "      <td>5675</td>\n",
              "      <td>0</td>\n",
              "      <td>55</td>\n",
              "      <td>32</td>\n",
              "      <td>14</td>\n",
              "      <td>103</td>\n",
              "      <td>51</td>\n",
              "      <td>50</td>\n",
              "      <td>33</td>\n",
              "      <td>46</td>\n",
              "    </tr>\n",
              "    <tr>\n",
              "      <th>1</th>\n",
              "      <td>0</td>\n",
              "      <td>6511</td>\n",
              "      <td>76</td>\n",
              "      <td>42</td>\n",
              "      <td>35</td>\n",
              "      <td>68</td>\n",
              "      <td>29</td>\n",
              "      <td>93</td>\n",
              "      <td>177</td>\n",
              "      <td>38</td>\n",
              "    </tr>\n",
              "    <tr>\n",
              "      <th>2</th>\n",
              "      <td>27</td>\n",
              "      <td>33</td>\n",
              "      <td>5104</td>\n",
              "      <td>152</td>\n",
              "      <td>41</td>\n",
              "      <td>49</td>\n",
              "      <td>73</td>\n",
              "      <td>101</td>\n",
              "      <td>85</td>\n",
              "      <td>43</td>\n",
              "    </tr>\n",
              "    <tr>\n",
              "      <th>3</th>\n",
              "      <td>22</td>\n",
              "      <td>29</td>\n",
              "      <td>99</td>\n",
              "      <td>5283</td>\n",
              "      <td>5</td>\n",
              "      <td>239</td>\n",
              "      <td>5</td>\n",
              "      <td>25</td>\n",
              "      <td>180</td>\n",
              "      <td>103</td>\n",
              "    </tr>\n",
              "    <tr>\n",
              "      <th>4</th>\n",
              "      <td>12</td>\n",
              "      <td>6</td>\n",
              "      <td>127</td>\n",
              "      <td>7</td>\n",
              "      <td>5307</td>\n",
              "      <td>88</td>\n",
              "      <td>48</td>\n",
              "      <td>86</td>\n",
              "      <td>29</td>\n",
              "      <td>229</td>\n",
              "    </tr>\n",
              "    <tr>\n",
              "      <th>5</th>\n",
              "      <td>46</td>\n",
              "      <td>52</td>\n",
              "      <td>17</td>\n",
              "      <td>264</td>\n",
              "      <td>7</td>\n",
              "      <td>4424</td>\n",
              "      <td>88</td>\n",
              "      <td>12</td>\n",
              "      <td>173</td>\n",
              "      <td>43</td>\n",
              "    </tr>\n",
              "    <tr>\n",
              "      <th>6</th>\n",
              "      <td>58</td>\n",
              "      <td>10</td>\n",
              "      <td>134</td>\n",
              "      <td>47</td>\n",
              "      <td>71</td>\n",
              "      <td>112</td>\n",
              "      <td>5563</td>\n",
              "      <td>3</td>\n",
              "      <td>47</td>\n",
              "      <td>6</td>\n",
              "    </tr>\n",
              "    <tr>\n",
              "      <th>7</th>\n",
              "      <td>5</td>\n",
              "      <td>15</td>\n",
              "      <td>127</td>\n",
              "      <td>83</td>\n",
              "      <td>15</td>\n",
              "      <td>32</td>\n",
              "      <td>2</td>\n",
              "      <td>5650</td>\n",
              "      <td>37</td>\n",
              "      <td>203</td>\n",
              "    </tr>\n",
              "    <tr>\n",
              "      <th>8</th>\n",
              "      <td>70</td>\n",
              "      <td>76</td>\n",
              "      <td>176</td>\n",
              "      <td>143</td>\n",
              "      <td>52</td>\n",
              "      <td>219</td>\n",
              "      <td>57</td>\n",
              "      <td>20</td>\n",
              "      <td>4975</td>\n",
              "      <td>59</td>\n",
              "    </tr>\n",
              "    <tr>\n",
              "      <th>9</th>\n",
              "      <td>8</td>\n",
              "      <td>10</td>\n",
              "      <td>43</td>\n",
              "      <td>78</td>\n",
              "      <td>295</td>\n",
              "      <td>87</td>\n",
              "      <td>2</td>\n",
              "      <td>225</td>\n",
              "      <td>115</td>\n",
              "      <td>5179</td>\n",
              "    </tr>\n",
              "  </tbody>\n",
              "</table>\n",
              "</div>\n",
              "    <div class=\"colab-df-buttons\">\n",
              "\n",
              "  <div class=\"colab-df-container\">\n",
              "    <button class=\"colab-df-convert\" onclick=\"convertToInteractive('df-bbf81ed0-3109-4d3c-af61-d0aa9ad23859')\"\n",
              "            title=\"Convert this dataframe to an interactive table.\"\n",
              "            style=\"display:none;\">\n",
              "\n",
              "  <svg xmlns=\"http://www.w3.org/2000/svg\" height=\"24px\" viewBox=\"0 -960 960 960\">\n",
              "    <path d=\"M120-120v-720h720v720H120Zm60-500h600v-160H180v160Zm220 220h160v-160H400v160Zm0 220h160v-160H400v160ZM180-400h160v-160H180v160Zm440 0h160v-160H620v160ZM180-180h160v-160H180v160Zm440 0h160v-160H620v160Z\"/>\n",
              "  </svg>\n",
              "    </button>\n",
              "\n",
              "  <style>\n",
              "    .colab-df-container {\n",
              "      display:flex;\n",
              "      gap: 12px;\n",
              "    }\n",
              "\n",
              "    .colab-df-convert {\n",
              "      background-color: #E8F0FE;\n",
              "      border: none;\n",
              "      border-radius: 50%;\n",
              "      cursor: pointer;\n",
              "      display: none;\n",
              "      fill: #1967D2;\n",
              "      height: 32px;\n",
              "      padding: 0 0 0 0;\n",
              "      width: 32px;\n",
              "    }\n",
              "\n",
              "    .colab-df-convert:hover {\n",
              "      background-color: #E2EBFA;\n",
              "      box-shadow: 0px 1px 2px rgba(60, 64, 67, 0.3), 0px 1px 3px 1px rgba(60, 64, 67, 0.15);\n",
              "      fill: #174EA6;\n",
              "    }\n",
              "\n",
              "    .colab-df-buttons div {\n",
              "      margin-bottom: 4px;\n",
              "    }\n",
              "\n",
              "    [theme=dark] .colab-df-convert {\n",
              "      background-color: #3B4455;\n",
              "      fill: #D2E3FC;\n",
              "    }\n",
              "\n",
              "    [theme=dark] .colab-df-convert:hover {\n",
              "      background-color: #434B5C;\n",
              "      box-shadow: 0px 1px 3px 1px rgba(0, 0, 0, 0.15);\n",
              "      filter: drop-shadow(0px 1px 2px rgba(0, 0, 0, 0.3));\n",
              "      fill: #FFFFFF;\n",
              "    }\n",
              "  </style>\n",
              "\n",
              "    <script>\n",
              "      const buttonEl =\n",
              "        document.querySelector('#df-bbf81ed0-3109-4d3c-af61-d0aa9ad23859 button.colab-df-convert');\n",
              "      buttonEl.style.display =\n",
              "        google.colab.kernel.accessAllowed ? 'block' : 'none';\n",
              "\n",
              "      async function convertToInteractive(key) {\n",
              "        const element = document.querySelector('#df-bbf81ed0-3109-4d3c-af61-d0aa9ad23859');\n",
              "        const dataTable =\n",
              "          await google.colab.kernel.invokeFunction('convertToInteractive',\n",
              "                                                    [key], {});\n",
              "        if (!dataTable) return;\n",
              "\n",
              "        const docLinkHtml = 'Like what you see? Visit the ' +\n",
              "          '<a target=\"_blank\" href=https://colab.research.google.com/notebooks/data_table.ipynb>data table notebook</a>'\n",
              "          + ' to learn more about interactive tables.';\n",
              "        element.innerHTML = '';\n",
              "        dataTable['output_type'] = 'display_data';\n",
              "        await google.colab.output.renderOutput(dataTable, element);\n",
              "        const docLink = document.createElement('div');\n",
              "        docLink.innerHTML = docLinkHtml;\n",
              "        element.appendChild(docLink);\n",
              "      }\n",
              "    </script>\n",
              "  </div>\n",
              "\n",
              "\n",
              "<div id=\"df-416079a4-5408-416a-b67f-a5052a9e5961\">\n",
              "  <button class=\"colab-df-quickchart\" onclick=\"quickchart('df-416079a4-5408-416a-b67f-a5052a9e5961')\"\n",
              "            title=\"Suggest charts\"\n",
              "            style=\"display:none;\">\n",
              "\n",
              "<svg xmlns=\"http://www.w3.org/2000/svg\" height=\"24px\"viewBox=\"0 0 24 24\"\n",
              "     width=\"24px\">\n",
              "    <g>\n",
              "        <path d=\"M19 3H5c-1.1 0-2 .9-2 2v14c0 1.1.9 2 2 2h14c1.1 0 2-.9 2-2V5c0-1.1-.9-2-2-2zM9 17H7v-7h2v7zm4 0h-2V7h2v10zm4 0h-2v-4h2v4z\"/>\n",
              "    </g>\n",
              "</svg>\n",
              "  </button>\n",
              "\n",
              "<style>\n",
              "  .colab-df-quickchart {\n",
              "      --bg-color: #E8F0FE;\n",
              "      --fill-color: #1967D2;\n",
              "      --hover-bg-color: #E2EBFA;\n",
              "      --hover-fill-color: #174EA6;\n",
              "      --disabled-fill-color: #AAA;\n",
              "      --disabled-bg-color: #DDD;\n",
              "  }\n",
              "\n",
              "  [theme=dark] .colab-df-quickchart {\n",
              "      --bg-color: #3B4455;\n",
              "      --fill-color: #D2E3FC;\n",
              "      --hover-bg-color: #434B5C;\n",
              "      --hover-fill-color: #FFFFFF;\n",
              "      --disabled-bg-color: #3B4455;\n",
              "      --disabled-fill-color: #666;\n",
              "  }\n",
              "\n",
              "  .colab-df-quickchart {\n",
              "    background-color: var(--bg-color);\n",
              "    border: none;\n",
              "    border-radius: 50%;\n",
              "    cursor: pointer;\n",
              "    display: none;\n",
              "    fill: var(--fill-color);\n",
              "    height: 32px;\n",
              "    padding: 0;\n",
              "    width: 32px;\n",
              "  }\n",
              "\n",
              "  .colab-df-quickchart:hover {\n",
              "    background-color: var(--hover-bg-color);\n",
              "    box-shadow: 0 1px 2px rgba(60, 64, 67, 0.3), 0 1px 3px 1px rgba(60, 64, 67, 0.15);\n",
              "    fill: var(--button-hover-fill-color);\n",
              "  }\n",
              "\n",
              "  .colab-df-quickchart-complete:disabled,\n",
              "  .colab-df-quickchart-complete:disabled:hover {\n",
              "    background-color: var(--disabled-bg-color);\n",
              "    fill: var(--disabled-fill-color);\n",
              "    box-shadow: none;\n",
              "  }\n",
              "\n",
              "  .colab-df-spinner {\n",
              "    border: 2px solid var(--fill-color);\n",
              "    border-color: transparent;\n",
              "    border-bottom-color: var(--fill-color);\n",
              "    animation:\n",
              "      spin 1s steps(1) infinite;\n",
              "  }\n",
              "\n",
              "  @keyframes spin {\n",
              "    0% {\n",
              "      border-color: transparent;\n",
              "      border-bottom-color: var(--fill-color);\n",
              "      border-left-color: var(--fill-color);\n",
              "    }\n",
              "    20% {\n",
              "      border-color: transparent;\n",
              "      border-left-color: var(--fill-color);\n",
              "      border-top-color: var(--fill-color);\n",
              "    }\n",
              "    30% {\n",
              "      border-color: transparent;\n",
              "      border-left-color: var(--fill-color);\n",
              "      border-top-color: var(--fill-color);\n",
              "      border-right-color: var(--fill-color);\n",
              "    }\n",
              "    40% {\n",
              "      border-color: transparent;\n",
              "      border-right-color: var(--fill-color);\n",
              "      border-top-color: var(--fill-color);\n",
              "    }\n",
              "    60% {\n",
              "      border-color: transparent;\n",
              "      border-right-color: var(--fill-color);\n",
              "    }\n",
              "    80% {\n",
              "      border-color: transparent;\n",
              "      border-right-color: var(--fill-color);\n",
              "      border-bottom-color: var(--fill-color);\n",
              "    }\n",
              "    90% {\n",
              "      border-color: transparent;\n",
              "      border-bottom-color: var(--fill-color);\n",
              "    }\n",
              "  }\n",
              "</style>\n",
              "\n",
              "  <script>\n",
              "    async function quickchart(key) {\n",
              "      const quickchartButtonEl =\n",
              "        document.querySelector('#' + key + ' button');\n",
              "      quickchartButtonEl.disabled = true;  // To prevent multiple clicks.\n",
              "      quickchartButtonEl.classList.add('colab-df-spinner');\n",
              "      try {\n",
              "        const charts = await google.colab.kernel.invokeFunction(\n",
              "            'suggestCharts', [key], {});\n",
              "      } catch (error) {\n",
              "        console.error('Error during call to suggestCharts:', error);\n",
              "      }\n",
              "      quickchartButtonEl.classList.remove('colab-df-spinner');\n",
              "      quickchartButtonEl.classList.add('colab-df-quickchart-complete');\n",
              "    }\n",
              "    (() => {\n",
              "      let quickchartButtonEl =\n",
              "        document.querySelector('#df-416079a4-5408-416a-b67f-a5052a9e5961 button');\n",
              "      quickchartButtonEl.style.display =\n",
              "        google.colab.kernel.accessAllowed ? 'block' : 'none';\n",
              "    })();\n",
              "  </script>\n",
              "</div>\n",
              "\n",
              "    </div>\n",
              "  </div>\n"
            ],
            "application/vnd.google.colaboratory.intrinsic+json": {
              "type": "dataframe",
              "summary": "{\n  \"name\": \"pd\",\n  \"rows\": 10,\n  \"fields\": [\n    {\n      \"column\": \"row_0\",\n      \"properties\": {\n        \"dtype\": \"number\",\n        \"std\": 3,\n        \"min\": 0,\n        \"max\": 9,\n        \"num_unique_values\": 10,\n        \"samples\": [\n          8,\n          1,\n          5\n        ],\n        \"semantic_type\": \"\",\n        \"description\": \"\"\n      }\n    },\n    {\n      \"column\": 0,\n      \"properties\": {\n        \"dtype\": \"number\",\n        \"std\": 1786,\n        \"min\": 0,\n        \"max\": 5675,\n        \"num_unique_values\": 10,\n        \"samples\": [\n          70,\n          0,\n          46\n        ],\n        \"semantic_type\": \"\",\n        \"description\": \"\"\n      }\n    },\n    {\n      \"column\": 1,\n      \"properties\": {\n        \"dtype\": \"number\",\n        \"std\": 2050,\n        \"min\": 0,\n        \"max\": 6511,\n        \"num_unique_values\": 9,\n        \"samples\": [\n          15,\n          6511,\n          52\n        ],\n        \"semantic_type\": \"\",\n        \"description\": \"\"\n      }\n    },\n    {\n      \"column\": 2,\n      \"properties\": {\n        \"dtype\": \"number\",\n        \"std\": 1584,\n        \"min\": 17,\n        \"max\": 5104,\n        \"num_unique_values\": 9,\n        \"samples\": [\n          176,\n          76,\n          17\n        ],\n        \"semantic_type\": \"\",\n        \"description\": \"\"\n      }\n    },\n    {\n      \"column\": 3,\n      \"properties\": {\n        \"dtype\": \"number\",\n        \"std\": 1642,\n        \"min\": 7,\n        \"max\": 5283,\n        \"num_unique_values\": 10,\n        \"samples\": [\n          143,\n          42,\n          264\n        ],\n        \"semantic_type\": \"\",\n        \"description\": \"\"\n      }\n    },\n    {\n      \"column\": 4,\n      \"properties\": {\n        \"dtype\": \"number\",\n        \"std\": 1661,\n        \"min\": 5,\n        \"max\": 5307,\n        \"num_unique_values\": 10,\n        \"samples\": [\n          52,\n          35,\n          7\n        ],\n        \"semantic_type\": \"\",\n        \"description\": \"\"\n      }\n    },\n    {\n      \"column\": 5,\n      \"properties\": {\n        \"dtype\": \"number\",\n        \"std\": 1365,\n        \"min\": 32,\n        \"max\": 4424,\n        \"num_unique_values\": 10,\n        \"samples\": [\n          219,\n          68,\n          4424\n        ],\n        \"semantic_type\": \"\",\n        \"description\": \"\"\n      }\n    },\n    {\n      \"column\": 6,\n      \"properties\": {\n        \"dtype\": \"number\",\n        \"std\": 1746,\n        \"min\": 2,\n        \"max\": 5563,\n        \"num_unique_values\": 9,\n        \"samples\": [\n          2,\n          29,\n          88\n        ],\n        \"semantic_type\": \"\",\n        \"description\": \"\"\n      }\n    },\n    {\n      \"column\": 7,\n      \"properties\": {\n        \"dtype\": \"number\",\n        \"std\": 1766,\n        \"min\": 3,\n        \"max\": 5650,\n        \"num_unique_values\": 10,\n        \"samples\": [\n          20,\n          93,\n          12\n        ],\n        \"semantic_type\": \"\",\n        \"description\": \"\"\n      }\n    },\n    {\n      \"column\": 8,\n      \"properties\": {\n        \"dtype\": \"number\",\n        \"std\": 1543,\n        \"min\": 29,\n        \"max\": 4975,\n        \"num_unique_values\": 10,\n        \"samples\": [\n          4975,\n          177,\n          173\n        ],\n        \"semantic_type\": \"\",\n        \"description\": \"\"\n      }\n    },\n    {\n      \"column\": 9,\n      \"properties\": {\n        \"dtype\": \"number\",\n        \"std\": 1612,\n        \"min\": 6,\n        \"max\": 5179,\n        \"num_unique_values\": 9,\n        \"samples\": [\n          59,\n          38,\n          6\n        ],\n        \"semantic_type\": \"\",\n        \"description\": \"\"\n      }\n    }\n  ]\n}"
            }
          },
          "metadata": {},
          "execution_count": 19
        }
      ],
      "source": [
        "print('Matriz de confusão:')\n",
        "pd.crosstab(y_pred.numpy(), y_train.numpy())"
      ]
    },
    {
      "cell_type": "markdown",
      "metadata": {
        "id": "6Df5Xz6rOl3c"
      },
      "source": [
        "## Visualizando a matriz de pesos treinados"
      ]
    },
    {
      "cell_type": "markdown",
      "metadata": {
        "id": "DLo6HaWGOl3n"
      },
      "source": [
        "Observe que a matriz de peso treinado para cada classe mostra a importância dos pesos associados aos caracteres de cada classe."
      ]
    },
    {
      "cell_type": "code",
      "execution_count": 20,
      "metadata": {
        "ExecuteTime": {
          "end_time": "2017-11-24T16:34:49.367135",
          "start_time": "2017-11-24T16:34:49.204452"
        },
        "colab": {
          "base_uri": "https://localhost:8080/",
          "height": 453
        },
        "id": "uoBSV4EqOl3q",
        "outputId": "5ebafbf7-ccfb-46a3-fde4-28668bfe6975"
      },
      "outputs": [
        {
          "output_type": "stream",
          "name": "stdout",
          "text": [
            "weights: torch.Size([10, 784])\n",
            "bias:    torch.Size([10])\n"
          ]
        },
        {
          "output_type": "display_data",
          "data": {
            "text/plain": [
              "<Figure size 640x480 with 1 Axes>"
            ],
            "image/svg+xml": "<?xml version=\"1.0\" encoding=\"utf-8\" standalone=\"no\"?>\n<!DOCTYPE svg PUBLIC \"-//W3C//DTD SVG 1.1//EN\"\n  \"http://www.w3.org/Graphics/SVG/1.1/DTD/svg11.dtd\">\n<svg xmlns:xlink=\"http://www.w3.org/1999/xlink\" width=\"300.237pt\" height=\"297.190125pt\" viewBox=\"0 0 300.237 297.190125\" xmlns=\"http://www.w3.org/2000/svg\" version=\"1.1\">\n <metadata>\n  <rdf:RDF xmlns:dc=\"http://purl.org/dc/elements/1.1/\" xmlns:cc=\"http://creativecommons.org/ns#\" xmlns:rdf=\"http://www.w3.org/1999/02/22-rdf-syntax-ns#\">\n   <cc:Work>\n    <dc:type rdf:resource=\"http://purl.org/dc/dcmitype/StillImage\"/>\n    <dc:date>2024-11-20T21:08:47.310723</dc:date>\n    <dc:format>image/svg+xml</dc:format>\n    <dc:creator>\n     <cc:Agent>\n      <dc:title>Matplotlib v3.8.0, https://matplotlib.org/</dc:title>\n     </cc:Agent>\n    </dc:creator>\n   </cc:Work>\n  </rdf:RDF>\n </metadata>\n <defs>\n  <style type=\"text/css\">*{stroke-linejoin: round; stroke-linecap: butt}</style>\n </defs>\n <g id=\"figure_1\">\n  <g id=\"patch_1\">\n   <path d=\"M -0 297.190125 \nL 300.237 297.190125 \nL 300.237 0 \nL -0 0 \nz\n\" style=\"fill: #ffffff\"/>\n  </g>\n  <g id=\"axes_1\">\n   <g id=\"patch_2\">\n    <path d=\"M 26.925 273.312 \nL 293.037 273.312 \nL 293.037 7.2 \nL 26.925 7.2 \nz\n\" style=\"fill: #ffffff\"/>\n   </g>\n   <g clip-path=\"url(#p7db7b5542b)\">\n    <image xlink:href=\"data:image/png;base64,\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\" id=\"imagee8ad8ea577\" transform=\"scale(1 -1) translate(0 -266.4)\" x=\"26.925\" y=\"-6.912\" width=\"266.4\" height=\"266.4\"/>\n   </g>\n   <g id=\"matplotlib.axis_1\">\n    <g id=\"xtick_1\">\n     <g id=\"line2d_1\">\n      <defs>\n       <path id=\"m554e6b952e\" d=\"M 0 0 \nL 0 3.5 \n\" style=\"stroke: #000000; stroke-width: 0.8\"/>\n      </defs>\n      <g>\n       <use xlink:href=\"#m554e6b952e\" x=\"31.677\" y=\"273.312\" style=\"stroke: #000000; stroke-width: 0.8\"/>\n      </g>\n     </g>\n     <g id=\"text_1\">\n      <!-- 0 -->\n      <g transform=\"translate(28.49575 287.910437) scale(0.1 -0.1)\">\n       <defs>\n        <path id=\"DejaVuSans-30\" d=\"M 2034 4250 \nQ 1547 4250 1301 3770 \nQ 1056 3291 1056 2328 \nQ 1056 1369 1301 889 \nQ 1547 409 2034 409 \nQ 2525 409 2770 889 \nQ 3016 1369 3016 2328 \nQ 3016 3291 2770 3770 \nQ 2525 4250 2034 4250 \nz\nM 2034 4750 \nQ 2819 4750 3233 4129 \nQ 3647 3509 3647 2328 \nQ 3647 1150 3233 529 \nQ 2819 -91 2034 -91 \nQ 1250 -91 836 529 \nQ 422 1150 422 2328 \nQ 422 3509 836 4129 \nQ 1250 4750 2034 4750 \nz\n\" transform=\"scale(0.015625)\"/>\n       </defs>\n       <use xlink:href=\"#DejaVuSans-30\"/>\n      </g>\n     </g>\n    </g>\n    <g id=\"xtick_2\">\n     <g id=\"line2d_2\">\n      <g>\n       <use xlink:href=\"#m554e6b952e\" x=\"79.197\" y=\"273.312\" style=\"stroke: #000000; stroke-width: 0.8\"/>\n      </g>\n     </g>\n     <g id=\"text_2\">\n      <!-- 5 -->\n      <g transform=\"translate(76.01575 287.910437) scale(0.1 -0.1)\">\n       <defs>\n        <path id=\"DejaVuSans-35\" d=\"M 691 4666 \nL 3169 4666 \nL 3169 4134 \nL 1269 4134 \nL 1269 2991 \nQ 1406 3038 1543 3061 \nQ 1681 3084 1819 3084 \nQ 2600 3084 3056 2656 \nQ 3513 2228 3513 1497 \nQ 3513 744 3044 326 \nQ 2575 -91 1722 -91 \nQ 1428 -91 1123 -41 \nQ 819 9 494 109 \nL 494 744 \nQ 775 591 1075 516 \nQ 1375 441 1709 441 \nQ 2250 441 2565 725 \nQ 2881 1009 2881 1497 \nQ 2881 1984 2565 2268 \nQ 2250 2553 1709 2553 \nQ 1456 2553 1204 2497 \nQ 953 2441 691 2322 \nL 691 4666 \nz\n\" transform=\"scale(0.015625)\"/>\n       </defs>\n       <use xlink:href=\"#DejaVuSans-35\"/>\n      </g>\n     </g>\n    </g>\n    <g id=\"xtick_3\">\n     <g id=\"line2d_3\">\n      <g>\n       <use xlink:href=\"#m554e6b952e\" x=\"126.717\" y=\"273.312\" style=\"stroke: #000000; stroke-width: 0.8\"/>\n      </g>\n     </g>\n     <g id=\"text_3\">\n      <!-- 10 -->\n      <g transform=\"translate(120.3545 287.910437) scale(0.1 -0.1)\">\n       <defs>\n        <path id=\"DejaVuSans-31\" d=\"M 794 531 \nL 1825 531 \nL 1825 4091 \nL 703 3866 \nL 703 4441 \nL 1819 4666 \nL 2450 4666 \nL 2450 531 \nL 3481 531 \nL 3481 0 \nL 794 0 \nL 794 531 \nz\n\" transform=\"scale(0.015625)\"/>\n       </defs>\n       <use xlink:href=\"#DejaVuSans-31\"/>\n       <use xlink:href=\"#DejaVuSans-30\" x=\"63.623047\"/>\n      </g>\n     </g>\n    </g>\n    <g id=\"xtick_4\">\n     <g id=\"line2d_4\">\n      <g>\n       <use xlink:href=\"#m554e6b952e\" x=\"174.237\" y=\"273.312\" style=\"stroke: #000000; stroke-width: 0.8\"/>\n      </g>\n     </g>\n     <g id=\"text_4\">\n      <!-- 15 -->\n      <g transform=\"translate(167.8745 287.910437) scale(0.1 -0.1)\">\n       <use xlink:href=\"#DejaVuSans-31\"/>\n       <use xlink:href=\"#DejaVuSans-35\" x=\"63.623047\"/>\n      </g>\n     </g>\n    </g>\n    <g id=\"xtick_5\">\n     <g id=\"line2d_5\">\n      <g>\n       <use xlink:href=\"#m554e6b952e\" x=\"221.757\" y=\"273.312\" style=\"stroke: #000000; stroke-width: 0.8\"/>\n      </g>\n     </g>\n     <g id=\"text_5\">\n      <!-- 20 -->\n      <g transform=\"translate(215.3945 287.910437) scale(0.1 -0.1)\">\n       <defs>\n        <path id=\"DejaVuSans-32\" d=\"M 1228 531 \nL 3431 531 \nL 3431 0 \nL 469 0 \nL 469 531 \nQ 828 903 1448 1529 \nQ 2069 2156 2228 2338 \nQ 2531 2678 2651 2914 \nQ 2772 3150 2772 3378 \nQ 2772 3750 2511 3984 \nQ 2250 4219 1831 4219 \nQ 1534 4219 1204 4116 \nQ 875 4013 500 3803 \nL 500 4441 \nQ 881 4594 1212 4672 \nQ 1544 4750 1819 4750 \nQ 2544 4750 2975 4387 \nQ 3406 4025 3406 3419 \nQ 3406 3131 3298 2873 \nQ 3191 2616 2906 2266 \nQ 2828 2175 2409 1742 \nQ 1991 1309 1228 531 \nz\n\" transform=\"scale(0.015625)\"/>\n       </defs>\n       <use xlink:href=\"#DejaVuSans-32\"/>\n       <use xlink:href=\"#DejaVuSans-30\" x=\"63.623047\"/>\n      </g>\n     </g>\n    </g>\n    <g id=\"xtick_6\">\n     <g id=\"line2d_6\">\n      <g>\n       <use xlink:href=\"#m554e6b952e\" x=\"269.277\" y=\"273.312\" style=\"stroke: #000000; stroke-width: 0.8\"/>\n      </g>\n     </g>\n     <g id=\"text_6\">\n      <!-- 25 -->\n      <g transform=\"translate(262.9145 287.910437) scale(0.1 -0.1)\">\n       <use xlink:href=\"#DejaVuSans-32\"/>\n       <use xlink:href=\"#DejaVuSans-35\" x=\"63.623047\"/>\n      </g>\n     </g>\n    </g>\n   </g>\n   <g id=\"matplotlib.axis_2\">\n    <g id=\"ytick_1\">\n     <g id=\"line2d_7\">\n      <defs>\n       <path id=\"m1e230e56f7\" d=\"M 0 0 \nL -3.5 0 \n\" style=\"stroke: #000000; stroke-width: 0.8\"/>\n      </defs>\n      <g>\n       <use xlink:href=\"#m1e230e56f7\" x=\"26.925\" y=\"11.952\" style=\"stroke: #000000; stroke-width: 0.8\"/>\n      </g>\n     </g>\n     <g id=\"text_7\">\n      <!-- 0 -->\n      <g transform=\"translate(13.5625 15.751219) scale(0.1 -0.1)\">\n       <use xlink:href=\"#DejaVuSans-30\"/>\n      </g>\n     </g>\n    </g>\n    <g id=\"ytick_2\">\n     <g id=\"line2d_8\">\n      <g>\n       <use xlink:href=\"#m1e230e56f7\" x=\"26.925\" y=\"59.472\" style=\"stroke: #000000; stroke-width: 0.8\"/>\n      </g>\n     </g>\n     <g id=\"text_8\">\n      <!-- 5 -->\n      <g transform=\"translate(13.5625 63.271219) scale(0.1 -0.1)\">\n       <use xlink:href=\"#DejaVuSans-35\"/>\n      </g>\n     </g>\n    </g>\n    <g id=\"ytick_3\">\n     <g id=\"line2d_9\">\n      <g>\n       <use xlink:href=\"#m1e230e56f7\" x=\"26.925\" y=\"106.992\" style=\"stroke: #000000; stroke-width: 0.8\"/>\n      </g>\n     </g>\n     <g id=\"text_9\">\n      <!-- 10 -->\n      <g transform=\"translate(7.2 110.791219) scale(0.1 -0.1)\">\n       <use xlink:href=\"#DejaVuSans-31\"/>\n       <use xlink:href=\"#DejaVuSans-30\" x=\"63.623047\"/>\n      </g>\n     </g>\n    </g>\n    <g id=\"ytick_4\">\n     <g id=\"line2d_10\">\n      <g>\n       <use xlink:href=\"#m1e230e56f7\" x=\"26.925\" y=\"154.512\" style=\"stroke: #000000; stroke-width: 0.8\"/>\n      </g>\n     </g>\n     <g id=\"text_10\">\n      <!-- 15 -->\n      <g transform=\"translate(7.2 158.311219) scale(0.1 -0.1)\">\n       <use xlink:href=\"#DejaVuSans-31\"/>\n       <use xlink:href=\"#DejaVuSans-35\" x=\"63.623047\"/>\n      </g>\n     </g>\n    </g>\n    <g id=\"ytick_5\">\n     <g id=\"line2d_11\">\n      <g>\n       <use xlink:href=\"#m1e230e56f7\" x=\"26.925\" y=\"202.032\" style=\"stroke: #000000; stroke-width: 0.8\"/>\n      </g>\n     </g>\n     <g id=\"text_11\">\n      <!-- 20 -->\n      <g transform=\"translate(7.2 205.831219) scale(0.1 -0.1)\">\n       <use xlink:href=\"#DejaVuSans-32\"/>\n       <use xlink:href=\"#DejaVuSans-30\" x=\"63.623047\"/>\n      </g>\n     </g>\n    </g>\n    <g id=\"ytick_6\">\n     <g id=\"line2d_12\">\n      <g>\n       <use xlink:href=\"#m1e230e56f7\" x=\"26.925\" y=\"249.552\" style=\"stroke: #000000; stroke-width: 0.8\"/>\n      </g>\n     </g>\n     <g id=\"text_12\">\n      <!-- 25 -->\n      <g transform=\"translate(7.2 253.351219) scale(0.1 -0.1)\">\n       <use xlink:href=\"#DejaVuSans-32\"/>\n       <use xlink:href=\"#DejaVuSans-35\" x=\"63.623047\"/>\n      </g>\n     </g>\n    </g>\n   </g>\n   <g id=\"patch_3\">\n    <path d=\"M 26.925 273.312 \nL 26.925 7.2 \n\" style=\"fill: none; stroke: #000000; stroke-width: 0.8; stroke-linejoin: miter; stroke-linecap: square\"/>\n   </g>\n   <g id=\"patch_4\">\n    <path d=\"M 293.037 273.312 \nL 293.037 7.2 \n\" style=\"fill: none; stroke: #000000; stroke-width: 0.8; stroke-linejoin: miter; stroke-linecap: square\"/>\n   </g>\n   <g id=\"patch_5\">\n    <path d=\"M 26.925 273.312 \nL 293.037 273.312 \n\" style=\"fill: none; stroke: #000000; stroke-width: 0.8; stroke-linejoin: miter; stroke-linecap: square\"/>\n   </g>\n   <g id=\"patch_6\">\n    <path d=\"M 26.925 7.2 \nL 293.037 7.2 \n\" style=\"fill: none; stroke: #000000; stroke-width: 0.8; stroke-linejoin: miter; stroke-linecap: square\"/>\n   </g>\n  </g>\n </g>\n <defs>\n  <clipPath id=\"p7db7b5542b\">\n   <rect x=\"26.925\" y=\"7.2\" width=\"266.112\" height=\"266.112\"/>\n  </clipPath>\n </defs>\n</svg>\n"
          },
          "metadata": {}
        }
      ],
      "source": [
        "weights = model.state_dict()['weight']\n",
        "print('weights:', weights.shape)\n",
        "\n",
        "bias = model.state_dict()['bias']\n",
        "print('bias:   ', bias.shape)\n",
        "\n",
        "# Visualizando pesos da classe 3\n",
        "plt.imshow(weights[3, :].numpy().reshape((28,28)),cmap = 'gray')\n",
        "plt.show()"
      ]
    },
    {
      "cell_type": "markdown",
      "metadata": {
        "id": "eN6W4vnfOl3w"
      },
      "source": [
        "### Visualizando os pesos de todas as classes"
      ]
    },
    {
      "cell_type": "code",
      "execution_count": 21,
      "metadata": {
        "ExecuteTime": {
          "end_time": "2017-11-24T16:34:50.240218",
          "start_time": "2017-11-24T16:34:50.025515"
        },
        "colab": {
          "base_uri": "https://localhost:8080/",
          "height": 156
        },
        "id": "0Vz_WwiDOl3x",
        "outputId": "1b40ff47-ae15-49a0-a9bb-62f2b0858019"
      },
      "outputs": [
        {
          "output_type": "display_data",
          "data": {
            "text/plain": [
              "<Figure size 1500x1000 with 1 Axes>"
            ],
            "image/svg+xml": "<?xml version=\"1.0\" encoding=\"utf-8\" standalone=\"no\"?>\n<!DOCTYPE svg PUBLIC \"-//W3C//DTD SVG 1.1//EN\"\n  \"http://www.w3.org/Graphics/SVG/1.1/DTD/svg11.dtd\">\n<svg xmlns:xlink=\"http://www.w3.org/1999/xlink\" width=\"851.4pt\" height=\"100.68866pt\" viewBox=\"0 0 851.4 100.68866\" xmlns=\"http://www.w3.org/2000/svg\" version=\"1.1\">\n <metadata>\n  <rdf:RDF xmlns:dc=\"http://purl.org/dc/elements/1.1/\" xmlns:cc=\"http://creativecommons.org/ns#\" xmlns:rdf=\"http://www.w3.org/1999/02/22-rdf-syntax-ns#\">\n   <cc:Work>\n    <dc:type rdf:resource=\"http://purl.org/dc/dcmitype/StillImage\"/>\n    <dc:date>2024-11-20T21:08:47.443974</dc:date>\n    <dc:format>image/svg+xml</dc:format>\n    <dc:creator>\n     <cc:Agent>\n      <dc:title>Matplotlib v3.8.0, https://matplotlib.org/</dc:title>\n     </cc:Agent>\n    </dc:creator>\n   </cc:Work>\n  </rdf:RDF>\n </metadata>\n <defs>\n  <style type=\"text/css\">*{stroke-linejoin: round; stroke-linecap: butt}</style>\n </defs>\n <g id=\"figure_1\">\n  <g id=\"patch_1\">\n   <path d=\"M 0 100.68866 \nL 851.4 100.68866 \nL 851.4 0 \nL 0 0 \nz\n\" style=\"fill: #ffffff\"/>\n  </g>\n  <g id=\"axes_1\">\n   <g clip-path=\"url(#p94d205a061)\">\n    <image xlink:href=\"data:image/png;base64,\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\" id=\"image48744c03f1\" transform=\"scale(1 -1) translate(0 -86.4)\" x=\"7.2\" y=\"-7.08866\" width=\"837.36\" height=\"86.4\"/>\n   </g>\n  </g>\n </g>\n <defs>\n  <clipPath id=\"p94d205a061\">\n   <rect x=\"7.2\" y=\"7.2\" width=\"837\" height=\"86.28866\"/>\n  </clipPath>\n </defs>\n</svg>\n"
          },
          "metadata": {}
        }
      ],
      "source": [
        "# cria um grid com as imagens\n",
        "grid = torchvision.utils.make_grid(weights.view(-1, 1, 28, 28), normalize=True, pad_value=1.0, padding=1, nrow=10)\n",
        "\n",
        "plt.figure(figsize=(15, 10))\n",
        "plt.imshow(grid.numpy().transpose(1, 2, 0))\n",
        "plt.axis('off');"
      ]
    },
    {
      "cell_type": "markdown",
      "metadata": {
        "id": "IAwjpjUzOl3z"
      },
      "source": [
        "### Diagrama da regressão softmax com visualização dos pesos W"
      ]
    },
    {
      "cell_type": "markdown",
      "metadata": {
        "id": "Io0kz0bDOl31"
      },
      "source": [
        "![alt text](https://raw.githubusercontent.com/vcasadei/images/master/RegressaoSoftmaxArgmaxNMIST.png)"
      ]
    },
    {
      "cell_type": "markdown",
      "metadata": {
        "id": "KKKZDmIvOl31"
      },
      "source": [
        "# Atividades"
      ]
    },
    {
      "cell_type": "markdown",
      "metadata": {
        "id": "fMcK8rnnOl31"
      },
      "source": [
        "## Exercícios"
      ]
    },
    {
      "cell_type": "markdown",
      "metadata": {
        "id": "bcYvj-5dOl4I"
      },
      "source": [
        "- 1) Insira código no laço do treinamento para que no final de cada época,\n",
        "     seja impresso: o número da época e a perda e a acurácia"
      ]
    },
    {
      "cell_type": "code",
      "source": [
        "# Ver laço de treinamento implementado anteriormente"
      ],
      "metadata": {
        "id": "r1qFG3pPZ13Z"
      },
      "execution_count": 22,
      "outputs": []
    },
    {
      "cell_type": "markdown",
      "metadata": {
        "id": "0xttWrUbOl4J"
      },
      "source": [
        "- 2) Insira código no laço do treinamento para visualização dos valores dos gradientes referentes à classe do dígito 4, no final de cada época."
      ]
    },
    {
      "cell_type": "code",
      "source": [
        "# Ver laço de treinamento implementado anteriormente"
      ],
      "metadata": {
        "id": "hRbpVEsLZ3aI"
      },
      "execution_count": 23,
      "outputs": []
    },
    {
      "cell_type": "markdown",
      "source": [
        "<details>\n",
        "<summary>Mostrar Resultado</summary>\n",
        "\n",
        "```python\n",
        "losses = []\n",
        "import numpy\n",
        "\n",
        "import numpy\n",
        "zs = []\n",
        "\n",
        "for i in range(epochs):\n",
        "    # Transforma a entrada para uma dimensão\n",
        "    inputs = Variable(x_train.view(-1, 28 * 28))\n",
        "    # Predict da rede\n",
        "    outputs = model(inputs)\n",
        "    \n",
        "    # z0 a z9\n",
        "    zs.append(outputs[1].detach().numpy())\n",
        "\n",
        "    # calcula a perda\n",
        "    loss = criterion(outputs, Variable(y_train))\n",
        "\n",
        "    # zero, backpropagation, ajusta parâmetros pelo gradiente descendente\n",
        "    optimizer.zero_grad()\n",
        "    loss.backward()\n",
        "    optimizer.step()\n",
        "\n",
        "    losses.append(loss.item())\n",
        "    \n",
        "    _, predicts = torch.max(outputs, 1)\n",
        "    \n",
        "    y_pred = predicts.data\n",
        "    accuracy = (y_pred.numpy() == y_train.numpy()).mean()\n",
        "    \n",
        "    print('Epoch[{}/{}], loss: {:.6f}, acc: {:.6f}'\n",
        "              .format(i+1, epochs, loss.data, accuracy))\n",
        "    \n",
        "    weights = model.state_dict()['weight']\n",
        "    print('weights:', weights.shape)\n",
        "\n",
        "    bias = model.state_dict()['bias']\n",
        "    print('bias:   ', bias.shape)\n",
        "\n",
        "    # Visualizando pesos da classe 3\n",
        "    plt.imshow(weights[4, :].numpy().reshape((28,28)),cmap = 'gray')\n",
        "    plt.show()\n",
        "```\n",
        "\n",
        "</details>"
      ],
      "metadata": {
        "id": "28SnX4gHjeLj"
      }
    },
    {
      "cell_type": "markdown",
      "metadata": {
        "id": "yDhND6p3Ol4J"
      },
      "source": [
        "## Perguntas"
      ]
    },
    {
      "cell_type": "markdown",
      "metadata": {
        "id": "AXg8GBrsOl4L"
      },
      "source": [
        "1. Qual é o shape da matriz de entrada na rede?\n",
        "\n",
        "**R:** São 60 mil imagens de tamanho 28 x 28 pixels, ou seja: [60000, 28, 28]\n",
        "\n",
        "2. Qual é o shape da saída da rede?\n",
        "\n",
        "**R:** A saída é composta pelas probabilidades de cada uma das 10 classes possíveis (algarismos de 0 a 9) para cada uma das 60 mil amostras, ou seja: [60000, 10]\n",
        "\n",
        "3. Qual é o número total de parâmetros da rede, incluindo o bias?\n",
        "\n",
        "**R:** 28 x 28 + 10 = 794"
      ]
    },
    {
      "cell_type": "markdown",
      "metadata": {
        "id": "0aj1pg_ZOl4L"
      },
      "source": [
        "# Aprendizados\n"
      ]
    }
  ],
  "metadata": {
    "accelerator": "TPU",
    "colab": {
      "provenance": [],
      "gpuType": "V28"
    },
    "kernelspec": {
      "display_name": "Python 3.10.2 64-bit",
      "language": "python",
      "name": "python3"
    },
    "language_info": {
      "name": "python",
      "version": "3.10.2"
    },
    "vscode": {
      "interpreter": {
        "hash": "5fe3e6f0cdaab8afdc61c52912fda83f7c0a71baaea1897dd7498e2df01e69ec"
      }
    }
  },
  "nbformat": 4,
  "nbformat_minor": 0
}